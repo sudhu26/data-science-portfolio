{
 "cells": [
  {
   "cell_type": "markdown",
   "metadata": {},
   "source": [
    "__Assignment 9__\n",
    "\n",
    "1. [Import](#Import)\n",
    "1. [Assignment 9](#Assignment-9)\n",
    "    1. [Load-data](#Load-data)\n",
    "    1. [Build Naive Bayes model](#Build-Naive-Bayes-model)    \n",
    "    1. [Evaluate results](#Evaluate-results)"
   ]
  },
  {
   "cell_type": "markdown",
   "metadata": {},
   "source": [
    "# Import"
   ]
  },
  {
   "cell_type": "markdown",
   "metadata": {},
   "source": [
    "<a id = 'Import'></a>"
   ]
  },
  {
   "cell_type": "code",
   "execution_count": 2,
   "metadata": {
    "ExecuteTime": {
     "end_time": "2019-06-28T21:40:07.177312Z",
     "start_time": "2019-06-28T21:40:06.320192Z"
    }
   },
   "outputs": [
    {
     "data": {
      "text/html": [
       "<style>.container { width:95% !important; }</style>"
      ],
      "text/plain": [
       "<IPython.core.display.HTML object>"
      ]
     },
     "metadata": {},
     "output_type": "display_data"
    }
   ],
   "source": [
    "# standard libary and settings\n",
    "import warnings\n",
    "\n",
    "warnings.simplefilter(\"ignore\")\n",
    "from IPython.core.display import display, HTML\n",
    "\n",
    "display(HTML(\"<style>.container { width:95% !important; }</style>\"))\n",
    "\n",
    "# data extensions and settings\n",
    "import numpy as np\n",
    "\n",
    "np.set_printoptions(threshold=np.inf, suppress=True)\n",
    "import pandas as pd\n",
    "\n",
    "pd.set_option(\"display.max_rows\", 500)\n",
    "pd.options.display.float_format = \"{:,.6f}\".format\n",
    "\n",
    "# modeling extensions\n",
    "from sklearn.metrics import precision_score, recall_score, f1_score, explained_variance_score, mean_squared_log_error, mean_absolute_error, median_absolute_error, mean_squared_error, r2_score, confusion_matrix, roc_curve, accuracy_score, roc_auc_score, homogeneity_score, completeness_score, classification_report, silhouette_samples\n",
    "from sklearn.model_selection import KFold, train_test_split, GridSearchCV, StratifiedKFold, cross_val_score, RandomizedSearchCV\n",
    "from sklearn.naive_bayes import MultinomialNB"
   ]
  },
  {
   "cell_type": "markdown",
   "metadata": {},
   "source": [
    "# Assignment 9"
   ]
  },
  {
   "cell_type": "markdown",
   "metadata": {},
   "source": [
    "<a id = 'Assignment-9'></a>"
   ]
  },
  {
   "cell_type": "markdown",
   "metadata": {},
   "source": [
    "## Load data"
   ]
  },
  {
   "cell_type": "markdown",
   "metadata": {},
   "source": [
    "<a id = 'Load-data'></a>"
   ]
  },
  {
   "cell_type": "code",
   "execution_count": 3,
   "metadata": {
    "ExecuteTime": {
     "end_time": "2019-06-28T21:40:07.229404Z",
     "start_time": "2019-06-28T21:40:07.186586Z"
    }
   },
   "outputs": [
    {
     "name": "stdout",
     "output_type": "stream",
     "text": [
      "<class 'pandas.core.frame.DataFrame'>\n",
      "RangeIndex: 1473 entries, 0 to 1472\n",
      "Data columns (total 10 columns):\n",
      "WifeAge                1473 non-null int64\n",
      "WifeEdu                1473 non-null int64\n",
      "HusbandEdu             1473 non-null int64\n",
      "NumChildren            1473 non-null int64\n",
      "WifeReligion           1473 non-null int64\n",
      "WifeWorking            1473 non-null int64\n",
      "HusbandOccupation      1473 non-null int64\n",
      "StandardOfLiving       1473 non-null int64\n",
      "MediaExposure          1473 non-null int64\n",
      "ContraceptiveMethod    1473 non-null int64\n",
      "dtypes: int64(10)\n",
      "memory usage: 115.2 KB\n"
     ]
    },
    {
     "data": {
      "text/html": [
       "<div>\n",
       "<style scoped>\n",
       "    .dataframe tbody tr th:only-of-type {\n",
       "        vertical-align: middle;\n",
       "    }\n",
       "\n",
       "    .dataframe tbody tr th {\n",
       "        vertical-align: top;\n",
       "    }\n",
       "\n",
       "    .dataframe thead th {\n",
       "        text-align: right;\n",
       "    }\n",
       "</style>\n",
       "<table border=\"1\" class=\"dataframe\">\n",
       "  <thead>\n",
       "    <tr style=\"text-align: right;\">\n",
       "      <th></th>\n",
       "      <th>WifeAge</th>\n",
       "      <th>WifeEdu</th>\n",
       "      <th>HusbandEdu</th>\n",
       "      <th>NumChildren</th>\n",
       "      <th>WifeReligion</th>\n",
       "      <th>WifeWorking</th>\n",
       "      <th>HusbandOccupation</th>\n",
       "      <th>StandardOfLiving</th>\n",
       "      <th>MediaExposure</th>\n",
       "      <th>ContraceptiveMethod</th>\n",
       "    </tr>\n",
       "  </thead>\n",
       "  <tbody>\n",
       "    <tr>\n",
       "      <th>0</th>\n",
       "      <td>24</td>\n",
       "      <td>2</td>\n",
       "      <td>3</td>\n",
       "      <td>3</td>\n",
       "      <td>1</td>\n",
       "      <td>1</td>\n",
       "      <td>2</td>\n",
       "      <td>3</td>\n",
       "      <td>0</td>\n",
       "      <td>1</td>\n",
       "    </tr>\n",
       "    <tr>\n",
       "      <th>1</th>\n",
       "      <td>45</td>\n",
       "      <td>1</td>\n",
       "      <td>3</td>\n",
       "      <td>10</td>\n",
       "      <td>1</td>\n",
       "      <td>1</td>\n",
       "      <td>3</td>\n",
       "      <td>4</td>\n",
       "      <td>0</td>\n",
       "      <td>1</td>\n",
       "    </tr>\n",
       "    <tr>\n",
       "      <th>2</th>\n",
       "      <td>43</td>\n",
       "      <td>2</td>\n",
       "      <td>3</td>\n",
       "      <td>7</td>\n",
       "      <td>1</td>\n",
       "      <td>1</td>\n",
       "      <td>3</td>\n",
       "      <td>4</td>\n",
       "      <td>0</td>\n",
       "      <td>1</td>\n",
       "    </tr>\n",
       "    <tr>\n",
       "      <th>3</th>\n",
       "      <td>42</td>\n",
       "      <td>3</td>\n",
       "      <td>2</td>\n",
       "      <td>9</td>\n",
       "      <td>1</td>\n",
       "      <td>1</td>\n",
       "      <td>3</td>\n",
       "      <td>3</td>\n",
       "      <td>0</td>\n",
       "      <td>1</td>\n",
       "    </tr>\n",
       "    <tr>\n",
       "      <th>4</th>\n",
       "      <td>36</td>\n",
       "      <td>3</td>\n",
       "      <td>3</td>\n",
       "      <td>8</td>\n",
       "      <td>1</td>\n",
       "      <td>1</td>\n",
       "      <td>3</td>\n",
       "      <td>2</td>\n",
       "      <td>0</td>\n",
       "      <td>1</td>\n",
       "    </tr>\n",
       "  </tbody>\n",
       "</table>\n",
       "</div>"
      ],
      "text/plain": [
       "   WifeAge  WifeEdu  HusbandEdu  NumChildren  WifeReligion  WifeWorking  \\\n",
       "0       24        2           3            3             1            1   \n",
       "1       45        1           3           10             1            1   \n",
       "2       43        2           3            7             1            1   \n",
       "3       42        3           2            9             1            1   \n",
       "4       36        3           3            8             1            1   \n",
       "\n",
       "   HusbandOccupation  StandardOfLiving  MediaExposure  ContraceptiveMethod  \n",
       "0                  2                 3              0                    1  \n",
       "1                  3                 4              0                    1  \n",
       "2                  3                 4              0                    1  \n",
       "3                  3                 3              0                    1  \n",
       "4                  3                 2              0                    1  "
      ]
     },
     "metadata": {},
     "output_type": "display_data"
    }
   ],
   "source": [
    "# load and inspect data\n",
    "# df = pd.read_csv('https://archive.ics.uci.edu/ml/machine-learning-databases/cmc/cmc.data'\n",
    "df = pd.read_csv(\n",
    "    \"s3://tdp-ml-datasets/misc/cmc.data\",\n",
    "    sep=\",\",\n",
    "    names=[\n",
    "        \"WifeAge\",\n",
    "        \"WifeEdu\",\n",
    "        \"HusbandEdu\",\n",
    "        \"NumChildren\",\n",
    "        \"WifeReligion\",\n",
    "        \"WifeWorking\",\n",
    "        \"HusbandOccupation\",\n",
    "        \"StandardOfLiving\",\n",
    "        \"MediaExposure\",\n",
    "        \"ContraceptiveMethod\",\n",
    "    ],\n",
    ")\n",
    "df.info()\n",
    "display(df[:5])"
   ]
  },
  {
   "cell_type": "code",
   "execution_count": 4,
   "metadata": {
    "ExecuteTime": {
     "end_time": "2019-06-28T21:40:07.243473Z",
     "start_time": "2019-06-28T21:40:07.236482Z"
    }
   },
   "outputs": [
    {
     "data": {
      "text/plain": [
       "array([1, 2, 3])"
      ]
     },
     "execution_count": 4,
     "metadata": {},
     "output_type": "execute_result"
    }
   ],
   "source": [
    "# print unique class labels\n",
    "df[\"ContraceptiveMethod\"].unique()"
   ]
  },
  {
   "cell_type": "markdown",
   "metadata": {},
   "source": [
    "> Remarks - This dataset has a three-level object response variable"
   ]
  },
  {
   "cell_type": "code",
   "execution_count": 5,
   "metadata": {
    "ExecuteTime": {
     "end_time": "2019-06-28T21:40:07.267340Z",
     "start_time": "2019-06-28T21:40:07.254625Z"
    }
   },
   "outputs": [],
   "source": [
    "# train/test split\n",
    "X = df.iloc[:, :-1].values\n",
    "y = df.iloc[:, -1].values\n",
    "\n",
    "X_train, X_test, y_train, y_test = train_test_split(\n",
    "    X, y, test_size=0.2, random_state=1, stratify=y\n",
    ")"
   ]
  },
  {
   "cell_type": "markdown",
   "metadata": {},
   "source": [
    "## Build Naive Bayes model"
   ]
  },
  {
   "cell_type": "markdown",
   "metadata": {},
   "source": [
    "<a id = 'Naive-Bayes-model'></a>"
   ]
  },
  {
   "cell_type": "code",
   "execution_count": 6,
   "metadata": {
    "ExecuteTime": {
     "end_time": "2019-06-28T21:40:07.305146Z",
     "start_time": "2019-06-28T21:40:07.276824Z"
    }
   },
   "outputs": [
    {
     "name": "stdout",
     "output_type": "stream",
     "text": [
      "CV accuracy on training data: 0.493 +/- 0.027\n"
     ]
    }
   ],
   "source": [
    "# perform cross validation\n",
    "model = MultinomialNB()\n",
    "scores = cross_val_score(\n",
    "    model, X_train, y_train, scoring=\"accuracy\", cv=10\n",
    ")\n",
    "print(\n",
    "    \"CV accuracy on training data: {:.3f} +/- {:.3f}\".format(\n",
    "        np.mean(scores), np.std(scores)\n",
    "    )\n",
    ")"
   ]
  },
  {
   "cell_type": "code",
   "execution_count": 7,
   "metadata": {
    "ExecuteTime": {
     "end_time": "2019-06-28T21:40:07.316470Z",
     "start_time": "2019-06-28T21:40:07.310440Z"
    }
   },
   "outputs": [
    {
     "name": "stdout",
     "output_type": "stream",
     "text": [
      "All scores: [0.51260504 0.53781513 0.51260504 0.46610169 0.44915254 0.49152542\n",
      " 0.46153846 0.4957265  0.52136752 0.48275862]\n"
     ]
    }
   ],
   "source": [
    "# print all scores\n",
    "print(\"All scores: {}\".format(scores))"
   ]
  },
  {
   "cell_type": "markdown",
   "metadata": {},
   "source": [
    "> Remarks - The average score of the cross validation was 0.49 with a narrow standard deviation of 0.027."
   ]
  },
  {
   "cell_type": "markdown",
   "metadata": {},
   "source": [
    "# Evaluate results"
   ]
  },
  {
   "cell_type": "markdown",
   "metadata": {},
   "source": [
    "<a id = 'Evaluate-results'></a>"
   ]
  },
  {
   "cell_type": "code",
   "execution_count": 8,
   "metadata": {
    "ExecuteTime": {
     "end_time": "2019-06-28T21:40:07.330847Z",
     "start_time": "2019-06-28T21:40:07.319110Z"
    }
   },
   "outputs": [
    {
     "name": "stdout",
     "output_type": "stream",
     "text": [
      "Accuracy: 0.512\n"
     ]
    }
   ],
   "source": [
    "# determine accuracy of model when used on test set\n",
    "model = MultinomialNB()\n",
    "model.fit(X_train, y_train)\n",
    "y_pred = model.predict(X_test)\n",
    "\n",
    "print(\"Accuracy: {:.3f}\".format(accuracy_score(y_true=y_test, y_pred=y_pred)))"
   ]
  },
  {
   "cell_type": "markdown",
   "metadata": {},
   "source": [
    "> Remarks - The model performed slightly better on the unseen test data, but the accuracy is still very close to only 50%. This could be due to inter-dependencies among features in the dataset chosen. This dataset presents a classifcation problem with three different categories describing what type, if any, of contraception is used by a husband and wife. The features pertain to characteristics about the husband and wife, such as the education level of each, their standard of living, number of children. It could be the case that higher educated men marry higher educated women, and higher educated people possess a higher standard of living, and have more/fewer children than less educated people. These are just a few types of inter-dependencies that could exist in this data set that prevent Naive Bayes from being more accurate."
   ]
  }
 ],
 "metadata": {
  "kernelspec": {
   "display_name": "Python 3",
   "language": "python",
   "name": "python3"
  },
  "language_info": {
   "codemirror_mode": {
    "name": "ipython",
    "version": 3
   },
   "file_extension": ".py",
   "mimetype": "text/x-python",
   "name": "python",
   "nbconvert_exporter": "python",
   "pygments_lexer": "ipython3",
   "version": "3.6.8"
  },
  "toc": {
   "base_numbering": 1,
   "nav_menu": {},
   "number_sections": true,
   "sideBar": true,
   "skip_h1_title": false,
   "title_cell": "Table of Contents",
   "title_sidebar": "Contents",
   "toc_cell": false,
   "toc_position": {},
   "toc_section_display": true,
   "toc_window_display": false
  }
 },
 "nbformat": 4,
 "nbformat_minor": 2
}
