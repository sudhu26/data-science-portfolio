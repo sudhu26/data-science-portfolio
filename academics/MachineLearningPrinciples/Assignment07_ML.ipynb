{
 "cells": [
  {
   "cell_type": "markdown",
   "metadata": {},
   "source": [
    "__Assignment 7__\n",
    "\n",
    "1. [Import](#Import)\n",
    "1. [Assignment 7](#Assignment-7)\n",
    "    1. [Load data](#load-data)\n",
    "    1. [Train default model](#Train-default-model)    \n",
    "    1. [Optimize model parameters](#Optimize-model-parameters)    \n",
    "    1. [Optimize model parameters on test set only (do not do this)](#Optimize-model-parameters-on-test-set-only-(do-not-do-this))    "
   ]
  },
  {
   "cell_type": "markdown",
   "metadata": {},
   "source": [
    "# Import"
   ]
  },
  {
   "cell_type": "markdown",
   "metadata": {},
   "source": [
    "<a id = 'Import'></a>"
   ]
  },
  {
   "cell_type": "code",
   "execution_count": 6,
   "metadata": {
    "ExecuteTime": {
     "end_time": "2019-06-28T21:43:35.265332Z",
     "start_time": "2019-06-28T21:43:35.251716Z"
    }
   },
   "outputs": [],
   "source": [
    "# standard libary and settings\n",
    "import os\n",
    "import sys\n",
    "import warnings\n",
    "\n",
    "warnings.simplefilter(\"ignore\")\n",
    "\n",
    "# data extensions and settings\n",
    "import numpy as np\n",
    "\n",
    "np.set_printoptions(threshold=np.inf, suppress=True)\n",
    "import pandas as pd\n",
    "\n",
    "pd.set_option(\"display.max_rows\", 500)\n",
    "pd.options.display.float_format = \"{:,.6f}\".format\n",
    "\n",
    "# modeling extensions\n",
    "from sklearn.metrics import precision_score, recall_score, f1_score, explained_variance_score, mean_squared_log_error, mean_absolute_error, median_absolute_error, mean_squared_error, r2_score, confusion_matrix, roc_curve, accuracy_score, roc_auc_score, homogeneity_score, completeness_score, classification_report, silhouette_samples\n",
    "from sklearn.model_selection import KFold, train_test_split, GridSearchCV, StratifiedKFold, cross_val_score, RandomizedSearchCV\n",
    "from sklearn.pipeline import make_pipeline, Pipeline, FeatureUnion\n",
    "from sklearn.preprocessing import StandardScaler, RobustScaler, PolynomialFeatures, OrdinalEncoder, LabelEncoder, OneHotEncoder, KBinsDiscretizer, QuantileTransformer, PowerTransformer, MinMaxScaler\n",
    "from sklearn.svm import SVC, SVR"
   ]
  },
  {
   "cell_type": "markdown",
   "metadata": {},
   "source": [
    "# Assignment 7\n",
    "\n",
    "Assignment Content:\n",
    "\n",
    "1. Implement an SVM classifier using Jupyter Notebook and Python as well as the sklearn package using any dataset of your choosing \n",
    "2. Implement cross-validation and train your classifier on the training data, then test the results on the test data. \n",
    "3. Tweak the kernel functions and regularization parameters as to perform well both on the training and test data. \n",
    "4. Finally, tweak the kernel functions and regularization parameters as to perform the best on the test data (meaning find the optimal test accuracy, not caring too much about the training accuracy). Report on your findings, printing them out to the console in Jupyter Notebook.\n"
   ]
  },
  {
   "cell_type": "markdown",
   "metadata": {},
   "source": [
    "<a id = 'Assignment-7'></a>"
   ]
  },
  {
   "cell_type": "markdown",
   "metadata": {},
   "source": [
    "## Load data"
   ]
  },
  {
   "cell_type": "markdown",
   "metadata": {},
   "source": [
    "<a id = 'load-data'></a>"
   ]
  },
  {
   "cell_type": "code",
   "execution_count": 7,
   "metadata": {
    "ExecuteTime": {
     "end_time": "2019-06-28T21:43:35.337824Z",
     "start_time": "2019-06-28T21:43:35.267683Z"
    }
   },
   "outputs": [
    {
     "data": {
      "text/html": [
       "<div>\n",
       "<style scoped>\n",
       "    .dataframe tbody tr th:only-of-type {\n",
       "        vertical-align: middle;\n",
       "    }\n",
       "\n",
       "    .dataframe tbody tr th {\n",
       "        vertical-align: top;\n",
       "    }\n",
       "\n",
       "    .dataframe thead th {\n",
       "        text-align: right;\n",
       "    }\n",
       "</style>\n",
       "<table border=\"1\" class=\"dataframe\">\n",
       "  <thead>\n",
       "    <tr style=\"text-align: right;\">\n",
       "      <th></th>\n",
       "      <th>Class label</th>\n",
       "      <th>Alcohol</th>\n",
       "      <th>Malic acid</th>\n",
       "      <th>Ash</th>\n",
       "      <th>Alcalinity of ash</th>\n",
       "      <th>Magnesium</th>\n",
       "      <th>Total phenols</th>\n",
       "      <th>Flavanoids</th>\n",
       "      <th>Nonflavanoid phenols</th>\n",
       "      <th>Proanthocyanins</th>\n",
       "      <th>Color intensity</th>\n",
       "      <th>Hue</th>\n",
       "      <th>OD280/OD315 of diluted wines</th>\n",
       "      <th>Proline</th>\n",
       "    </tr>\n",
       "  </thead>\n",
       "  <tbody>\n",
       "    <tr>\n",
       "      <th>0</th>\n",
       "      <td>1</td>\n",
       "      <td>14.230000</td>\n",
       "      <td>1.710000</td>\n",
       "      <td>2.430000</td>\n",
       "      <td>15.600000</td>\n",
       "      <td>127</td>\n",
       "      <td>2.800000</td>\n",
       "      <td>3.060000</td>\n",
       "      <td>0.280000</td>\n",
       "      <td>2.290000</td>\n",
       "      <td>5.640000</td>\n",
       "      <td>1.040000</td>\n",
       "      <td>3.920000</td>\n",
       "      <td>1065</td>\n",
       "    </tr>\n",
       "    <tr>\n",
       "      <th>1</th>\n",
       "      <td>1</td>\n",
       "      <td>13.200000</td>\n",
       "      <td>1.780000</td>\n",
       "      <td>2.140000</td>\n",
       "      <td>11.200000</td>\n",
       "      <td>100</td>\n",
       "      <td>2.650000</td>\n",
       "      <td>2.760000</td>\n",
       "      <td>0.260000</td>\n",
       "      <td>1.280000</td>\n",
       "      <td>4.380000</td>\n",
       "      <td>1.050000</td>\n",
       "      <td>3.400000</td>\n",
       "      <td>1050</td>\n",
       "    </tr>\n",
       "    <tr>\n",
       "      <th>2</th>\n",
       "      <td>1</td>\n",
       "      <td>13.160000</td>\n",
       "      <td>2.360000</td>\n",
       "      <td>2.670000</td>\n",
       "      <td>18.600000</td>\n",
       "      <td>101</td>\n",
       "      <td>2.800000</td>\n",
       "      <td>3.240000</td>\n",
       "      <td>0.300000</td>\n",
       "      <td>2.810000</td>\n",
       "      <td>5.680000</td>\n",
       "      <td>1.030000</td>\n",
       "      <td>3.170000</td>\n",
       "      <td>1185</td>\n",
       "    </tr>\n",
       "    <tr>\n",
       "      <th>3</th>\n",
       "      <td>1</td>\n",
       "      <td>14.370000</td>\n",
       "      <td>1.950000</td>\n",
       "      <td>2.500000</td>\n",
       "      <td>16.800000</td>\n",
       "      <td>113</td>\n",
       "      <td>3.850000</td>\n",
       "      <td>3.490000</td>\n",
       "      <td>0.240000</td>\n",
       "      <td>2.180000</td>\n",
       "      <td>7.800000</td>\n",
       "      <td>0.860000</td>\n",
       "      <td>3.450000</td>\n",
       "      <td>1480</td>\n",
       "    </tr>\n",
       "    <tr>\n",
       "      <th>4</th>\n",
       "      <td>1</td>\n",
       "      <td>13.240000</td>\n",
       "      <td>2.590000</td>\n",
       "      <td>2.870000</td>\n",
       "      <td>21.000000</td>\n",
       "      <td>118</td>\n",
       "      <td>2.800000</td>\n",
       "      <td>2.690000</td>\n",
       "      <td>0.390000</td>\n",
       "      <td>1.820000</td>\n",
       "      <td>4.320000</td>\n",
       "      <td>1.040000</td>\n",
       "      <td>2.930000</td>\n",
       "      <td>735</td>\n",
       "    </tr>\n",
       "  </tbody>\n",
       "</table>\n",
       "</div>"
      ],
      "text/plain": [
       "   Class label   Alcohol  Malic acid      Ash  Alcalinity of ash  Magnesium  \\\n",
       "0            1 14.230000    1.710000 2.430000          15.600000        127   \n",
       "1            1 13.200000    1.780000 2.140000          11.200000        100   \n",
       "2            1 13.160000    2.360000 2.670000          18.600000        101   \n",
       "3            1 14.370000    1.950000 2.500000          16.800000        113   \n",
       "4            1 13.240000    2.590000 2.870000          21.000000        118   \n",
       "\n",
       "   Total phenols  Flavanoids  Nonflavanoid phenols  Proanthocyanins  \\\n",
       "0       2.800000    3.060000              0.280000         2.290000   \n",
       "1       2.650000    2.760000              0.260000         1.280000   \n",
       "2       2.800000    3.240000              0.300000         2.810000   \n",
       "3       3.850000    3.490000              0.240000         2.180000   \n",
       "4       2.800000    2.690000              0.390000         1.820000   \n",
       "\n",
       "   Color intensity      Hue  OD280/OD315 of diluted wines  Proline  \n",
       "0         5.640000 1.040000                      3.920000     1065  \n",
       "1         4.380000 1.050000                      3.400000     1050  \n",
       "2         5.680000 1.030000                      3.170000     1185  \n",
       "3         7.800000 0.860000                      3.450000     1480  \n",
       "4         4.320000 1.040000                      2.930000      735  "
      ]
     },
     "execution_count": 7,
     "metadata": {},
     "output_type": "execute_result"
    }
   ],
   "source": [
    "# load and inspect data\n",
    "df_wine = pd.read_csv(\"s3://tdp-ml-datasets/misc/wine.data\", header=None)\n",
    "\n",
    "df_wine.columns = [\n",
    "    \"Class label\",\n",
    "    \"Alcohol\",\n",
    "    \"Malic acid\",\n",
    "    \"Ash\",\n",
    "    \"Alcalinity of ash\",\n",
    "    \"Magnesium\",\n",
    "    \"Total phenols\",\n",
    "    \"Flavanoids\",\n",
    "    \"Nonflavanoid phenols\",\n",
    "    \"Proanthocyanins\",\n",
    "    \"Color intensity\",\n",
    "    \"Hue\",\n",
    "    \"OD280/OD315 of diluted wines\",\n",
    "    \"Proline\",\n",
    "]\n",
    "df_wine[:5]"
   ]
  },
  {
   "cell_type": "code",
   "execution_count": 8,
   "metadata": {
    "ExecuteTime": {
     "end_time": "2019-06-28T21:43:35.352969Z",
     "start_time": "2019-06-28T21:43:35.344286Z"
    }
   },
   "outputs": [
    {
     "data": {
      "text/plain": [
       "(array([1, 2, 3]), array([59, 71, 48]))"
      ]
     },
     "execution_count": 8,
     "metadata": {},
     "output_type": "execute_result"
    }
   ],
   "source": [
    "# return counts for each class label\n",
    "np.unique(df_wine[\"Class label\"].values, return_counts=True)"
   ]
  },
  {
   "cell_type": "code",
   "execution_count": 9,
   "metadata": {
    "ExecuteTime": {
     "end_time": "2019-06-28T21:43:35.371477Z",
     "start_time": "2019-06-28T21:43:35.360700Z"
    }
   },
   "outputs": [],
   "source": [
    "# drop class 1 so that we have a binary classification problem\n",
    "df_wine = df_wine[df_wine[\"Class label\"] != 1]"
   ]
  },
  {
   "cell_type": "code",
   "execution_count": 10,
   "metadata": {
    "ExecuteTime": {
     "end_time": "2019-06-28T21:43:35.390708Z",
     "start_time": "2019-06-28T21:43:35.374753Z"
    }
   },
   "outputs": [],
   "source": [
    "# split labels and features\n",
    "y = df_wine[\"Class label\"].values\n",
    "X = df_wine.iloc[:, 1:].values\n",
    "\n",
    "# encode labels\n",
    "le = LabelEncoder()\n",
    "y = le.fit_transform(y)\n",
    "\n",
    "# split into train/test set\n",
    "X_train, X_test, y_train, y_test = train_test_split(\n",
    "    X, y, test_size=0.5, random_state=1, stratify=y\n",
    ")"
   ]
  },
  {
   "cell_type": "markdown",
   "metadata": {},
   "source": [
    "## Train default model"
   ]
  },
  {
   "cell_type": "markdown",
   "metadata": {},
   "source": [
    "<a id = 'Train-default-model'></a>"
   ]
  },
  {
   "cell_type": "code",
   "execution_count": 11,
   "metadata": {
    "ExecuteTime": {
     "end_time": "2019-06-28T21:43:35.439796Z",
     "start_time": "2019-06-28T21:43:35.399748Z"
    }
   },
   "outputs": [
    {
     "name": "stdout",
     "output_type": "stream",
     "text": [
      "CV accuracy on training data: 0.980 +/- 0.060\n"
     ]
    }
   ],
   "source": [
    "# cross validation on training data\n",
    "pipe = make_pipeline(StandardScaler(), SVC(random_state=10))\n",
    "scores = cross_val_score(\n",
    "    pipe, X_train, y_train, scoring=\"accuracy\", cv=10\n",
    ")\n",
    "print(\n",
    "    \"CV accuracy on training data: {:.3f} +/- {:.3f}\".format(\n",
    "        np.mean(scores), np.std(scores)\n",
    "    )\n",
    ")"
   ]
  },
  {
   "cell_type": "code",
   "execution_count": 12,
   "metadata": {
    "ExecuteTime": {
     "end_time": "2019-06-28T21:43:35.464423Z",
     "start_time": "2019-06-28T21:43:35.445992Z"
    }
   },
   "outputs": [
    {
     "name": "stdout",
     "output_type": "stream",
     "text": [
      "Accuracy: 0.983\n"
     ]
    }
   ],
   "source": [
    "# fit best model, create predictions and review accuracy\n",
    "model = pipe.fit(X_train, y_train)\n",
    "y_preds_test = model.predict(X_test)\n",
    "print(\n",
    "    \"Accuracy: {:.3f}\".format(accuracy_score(y_true=y_test, y_pred=y_preds_test))\n",
    ")"
   ]
  },
  {
   "cell_type": "markdown",
   "metadata": {},
   "source": [
    "> Remarks - The default SVC algorithm uses a C of 1.0 and an RBF kernel."
   ]
  },
  {
   "cell_type": "markdown",
   "metadata": {},
   "source": [
    "## Optimize model parameters"
   ]
  },
  {
   "cell_type": "markdown",
   "metadata": {},
   "source": [
    "<a id = 'Optimize-model-parameters'></a>"
   ]
  },
  {
   "cell_type": "code",
   "execution_count": 13,
   "metadata": {
    "ExecuteTime": {
     "end_time": "2019-06-28T21:43:37.747933Z",
     "start_time": "2019-06-28T21:43:35.472208Z"
    }
   },
   "outputs": [
    {
     "name": "stdout",
     "output_type": "stream",
     "text": [
      "0.9830508474576272\n",
      "{'svc__C': 0.01, 'svc__kernel': 'linear'}\n"
     ]
    }
   ],
   "source": [
    "# use GridSearchCV to perform CV over several different combination of parameters\n",
    "pipe = make_pipeline(StandardScaler(), SVC(random_state=1))\n",
    "param_range = [0.000001, 0.00001, 0.0001, 0.001, 0.01, 0.1, 1.0, 10.0, 100.0, 1000.0]\n",
    "param_grid = [\n",
    "    {\"svc__C\": param_range, \"svc__kernel\": [\"linear\"]},\n",
    "    {\"svc__C\": param_range, \"svc__gamma\": param_range, \"svc__kernel\": [\"rbf\"]},\n",
    "]\n",
    "gs = GridSearchCV(\n",
    "    estimator=pipe, param_grid=param_grid, scoring=\"accuracy\", cv=10, n_jobs=-1\n",
    ")\n",
    "gs = gs.fit(X_train, y_train)\n",
    "print(gs.best_score_)\n",
    "print(gs.best_params_)"
   ]
  },
  {
   "cell_type": "code",
   "execution_count": 14,
   "metadata": {
    "ExecuteTime": {
     "end_time": "2019-06-28T21:43:40.037141Z",
     "start_time": "2019-06-28T21:43:37.752253Z"
    }
   },
   "outputs": [
    {
     "name": "stdout",
     "output_type": "stream",
     "text": [
      "Accuracy: 0.983\n"
     ]
    }
   ],
   "source": [
    "# fit best model, create predictions and review accuracy\n",
    "model = gs.fit(X_train, y_train)\n",
    "y_preds_test = model.predict(X_test)\n",
    "print(\n",
    "    \"Accuracy: {:.3f}\".format(accuracy_score(y_true=y_test, y_pred=y_preds_test))\n",
    ")"
   ]
  },
  {
   "cell_type": "markdown",
   "metadata": {},
   "source": [
    "> Remarks - GridSearchCV performs slightly better on the training data and similarly on the test data compared to the default SVC algorithm but instead chooses a C of 0.01 and a linear kernel. Between the two models, this would be the better choice as it is the simpler model of the two."
   ]
  },
  {
   "cell_type": "markdown",
   "metadata": {},
   "source": [
    "## Optimize model parameters on test set only (do not do this)"
   ]
  },
  {
   "cell_type": "markdown",
   "metadata": {},
   "source": [
    "<a id = 'Optimize-model-parameters-test-set-only-(do-not-do-this)'></a>"
   ]
  },
  {
   "cell_type": "code",
   "execution_count": 15,
   "metadata": {
    "ExecuteTime": {
     "end_time": "2019-06-28T21:43:42.394012Z",
     "start_time": "2019-06-28T21:43:40.046322Z"
    }
   },
   "outputs": [
    {
     "name": "stdout",
     "output_type": "stream",
     "text": [
      "1.0\n",
      "{'svc__C': 10.0, 'svc__gamma': 0.01, 'svc__kernel': 'rbf'}\n"
     ]
    }
   ],
   "source": [
    "# use GridSearchCV to perform CV over several different combination of parameters\n",
    "pipe = make_pipeline(StandardScaler(), SVC(random_state=1))\n",
    "param_range = [0.000001, 0.00001, 0.0001, 0.001, 0.01, 0.1, 1.0, 10.0, 100.0, 1000.0]\n",
    "param_grid = [\n",
    "    {\"svc__C\": param_range, \"svc__kernel\": [\"linear\"]},\n",
    "    {\"svc__C\": param_range, \"svc__gamma\": param_range, \"svc__kernel\": [\"rbf\"]},\n",
    "]\n",
    "gs = GridSearchCV(\n",
    "    estimator=pipe, param_grid=param_grid, scoring=\"accuracy\", cv=10, n_jobs=-1\n",
    ")\n",
    "gs = gs.fit(X_test, y_test)\n",
    "print(gs.best_score_)\n",
    "print(gs.best_params_)"
   ]
  },
  {
   "cell_type": "markdown",
   "metadata": {},
   "source": [
    "> Remarks - On the test set, GridSearchCV chose a very different model than it did for the training set. In this case, the ideal parameters were C = 10.0, gamma = 0.01 and an RBF kernel."
   ]
  }
 ],
 "metadata": {
  "kernelspec": {
   "display_name": "Python 3",
   "language": "python",
   "name": "python3"
  },
  "language_info": {
   "codemirror_mode": {
    "name": "ipython",
    "version": 3
   },
   "file_extension": ".py",
   "mimetype": "text/x-python",
   "name": "python",
   "nbconvert_exporter": "python",
   "pygments_lexer": "ipython3",
   "version": "3.6.8"
  },
  "toc": {
   "base_numbering": 1,
   "nav_menu": {},
   "number_sections": true,
   "sideBar": true,
   "skip_h1_title": false,
   "title_cell": "Table of Contents",
   "title_sidebar": "Contents",
   "toc_cell": false,
   "toc_position": {},
   "toc_section_display": true,
   "toc_window_display": false
  }
 },
 "nbformat": 4,
 "nbformat_minor": 2
}
