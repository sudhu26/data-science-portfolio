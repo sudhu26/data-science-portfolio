{
 "cells": [
  {
   "cell_type": "markdown",
   "metadata": {},
   "source": [
    "__Assignment 10__\n",
    "\n",
    "1. [Import](#Import)\n",
    "1. [Assignment 10](#Assignment-10)\n",
    "    1. [Load data](#Load-data)\n",
    "    1. [Linear regression](#Linear-regression)    \n",
    "    1. [Logistic regression](#logistic-regression)"
   ]
  },
  {
   "cell_type": "markdown",
   "metadata": {},
   "source": [
    "# Import"
   ]
  },
  {
   "cell_type": "markdown",
   "metadata": {},
   "source": [
    "<a id = 'Import'></a>"
   ]
  },
  {
   "cell_type": "code",
   "execution_count": 2,
   "metadata": {
    "ExecuteTime": {
     "end_time": "2019-06-28T21:41:07.462349Z",
     "start_time": "2019-06-28T21:41:06.801088Z"
    }
   },
   "outputs": [
    {
     "data": {
      "text/html": [
       "<style>.container { width:95% !important; }</style>"
      ],
      "text/plain": [
       "<IPython.core.display.HTML object>"
      ]
     },
     "metadata": {},
     "output_type": "display_data"
    }
   ],
   "source": [
    "# standard libary and settings\n",
    "import warnings\n",
    "\n",
    "warnings.simplefilter(\"ignore\")\n",
    "from IPython.core.display import display, HTML\n",
    "\n",
    "display(HTML(\"<style>.container { width:95% !important; }</style>\"))\n",
    "\n",
    "# data extensions and settings\n",
    "import numpy as np\n",
    "\n",
    "np.set_printoptions(threshold=np.inf, suppress=True)\n",
    "import pandas as pd\n",
    "\n",
    "pd.set_option(\"display.max_rows\", 500)\n",
    "pd.options.display.float_format = \"{:,.6f}\".format\n",
    "\n",
    "# modeling extensions\n",
    "import sklearn.metrics as metrics\n",
    "import sklearn.model_selection as model_selection\n",
    "import sklearn.linear_model as linear_model\n",
    "import sklearn.pipeline as pipeline\n",
    "import sklearn.preprocessing as preprocessing"
   ]
  },
  {
   "cell_type": "markdown",
   "metadata": {},
   "source": [
    "# Assignment 10"
   ]
  },
  {
   "cell_type": "markdown",
   "metadata": {},
   "source": [
    "<a id = 'Assignment-10'></a>"
   ]
  },
  {
   "cell_type": "markdown",
   "metadata": {},
   "source": [
    "## Load data"
   ]
  },
  {
   "cell_type": "markdown",
   "metadata": {},
   "source": [
    "<a id = 'load-data'></a>"
   ]
  },
  {
   "cell_type": "code",
   "execution_count": 3,
   "metadata": {
    "ExecuteTime": {
     "end_time": "2019-06-28T21:41:07.585286Z",
     "start_time": "2019-06-28T21:41:07.471639Z"
    }
   },
   "outputs": [
    {
     "name": "stdout",
     "output_type": "stream",
     "text": [
      "<class 'pandas.core.frame.DataFrame'>\n",
      "RangeIndex: 958 entries, 0 to 957\n",
      "Data columns (total 10 columns):\n",
      "top-left-square         958 non-null int8\n",
      "top-middle-square       958 non-null int8\n",
      "top-right-square        958 non-null int8\n",
      "middle-left-square      958 non-null int8\n",
      "middle-middle-square    958 non-null int8\n",
      "middle-right-square     958 non-null int8\n",
      "bottom-left-square      958 non-null int8\n",
      "bottom-middle-square    958 non-null int8\n",
      "bottom-right-square     958 non-null int8\n",
      "class                   958 non-null int8\n",
      "dtypes: int8(10)\n",
      "memory usage: 9.4 KB\n"
     ]
    },
    {
     "data": {
      "text/html": [
       "<div>\n",
       "<style scoped>\n",
       "    .dataframe tbody tr th:only-of-type {\n",
       "        vertical-align: middle;\n",
       "    }\n",
       "\n",
       "    .dataframe tbody tr th {\n",
       "        vertical-align: top;\n",
       "    }\n",
       "\n",
       "    .dataframe thead th {\n",
       "        text-align: right;\n",
       "    }\n",
       "</style>\n",
       "<table border=\"1\" class=\"dataframe\">\n",
       "  <thead>\n",
       "    <tr style=\"text-align: right;\">\n",
       "      <th></th>\n",
       "      <th>top-left-square</th>\n",
       "      <th>top-middle-square</th>\n",
       "      <th>top-right-square</th>\n",
       "      <th>middle-left-square</th>\n",
       "      <th>middle-middle-square</th>\n",
       "      <th>middle-right-square</th>\n",
       "      <th>bottom-left-square</th>\n",
       "      <th>bottom-middle-square</th>\n",
       "      <th>bottom-right-square</th>\n",
       "      <th>class</th>\n",
       "    </tr>\n",
       "  </thead>\n",
       "  <tbody>\n",
       "    <tr>\n",
       "      <th>0</th>\n",
       "      <td>2</td>\n",
       "      <td>2</td>\n",
       "      <td>2</td>\n",
       "      <td>2</td>\n",
       "      <td>1</td>\n",
       "      <td>1</td>\n",
       "      <td>2</td>\n",
       "      <td>1</td>\n",
       "      <td>1</td>\n",
       "      <td>1</td>\n",
       "    </tr>\n",
       "    <tr>\n",
       "      <th>1</th>\n",
       "      <td>2</td>\n",
       "      <td>2</td>\n",
       "      <td>2</td>\n",
       "      <td>2</td>\n",
       "      <td>1</td>\n",
       "      <td>1</td>\n",
       "      <td>1</td>\n",
       "      <td>2</td>\n",
       "      <td>1</td>\n",
       "      <td>1</td>\n",
       "    </tr>\n",
       "    <tr>\n",
       "      <th>2</th>\n",
       "      <td>2</td>\n",
       "      <td>2</td>\n",
       "      <td>2</td>\n",
       "      <td>2</td>\n",
       "      <td>1</td>\n",
       "      <td>1</td>\n",
       "      <td>1</td>\n",
       "      <td>1</td>\n",
       "      <td>2</td>\n",
       "      <td>1</td>\n",
       "    </tr>\n",
       "    <tr>\n",
       "      <th>3</th>\n",
       "      <td>2</td>\n",
       "      <td>2</td>\n",
       "      <td>2</td>\n",
       "      <td>2</td>\n",
       "      <td>1</td>\n",
       "      <td>1</td>\n",
       "      <td>1</td>\n",
       "      <td>0</td>\n",
       "      <td>0</td>\n",
       "      <td>1</td>\n",
       "    </tr>\n",
       "    <tr>\n",
       "      <th>4</th>\n",
       "      <td>2</td>\n",
       "      <td>2</td>\n",
       "      <td>2</td>\n",
       "      <td>2</td>\n",
       "      <td>1</td>\n",
       "      <td>1</td>\n",
       "      <td>0</td>\n",
       "      <td>1</td>\n",
       "      <td>0</td>\n",
       "      <td>1</td>\n",
       "    </tr>\n",
       "  </tbody>\n",
       "</table>\n",
       "</div>"
      ],
      "text/plain": [
       "   top-left-square  top-middle-square  top-right-square  middle-left-square  \\\n",
       "0                2                  2                 2                   2   \n",
       "1                2                  2                 2                   2   \n",
       "2                2                  2                 2                   2   \n",
       "3                2                  2                 2                   2   \n",
       "4                2                  2                 2                   2   \n",
       "\n",
       "   middle-middle-square  middle-right-square  bottom-left-square  \\\n",
       "0                     1                    1                   2   \n",
       "1                     1                    1                   1   \n",
       "2                     1                    1                   1   \n",
       "3                     1                    1                   1   \n",
       "4                     1                    1                   0   \n",
       "\n",
       "   bottom-middle-square  bottom-right-square  class  \n",
       "0                     1                    1      1  \n",
       "1                     2                    1      1  \n",
       "2                     1                    2      1  \n",
       "3                     0                    0      1  \n",
       "4                     1                    0      1  "
      ]
     },
     "metadata": {},
     "output_type": "display_data"
    }
   ],
   "source": [
    "# load and inspect data\n",
    "df = pd.read_csv(\n",
    "    \"s3://tdp-ml-datasets/misc/tic-tac-toe.data\",\n",
    "    sep=\",\",\n",
    "    names=[\n",
    "        \"top-left-square\",\n",
    "        \"top-middle-square\",\n",
    "        \"top-right-square\",\n",
    "        \"middle-left-square\",\n",
    "        \"middle-middle-square\",\n",
    "        \"middle-right-square\",\n",
    "        \"bottom-left-square\",\n",
    "        \"bottom-middle-square\",\n",
    "        \"bottom-right-square\",\n",
    "        \"class\",\n",
    "    ],\n",
    ")\n",
    "\n",
    "for column in df:\n",
    "    df[column] = df[column].astype(\"category\")\n",
    "    df[column] = df[column].cat.codes\n",
    "\n",
    "df.info()\n",
    "display(df[:5])"
   ]
  },
  {
   "cell_type": "code",
   "execution_count": 4,
   "metadata": {
    "ExecuteTime": {
     "end_time": "2019-06-28T21:41:07.607706Z",
     "start_time": "2019-06-28T21:41:07.599686Z"
    }
   },
   "outputs": [],
   "source": [
    "# train/test split\n",
    "X = df.iloc[:, :-1].values\n",
    "y = df.iloc[:, -1].values\n",
    "\n",
    "X_train, X_test, y_train, y_test = model_selection.train_test_split(\n",
    "    X, y, test_size=0.2, random_state=1, stratify=y\n",
    ")"
   ]
  },
  {
   "cell_type": "markdown",
   "metadata": {},
   "source": [
    "## Linear regression\n"
   ]
  },
  {
   "cell_type": "markdown",
   "metadata": {},
   "source": [
    "<a id = 'Linear-regression'></a>"
   ]
  },
  {
   "cell_type": "code",
   "execution_count": 5,
   "metadata": {
    "ExecuteTime": {
     "end_time": "2019-06-28T21:41:07.653891Z",
     "start_time": "2019-06-28T21:41:07.623312Z"
    }
   },
   "outputs": [
    {
     "name": "stdout",
     "output_type": "stream",
     "text": [
      "CV accuracy on training data: 0.022 +/- 0.045\n"
     ]
    }
   ],
   "source": [
    "# create linear regression model and cross validate\n",
    "linReg = linear_model.LinearRegression()\n",
    "scores = model_selection.cross_val_score(linReg, X_train, y_train, scoring=\"r2\", cv=10)\n",
    "print(\n",
    "    \"CV accuracy on training data: {:.3f} +/- {:.3f}\".format(\n",
    "        np.mean(scores), np.std(scores)\n",
    "    )\n",
    ")"
   ]
  },
  {
   "cell_type": "code",
   "execution_count": 6,
   "metadata": {
    "ExecuteTime": {
     "end_time": "2019-06-28T21:41:07.673173Z",
     "start_time": "2019-06-28T21:41:07.662944Z"
    }
   },
   "outputs": [
    {
     "name": "stdout",
     "output_type": "stream",
     "text": [
      "Test set accuracy: 0.09324481956312725\n"
     ]
    }
   ],
   "source": [
    "# test data\n",
    "linReg = linear_model.LinearRegression()\n",
    "linReg.fit(X_train, y_train)\n",
    "yPred = linReg.predict(X_test)\n",
    "print(\"Test set accuracy: {0}\".format(metrics.r2_score(y_pred=yPred, y_true=y_test)))"
   ]
  },
  {
   "cell_type": "markdown",
   "metadata": {},
   "source": [
    "> Remarks - As expected, the linear regression model performs quite poorly on this classifcation problem."
   ]
  },
  {
   "cell_type": "markdown",
   "metadata": {},
   "source": [
    "## Logistic Regression"
   ]
  },
  {
   "cell_type": "markdown",
   "metadata": {},
   "source": [
    "<a id = 'logistic-regression'></a>"
   ]
  },
  {
   "cell_type": "code",
   "execution_count": 7,
   "metadata": {
    "ExecuteTime": {
     "end_time": "2019-06-28T21:41:07.721070Z",
     "start_time": "2019-06-28T21:41:07.684897Z"
    }
   },
   "outputs": [
    {
     "name": "stdout",
     "output_type": "stream",
     "text": [
      "CV accuracy on training data: 0.678 +/- 0.025\n"
     ]
    }
   ],
   "source": [
    "# create logistic regression model and cross validate\n",
    "logReg = linear_model.LogisticRegression()\n",
    "scores = model_selection.cross_val_score(\n",
    "    logReg, X_train, y_train, scoring=\"accuracy\", cv=10\n",
    ")\n",
    "print(\n",
    "    \"CV accuracy on training data: {:.3f} +/- {:.3f}\".format(\n",
    "        np.mean(scores), np.std(scores)\n",
    "    )\n",
    ")"
   ]
  },
  {
   "cell_type": "markdown",
   "metadata": {},
   "source": [
    "> Remarks - This basic logistic regression model performs similarly to the lecture model."
   ]
  },
  {
   "cell_type": "code",
   "execution_count": 8,
   "metadata": {
    "ExecuteTime": {
     "end_time": "2019-06-28T21:41:14.580736Z",
     "start_time": "2019-06-28T21:41:07.726627Z"
    }
   },
   "outputs": [
    {
     "name": "stdout",
     "output_type": "stream",
     "text": [
      "0.6814621409921671\n",
      "{'LogisticRegression__C': 0.4040413636363636, 'LogisticRegression__penalty': 'l2'}\n"
     ]
    }
   ],
   "source": [
    "# use GridSearchCV to perform CV over several different combination of parameters\n",
    "pipe = pipeline.Pipeline(\n",
    "    steps=[\n",
    "        (\"scale\", preprocessing.StandardScaler()),\n",
    "        (\"LogisticRegression\", linear_model.LogisticRegression(random_state=1)),\n",
    "    ]\n",
    ")\n",
    "\n",
    "param_grid = {\n",
    "    \"LogisticRegression__C\": np.linspace(1e-6, 10, 100),\n",
    "    \"LogisticRegression__penalty\": [\"l1\", \"l2\"],\n",
    "}\n",
    "gs = model_selection.GridSearchCV(\n",
    "    estimator=pipe, param_grid=param_grid, scoring=\"accuracy\", cv=10, n_jobs=-1\n",
    ")\n",
    "gs = gs.fit(X_train, y_train)\n",
    "print(gs.best_score_)\n",
    "print(gs.best_params_)"
   ]
  },
  {
   "cell_type": "code",
   "execution_count": 9,
   "metadata": {
    "ExecuteTime": {
     "end_time": "2019-06-28T21:41:14.603501Z",
     "start_time": "2019-06-28T21:41:14.586501Z"
    }
   },
   "outputs": [
    {
     "name": "stdout",
     "output_type": "stream",
     "text": [
      "Test set accuracy: 0.6770833333333334\n"
     ]
    }
   ],
   "source": [
    "# test data\n",
    "yPred = gs.predict(X_test)\n",
    "print(\n",
    "    \"Test set accuracy: {0}\".format(metrics.accuracy_score(y_pred=yPred, y_true=y_test))\n",
    ")"
   ]
  },
  {
   "cell_type": "markdown",
   "metadata": {},
   "source": [
    "> Remarks - This tuned logistic regression model performs better than the model with default parameters. Steps taken to optimize the model included setting up a pipeline to first perform standard scaling before implementing the logistic regression model. This pipeline is fed into GridSearchCV, where a hyperparameter search for the penalty and C values is performed. The chosen value for C is 0.404 and the penalty type is L2."
   ]
  }
 ],
 "metadata": {
  "kernelspec": {
   "display_name": "Python 3",
   "language": "python",
   "name": "python3"
  },
  "language_info": {
   "codemirror_mode": {
    "name": "ipython",
    "version": 3
   },
   "file_extension": ".py",
   "mimetype": "text/x-python",
   "name": "python",
   "nbconvert_exporter": "python",
   "pygments_lexer": "ipython3",
   "version": "3.6.8"
  },
  "toc": {
   "base_numbering": 1,
   "nav_menu": {},
   "number_sections": true,
   "sideBar": true,
   "skip_h1_title": false,
   "title_cell": "Table of Contents",
   "title_sidebar": "Contents",
   "toc_cell": false,
   "toc_position": {},
   "toc_section_display": true,
   "toc_window_display": false
  }
 },
 "nbformat": 4,
 "nbformat_minor": 2
}
