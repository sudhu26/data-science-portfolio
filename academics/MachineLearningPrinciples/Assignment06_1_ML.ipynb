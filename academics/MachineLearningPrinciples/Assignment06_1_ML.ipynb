{
 "cells": [
  {
   "cell_type": "markdown",
   "metadata": {},
   "source": [
    "__Assignment 6A__\n",
    "\n",
    "1. [Import](#Import)\n",
    "1. [Assignment 6A](#Assignment-6A)\n",
    "    1. [Load-data](#load-data)\n",
    "    1. [Cross-validation](#Cross-validation)    \n",
    "    1. [Evaluation](#Evaluation)"
   ]
  },
  {
   "cell_type": "markdown",
   "metadata": {},
   "source": [
    "# Import"
   ]
  },
  {
   "cell_type": "markdown",
   "metadata": {},
   "source": [
    "<a id = 'Import'></a>"
   ]
  },
  {
   "cell_type": "code",
   "execution_count": 3,
   "metadata": {
    "ExecuteTime": {
     "end_time": "2019-06-28T21:44:24.114309Z",
     "start_time": "2019-06-28T21:44:24.099782Z"
    }
   },
   "outputs": [
    {
     "data": {
      "text/html": [
       "<style>.container { width:88% !important; }</style>"
      ],
      "text/plain": [
       "<IPython.core.display.HTML object>"
      ]
     },
     "metadata": {},
     "output_type": "display_data"
    }
   ],
   "source": [
    "import pandas as pd\n",
    "import numpy as np\n",
    "from sklearn import tree\n",
    "from sklearn.model_selection import cross_val_score, train_test_split\n",
    "\n",
    "import warnings\n",
    "\n",
    "warnings.simplefilter(\"ignore\")\n",
    "np.set_printoptions(threshold=np.inf, suppress=True)\n",
    "from IPython.core.display import display, HTML\n",
    "\n",
    "display(HTML(\"<style>.container { width:88% !important; }</style>\"))"
   ]
  },
  {
   "cell_type": "markdown",
   "metadata": {},
   "source": [
    "# Assignment 6A\n",
    "\n",
    "Assignment Content:\n",
    "\n",
    "1. Using the dataset tae.data implement two different cross-validation procedures in the following way:\n",
    "\n",
    "    - Import data\n",
    "    - Split data as needed into training and test sets\n",
    "    - Fit a decision tree algorithm to the training data (Hint: we did this in the Decision Tree module)\n",
    "    - Test the trained decision tree to the test data\n",
    "    - Evaluate the performance of the decision tree on the test data reporting error rate or accuracy rate\n",
    "\n",
    "Deliverables:\n",
    "\n",
    " -Two .ipynb files each pertaining to a different cross-validation procedure and each following steps 1 through 5. The code should also print out the error rate or accuracy rate of the cross-validation procedure (averaged over the number of iterations if needed)"
   ]
  },
  {
   "cell_type": "markdown",
   "metadata": {},
   "source": [
    "<a id = 'Assignment-6A'></a>"
   ]
  },
  {
   "cell_type": "markdown",
   "metadata": {},
   "source": [
    "## Load data"
   ]
  },
  {
   "cell_type": "markdown",
   "metadata": {},
   "source": [
    "<a id = 'load-data'></a>"
   ]
  },
  {
   "cell_type": "code",
   "execution_count": 4,
   "metadata": {
    "ExecuteTime": {
     "end_time": "2019-06-28T21:44:24.134105Z",
     "start_time": "2019-06-28T21:44:24.117758Z"
    }
   },
   "outputs": [],
   "source": [
    "# laod data\n",
    "ta_eval_raw = pd.read_csv(\"s3://tdp-ml-datasets/misc/tae.data\")\n",
    "\n",
    "# split independent and dependent variables\n",
    "X = ta_eval_raw.iloc[:, :-1].values\n",
    "y = ta_eval_raw.iloc[:, -1].values.reshape(-1)\n",
    "\n",
    "# X_train, X_test will be used in the CV procedure.\n",
    "# y_train, y_test is the holdout data set and will be used as a final evaluation of the model\n",
    "# outside of the CV procedure.\n",
    "\n",
    "X_train, X_test, y_train, y_test = train_test_split(X, y, test_size=0.1, random_state=1)"
   ]
  },
  {
   "cell_type": "markdown",
   "metadata": {},
   "source": [
    "## Cross-validation"
   ]
  },
  {
   "cell_type": "markdown",
   "metadata": {},
   "source": [
    "<a id = 'Cross-validation'></a>"
   ]
  },
  {
   "cell_type": "code",
   "execution_count": 5,
   "metadata": {
    "ExecuteTime": {
     "end_time": "2019-06-28T21:44:24.180082Z",
     "start_time": "2019-06-28T21:44:24.141753Z"
    }
   },
   "outputs": [
    {
     "name": "stdout",
     "output_type": "stream",
     "text": [
      "Individual scores: \n",
      " [0.6        0.66666667 0.53333333 0.35714286 0.64285714 0.64285714\n",
      " 0.5        0.75       0.75       0.58333333]\n",
      "\n",
      "Mean score: 0.6026190476190476\n"
     ]
    }
   ],
   "source": [
    "# create decision tree model and evaluate using cross_val_score\n",
    "decision_tree = DecisionTreeClassifier(random_state=1)\n",
    "scores = cross_val_score(decision_tree, X_train, y_train, cv=10, scoring=\"accuracy\")\n",
    "print(\"Individual scores: \\n {0}\".format(scores))\n",
    "print(\"\")\n",
    "print(\"Mean score: {}\".format(np.mean(scores)))"
   ]
  },
  {
   "cell_type": "markdown",
   "metadata": {},
   "source": [
    "> Remarks - I am intentionally passing in X_train and y_train, as opposed to the full dataset comprised by X and y. cross_val_score internally splits the data its given into train and test sets, then performs KFold cross validation. In this case, X_train and y_train will be evaluated in 10 folds. Then I will make predictions using X_test and evaluate against y_test, which is truly unseen data in this implementation."
   ]
  },
  {
   "cell_type": "markdown",
   "metadata": {},
   "source": [
    "## Evaluation"
   ]
  },
  {
   "cell_type": "markdown",
   "metadata": {},
   "source": [
    "<a id = 'Evaluation'></a>"
   ]
  },
  {
   "cell_type": "code",
   "execution_count": 6,
   "metadata": {
    "ExecuteTime": {
     "end_time": "2019-06-28T21:44:24.193962Z",
     "start_time": "2019-06-28T21:44:24.183157Z"
    }
   },
   "outputs": [
    {
     "name": "stdout",
     "output_type": "stream",
     "text": [
      "Future Data Prediction Accuracy: 0.6%\n"
     ]
    }
   ],
   "source": [
    "# baseline\n",
    "decision_tree.fit(X_train, y_train)\n",
    "\n",
    "y_pred_test = decision_tree.predict(X_test)\n",
    "\n",
    "print(\n",
    "    \"Future Data Prediction Accuracy: {0}%\".format(\n",
    "        sum(y_test == y_pred_test) / len(y_pred_test)\n",
    "    )\n",
    ")"
   ]
  },
  {
   "cell_type": "markdown",
   "metadata": {},
   "source": [
    "> Remarks - The model's performance on the holdout set is quite a bit worse than the average cross validation accuracy."
   ]
  }
 ],
 "metadata": {
  "kernelspec": {
   "display_name": "Python 3",
   "language": "python",
   "name": "python3"
  },
  "language_info": {
   "codemirror_mode": {
    "name": "ipython",
    "version": 3
   },
   "file_extension": ".py",
   "mimetype": "text/x-python",
   "name": "python",
   "nbconvert_exporter": "python",
   "pygments_lexer": "ipython3",
   "version": "3.6.8"
  },
  "toc": {
   "base_numbering": 1,
   "nav_menu": {},
   "number_sections": true,
   "sideBar": true,
   "skip_h1_title": false,
   "title_cell": "Table of Contents",
   "title_sidebar": "Contents",
   "toc_cell": false,
   "toc_position": {},
   "toc_section_display": true,
   "toc_window_display": false
  }
 },
 "nbformat": 4,
 "nbformat_minor": 2
}
