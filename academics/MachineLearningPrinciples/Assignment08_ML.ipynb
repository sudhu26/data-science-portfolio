{
 "cells": [
  {
   "cell_type": "markdown",
   "metadata": {},
   "source": [
    "__Assignment 8__\n",
    "\n",
    "1. [Import](#Import)\n",
    "1. [Assignment 8](#Assignment-8)\n",
    "    1. [Load-data](#Load-data)\n",
    "    1. [Stochastic gradient descent](#Stochastic-gradient-descent)    \n",
    "    1. [Visualize results](#Visualize-results)    "
   ]
  },
  {
   "cell_type": "markdown",
   "metadata": {},
   "source": [
    "# Import"
   ]
  },
  {
   "cell_type": "markdown",
   "metadata": {},
   "source": [
    "<a id = 'Import'></a>"
   ]
  },
  {
   "cell_type": "code",
   "execution_count": 5,
   "metadata": {
    "ExecuteTime": {
     "end_time": "2019-06-28T21:38:30.564217Z",
     "start_time": "2019-06-28T21:38:30.544791Z"
    }
   },
   "outputs": [
    {
     "data": {
      "text/html": [
       "<style>.container { width:95% !important; }</style>"
      ],
      "text/plain": [
       "<IPython.core.display.HTML object>"
      ]
     },
     "metadata": {},
     "output_type": "display_data"
    }
   ],
   "source": [
    "# standard libary and settings\n",
    "import os\n",
    "import sys\n",
    "import itertools\n",
    "import warnings\n",
    "\n",
    "warnings.simplefilter(\"ignore\")\n",
    "from IPython.core.display import display, HTML\n",
    "\n",
    "display(HTML(\"<style>.container { width:95% !important; }</style>\"))\n",
    "\n",
    "# data extensions and settings\n",
    "import numpy as np\n",
    "\n",
    "np.set_printoptions(threshold=np.inf, suppress=True)\n",
    "import pandas as pd\n",
    "\n",
    "pd.set_option(\"display.max_rows\", 500)\n",
    "pd.options.display.float_format = \"{:,.6f}\".format\n",
    "\n",
    "# visualization extensions and settings\n",
    "import seaborn as sns\n",
    "import matplotlib.pyplot as plt\n",
    "\n",
    "# magic functions\n",
    "%matplotlib inline"
   ]
  },
  {
   "cell_type": "markdown",
   "metadata": {},
   "source": [
    "# Assignment 8\n",
    "\n",
    "1. Using the dataset HealthInCities implement Linear Regression using Stochastic Gradient Descent:\n",
    "\n",
    "Try to predict the DeathRate (y) based on more than one of the other variables (X) and report on your findings.\n",
    "\n",
    "Hint: In order to discern whether your “converged” w weights are good try to have X to be DoctorAvailability and the normalized column of zeroes (as we have done in the lecture video), that way we can find DeathRate = DoctorAvailability*w0 + w1 for our two weights in this case and we can plot it just like in the video to see if the line fits our data well. Also, don’t forget to standardize your data (mean = 0, and variance = 1) for meaningful interpretation of our results.\n",
    "\n",
    "Note: We have covered Batch Gradient Descent which we recall is computationally efficient for smaller datasets as we are computing the w weights considering all of our data X (the whole matrix). In practice, if we are working with Big Data, it no longer becomes computationally efficient and feasible to process all of the X matrix at once, hence, we process it incrementally in a stochastic way. This is where Stochastic Gradient Descent comes in. The basic idea is to step in the direction of the optimal w by considering each sample of X one by one while also considering an outer loop where we take into account how many epochs (number of times we want to go over each X sample one by one). We want to choose an epoch number which is not too large (i.e. 1-10) so that our algorithm completes in an acceptable amount of time, but we also want to ensure we are converging, so an epoch number that is too small may not guarantee convergence. The ideal epoch number can be left up to experimentation when crafting the code as it is data-dependent.\n",
    "\n",
    "Deliverables:\n",
    "\n",
    "-One .ipynb pertaining to Linear Regression using Stochastic Gradient Descent on the HelathInCities dataset. Print out the optimal weights w, and write one paragraph interpreting what the w weights mean in your example, this can be done as markdown in your .ipynb or perhaps a print statement at the end."
   ]
  },
  {
   "cell_type": "markdown",
   "metadata": {},
   "source": [
    "<a id = 'Assignment-8'></a>"
   ]
  },
  {
   "cell_type": "markdown",
   "metadata": {},
   "source": [
    "## Load data"
   ]
  },
  {
   "cell_type": "markdown",
   "metadata": {},
   "source": [
    "<a id = 'Load-data'></a>"
   ]
  },
  {
   "cell_type": "code",
   "execution_count": 6,
   "metadata": {
    "ExecuteTime": {
     "end_time": "2019-06-28T21:38:30.593399Z",
     "start_time": "2019-06-28T21:38:30.567950Z"
    }
   },
   "outputs": [
    {
     "name": "stdout",
     "output_type": "stream",
     "text": [
      "<class 'pandas.core.frame.DataFrame'>\n",
      "RangeIndex: 53 entries, 0 to 52\n",
      "Data columns (total 5 columns):\n",
      "DeathRate               53 non-null float64\n",
      "DoctorAvailability      53 non-null int64\n",
      "HospitalAvailability    53 non-null int64\n",
      "IncomePerCapita         53 non-null float64\n",
      "PopulationDensity       53 non-null int64\n",
      "dtypes: float64(2), int64(3)\n",
      "memory usage: 2.1 KB\n"
     ]
    },
    {
     "data": {
      "text/html": [
       "<div>\n",
       "<style scoped>\n",
       "    .dataframe tbody tr th:only-of-type {\n",
       "        vertical-align: middle;\n",
       "    }\n",
       "\n",
       "    .dataframe tbody tr th {\n",
       "        vertical-align: top;\n",
       "    }\n",
       "\n",
       "    .dataframe thead th {\n",
       "        text-align: right;\n",
       "    }\n",
       "</style>\n",
       "<table border=\"1\" class=\"dataframe\">\n",
       "  <thead>\n",
       "    <tr style=\"text-align: right;\">\n",
       "      <th></th>\n",
       "      <th>DeathRate</th>\n",
       "      <th>DoctorAvailability</th>\n",
       "      <th>HospitalAvailability</th>\n",
       "      <th>IncomePerCapita</th>\n",
       "      <th>PopulationDensity</th>\n",
       "    </tr>\n",
       "  </thead>\n",
       "  <tbody>\n",
       "    <tr>\n",
       "      <th>0</th>\n",
       "      <td>8.000000</td>\n",
       "      <td>78</td>\n",
       "      <td>284</td>\n",
       "      <td>9.100000</td>\n",
       "      <td>109</td>\n",
       "    </tr>\n",
       "    <tr>\n",
       "      <th>1</th>\n",
       "      <td>9.300000</td>\n",
       "      <td>68</td>\n",
       "      <td>433</td>\n",
       "      <td>8.700000</td>\n",
       "      <td>144</td>\n",
       "    </tr>\n",
       "    <tr>\n",
       "      <th>2</th>\n",
       "      <td>7.500000</td>\n",
       "      <td>70</td>\n",
       "      <td>739</td>\n",
       "      <td>7.200000</td>\n",
       "      <td>113</td>\n",
       "    </tr>\n",
       "    <tr>\n",
       "      <th>3</th>\n",
       "      <td>8.900000</td>\n",
       "      <td>96</td>\n",
       "      <td>1792</td>\n",
       "      <td>8.900000</td>\n",
       "      <td>97</td>\n",
       "    </tr>\n",
       "    <tr>\n",
       "      <th>4</th>\n",
       "      <td>10.200000</td>\n",
       "      <td>74</td>\n",
       "      <td>477</td>\n",
       "      <td>8.300000</td>\n",
       "      <td>206</td>\n",
       "    </tr>\n",
       "  </tbody>\n",
       "</table>\n",
       "</div>"
      ],
      "text/plain": [
       "   DeathRate  DoctorAvailability  HospitalAvailability  IncomePerCapita  \\\n",
       "0   8.000000                  78                   284         9.100000   \n",
       "1   9.300000                  68                   433         8.700000   \n",
       "2   7.500000                  70                   739         7.200000   \n",
       "3   8.900000                  96                  1792         8.900000   \n",
       "4  10.200000                  74                   477         8.300000   \n",
       "\n",
       "   PopulationDensity  \n",
       "0                109  \n",
       "1                144  \n",
       "2                113  \n",
       "3                 97  \n",
       "4                206  "
      ]
     },
     "metadata": {},
     "output_type": "display_data"
    }
   ],
   "source": [
    "# load and inspect raw data\n",
    "health_cities_raw = pd.read_csv(\"s3://tdp-ml-datasets/misc/HealthInCities.csv\")\n",
    "health_cities_raw.info()\n",
    "display(health_cities_raw[:5])"
   ]
  },
  {
   "cell_type": "code",
   "execution_count": 7,
   "metadata": {
    "ExecuteTime": {
     "end_time": "2019-06-28T21:38:30.625166Z",
     "start_time": "2019-06-28T21:38:30.600741Z"
    }
   },
   "outputs": [
    {
     "data": {
      "text/html": [
       "<div>\n",
       "<style scoped>\n",
       "    .dataframe tbody tr th:only-of-type {\n",
       "        vertical-align: middle;\n",
       "    }\n",
       "\n",
       "    .dataframe tbody tr th {\n",
       "        vertical-align: top;\n",
       "    }\n",
       "\n",
       "    .dataframe thead th {\n",
       "        text-align: right;\n",
       "    }\n",
       "</style>\n",
       "<table border=\"1\" class=\"dataframe\">\n",
       "  <thead>\n",
       "    <tr style=\"text-align: right;\">\n",
       "      <th></th>\n",
       "      <th>DeathRate</th>\n",
       "      <th>DoctorAvailability</th>\n",
       "      <th>HospitalAvailability</th>\n",
       "      <th>IncomePerCapita</th>\n",
       "      <th>PopulationDensity</th>\n",
       "      <th>bias</th>\n",
       "    </tr>\n",
       "  </thead>\n",
       "  <tbody>\n",
       "    <tr>\n",
       "      <th>0</th>\n",
       "      <td>-0.792861</td>\n",
       "      <td>-1.015105</td>\n",
       "      <td>-0.928147</td>\n",
       "      <td>-0.315277</td>\n",
       "      <td>-0.035126</td>\n",
       "      <td>0</td>\n",
       "    </tr>\n",
       "    <tr>\n",
       "      <th>1</th>\n",
       "      <td>-0.003437</td>\n",
       "      <td>-1.281577</td>\n",
       "      <td>-0.475900</td>\n",
       "      <td>-0.690778</td>\n",
       "      <td>0.713818</td>\n",
       "      <td>0</td>\n",
       "    </tr>\n",
       "    <tr>\n",
       "      <th>2</th>\n",
       "      <td>-1.096485</td>\n",
       "      <td>-1.228282</td>\n",
       "      <td>0.452878</td>\n",
       "      <td>-2.098901</td>\n",
       "      <td>0.050468</td>\n",
       "      <td>0</td>\n",
       "    </tr>\n",
       "    <tr>\n",
       "      <th>3</th>\n",
       "      <td>-0.246337</td>\n",
       "      <td>-0.535457</td>\n",
       "      <td>3.648964</td>\n",
       "      <td>-0.503028</td>\n",
       "      <td>-0.291906</td>\n",
       "      <td>0</td>\n",
       "    </tr>\n",
       "    <tr>\n",
       "      <th>4</th>\n",
       "      <td>0.543087</td>\n",
       "      <td>-1.121694</td>\n",
       "      <td>-0.342350</td>\n",
       "      <td>-1.066277</td>\n",
       "      <td>2.040517</td>\n",
       "      <td>0</td>\n",
       "    </tr>\n",
       "  </tbody>\n",
       "</table>\n",
       "</div>"
      ],
      "text/plain": [
       "   DeathRate  DoctorAvailability  HospitalAvailability  IncomePerCapita  \\\n",
       "0  -0.792861           -1.015105             -0.928147        -0.315277   \n",
       "1  -0.003437           -1.281577             -0.475900        -0.690778   \n",
       "2  -1.096485           -1.228282              0.452878        -2.098901   \n",
       "3  -0.246337           -0.535457              3.648964        -0.503028   \n",
       "4   0.543087           -1.121694             -0.342350        -1.066277   \n",
       "\n",
       "   PopulationDensity  bias  \n",
       "0          -0.035126     0  \n",
       "1           0.713818     0  \n",
       "2           0.050468     0  \n",
       "3          -0.291906     0  \n",
       "4           2.040517     0  "
      ]
     },
     "execution_count": 7,
     "metadata": {},
     "output_type": "execute_result"
    }
   ],
   "source": [
    "# manually applying standard scaling to data\n",
    "for column in health_cities_raw.columns:\n",
    "    col_mean = np.mean(health_cities_raw[column])\n",
    "    col_stdev = np.std(health_cities_raw[column])\n",
    "    health_cities_raw[column] = (health_cities_raw[column] - col_mean) / col_stdev\n",
    "health_cities_raw[\"bias\"] = 0\n",
    "health_cities_raw[:5]"
   ]
  },
  {
   "cell_type": "markdown",
   "metadata": {},
   "source": [
    "## Stochastic gradient descent"
   ]
  },
  {
   "cell_type": "markdown",
   "metadata": {},
   "source": [
    "<a id = 'Stochastic-gradient-descent'></a>"
   ]
  },
  {
   "cell_type": "code",
   "execution_count": 8,
   "metadata": {
    "ExecuteTime": {
     "end_time": "2019-06-28T21:38:30.640687Z",
     "start_time": "2019-06-28T21:38:30.630495Z"
    }
   },
   "outputs": [],
   "source": [
    "# manual train test split\n",
    "training_data = health_cities_raw.sample(frac=0.5, replace=True)\n",
    "test_data = health_cities_raw.sample(frac=0.5, replace=True)\n",
    "\n",
    "# training data\n",
    "Y_train = training_data.iloc[:, 0].values\n",
    "X_train = training_data[[\"DoctorAvailability\", \"bias\"]].values\n",
    "\n",
    "# test Data\n",
    "Y_test = test_data.iloc[:, 0].values\n",
    "X_test = test_data[[\"DoctorAvailability\", \"bias\"]].values"
   ]
  },
  {
   "cell_type": "code",
   "execution_count": 9,
   "metadata": {
    "ExecuteTime": {
     "end_time": "2019-06-28T21:38:30.679297Z",
     "start_time": "2019-06-28T21:38:30.650612Z"
    }
   },
   "outputs": [
    {
     "name": "stdout",
     "output_type": "stream",
     "text": [
      "Learned weights: [[-0.00412068]\n",
      " [ 0.29896427]]\n"
     ]
    }
   ],
   "source": [
    "# custom functions for plotting stochastic gradient descent\n",
    "def learning_schedule(t, t0, t1):\n",
    "    \"\"\"Function for gradually decreasing learning rate\"\"\"\n",
    "    return t0 / (t + t1)\n",
    "\n",
    "\n",
    "def stochasticGradientDescent(X, y, weights, epochs, t0, t1):\n",
    "    \"\"\"\n",
    "    Function for executing stochastic gradient descent.\n",
    "    Initiate function with random weight values and a preferred number of epochs.\n",
    "    Also declare t0 and t1, which control the learning rate, which gets smaller with each epoch.\n",
    "    Pass in X and y as the training observations and labels, shuffle at the beginning of each epoch.\n",
    "    Update the weights once for each sample. \n",
    "    \"\"\"\n",
    "    # Execute SGD and visualize first few iterations\n",
    "    m = X.shape[0]\n",
    "    for epoch in range(epochs):\n",
    "        shuffledIx = np.random.permutation(m)\n",
    "        X = X[shuffledIx]\n",
    "        y = y[shuffledIx]\n",
    "        for i in np.arange(m):\n",
    "            xi = X[i : i + 1]\n",
    "            yi = y[i : i + 1]\n",
    "            gradients = (1 / len(xi)) * np.dot(xi.T, (np.dot(xi, weights) - yi))\n",
    "            eta = learning_schedule(t=epoch * m + 1, t0=t0, t1=t1)\n",
    "            weights = weights - eta * gradients\n",
    "    return weights\n",
    "\n",
    "\n",
    "# Execute\n",
    "weights = stochasticGradientDescent(\n",
    "    X=X_train, y=Y_train, weights=np.random.rand(2, 1), epochs=50, t0=1, t1=10\n",
    ")\n",
    "print(\"Learned weights: {0}\".format(weights))"
   ]
  },
  {
   "cell_type": "markdown",
   "metadata": {},
   "source": [
    "## Visualize results"
   ]
  },
  {
   "cell_type": "markdown",
   "metadata": {},
   "source": [
    "<a id = 'Visualize-results'></a>"
   ]
  },
  {
   "cell_type": "code",
   "execution_count": 10,
   "metadata": {
    "ExecuteTime": {
     "end_time": "2019-06-28T21:38:30.979318Z",
     "start_time": "2019-06-28T21:38:30.686367Z"
    }
   },
   "outputs": [
    {
     "data": {
      "image/png": "[encoded data removed]",
      "text/plain": [
       "<Figure size 720x720 with 1 Axes>"
      ]
     },
     "metadata": {
      "needs_background": "light"
     },
     "output_type": "display_data"
    }
   ],
   "source": [
    "# plot values and overlay line of best fit\n",
    "train_prediction = np.array(\n",
    "    [sum(X_train[i] * weights) for i in range(X_train.shape[0])]\n",
    ")\n",
    "\n",
    "# plotting our points and line of fit (model)\n",
    "plt.figure(figsize=(10, 10))\n",
    "plt.plot(training_data[\"DoctorAvailability\"], Y_train, \"go\")\n",
    "plt.plot(training_data[\"DoctorAvailability\"], train_prediction[:, 0], linewidth=4)\n",
    "plt.title(\"Training Set: Doctor Availability vs. Death Rate and Line of Fit\")\n",
    "plt.xlabel(\"Doctor Availability\")\n",
    "plt.ylabel(\"Death Rate\")\n",
    "plt.show()"
   ]
  },
  {
   "cell_type": "code",
   "execution_count": 11,
   "metadata": {
    "ExecuteTime": {
     "end_time": "2019-06-28T21:38:31.285099Z",
     "start_time": "2019-06-28T21:38:30.985796Z"
    }
   },
   "outputs": [
    {
     "data": {
      "image/png": "[encoded data removed]",
      "text/plain": [
       "<Figure size 720x720 with 1 Axes>"
      ]
     },
     "metadata": {
      "needs_background": "light"
     },
     "output_type": "display_data"
    }
   ],
   "source": [
    "# repeat plot for test data\n",
    "test_prediction = np.array([sum(X_test[i] * weights) for i in range(X_test.shape[0])])\n",
    "\n",
    "# plotting our points and line of fit (model)\n",
    "plt.figure(figsize=(10, 10))\n",
    "plt.plot(test_data[\"DoctorAvailability\"], Y_test, \"go\")\n",
    "plt.plot(test_data[\"DoctorAvailability\"], test_prediction[:, 0], linewidth=4)\n",
    "\n",
    "plt.title(\"Test Set: Doctor Availability vs. Death Rate and Line of Fit\")\n",
    "plt.xlabel(\"Doctor Availability\")\n",
    "plt.ylabel(\"Death Rate\")\n",
    "plt.show()"
   ]
  },
  {
   "cell_type": "code",
   "execution_count": 12,
   "metadata": {
    "ExecuteTime": {
     "end_time": "2019-06-28T21:38:31.302394Z",
     "start_time": "2019-06-28T21:38:31.292615Z"
    }
   },
   "outputs": [
    {
     "name": "stdout",
     "output_type": "stream",
     "text": [
      "Training sum of squared errors with regularization: 24.97200701700268\n",
      "Test sum of squared errors with regularization: 28.991048230988103\n"
     ]
    }
   ],
   "source": [
    "# review RSS of train and test sets\n",
    "print(\n",
    "    \"Training sum of squared errors with regularization:\",\n",
    "    sum([res ** 2 for res in Y_train - train_prediction[:, 0]]),\n",
    ")\n",
    "print(\n",
    "    \"Test sum of squared errors with regularization:\",\n",
    "    sum([res ** 2 for res in Y_test - test_prediction[:, 0]]),\n",
    ")"
   ]
  },
  {
   "cell_type": "code",
   "execution_count": 13,
   "metadata": {
    "ExecuteTime": {
     "end_time": "2019-06-28T21:38:31.324186Z",
     "start_time": "2019-06-28T21:38:31.316043Z"
    }
   },
   "outputs": [
    {
     "name": "stdout",
     "output_type": "stream",
     "text": [
      "Learned weights: [[-0.00412068]\n",
      " [ 0.29896427]]\n"
     ]
    }
   ],
   "source": [
    "# review weight learned by model\n",
    "print(\"Learned weights: {0}\".format(weights))"
   ]
  },
  {
   "cell_type": "markdown",
   "metadata": {},
   "source": [
    "> Remarks - In the code executed above, the line of best fit is determined using stochastic gradient descent, and the line of best fit is overlayed on both the training and test datasets. The optimal weights are shown directly above: the weight for the standardized 'DoctorAvailability' feature is -0.1388, and the weight for the bias column is 0.3321. An interpretation of the 'DoctorAvailability' weight could be that for every 1 unit increase in doctor availability the death rate decreasing by 0.1388. Again, this is standardized, but the point is that doctor availability appears to decrease the death rate, which makes sense."
   ]
  }
 ],
 "metadata": {
  "kernelspec": {
   "display_name": "Python 3",
   "language": "python",
   "name": "python3"
  },
  "language_info": {
   "codemirror_mode": {
    "name": "ipython",
    "version": 3
   },
   "file_extension": ".py",
   "mimetype": "text/x-python",
   "name": "python",
   "nbconvert_exporter": "python",
   "pygments_lexer": "ipython3",
   "version": "3.6.8"
  },
  "toc": {
   "base_numbering": 1,
   "nav_menu": {},
   "number_sections": true,
   "sideBar": true,
   "skip_h1_title": false,
   "title_cell": "Table of Contents",
   "title_sidebar": "Contents",
   "toc_cell": false,
   "toc_position": {},
   "toc_section_display": true,
   "toc_window_display": false
  }
 },
 "nbformat": 4,
 "nbformat_minor": 2
}
