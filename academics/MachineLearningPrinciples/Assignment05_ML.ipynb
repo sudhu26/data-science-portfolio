{
 "cells": [
  {
   "cell_type": "markdown",
   "metadata": {},
   "source": [
    "__Assignment 5__\n",
    "\n",
    "1. [Import](#Import)\n",
    "1. [Assignment 5](#Assignment-5)\n",
    "    1. [Train decision tree](#Train-decision-tree)\n",
    "    1. [Improve the model](#Improve-the-model)\n",
    "    1. [Review results](#Review-results)"
   ]
  },
  {
   "cell_type": "markdown",
   "metadata": {},
   "source": [
    "# Import"
   ]
  },
  {
   "cell_type": "markdown",
   "metadata": {},
   "source": [
    "<a id = 'Import'></a>"
   ]
  },
  {
   "cell_type": "code",
   "execution_count": 1,
   "metadata": {
    "ExecuteTime": {
     "end_time": "2019-06-28T21:44:33.760246Z",
     "start_time": "2019-06-28T21:44:32.993279Z"
    }
   },
   "outputs": [
    {
     "data": {
      "text/html": [
       "<style>.container { width:88% !important; }</style>"
      ],
      "text/plain": [
       "<IPython.core.display.HTML object>"
      ]
     },
     "metadata": {},
     "output_type": "display_data"
    }
   ],
   "source": [
    "import pandas as pd\n",
    "import numpy as np\n",
    "from sklearn import tree\n",
    "\n",
    "import warnings\n",
    "\n",
    "warnings.simplefilter(\"ignore\")\n",
    "np.set_printoptions(threshold=np.inf, suppress=True)\n",
    "from IPython.core.display import display, HTML\n",
    "\n",
    "display(HTML(\"<style>.container { width:88% !important; }</style>\"))"
   ]
  },
  {
   "cell_type": "markdown",
   "metadata": {},
   "source": [
    "# Assignment 5\n",
    "\n",
    "Assignment Content:\n",
    "\n",
    "Launch the “DecisionTreesAssignment.ipynb” file in Jupyter Notebook and complete the assignment. Don’t forget to include tae.data in your directory or change the code to read this input file. Namely, build a decision tree classifier and test the classifier on previous and future data. Write a one page report explaining the following:\n",
    "\n",
    "- How the decision tree classifier works\n",
    "- Thoroughly explain the code (i.e. your implementation of the decision tree classifier)\n",
    "- Try to get as high accuracy as possible on the future data.\n",
    "- Is it possible to have both high training/previous and test/future accuracy? Why or why not?\n",
    "- Play around with the sklearn DecisionTreeClassifier library, tweaking the various decision tree parameters and report on the results of your findings\n",
    "\n",
    "Deliverables:\n",
    "\n",
    "- Completed DecisionTreesAssignment.ipynb code which compiles, runs, and gives fairly good training and test accuracy (they don’t need to be 100%, but justify your answer in the report)\n",
    "- Report (as docx, pdf, or any other popular text format)\n"
   ]
  },
  {
   "cell_type": "markdown",
   "metadata": {},
   "source": [
    "<a id = 'Assignment-5'></a>"
   ]
  },
  {
   "cell_type": "code",
   "execution_count": 2,
   "metadata": {
    "ExecuteTime": {
     "end_time": "2019-06-28T21:44:33.782569Z",
     "start_time": "2019-06-28T21:44:33.766216Z"
    }
   },
   "outputs": [
    {
     "name": "stdout",
     "output_type": "stream",
     "text": [
      "Full dataset dimensions: (150, 6)\n"
     ]
    }
   ],
   "source": [
    "# Dataset used: https://archive.ics.uci.edu/ml/datasets/Teaching+Assistant+Evaluation\n",
    "\n",
    "ta_eval_raw = pd.read_csv(\"s3://tdp-ml-datasets/misc/tae.data\")\n",
    "\n",
    "# Used for sampling (previous data) and (future data)\n",
    "total_sample_num = ta_eval_raw.shape[0]\n",
    "\n",
    "# in order to simulate what would happen in real life scenarios, we choose\n",
    "# 50% of this dataset at random to be our previous (training) data\n",
    "\n",
    "previous_data_to_train_on = ta_eval_raw.sample(\n",
    "    int(0.5 * total_sample_num), replace=True\n",
    ")\n",
    "\n",
    "# review size of dataset\n",
    "print(\"Full dataset dimensions: {0}\".format(ta_eval_raw.shape))"
   ]
  },
  {
   "cell_type": "code",
   "execution_count": 3,
   "metadata": {
    "ExecuteTime": {
     "end_time": "2019-06-28T21:44:33.807688Z",
     "start_time": "2019-06-28T21:44:33.793182Z"
    }
   },
   "outputs": [
    {
     "name": "stdout",
     "output_type": "stream",
     "text": [
      "X dimensions: (75, 5)\n",
      "y dimensions: (75, 1)\n"
     ]
    }
   ],
   "source": [
    "# convert data into numpy arrays\n",
    "X = previous_data_to_train_on.iloc[:, :-1].values\n",
    "y = previous_data_to_train_on.iloc[:, -1].values.reshape(-1, 1)\n",
    "\n",
    "print(\"X dimensions: {0}\".format(X.shape))\n",
    "print(\"y dimensions: {0}\".format(y.shape))"
   ]
  },
  {
   "cell_type": "code",
   "execution_count": 4,
   "metadata": {
    "ExecuteTime": {
     "end_time": "2019-06-28T21:44:33.826999Z",
     "start_time": "2019-06-28T21:44:33.815048Z"
    }
   },
   "outputs": [
    {
     "data": {
      "text/plain": [
       "DecisionTreeClassifier(class_weight=None, criterion='gini', max_depth=None,\n",
       "                       max_features=None, max_leaf_nodes=None,\n",
       "                       min_impurity_decrease=0.0, min_impurity_split=None,\n",
       "                       min_samples_leaf=1, min_samples_split=2,\n",
       "                       min_weight_fraction_leaf=0.0, presort=False,\n",
       "                       random_state=None, splitter='best')"
      ]
     },
     "execution_count": 4,
     "metadata": {},
     "output_type": "execute_result"
    }
   ],
   "source": [
    "# TODO: Build your decision tree model here (keep the name of your decision tree consistent throughout the program)\n",
    "# Hint: Read the sklearn DecisionTreeClassifier docs:\n",
    "# http://scikit-learn.org/stable/modules/generated/sklearn.tree.DecisionTreeClassifier.html\n",
    "# Hint: You may also find it useful to visualize the tree in Graphviz as we've done in the lecture\n",
    "decision_tree = tree.DecisionTreeClassifier()\n",
    "decision_tree.fit(X, y)"
   ]
  },
  {
   "cell_type": "markdown",
   "metadata": {},
   "source": [
    "## Train decision tree"
   ]
  },
  {
   "cell_type": "markdown",
   "metadata": {},
   "source": [
    "<a id = 'Train-decision-tree'></a>"
   ]
  },
  {
   "cell_type": "code",
   "execution_count": 5,
   "metadata": {
    "ExecuteTime": {
     "end_time": "2019-06-28T21:44:33.848049Z",
     "start_time": "2019-06-28T21:44:33.834298Z"
    }
   },
   "outputs": [
    {
     "name": "stdout",
     "output_type": "stream",
     "text": [
      "Data We Trained On Prediction Accuracy: 0.9733333333333334%\n",
      "Future Data Prediction Accuracy: 0.6533333333333333%\n"
     ]
    }
   ],
   "source": [
    "# in order to simulate what would happen in real life scenarios, we choose\n",
    "# 50% of this dataset at random to be our future (test) data\n",
    "future_data_we_will_test_on = ta_eval_raw.sample(\n",
    "    int(0.5 * total_sample_num), replace=True\n",
    ")\n",
    "\n",
    "# true values so that we can compare how good our classifier that we built performs\n",
    "true_value_training = list(previous_data_to_train_on.iloc[:, 5])\n",
    "true_value_future = list(future_data_we_will_test_on.iloc[:, 5])\n",
    "\n",
    "# using Decision Tree to predict the labels i.e. 1, 2, or 3 for training and test data\n",
    "prediction_on_trainingdata = decision_tree.predict(\n",
    "    previous_data_to_train_on.iloc[:, :-1]\n",
    ")\n",
    "prediction_on_futuredata = decision_tree.predict(\n",
    "    future_data_we_will_test_on.iloc[:, :-1]\n",
    ")\n",
    "\n",
    "print(\n",
    "    \"Data We Trained On Prediction Accuracy: {0}%\".format(\n",
    "        sum(true_value_training == prediction_on_trainingdata)\n",
    "        / len(prediction_on_trainingdata)\n",
    "    )\n",
    ")\n",
    "print(\n",
    "    \"Future Data Prediction Accuracy: {0}%\".format(\n",
    "        sum(true_value_future == prediction_on_futuredata)\n",
    "        / len(prediction_on_futuredata)\n",
    "    )\n",
    ")"
   ]
  },
  {
   "cell_type": "markdown",
   "metadata": {},
   "source": [
    "## Improve the model"
   ]
  },
  {
   "cell_type": "markdown",
   "metadata": {},
   "source": [
    "<a id = 'Improve-the-model'></a>"
   ]
  },
  {
   "cell_type": "code",
   "execution_count": 6,
   "metadata": {
    "ExecuteTime": {
     "end_time": "2019-06-28T21:44:33.873013Z",
     "start_time": "2019-06-28T21:44:33.857711Z"
    }
   },
   "outputs": [
    {
     "name": "stdout",
     "output_type": "stream",
     "text": [
      "X_train dimensions: (120, 5)\n",
      "X_test dimensions: (30, 5)\n",
      "y_train dimensions: (120,)\n",
      "y_test dimensions: (30,)\n"
     ]
    }
   ],
   "source": [
    "# use sklearn's train_test_split to create train/test sets\n",
    "# create a test sample that is 50% of the sample just like the workflow above\n",
    "from sklearn.model_selection import train_test_split\n",
    "\n",
    "X = ta_eval_raw.iloc[:, :-1].values\n",
    "y = ta_eval_raw.iloc[:, -1].values\n",
    "\n",
    "X_train, X_test, y_train, y_test = train_test_split(X, y, test_size=0.2, random_state=1)\n",
    "\n",
    "print(\"X_train dimensions: {0}\".format(X_train.shape))\n",
    "print(\"X_test dimensions: {0}\".format(X_test.shape))\n",
    "print(\"y_train dimensions: {0}\".format(y_train.shape))\n",
    "print(\"y_test dimensions: {0}\".format(y_test.shape))"
   ]
  },
  {
   "cell_type": "code",
   "execution_count": 7,
   "metadata": {
    "ExecuteTime": {
     "end_time": "2019-06-28T21:44:33.892378Z",
     "start_time": "2019-06-28T21:44:33.878725Z"
    }
   },
   "outputs": [
    {
     "name": "stdout",
     "output_type": "stream",
     "text": [
      "Baseline performance: \n",
      "\n",
      "Data We Trained On Prediction Accuracy: 0.9583333333333334%\n",
      "Future Data Prediction Accuracy: 0.5666666666666667%\n"
     ]
    }
   ],
   "source": [
    "# baseline\n",
    "decision_tree = tree.DecisionTreeClassifier(random_state=1)\n",
    "decision_tree.fit(X_train, y_train)\n",
    "\n",
    "y_pred_train = decision_tree.predict(X_train)\n",
    "y_pred_test = decision_tree.predict(X_test)\n",
    "\n",
    "print(\"Baseline performance: \\n\")\n",
    "\n",
    "print(\n",
    "    \"Data We Trained On Prediction Accuracy: {0}%\".format(\n",
    "        sum(y_train == y_pred_train) / len(y_pred_train)\n",
    "    )\n",
    ")\n",
    "print(\n",
    "    \"Future Data Prediction Accuracy: {0}%\".format(\n",
    "        sum(y_test == y_pred_test) / len(y_pred_test)\n",
    "    )\n",
    ")"
   ]
  },
  {
   "cell_type": "code",
   "execution_count": 8,
   "metadata": {
    "ExecuteTime": {
     "end_time": "2019-06-28T21:44:33.911806Z",
     "start_time": "2019-06-28T21:44:33.899823Z"
    }
   },
   "outputs": [
    {
     "name": "stdout",
     "output_type": "stream",
     "text": [
      "{'criterion': ['gini', 'entropy'], 'min_samples_split': range(2, 10), 'max_depth': range(2, 10), 'max_leaf_nodes': range(2, 30)}\n"
     ]
    }
   ],
   "source": [
    "# setup parameter grid for grid search\n",
    "parameters = {\n",
    "    \"criterion\": [\"gini\", \"entropy\"],\n",
    "    \"min_samples_split\": range(2, 10),\n",
    "    \"max_depth\": range(2, 10),\n",
    "    \"max_leaf_nodes\": range(2, 30),\n",
    "}\n",
    "print(parameters)"
   ]
  },
  {
   "cell_type": "code",
   "execution_count": 9,
   "metadata": {
    "ExecuteTime": {
     "end_time": "2019-06-28T21:45:13.701994Z",
     "start_time": "2019-06-28T21:44:33.919332Z"
    }
   },
   "outputs": [
    {
     "data": {
      "text/plain": [
       "GridSearchCV(cv=10, error_score='raise-deprecating',\n",
       "             estimator=DecisionTreeClassifier(class_weight=None,\n",
       "                                              criterion='gini', max_depth=None,\n",
       "                                              max_features=None,\n",
       "                                              max_leaf_nodes=None,\n",
       "                                              min_impurity_decrease=0.0,\n",
       "                                              min_impurity_split=None,\n",
       "                                              min_samples_leaf=1,\n",
       "                                              min_samples_split=2,\n",
       "                                              min_weight_fraction_leaf=0.0,\n",
       "                                              presort=False, random_state=1,\n",
       "                                              splitter='best'),\n",
       "             iid='warn', n_jobs=None,\n",
       "             param_grid={'criterion': ['gini', 'entropy'],\n",
       "                         'max_depth': range(2, 10),\n",
       "                         'max_leaf_nodes': range(2, 30),\n",
       "                         'min_samples_split': range(2, 10)},\n",
       "             pre_dispatch='2*n_jobs', refit=True, return_train_score=False,\n",
       "             scoring=None, verbose=0)"
      ]
     },
     "execution_count": 9,
     "metadata": {},
     "output_type": "execute_result"
    }
   ],
   "source": [
    "# perform grid search with 10 fold cross validation using the parameter grid above\n",
    "# this ran in less than 30 seconds on my local machine\n",
    "from sklearn.model_selection import GridSearchCV\n",
    "\n",
    "decision_tree = tree.DecisionTreeClassifier(random_state=1)\n",
    "grid_search = GridSearchCV(\n",
    "    estimator=decision_tree, param_grid=parameters, cv=10, refit=True\n",
    ")\n",
    "grid_search.fit(X_train, y_train)"
   ]
  },
  {
   "cell_type": "code",
   "execution_count": 10,
   "metadata": {
    "ExecuteTime": {
     "end_time": "2019-06-28T21:45:13.714634Z",
     "start_time": "2019-06-28T21:45:13.707479Z"
    }
   },
   "outputs": [
    {
     "name": "stdout",
     "output_type": "stream",
     "text": [
      "Best parameters: {'criterion': 'entropy', 'max_depth': 6, 'max_leaf_nodes': 10, 'min_samples_split': 2}\n"
     ]
    }
   ],
   "source": [
    "# display best parameters chosen by grid search\n",
    "print(\"Best parameters: {0}\".format(grid_search.best_params_))"
   ]
  },
  {
   "cell_type": "markdown",
   "metadata": {},
   "source": [
    "## Review results"
   ]
  },
  {
   "cell_type": "markdown",
   "metadata": {},
   "source": [
    "<a id = 'Review-results'></a>"
   ]
  },
  {
   "cell_type": "code",
   "execution_count": 11,
   "metadata": {
    "ExecuteTime": {
     "end_time": "2019-06-28T21:45:13.743035Z",
     "start_time": "2019-06-28T21:45:13.718346Z"
    }
   },
   "outputs": [
    {
     "name": "stdout",
     "output_type": "stream",
     "text": [
      "Grid search model performance: \n",
      "\n",
      "Data We Trained On Prediction Accuracy: 0.6666666666666666%\n",
      "Future Data Prediction Accuracy: 0.5%\n"
     ]
    }
   ],
   "source": [
    "# generate predictions using best model and review accuracies\n",
    "y_pred_train = grid_search.predict(X_train)\n",
    "y_pred_test = grid_search.predict(X_test)\n",
    "\n",
    "print(\"Grid search model performance: \\n\")\n",
    "\n",
    "print(\n",
    "    \"Data We Trained On Prediction Accuracy: {0}%\".format(\n",
    "        sum(y_train == y_pred_train) / len(y_pred_train)\n",
    "    )\n",
    ")\n",
    "print(\n",
    "    \"Future Data Prediction Accuracy: {0}%\".format(\n",
    "        sum(y_test == y_pred_test) / len(y_pred_test)\n",
    "    )\n",
    ")"
   ]
  },
  {
   "cell_type": "code",
   "execution_count": 12,
   "metadata": {
    "ExecuteTime": {
     "end_time": "2019-06-28T21:45:13.769678Z",
     "start_time": "2019-06-28T21:45:13.745343Z"
    }
   },
   "outputs": [
    {
     "data": {
      "text/plain": [
       "DecisionTreeClassifier(class_weight=None, criterion='entropy', max_depth=6,\n",
       "                       max_features=None, max_leaf_nodes=10,\n",
       "                       min_impurity_decrease=0.0, min_impurity_split=None,\n",
       "                       min_samples_leaf=1, min_samples_split=2,\n",
       "                       min_weight_fraction_leaf=0.0, presort=False,\n",
       "                       random_state=1, splitter='best')"
      ]
     },
     "execution_count": 12,
     "metadata": {},
     "output_type": "execute_result"
    }
   ],
   "source": [
    "# review best model as determined by GridSearchCV\n",
    "grid_search.best_estimator_"
   ]
  }
 ],
 "metadata": {
  "kernelspec": {
   "display_name": "Python 3",
   "language": "python",
   "name": "python3"
  },
  "language_info": {
   "codemirror_mode": {
    "name": "ipython",
    "version": 3
   },
   "file_extension": ".py",
   "mimetype": "text/x-python",
   "name": "python",
   "nbconvert_exporter": "python",
   "pygments_lexer": "ipython3",
   "version": "3.6.8"
  },
  "toc": {
   "base_numbering": 1,
   "nav_menu": {},
   "number_sections": true,
   "sideBar": true,
   "skip_h1_title": false,
   "title_cell": "Table of Contents",
   "title_sidebar": "Contents",
   "toc_cell": false,
   "toc_position": {},
   "toc_section_display": true,
   "toc_window_display": false
  }
 },
 "nbformat": 4,
 "nbformat_minor": 1
}
