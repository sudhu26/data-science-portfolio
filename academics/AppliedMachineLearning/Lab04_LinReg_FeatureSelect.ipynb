{
 "cells": [
  {
   "cell_type": "markdown",
   "metadata": {},
   "source": [
    "# TOC"
   ]
  },
  {
   "cell_type": "markdown",
   "metadata": {},
   "source": [
    "__Lab 04 - Linear regression & feature selection__\n",
    "1. [Import](#Import)\n",
    "1. [Linear regression basics](#Linear-regression-basics)\n",
    "    1. [Example 1 - simple linear regression](#Linear-regression-basics-Example1)\n",
    "1. [Linear regression w/ gradient descent](#Linear-regression-w/-gradient-descent)\n",
    "    1. [Example 1 - full gradient descent](#Linear-regression-w/-gradient-descent-Example1)\n",
    "    1. [Example 2 - stochastic / batch gradient descent](#Linear-regression-w/-gradient-descent-Example2)\n",
    "1. [Feature selection](#Feature-selection)\n",
    "    1. [Example 1 - SelectKBest for linear regression - compact](#Feature-selection-Example1)\n",
    "    1. [Example 2 - SelectKBest for linear regression - detailed](#Feature-selection-Example2)\n",
    "    1. [Example 3 - feature selection step within pipeline](#Feature-selection-Example3)\n",
    "1. [Handling missing data](#Handling-missing-data)\n",
    "    1. [Example 1 - null observations and features](#Handling-missing-data-Example1)\n",
    "1. [Handling categorical features](#Handling-categorical-features)\n",
    "    1. [Example 1 - mapping strategies](#Handling-categorical-features-Example1)\n",
    "1. [Standardizing data: bring features onto same scale](#Standardizing-data:-bring-features-onto-same-scale)\n",
    "    1. [Example 1 - standardization strategies](#Standardizing-data:-bring-features-onto-same-scale-Example1)\n"
   ]
  },
  {
   "cell_type": "markdown",
   "metadata": {},
   "source": [
    "# Import"
   ]
  },
  {
   "cell_type": "markdown",
   "metadata": {},
   "source": [
    "<a id ='Import'></a>"
   ]
  },
  {
   "cell_type": "code",
   "execution_count": 70,
   "metadata": {
    "ExecuteTime": {
     "end_time": "2019-06-27T13:09:33.561817Z",
     "start_time": "2019-06-27T13:09:33.479231Z"
    }
   },
   "outputs": [
    {
     "data": {
      "text/html": [
       "<style>.container { width:78% !important; }</style>"
      ],
      "text/plain": [
       "<IPython.core.display.HTML object>"
      ]
     },
     "metadata": {},
     "output_type": "display_data"
    }
   ],
   "source": [
    "import numpy as np\n",
    "\n",
    "np.set_printoptions(threshold=np.inf, suppress=True)\n",
    "import pandas as pd\n",
    "import matplotlib.pyplot as plt\n",
    "\n",
    "%matplotlib inline\n",
    "import seaborn as sns\n",
    "import warnings\n",
    "\n",
    "warnings.simplefilter(\"ignore\")\n",
    "from IPython.core.display import display, HTML\n",
    "\n",
    "display(HTML(\"<style>.container { width:78% !important; }</style>\"))\n",
    "\n",
    "import sys\n",
    "import csv\n",
    "\n",
    "from sklearn.linear_model import LinearRegression\n",
    "from sklearn.datasets import load_boston\n",
    "from sklearn.feature_selection import SelectKBest, f_regression\n",
    "from sklearn.model_selection import train_test_split, GridSearchCV\n",
    "from sklearn.base import BaseEstimator, TransformerMixin\n",
    "from sklearn.pipeline import Pipeline\n",
    "from sklearn.preprocessing import (\n",
    "    StandardScaler,\n",
    "    LabelEncoder,\n",
    "    OneHotEncoder,\n",
    "    MinMaxScaler,\n",
    "    Imputer,\n",
    ")\n",
    "from sklearn.metrics import accuracy_score, mean_squared_error\n",
    "\n",
    "from mpl_toolkits.mplot3d import Axes3D\n",
    "from matplotlib import cm\n",
    "from matplotlib import colors\n",
    "\n",
    "%matplotlib inline\n",
    "%reload_ext autoreload\n",
    "%autoreload 2"
   ]
  },
  {
   "cell_type": "markdown",
   "metadata": {},
   "source": [
    "# Linear regression basics\n",
    "\n",
    "Linear regression seeks to fit a line (in 2 dimensions), a plane (in 3 dimensions) or a hyperplane (in 4+ dimensions) to a dataset. The line is fit to a set of $m$ total observations. Each observation has $n$ total features, or dimensions, that describe the observation's characteristics. Typically, the observations are represented as rows in a datset and the features are represented as columns and are captured in an $m \\space x \\space n$ matrix $X$.\n",
    "\n",
    "All feature values of a single observation are captured in the vector $\\textbf{x}_i$, and each $j$ feature is paired with a weight $w_j$. The full set of weights is contained in a weight vector $\\textbf{w}$. The feature values for each observation are combined with their respective weights to produce a prediction for that observation's outcome. The equation for determining the prediction of a single outcome is:\n",
    "\n",
    "$$\n",
    "\\hat{y}_i = \\textbf{w}^T\\textbf{x}_i + b\n",
    "\\\\\n",
    "\\textrm{where } b \\textrm{ is the bias term}\n",
    "$$ \n",
    "\n",
    "The error, or residual, of each prediction is the different between the predicted outcome $\\hat{y}_i$ and the actual outcome $y_i$. The line that fits best is the line that minimizes the cumulative error across all predictions. This overall error is captured by a loss (or objective) function, and the goal is to optimize the equation by finding the parameters which minimize the total loss. A typical method for calculating loss is mean squared error (MSE):\n",
    "\n",
    "$$ \n",
    "\\begin{equation}\n",
    "\\frac{1}{m}\\sum_{i=1}^{m}\\left[ (\\mathbf{w}^T\\mathbf{x}_i + b) - y_i\\right]^2,\\\\\n",
    "\\textrm{where } m \\textrm{ is the # of observations}\n",
    "\\end{equation}\n",
    "$$\n",
    "\n",
    "The bias term $b$ can be removed from the equation: \n",
    "\n",
    "$$\n",
    "\\begin{equation}\\tag{1.3}\n",
    "\\frac{1}{m}\\sum_{i=1}^{m}\\left[ \\mathbf{w}^T\\mathbf{x}_i - y_i\\right]^2\n",
    "\\end{equation}\n",
    "$$\n",
    "\n",
    "by 'augmenting' the weight vector and observation feature vectors. To augment the weight vector, the bias unit is inserted into the weight vector $\\textbf{w}$ at $w_1$, and observation each sample vector has a 1 placed at $x_{i1}$:\n",
    "\n",
    "$$\n",
    "\\mathbf{x_i} =\n",
    "\\begin{bmatrix}\n",
    "\\mathbf{1}\\\\\n",
    "\\mathbf{x_{i2}}\\\\\n",
    "\\mathbf{...}\\\\\n",
    "\\mathbf{x_{in+1}}\\\\\n",
    "\\end{bmatrix},\\quad\n",
    "\\boldsymbol{\\mathbf{w}} =\n",
    "\\begin{bmatrix}\n",
    "\\mathbf{b}\\\\\n",
    "\\mathbf{w_2}\\\\\n",
    "\\mathbf{...}\\\\\n",
    "\\mathbf{w_{n+1}}\\\\\n",
    "\\end{bmatrix}\n",
    "$$\n"
   ]
  },
  {
   "cell_type": "markdown",
   "metadata": {},
   "source": [
    "<a id ='Linear-regression-basics'></a>"
   ]
  },
  {
   "cell_type": "markdown",
   "metadata": {},
   "source": [
    "## Example 1 - simple linear regression\n",
    "\n",
    "- Calculate ordinary least squares loss on small, made up dataset\n",
    "- Visualize the line created by the model"
   ]
  },
  {
   "cell_type": "markdown",
   "metadata": {},
   "source": [
    "<a id = 'Linear-regression-basics-Example1'></a>"
   ]
  },
  {
   "cell_type": "markdown",
   "metadata": {},
   "source": [
    "__Custom functions__"
   ]
  },
  {
   "cell_type": "code",
   "execution_count": 71,
   "metadata": {
    "ExecuteTime": {
     "end_time": "2019-06-27T13:09:33.620761Z",
     "start_time": "2019-06-27T13:09:33.568778Z"
    }
   },
   "outputs": [],
   "source": [
    "# custom functions\n",
    "def plot_2d_models(data, models=[], names=[], title=None):\n",
    "    fig, ax = plt.subplots()\n",
    "\n",
    "    ax.plot(data[:, 0], data[:, 1], \"o\")\n",
    "    domain = [min(data[:, 0]), max(data[:, 0])]\n",
    "\n",
    "    for W, label in zip(models, names):\n",
    "        b, m = W[0], W[1]\n",
    "        yvals = [m * x + b for x in domain]\n",
    "        ax.plot(domain, yvals, linewidth=1, label=label)\n",
    "    if models:\n",
    "        plt.legend(bbox_to_anchor=(1.05, 1.00), loc=2, borderaxespad=0.0)\n",
    "    if title:\n",
    "        plt.title(title)\n",
    "\n",
    "\n",
    "def augment(X):\n",
    "    return np.insert(arr=X, obj=0, values=1.0, axis=1)\n",
    "\n",
    "\n",
    "def ols_loss(X, y, model):\n",
    "    N = len(X)\n",
    "    W = np.array(model)\n",
    "    return 1 / float(N) * sum((W.dot(X.T) - y) ** 2)"
   ]
  },
  {
   "cell_type": "code",
   "execution_count": 72,
   "metadata": {
    "ExecuteTime": {
     "end_time": "2019-06-27T13:09:33.692112Z",
     "start_time": "2019-06-27T13:09:33.631678Z"
    }
   },
   "outputs": [],
   "source": [
    "# load and inspect data\n",
    "def getData():\n",
    "    dfData = {\"x\": [1, 3, 5, 4, 2], \"y\": [2, 4, 5, 3, 3]}\n",
    "    return pd.DataFrame.from_dict(dfData).values\n",
    "\n",
    "\n",
    "points = getData()"
   ]
  },
  {
   "cell_type": "code",
   "execution_count": 73,
   "metadata": {
    "ExecuteTime": {
     "end_time": "2019-06-27T13:09:33.753742Z",
     "start_time": "2019-06-27T13:09:33.700986Z"
    }
   },
   "outputs": [
    {
     "data": {
      "text/plain": [
       "array([[1, 1],\n",
       "       [1, 3],\n",
       "       [1, 5],\n",
       "       [1, 4],\n",
       "       [1, 2]])"
      ]
     },
     "execution_count": 73,
     "metadata": {},
     "output_type": "execute_result"
    }
   ],
   "source": [
    "# review observations\n",
    "X = augment(X=points)[:, :-1]\n",
    "X"
   ]
  },
  {
   "cell_type": "code",
   "execution_count": 74,
   "metadata": {
    "ExecuteTime": {
     "end_time": "2019-06-27T13:09:33.800088Z",
     "start_time": "2019-06-27T13:09:33.760962Z"
    }
   },
   "outputs": [
    {
     "data": {
      "text/plain": [
       "array([2, 4, 5, 3, 3])"
      ]
     },
     "execution_count": 74,
     "metadata": {},
     "output_type": "execute_result"
    }
   ],
   "source": [
    "# review labels\n",
    "y = points[:, -1]\n",
    "y"
   ]
  },
  {
   "cell_type": "code",
   "execution_count": 75,
   "metadata": {
    "ExecuteTime": {
     "end_time": "2019-06-27T13:09:33.837758Z",
     "start_time": "2019-06-27T13:09:33.806381Z"
    }
   },
   "outputs": [
    {
     "name": "stdout",
     "output_type": "stream",
     "text": [
      "Loss: 0.8\n"
     ]
    }
   ],
   "source": [
    "# calculate loss\n",
    "print(\"Loss: {0}\".format(ols_loss(X, y, model=[0, 1])))"
   ]
  },
  {
   "cell_type": "code",
   "execution_count": 76,
   "metadata": {
    "ExecuteTime": {
     "end_time": "2019-06-27T13:09:34.146141Z",
     "start_time": "2019-06-27T13:09:33.844187Z"
    }
   },
   "outputs": [
    {
     "data": {
      "image/png": "[encoded data removed]",
      "text/plain": [
       "<Figure size 432x288 with 1 Axes>"
      ]
     },
     "metadata": {
      "needs_background": "light"
     },
     "output_type": "display_data"
    }
   ],
   "source": [
    "# visualize line fit\n",
    "plot_2d_models(data=points, models=[[0, 1]], names=[\"model\"], title=\"small example\")"
   ]
  },
  {
   "cell_type": "markdown",
   "metadata": {
    "ExecuteTime": {
     "end_time": "2018-06-16T16:31:00.390816Z",
     "start_time": "2018-06-16T16:31:00.202916Z"
    }
   },
   "source": [
    "# Linear regression w/ gradient descent\n",
    "\n",
    "When determing the best model, it is helpful to understand that the data in $X$ is static, and we are observing how the loss of a model varies as we change the weight in $\\theta$.\n",
    "\n",
    "Calculus tells us that the minimums and maximums (when they exists) occur where our function's first derivative = 0. This rule can be extended in higher dimensions by considering a function's gradient vector, which is comprised of partial derivatives. Again, we want all partial derivatives in the gradient to = 0.\n",
    "\n",
    "A first derivative of 0 tells us that we've reached a minimum or maximum, and the second derivative tells us which one. If the sign of the second derivative is  positive, this indicates that the function is curving upwards and we've reached a minimum. If the sign of the second derivative is negative, we've reached a maximum."
   ]
  },
  {
   "cell_type": "markdown",
   "metadata": {},
   "source": [
    "<a id = 'Linear-regression-w/-gradient-descent'></a>"
   ]
  },
  {
   "cell_type": "markdown",
   "metadata": {},
   "source": [
    "## Example 1 - full gradient descent\n",
    "\n",
    "To start this process, let's recall our mean squared error (MSE) loss function from above:\n",
    "\n",
    "$$\n",
    "\\begin{equation}\n",
    "LOSS_{MSE}(\\boldsymbol{\\theta}) = \\frac{1}{m}\\sum_{i=1}^{m}\\left[ \\boldsymbol{\\theta}\\cdot\\mathbf{x}'_i - y_i\\right]^2\n",
    "\\\\\n",
    "\\textrm{where } \\theta \\textrm{ is equivalent to the } \\textbf{w}^T \\textrm{ term used previously}\n",
    "\\end{equation}\n",
    "$$\n",
    "\n",
    "The first derivative of our loss function gives us our gradient:\n",
    "\n",
    "$$\n",
    "\\begin{equation}\n",
    "\\nabla_{ LOSS_{MSE}}(\\boldsymbol{\\theta}) = \\frac{2}{m}\\,\\sum_{i=1}^{m}\\left[ \\boldsymbol{\\theta}\\cdot\\mathbf{x}'_i - y_i\\right] \\cdot \\mathbf{x}'\n",
    "\\end{equation}\n",
    "$$\n",
    "\n",
    "\n",
    "With gradient descent, we don't need to know the entire surface to determine the optiminum. A way to consider gradient descent is to think about the process of walking down a hill blindfolded. We start at a random location on the error surface, and feel our way down the hill in small steps. We assess the ground around our immediate location and walk in the direction of steepest descent, reassessing along the way. We know we have reached the bottom of the hill (or minimum loss) once there we find a location where the surface around us only slopes upwards.\n",
    "\n",
    "In the function, ther size of our steps is controlled by a hyperparamter called the learning rate. This process can be summarized in three steps:\n",
    "\n",
    "1. Initialize our weight vector $\\boldsymbol{\\theta}$ to a random set of values.\n",
    "2. Compute the gradient $\\nabla_{\\theta}f(\\boldsymbol{\\theta})$\n",
    "3. Update the parameters: $\\theta_{new} = \\theta_{old} - \\eta \\cdot \\nabla_{\\theta}f(\\boldsymbol{\\theta})$"
   ]
  },
  {
   "cell_type": "markdown",
   "metadata": {},
   "source": [
    "<a id = 'Linear-regression-w/-gradient-descent-Example1'></a>"
   ]
  },
  {
   "cell_type": "markdown",
   "metadata": {},
   "source": [
    "__Custom functions__"
   ]
  },
  {
   "cell_type": "code",
   "execution_count": 77,
   "metadata": {
    "ExecuteTime": {
     "end_time": "2019-06-27T13:09:34.201352Z",
     "start_time": "2019-06-27T13:09:34.152986Z"
    }
   },
   "outputs": [],
   "source": [
    "# custom functions\n",
    "def ols_gradient(X, y, model):\n",
    "    \"\"\"\n",
    "    the dot product of the weights and X yields a prediction vector of len(X).\n",
    "    find the error between the prediction and the actual outcome, a vector of len(X).\n",
    "    the dot product of errors and the features points toward steepest descent.\n",
    "    multiply this by 2 divided by the sample size for the update.    \n",
    "    \"\"\"\n",
    "    M = len(X)\n",
    "    W = np.array(model)\n",
    "    return 2.0 / M * (W.dot(X.T) - y).dot(X)\n",
    "\n",
    "\n",
    "def gradient_descent_update(X, y, n_iter, init_model, eta, verbose=False):\n",
    "    models = [init_model]\n",
    "    loss = [ols_loss(X, y, init_model)]\n",
    "\n",
    "    for idx in range(n_iter):\n",
    "        gradient = ols_gradient(X, y, models[-1])\n",
    "        update = eta * gradient\n",
    "        newModel = models[-1] - update\n",
    "        if verbose:\n",
    "            print(\n",
    "                \"\\nModel {0}: [{1}, {2}]\".format(\n",
    "                    idx, round(models[-1][0], 2), round(models[-1][1], 2)\n",
    "                )\n",
    "            )\n",
    "            print(\"Loss: {0}\".format(loss[-1]))\n",
    "            print(\"     >>> gradient: {0}\".format(gradient))\n",
    "            print(\"     >>> update: {0}\".format(update))\n",
    "        models.append(newModel)\n",
    "        loss.append(ols_loss(X, y, newModel))\n",
    "    if verbose:\n",
    "        print(\n",
    "            \"\\nModel {0}: [{1}, {2}]\".format(\n",
    "                idx, round(models[-1][0], 2), round(models[-1][1], 2)\n",
    "            )\n",
    "        )\n",
    "        print(\"Loss: {0}\".format(loss[-1]))\n",
    "    return np.array(models), loss\n",
    "\n",
    "\n",
    "def plot_gradient_descent_progress(data, models, loss, lossFunc=ols_loss, show_contours=True):\n",
    "    # Create figure w/ two subplots\n",
    "    fig = plt.figure(figsize=plt.figaspect(0.35))\n",
    "    ax1 = plt.subplot(1, 2, 1)\n",
    "    ax1.grid(color=\"grey\", linestyle=\"-\", linewidth=0.5, alpha=0.5)\n",
    "    ax2 = plt.subplot(1, 2, 2)\n",
    "    ax2.grid(color=\"grey\", linestyle=\"-\", linewidth=0.5, alpha=0.5)\n",
    "    fig.subplots_adjust(wspace=0.6)\n",
    "\n",
    "    ##### Problem Domain Space #####\n",
    "\n",
    "    # plot data\n",
    "    ax1.plot(data[:, 0], data[:, 1], \"o\")\n",
    "    ax1.set_title(\"Problem Domain Space\", fontsize=18)\n",
    "    ax1.set_xlabel(\"Input Data\")\n",
    "    ax1.set_ylabel(\"Output Value\")\n",
    "    domain = [min(data[:, 0]), max(data[:, 0])]\n",
    "\n",
    "    # plot models\n",
    "    for idx, W in enumerate(models):\n",
    "        b, m = W[0], W[1]\n",
    "        yvals = [m * x + b for x in domain]\n",
    "        name = \"m{0}: {1}\".format(idx, round(loss[idx], 2))\n",
    "        ax1.plot(domain, yvals, label=name, linewidth=1)\n",
    "    ax1.legend(bbox_to_anchor=(1.05, 1), loc=2, borderaxespad=0.0)\n",
    "\n",
    "    ##### Model Parameter Space #####\n",
    "\n",
    "    # plot loss for our models\n",
    "    w1, w0 = models.T\n",
    "    ax2.plot(w0, w1)\n",
    "    ax2.plot(w0, w1, \"s\")\n",
    "    ax2.set_title(\"Model Parameter Space\", fontsize=18)\n",
    "    ax2.set_xlabel(\"W_0 (slope)\")\n",
    "    ax2.set_ylabel(\"W_1 (intercept)\")\n",
    "\n",
    "    # plot contour lines\n",
    "    if show_contours:\n",
    "        # grid parameters -- just a bit larger than models\n",
    "        w0_min, w0_max = min(w0) * 0.9, max(w0) * 1.1\n",
    "        w1_min, w1_max = min(w1) * 0.9, max(w1) * 1.2\n",
    "        w0_step = (w0_max - w0_min) / 20\n",
    "        w1_step = (w1_max - w1_min) / 20\n",
    "        # create loss grid for contour plot\n",
    "        grid_w0, grid_w1 = np.mgrid[w0_min:w0_max:w0_step, w1_min:w1_max:w1_step]\n",
    "        grid_loss = [\n",
    "            lossFunc(augment(data)[:, :2], data[:, 1], model)\n",
    "            for model in zip(grid_w0.flatten(), grid_w1.flatten())\n",
    "        ]\n",
    "        grid_loss = np.array(grid_loss).reshape(20, 20)\n",
    "        # plot loss contours\n",
    "        topo_levels = np.logspace(\n",
    "            min(np.log(min(loss)), 0.1), min(np.log(max(loss)) / 10, 20)\n",
    "        )\n",
    "        CS = ax2.contour(\n",
    "            grid_w0,\n",
    "            grid_w1,\n",
    "            grid_loss,\n",
    "            levels=topo_levels,\n",
    "            cmap=\"rainbow\",\n",
    "            linewidths=2.0,\n",
    "            alpha=0.35,\n",
    "        )"
   ]
  },
  {
   "cell_type": "code",
   "execution_count": 78,
   "metadata": {
    "ExecuteTime": {
     "end_time": "2019-06-27T13:09:34.242714Z",
     "start_time": "2019-06-27T13:09:34.208403Z"
    }
   },
   "outputs": [],
   "source": [
    "# load  data\n",
    "points = getData()\n",
    "X = augment(points)[:, :-1]\n",
    "y = points[:, -1]"
   ]
  },
  {
   "cell_type": "code",
   "execution_count": 79,
   "metadata": {
    "ExecuteTime": {
     "end_time": "2019-06-27T13:09:34.284878Z",
     "start_time": "2019-06-27T13:09:34.249777Z"
    }
   },
   "outputs": [
    {
     "data": {
      "text/plain": [
       "array([[1, 1],\n",
       "       [1, 3],\n",
       "       [1, 5],\n",
       "       [1, 4],\n",
       "       [1, 2]])"
      ]
     },
     "execution_count": 79,
     "metadata": {},
     "output_type": "execute_result"
    }
   ],
   "source": [
    "# review observations\n",
    "X"
   ]
  },
  {
   "cell_type": "code",
   "execution_count": 80,
   "metadata": {
    "ExecuteTime": {
     "end_time": "2019-06-27T13:09:34.327057Z",
     "start_time": "2019-06-27T13:09:34.292669Z"
    }
   },
   "outputs": [
    {
     "data": {
      "text/plain": [
       "array([2, 4, 5, 3, 3])"
      ]
     },
     "execution_count": 80,
     "metadata": {},
     "output_type": "execute_result"
    }
   ],
   "source": [
    "# review labels\n",
    "y"
   ]
  },
  {
   "cell_type": "code",
   "execution_count": 81,
   "metadata": {
    "ExecuteTime": {
     "end_time": "2019-06-27T13:09:34.376545Z",
     "start_time": "2019-06-27T13:09:34.333598Z"
    }
   },
   "outputs": [
    {
     "name": "stdout",
     "output_type": "stream",
     "text": [
      "\n",
      "Model 0: [0, 1]\n",
      "Loss: 0.8\n",
      "     >>> gradient: [-0.8 -0.8]\n",
      "     >>> update: [-0.008 -0.008]\n",
      "\n",
      "Model 1: [0.01, 1.01]\n",
      "Loss: 0.788352\n",
      "     >>> gradient: [-0.736 -0.576]\n",
      "     >>> update: [-0.00736 -0.00576]\n",
      "\n",
      "Model 2: [0.02, 1.01]\n",
      "Loss: 0.7802907648000001\n",
      "     >>> gradient: [-0.68672 -0.40512]\n",
      "     >>> update: [-0.0068672 -0.0040512]\n",
      "\n",
      "Model 3: [0.02, 1.02]\n",
      "Loss: 0.7743283143475198\n",
      "     >>> gradient: [-0.6486784 -0.2747904]\n",
      "     >>> update: [-0.00648678 -0.0027479 ]\n",
      "\n",
      "Model 4: [0.03, 1.02]\n",
      "Loss: 0.7695974695071257\n",
      "     >>> gradient: [-0.61921741 -0.17541581]\n",
      "     >>> update: [-0.00619217 -0.00175416]\n",
      "\n",
      "Model 4: [0.03, 1.02]\n",
      "Loss: 0.7655928235757341\n",
      "Searched 6 models...\n",
      "Best model: [0.03490616 1.02231326], Loss of best model: 0.7655928235757341\n"
     ]
    }
   ],
   "source": [
    "# execute full gradient descent\n",
    "n_steps = 5\n",
    "eta = 0.01\n",
    "orig_model = [0, 1]\n",
    "\n",
    "models, loss = gradient_descent_update(X, y, n_steps, orig_model, eta, verbose=True)\n",
    "\n",
    "print(\"Searched {0} models...\".format(len(models)))\n",
    "print(\n",
    "    \"Best model: {0}, Loss of best model: {1}\".format(\n",
    "        models[np.argmin(loss)], loss[np.argmin(loss)]\n",
    "    )\n",
    ")"
   ]
  },
  {
   "cell_type": "code",
   "execution_count": 82,
   "metadata": {
    "ExecuteTime": {
     "end_time": "2019-06-27T13:09:34.928497Z",
     "start_time": "2019-06-27T13:09:34.382606Z"
    }
   },
   "outputs": [
    {
     "data": {
      "image/png": "[encoded data removed]",
      "text/plain": [
       "<Figure size 822.857x288 with 2 Axes>"
      ]
     },
     "metadata": {
      "needs_background": "light"
     },
     "output_type": "display_data"
    }
   ],
   "source": [
    "# visualize optimization\n",
    "show_contours = False\n",
    "plot_gradient_descent_progress(points, models, loss, show_contours=show_contours)"
   ]
  },
  {
   "cell_type": "markdown",
   "metadata": {},
   "source": [
    "## Example 2 - stochastic / batch gradient descent\n",
    "\n",
    "Full gradient descent completes its step only after calculating then gradient of the entiren data set. This is a high-precision approach, but can be resource intensive. An alternative is stochastic descent which uses a subset of the features. This subset can be as small as size 1.\n",
    "\n",
    "$$\n",
    "\\begin{equation}\n",
    "\\nabla f(\\boldsymbol{\\theta}) \\approx \\nabla_{\\text{batch}\\,\\,} f(\\boldsymbol{\\theta}) = \\frac{2}{m}\\sum_{i=1}^{m}\\left(\\mathbf{x}'_{a_i}\\cdot \\boldsymbol{\\theta} - y_{a_i}\\right)\\cdot \\mathbf{x}'_{a_i}\n",
    "\\end{equation}\n",
    "$$\n",
    "\n",
    "where $a_i$ is an array of indices of objects which are in this batch. After each iteration, it important to shuffle the samples."
   ]
  },
  {
   "cell_type": "markdown",
   "metadata": {},
   "source": [
    "<a id = 'Linear-regression-w/-gradient-descent-Example2'></a>"
   ]
  },
  {
   "cell_type": "markdown",
   "metadata": {},
   "source": [
    "__Custom functions__"
   ]
  },
  {
   "cell_type": "code",
   "execution_count": 83,
   "metadata": {
    "ExecuteTime": {
     "end_time": "2019-06-27T13:09:34.977839Z",
     "start_time": "2019-06-27T13:09:34.934267Z"
    }
   },
   "outputs": [],
   "source": [
    "# custom function\n",
    "def stochastic_gradient_descent_update(X, y, n_iter, B, ]=[, eta, verbose=False):\n",
    "    models = [init_model]\n",
    "    loss = [ols_loss(X, y, init_model)]\n",
    "\n",
    "    m = len(X)\n",
    "    for idx in range(n_iter):\n",
    "        j = (idx * B) % m\n",
    "        batchX, batchy = X[j : j + B], y[j : j + B]\n",
    "        gradient = ols_gradient(batchX, batchy, models[-1]) / m\n",
    "        update = eta * gradient\n",
    "        newModel = models[-1] - update\n",
    "        if verbose:\n",
    "            print(\n",
    "                \"\\nModel {0}: [{1}, {2}]\".format(\n",
    "                    idx, round(models[-1][0], 2), round(models[-1][1], 2)\n",
    "                )\n",
    "            )\n",
    "            print(\"Loss: {0}\".format(loss[-1]))\n",
    "            print(\"     >>> gradient: {0}\".format(gradient))\n",
    "            print(\"     >>> update: {0}\".format(update))\n",
    "        models.append(newModel)\n",
    "        loss.append(ols_loss(X, y, newModel))\n",
    "    if verbose:\n",
    "        print(\n",
    "            \"\\nModel {0}: [{1}, {2}]\".format(\n",
    "                idx, round(models[-1][0], 2), round(models[-1][1], 2)\n",
    "            )\n",
    "        )\n",
    "        print(\"Loss: {0}\".format(loss[-1]))\n",
    "    return np.array(models), loss"
   ]
  },
  {
   "cell_type": "code",
   "execution_count": 84,
   "metadata": {
    "ExecuteTime": {
     "end_time": "2019-06-27T13:09:35.029810Z",
     "start_time": "2019-06-27T13:09:34.983844Z"
    }
   },
   "outputs": [],
   "source": [
    "# load  data\n",
    "points = getData()\n",
    "X = augment(points)[:, :-1]\n",
    "y = points[:, -1]"
   ]
  },
  {
   "cell_type": "code",
   "execution_count": 85,
   "metadata": {
    "ExecuteTime": {
     "end_time": "2019-06-27T13:09:35.072686Z",
     "start_time": "2019-06-27T13:09:35.037046Z"
    }
   },
   "outputs": [
    {
     "data": {
      "text/plain": [
       "array([[1, 1],\n",
       "       [1, 3],\n",
       "       [1, 5],\n",
       "       [1, 4],\n",
       "       [1, 2]])"
      ]
     },
     "execution_count": 85,
     "metadata": {},
     "output_type": "execute_result"
    }
   ],
   "source": [
    "# review observations\n",
    "X"
   ]
  },
  {
   "cell_type": "code",
   "execution_count": 86,
   "metadata": {
    "ExecuteTime": {
     "end_time": "2019-06-27T13:09:35.111705Z",
     "start_time": "2019-06-27T13:09:35.079194Z"
    }
   },
   "outputs": [
    {
     "data": {
      "text/plain": [
       "array([2, 4, 5, 3, 3])"
      ]
     },
     "execution_count": 86,
     "metadata": {},
     "output_type": "execute_result"
    }
   ],
   "source": [
    "# review labels\n",
    "y"
   ]
  },
  {
   "cell_type": "code",
   "execution_count": 87,
   "metadata": {
    "ExecuteTime": {
     "end_time": "2019-06-27T13:09:35.158788Z",
     "start_time": "2019-06-27T13:09:35.118299Z"
    }
   },
   "outputs": [
    {
     "name": "stdout",
     "output_type": "stream",
     "text": [
      "\n",
      "Model 0: [0, 1]\n",
      "Loss: 0.8\n",
      "     >>> gradient: [-0.4 -0.4]\n",
      "     >>> update: [-0.04 -0.04]\n",
      "\n",
      "Model 1: [0.04, 1.04]\n",
      "Loss: 0.7648\n",
      "     >>> gradient: [-0.336 -1.008]\n",
      "     >>> update: [-0.0336 -0.1008]\n",
      "\n",
      "Model 2: [0.07, 1.14]\n",
      "Loss: 0.9141452800000004\n",
      "     >>> gradient: [0.31104 1.5552 ]\n",
      "     >>> update: [0.031104 0.15552 ]\n",
      "\n",
      "Model 3: [0.04, 0.99]\n",
      "Loss: 0.7782153256960003\n",
      "     >>> gradient: [0.3934464 1.5737856]\n",
      "     >>> update: [0.03934464 0.15737856]\n",
      "\n",
      "Model 4: [0.0, 0.83]\n",
      "Loss: 1.2577106818564097\n",
      "     >>> gradient: [-0.5364183  -1.07283661]\n",
      "     >>> update: [-0.05364183 -0.10728366]\n",
      "\n",
      "Model 4: [0.06, 0.94]\n",
      "Loss: 0.8337672467910437\n",
      "Searched 6 models...\n",
      "Best model: [0.04 1.04], Loss of best model: 0.7648\n"
     ]
    }
   ],
   "source": [
    "# execute stochastic gradient descent\n",
    "n_steps = 5\n",
    "eta = 0.1\n",
    "orig_model = [0, 1]\n",
    "batch_size = 1\n",
    "\n",
    "models, loss = stochastic_gradient_descent_update(X, y, n_steps, batch_size, orig_model, eta, verbose=True)\n",
    "\n",
    "print(\"Searched {0} models...\".format(len(models)))\n",
    "print(\n",
    "    \"Best model: {0}, Loss of best model: {1}\".format(\n",
    "        models[np.argmin(loss)], loss[np.argmin(loss)]\n",
    "    )\n",
    ")"
   ]
  },
  {
   "cell_type": "code",
   "execution_count": 88,
   "metadata": {
    "ExecuteTime": {
     "end_time": "2019-06-27T13:09:35.718616Z",
     "start_time": "2019-06-27T13:09:35.165191Z"
    }
   },
   "outputs": [
    {
     "data": {
      "image/png": "[encoded data removed]",
      "text/plain": [
       "<Figure size 822.857x288 with 2 Axes>"
      ]
     },
     "metadata": {
      "needs_background": "light"
     },
     "output_type": "display_data"
    }
   ],
   "source": [
    "# visualize optimization\n",
    "show_contours = False\n",
    "plot_gradient_descent_progress(points, models, loss, show_contours=show_contours)"
   ]
  },
  {
   "cell_type": "markdown",
   "metadata": {
    "ExecuteTime": {
     "end_time": "2018-06-17T00:31:43.366668Z",
     "start_time": "2018-06-17T00:31:43.181038Z"
    }
   },
   "source": [
    "# Feature selection\n",
    "\n",
    "Feature selection pertains to strategic variable selection which aims to limit the original data set to only relevant variables. This is advantageous for several reasons:\n",
    "\n",
    "1. Simpler models are easier to interpet.\n",
    "2. Model training time is shorter.\n",
    "3. Avoids curse of dimensionality.\n",
    "4. Reduces tendency towards high variance due to increased model complexity."
   ]
  },
  {
   "cell_type": "markdown",
   "metadata": {},
   "source": [
    "<a id = 'Feature-selection'></a>"
   ]
  },
  {
   "cell_type": "markdown",
   "metadata": {},
   "source": [
    "## Example 1 - SelectKBest for linear regression - compact\n",
    "\n",
    "SelectKBest for linear regression employs a test called f_regression.\n",
    "\n",
    "Then first step is to compute the correlation between each feature and the target.\n",
    "\n",
    "$$\n",
    "{\\displaystyle \\rho _{X,Y}=\\mathrm {corr} (X,Y)={\\mathrm {cov} (X,Y) \\over \\sigma _{X}\\sigma _{Y}}={E[(X-\\mu _{X})(Y-\\mu _{Y})] \\over \\sigma _{X}\\sigma _{Y}},}\n",
    "$$\n",
    "\n",
    "Python code for this might look something like:\n",
    "\n",
    "```python\n",
    "((X[:, i] - mean(X[:, i])) (y - mean_y)) / (std(X[:, i]) std(y))\n",
    "```\n",
    "\n",
    "\n",
    "The second step is to use the correlation to calculate the F-score, which is used to calculate the p-value for each feature."
   ]
  },
  {
   "cell_type": "markdown",
   "metadata": {},
   "source": [
    "<a id = 'Feature-selection-Example1'></a>"
   ]
  },
  {
   "cell_type": "code",
   "execution_count": 89,
   "metadata": {
    "ExecuteTime": {
     "end_time": "2019-06-27T13:09:35.767507Z",
     "start_time": "2019-06-27T13:09:35.725439Z"
    }
   },
   "outputs": [],
   "source": [
    "# load data\n",
    "boston = load_boston()\n",
    "X = pd.DataFrame(boston.data, columns=boston.feature_names)\n",
    "y = boston.target"
   ]
  },
  {
   "cell_type": "code",
   "execution_count": 90,
   "metadata": {
    "ExecuteTime": {
     "end_time": "2019-06-27T13:09:35.823451Z",
     "start_time": "2019-06-27T13:09:35.784548Z"
    }
   },
   "outputs": [],
   "source": [
    "# train/test split\n",
    "X_train, X_test, y_train, y_test = train_test_split(X, y, test_size=0.2, random_state=9)"
   ]
  },
  {
   "cell_type": "code",
   "execution_count": 91,
   "metadata": {
    "ExecuteTime": {
     "end_time": "2019-06-27T13:09:35.864393Z",
     "start_time": "2019-06-27T13:09:35.829445Z"
    }
   },
   "outputs": [],
   "source": [
    "# perform SelectKBest\n",
    "best = SelectKBest(f_regression, k=5)  # k is number of features.\n",
    "X_trainSel = best.fit_transform(X_train, y_train)"
   ]
  },
  {
   "cell_type": "code",
   "execution_count": 92,
   "metadata": {
    "ExecuteTime": {
     "end_time": "2019-06-27T13:09:35.907926Z",
     "start_time": "2019-06-27T13:09:35.874646Z"
    }
   },
   "outputs": [
    {
     "data": {
      "text/plain": [
       "array([[  2.46 ,   6.144, 193.   ,  17.8  ,   9.45 ],\n",
       "       [ 25.65 ,   5.961, 188.   ,  19.1  ,  17.93 ],\n",
       "       [  2.89 ,   7.416, 276.   ,  18.   ,   6.19 ],\n",
       "       [  6.2  ,   6.951, 307.   ,  17.4  ,   9.71 ]])"
      ]
     },
     "execution_count": 92,
     "metadata": {},
     "output_type": "execute_result"
    }
   ],
   "source": [
    "# evaluate feature selection\n",
    "X_trainSel[0:4, :]"
   ]
  },
  {
   "cell_type": "code",
   "execution_count": 93,
   "metadata": {
    "ExecuteTime": {
     "end_time": "2019-06-27T13:09:35.965036Z",
     "start_time": "2019-06-27T13:09:35.915298Z"
    }
   },
   "outputs": [
    {
     "data": {
      "text/html": [
       "<div>\n",
       "<style scoped>\n",
       "    .dataframe tbody tr th:only-of-type {\n",
       "        vertical-align: middle;\n",
       "    }\n",
       "\n",
       "    .dataframe tbody tr th {\n",
       "        vertical-align: top;\n",
       "    }\n",
       "\n",
       "    .dataframe thead th {\n",
       "        text-align: right;\n",
       "    }\n",
       "</style>\n",
       "<table border=\"1\" class=\"dataframe\">\n",
       "  <thead>\n",
       "    <tr style=\"text-align: right;\">\n",
       "      <th></th>\n",
       "      <th>CRIM</th>\n",
       "      <th>ZN</th>\n",
       "      <th>INDUS</th>\n",
       "      <th>CHAS</th>\n",
       "      <th>NOX</th>\n",
       "      <th>RM</th>\n",
       "      <th>AGE</th>\n",
       "      <th>DIS</th>\n",
       "      <th>RAD</th>\n",
       "      <th>TAX</th>\n",
       "      <th>PTRATIO</th>\n",
       "      <th>B</th>\n",
       "      <th>LSTAT</th>\n",
       "    </tr>\n",
       "  </thead>\n",
       "  <tbody>\n",
       "    <tr>\n",
       "      <th>181</th>\n",
       "      <td>0.06888</td>\n",
       "      <td>0.0</td>\n",
       "      <td>2.46</td>\n",
       "      <td>0.0</td>\n",
       "      <td>0.488</td>\n",
       "      <td>6.144</td>\n",
       "      <td>62.2</td>\n",
       "      <td>2.5979</td>\n",
       "      <td>3.0</td>\n",
       "      <td>193.0</td>\n",
       "      <td>17.8</td>\n",
       "      <td>396.90</td>\n",
       "      <td>9.45</td>\n",
       "    </tr>\n",
       "    <tr>\n",
       "      <th>122</th>\n",
       "      <td>0.09299</td>\n",
       "      <td>0.0</td>\n",
       "      <td>25.65</td>\n",
       "      <td>0.0</td>\n",
       "      <td>0.581</td>\n",
       "      <td>5.961</td>\n",
       "      <td>92.9</td>\n",
       "      <td>2.0869</td>\n",
       "      <td>2.0</td>\n",
       "      <td>188.0</td>\n",
       "      <td>19.1</td>\n",
       "      <td>378.09</td>\n",
       "      <td>17.93</td>\n",
       "    </tr>\n",
       "    <tr>\n",
       "      <th>99</th>\n",
       "      <td>0.06860</td>\n",
       "      <td>0.0</td>\n",
       "      <td>2.89</td>\n",
       "      <td>0.0</td>\n",
       "      <td>0.445</td>\n",
       "      <td>7.416</td>\n",
       "      <td>62.5</td>\n",
       "      <td>3.4952</td>\n",
       "      <td>2.0</td>\n",
       "      <td>276.0</td>\n",
       "      <td>18.0</td>\n",
       "      <td>396.90</td>\n",
       "      <td>6.19</td>\n",
       "    </tr>\n",
       "    <tr>\n",
       "      <th>220</th>\n",
       "      <td>0.35809</td>\n",
       "      <td>0.0</td>\n",
       "      <td>6.20</td>\n",
       "      <td>1.0</td>\n",
       "      <td>0.507</td>\n",
       "      <td>6.951</td>\n",
       "      <td>88.5</td>\n",
       "      <td>2.8617</td>\n",
       "      <td>8.0</td>\n",
       "      <td>307.0</td>\n",
       "      <td>17.4</td>\n",
       "      <td>391.70</td>\n",
       "      <td>9.71</td>\n",
       "    </tr>\n",
       "    <tr>\n",
       "      <th>474</th>\n",
       "      <td>8.05579</td>\n",
       "      <td>0.0</td>\n",
       "      <td>18.10</td>\n",
       "      <td>0.0</td>\n",
       "      <td>0.584</td>\n",
       "      <td>5.427</td>\n",
       "      <td>95.4</td>\n",
       "      <td>2.4298</td>\n",
       "      <td>24.0</td>\n",
       "      <td>666.0</td>\n",
       "      <td>20.2</td>\n",
       "      <td>352.58</td>\n",
       "      <td>18.14</td>\n",
       "    </tr>\n",
       "  </tbody>\n",
       "</table>\n",
       "</div>"
      ],
      "text/plain": [
       "        CRIM   ZN  INDUS  CHAS    NOX     RM   AGE     DIS   RAD    TAX  \\\n",
       "181  0.06888  0.0   2.46   0.0  0.488  6.144  62.2  2.5979   3.0  193.0   \n",
       "122  0.09299  0.0  25.65   0.0  0.581  5.961  92.9  2.0869   2.0  188.0   \n",
       "99   0.06860  0.0   2.89   0.0  0.445  7.416  62.5  3.4952   2.0  276.0   \n",
       "220  0.35809  0.0   6.20   1.0  0.507  6.951  88.5  2.8617   8.0  307.0   \n",
       "474  8.05579  0.0  18.10   0.0  0.584  5.427  95.4  2.4298  24.0  666.0   \n",
       "\n",
       "     PTRATIO       B  LSTAT  \n",
       "181     17.8  396.90   9.45  \n",
       "122     19.1  378.09  17.93  \n",
       "99      18.0  396.90   6.19  \n",
       "220     17.4  391.70   9.71  \n",
       "474     20.2  352.58  18.14  "
      ]
     },
     "execution_count": 93,
     "metadata": {},
     "output_type": "execute_result"
    }
   ],
   "source": [
    "# review observations\n",
    "X_train.head()"
   ]
  },
  {
   "cell_type": "markdown",
   "metadata": {},
   "source": [
    ">  Features retained: INDUS, RM, TAX, PTRATIO, LSAT"
   ]
  },
  {
   "cell_type": "markdown",
   "metadata": {},
   "source": [
    "## Example 2 - SelectKBest for linear regression - detailed\n",
    "\n",
    "Using Boston housing market dataset:\n",
    "- Use custom function to perform SelectKBest and log supporting statistics including F-scores and p-values in a DataFrame\n",
    "- Visualize feature importance according to F-score\n"
   ]
  },
  {
   "cell_type": "markdown",
   "metadata": {},
   "source": [
    "<a id = 'Feature-selection-Example2'></a>"
   ]
  },
  {
   "cell_type": "markdown",
   "metadata": {},
   "source": [
    "__Custom functions__"
   ]
  },
  {
   "cell_type": "code",
   "execution_count": 94,
   "metadata": {
    "ExecuteTime": {
     "end_time": "2019-06-27T13:09:36.007002Z",
     "start_time": "2019-06-27T13:09:35.973798Z"
    }
   },
   "outputs": [],
   "source": [
    "# custom function\n",
    "def select_k_best_ref(dataFrame, target, k=5):\n",
    "    \"\"\"\n",
    "    \n",
    "    \"\"\"\n",
    "    featSelector = SelectKBest(f_regression, k=k)\n",
    "    _ = featSelector.fit(dataFrame.drop(target, axis=1), dataFrame[target])\n",
    "\n",
    "    feat_scores = pd.DataFrame()\n",
    "    feat_scores[\"F score\"] = featSelector.scores_\n",
    "    feat_scores[\"P value\"] = featSelector.pvalues_\n",
    "    feat_scores[\"Support\"] = featSelector.get_support()\n",
    "    feat_scores[\"Attribute\"] = dataFrame.drop(target, axis=1).columns\n",
    "\n",
    "    return feat_scores"
   ]
  },
  {
   "cell_type": "code",
   "execution_count": 95,
   "metadata": {
    "ExecuteTime": {
     "end_time": "2019-06-27T13:09:36.076498Z",
     "start_time": "2019-06-27T13:09:36.015390Z"
    }
   },
   "outputs": [],
   "source": [
    "# load data\n",
    "boston = load_boston()\n",
    "X = pd.DataFrame(boston.data, columns=boston.feature_names)\n",
    "y = boston.target"
   ]
  },
  {
   "cell_type": "code",
   "execution_count": 96,
   "metadata": {
    "ExecuteTime": {
     "end_time": "2019-06-27T13:09:36.117247Z",
     "start_time": "2019-06-27T13:09:36.082094Z"
    }
   },
   "outputs": [],
   "source": [
    "# train/test split\n",
    "X_train, X_test, y_train, y_test = train_test_split(X, y, test_size=0.2, random_state=9)"
   ]
  },
  {
   "cell_type": "code",
   "execution_count": 97,
   "metadata": {
    "ExecuteTime": {
     "end_time": "2019-06-27T13:09:36.177992Z",
     "start_time": "2019-06-27T13:09:36.124157Z"
    }
   },
   "outputs": [],
   "source": [
    "# combine train data info DataFrame\n",
    "df = pd.DataFrame(X_train, columns=boston.feature_names)\n",
    "df[\"MEDV\"] = y_train"
   ]
  },
  {
   "cell_type": "code",
   "execution_count": 98,
   "metadata": {
    "ExecuteTime": {
     "end_time": "2019-06-27T13:09:36.227158Z",
     "start_time": "2019-06-27T13:09:36.184405Z"
    }
   },
   "outputs": [],
   "source": [
    "# perform SelectKBest\n",
    "feat_scores = select_k_best_ref(df, \"MEDV\", k=7)"
   ]
  },
  {
   "cell_type": "code",
   "execution_count": 99,
   "metadata": {
    "ExecuteTime": {
     "end_time": "2019-06-27T13:09:36.298908Z",
     "start_time": "2019-06-27T13:09:36.235012Z"
    }
   },
   "outputs": [
    {
     "name": "stdout",
     "output_type": "stream",
     "text": [
      "Feature Score for a linear regression using correlation \n",
      "\n",
      "       F score       P value  Support Attribute\n",
      "12  474.974942  4.373435e-70     True     LSTAT\n",
      "5   388.685106  5.050989e-61     True        RM\n",
      "10  124.931223  1.930196e-25     True   PTRATIO\n",
      "2   116.026814  6.101575e-24     True     INDUS\n",
      "9   107.274933  1.931385e-22     True       TAX\n",
      "4    85.039143  1.669887e-18     True       NOX\n",
      "0    73.732715  1.987020e-16     True      CRIM\n",
      "8    64.861115  9.213851e-15    False       RAD\n",
      "6    55.681364  5.318242e-13    False       AGE\n",
      "1    50.485143  5.502609e-12    False        ZN\n",
      "11   46.254397  3.774453e-11    False         B\n",
      "7    22.794055  2.529681e-06    False       DIS\n",
      "3     7.902266  5.178888e-03    False      CHAS\n"
     ]
    }
   ],
   "source": [
    "# evaluate feature selection\n",
    "feat_scores_sorted = feat_scores.sort_values(\n",
    "    [\"F score\", \"P value\"], ascending=[False, False]\n",
    ")\n",
    "print(\"Feature Score for a linear regression using correlation \\n\")\n",
    "print(feat_scores_sorted)"
   ]
  },
  {
   "cell_type": "code",
   "execution_count": 100,
   "metadata": {
    "ExecuteTime": {
     "end_time": "2019-06-27T13:09:36.567725Z",
     "start_time": "2019-06-27T13:09:36.306891Z"
    }
   },
   "outputs": [
    {
     "data": {
      "image/png": "[encoded data removed]",
      "text/plain": [
       "<Figure size 432x288 with 1 Axes>"
      ]
     },
     "metadata": {
      "needs_background": "light"
     },
     "output_type": "display_data"
    }
   ],
   "source": [
    "# visualize top features\n",
    "feat_importance_sorted = feat_scores_sorted[[\"F score\", \"Attribute\"]]\n",
    "\n",
    "plt.figure()\n",
    "plt.title(\"Feature importances\")\n",
    "\n",
    "sorted_names = np.array(feat_importance_sorted)[:, 1]\n",
    "sorted_importance = np.array(feat_importance_sorted)[:, 0]\n",
    "\n",
    "plt.title(\"Feature Importances\")\n",
    "plt.barh(range(len(sorted_names)), sorted_importance, color=\"b\", align=\"center\")\n",
    "plt.yticks(range(len(sorted_names)), sorted_names)\n",
    "plt.xlabel(\n",
    "    \"Low Importance                                                High Importance\"\n",
    ")\n",
    "plt.grid()\n",
    "plt.show()"
   ]
  },
  {
   "cell_type": "markdown",
   "metadata": {},
   "source": [
    "## Example 3 - feature selection step within pipeline\n",
    "\n",
    "Using Boston housing market dataset:\n",
    "- With feature importance F-scores determined in previous example, use custom functions to perform SelectKBest within a pipeline\n",
    "- Evaluate model using test set\n",
    "- Visualize coefficients of selected columns"
   ]
  },
  {
   "cell_type": "markdown",
   "metadata": {},
   "source": [
    "<a id = 'Feature-selection-Example3'></a>"
   ]
  },
  {
   "cell_type": "markdown",
   "metadata": {},
   "source": [
    "__Custom functions__"
   ]
  },
  {
   "cell_type": "code",
   "execution_count": 101,
   "metadata": {
    "ExecuteTime": {
     "end_time": "2019-06-27T13:09:36.605966Z",
     "start_time": "2019-06-27T13:09:36.573958Z"
    }
   },
   "outputs": [],
   "source": [
    "# custom functions\n",
    "def indices_of_top_k(arr, k):\n",
    "    return np.sort(np.argpartition(np.array(arr), -k)[-k:])\n",
    "\n",
    "\n",
    "class TopFeatureSelector(BaseEstimator, TransformerMixin):\n",
    "    def __init__(self, featureImportance, k):\n",
    "        self.featureImportance = featureImportance\n",
    "        self.k = k\n",
    "\n",
    "    def fit(self, X, y=None):\n",
    "        self.featureIndices_ = indices_of_top_k(self.featureImportance, self.k)\n",
    "        return self\n",
    "\n",
    "    def transform(self, X):\n",
    "        return X[:, self.featureIndices_]"
   ]
  },
  {
   "cell_type": "code",
   "execution_count": 102,
   "metadata": {
    "ExecuteTime": {
     "end_time": "2019-06-27T13:09:36.650077Z",
     "start_time": "2019-06-27T13:09:36.612041Z"
    }
   },
   "outputs": [],
   "source": [
    "# load data\n",
    "boston = load_boston()\n",
    "X = pd.DataFrame(boston.data, columns=boston.feature_names)\n",
    "y = boston.target"
   ]
  },
  {
   "cell_type": "code",
   "execution_count": 103,
   "metadata": {
    "ExecuteTime": {
     "end_time": "2019-06-27T13:09:36.691992Z",
     "start_time": "2019-06-27T13:09:36.657452Z"
    }
   },
   "outputs": [],
   "source": [
    "# train/test split\n",
    "X_train, X_test, y_train, y_test = train_test_split(X, y, test_size=0.2, random_state=9)"
   ]
  },
  {
   "cell_type": "code",
   "execution_count": 104,
   "metadata": {
    "ExecuteTime": {
     "end_time": "2019-06-27T13:09:36.734050Z",
     "start_time": "2019-06-27T13:09:36.698495Z"
    }
   },
   "outputs": [],
   "source": [
    "# combine train data info DataFrame\n",
    "df = pd.DataFrame(X_train, columns=boston.feature_names)\n",
    "df[\"MEDV\"] = y_train"
   ]
  },
  {
   "cell_type": "code",
   "execution_count": 105,
   "metadata": {
    "ExecuteTime": {
     "end_time": "2019-06-27T13:09:36.811007Z",
     "start_time": "2019-06-27T13:09:36.744604Z"
    }
   },
   "outputs": [
    {
     "data": {
      "text/plain": [
       "array([ 73.73271485,  50.48514331, 116.02681424,   7.90226593,\n",
       "        85.03914291, 388.68510611,  55.6813643 ,  22.79405499,\n",
       "        64.86111507, 107.27493269, 124.93122263,  46.25439733,\n",
       "       474.97494162])"
      ]
     },
     "execution_count": 105,
     "metadata": {},
     "output_type": "execute_result"
    }
   ],
   "source": [
    "# calculate feature F-scores\n",
    "feat_scores = select_k_best_ref(df, \"MEDV\", k=7)\n",
    "featureFScores = feat_scores[[\"F score\"]].values.flatten()\n",
    "featureFScores"
   ]
  },
  {
   "cell_type": "code",
   "execution_count": 106,
   "metadata": {
    "ExecuteTime": {
     "end_time": "2019-06-27T13:09:36.868565Z",
     "start_time": "2019-06-27T13:09:36.818291Z"
    }
   },
   "outputs": [],
   "source": [
    "# create pipeline - Scale data, performs SelectKBest, and train linear regression model\n",
    "pipeline = Pipeline(\n",
    "    [\n",
    "        (\"stdScaler\", StandardScaler()),\n",
    "        (\n",
    "            \"featureSelection\",\n",
    "            TopFeatureSelector(featureFScores, k=\"featureSelection__k\"),\n",
    "        ),\n",
    "        (\"lin_reg\", LinearRegression()),\n",
    "    ]\n",
    ")"
   ]
  },
  {
   "cell_type": "code",
   "execution_count": 107,
   "metadata": {
    "ExecuteTime": {
     "end_time": "2019-06-27T13:09:36.930446Z",
     "start_time": "2019-06-27T13:09:36.876345Z"
    }
   },
   "outputs": [
    {
     "data": {
      "text/plain": [
       "{'featureSelection__k': array([ 1,  2,  3,  4,  5,  6,  7,  8,  9, 10, 11, 12, 13])}"
      ]
     },
     "execution_count": 107,
     "metadata": {},
     "output_type": "execute_result"
    }
   ],
   "source": [
    "# build parameter grid\n",
    "param_grid = {\"featureSelection__k\": np.arange(1, len(featureFScores) + 1)}\n",
    "param_grid"
   ]
  },
  {
   "cell_type": "code",
   "execution_count": 108,
   "metadata": {
    "ExecuteTime": {
     "end_time": "2019-06-27T13:09:37.449731Z",
     "start_time": "2019-06-27T13:09:36.938759Z"
    }
   },
   "outputs": [
    {
     "data": {
      "text/plain": [
       "GridSearchCV(cv=5, error_score='raise-deprecating',\n",
       "             estimator=Pipeline(memory=None,\n",
       "                                steps=[('stdScaler',\n",
       "                                        StandardScaler(copy=True,\n",
       "                                                       with_mean=True,\n",
       "                                                       with_std=True)),\n",
       "                                       ('featureSelection',\n",
       "                                        TopFeatureSelector(featureImportance=array([ 73.73271485,  50.48514331, 116.02681424,   7.90226593,\n",
       "        85.03914291, 388.68510611,  55.6813643 ,  22.79405499,\n",
       "        64.86111507, 107.27493269, 124.93122263,  46.25439733,\n",
       "       474.97494162]),\n",
       "                                                           k='featureSelection__k')),\n",
       "                                       ('lin_reg',\n",
       "                                        LinearRegression(copy_X=True,\n",
       "                                                         fit_intercept=True,\n",
       "                                                         n_jobs=None,\n",
       "                                                         normalize=False))],\n",
       "                                verbose=False),\n",
       "             iid='warn', n_jobs=None,\n",
       "             param_grid={'featureSelection__k': array([ 1,  2,  3,  4,  5,  6,  7,  8,  9, 10, 11, 12, 13])},\n",
       "             pre_dispatch='2*n_jobs', refit=True, return_train_score=False,\n",
       "             scoring=None, verbose=0)"
      ]
     },
     "execution_count": 108,
     "metadata": {},
     "output_type": "execute_result"
    }
   ],
   "source": [
    "# run GridSearchCV\n",
    "grid_search = GridSearchCV(pipeline, param_grid, cv=5, refit=True)\n",
    "grid_search.fit(X_train, y_train)"
   ]
  },
  {
   "cell_type": "code",
   "execution_count": 109,
   "metadata": {
    "ExecuteTime": {
     "end_time": "2019-06-27T13:09:37.515185Z",
     "start_time": "2019-06-27T13:09:37.457607Z"
    }
   },
   "outputs": [
    {
     "name": "stdout",
     "output_type": "stream",
     "text": [
      "Best score: 0.706679636548946\n",
      "Best parameter: {'featureSelection__k': 13}\n",
      "Best estimator: Pipeline(memory=None,\n",
      "         steps=[('stdScaler',\n",
      "                 StandardScaler(copy=True, with_mean=True, with_std=True)),\n",
      "                ('featureSelection',\n",
      "                 TopFeatureSelector(featureImportance=array([ 73.73271485,  50.48514331, 116.02681424,   7.90226593,\n",
      "        85.03914291, 388.68510611,  55.6813643 ,  22.79405499,\n",
      "        64.86111507, 107.27493269, 124.93122263,  46.25439733,\n",
      "       474.97494162]),\n",
      "                                    k=13)),\n",
      "                ('lin_reg',\n",
      "                 LinearRegression(copy_X=True, fit_intercept=True, n_jobs=None,\n",
      "                                  normalize=False))],\n",
      "         verbose=False)\n"
     ]
    }
   ],
   "source": [
    "# evaluate GridSearchCV\n",
    "print(\"Best score: {0}\".format(grid_search.best_score_))\n",
    "print(\"Best parameter: {0}\".format(grid_search.best_params_))\n",
    "print(\"Best estimator: {0}\".format(grid_search.best_estimator_))"
   ]
  },
  {
   "cell_type": "code",
   "execution_count": 110,
   "metadata": {
    "ExecuteTime": {
     "end_time": "2019-06-27T13:09:37.580995Z",
     "start_time": "2019-06-27T13:09:37.529573Z"
    }
   },
   "outputs": [
    {
     "name": "stdout",
     "output_type": "stream",
     "text": [
      "Test accuracy (MSE): 23.677\n",
      "Test accuracy (RMSE): 4.866\n"
     ]
    }
   ],
   "source": [
    "# test set predictions\n",
    "y_preds_test = grid_search.predict(X_test)\n",
    "print(\n",
    "    \"Test accuracy (MSE): {0}\".format(\n",
    "        np.round(mean_squared_error(y_test, y_preds_test), 3)\n",
    "    )\n",
    ")\n",
    "print(\n",
    "    \"Test accuracy (RMSE): {0}\".format(\n",
    "        np.round(np.sqrt(mean_squared_error(y_test, y_preds_test)), 3)\n",
    "    )\n",
    ")"
   ]
  },
  {
   "cell_type": "code",
   "execution_count": 111,
   "metadata": {
    "ExecuteTime": {
     "end_time": "2019-06-27T13:09:37.952061Z",
     "start_time": "2019-06-27T13:09:37.590466Z"
    }
   },
   "outputs": [
    {
     "data": {
      "image/png": "[encoded data removed]",
      "text/plain": [
       "<Figure size 864x576 with 1 Axes>"
      ]
     },
     "metadata": {
      "needs_background": "light"
     },
     "output_type": "display_data"
    }
   ],
   "source": [
    "# visualize\n",
    "model = grid_search.best_estimator_.named_steps[\"lin_reg\"]\n",
    "\n",
    "feat_scores = pd.DataFrame()\n",
    "feat_scores[\"coefficient\"] = model.coef_\n",
    "feat_scores[\"ABScoefficient\"] = np.abs(model.coef_)\n",
    "feat_scores[\"Attribute\"] = X.columns\n",
    "feat_scores = feat_scores.sort_values([\"ABScoefficient\"], ascending=[False])\n",
    "feat_scores\n",
    "\n",
    "plt.figure(figsize=(12, 8))\n",
    "plt.bar(np.arange(model.coef_.shape[0]) - 0.4, feat_scores[\"coefficient\"])\n",
    "plt.xticks(\n",
    "    np.arange(model.coef_.shape[0]), feat_scores[\"Attribute\"], rotation=\"vertical\"\n",
    ")\n",
    "plt.xlim([-1, model.coef_.shape[0]])\n",
    "plt.grid()\n",
    "plt.title(\"Sklearn model coefficients\")"
   ]
  },
  {
   "cell_type": "markdown",
   "metadata": {},
   "source": [
    "# Handling missing data\n",
    "\n",
    "Observations are often missing data for one or more features. Similarly, features often contain nulls for several observations. Missing data is problematic for machine learning algorithms it can cause errors in calculations. There are several methods to deal with nulls, and while no method is perfect, the context of the nulls can help determine the best course of action."
   ]
  },
  {
   "cell_type": "markdown",
   "metadata": {},
   "source": [
    "<a id = 'Handling-missing-data'></a>"
   ]
  },
  {
   "cell_type": "markdown",
   "metadata": {},
   "source": [
    "## Example 1 - null observations and features\n",
    "\n",
    "Dropping feature and/or observations is as straight forward as it sounds. The downside to this approach is that dropping data means less data is available for the algorithm to model the problem. Dropping features or columns is generally not advised as a first step."
   ]
  },
  {
   "cell_type": "markdown",
   "metadata": {},
   "source": [
    "<a id = 'Handling-missing-data-Example1'></a>"
   ]
  },
  {
   "cell_type": "code",
   "execution_count": 112,
   "metadata": {
    "ExecuteTime": {
     "end_time": "2019-06-27T13:09:38.011413Z",
     "start_time": "2019-06-27T13:09:37.958622Z"
    }
   },
   "outputs": [
    {
     "data": {
      "text/html": [
       "<div>\n",
       "<style scoped>\n",
       "    .dataframe tbody tr th:only-of-type {\n",
       "        vertical-align: middle;\n",
       "    }\n",
       "\n",
       "    .dataframe tbody tr th {\n",
       "        vertical-align: top;\n",
       "    }\n",
       "\n",
       "    .dataframe thead th {\n",
       "        text-align: right;\n",
       "    }\n",
       "</style>\n",
       "<table border=\"1\" class=\"dataframe\">\n",
       "  <thead>\n",
       "    <tr style=\"text-align: right;\">\n",
       "      <th></th>\n",
       "      <th>A</th>\n",
       "      <th>B</th>\n",
       "      <th>C</th>\n",
       "      <th>D</th>\n",
       "    </tr>\n",
       "  </thead>\n",
       "  <tbody>\n",
       "    <tr>\n",
       "      <th>0</th>\n",
       "      <td>1.0</td>\n",
       "      <td>2.0</td>\n",
       "      <td>3.0</td>\n",
       "      <td>4.0</td>\n",
       "    </tr>\n",
       "    <tr>\n",
       "      <th>1</th>\n",
       "      <td>5.0</td>\n",
       "      <td>6.0</td>\n",
       "      <td>NaN</td>\n",
       "      <td>8.0</td>\n",
       "    </tr>\n",
       "    <tr>\n",
       "      <th>2</th>\n",
       "      <td>10.0</td>\n",
       "      <td>11.0</td>\n",
       "      <td>12.0</td>\n",
       "      <td>NaN</td>\n",
       "    </tr>\n",
       "  </tbody>\n",
       "</table>\n",
       "</div>"
      ],
      "text/plain": [
       "      A     B     C    D\n",
       "0   1.0   2.0   3.0  4.0\n",
       "1   5.0   6.0   NaN  8.0\n",
       "2  10.0  11.0  12.0  NaN"
      ]
     },
     "execution_count": 112,
     "metadata": {},
     "output_type": "execute_result"
    }
   ],
   "source": [
    "# load and inspect data\n",
    "import pandas as pd\n",
    "from io import StringIO\n",
    "import sys\n",
    "\n",
    "csv_data = \"\"\"A,B,C,D\n",
    "1.0,2.0,3.0,4.0\n",
    "5.0,6.0,,8.0\n",
    "10.0,11.0,12.0,\"\"\"\n",
    "\n",
    "df = pd.read_csv(StringIO(csv_data))\n",
    "df"
   ]
  },
  {
   "cell_type": "code",
   "execution_count": 113,
   "metadata": {
    "ExecuteTime": {
     "end_time": "2019-06-27T13:09:38.062657Z",
     "start_time": "2019-06-27T13:09:38.017038Z"
    }
   },
   "outputs": [
    {
     "data": {
      "text/plain": [
       "A    0\n",
       "B    0\n",
       "C    1\n",
       "D    1\n",
       "dtype: int64"
      ]
     },
     "execution_count": 113,
     "metadata": {},
     "output_type": "execute_result"
    }
   ],
   "source": [
    "# inspect null counts\n",
    "df.isnull().sum()"
   ]
  },
  {
   "cell_type": "markdown",
   "metadata": {},
   "source": [
    "__Strategy 1: Eliminate data__"
   ]
  },
  {
   "cell_type": "code",
   "execution_count": 114,
   "metadata": {
    "ExecuteTime": {
     "end_time": "2019-06-27T13:09:38.117351Z",
     "start_time": "2019-06-27T13:09:38.072836Z"
    }
   },
   "outputs": [
    {
     "data": {
      "text/html": [
       "<div>\n",
       "<style scoped>\n",
       "    .dataframe tbody tr th:only-of-type {\n",
       "        vertical-align: middle;\n",
       "    }\n",
       "\n",
       "    .dataframe tbody tr th {\n",
       "        vertical-align: top;\n",
       "    }\n",
       "\n",
       "    .dataframe thead th {\n",
       "        text-align: right;\n",
       "    }\n",
       "</style>\n",
       "<table border=\"1\" class=\"dataframe\">\n",
       "  <thead>\n",
       "    <tr style=\"text-align: right;\">\n",
       "      <th></th>\n",
       "      <th>A</th>\n",
       "      <th>B</th>\n",
       "      <th>C</th>\n",
       "      <th>D</th>\n",
       "    </tr>\n",
       "  </thead>\n",
       "  <tbody>\n",
       "    <tr>\n",
       "      <th>0</th>\n",
       "      <td>1.0</td>\n",
       "      <td>2.0</td>\n",
       "      <td>3.0</td>\n",
       "      <td>4.0</td>\n",
       "    </tr>\n",
       "  </tbody>\n",
       "</table>\n",
       "</div>"
      ],
      "text/plain": [
       "     A    B    C    D\n",
       "0  1.0  2.0  3.0  4.0"
      ]
     },
     "execution_count": 114,
     "metadata": {},
     "output_type": "execute_result"
    }
   ],
   "source": [
    "# observations with any missing values\n",
    "df.dropna(axis=0)"
   ]
  },
  {
   "cell_type": "code",
   "execution_count": 115,
   "metadata": {
    "ExecuteTime": {
     "end_time": "2019-06-27T13:09:38.174590Z",
     "start_time": "2019-06-27T13:09:38.123801Z"
    }
   },
   "outputs": [
    {
     "data": {
      "text/html": [
       "<div>\n",
       "<style scoped>\n",
       "    .dataframe tbody tr th:only-of-type {\n",
       "        vertical-align: middle;\n",
       "    }\n",
       "\n",
       "    .dataframe tbody tr th {\n",
       "        vertical-align: top;\n",
       "    }\n",
       "\n",
       "    .dataframe thead th {\n",
       "        text-align: right;\n",
       "    }\n",
       "</style>\n",
       "<table border=\"1\" class=\"dataframe\">\n",
       "  <thead>\n",
       "    <tr style=\"text-align: right;\">\n",
       "      <th></th>\n",
       "      <th>A</th>\n",
       "      <th>B</th>\n",
       "    </tr>\n",
       "  </thead>\n",
       "  <tbody>\n",
       "    <tr>\n",
       "      <th>0</th>\n",
       "      <td>1.0</td>\n",
       "      <td>2.0</td>\n",
       "    </tr>\n",
       "    <tr>\n",
       "      <th>1</th>\n",
       "      <td>5.0</td>\n",
       "      <td>6.0</td>\n",
       "    </tr>\n",
       "    <tr>\n",
       "      <th>2</th>\n",
       "      <td>10.0</td>\n",
       "      <td>11.0</td>\n",
       "    </tr>\n",
       "  </tbody>\n",
       "</table>\n",
       "</div>"
      ],
      "text/plain": [
       "      A     B\n",
       "0   1.0   2.0\n",
       "1   5.0   6.0\n",
       "2  10.0  11.0"
      ]
     },
     "execution_count": 115,
     "metadata": {},
     "output_type": "execute_result"
    }
   ],
   "source": [
    "# features with any missing values\n",
    "df.dropna(axis=1)"
   ]
  },
  {
   "cell_type": "code",
   "execution_count": 116,
   "metadata": {
    "ExecuteTime": {
     "end_time": "2019-06-27T13:09:38.225352Z",
     "start_time": "2019-06-27T13:09:38.180345Z"
    }
   },
   "outputs": [
    {
     "data": {
      "text/html": [
       "<div>\n",
       "<style scoped>\n",
       "    .dataframe tbody tr th:only-of-type {\n",
       "        vertical-align: middle;\n",
       "    }\n",
       "\n",
       "    .dataframe tbody tr th {\n",
       "        vertical-align: top;\n",
       "    }\n",
       "\n",
       "    .dataframe thead th {\n",
       "        text-align: right;\n",
       "    }\n",
       "</style>\n",
       "<table border=\"1\" class=\"dataframe\">\n",
       "  <thead>\n",
       "    <tr style=\"text-align: right;\">\n",
       "      <th></th>\n",
       "      <th>A</th>\n",
       "      <th>B</th>\n",
       "      <th>C</th>\n",
       "      <th>D</th>\n",
       "    </tr>\n",
       "  </thead>\n",
       "  <tbody>\n",
       "    <tr>\n",
       "      <th>0</th>\n",
       "      <td>1.0</td>\n",
       "      <td>2.0</td>\n",
       "      <td>3.0</td>\n",
       "      <td>4.0</td>\n",
       "    </tr>\n",
       "    <tr>\n",
       "      <th>1</th>\n",
       "      <td>5.0</td>\n",
       "      <td>6.0</td>\n",
       "      <td>NaN</td>\n",
       "      <td>8.0</td>\n",
       "    </tr>\n",
       "    <tr>\n",
       "      <th>2</th>\n",
       "      <td>10.0</td>\n",
       "      <td>11.0</td>\n",
       "      <td>12.0</td>\n",
       "      <td>NaN</td>\n",
       "    </tr>\n",
       "  </tbody>\n",
       "</table>\n",
       "</div>"
      ],
      "text/plain": [
       "      A     B     C    D\n",
       "0   1.0   2.0   3.0  4.0\n",
       "1   5.0   6.0   NaN  8.0\n",
       "2  10.0  11.0  12.0  NaN"
      ]
     },
     "execution_count": 116,
     "metadata": {},
     "output_type": "execute_result"
    }
   ],
   "source": [
    "# rows where all columns are null\n",
    "df.dropna(how=\"all\")"
   ]
  },
  {
   "cell_type": "code",
   "execution_count": 117,
   "metadata": {
    "ExecuteTime": {
     "end_time": "2019-06-27T13:09:38.276247Z",
     "start_time": "2019-06-27T13:09:38.230411Z"
    }
   },
   "outputs": [
    {
     "data": {
      "text/html": [
       "<div>\n",
       "<style scoped>\n",
       "    .dataframe tbody tr th:only-of-type {\n",
       "        vertical-align: middle;\n",
       "    }\n",
       "\n",
       "    .dataframe tbody tr th {\n",
       "        vertical-align: top;\n",
       "    }\n",
       "\n",
       "    .dataframe thead th {\n",
       "        text-align: right;\n",
       "    }\n",
       "</style>\n",
       "<table border=\"1\" class=\"dataframe\">\n",
       "  <thead>\n",
       "    <tr style=\"text-align: right;\">\n",
       "      <th></th>\n",
       "      <th>A</th>\n",
       "      <th>B</th>\n",
       "      <th>C</th>\n",
       "      <th>D</th>\n",
       "    </tr>\n",
       "  </thead>\n",
       "  <tbody>\n",
       "    <tr>\n",
       "      <th>0</th>\n",
       "      <td>1.0</td>\n",
       "      <td>2.0</td>\n",
       "      <td>3.0</td>\n",
       "      <td>4.0</td>\n",
       "    </tr>\n",
       "  </tbody>\n",
       "</table>\n",
       "</div>"
      ],
      "text/plain": [
       "     A    B    C    D\n",
       "0  1.0  2.0  3.0  4.0"
      ]
     },
     "execution_count": 117,
     "metadata": {},
     "output_type": "execute_result"
    }
   ],
   "source": [
    "# rows must have 3 or more real values populated\n",
    "df.dropna(thresh=4)"
   ]
  },
  {
   "cell_type": "code",
   "execution_count": 118,
   "metadata": {
    "ExecuteTime": {
     "end_time": "2019-06-27T13:09:38.329065Z",
     "start_time": "2019-06-27T13:09:38.282577Z"
    }
   },
   "outputs": [
    {
     "data": {
      "text/html": [
       "<div>\n",
       "<style scoped>\n",
       "    .dataframe tbody tr th:only-of-type {\n",
       "        vertical-align: middle;\n",
       "    }\n",
       "\n",
       "    .dataframe tbody tr th {\n",
       "        vertical-align: top;\n",
       "    }\n",
       "\n",
       "    .dataframe thead th {\n",
       "        text-align: right;\n",
       "    }\n",
       "</style>\n",
       "<table border=\"1\" class=\"dataframe\">\n",
       "  <thead>\n",
       "    <tr style=\"text-align: right;\">\n",
       "      <th></th>\n",
       "      <th>A</th>\n",
       "      <th>B</th>\n",
       "      <th>C</th>\n",
       "      <th>D</th>\n",
       "    </tr>\n",
       "  </thead>\n",
       "  <tbody>\n",
       "    <tr>\n",
       "      <th>0</th>\n",
       "      <td>1.0</td>\n",
       "      <td>2.0</td>\n",
       "      <td>3.0</td>\n",
       "      <td>4.0</td>\n",
       "    </tr>\n",
       "    <tr>\n",
       "      <th>2</th>\n",
       "      <td>10.0</td>\n",
       "      <td>11.0</td>\n",
       "      <td>12.0</td>\n",
       "      <td>NaN</td>\n",
       "    </tr>\n",
       "  </tbody>\n",
       "</table>\n",
       "</div>"
      ],
      "text/plain": [
       "      A     B     C    D\n",
       "0   1.0   2.0   3.0  4.0\n",
       "2  10.0  11.0  12.0  NaN"
      ]
     },
     "execution_count": 118,
     "metadata": {},
     "output_type": "execute_result"
    }
   ],
   "source": [
    "# only drop rows with nulls in specified column\n",
    "df.dropna(subset=[\"C\"])"
   ]
  },
  {
   "cell_type": "markdown",
   "metadata": {},
   "source": [
    "__Strategy 1: Imputing missing values__\n",
    "\n",
    "Use a predefined strategy to fill in null values with an inferred value. Common strategies include fill feature nulls with the mean, median or most common value."
   ]
  },
  {
   "cell_type": "code",
   "execution_count": 119,
   "metadata": {
    "ExecuteTime": {
     "end_time": "2019-06-27T13:09:38.375174Z",
     "start_time": "2019-06-27T13:09:38.335217Z"
    }
   },
   "outputs": [
    {
     "data": {
      "text/plain": [
       "array([[ 1.,  2.,  3.,  4.],\n",
       "       [ 5.,  6., nan,  8.],\n",
       "       [10., 11., 12., nan]])"
      ]
     },
     "execution_count": 119,
     "metadata": {},
     "output_type": "execute_result"
    }
   ],
   "source": [
    "# review missing values\n",
    "df.values"
   ]
  },
  {
   "cell_type": "code",
   "execution_count": 120,
   "metadata": {
    "ExecuteTime": {
     "end_time": "2019-06-27T13:09:38.417383Z",
     "start_time": "2019-06-27T13:09:38.381697Z"
    }
   },
   "outputs": [
    {
     "data": {
      "text/plain": [
       "array([[ 1. ,  2. ,  3. ,  4. ],\n",
       "       [ 5. ,  6. ,  7.5,  8. ],\n",
       "       [10. , 11. , 12. ,  6. ]])"
      ]
     },
     "execution_count": 120,
     "metadata": {},
     "output_type": "execute_result"
    }
   ],
   "source": [
    "# fill nulls with column mean\n",
    "imr = Imputer(missing_values=\"NaN\", strategy=\"mean\", axis=0)\n",
    "imr = imr.fit(df.values)\n",
    "imputed_data = imr.transform(df.values)\n",
    "imputed_data"
   ]
  },
  {
   "cell_type": "markdown",
   "metadata": {},
   "source": [
    "# Handling categorical features\n",
    "\n",
    "Machine learning algorithms require numerical data, but we are often provided with features that are described with text values. Such value can be nominal or ordinal:\n",
    "\n",
    "nominal: Male, Female\n",
    "\n",
    "ordinal: S, M, L, XL\n",
    "\n",
    "Nominal and ordinal features need to be handled differently."
   ]
  },
  {
   "cell_type": "markdown",
   "metadata": {},
   "source": [
    "<a id = 'Handling-categorical-features'></a>"
   ]
  },
  {
   "cell_type": "markdown",
   "metadata": {},
   "source": [
    "## Example 1 - mapping strategies\n"
   ]
  },
  {
   "cell_type": "markdown",
   "metadata": {},
   "source": [
    "<a id = 'Handling-categorical-features-Example1'></a>"
   ]
  },
  {
   "cell_type": "code",
   "execution_count": 121,
   "metadata": {
    "ExecuteTime": {
     "end_time": "2019-06-27T13:09:38.472049Z",
     "start_time": "2019-06-27T13:09:38.425820Z"
    }
   },
   "outputs": [
    {
     "data": {
      "text/html": [
       "<div>\n",
       "<style scoped>\n",
       "    .dataframe tbody tr th:only-of-type {\n",
       "        vertical-align: middle;\n",
       "    }\n",
       "\n",
       "    .dataframe tbody tr th {\n",
       "        vertical-align: top;\n",
       "    }\n",
       "\n",
       "    .dataframe thead th {\n",
       "        text-align: right;\n",
       "    }\n",
       "</style>\n",
       "<table border=\"1\" class=\"dataframe\">\n",
       "  <thead>\n",
       "    <tr style=\"text-align: right;\">\n",
       "      <th></th>\n",
       "      <th>color</th>\n",
       "      <th>size</th>\n",
       "      <th>price</th>\n",
       "      <th>classlabel</th>\n",
       "    </tr>\n",
       "  </thead>\n",
       "  <tbody>\n",
       "    <tr>\n",
       "      <th>0</th>\n",
       "      <td>green</td>\n",
       "      <td>M</td>\n",
       "      <td>10.1</td>\n",
       "      <td>class1</td>\n",
       "    </tr>\n",
       "    <tr>\n",
       "      <th>1</th>\n",
       "      <td>red</td>\n",
       "      <td>L</td>\n",
       "      <td>13.5</td>\n",
       "      <td>class2</td>\n",
       "    </tr>\n",
       "    <tr>\n",
       "      <th>2</th>\n",
       "      <td>blue</td>\n",
       "      <td>XL</td>\n",
       "      <td>15.3</td>\n",
       "      <td>class1</td>\n",
       "    </tr>\n",
       "  </tbody>\n",
       "</table>\n",
       "</div>"
      ],
      "text/plain": [
       "   color size  price classlabel\n",
       "0  green    M   10.1     class1\n",
       "1    red    L   13.5     class2\n",
       "2   blue   XL   15.3     class1"
      ]
     },
     "execution_count": 121,
     "metadata": {},
     "output_type": "execute_result"
    }
   ],
   "source": [
    "# load and inspect data\n",
    "\n",
    "df = pd.DataFrame(\n",
    "    [\n",
    "        [\"green\", \"M\", 10.1, \"class1\"],\n",
    "        [\"red\", \"L\", 13.5, \"class2\"],\n",
    "        [\"blue\", \"XL\", 15.3, \"class1\"],\n",
    "    ]\n",
    ")\n",
    "\n",
    "df.columns = [\"color\", \"size\", \"price\", \"classlabel\"]\n",
    "df"
   ]
  },
  {
   "cell_type": "markdown",
   "metadata": {},
   "source": [
    "__Strategy 1: preserve hierarchy of ordinal features__"
   ]
  },
  {
   "cell_type": "code",
   "execution_count": 122,
   "metadata": {
    "ExecuteTime": {
     "end_time": "2019-06-27T13:09:38.516173Z",
     "start_time": "2019-06-27T13:09:38.479409Z"
    }
   },
   "outputs": [],
   "source": [
    "# map\n",
    "size_mapping = {\"XL\": 3, \"L\": 2, \"M\": 1}"
   ]
  },
  {
   "cell_type": "code",
   "execution_count": 123,
   "metadata": {
    "ExecuteTime": {
     "end_time": "2019-06-27T13:09:38.637545Z",
     "start_time": "2019-06-27T13:09:38.523000Z"
    }
   },
   "outputs": [
    {
     "data": {
      "text/html": [
       "<div>\n",
       "<style scoped>\n",
       "    .dataframe tbody tr th:only-of-type {\n",
       "        vertical-align: middle;\n",
       "    }\n",
       "\n",
       "    .dataframe tbody tr th {\n",
       "        vertical-align: top;\n",
       "    }\n",
       "\n",
       "    .dataframe thead th {\n",
       "        text-align: right;\n",
       "    }\n",
       "</style>\n",
       "<table border=\"1\" class=\"dataframe\">\n",
       "  <thead>\n",
       "    <tr style=\"text-align: right;\">\n",
       "      <th></th>\n",
       "      <th>color</th>\n",
       "      <th>size</th>\n",
       "      <th>price</th>\n",
       "      <th>classlabel</th>\n",
       "    </tr>\n",
       "  </thead>\n",
       "  <tbody>\n",
       "    <tr>\n",
       "      <th>0</th>\n",
       "      <td>green</td>\n",
       "      <td>1</td>\n",
       "      <td>10.1</td>\n",
       "      <td>class1</td>\n",
       "    </tr>\n",
       "    <tr>\n",
       "      <th>1</th>\n",
       "      <td>red</td>\n",
       "      <td>2</td>\n",
       "      <td>13.5</td>\n",
       "      <td>class2</td>\n",
       "    </tr>\n",
       "    <tr>\n",
       "      <th>2</th>\n",
       "      <td>blue</td>\n",
       "      <td>3</td>\n",
       "      <td>15.3</td>\n",
       "      <td>class1</td>\n",
       "    </tr>\n",
       "  </tbody>\n",
       "</table>\n",
       "</div>"
      ],
      "text/plain": [
       "   color  size  price classlabel\n",
       "0  green     1   10.1     class1\n",
       "1    red     2   13.5     class2\n",
       "2   blue     3   15.3     class1"
      ]
     },
     "execution_count": 123,
     "metadata": {},
     "output_type": "execute_result"
    }
   ],
   "source": [
    "# apply mapping\n",
    "df[\"size\"] = df[\"size\"].map(size_mapping)\n",
    "df"
   ]
  },
  {
   "cell_type": "code",
   "execution_count": 124,
   "metadata": {
    "ExecuteTime": {
     "end_time": "2019-06-27T13:09:38.704340Z",
     "start_time": "2019-06-27T13:09:38.645294Z"
    }
   },
   "outputs": [
    {
     "data": {
      "text/plain": [
       "0     M\n",
       "1     L\n",
       "2    XL\n",
       "Name: size, dtype: object"
      ]
     },
     "execution_count": 124,
     "metadata": {},
     "output_type": "execute_result"
    }
   ],
   "source": [
    "# reverse mapping\n",
    "inv_size_mapping = {v: k for k, v in size_mapping.items()}\n",
    "df[\"size\"].map(inv_size_mapping)"
   ]
  },
  {
   "cell_type": "markdown",
   "metadata": {},
   "source": [
    "__Strategy 2: manually encode class labels__"
   ]
  },
  {
   "cell_type": "code",
   "execution_count": 125,
   "metadata": {
    "ExecuteTime": {
     "end_time": "2019-06-27T13:09:38.767940Z",
     "start_time": "2019-06-27T13:09:38.712258Z"
    }
   },
   "outputs": [
    {
     "data": {
      "text/plain": [
       "{'class1': 0, 'class2': 1}"
      ]
     },
     "execution_count": 125,
     "metadata": {},
     "output_type": "execute_result"
    }
   ],
   "source": [
    "# dynamically build encoding dictionary\n",
    "class_mapping = {label: idx for idx, label in enumerate(np.unique(df[\"classlabel\"]))}\n",
    "class_mapping"
   ]
  },
  {
   "cell_type": "code",
   "execution_count": 126,
   "metadata": {
    "ExecuteTime": {
     "end_time": "2019-06-27T13:09:38.834758Z",
     "start_time": "2019-06-27T13:09:38.774438Z"
    }
   },
   "outputs": [
    {
     "data": {
      "text/html": [
       "<div>\n",
       "<style scoped>\n",
       "    .dataframe tbody tr th:only-of-type {\n",
       "        vertical-align: middle;\n",
       "    }\n",
       "\n",
       "    .dataframe tbody tr th {\n",
       "        vertical-align: top;\n",
       "    }\n",
       "\n",
       "    .dataframe thead th {\n",
       "        text-align: right;\n",
       "    }\n",
       "</style>\n",
       "<table border=\"1\" class=\"dataframe\">\n",
       "  <thead>\n",
       "    <tr style=\"text-align: right;\">\n",
       "      <th></th>\n",
       "      <th>color</th>\n",
       "      <th>size</th>\n",
       "      <th>price</th>\n",
       "      <th>classlabel</th>\n",
       "    </tr>\n",
       "  </thead>\n",
       "  <tbody>\n",
       "    <tr>\n",
       "      <th>0</th>\n",
       "      <td>green</td>\n",
       "      <td>1</td>\n",
       "      <td>10.1</td>\n",
       "      <td>0</td>\n",
       "    </tr>\n",
       "    <tr>\n",
       "      <th>1</th>\n",
       "      <td>red</td>\n",
       "      <td>2</td>\n",
       "      <td>13.5</td>\n",
       "      <td>1</td>\n",
       "    </tr>\n",
       "    <tr>\n",
       "      <th>2</th>\n",
       "      <td>blue</td>\n",
       "      <td>3</td>\n",
       "      <td>15.3</td>\n",
       "      <td>0</td>\n",
       "    </tr>\n",
       "  </tbody>\n",
       "</table>\n",
       "</div>"
      ],
      "text/plain": [
       "   color  size  price  classlabel\n",
       "0  green     1   10.1           0\n",
       "1    red     2   13.5           1\n",
       "2   blue     3   15.3           0"
      ]
     },
     "execution_count": 126,
     "metadata": {},
     "output_type": "execute_result"
    }
   ],
   "source": [
    "# apply mapping\n",
    "df[\"classlabel\"] = df[\"classlabel\"].map(class_mapping)\n",
    "df"
   ]
  },
  {
   "cell_type": "code",
   "execution_count": 127,
   "metadata": {
    "ExecuteTime": {
     "end_time": "2019-06-27T13:09:38.879843Z",
     "start_time": "2019-06-27T13:09:38.841630Z"
    }
   },
   "outputs": [
    {
     "data": {
      "text/plain": [
       "0    class1\n",
       "1    class2\n",
       "2    class1\n",
       "Name: classlabel, dtype: object"
      ]
     },
     "execution_count": 127,
     "metadata": {},
     "output_type": "execute_result"
    }
   ],
   "source": [
    "# reverse mapping\n",
    "inv_class_mapping = {v: k for k, v in class_mapping.items()}\n",
    "df[\"classlabel\"].map(inv_class_mapping)"
   ]
  },
  {
   "cell_type": "markdown",
   "metadata": {},
   "source": [
    "__Strategy 3: encode class labels with sklearn__"
   ]
  },
  {
   "cell_type": "code",
   "execution_count": 128,
   "metadata": {
    "ExecuteTime": {
     "end_time": "2019-06-27T13:09:38.924131Z",
     "start_time": "2019-06-27T13:09:38.886722Z"
    }
   },
   "outputs": [
    {
     "data": {
      "text/plain": [
       "array([0, 1, 0])"
      ]
     },
     "execution_count": 128,
     "metadata": {},
     "output_type": "execute_result"
    }
   ],
   "source": [
    "# instantiate encoder and apply\n",
    "class_le = LabelEncoder()\n",
    "y = class_le.fit_transform(df[\"classlabel\"].values)\n",
    "y"
   ]
  },
  {
   "cell_type": "code",
   "execution_count": 129,
   "metadata": {
    "ExecuteTime": {
     "end_time": "2019-06-27T13:09:38.974018Z",
     "start_time": "2019-06-27T13:09:38.930566Z"
    }
   },
   "outputs": [
    {
     "data": {
      "text/plain": [
       "array([0, 1, 0])"
      ]
     },
     "execution_count": 129,
     "metadata": {},
     "output_type": "execute_result"
    }
   ],
   "source": [
    "# reverse transformation\n",
    "class_le.inverse_transform(y)"
   ]
  },
  {
   "cell_type": "markdown",
   "metadata": {},
   "source": [
    "__Strategy 4: one-hot encoding__"
   ]
  },
  {
   "cell_type": "code",
   "execution_count": 130,
   "metadata": {
    "ExecuteTime": {
     "end_time": "2019-06-27T13:09:39.032234Z",
     "start_time": "2019-06-27T13:09:38.979356Z"
    }
   },
   "outputs": [
    {
     "data": {
      "text/plain": [
       "array([[1, 1, 10.1],\n",
       "       [2, 2, 13.5],\n",
       "       [0, 3, 15.3]], dtype=object)"
      ]
     },
     "execution_count": 130,
     "metadata": {},
     "output_type": "execute_result"
    }
   ],
   "source": [
    "# create dummy dataset and encode\n",
    "df = pd.DataFrame(\n",
    "    [\n",
    "        [\"green\", \"M\", 10.1, \"class1\"],\n",
    "        [\"red\", \"L\", 13.5, \"class2\"],\n",
    "        [\"blue\", \"XL\", 15.3, \"class1\"],\n",
    "    ]\n",
    ")\n",
    "\n",
    "df.columns = [\"color\", \"size\", \"price\", \"classlabel\"]\n",
    "\n",
    "size_mapping = {\"XL\": 3, \"L\": 2, \"M\": 1}\n",
    "df[\"size\"] = df[\"size\"].map(size_mapping)\n",
    "\n",
    "X = df[[\"color\", \"size\", \"price\"]].values\n",
    "\n",
    "color_le = LabelEncoder()\n",
    "X[:, 0] = color_le.fit_transform(X[:, 0])\n",
    "X"
   ]
  },
  {
   "cell_type": "code",
   "execution_count": 131,
   "metadata": {
    "ExecuteTime": {
     "end_time": "2019-06-27T13:09:39.094005Z",
     "start_time": "2019-06-27T13:09:39.040730Z"
    }
   },
   "outputs": [
    {
     "data": {
      "text/plain": [
       "array([[ 0. ,  1. ,  0. ,  1. , 10.1],\n",
       "       [ 0. ,  0. ,  1. ,  2. , 13.5],\n",
       "       [ 1. ,  0. ,  0. ,  3. , 15.3]])"
      ]
     },
     "execution_count": 131,
     "metadata": {},
     "output_type": "execute_result"
    }
   ],
   "source": [
    "# encode using sklearn OneHot Encoder\n",
    "ohe = OneHotEncoder(categorical_features=[0])\n",
    "ohe.fit_transform(X).toarray()"
   ]
  },
  {
   "cell_type": "markdown",
   "metadata": {},
   "source": [
    "__Strategy 5: get dummies__"
   ]
  },
  {
   "cell_type": "code",
   "execution_count": 132,
   "metadata": {
    "ExecuteTime": {
     "end_time": "2019-06-27T13:09:39.178974Z",
     "start_time": "2019-06-27T13:09:39.102216Z"
    }
   },
   "outputs": [
    {
     "data": {
      "text/html": [
       "<div>\n",
       "<style scoped>\n",
       "    .dataframe tbody tr th:only-of-type {\n",
       "        vertical-align: middle;\n",
       "    }\n",
       "\n",
       "    .dataframe tbody tr th {\n",
       "        vertical-align: top;\n",
       "    }\n",
       "\n",
       "    .dataframe thead th {\n",
       "        text-align: right;\n",
       "    }\n",
       "</style>\n",
       "<table border=\"1\" class=\"dataframe\">\n",
       "  <thead>\n",
       "    <tr style=\"text-align: right;\">\n",
       "      <th></th>\n",
       "      <th>price</th>\n",
       "      <th>size</th>\n",
       "      <th>color_blue</th>\n",
       "      <th>color_green</th>\n",
       "      <th>color_red</th>\n",
       "    </tr>\n",
       "  </thead>\n",
       "  <tbody>\n",
       "    <tr>\n",
       "      <th>0</th>\n",
       "      <td>10.1</td>\n",
       "      <td>1</td>\n",
       "      <td>0</td>\n",
       "      <td>1</td>\n",
       "      <td>0</td>\n",
       "    </tr>\n",
       "    <tr>\n",
       "      <th>1</th>\n",
       "      <td>13.5</td>\n",
       "      <td>2</td>\n",
       "      <td>0</td>\n",
       "      <td>0</td>\n",
       "      <td>1</td>\n",
       "    </tr>\n",
       "    <tr>\n",
       "      <th>2</th>\n",
       "      <td>15.3</td>\n",
       "      <td>3</td>\n",
       "      <td>1</td>\n",
       "      <td>0</td>\n",
       "      <td>0</td>\n",
       "    </tr>\n",
       "  </tbody>\n",
       "</table>\n",
       "</div>"
      ],
      "text/plain": [
       "   price  size  color_blue  color_green  color_red\n",
       "0   10.1     1           0            1          0\n",
       "1   13.5     2           0            0          1\n",
       "2   15.3     3           1            0          0"
      ]
     },
     "execution_count": 132,
     "metadata": {},
     "output_type": "execute_result"
    }
   ],
   "source": [
    "# encode using get_dummies()\n",
    "pd.get_dummies(df[[\"price\", \"color\", \"size\"]])"
   ]
  },
  {
   "cell_type": "code",
   "execution_count": 133,
   "metadata": {
    "ExecuteTime": {
     "end_time": "2019-06-27T13:09:39.260417Z",
     "start_time": "2019-06-27T13:09:39.187775Z"
    }
   },
   "outputs": [
    {
     "data": {
      "text/html": [
       "<div>\n",
       "<style scoped>\n",
       "    .dataframe tbody tr th:only-of-type {\n",
       "        vertical-align: middle;\n",
       "    }\n",
       "\n",
       "    .dataframe tbody tr th {\n",
       "        vertical-align: top;\n",
       "    }\n",
       "\n",
       "    .dataframe thead th {\n",
       "        text-align: right;\n",
       "    }\n",
       "</style>\n",
       "<table border=\"1\" class=\"dataframe\">\n",
       "  <thead>\n",
       "    <tr style=\"text-align: right;\">\n",
       "      <th></th>\n",
       "      <th>price</th>\n",
       "      <th>size</th>\n",
       "      <th>color_green</th>\n",
       "      <th>color_red</th>\n",
       "    </tr>\n",
       "  </thead>\n",
       "  <tbody>\n",
       "    <tr>\n",
       "      <th>0</th>\n",
       "      <td>10.1</td>\n",
       "      <td>1</td>\n",
       "      <td>1</td>\n",
       "      <td>0</td>\n",
       "    </tr>\n",
       "    <tr>\n",
       "      <th>1</th>\n",
       "      <td>13.5</td>\n",
       "      <td>2</td>\n",
       "      <td>0</td>\n",
       "      <td>1</td>\n",
       "    </tr>\n",
       "    <tr>\n",
       "      <th>2</th>\n",
       "      <td>15.3</td>\n",
       "      <td>3</td>\n",
       "      <td>0</td>\n",
       "      <td>0</td>\n",
       "    </tr>\n",
       "  </tbody>\n",
       "</table>\n",
       "</div>"
      ],
      "text/plain": [
       "   price  size  color_green  color_red\n",
       "0   10.1     1            1          0\n",
       "1   13.5     2            0          1\n",
       "2   15.3     3            0          0"
      ]
     },
     "execution_count": 133,
     "metadata": {},
     "output_type": "execute_result"
    }
   ],
   "source": [
    "# avoid multicollinearity by dropping one of the dummy columns for each mapped feature\n",
    "pd.get_dummies(df[[\"price\", \"color\", \"size\"]], drop_first=True)"
   ]
  },
  {
   "cell_type": "markdown",
   "metadata": {},
   "source": [
    "# Standardizing data: bring features onto same scale\n",
    "\n",
    "Standardizing the features ensures that each feature is given equal consideration in the training phase. Without standarization, some features may play a more prominent role in model training simply because the values are higher, but not necessarily because the feature is more important than another feature that happens to have smaller values.\n",
    "\n",
    "Several machine learning algorithms require data to be scaled."
   ]
  },
  {
   "cell_type": "markdown",
   "metadata": {},
   "source": [
    "<a id = 'Standardizing-data:-bring-features-onto-same-scale'></a>"
   ]
  },
  {
   "cell_type": "markdown",
   "metadata": {},
   "source": [
    "## Example 1 - standardization strategies\n",
    "\n",
    "A couple basic standardization strategies. \n",
    "- Standard scaling - scale the data so that it has the properties of a standard normal distribution - a mean of 0 and a standard deviation of 1\n",
    "- Min/max scaling - scale the data so that is fits in a set range, usually 0 - 1. "
   ]
  },
  {
   "cell_type": "markdown",
   "metadata": {},
   "source": [
    "<a id = 'Standardizing-data:-bring-features-onto-same-scale-Example1'></a>"
   ]
  },
  {
   "cell_type": "code",
   "execution_count": 134,
   "metadata": {
    "ExecuteTime": {
     "end_time": "2019-06-27T13:09:39.321671Z",
     "start_time": "2019-06-27T13:09:39.271123Z"
    }
   },
   "outputs": [],
   "source": [
    "# load data\n",
    "boston = load_boston()\n",
    "X = pd.DataFrame(boston.data, columns=boston.feature_names)\n",
    "y = boston.target"
   ]
  },
  {
   "cell_type": "code",
   "execution_count": 135,
   "metadata": {
    "ExecuteTime": {
     "end_time": "2019-06-27T13:09:39.382572Z",
     "start_time": "2019-06-27T13:09:39.329458Z"
    }
   },
   "outputs": [],
   "source": [
    "# train/test split\n",
    "X_train, X_test, y_train, y_test = train_test_split(X, y, test_size=0.2, random_state=9)"
   ]
  },
  {
   "cell_type": "markdown",
   "metadata": {},
   "source": [
    "__Strategy 1 - min/max scaling__"
   ]
  },
  {
   "cell_type": "code",
   "execution_count": 136,
   "metadata": {
    "ExecuteTime": {
     "end_time": "2019-06-27T13:09:39.453892Z",
     "start_time": "2019-06-27T13:09:39.390123Z"
    }
   },
   "outputs": [],
   "source": [
    "# instantiate min/max scaler and transform\n",
    "mms = MinMaxScaler()\n",
    "X_trainNorm = mms.fit_transform(X_train)\n",
    "X_testNorm = mms.transform(X_test)"
   ]
  },
  {
   "cell_type": "markdown",
   "metadata": {},
   "source": [
    "__Strategy 2 - standard scaling__"
   ]
  },
  {
   "cell_type": "code",
   "execution_count": 137,
   "metadata": {
    "ExecuteTime": {
     "end_time": "2019-06-27T13:09:39.511442Z",
     "start_time": "2019-06-27T13:09:39.465501Z"
    }
   },
   "outputs": [],
   "source": [
    "# strategy 2 - standard scaling\n",
    "stdsc = StandardScaler()\n",
    "X_train_std = stdsc.fit_transform(X_train)\n",
    "X_test_std = stdsc.transform(X_test)"
   ]
  },
  {
   "cell_type": "code",
   "execution_count": 138,
   "metadata": {
    "ExecuteTime": {
     "end_time": "2019-06-27T13:09:39.562400Z",
     "start_time": "2019-06-27T13:09:39.517256Z"
    }
   },
   "outputs": [
    {
     "name": "stdout",
     "output_type": "stream",
     "text": [
      "standardized: [-1.46385011 -0.87831007 -0.29277002  0.29277002  0.87831007  1.46385011]\n",
      "normalized: [0.  0.2 0.4 0.6 0.8 1. ]\n"
     ]
    }
   ],
   "source": [
    "# compare scaling strategies\n",
    "ex = np.array([0, 1, 2, 3, 4, 5])\n",
    "\n",
    "print(\"standardized:\", (ex - ex.mean()) / ex.std())\n",
    "\n",
    "print(\"normalized:\", (ex - ex.min()) / (ex.max() - ex.min()))"
   ]
  }
 ],
 "metadata": {
  "kernelspec": {
   "display_name": "Python 3",
   "language": "python",
   "name": "python3"
  },
  "language_info": {
   "codemirror_mode": {
    "name": "ipython",
    "version": 3
   },
   "file_extension": ".py",
   "mimetype": "text/x-python",
   "name": "python",
   "nbconvert_exporter": "python",
   "pygments_lexer": "ipython3",
   "version": "3.7.0"
  },
  "toc": {
   "base_numbering": 1,
   "nav_menu": {},
   "number_sections": true,
   "sideBar": true,
   "skip_h1_title": false,
   "title_cell": "Table of Contents",
   "title_sidebar": "Contents",
   "toc_cell": false,
   "toc_position": {
    "height": "calc(100% - 180px)",
    "left": "10px",
    "top": "150px",
    "width": "414px"
   },
   "toc_section_display": true,
   "toc_window_display": false
  }
 },
 "nbformat": 4,
 "nbformat_minor": 2
}
