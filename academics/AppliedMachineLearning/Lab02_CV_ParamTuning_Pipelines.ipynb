{
 "cells": [
  {
   "cell_type": "markdown",
   "metadata": {},
   "source": [
    "# TOC"
   ]
  },
  {
   "cell_type": "markdown",
   "metadata": {},
   "source": [
    "__Lab 02 - cross-validation, parameter tuning and pipelines__\n",
    "1. [Import](#Import)\n",
    "1. [Basic model - KNearestNeighbors](#Basic-model-KNearestNeighbors)\n",
    "    1. [Example 1 - basic model](#Basic-model-KNearestNeighbors-Example1)\n",
    "1. [Model evaluation - cross-validation](#Model-evaluation-cross-validation)\n",
    "    1. [Example 1 - CV w/ KNearestNeighbors](#Model-evaluation-cross-validation-Example1)\n",
    "    1. [Example 2 - CV w/ logistic regression](#Model-evaluation-cross-validation-Example2)\n",
    "1. [Parameter tuning](#Parameter-tuning)\n",
    "    1. [Example 1 - inefficient search for 'k'](#Parameter-tuning-Example1)\n",
    "    2. [Example 2 - GridSearchCV w/ 1 parameter](#Parameter-tuning-Example2)\n",
    "    3. [Example 3 - GridSearchCV w/ multiple parameters](#Parameter-tuning-Example3)\n",
    "1. [Pipelines](#Pipelines)\n",
    "    1. [Example 1 - pipeline model](#Pipelines-Example1)\n",
    "1. [Parameter tuning w/ pipelines](#Parameter-tuning-w/-pipelines)\n",
    "    1. [Example 1 - pipeline model w/ parameter tuning, KNearestNeighbors](#Parameter-tuning-w/-pipelines-Example1)\n",
    "    1. [Example 2 - pipeline model w/ parameter tuning, KNearestRegressor](#Parameter-tuning-w/-pipelines-Example2)"
   ]
  },
  {
   "cell_type": "markdown",
   "metadata": {},
   "source": [
    "# Import"
   ]
  },
  {
   "cell_type": "markdown",
   "metadata": {},
   "source": [
    "<a id = 'Import'></a>"
   ]
  },
  {
   "cell_type": "code",
   "execution_count": 1,
   "metadata": {
    "ExecuteTime": {
     "end_time": "2019-06-27T13:07:10.120438Z",
     "start_time": "2019-06-27T13:07:09.120462Z"
    }
   },
   "outputs": [
    {
     "data": {
      "text/html": [
       "<style>.container { width:78% !important; }</style>"
      ],
      "text/plain": [
       "<IPython.core.display.HTML object>"
      ]
     },
     "metadata": {},
     "output_type": "display_data"
    }
   ],
   "source": [
    "import numpy as np\n",
    "\n",
    "np.set_printoptions(threshold=np.inf, suppress=True)\n",
    "import pandas as pd\n",
    "import matplotlib.pyplot as plt\n",
    "\n",
    "%matplotlib inline\n",
    "\n",
    "import warnings\n",
    "\n",
    "warnings.simplefilter(\"ignore\")\n",
    "from IPython.core.display import display, HTML\n",
    "\n",
    "display(HTML(\"<style>.container { width:78% !important; }</style>\"))\n",
    "\n",
    "from sklearn.datasets import load_iris, load_boston\n",
    "from sklearn.neighbors import KNeighborsClassifier, KNeighborsRegressor\n",
    "from sklearn.linear_model import LogisticRegression\n",
    "from sklearn.pipeline import Pipeline\n",
    "from sklearn.discriminant_analysis import LinearDiscriminantAnalysis\n",
    "from sklearn.preprocessing import StandardScaler\n",
    "from sklearn.metrics import accuracy_score, mean_squared_error\n",
    "from sklearn.model_selection import (\n",
    "    KFold,\n",
    "    cross_val_score,\n",
    "    train_test_split,\n",
    "    GridSearchCV,\n",
    ")"
   ]
  },
  {
   "cell_type": "markdown",
   "metadata": {},
   "source": [
    "# Basic model - KNearestNeighbors   \n",
    "\n",
    "KNearestNeighbors is an algorithm that predicts the class of an observation based on the labels of the 'K' nearest observations. This is a non-parametric algforithm in that there are no coefficient to be learned based on the data. A major drawback to the algorithm is that the entire training set is needed to make a prediction, making this a relatively slow algorithm to execute."
   ]
  },
  {
   "cell_type": "markdown",
   "metadata": {},
   "source": [
    "<a id = 'Basic-model-KNearestNeighbors'></a>"
   ]
  },
  {
   "cell_type": "markdown",
   "metadata": {},
   "source": [
    "## Example 1 - basic model\n",
    "\n",
    "Using Iris dataset:\n",
    "- Split data into train/test set.\n",
    "- Build a KNN model on training data.\n",
    "- Evaluate model using accuracy score metric on test set."
   ]
  },
  {
   "cell_type": "markdown",
   "metadata": {},
   "source": [
    "<a id = 'Basic-model-KNearestNeighbors-Example1'></a>"
   ]
  },
  {
   "cell_type": "code",
   "execution_count": 2,
   "metadata": {
    "ExecuteTime": {
     "end_time": "2019-06-27T13:07:10.140089Z",
     "start_time": "2019-06-27T13:07:10.128499Z"
    }
   },
   "outputs": [
    {
     "name": "stdout",
     "output_type": "stream",
     "text": [
      "X dimensions: (150, 4)\n",
      "y dimensions: (150,)\n"
     ]
    }
   ],
   "source": [
    "# load and inspect data\n",
    "iris = load_iris()\n",
    "X = iris.data\n",
    "y = iris.target\n",
    "\n",
    "print(\"X dimensions: {0}\".format(X.shape))\n",
    "print(\"y dimensions: {0}\".format(y.shape))"
   ]
  },
  {
   "cell_type": "code",
   "execution_count": 3,
   "metadata": {
    "ExecuteTime": {
     "end_time": "2019-06-27T13:07:10.167194Z",
     "start_time": "2019-06-27T13:07:10.148400Z"
    }
   },
   "outputs": [
    {
     "data": {
      "text/plain": [
       "array([[5.1, 3.5, 1.4, 0.2],\n",
       "       [4.9, 3. , 1.4, 0.2],\n",
       "       [4.7, 3.2, 1.3, 0.2],\n",
       "       [4.6, 3.1, 1.5, 0.2],\n",
       "       [5. , 3.6, 1.4, 0.2]])"
      ]
     },
     "execution_count": 3,
     "metadata": {},
     "output_type": "execute_result"
    }
   ],
   "source": [
    "# review observations\n",
    "X[:5]"
   ]
  },
  {
   "cell_type": "code",
   "execution_count": 4,
   "metadata": {
    "ExecuteTime": {
     "end_time": "2019-06-27T13:07:10.182168Z",
     "start_time": "2019-06-27T13:07:10.169289Z"
    }
   },
   "outputs": [
    {
     "data": {
      "text/plain": [
       "['sepal length (cm)',\n",
       " 'sepal width (cm)',\n",
       " 'petal length (cm)',\n",
       " 'petal width (cm)']"
      ]
     },
     "execution_count": 4,
     "metadata": {},
     "output_type": "execute_result"
    }
   ],
   "source": [
    "# review feature names\n",
    "iris.feature_names"
   ]
  },
  {
   "cell_type": "code",
   "execution_count": 5,
   "metadata": {
    "ExecuteTime": {
     "end_time": "2019-06-27T13:07:10.193441Z",
     "start_time": "2019-06-27T13:07:10.183668Z"
    }
   },
   "outputs": [
    {
     "data": {
      "text/plain": [
       "array([0, 0, 0, 0, 0])"
      ]
     },
     "execution_count": 5,
     "metadata": {},
     "output_type": "execute_result"
    }
   ],
   "source": [
    "# review labels\n",
    "y[:5]"
   ]
  },
  {
   "cell_type": "code",
   "execution_count": 6,
   "metadata": {
    "ExecuteTime": {
     "end_time": "2019-06-27T13:07:10.207453Z",
     "start_time": "2019-06-27T13:07:10.195356Z"
    }
   },
   "outputs": [
    {
     "data": {
      "text/plain": [
       "array(['setosa', 'versicolor', 'virginica'], dtype='<U10')"
      ]
     },
     "execution_count": 6,
     "metadata": {},
     "output_type": "execute_result"
    }
   ],
   "source": [
    "# review category labels\n",
    "iris.target_names"
   ]
  },
  {
   "cell_type": "code",
   "execution_count": 7,
   "metadata": {
    "ExecuteTime": {
     "end_time": "2019-06-27T13:07:10.221563Z",
     "start_time": "2019-06-27T13:07:10.213486Z"
    }
   },
   "outputs": [],
   "source": [
    "# train/test set split\n",
    "X_train, X_test, y_train, y_test = train_test_split(X, y, random_state=4)"
   ]
  },
  {
   "cell_type": "code",
   "execution_count": 8,
   "metadata": {
    "ExecuteTime": {
     "end_time": "2019-06-27T13:07:10.252973Z",
     "start_time": "2019-06-27T13:07:10.229591Z"
    }
   },
   "outputs": [
    {
     "data": {
      "text/plain": [
       "KNeighborsClassifier(algorithm='auto', leaf_size=30, metric='minkowski',\n",
       "                     metric_params=None, n_jobs=None, n_neighbors=5, p=2,\n",
       "                     weights='uniform')"
      ]
     },
     "execution_count": 8,
     "metadata": {},
     "output_type": "execute_result"
    }
   ],
   "source": [
    "# train model\n",
    "knn = KNeighborsClassifier(n_neighbors=5)\n",
    "knn.fit(X_train, y_train)"
   ]
  },
  {
   "cell_type": "code",
   "execution_count": 9,
   "metadata": {
    "ExecuteTime": {
     "end_time": "2019-06-27T13:07:10.274948Z",
     "start_time": "2019-06-27T13:07:10.260695Z"
    }
   },
   "outputs": [
    {
     "name": "stdout",
     "output_type": "stream",
     "text": [
      "Accuracy: 0.974\n"
     ]
    }
   ],
   "source": [
    "# test set predictions\n",
    "yPred = knn.predict(X_test)\n",
    "print(\"Accuracy: {0}\".format(round(accuracy_score(y_test, yPred), 3)))"
   ]
  },
  {
   "cell_type": "markdown",
   "metadata": {},
   "source": [
    "# Model evaluation - cross-validation\n",
    "\n",
    "Cross-validation is a method for repeatedly training a model on several different slices of training and test data. KFold cross-validation fits a model 'K' times. The test set is $1/K$ of the total dataset, and the remaining data is used for training the model. Each subsequent fold involves reincorporating the test set back into the original dataset and selecting a new slice as the test set for the next iteration.\n",
    "\n",
    "Cross-validation gives insight into how the quality model of a model changes as the training and test dat changes. Ideally, the average accuracy is high with a small standard deviation. A downside is the thoroughness of the approach given that  the model needs to be trained K times."
   ]
  },
  {
   "cell_type": "markdown",
   "metadata": {},
   "source": [
    "<a id = 'Model-evaluation-cross-validation'></a>"
   ]
  },
  {
   "cell_type": "markdown",
   "metadata": {},
   "source": [
    "## Example 1 - CV w/ KNearestNeighbors \n",
    "\n",
    "Using Iris dataset:\n",
    "- Use cross_val_score to perform 10-fold cross-validation on full dataset using KNN.\n",
    "- Use accuracy metric to evaluate each fold.\n",
    "- Review and visualize mean of each fold."
   ]
  },
  {
   "cell_type": "markdown",
   "metadata": {},
   "source": [
    "<a id = 'Model-evaluation-cross-validation-Example1'></a>"
   ]
  },
  {
   "cell_type": "code",
   "execution_count": 10,
   "metadata": {
    "ExecuteTime": {
     "end_time": "2019-06-27T13:07:10.287898Z",
     "start_time": "2019-06-27T13:07:10.279645Z"
    }
   },
   "outputs": [],
   "source": [
    "# load data\n",
    "iris = load_iris()\n",
    "X = iris.data\n",
    "y = iris.target"
   ]
  },
  {
   "cell_type": "code",
   "execution_count": 11,
   "metadata": {
    "ExecuteTime": {
     "end_time": "2019-06-27T13:07:10.330619Z",
     "start_time": "2019-06-27T13:07:10.291301Z"
    }
   },
   "outputs": [
    {
     "name": "stdout",
     "output_type": "stream",
     "text": [
      "[1.         0.93333333 1.         1.         0.86666667 0.93333333\n",
      " 0.93333333 1.         1.         1.        ]\n"
     ]
    }
   ],
   "source": [
    "# use cross_val_score to retrieve 10 different scores with model\n",
    "knn = KNeighborsClassifier(n_neighbors=5)\n",
    "scores = cross_val_score(knn, X, y, cv=10, scoring=\"accuracy\")\n",
    "print(scores)"
   ]
  },
  {
   "cell_type": "code",
   "execution_count": 12,
   "metadata": {
    "ExecuteTime": {
     "end_time": "2019-06-27T13:07:10.349991Z",
     "start_time": "2019-06-27T13:07:10.336164Z"
    }
   },
   "outputs": [
    {
     "name": "stdout",
     "output_type": "stream",
     "text": [
      "Mean of cross validation scores, KNN: 0.967\n",
      "Spread of cross validation scores, KNN: 0.045\n"
     ]
    }
   ],
   "source": [
    "# evaluate cross-validation\n",
    "print(\"Mean of cross validation scores, KNN: {0}\".format(round(scores.mean(), 3)))\n",
    "print(\"Spread of cross validation scores, KNN: {0}\".format(round(scores.std(), 3)))"
   ]
  },
  {
   "cell_type": "markdown",
   "metadata": {},
   "source": [
    "## Example 2 - CV w/ logistic regression\n",
    "\n",
    "Using Iris dataset:\n",
    "- Repeat the above example using logistic regression."
   ]
  },
  {
   "cell_type": "markdown",
   "metadata": {},
   "source": [
    "<a id = 'Model-evaluation-cross-validation-Example2'></a>"
   ]
  },
  {
   "cell_type": "code",
   "execution_count": 13,
   "metadata": {
    "ExecuteTime": {
     "end_time": "2019-06-27T13:07:10.365163Z",
     "start_time": "2019-06-27T13:07:10.358478Z"
    }
   },
   "outputs": [],
   "source": [
    "# load data\n",
    "iris = load_iris()\n",
    "X = iris.data\n",
    "y = iris.target"
   ]
  },
  {
   "cell_type": "code",
   "execution_count": 14,
   "metadata": {
    "ExecuteTime": {
     "end_time": "2019-06-27T13:07:10.401995Z",
     "start_time": "2019-06-27T13:07:10.373462Z"
    }
   },
   "outputs": [
    {
     "name": "stdout",
     "output_type": "stream",
     "text": [
      "[1.         1.         1.         0.93333333 0.93333333 0.93333333\n",
      " 0.8        0.93333333 1.         1.        ]\n"
     ]
    }
   ],
   "source": [
    "# use cross_val_score to retrieve 10 different scores with model\n",
    "logReg = LogisticRegression()\n",
    "scores = cross_val_score(logReg, X, y, cv=10, scoring=\"accuracy\")\n",
    "print(scores)"
   ]
  },
  {
   "cell_type": "code",
   "execution_count": 15,
   "metadata": {
    "ExecuteTime": {
     "end_time": "2019-06-27T13:07:10.417420Z",
     "start_time": "2019-06-27T13:07:10.409088Z"
    }
   },
   "outputs": [
    {
     "name": "stdout",
     "output_type": "stream",
     "text": [
      "Mean of cross validation scores, Logistic Regression: 0.953\n",
      "Spread of cross validation scores, Logistic Regression: 0.06\n"
     ]
    }
   ],
   "source": [
    "# evaluate cross-validation\n",
    "print(\n",
    "    \"Mean of cross validation scores, Logistic Regression: {0}\".format(\n",
    "        round(scores.mean(), 3)\n",
    "    )\n",
    ")\n",
    "print(\n",
    "    \"Spread of cross validation scores, Logistic Regression: {0}\".format(\n",
    "        round(scores.std(), 3)\n",
    "    )\n",
    ")"
   ]
  },
  {
   "cell_type": "markdown",
   "metadata": {},
   "source": [
    "> Remarks - According to the CV results, the KNN model has a higher average score and a smaller spread of scores, making this the better model of the two."
   ]
  },
  {
   "cell_type": "markdown",
   "metadata": {},
   "source": [
    "# Parameter tuning\n",
    "\n",
    "Parameter tuning is the practice of choosing the optimal parameters for a model given a data set. For example, KNN has a weight parameter that can be used to implement uniform weighting or distance weighting. The latter values closer neighbors higher than those further away, whereas the former evaluates all neighbors equally. As another example, LASSO linear regression has an alpha parameter that can take on any numerical value and determines how rapidly or slowly feature weights are dimished to zero.\n",
    "\n",
    "Grid search is a method for evaluating several different values for a parameter. This can be extended to simultaneously evaluate several different values for several different parameters. The number of times that grid search fits a model is equal to the number of unique combinations of parameters. GridSearchCV also allows for the incorporation of cross validation into the grid search. This obviously multiplies the total number of model fits, but is certainly thorough."
   ]
  },
  {
   "cell_type": "markdown",
   "metadata": {},
   "source": [
    "<a id = 'Parameter-tuning'></a>"
   ]
  },
  {
   "cell_type": "markdown",
   "metadata": {},
   "source": [
    "## Example 1 - inefficient search for 'k'\n",
    "\n",
    "Using Iris dataset:\n",
    "- Perform inefficient search of K values 1-30 using 10-fold cross-validation.\n",
    "- Use accuracy metric to evaluate each fold.\n",
    "- Review mean of each fold."
   ]
  },
  {
   "cell_type": "markdown",
   "metadata": {},
   "source": [
    "<a id = 'Parameter-tuning-Example1'></a>"
   ]
  },
  {
   "cell_type": "code",
   "execution_count": 16,
   "metadata": {
    "ExecuteTime": {
     "end_time": "2019-06-27T13:07:10.433263Z",
     "start_time": "2019-06-27T13:07:10.419608Z"
    }
   },
   "outputs": [],
   "source": [
    "# load data\n",
    "iris = load_iris()\n",
    "X = iris.data\n",
    "y = iris.target"
   ]
  },
  {
   "cell_type": "code",
   "execution_count": 17,
   "metadata": {
    "ExecuteTime": {
     "end_time": "2019-06-27T13:07:11.065793Z",
     "start_time": "2019-06-27T13:07:10.439193Z"
    }
   },
   "outputs": [
    {
     "name": "stdout",
     "output_type": "stream",
     "text": [
      "[0.96, 0.953, 0.967, 0.967, 0.967, 0.967, 0.967, 0.967, 0.973, 0.967, 0.967, 0.973, 0.98, 0.973, 0.973, 0.973, 0.973, 0.98, 0.973, 0.98, 0.967, 0.967, 0.973, 0.96, 0.967, 0.96, 0.967, 0.953, 0.953, 0.953]\n"
     ]
    }
   ],
   "source": [
    "# inefficient k-value search for illustrative purposes\n",
    "kRange = list(range(1, 31))\n",
    "kScores = []\n",
    "for k in kRange:\n",
    "    knn = KNeighborsClassifier(n_neighbors=k)\n",
    "    scores = cross_val_score(knn, X, y, cv=10, scoring=\"accuracy\")\n",
    "    kScores.append(round(scores.mean(), 3))\n",
    "print(kScores)"
   ]
  },
  {
   "cell_type": "code",
   "execution_count": 18,
   "metadata": {
    "ExecuteTime": {
     "end_time": "2019-06-27T13:07:11.284726Z",
     "start_time": "2019-06-27T13:07:11.072674Z"
    }
   },
   "outputs": [
    {
     "data": {
      "text/plain": [
       "[<matplotlib.lines.Line2D at 0x7fe6fd070438>]"
      ]
     },
     "execution_count": 18,
     "metadata": {},
     "output_type": "execute_result"
    },
    {
     "data": {
      "image/png": "[encoded data removed]",
      "text/plain": [
       "<Figure size 432x288 with 1 Axes>"
      ]
     },
     "metadata": {
      "needs_background": "light"
     },
     "output_type": "display_data"
    }
   ],
   "source": [
    "# visualize average 10-fold CV score for each value of k from 1 to 30\n",
    "plt.plot(kRange, kScores)"
   ]
  },
  {
   "cell_type": "code",
   "execution_count": 19,
   "metadata": {
    "ExecuteTime": {
     "end_time": "2019-06-27T13:07:11.299730Z",
     "start_time": "2019-06-27T13:07:11.293175Z"
    }
   },
   "outputs": [
    {
     "name": "stdout",
     "output_type": "stream",
     "text": [
      "Best value of k: 13\n"
     ]
    }
   ],
   "source": [
    "# review best value of k\n",
    "print(\"Best value of k: {}\".format(kRange[np.argmax(kScores)]))"
   ]
  },
  {
   "cell_type": "markdown",
   "metadata": {},
   "source": [
    "> Remarks - According to the 10-fold CV results, the best value of k is 13."
   ]
  },
  {
   "cell_type": "markdown",
   "metadata": {},
   "source": [
    "## Example 2 - GridSearchCV w/ 1 parameter\n",
    "\n",
    "Using Iris dataset:\n",
    "- Tune parameters for KNN model by performing efficient search of K values 1-30 using GridSearchCV, which also incorporates KFold cross-validation.\n",
    "- Review and visualize the mean and standard deviation of each fold.\n",
    "- Review best score, best parameters and best model."
   ]
  },
  {
   "cell_type": "markdown",
   "metadata": {},
   "source": [
    "<a id = 'Parameter-tuning-Example2'></a>"
   ]
  },
  {
   "cell_type": "code",
   "execution_count": 20,
   "metadata": {
    "ExecuteTime": {
     "end_time": "2019-06-27T13:07:11.318979Z",
     "start_time": "2019-06-27T13:07:11.309521Z"
    }
   },
   "outputs": [],
   "source": [
    "# load data\n",
    "\n",
    "iris = load_iris()\n",
    "X = iris.data\n",
    "y = iris.target"
   ]
  },
  {
   "cell_type": "code",
   "execution_count": 21,
   "metadata": {
    "ExecuteTime": {
     "end_time": "2019-06-27T13:07:11.336711Z",
     "start_time": "2019-06-27T13:07:11.323550Z"
    }
   },
   "outputs": [
    {
     "name": "stdout",
     "output_type": "stream",
     "text": [
      "{'n_neighbors': array([ 1,  2,  3,  4,  5,  6,  7,  8,  9, 10, 11, 12, 13, 14, 15, 16, 17,\n",
      "       18, 19, 20, 21, 22, 23, 24, 25, 26, 27, 28, 29, 30])}\n"
     ]
    }
   ],
   "source": [
    "# build parameter grid\n",
    "\n",
    "kRange = np.arange(1, 31)\n",
    "paramGrid = dict(n_neighbors=kRange)\n",
    "print(paramGrid)"
   ]
  },
  {
   "cell_type": "code",
   "execution_count": 22,
   "metadata": {
    "ExecuteTime": {
     "end_time": "2019-06-27T13:07:11.934145Z",
     "start_time": "2019-06-27T13:07:11.343063Z"
    }
   },
   "outputs": [
    {
     "data": {
      "text/plain": [
       "GridSearchCV(cv=10, error_score='raise-deprecating',\n",
       "             estimator=KNeighborsClassifier(algorithm='auto', leaf_size=30,\n",
       "                                            metric='minkowski',\n",
       "                                            metric_params=None, n_jobs=None,\n",
       "                                            n_neighbors=30, p=2,\n",
       "                                            weights='uniform'),\n",
       "             iid='warn', n_jobs=None,\n",
       "             param_grid={'n_neighbors': array([ 1,  2,  3,  4,  5,  6,  7,  8,  9, 10, 11, 12, 13, 14, 15, 16, 17,\n",
       "       18, 19, 20, 21, 22, 23, 24, 25, 26, 27, 28, 29, 30])},\n",
       "             pre_dispatch='2*n_jobs', refit=True, return_train_score=False,\n",
       "             scoring='accuracy', verbose=0)"
      ]
     },
     "execution_count": 22,
     "metadata": {},
     "output_type": "execute_result"
    }
   ],
   "source": [
    "# run GridSearcCV\n",
    "knn = KNeighborsClassifier()\n",
    "gridSearch = GridSearchCV(knn, paramGrid, cv=10, scoring=\"accuracy\")\n",
    "gridSearch.fit(X, y)"
   ]
  },
  {
   "cell_type": "code",
   "execution_count": 23,
   "metadata": {
    "ExecuteTime": {
     "end_time": "2019-06-27T13:07:11.964332Z",
     "start_time": "2019-06-27T13:07:11.943513Z"
    }
   },
   "outputs": [
    {
     "data": {
      "text/plain": [
       "{'mean_fit_time': array([0.00046325, 0.0003684 , 0.00051961, 0.0003396 , 0.00036361,\n",
       "        0.00033898, 0.00034301, 0.00032101, 0.00031803, 0.0002914 ,\n",
       "        0.00050614, 0.00049293, 0.00046461, 0.00035863, 0.00035691,\n",
       "        0.00035048, 0.00032248, 0.00038431, 0.00043378, 0.00037293,\n",
       "        0.00053363, 0.0003387 , 0.00035877, 0.00043499, 0.00036049,\n",
       "        0.00035915, 0.00030789, 0.00033724, 0.00051389, 0.00033748]),\n",
       " 'std_fit_time': array([0.00016971, 0.00010787, 0.00043801, 0.00004691, 0.00008926,\n",
       "        0.00004543, 0.00003818, 0.00005106, 0.00004919, 0.00002081,\n",
       "        0.00031322, 0.00046635, 0.00037254, 0.00010048, 0.00010981,\n",
       "        0.00009972, 0.00004363, 0.00021366, 0.00037176, 0.00014642,\n",
       "        0.00021676, 0.00008249, 0.00008175, 0.00040917, 0.00017792,\n",
       "        0.00008541, 0.00003521, 0.00006315, 0.00063418, 0.00007663]),\n",
       " 'mean_score_time': array([0.00189307, 0.00135069, 0.00102973, 0.00099275, 0.00104594,\n",
       "        0.00104618, 0.00122371, 0.00107934, 0.00091991, 0.0010046 ,\n",
       "        0.00114996, 0.00111089, 0.00131457, 0.00104914, 0.00110295,\n",
       "        0.00105929, 0.00115654, 0.00103481, 0.00095758, 0.00109019,\n",
       "        0.00192039, 0.00111866, 0.00121727, 0.00096943, 0.00096488,\n",
       "        0.00102925, 0.0010879 , 0.00100722, 0.00094883, 0.00109677]),\n",
       " 'std_score_time': array([0.00113109, 0.00100208, 0.0000973 , 0.0000574 , 0.00030894,\n",
       "        0.00013061, 0.00058953, 0.00027426, 0.00005946, 0.00019474,\n",
       "        0.00049869, 0.00048074, 0.00056685, 0.00035883, 0.00034058,\n",
       "        0.00018581, 0.00043873, 0.00020298, 0.00007184, 0.00034418,\n",
       "        0.00092948, 0.00028036, 0.00043679, 0.00016474, 0.00014911,\n",
       "        0.00041383, 0.00046371, 0.00031251, 0.00008477, 0.0005493 ]),\n",
       " 'param_n_neighbors': masked_array(data=[1, 2, 3, 4, 5, 6, 7, 8, 9, 10, 11, 12, 13, 14, 15, 16,\n",
       "                    17, 18, 19, 20, 21, 22, 23, 24, 25, 26, 27, 28, 29, 30],\n",
       "              mask=[False, False, False, False, False, False, False, False,\n",
       "                    False, False, False, False, False, False, False, False,\n",
       "                    False, False, False, False, False, False, False, False,\n",
       "                    False, False, False, False, False, False],\n",
       "        fill_value='?',\n",
       "             dtype=object),\n",
       " 'params': [{'n_neighbors': 1},\n",
       "  {'n_neighbors': 2},\n",
       "  {'n_neighbors': 3},\n",
       "  {'n_neighbors': 4},\n",
       "  {'n_neighbors': 5},\n",
       "  {'n_neighbors': 6},\n",
       "  {'n_neighbors': 7},\n",
       "  {'n_neighbors': 8},\n",
       "  {'n_neighbors': 9},\n",
       "  {'n_neighbors': 10},\n",
       "  {'n_neighbors': 11},\n",
       "  {'n_neighbors': 12},\n",
       "  {'n_neighbors': 13},\n",
       "  {'n_neighbors': 14},\n",
       "  {'n_neighbors': 15},\n",
       "  {'n_neighbors': 16},\n",
       "  {'n_neighbors': 17},\n",
       "  {'n_neighbors': 18},\n",
       "  {'n_neighbors': 19},\n",
       "  {'n_neighbors': 20},\n",
       "  {'n_neighbors': 21},\n",
       "  {'n_neighbors': 22},\n",
       "  {'n_neighbors': 23},\n",
       "  {'n_neighbors': 24},\n",
       "  {'n_neighbors': 25},\n",
       "  {'n_neighbors': 26},\n",
       "  {'n_neighbors': 27},\n",
       "  {'n_neighbors': 28},\n",
       "  {'n_neighbors': 29},\n",
       "  {'n_neighbors': 30}],\n",
       " 'split0_test_score': array([1.        , 1.        , 1.        , 1.        , 1.        ,\n",
       "        1.        , 1.        , 1.        , 1.        , 1.        ,\n",
       "        1.        , 1.        , 1.        , 1.        , 0.93333333,\n",
       "        1.        , 0.93333333, 1.        , 0.93333333, 1.        ,\n",
       "        0.93333333, 0.93333333, 0.93333333, 0.93333333, 0.93333333,\n",
       "        0.93333333, 0.93333333, 0.93333333, 0.93333333, 0.93333333]),\n",
       " 'split1_test_score': array([0.93333333, 0.93333333, 0.93333333, 0.93333333, 0.93333333,\n",
       "        0.93333333, 0.93333333, 0.93333333, 0.93333333, 0.93333333,\n",
       "        0.93333333, 0.93333333, 0.93333333, 0.93333333, 0.93333333,\n",
       "        0.93333333, 0.93333333, 0.93333333, 0.93333333, 0.93333333,\n",
       "        0.93333333, 0.93333333, 0.93333333, 0.93333333, 0.93333333,\n",
       "        0.93333333, 0.93333333, 0.93333333, 0.93333333, 0.93333333]),\n",
       " 'split2_test_score': array([1., 1., 1., 1., 1., 1., 1., 1., 1., 1., 1., 1., 1., 1., 1., 1., 1.,\n",
       "        1., 1., 1., 1., 1., 1., 1., 1., 1., 1., 1., 1., 1.]),\n",
       " 'split3_test_score': array([0.93333333, 0.93333333, 0.93333333, 0.93333333, 1.        ,\n",
       "        1.        , 1.        , 1.        , 1.        , 1.        ,\n",
       "        1.        , 1.        , 1.        , 1.        , 1.        ,\n",
       "        1.        , 1.        , 1.        , 1.        , 1.        ,\n",
       "        1.        , 1.        , 1.        , 1.        , 1.        ,\n",
       "        1.        , 1.        , 0.93333333, 0.93333333, 0.93333333]),\n",
       " 'split4_test_score': array([0.86666667, 0.86666667, 0.86666667, 0.86666667, 0.86666667,\n",
       "        0.86666667, 0.86666667, 1.        , 1.        , 1.        ,\n",
       "        1.        , 1.        , 1.        , 1.        , 1.        ,\n",
       "        1.        , 1.        , 1.        , 1.        , 1.        ,\n",
       "        0.93333333, 1.        , 1.        , 1.        , 1.        ,\n",
       "        1.        , 1.        , 1.        , 1.        , 1.        ]),\n",
       " 'split5_test_score': array([1.        , 1.        , 1.        , 1.        , 0.93333333,\n",
       "        0.93333333, 0.93333333, 0.86666667, 0.93333333, 0.86666667,\n",
       "        0.86666667, 0.93333333, 0.93333333, 0.86666667, 0.93333333,\n",
       "        0.93333333, 0.93333333, 0.93333333, 0.93333333, 0.93333333,\n",
       "        0.93333333, 0.93333333, 0.93333333, 0.86666667, 0.93333333,\n",
       "        0.86666667, 0.86666667, 0.86666667, 0.86666667, 0.86666667]),\n",
       " 'split6_test_score': array([0.86666667, 0.86666667, 0.93333333, 0.93333333, 0.93333333,\n",
       "        0.93333333, 0.93333333, 0.93333333, 0.93333333, 0.93333333,\n",
       "        0.93333333, 0.93333333, 0.93333333, 0.93333333, 0.93333333,\n",
       "        0.93333333, 0.93333333, 0.93333333, 0.93333333, 0.93333333,\n",
       "        0.93333333, 0.93333333, 0.93333333, 0.93333333, 0.93333333,\n",
       "        0.93333333, 0.93333333, 0.93333333, 0.93333333, 0.93333333]),\n",
       " 'split7_test_score': array([1.        , 0.93333333, 1.        , 1.        , 1.        ,\n",
       "        1.        , 1.        , 0.93333333, 0.93333333, 0.93333333,\n",
       "        0.93333333, 0.93333333, 1.        , 1.        , 1.        ,\n",
       "        0.93333333, 1.        , 1.        , 1.        , 1.        ,\n",
       "        1.        , 0.93333333, 1.        , 0.93333333, 0.93333333,\n",
       "        0.93333333, 1.        , 0.93333333, 0.93333333, 0.93333333]),\n",
       " 'split8_test_score': array([1., 1., 1., 1., 1., 1., 1., 1., 1., 1., 1., 1., 1., 1., 1., 1., 1.,\n",
       "        1., 1., 1., 1., 1., 1., 1., 1., 1., 1., 1., 1., 1.]),\n",
       " 'split9_test_score': array([1., 1., 1., 1., 1., 1., 1., 1., 1., 1., 1., 1., 1., 1., 1., 1., 1.,\n",
       "        1., 1., 1., 1., 1., 1., 1., 1., 1., 1., 1., 1., 1.]),\n",
       " 'mean_test_score': array([0.96      , 0.95333333, 0.96666667, 0.96666667, 0.96666667,\n",
       "        0.96666667, 0.96666667, 0.96666667, 0.97333333, 0.96666667,\n",
       "        0.96666667, 0.97333333, 0.98      , 0.97333333, 0.97333333,\n",
       "        0.97333333, 0.97333333, 0.98      , 0.97333333, 0.98      ,\n",
       "        0.96666667, 0.96666667, 0.97333333, 0.96      , 0.96666667,\n",
       "        0.96      , 0.96666667, 0.95333333, 0.95333333, 0.95333333]),\n",
       " 'std_test_score': array([0.05333333, 0.05206833, 0.04472136, 0.04472136, 0.04472136,\n",
       "        0.04472136, 0.04472136, 0.04472136, 0.03265986, 0.04472136,\n",
       "        0.04472136, 0.03265986, 0.0305505 , 0.04422166, 0.03265986,\n",
       "        0.03265986, 0.03265986, 0.0305505 , 0.03265986, 0.0305505 ,\n",
       "        0.03333333, 0.03333333, 0.03265986, 0.04422166, 0.03333333,\n",
       "        0.04422166, 0.04472136, 0.04268749, 0.04268749, 0.04268749]),\n",
       " 'rank_test_score': array([24, 27, 12, 12, 12, 12, 12, 12,  4, 12, 12,  4,  1,  4,  4,  4,  4,\n",
       "         1,  4,  1, 12, 12,  4, 24, 12, 24, 12, 27, 27, 27], dtype=int32)}"
      ]
     },
     "execution_count": 23,
     "metadata": {},
     "output_type": "execute_result"
    }
   ],
   "source": [
    "gridSearch.cv_results_"
   ]
  },
  {
   "cell_type": "code",
   "execution_count": 24,
   "metadata": {
    "ExecuteTime": {
     "end_time": "2019-06-27T13:07:11.980166Z",
     "start_time": "2019-06-27T13:07:11.975467Z"
    }
   },
   "outputs": [
    {
     "data": {
      "text/plain": [
       "array([0.05333333, 0.05206833, 0.04472136, 0.04472136, 0.04472136,\n",
       "       0.04472136, 0.04472136, 0.04472136, 0.03265986, 0.04472136,\n",
       "       0.04472136, 0.03265986, 0.0305505 , 0.04422166, 0.03265986,\n",
       "       0.03265986, 0.03265986, 0.0305505 , 0.03265986, 0.0305505 ,\n",
       "       0.03333333, 0.03333333, 0.03265986, 0.04422166, 0.03333333,\n",
       "       0.04422166, 0.04472136, 0.04268749, 0.04268749, 0.04268749])"
      ]
     },
     "execution_count": 24,
     "metadata": {},
     "output_type": "execute_result"
    }
   ],
   "source": [
    "gridSearch.cv_results_[\"std_test_score\"]"
   ]
  },
  {
   "cell_type": "code",
   "execution_count": 25,
   "metadata": {
    "ExecuteTime": {
     "end_time": "2019-06-27T13:07:14.693987Z",
     "start_time": "2019-06-27T13:07:11.981785Z"
    }
   },
   "outputs": [
    {
     "data": {
      "text/plain": [
       "[<matplotlib.lines.Line2D at 0x7fe6fcbc31d0>]"
      ]
     },
     "execution_count": 25,
     "metadata": {},
     "output_type": "execute_result"
    },
    {
     "data": {
      "image/png": "[encoded data removed]",
      "text/plain": [
       "<Figure size 7200x1600 with 2 Axes>"
      ]
     },
     "metadata": {
      "needs_background": "light"
     },
     "output_type": "display_data"
    }
   ],
   "source": [
    "# visualize and evaluate GridSearchCV results\n",
    "allMeans = gridSearch.cv_results_[\"mean_test_score\"]\n",
    "allStds = gridSearch.cv_results_[\"std_test_score\"]\n",
    "\n",
    "fig = plt.figure(figsize=(18, 4), dpi=400)\n",
    "alpha_level = 0.65\n",
    "\n",
    "ax1 = fig.add_subplot(121)\n",
    "ax1.plot(kRange, allMeans)\n",
    "\n",
    "ax2 = fig.add_subplot(122)\n",
    "ax2.plot(kRange, allStds)"
   ]
  },
  {
   "cell_type": "code",
   "execution_count": 26,
   "metadata": {
    "ExecuteTime": {
     "end_time": "2019-06-27T13:07:14.717818Z",
     "start_time": "2019-06-27T13:07:14.710647Z"
    }
   },
   "outputs": [
    {
     "name": "stdout",
     "output_type": "stream",
     "text": [
      "Value of k with highest average score: 13\n",
      "Value of k with lowest average spread: 13\n"
     ]
    }
   ],
   "source": [
    "# review optimum k-values based on mean and standard deviation\n",
    "print(\"Value of k with highest average score: {}\".format(kRange[np.argmax(allMeans)]))\n",
    "print(\"Value of k with lowest average spread: {}\".format(kRange[np.argmin(allStds)]))"
   ]
  },
  {
   "cell_type": "markdown",
   "metadata": {},
   "source": [
    "> Remarks - k = 13 has the highest average score and the lowest average spread."
   ]
  },
  {
   "cell_type": "code",
   "execution_count": 27,
   "metadata": {
    "ExecuteTime": {
     "end_time": "2019-06-27T13:07:14.731895Z",
     "start_time": "2019-06-27T13:07:14.722595Z"
    }
   },
   "outputs": [
    {
     "name": "stdout",
     "output_type": "stream",
     "text": [
      "Best score: 0.98\n",
      "Best parameter: {'n_neighbors': 13}\n",
      "Best estimator: KNeighborsClassifier(algorithm='auto', leaf_size=30, metric='minkowski',\n",
      "                     metric_params=None, n_jobs=None, n_neighbors=13, p=2,\n",
      "                     weights='uniform')\n"
     ]
    }
   ],
   "source": [
    "# review best model\n",
    "print(\"Best score: {0}\".format(gridSearch.best_score_))\n",
    "print(\"Best parameter: {0}\".format(gridSearch.best_params_))\n",
    "print(\"Best estimator: {0}\".format(gridSearch.best_estimator_))"
   ]
  },
  {
   "cell_type": "markdown",
   "metadata": {},
   "source": [
    "## Example 3 - GridSearchCV w/ multiple parameters\n",
    "\n",
    "Using Iris dataset:\n",
    "- Tune parameters for KNN model by performing efficient search of K values 1-30 and weighting methods using GridSearchCV, which also incorporates KFold cross-validation.\n",
    "- Review best score, best parameters and best model."
   ]
  },
  {
   "cell_type": "markdown",
   "metadata": {},
   "source": [
    "<a id = 'Parameter-tuning-Example3'></a>\n"
   ]
  },
  {
   "cell_type": "code",
   "execution_count": 28,
   "metadata": {
    "ExecuteTime": {
     "end_time": "2019-06-27T13:07:14.750212Z",
     "start_time": "2019-06-27T13:07:14.743492Z"
    }
   },
   "outputs": [],
   "source": [
    "# load data\n",
    "iris = load_iris()\n",
    "X = iris.data\n",
    "y = iris.target"
   ]
  },
  {
   "cell_type": "code",
   "execution_count": 29,
   "metadata": {
    "ExecuteTime": {
     "end_time": "2019-06-27T13:07:14.762254Z",
     "start_time": "2019-06-27T13:07:14.752861Z"
    }
   },
   "outputs": [
    {
     "name": "stdout",
     "output_type": "stream",
     "text": [
      "{'n_neighbors': array([ 1,  2,  3,  4,  5,  6,  7,  8,  9, 10, 11, 12, 13, 14, 15, 16, 17,\n",
      "       18, 19, 20, 21, 22, 23, 24, 25, 26, 27, 28, 29, 30]), 'weights': ['uniform', 'distance']}\n"
     ]
    }
   ],
   "source": [
    "# build parameter grid\n",
    "kRange = np.arange(1, 31)\n",
    "weightMethods = [\"uniform\", \"distance\"]\n",
    "paramGrid = dict(n_neighbors=kRange, weights=weightMethods)\n",
    "print(paramGrid)"
   ]
  },
  {
   "cell_type": "code",
   "execution_count": 30,
   "metadata": {
    "ExecuteTime": {
     "end_time": "2019-06-27T13:07:15.882602Z",
     "start_time": "2019-06-27T13:07:14.764976Z"
    }
   },
   "outputs": [
    {
     "data": {
      "text/plain": [
       "GridSearchCV(cv=10, error_score='raise-deprecating',\n",
       "             estimator=KNeighborsClassifier(algorithm='auto', leaf_size=30,\n",
       "                                            metric='minkowski',\n",
       "                                            metric_params=None, n_jobs=None,\n",
       "                                            n_neighbors=30, p=2,\n",
       "                                            weights='uniform'),\n",
       "             iid='warn', n_jobs=None,\n",
       "             param_grid={'n_neighbors': array([ 1,  2,  3,  4,  5,  6,  7,  8,  9, 10, 11, 12, 13, 14, 15, 16, 17,\n",
       "       18, 19, 20, 21, 22, 23, 24, 25, 26, 27, 28, 29, 30]),\n",
       "                         'weights': ['uniform', 'distance']},\n",
       "             pre_dispatch='2*n_jobs', refit=True, return_train_score=False,\n",
       "             scoring='accuracy', verbose=0)"
      ]
     },
     "execution_count": 30,
     "metadata": {},
     "output_type": "execute_result"
    }
   ],
   "source": [
    "# run GridSearcCV\n",
    "gridSearch = GridSearchCV(knn, paramGrid, cv=10, scoring=\"accuracy\")\n",
    "gridSearch.fit(X, y)"
   ]
  },
  {
   "cell_type": "code",
   "execution_count": 31,
   "metadata": {
    "ExecuteTime": {
     "end_time": "2019-06-27T13:07:15.897103Z",
     "start_time": "2019-06-27T13:07:15.889302Z"
    }
   },
   "outputs": [
    {
     "name": "stdout",
     "output_type": "stream",
     "text": [
      "Best score: 0.98\n",
      "Best parameters: {'n_neighbors': 13, 'weights': 'uniform'}\n",
      "Best estimator: KNeighborsClassifier(algorithm='auto', leaf_size=30, metric='minkowski',\n",
      "                     metric_params=None, n_jobs=None, n_neighbors=13, p=2,\n",
      "                     weights='uniform')\n"
     ]
    }
   ],
   "source": [
    "# evaluate GridSearchCV\n",
    "print(\"Best score: {0}\".format(gridSearch.best_score_))\n",
    "print(\"Best parameters: {0}\".format(gridSearch.best_params_))\n",
    "print(\"Best estimator: {0}\".format(gridSearch.best_estimator_))"
   ]
  },
  {
   "cell_type": "markdown",
   "metadata": {},
   "source": [
    "# Pipelines\n",
    "\n",
    "Pipelines are an efficient way to perform several different manipulations of the data in one step. If the goal is to scale the data, perform feature selection, and then finally train a model, a pipeline can combine these steps into one fit or fit/transform step rather than executing each step separately. Only one training algorithm can be used in the pipeline."
   ]
  },
  {
   "cell_type": "markdown",
   "metadata": {},
   "source": [
    "<a id = 'Pipelines'></a>\n"
   ]
  },
  {
   "cell_type": "markdown",
   "metadata": {},
   "source": [
    "## Example 1 - pipeline model\n",
    "\n",
    "Using Pima indians diabetes dataset:\n",
    "- Build pipeline that performs standard scaling on data and then trains a linear discrimant analysis model.\n",
    "- Pass the pipeline into cross_val_score to perform cross-validation."
   ]
  },
  {
   "cell_type": "markdown",
   "metadata": {},
   "source": [
    "<a id = 'Pipelines-Example1'></a>"
   ]
  },
  {
   "cell_type": "code",
   "execution_count": 32,
   "metadata": {
    "ExecuteTime": {
     "end_time": "2019-06-27T13:07:15.942424Z",
     "start_time": "2019-06-27T13:07:15.902457Z"
    }
   },
   "outputs": [
    {
     "name": "stdout",
     "output_type": "stream",
     "text": [
      "X dimensions: (767, 8)\n",
      "y dimensions: (767,)\n"
     ]
    }
   ],
   "source": [
    "# load data\n",
    "names = [\"preg\", \"plas\", \"pres\", \"skin\", \"test\", \"mass\", \"pedi\", \"age\", \"class\"]\n",
    "df = pd.read_csv(\"s3://tdp-ml-datasets/misc/diabetes.csv\", header=1, names=names)\n",
    "array = df.values\n",
    "X = array[:, 0:8]\n",
    "y = array[:, 8]\n",
    "\n",
    "print(\"X dimensions: {0}\".format(X.shape))\n",
    "print(\"y dimensions: {0}\".format(y.shape))"
   ]
  },
  {
   "cell_type": "code",
   "execution_count": 33,
   "metadata": {
    "ExecuteTime": {
     "end_time": "2019-06-27T13:07:15.958866Z",
     "start_time": "2019-06-27T13:07:15.949280Z"
    }
   },
   "outputs": [
    {
     "data": {
      "text/plain": [
       "array([[  1.   ,  85.   ,  66.   ,  29.   ,   0.   ,  26.6  ,   0.351,\n",
       "         31.   ],\n",
       "       [  8.   , 183.   ,  64.   ,   0.   ,   0.   ,  23.3  ,   0.672,\n",
       "         32.   ],\n",
       "       [  1.   ,  89.   ,  66.   ,  23.   ,  94.   ,  28.1  ,   0.167,\n",
       "         21.   ],\n",
       "       [  0.   , 137.   ,  40.   ,  35.   , 168.   ,  43.1  ,   2.288,\n",
       "         33.   ],\n",
       "       [  5.   , 116.   ,  74.   ,   0.   ,   0.   ,  25.6  ,   0.201,\n",
       "         30.   ]])"
      ]
     },
     "execution_count": 33,
     "metadata": {},
     "output_type": "execute_result"
    }
   ],
   "source": [
    "# inspect observations\n",
    "\n",
    "X[:5]"
   ]
  },
  {
   "cell_type": "code",
   "execution_count": 34,
   "metadata": {
    "ExecuteTime": {
     "end_time": "2019-06-27T13:07:15.972315Z",
     "start_time": "2019-06-27T13:07:15.961220Z"
    }
   },
   "outputs": [
    {
     "data": {
      "text/plain": [
       "array([0., 1., 0., 1., 0.])"
      ]
     },
     "execution_count": 34,
     "metadata": {},
     "output_type": "execute_result"
    }
   ],
   "source": [
    "# inspect labels\n",
    "y[:5]"
   ]
  },
  {
   "cell_type": "code",
   "execution_count": 35,
   "metadata": {
    "ExecuteTime": {
     "end_time": "2019-06-27T13:07:15.997163Z",
     "start_time": "2019-06-27T13:07:15.979620Z"
    }
   },
   "outputs": [
    {
     "data": {
      "text/plain": [
       "Pipeline(memory=None,\n",
       "         steps=[('stdScaler',\n",
       "                 StandardScaler(copy=True, with_mean=True, with_std=True)),\n",
       "                ('lda',\n",
       "                 LinearDiscriminantAnalysis(n_components=None, priors=None,\n",
       "                                            shrinkage=None, solver='svd',\n",
       "                                            store_covariance=False,\n",
       "                                            tol=0.0001))],\n",
       "         verbose=False)"
      ]
     },
     "execution_count": 35,
     "metadata": {},
     "output_type": "execute_result"
    }
   ],
   "source": [
    "# pipeline - use StandardScaler() to standardize data, use LDA to build model\n",
    "pipeline = Pipeline(\n",
    "    [(\"stdScaler\", StandardScaler()), (\"lda\", LinearDiscriminantAnalysis())]\n",
    ")\n",
    "pipeline"
   ]
  },
  {
   "cell_type": "code",
   "execution_count": 36,
   "metadata": {
    "ExecuteTime": {
     "end_time": "2019-06-27T13:07:16.065715Z",
     "start_time": "2019-06-27T13:07:16.003453Z"
    }
   },
   "outputs": [
    {
     "name": "stdout",
     "output_type": "stream",
     "text": [
      "Mean of cross validation scores: 0.776\n",
      "Spread of cross validation scores: 0.034\n"
     ]
    }
   ],
   "source": [
    "# cross-validation using pipeline\n",
    "scores = cross_val_score(pipeline, X, y, cv=10)\n",
    "print(\"Mean of cross validation scores: {0}\".format(round(scores.mean(), 3)))\n",
    "print(\"Spread of cross validation scores: {0}\".format(round(scores.std(), 3)))"
   ]
  },
  {
   "cell_type": "markdown",
   "metadata": {},
   "source": [
    "# Parameter tuning w/ pipelines\n",
    "\n",
    "Pipelines can be fed into GridSearCV along with a parameter grid, providing a tidy workflow that transforms data, evaluates several different parameters and values, and repeatedly trains a model to test stability."
   ]
  },
  {
   "cell_type": "markdown",
   "metadata": {},
   "source": [
    "<a id = 'Parameter-tuning-w/-pipelines'></a>"
   ]
  },
  {
   "cell_type": "markdown",
   "metadata": {},
   "source": [
    "## Example 1 - pipeline model w/ parameter tuning, KNearestNeighbors\n",
    "\n",
    "Using Pima indians diabetes dataset:\n",
    "- Build pipeline that performs stand scaling on data and then trains a KNN model\n",
    "- Build a parameter grid containing trial values for K and weighting methods\n",
    "- Split data into train/test sets\n",
    "- Pass the pipeline and the parameter grid into GridSearcCV to perform cross-validation and grid search simultaneously on training data\n",
    "- Review best score, best parameters and best model\n",
    "- Evaluate best model on test data "
   ]
  },
  {
   "cell_type": "markdown",
   "metadata": {},
   "source": [
    "<a id = 'Parameter-tuning-w/-pipelines-Example1'></a>\n"
   ]
  },
  {
   "cell_type": "code",
   "execution_count": 37,
   "metadata": {
    "ExecuteTime": {
     "end_time": "2019-06-27T13:07:16.093507Z",
     "start_time": "2019-06-27T13:07:16.073019Z"
    }
   },
   "outputs": [],
   "source": [
    "# load data\n",
    "names = [\"preg\", \"plas\", \"pres\", \"skin\", \"test\", \"mass\", \"pedi\", \"age\", \"class\"]\n",
    "df = pd.read_csv(\"s3://tdp-ml-datasets/misc/diabetes.csv\", header=1, names=names)\n",
    "array = df.values\n",
    "X = array[:, 0:8]\n",
    "y = array[:, 8]"
   ]
  },
  {
   "cell_type": "code",
   "execution_count": 38,
   "metadata": {
    "ExecuteTime": {
     "end_time": "2019-06-27T13:07:16.119013Z",
     "start_time": "2019-06-27T13:07:16.103362Z"
    }
   },
   "outputs": [
    {
     "data": {
      "text/plain": [
       "Pipeline(memory=None,\n",
       "         steps=[('stdScaler',\n",
       "                 StandardScaler(copy=True, with_mean=True, with_std=True)),\n",
       "                ('knn',\n",
       "                 KNeighborsClassifier(algorithm='auto', leaf_size=30,\n",
       "                                      metric='minkowski', metric_params=None,\n",
       "                                      n_jobs=None, n_neighbors=5, p=2,\n",
       "                                      weights='uniform'))],\n",
       "         verbose=False)"
      ]
     },
     "execution_count": 38,
     "metadata": {},
     "output_type": "execute_result"
    }
   ],
   "source": [
    "# pipeline - use StandardScaler() to standardize data, use KNN to build model\n",
    "pipeline = Pipeline([(\"stdScaler\", StandardScaler()), (\"knn\", KNeighborsClassifier())])\n",
    "pipeline"
   ]
  },
  {
   "cell_type": "code",
   "execution_count": 39,
   "metadata": {
    "ExecuteTime": {
     "end_time": "2019-06-27T13:07:16.142383Z",
     "start_time": "2019-06-27T13:07:16.125679Z"
    }
   },
   "outputs": [
    {
     "data": {
      "text/plain": [
       "[{'knn__n_neighbors': [1, 2, 3, 4, 5, 6, 7, 8, 9, 10, 11, 12, 13, 14, 15],\n",
       "  'knn__weights': ['uniform', 'distance']}]"
      ]
     },
     "execution_count": 39,
     "metadata": {},
     "output_type": "execute_result"
    }
   ],
   "source": [
    "# build parameter grid\n",
    "paramGrid = [\n",
    "    {\"knn__n_neighbors\": list(range(1, 16)), \"knn__weights\": [\"uniform\", \"distance\"]}\n",
    "]\n",
    "paramGrid"
   ]
  },
  {
   "cell_type": "code",
   "execution_count": 40,
   "metadata": {
    "ExecuteTime": {
     "end_time": "2019-06-27T13:07:16.157434Z",
     "start_time": "2019-06-27T13:07:16.148321Z"
    }
   },
   "outputs": [],
   "source": [
    "# train/test split\n",
    "X_train, X_test, y_train, y_test = train_test_split(X, y, random_state=4)"
   ]
  },
  {
   "cell_type": "code",
   "execution_count": 41,
   "metadata": {
    "ExecuteTime": {
     "end_time": "2019-06-27T13:07:17.062875Z",
     "start_time": "2019-06-27T13:07:16.161581Z"
    }
   },
   "outputs": [
    {
     "data": {
      "text/plain": [
       "GridSearchCV(cv=5, error_score='raise-deprecating',\n",
       "             estimator=Pipeline(memory=None,\n",
       "                                steps=[('stdScaler',\n",
       "                                        StandardScaler(copy=True,\n",
       "                                                       with_mean=True,\n",
       "                                                       with_std=True)),\n",
       "                                       ('knn',\n",
       "                                        KNeighborsClassifier(algorithm='auto',\n",
       "                                                             leaf_size=30,\n",
       "                                                             metric='minkowski',\n",
       "                                                             metric_params=None,\n",
       "                                                             n_jobs=None,\n",
       "                                                             n_neighbors=5, p=2,\n",
       "                                                             weights='uniform'))],\n",
       "                                verbose=False),\n",
       "             iid='warn', n_jobs=None,\n",
       "             param_grid=[{'knn__n_neighbors': [1, 2, 3, 4, 5, 6, 7, 8, 9, 10,\n",
       "                                               11, 12, 13, 14, 15],\n",
       "                          'knn__weights': ['uniform', 'distance']}],\n",
       "             pre_dispatch='2*n_jobs', refit=True, return_train_score=False,\n",
       "             scoring=None, verbose=0)"
      ]
     },
     "execution_count": 41,
     "metadata": {},
     "output_type": "execute_result"
    }
   ],
   "source": [
    "# run GridSearchCV with pipeline\n",
    "gridSearch = GridSearchCV(pipeline, paramGrid, cv=5, refit=True)\n",
    "gridSearch.fit(X_train, y_train)"
   ]
  },
  {
   "cell_type": "code",
   "execution_count": 42,
   "metadata": {
    "ExecuteTime": {
     "end_time": "2019-06-27T13:07:17.079078Z",
     "start_time": "2019-06-27T13:07:17.069800Z"
    }
   },
   "outputs": [
    {
     "name": "stdout",
     "output_type": "stream",
     "text": [
      "Best score: 0.7582608695652174\n",
      "Best parameter: {'knn__n_neighbors': 11, 'knn__weights': 'uniform'}\n",
      "Best estimator: Pipeline(memory=None,\n",
      "         steps=[('stdScaler',\n",
      "                 StandardScaler(copy=True, with_mean=True, with_std=True)),\n",
      "                ('knn',\n",
      "                 KNeighborsClassifier(algorithm='auto', leaf_size=30,\n",
      "                                      metric='minkowski', metric_params=None,\n",
      "                                      n_jobs=None, n_neighbors=11, p=2,\n",
      "                                      weights='uniform'))],\n",
      "         verbose=False)\n"
     ]
    }
   ],
   "source": [
    "# evaluate GridSearchCV\n",
    "print(\"Best score: {0}\".format(gridSearch.best_score_))\n",
    "print(\"Best parameter: {0}\".format(gridSearch.best_params_))\n",
    "print(\"Best estimator: {0}\".format(gridSearch.best_estimator_))"
   ]
  },
  {
   "cell_type": "code",
   "execution_count": 43,
   "metadata": {
    "ExecuteTime": {
     "end_time": "2019-06-27T13:07:17.148030Z",
     "start_time": "2019-06-27T13:07:17.090671Z"
    }
   },
   "outputs": [
    {
     "name": "stdout",
     "output_type": "stream",
     "text": [
      "Train accruacy: 79.304\n",
      "Test accruacy: 71.354\n"
     ]
    }
   ],
   "source": [
    "# test set predictions\n",
    "model = gridSearch.best_estimator_\n",
    "yPredsTrain = model.predict(X_train)\n",
    "yPredsTest = model.predict(X_test)\n",
    "print(\n",
    "    \"Train accruacy: {0}\".format(np.round(accuracy_score(y_train, yPredsTrain) * 100, 3))\n",
    ")\n",
    "print(\"Test accruacy: {0}\".format(np.round(accuracy_score(y_test, yPredsTest) * 100, 3)))"
   ]
  },
  {
   "cell_type": "markdown",
   "metadata": {},
   "source": [
    "## Example 2 - pipeline model w/ parameter tuning, KNearestRegressor\n",
    "\n",
    "Using Boston housing market dataset:\n",
    "- Perform same pipeline/GridSearchCV using KNearestRegressor\n",
    "- Evaluate using mean squared error and root mean squared error"
   ]
  },
  {
   "cell_type": "markdown",
   "metadata": {},
   "source": [
    "<a id = 'Parameter-tuning-w/-pipelines-Example2'></a>"
   ]
  },
  {
   "cell_type": "code",
   "execution_count": 44,
   "metadata": {
    "ExecuteTime": {
     "end_time": "2019-06-27T13:07:17.175835Z",
     "start_time": "2019-06-27T13:07:17.155093Z"
    }
   },
   "outputs": [
    {
     "name": "stdout",
     "output_type": "stream",
     "text": [
      "X dimensions: (506, 13)\n",
      "y dimensions: (506,)\n"
     ]
    }
   ],
   "source": [
    "# load data\n",
    "boston = load_boston()\n",
    "X = boston.data\n",
    "y = boston.target\n",
    "\n",
    "print(\"X dimensions: {0}\".format(X.shape))\n",
    "print(\"y dimensions: {0}\".format(y.shape))"
   ]
  },
  {
   "cell_type": "code",
   "execution_count": 45,
   "metadata": {
    "ExecuteTime": {
     "end_time": "2019-06-27T13:07:17.200110Z",
     "start_time": "2019-06-27T13:07:17.192559Z"
    }
   },
   "outputs": [
    {
     "data": {
      "text/plain": [
       "array([[  0.00632,  18.     ,   2.31   ,   0.     ,   0.538  ,   6.575  ,\n",
       "         65.2    ,   4.09   ,   1.     , 296.     ,  15.3    , 396.9    ,\n",
       "          4.98   ],\n",
       "       [  0.02731,   0.     ,   7.07   ,   0.     ,   0.469  ,   6.421  ,\n",
       "         78.9    ,   4.9671 ,   2.     , 242.     ,  17.8    , 396.9    ,\n",
       "          9.14   ],\n",
       "       [  0.02729,   0.     ,   7.07   ,   0.     ,   0.469  ,   7.185  ,\n",
       "         61.1    ,   4.9671 ,   2.     , 242.     ,  17.8    , 392.83   ,\n",
       "          4.03   ],\n",
       "       [  0.03237,   0.     ,   2.18   ,   0.     ,   0.458  ,   6.998  ,\n",
       "         45.8    ,   6.0622 ,   3.     , 222.     ,  18.7    , 394.63   ,\n",
       "          2.94   ],\n",
       "       [  0.06905,   0.     ,   2.18   ,   0.     ,   0.458  ,   7.147  ,\n",
       "         54.2    ,   6.0622 ,   3.     , 222.     ,  18.7    , 396.9    ,\n",
       "          5.33   ]])"
      ]
     },
     "execution_count": 45,
     "metadata": {},
     "output_type": "execute_result"
    }
   ],
   "source": [
    "# inspect observations\n",
    "X[:5]"
   ]
  },
  {
   "cell_type": "code",
   "execution_count": 46,
   "metadata": {
    "ExecuteTime": {
     "end_time": "2019-06-27T13:07:17.212311Z",
     "start_time": "2019-06-27T13:07:17.206178Z"
    }
   },
   "outputs": [
    {
     "data": {
      "text/plain": [
       "array([24. , 21.6, 34.7, 33.4, 36.2])"
      ]
     },
     "execution_count": 46,
     "metadata": {},
     "output_type": "execute_result"
    }
   ],
   "source": [
    "# inspect label\n",
    "y[:5]"
   ]
  },
  {
   "cell_type": "code",
   "execution_count": 47,
   "metadata": {
    "ExecuteTime": {
     "end_time": "2019-06-27T13:07:17.236274Z",
     "start_time": "2019-06-27T13:07:17.219675Z"
    }
   },
   "outputs": [
    {
     "data": {
      "text/plain": [
       "Pipeline(memory=None,\n",
       "         steps=[('standardize',\n",
       "                 StandardScaler(copy=True, with_mean=True, with_std=True)),\n",
       "                ('knn',\n",
       "                 KNeighborsRegressor(algorithm='auto', leaf_size=30,\n",
       "                                     metric='minkowski', metric_params=None,\n",
       "                                     n_jobs=None, n_neighbors=5, p=2,\n",
       "                                     weights='uniform'))],\n",
       "         verbose=False)"
      ]
     },
     "execution_count": 47,
     "metadata": {},
     "output_type": "execute_result"
    }
   ],
   "source": [
    "# pipeline - use StandardScaler() to standardize data, use KNN to build model\n",
    "pipeline = Pipeline([(\"standardize\", StandardScaler()), (\"knn\", KNeighborsRegressor())])\n",
    "pipeline"
   ]
  },
  {
   "cell_type": "code",
   "execution_count": 48,
   "metadata": {
    "ExecuteTime": {
     "end_time": "2019-06-27T13:07:17.251434Z",
     "start_time": "2019-06-27T13:07:17.240676Z"
    }
   },
   "outputs": [
    {
     "data": {
      "text/plain": [
       "[{'knn__n_neighbors': [1, 2, 3, 4, 5, 6, 7, 8, 9, 10, 11, 12, 13, 14, 15],\n",
       "  'knn__weights': ['uniform', 'distance'],\n",
       "  'knn__p': [1, 2]}]"
      ]
     },
     "execution_count": 48,
     "metadata": {},
     "output_type": "execute_result"
    }
   ],
   "source": [
    "# build parameter grid\n",
    "paramGrid = [\n",
    "    {\n",
    "        \"knn__n_neighbors\": list(range(1, 16)),\n",
    "        \"knn__weights\": [\"uniform\", \"distance\"],\n",
    "        \"knn__p\": [1, 2],\n",
    "    }\n",
    "]\n",
    "paramGrid"
   ]
  },
  {
   "cell_type": "code",
   "execution_count": 49,
   "metadata": {
    "ExecuteTime": {
     "end_time": "2019-06-27T13:07:17.267154Z",
     "start_time": "2019-06-27T13:07:17.260762Z"
    }
   },
   "outputs": [],
   "source": [
    "# train/test split\n",
    "X_train, X_test, y_train, y_test = train_test_split(X, y, random_state=4)"
   ]
  },
  {
   "cell_type": "code",
   "execution_count": 50,
   "metadata": {
    "ExecuteTime": {
     "end_time": "2019-06-27T13:07:19.040247Z",
     "start_time": "2019-06-27T13:07:17.272128Z"
    }
   },
   "outputs": [
    {
     "name": "stderr",
     "output_type": "stream",
     "text": [
      "/usr/local/lib/python3.6/site-packages/sklearn/model_selection/_search.py:813: DeprecationWarning: The default of the `iid` parameter will change from True to False in version 0.22 and will be removed in 0.24. This will change numeric results when test-set sizes are unequal.\n",
      "  DeprecationWarning)\n"
     ]
    },
    {
     "data": {
      "text/plain": [
       "GridSearchCV(cv=10, error_score='raise-deprecating',\n",
       "             estimator=Pipeline(memory=None,\n",
       "                                steps=[('standardize',\n",
       "                                        StandardScaler(copy=True,\n",
       "                                                       with_mean=True,\n",
       "                                                       with_std=True)),\n",
       "                                       ('knn',\n",
       "                                        KNeighborsRegressor(algorithm='auto',\n",
       "                                                            leaf_size=30,\n",
       "                                                            metric='minkowski',\n",
       "                                                            metric_params=None,\n",
       "                                                            n_jobs=None,\n",
       "                                                            n_neighbors=5, p=2,\n",
       "                                                            weights='uniform'))],\n",
       "                                verbose=False),\n",
       "             iid='warn', n_jobs=None,\n",
       "             param_grid=[{'knn__n_neighbors': [1, 2, 3, 4, 5, 6, 7, 8, 9, 10,\n",
       "                                               11, 12, 13, 14, 15],\n",
       "                          'knn__p': [1, 2],\n",
       "                          'knn__weights': ['uniform', 'distance']}],\n",
       "             pre_dispatch='2*n_jobs', refit=True, return_train_score=False,\n",
       "             scoring='neg_mean_squared_error', verbose=0)"
      ]
     },
     "execution_count": 50,
     "metadata": {},
     "output_type": "execute_result"
    }
   ],
   "source": [
    "# run GridSearchCV with pipeline\n",
    "gridSearch = GridSearchCV(\n",
    "    estimator=pipeline,\n",
    "    param_grid=paramGrid,\n",
    "    cv=10,\n",
    "    refit=True,\n",
    "    scoring=\"neg_mean_squared_error\",\n",
    "    verbose=0,\n",
    ")\n",
    "gridSearch.fit(X_train, y_train)"
   ]
  },
  {
   "cell_type": "code",
   "execution_count": 51,
   "metadata": {
    "ExecuteTime": {
     "end_time": "2019-06-27T13:07:19.056360Z",
     "start_time": "2019-06-27T13:07:19.045426Z"
    }
   },
   "outputs": [
    {
     "name": "stdout",
     "output_type": "stream",
     "text": [
      "Best score: -19.69838505402042\n",
      "Best parameter: {'knn__n_neighbors': 2, 'knn__p': 1, 'knn__weights': 'distance'}\n",
      "Best estimator: Pipeline(memory=None,\n",
      "         steps=[('standardize',\n",
      "                 StandardScaler(copy=True, with_mean=True, with_std=True)),\n",
      "                ('knn',\n",
      "                 KNeighborsRegressor(algorithm='auto', leaf_size=30,\n",
      "                                     metric='minkowski', metric_params=None,\n",
      "                                     n_jobs=None, n_neighbors=2, p=1,\n",
      "                                     weights='distance'))],\n",
      "         verbose=False)\n"
     ]
    }
   ],
   "source": [
    "# evaluate GridSearchCV\n",
    "print(\"Best score: {0}\".format(gridSearch.best_score_))\n",
    "print(\"Best parameter: {0}\".format(gridSearch.best_params_))\n",
    "print(\"Best estimator: {0}\".format(gridSearch.best_estimator_))"
   ]
  },
  {
   "cell_type": "code",
   "execution_count": 52,
   "metadata": {
    "ExecuteTime": {
     "end_time": "2019-06-27T13:07:19.126515Z",
     "start_time": "2019-06-27T13:07:19.062206Z"
    }
   },
   "outputs": [
    {
     "name": "stdout",
     "output_type": "stream",
     "text": [
      "Mean square error:\n",
      "\n",
      "All scores: [-25.78410493 -38.00885503 -13.36575032 -13.14369893  -7.31679132\n",
      " -13.37252159 -13.99092964 -11.94894145 -50.0448142   -9.74552578]\n",
      "\n",
      "Mean of cross validation scores: -19.672\n",
      "Spread of cross validation scores: 13.271\n"
     ]
    }
   ],
   "source": [
    "# get best MSEs for each of the ten CV fits\n",
    "scores = cross_val_score(\n",
    "    gridSearch.best_estimator_, X_train, y_train, scoring=\"neg_mean_squared_error\", cv=10\n",
    ")\n",
    "print(\"Mean square error:\\n\")\n",
    "print(\"All scores: {0}\\n\".format(scores))\n",
    "print(\"Mean of cross validation scores: {0}\".format(round(scores.mean(), 3)))\n",
    "print(\"Spread of cross validation scores: {0}\".format(round(scores.std(), 3)))"
   ]
  },
  {
   "cell_type": "code",
   "execution_count": 53,
   "metadata": {
    "ExecuteTime": {
     "end_time": "2019-06-27T13:07:19.145330Z",
     "start_time": "2019-06-27T13:07:19.132726Z"
    }
   },
   "outputs": [
    {
     "name": "stdout",
     "output_type": "stream",
     "text": [
      "Root mean square error:\n",
      "\n",
      "All scores: [5.07780513 6.1651322  3.6559199  3.62542397 2.70495681 3.65684585\n",
      " 3.74044511 3.45672409 7.07423594 3.12178247]\n",
      "\n",
      "Mean of cross validation scores: 4.228\n",
      "Spread of cross validation scores: 1.34\n"
     ]
    }
   ],
   "source": [
    "# convert best model's CV scores and report RMSE\n",
    "rmseScores = np.sqrt(-scores)\n",
    "print(\"Root mean square error:\\n\")\n",
    "print(\"All scores: {0}\\n\".format(rmseScores))\n",
    "print(\"Mean of cross validation scores: {0}\".format(round(rmseScores.mean(), 3)))\n",
    "print(\"Spread of cross validation scores: {0}\".format(round(rmseScores.std(), 3)))"
   ]
  },
  {
   "cell_type": "code",
   "execution_count": 54,
   "metadata": {
    "ExecuteTime": {
     "end_time": "2019-06-27T13:07:19.173163Z",
     "start_time": "2019-06-27T13:07:19.155305Z"
    }
   },
   "outputs": [
    {
     "name": "stdout",
     "output_type": "stream",
     "text": [
      "Test accuracy (MSE): 13.428\n",
      "Test accuracy (RMSE): 3.664\n"
     ]
    }
   ],
   "source": [
    "# test set predictions\n",
    "model = gridSearch.best_estimator_\n",
    "yPredsTest = model.predict(X_test)\n",
    "print(\n",
    "    \"Test accuracy (MSE): {0}\".format(\n",
    "        np.round(mean_squared_error(y_test, yPredsTest), 3)\n",
    "    )\n",
    ")\n",
    "print(\n",
    "    \"Test accuracy (RMSE): {0}\".format(\n",
    "        np.round(np.sqrt(mean_squared_error(y_test, yPredsTest)), 3)\n",
    "    )\n",
    ")"
   ]
  }
 ],
 "metadata": {
  "kernelspec": {
   "display_name": "Python 3",
   "language": "python",
   "name": "python3"
  },
  "language_info": {
   "codemirror_mode": {
    "name": "ipython",
    "version": 3
   },
   "file_extension": ".py",
   "mimetype": "text/x-python",
   "name": "python",
   "nbconvert_exporter": "python",
   "pygments_lexer": "ipython3",
   "version": "3.7.3"
  },
  "toc": {
   "base_numbering": 1,
   "nav_menu": {},
   "number_sections": true,
   "sideBar": true,
   "skip_h1_title": false,
   "title_cell": "Table of Contents",
   "title_sidebar": "Contents",
   "toc_cell": false,
   "toc_position": {
    "height": "calc(100% - 180px)",
    "left": "10px",
    "top": "150px",
    "width": "248px"
   },
   "toc_section_display": true,
   "toc_window_display": false
  }
 },
 "nbformat": 4,
 "nbformat_minor": 2
}
