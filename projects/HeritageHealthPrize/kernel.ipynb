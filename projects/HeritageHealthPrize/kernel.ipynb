{
 "cells": [
  {
   "cell_type": "markdown",
   "metadata": {},
   "source": [
    "# Heritage Health Prize, alternate take\n",
    "The full dataset is comprised of 5 tables as follows:\n",
    "\n",
    "\n",
    "1. Members Table, which will include:\n",
    "    1. MemberID (a unique member ID)\n",
    "    2. AgeAtFirstClaim (member's age when first claim was made in the Data Set period)\n",
    "    3. Sex\n",
    "\n",
    "\n",
    "2. Claims Table, which will include:\n",
    "    1. MemberID\n",
    "    2. ProviderID (the ID of the doctor or specialist providing the service)\n",
    "    3. Vendor (the company that issues the bill)\n",
    "    4. PCP (member's primary care physician)\n",
    "    5. Year (the year of the claim, Y1, Y2, Y3)\n",
    "    6. Specialty\n",
    "    7. PlaceSvc (place where the member was treated)\n",
    "    8. PayDelay (the delay between the claim and the day the claim was paid for)\n",
    "    9. LengthOfStay\n",
    "    10. DSFS (days since first service that year)\n",
    "    11. PrimaryConditionGroup (a generalization of the primary diagnosis codes)\n",
    "    12. CharlsonIndex (a generalization of the diagnosis codes in the form of a categorized comorbidity score)\n",
    "    13. ProcedureGroup (a generalization of the CPT code or treatment code)\n",
    "    14. SupLOS (a flag that indicates if LengthOfStay is null because it has been suppressed)\n",
    "\n",
    "\n",
    "3. Labs Table, which will contain certain details of lab tests provided to members.\n",
    "\n",
    "\n",
    "4. RX Table, which will contain certain details of prescriptions filled by members.\n",
    "\n",
    "\n",
    "5. DaysInHospital Tables - Y2, Y3 and Y4, which will contain the number of days of hospitalization for each eligible member during Y2 and Y3 and will include:\n",
    "    1. MemberID;\n",
    "    2. ClaimsTruncated (a flag for members who had claims suppressed in the previous year. If the flag is 1 for member xxx in DaysInHospital_Y2, some claims for member xxx will have been suppressed in Y1).\n",
    "    3. DaysInHospital (the number of days in hospital Y2 or Y3, as applicable).\n",
    "    \n",
    "**Note:** Because this was a Kaggle competition, I do not have \"DaysInHospital\" data for Y4.  This was the target to be predicted for the Kaggle competition.  Instead, I modified the goal so that claims from Y1 and Year 2 will be used to predict days in hospital for Y3.\n",
    "\n",
    "__Performance measure__\n",
    "\n",
    "Model performance is reported in terms of the `HHPError` which is defined below.\n",
    "\n",
    "The [HHP prediction accuracy measure](https://www.heritagehealthprize.com/c/hhp/details/evaluation) is the log root-mean-squared-error (log RMSE) loss function, known as the **HHPError**\n",
    "\n",
    "\\begin{equation}\n",
    "HHPError = \\sqrt{\\frac{1}{n}\\displaystyle\\sum_{i=1}^{n}{[log(p_i + 1) - log(a_i + 1)]\\,^2}}\n",
    "\\end{equation}\n",
    "\n",
    "where \n",
    "1.  $i$ is a member;  \n",
    "2.  $n$ is the total number of members;  \n",
    "3.  $p_i$ is the predicted number of days spent in the hospital for member $i$ in the test period;  \n",
    "4.  $a_i$ is the actual number of days spent in the hospital for member $i$ in the test period. \n"
   ]
  },
  {
   "cell_type": "markdown",
   "metadata": {},
   "source": [
    "# Import modules"
   ]
  },
  {
   "cell_type": "code",
   "execution_count": 2,
   "metadata": {
    "ExecuteTime": {
     "end_time": "2018-10-25T16:07:58.368800Z",
     "start_time": "2018-10-25T16:07:48.706379Z"
    }
   },
   "outputs": [
    {
     "data": {
      "text/html": [
       "<style>.container { width:78% !important; }</style>"
      ],
      "text/plain": [
       "<IPython.core.display.HTML object>"
      ]
     },
     "metadata": {},
     "output_type": "display_data"
    }
   ],
   "source": [
    "import matplotlib.pyplot as plt\n",
    "import numpy as np\n",
    "import os\n",
    "import pandas as pd\n",
    "pd.set_option('display.max_rows', 500)\n",
    "pd.options.display.float_format = '{:,.6f}'.format\n",
    "import sys\n",
    "import seaborn as sns\n",
    "import warnings\n",
    "warnings.simplefilter('ignore')\n",
    "\n",
    "from xgboost import XGBRegressor\n",
    "from tempfile import mkdtemp\n",
    "from shutil import rmtree\n",
    "\n",
    "from collections import Counter\n",
    "from scipy import sparse, stats\n",
    "from sklearn import preprocessing as prep\n",
    "from sklearn.base import BaseEstimator, TransformerMixin\n",
    "from sklearn.ensemble import RandomForestRegressor, AdaBoostRegressor, GradientBoostingRegressor\n",
    "from sklearn.linear_model import Lasso, LinearRegression, LogisticRegression, Ridge, SGDRegressor\n",
    "from sklearn.metrics import accuracy_score, mean_squared_error, make_scorer\n",
    "from sklearn.model_selection import train_test_split, GridSearchCV, cross_val_score, ShuffleSplit, StratifiedKFold, RandomizedSearchCV\n",
    "from sklearn.pipeline import FeatureUnion, Pipeline\n",
    "from sklearn.preprocessing import Imputer, LabelEncoder, StandardScaler, OneHotEncoder\n",
    "from sklearn.svm import SVC, SVR\n",
    "from sklearn.utils import check_array\n",
    "from sklearn_pandas import CategoricalImputer\n",
    "from sklearn.feature_selection import SelectKBest, f_regression\n",
    "from sklearn.dummy import DummyRegressor\n",
    "\n",
    "from time import time\n",
    "\n",
    "%matplotlib inline\n",
    "\n",
    "np.set_printoptions(threshold = np.inf, suppress = True)\n",
    "from IPython.core.display import display, HTML; display(HTML(\"<style>.container { width:78% !important; }</style>\"))"
   ]
  },
  {
   "cell_type": "markdown",
   "metadata": {},
   "source": [
    "# Import raw data"
   ]
  },
  {
   "cell_type": "code",
   "execution_count": 79,
   "metadata": {
    "ExecuteTime": {
     "end_time": "2018-10-25T20:13:10.788054Z",
     "start_time": "2018-10-25T20:13:06.026259Z"
    }
   },
   "outputs": [],
   "source": [
    "# Load raw data\n",
    "\n",
    "dataDir = os.path.join('s3://tdp-ml-datasets/misc/HeritageHealthPrize')\n",
    "\n",
    "def loadData(inPath, name, showDetail = False):\n",
    "    df = pd.read_csv(inPath)\n",
    "    if showDetail:\n",
    "        print(df.info())\n",
    "        display(df.head(2))\n",
    "        print()\n",
    "    return df\n",
    "\n",
    "dfTargetY2 = loadData(os.path.join(dataDir, 'DaysInHospital_Y2.csv'), 'target_Y2')\n",
    "dfTargetY3 = loadData(os.path.join(dataDir, 'DaysInHospital_Y3.csv'), 'target_Y3')\n",
    "dfClaims = loadData(os.path.join(dataDir, 'Claims.csv'), 'claims')\n",
    "dfDrugCount = loadData(os.path.join(dataDir, 'DrugCount.csv'), 'drug_count')\n",
    "dfLabCount = loadData(os.path.join(dataDir, 'LabCount.csv'), 'lab_count')\n",
    "dfMembers = loadData(os.path.join(dataDir, 'Members.csv'), 'members')\n"
   ]
  },
  {
   "cell_type": "markdown",
   "metadata": {},
   "source": [
    "# Preliminary EDA"
   ]
  },
  {
   "cell_type": "code",
   "execution_count": 13,
   "metadata": {
    "ExecuteTime": {
     "end_time": "2018-10-25T16:15:59.453865Z",
     "start_time": "2018-10-25T16:15:58.795662Z"
    }
   },
   "outputs": [
    {
     "data": {
      "image/png": "[encoded data removed]",
      "text/plain": [
       "<Figure size 1440x432 with 1 Axes>"
      ]
     },
     "metadata": {
      "needs_background": "light"
     },
     "output_type": "display_data"
    },
    {
     "data": {
      "image/png": "[encoded data removed]",
      "text/plain": [
       "<Figure size 1440x432 with 1 Axes>"
      ]
     },
     "metadata": {
      "needs_background": "light"
     },
     "output_type": "display_data"
    }
   ],
   "source": [
    "# Visualize Days In Hopsital following year 1\n",
    "\n",
    "days = dfTargetY2['DaysInHospital'].unique()\n",
    "days.sort()\n",
    "inds = dfTargetY2['DaysInHospital'].value_counts(dropna = False).sort_index()\n",
    "\n",
    "plt.figure(figsize=(20,6))\n",
    "plt.barh(days,inds)\n",
    "plt.grid(b = None, which = 'major', axis = 'x')\n",
    "\n",
    "plt.yticks(range(0,16),range(0,16))\n",
    "plt.ylabel('Number of Days in the Hospital')\n",
    "plt.xlabel('Count of Individuals')\n",
    "plt.title('Number of Days in the Hospital (Following Year 1)');\n",
    "\n",
    "# log transform count\n",
    "inds = np.log(inds) + 1\n",
    "\n",
    "plt.figure(figsize=(20,6))\n",
    "plt.barh(days,inds)\n",
    "plt.grid(b = None, which = 'major', axis = 'x')\n",
    "\n",
    "plt.yticks(range(0,16),range(0,16))\n",
    "plt.ylabel('Number of Days in the Hospital')\n",
    "plt.xlabel('Log Count of Individuals')\n",
    "plt.title('Number of Days in the Hospital (Following Year 1)');\n"
   ]
  },
  {
   "cell_type": "markdown",
   "metadata": {},
   "source": [
    ">Log +1 transformation of the unique value counts corrects the extreme skew toward individuals who spent zero days in the hospital"
   ]
  },
  {
   "cell_type": "code",
   "execution_count": 15,
   "metadata": {
    "ExecuteTime": {
     "end_time": "2018-10-25T16:18:31.753019Z",
     "start_time": "2018-10-25T16:18:31.431952Z"
    }
   },
   "outputs": [
    {
     "data": {
      "image/png": "[encoded data removed]",
      "text/plain": [
       "<Figure size 1440x432 with 1 Axes>"
      ]
     },
     "metadata": {
      "needs_background": "light"
     },
     "output_type": "display_data"
    }
   ],
   "source": [
    "# Cumulatie bar chart visualizing Days In Hospital\n",
    "\n",
    "days = dfTargetY2['DaysInHospital'].unique()\n",
    "days.sort()\n",
    "inds = dfTargetY2['DaysInHospital'].value_counts(dropna = False).sort_index()\n",
    "\n",
    "plt.figure(figsize = (20,6))\n",
    "\n",
    "plt.hist(x = dfTargetY2['DaysInHospital']\n",
    "         ,bins = np.arange(17) - 0.5\n",
    "         ,density = False\n",
    "         ,histtype = 'bar'\n",
    "         ,align = 'mid'\n",
    "         ,rwidth = 0.9\n",
    "         ,cumulative = True)\n",
    "plt.xticks(range(0,16),range(0,16))\n",
    "plt.show()\n"
   ]
  },
  {
   "cell_type": "markdown",
   "metadata": {},
   "source": [
    ">The vast majority of individuals stayed in hospital 0 days"
   ]
  },
  {
   "cell_type": "code",
   "execution_count": 80,
   "metadata": {
    "ExecuteTime": {
     "end_time": "2018-10-25T20:13:40.342282Z",
     "start_time": "2018-10-25T20:13:39.370992Z"
    }
   },
   "outputs": [],
   "source": [
    "# Add log of target to form the label\n",
    "\n",
    "dfTargetY2['label'] = np.log(dfTargetY2['DaysInHospital'] + 1)\n",
    "dfTargetY3['label'] = np.log(dfTargetY3['DaysInHospital'] + 1)\n",
    "\n",
    "# Add column for year of the associated claims, so that records can be differentiated \n",
    "\n",
    "dfTargetY2['Year'] = 'Y1'\n",
    "dfTargetY3['Year'] = 'Y2'\n",
    "\n",
    "# inner join of df_claims and df_target_Y2\n",
    "\n",
    "merged = pd.merge(left = dfClaims\n",
    "                  ,right = dfTargetY2\n",
    "                  ,left_on = ['MemberID','Year']\n",
    "                  ,right_on = ['MemberID','Year'])\n"
   ]
  },
  {
   "cell_type": "code",
   "execution_count": 20,
   "metadata": {
    "ExecuteTime": {
     "end_time": "2018-10-25T16:22:09.358564Z",
     "start_time": "2018-10-25T16:22:09.354150Z"
    }
   },
   "outputs": [
    {
     "data": {
      "text/plain": [
       "Index(['MemberID', 'ProviderID', 'Vendor', 'PCP', 'Year', 'Specialty',\n",
       "       'PlaceSvc', 'PayDelay', 'LengthOfStay', 'DSFS', 'PrimaryConditionGroup',\n",
       "       'CharlsonIndex', 'ProcedureGroup', 'SupLOS', 'ClaimsTruncated',\n",
       "       'DaysInHospital', 'label'],\n",
       "      dtype='object')"
      ]
     },
     "execution_count": 20,
     "metadata": {},
     "output_type": "execute_result"
    }
   ],
   "source": [
    "merged.columns"
   ]
  },
  {
   "cell_type": "code",
   "execution_count": 22,
   "metadata": {
    "ExecuteTime": {
     "end_time": "2018-10-25T16:22:53.677690Z",
     "start_time": "2018-10-25T16:22:53.618787Z"
    }
   },
   "outputs": [
    {
     "data": {
      "text/html": [
       "<div>\n",
       "<style scoped>\n",
       "    .dataframe tbody tr th:only-of-type {\n",
       "        vertical-align: middle;\n",
       "    }\n",
       "\n",
       "    .dataframe tbody tr th {\n",
       "        vertical-align: top;\n",
       "    }\n",
       "\n",
       "    .dataframe thead th {\n",
       "        text-align: right;\n",
       "    }\n",
       "</style>\n",
       "<table border=\"1\" class=\"dataframe\">\n",
       "  <thead>\n",
       "    <tr style=\"text-align: right;\">\n",
       "      <th></th>\n",
       "      <th>MemberID</th>\n",
       "      <th>ProviderID</th>\n",
       "      <th>Vendor</th>\n",
       "      <th>PCP</th>\n",
       "      <th>Year</th>\n",
       "      <th>Specialty</th>\n",
       "      <th>PlaceSvc</th>\n",
       "      <th>PayDelay</th>\n",
       "      <th>LengthOfStay</th>\n",
       "      <th>DSFS</th>\n",
       "      <th>PrimaryConditionGroup</th>\n",
       "      <th>CharlsonIndex</th>\n",
       "      <th>ProcedureGroup</th>\n",
       "      <th>SupLOS</th>\n",
       "      <th>ClaimsTruncated</th>\n",
       "      <th>DaysInHospital</th>\n",
       "      <th>label</th>\n",
       "    </tr>\n",
       "  </thead>\n",
       "  <tbody>\n",
       "    <tr>\n",
       "      <th>0</th>\n",
       "      <td>42286978</td>\n",
       "      <td>8,013,252.000000</td>\n",
       "      <td>172,193.000000</td>\n",
       "      <td>37,796.000000</td>\n",
       "      <td>Y1</td>\n",
       "      <td>Surgery</td>\n",
       "      <td>Office</td>\n",
       "      <td>28</td>\n",
       "      <td>NaN</td>\n",
       "      <td>8- 9 months</td>\n",
       "      <td>NEUMENT</td>\n",
       "      <td>0</td>\n",
       "      <td>MED</td>\n",
       "      <td>0</td>\n",
       "      <td>0</td>\n",
       "      <td>2</td>\n",
       "      <td>1.098612</td>\n",
       "    </tr>\n",
       "    <tr>\n",
       "      <th>1</th>\n",
       "      <td>42286978</td>\n",
       "      <td>9,416,979.000000</td>\n",
       "      <td>5,166.000000</td>\n",
       "      <td>37,796.000000</td>\n",
       "      <td>Y1</td>\n",
       "      <td>Internal</td>\n",
       "      <td>Office</td>\n",
       "      <td>58</td>\n",
       "      <td>NaN</td>\n",
       "      <td>9-10 months</td>\n",
       "      <td>MISCHRT</td>\n",
       "      <td>0</td>\n",
       "      <td>EM</td>\n",
       "      <td>0</td>\n",
       "      <td>0</td>\n",
       "      <td>2</td>\n",
       "      <td>1.098612</td>\n",
       "    </tr>\n",
       "    <tr>\n",
       "      <th>2</th>\n",
       "      <td>42286978</td>\n",
       "      <td>8,511,459.000000</td>\n",
       "      <td>64,764.000000</td>\n",
       "      <td>37,796.000000</td>\n",
       "      <td>Y1</td>\n",
       "      <td>Internal</td>\n",
       "      <td>Office</td>\n",
       "      <td>92</td>\n",
       "      <td>NaN</td>\n",
       "      <td>0- 1 month</td>\n",
       "      <td>SKNAUT</td>\n",
       "      <td>0</td>\n",
       "      <td>EM</td>\n",
       "      <td>0</td>\n",
       "      <td>0</td>\n",
       "      <td>2</td>\n",
       "      <td>1.098612</td>\n",
       "    </tr>\n",
       "    <tr>\n",
       "      <th>3</th>\n",
       "      <td>42286978</td>\n",
       "      <td>8,013,252.000000</td>\n",
       "      <td>172,193.000000</td>\n",
       "      <td>37,796.000000</td>\n",
       "      <td>Y1</td>\n",
       "      <td>Other</td>\n",
       "      <td>Office</td>\n",
       "      <td>27</td>\n",
       "      <td>NaN</td>\n",
       "      <td>0- 1 month</td>\n",
       "      <td>NEUMENT</td>\n",
       "      <td>0</td>\n",
       "      <td>MED</td>\n",
       "      <td>0</td>\n",
       "      <td>0</td>\n",
       "      <td>2</td>\n",
       "      <td>1.098612</td>\n",
       "    </tr>\n",
       "    <tr>\n",
       "      <th>4</th>\n",
       "      <td>42286978</td>\n",
       "      <td>9,416,979.000000</td>\n",
       "      <td>5,166.000000</td>\n",
       "      <td>37,796.000000</td>\n",
       "      <td>Y1</td>\n",
       "      <td>Internal</td>\n",
       "      <td>Office</td>\n",
       "      <td>114</td>\n",
       "      <td>NaN</td>\n",
       "      <td>6- 7 months</td>\n",
       "      <td>GIBLEED</td>\n",
       "      <td>0</td>\n",
       "      <td>EM</td>\n",
       "      <td>0</td>\n",
       "      <td>0</td>\n",
       "      <td>2</td>\n",
       "      <td>1.098612</td>\n",
       "    </tr>\n",
       "    <tr>\n",
       "      <th>5</th>\n",
       "      <td>42286978</td>\n",
       "      <td>4,062,524.000000</td>\n",
       "      <td>505,451.000000</td>\n",
       "      <td>37,796.000000</td>\n",
       "      <td>Y1</td>\n",
       "      <td>Internal</td>\n",
       "      <td>Outpatient Hospital</td>\n",
       "      <td>34</td>\n",
       "      <td>NaN</td>\n",
       "      <td>1- 2 months</td>\n",
       "      <td>MSC2a3</td>\n",
       "      <td>0</td>\n",
       "      <td>EM</td>\n",
       "      <td>0</td>\n",
       "      <td>0</td>\n",
       "      <td>2</td>\n",
       "      <td>1.098612</td>\n",
       "    </tr>\n",
       "    <tr>\n",
       "      <th>6</th>\n",
       "      <td>42286978</td>\n",
       "      <td>3,022,514.000000</td>\n",
       "      <td>35,565.000000</td>\n",
       "      <td>37,796.000000</td>\n",
       "      <td>Y1</td>\n",
       "      <td>NaN</td>\n",
       "      <td>Office</td>\n",
       "      <td>28</td>\n",
       "      <td>NaN</td>\n",
       "      <td>7- 8 months</td>\n",
       "      <td>ODaBNCA</td>\n",
       "      <td>0</td>\n",
       "      <td>RAD</td>\n",
       "      <td>0</td>\n",
       "      <td>0</td>\n",
       "      <td>2</td>\n",
       "      <td>1.098612</td>\n",
       "    </tr>\n",
       "    <tr>\n",
       "      <th>7</th>\n",
       "      <td>42286978</td>\n",
       "      <td>7,053,364.000000</td>\n",
       "      <td>240,043.000000</td>\n",
       "      <td>37,796.000000</td>\n",
       "      <td>Y1</td>\n",
       "      <td>Laboratory</td>\n",
       "      <td>Independent Lab</td>\n",
       "      <td>32</td>\n",
       "      <td>NaN</td>\n",
       "      <td>9-10 months</td>\n",
       "      <td>METAB3</td>\n",
       "      <td>0</td>\n",
       "      <td>SCS</td>\n",
       "      <td>0</td>\n",
       "      <td>0</td>\n",
       "      <td>2</td>\n",
       "      <td>1.098612</td>\n",
       "    </tr>\n",
       "    <tr>\n",
       "      <th>8</th>\n",
       "      <td>42286978</td>\n",
       "      <td>7,053,364.000000</td>\n",
       "      <td>240,043.000000</td>\n",
       "      <td>37,796.000000</td>\n",
       "      <td>Y1</td>\n",
       "      <td>Laboratory</td>\n",
       "      <td>Independent Lab</td>\n",
       "      <td>32</td>\n",
       "      <td>NaN</td>\n",
       "      <td>9-10 months</td>\n",
       "      <td>METAB3</td>\n",
       "      <td>0</td>\n",
       "      <td>PL</td>\n",
       "      <td>0</td>\n",
       "      <td>0</td>\n",
       "      <td>2</td>\n",
       "      <td>1.098612</td>\n",
       "    </tr>\n",
       "    <tr>\n",
       "      <th>9</th>\n",
       "      <td>42286978</td>\n",
       "      <td>7,557,061.000000</td>\n",
       "      <td>496,247.000000</td>\n",
       "      <td>37,796.000000</td>\n",
       "      <td>Y1</td>\n",
       "      <td>Surgery</td>\n",
       "      <td>Office</td>\n",
       "      <td>62</td>\n",
       "      <td>NaN</td>\n",
       "      <td>1- 2 months</td>\n",
       "      <td>ARTHSPIN</td>\n",
       "      <td>0</td>\n",
       "      <td>EM</td>\n",
       "      <td>0</td>\n",
       "      <td>0</td>\n",
       "      <td>2</td>\n",
       "      <td>1.098612</td>\n",
       "    </tr>\n",
       "    <tr>\n",
       "      <th>10</th>\n",
       "      <td>42286978</td>\n",
       "      <td>438,280.000000</td>\n",
       "      <td>122,401.000000</td>\n",
       "      <td>37,796.000000</td>\n",
       "      <td>Y1</td>\n",
       "      <td>General Practice</td>\n",
       "      <td>Office</td>\n",
       "      <td>58</td>\n",
       "      <td>NaN</td>\n",
       "      <td>10-11 months</td>\n",
       "      <td>MSC2a3</td>\n",
       "      <td>0</td>\n",
       "      <td>MED</td>\n",
       "      <td>0</td>\n",
       "      <td>0</td>\n",
       "      <td>2</td>\n",
       "      <td>1.098612</td>\n",
       "    </tr>\n",
       "    <tr>\n",
       "      <th>11</th>\n",
       "      <td>42286978</td>\n",
       "      <td>8,013,252.000000</td>\n",
       "      <td>172,193.000000</td>\n",
       "      <td>37,796.000000</td>\n",
       "      <td>Y1</td>\n",
       "      <td>Surgery</td>\n",
       "      <td>Office</td>\n",
       "      <td>28</td>\n",
       "      <td>NaN</td>\n",
       "      <td>8- 9 months</td>\n",
       "      <td>NEUMENT</td>\n",
       "      <td>0</td>\n",
       "      <td>EM</td>\n",
       "      <td>0</td>\n",
       "      <td>0</td>\n",
       "      <td>2</td>\n",
       "      <td>1.098612</td>\n",
       "    </tr>\n",
       "  </tbody>\n",
       "</table>\n",
       "</div>"
      ],
      "text/plain": [
       "    MemberID       ProviderID         Vendor           PCP Year  \\\n",
       "0   42286978 8,013,252.000000 172,193.000000 37,796.000000   Y1   \n",
       "1   42286978 9,416,979.000000   5,166.000000 37,796.000000   Y1   \n",
       "2   42286978 8,511,459.000000  64,764.000000 37,796.000000   Y1   \n",
       "3   42286978 8,013,252.000000 172,193.000000 37,796.000000   Y1   \n",
       "4   42286978 9,416,979.000000   5,166.000000 37,796.000000   Y1   \n",
       "5   42286978 4,062,524.000000 505,451.000000 37,796.000000   Y1   \n",
       "6   42286978 3,022,514.000000  35,565.000000 37,796.000000   Y1   \n",
       "7   42286978 7,053,364.000000 240,043.000000 37,796.000000   Y1   \n",
       "8   42286978 7,053,364.000000 240,043.000000 37,796.000000   Y1   \n",
       "9   42286978 7,557,061.000000 496,247.000000 37,796.000000   Y1   \n",
       "10  42286978   438,280.000000 122,401.000000 37,796.000000   Y1   \n",
       "11  42286978 8,013,252.000000 172,193.000000 37,796.000000   Y1   \n",
       "\n",
       "           Specialty             PlaceSvc PayDelay LengthOfStay          DSFS  \\\n",
       "0            Surgery               Office       28          NaN   8- 9 months   \n",
       "1           Internal               Office       58          NaN   9-10 months   \n",
       "2           Internal               Office       92          NaN    0- 1 month   \n",
       "3              Other               Office       27          NaN    0- 1 month   \n",
       "4           Internal               Office      114          NaN   6- 7 months   \n",
       "5           Internal  Outpatient Hospital       34          NaN   1- 2 months   \n",
       "6                NaN               Office       28          NaN   7- 8 months   \n",
       "7         Laboratory      Independent Lab       32          NaN   9-10 months   \n",
       "8         Laboratory      Independent Lab       32          NaN   9-10 months   \n",
       "9            Surgery               Office       62          NaN   1- 2 months   \n",
       "10  General Practice               Office       58          NaN  10-11 months   \n",
       "11           Surgery               Office       28          NaN   8- 9 months   \n",
       "\n",
       "   PrimaryConditionGroup CharlsonIndex ProcedureGroup  SupLOS  \\\n",
       "0                NEUMENT             0            MED       0   \n",
       "1                MISCHRT             0             EM       0   \n",
       "2                 SKNAUT             0             EM       0   \n",
       "3                NEUMENT             0            MED       0   \n",
       "4                GIBLEED             0             EM       0   \n",
       "5                 MSC2a3             0             EM       0   \n",
       "6                ODaBNCA             0            RAD       0   \n",
       "7                 METAB3             0            SCS       0   \n",
       "8                 METAB3             0             PL       0   \n",
       "9               ARTHSPIN             0             EM       0   \n",
       "10                MSC2a3             0            MED       0   \n",
       "11               NEUMENT             0             EM       0   \n",
       "\n",
       "    ClaimsTruncated  DaysInHospital    label  \n",
       "0                 0               2 1.098612  \n",
       "1                 0               2 1.098612  \n",
       "2                 0               2 1.098612  \n",
       "3                 0               2 1.098612  \n",
       "4                 0               2 1.098612  \n",
       "5                 0               2 1.098612  \n",
       "6                 0               2 1.098612  \n",
       "7                 0               2 1.098612  \n",
       "8                 0               2 1.098612  \n",
       "9                 0               2 1.098612  \n",
       "10                0               2 1.098612  \n",
       "11                0               2 1.098612  "
      ]
     },
     "execution_count": 22,
     "metadata": {},
     "output_type": "execute_result"
    }
   ],
   "source": [
    "# observe one members claims in the dataframe\n",
    "\n",
    "merged[merged['MemberID'] == 42286978]\n"
   ]
  },
  {
   "cell_type": "code",
   "execution_count": 25,
   "metadata": {
    "ExecuteTime": {
     "end_time": "2018-10-25T16:25:27.550515Z",
     "start_time": "2018-10-25T16:25:27.409043Z"
    }
   },
   "outputs": [
    {
     "data": {
      "text/html": [
       "<div>\n",
       "<style scoped>\n",
       "    .dataframe tbody tr th:only-of-type {\n",
       "        vertical-align: middle;\n",
       "    }\n",
       "\n",
       "    .dataframe tbody tr th {\n",
       "        vertical-align: top;\n",
       "    }\n",
       "\n",
       "    .dataframe thead th {\n",
       "        text-align: right;\n",
       "    }\n",
       "</style>\n",
       "<table border=\"1\" class=\"dataframe\">\n",
       "  <thead>\n",
       "    <tr style=\"text-align: right;\">\n",
       "      <th></th>\n",
       "      <th>DaysInHospital</th>\n",
       "      <th>variable</th>\n",
       "      <th>value</th>\n",
       "    </tr>\n",
       "  </thead>\n",
       "  <tbody>\n",
       "    <tr>\n",
       "      <th>0</th>\n",
       "      <td>2</td>\n",
       "      <td>PrimaryConditionGroup</td>\n",
       "      <td>NEUMENT</td>\n",
       "    </tr>\n",
       "    <tr>\n",
       "      <th>1</th>\n",
       "      <td>2</td>\n",
       "      <td>PrimaryConditionGroup</td>\n",
       "      <td>MISCHRT</td>\n",
       "    </tr>\n",
       "    <tr>\n",
       "      <th>2</th>\n",
       "      <td>2</td>\n",
       "      <td>PrimaryConditionGroup</td>\n",
       "      <td>SKNAUT</td>\n",
       "    </tr>\n",
       "    <tr>\n",
       "      <th>3</th>\n",
       "      <td>2</td>\n",
       "      <td>PrimaryConditionGroup</td>\n",
       "      <td>NEUMENT</td>\n",
       "    </tr>\n",
       "    <tr>\n",
       "      <th>4</th>\n",
       "      <td>2</td>\n",
       "      <td>PrimaryConditionGroup</td>\n",
       "      <td>GIBLEED</td>\n",
       "    </tr>\n",
       "  </tbody>\n",
       "</table>\n",
       "</div>"
      ],
      "text/plain": [
       "   DaysInHospital               variable    value\n",
       "0               2  PrimaryConditionGroup  NEUMENT\n",
       "1               2  PrimaryConditionGroup  MISCHRT\n",
       "2               2  PrimaryConditionGroup   SKNAUT\n",
       "3               2  PrimaryConditionGroup  NEUMENT\n",
       "4               2  PrimaryConditionGroup  GIBLEED"
      ]
     },
     "execution_count": 25,
     "metadata": {},
     "output_type": "execute_result"
    }
   ],
   "source": [
    "# evaluate how facets of select features relate to number of days in hospital\n",
    "\n",
    "cat_vars = ['PrimaryConditionGroup','LengthOfStay','CharlsonIndex','ProcedureGroup', 'DSFS']\n",
    "df = pd.melt(merged, id_vars = 'DaysInHospital', value_vars = cat_vars)\n",
    "\n",
    "df.head()"
   ]
  },
  {
   "cell_type": "code",
   "execution_count": 26,
   "metadata": {
    "ExecuteTime": {
     "end_time": "2018-10-25T16:25:28.637167Z",
     "start_time": "2018-10-25T16:25:28.602658Z"
    }
   },
   "outputs": [
    {
     "name": "stdout",
     "output_type": "stream",
     "text": [
      "<class 'pandas.core.frame.DataFrame'>\n",
      "RangeIndex: 4328445 entries, 0 to 4328444\n",
      "Data columns (total 3 columns):\n",
      "DaysInHospital    int64\n",
      "variable          object\n",
      "value             object\n",
      "dtypes: int64(1), object(2)\n",
      "memory usage: 99.1+ MB\n"
     ]
    }
   ],
   "source": [
    "df.info()"
   ]
  },
  {
   "cell_type": "code",
   "execution_count": 27,
   "metadata": {
    "ExecuteTime": {
     "end_time": "2018-10-25T16:26:52.844553Z",
     "start_time": "2018-10-25T16:25:48.952967Z"
    }
   },
   "outputs": [
    {
     "data": {
      "image/png": "[encoded data removed]",
      "text/plain": [
       "<Figure size 864x1296 with 5 Axes>"
      ]
     },
     "metadata": {
      "needs_background": "light"
     },
     "output_type": "display_data"
    },
    {
     "data": {
      "text/plain": [
       "<Figure size 432x216 with 0 Axes>"
      ]
     },
     "metadata": {},
     "output_type": "display_data"
    },
    {
     "data": {
      "text/plain": [
       "<Figure size 432x216 with 0 Axes>"
      ]
     },
     "metadata": {},
     "output_type": "display_data"
    },
    {
     "data": {
      "text/plain": [
       "<Figure size 432x216 with 0 Axes>"
      ]
     },
     "metadata": {},
     "output_type": "display_data"
    },
    {
     "data": {
      "text/plain": [
       "<Figure size 432x216 with 0 Axes>"
      ]
     },
     "metadata": {},
     "output_type": "display_data"
    },
    {
     "data": {
      "text/plain": [
       "<Figure size 432x216 with 0 Axes>"
      ]
     },
     "metadata": {},
     "output_type": "display_data"
    }
   ],
   "source": [
    "# \n",
    "\n",
    "def plot(x,y,**kwargs):\n",
    "    sns.barplot(x,y)\n",
    "    plt.xticks(rotation = 'vertical')\n",
    "    plt.figure(figsize = (6,3))\n",
    "\n",
    "grid = sns.FacetGrid(df, col = 'variable', col_wrap = 2, sharex = False, sharey = True, size = 6)\n",
    "grid = grid.map(plot, 'value', 'DaysInHospital')"
   ]
  },
  {
   "cell_type": "markdown",
   "metadata": {},
   "source": [
    ">Visualize average number of DaysInHospital for a given classm label, i.e. Charlson index = 0, PrimaryConditionGroup = SEPSIS"
   ]
  },
  {
   "cell_type": "code",
   "execution_count": 28,
   "metadata": {
    "ExecuteTime": {
     "end_time": "2018-10-25T16:27:52.397532Z",
     "start_time": "2018-10-25T16:27:51.928909Z"
    }
   },
   "outputs": [
    {
     "data": {
      "text/plain": [
       "0.5291606484996484"
      ]
     },
     "execution_count": 28,
     "metadata": {},
     "output_type": "execute_result"
    }
   ],
   "source": [
    "# validating how bar values are calculated - checks out\n",
    "\n",
    "df[(df['variable'] == 'CharlsonIndex') & (df['value'] == '0')]['DaysInHospital'].mean()\n"
   ]
  },
  {
   "cell_type": "markdown",
   "metadata": {},
   "source": [
    "__Visualize and evaluate feature Days Since First Stay (DSFS)__  "
   ]
  },
  {
   "cell_type": "code",
   "execution_count": 29,
   "metadata": {
    "ExecuteTime": {
     "end_time": "2018-10-25T16:28:34.623020Z",
     "start_time": "2018-10-25T16:28:33.992158Z"
    }
   },
   "outputs": [
    {
     "data": {
      "text/plain": [
       "0- 1 month      707721\n",
       "1- 2 months     247343\n",
       "2- 3 months     225216\n",
       "3- 4 months     212214\n",
       "5- 6 months     192000\n",
       "4- 5 months     189001\n",
       "6- 7 months     180662\n",
       "7- 8 months     175191\n",
       "8- 9 months     171878\n",
       "9-10 months     151527\n",
       "10-11 months    116328\n",
       "11-12 months     47139\n",
       "Name: DSFS, dtype: int64"
      ]
     },
     "execution_count": 29,
     "metadata": {},
     "output_type": "execute_result"
    }
   ],
   "source": [
    "# Days since first claim\n",
    "\n",
    "dfClaims['DSFS'].value_counts()\n"
   ]
  },
  {
   "cell_type": "code",
   "execution_count": 32,
   "metadata": {
    "ExecuteTime": {
     "end_time": "2018-10-25T16:30:07.255893Z",
     "start_time": "2018-10-25T16:30:06.176294Z"
    }
   },
   "outputs": [
    {
     "data": {
      "text/plain": [
       "([<matplotlib.axis.XTick at 0x1022096a0>],\n",
       " <a list of 1 Text xticklabel objects>)"
      ]
     },
     "execution_count": 32,
     "metadata": {},
     "output_type": "execute_result"
    },
    {
     "data": {
      "image/png": "[encoded data removed]",
      "text/plain": [
       "<Figure size 432x288 with 1 Axes>"
      ]
     },
     "metadata": {
      "needs_background": "light"
     },
     "output_type": "display_data"
    }
   ],
   "source": [
    "# Visualize DSFS value counts\n",
    "\n",
    "x = dfClaims[(dfClaims['DSFS'].notnull())]['DSFS'].unique()\n",
    "y = dfClaims[(dfClaims['DSFS'].notnull())]['DSFS'].value_counts(dropna = False)\n",
    "plt.bar(x,y)\n",
    "plt.title('Number of claims for each DSFS value',pad = 10)\n",
    "plt.xticks('')\n"
   ]
  },
  {
   "cell_type": "markdown",
   "metadata": {},
   "source": [
    ">Claims occuring within 0-1 months of service make up a sizeable portion of the claims. This makes sense because the first claim in a given year for each patient will have this '0-1 months' class value. This is true for patients who have their first service in January, December or any month in between."
   ]
  },
  {
   "cell_type": "markdown",
   "metadata": {},
   "source": [
    "__Visualize and evaluate feature Length of stay__  "
   ]
  },
  {
   "cell_type": "code",
   "execution_count": 35,
   "metadata": {
    "ExecuteTime": {
     "end_time": "2018-10-25T16:33:16.388807Z",
     "start_time": "2018-10-25T16:33:16.280571Z"
    }
   },
   "outputs": [
    {
     "data": {
      "text/plain": [
       "1 day         56696\n",
       "2 days         6485\n",
       "3 days         3246\n",
       "4 days         1473\n",
       "1- 2 weeks     1143\n",
       "2- 4 weeks      961\n",
       "4- 8 weeks      903\n",
       "5 days          510\n",
       "6 days          179\n",
       "26+ weeks         2\n",
       "Name: LengthOfStay, dtype: int64"
      ]
     },
     "execution_count": 35,
     "metadata": {},
     "output_type": "execute_result"
    }
   ],
   "source": [
    "#Lenght of stay\n",
    "\n",
    "dfClaims['LengthOfStay'].value_counts()\n"
   ]
  },
  {
   "cell_type": "code",
   "execution_count": 34,
   "metadata": {
    "ExecuteTime": {
     "end_time": "2018-10-25T16:32:22.090014Z",
     "start_time": "2018-10-25T16:32:21.685676Z"
    }
   },
   "outputs": [
    {
     "data": {
      "text/plain": [
       "([<matplotlib.axis.XTick at 0x10a28cc88>],\n",
       " <a list of 1 Text xticklabel objects>)"
      ]
     },
     "execution_count": 34,
     "metadata": {},
     "output_type": "execute_result"
    },
    {
     "data": {
      "image/png": "[encoded data removed]",
      "text/plain": [
       "<Figure size 432x288 with 1 Axes>"
      ]
     },
     "metadata": {
      "needs_background": "light"
     },
     "output_type": "display_data"
    }
   ],
   "source": [
    "# Visualize length of stay value counts\n",
    "\n",
    "x = dfClaims[(dfClaims['LengthOfStay'].notnull())]['LengthOfStay'].unique()\n",
    "y = dfClaims[(dfClaims['LengthOfStay'].notnull())]['LengthOfStay'].value_counts(dropna = True)\n",
    "plt.bar(x,y)\n",
    "plt.title('Number of claims for each LengthOfStay value',pad = 10)\n",
    "plt.xticks('')\n"
   ]
  },
  {
   "cell_type": "markdown",
   "metadata": {},
   "source": [
    ">The majority of patients only stay in the hospital 1 day. I envision these encounters being a mix of a couple different types of patients. 1) relatively healthy patients who were admitted following relatively simply procedures, and were discharged quickly as expected. 2) Less healthy patients who were not especially sick, but sought out health care services (perhaps unnecessarily) and were admitted briefly for observation purposes, but discharged quickly as there were no immediate health care concerns. \n",
    "\n",
    ">Patients in the first category (healhy, in-and-out patients) are likely often receiving services that will be transitioned to the ambulatory setting in the future as medical advances make hospital unnecessary for certain simple, low-risk procedures. This has implications for long-term DaysInHospital projections, but not likely implications for short-term projections.\n",
    "\n",
    ">Hospital stays 6 days or longer are very unusual\n",
    "\n",
    "> It's interesting to note that the scale on the y-axis is much smaller for this column because this only includes encounters that had a length of stay. In other words, this only includes inpatient activity, not outpatient activity. This means that the majority of claims are outpatient claims."
   ]
  },
  {
   "cell_type": "markdown",
   "metadata": {},
   "source": [
    "__Visualize and evaluate feature Charlson index__  "
   ]
  },
  {
   "cell_type": "code",
   "execution_count": 38,
   "metadata": {
    "ExecuteTime": {
     "end_time": "2018-10-25T16:34:09.675894Z",
     "start_time": "2018-10-25T16:34:09.437618Z"
    }
   },
   "outputs": [
    {
     "data": {
      "text/plain": [
       "0      1356995\n",
       "1-2    1256527\n",
       "3-4      49479\n",
       "5+        5989\n",
       "Name: CharlsonIndex, dtype: int64"
      ]
     },
     "execution_count": 38,
     "metadata": {},
     "output_type": "execute_result"
    }
   ],
   "source": [
    "# Charlson index\n",
    "dfClaims['CharlsonIndex'].value_counts()\n"
   ]
  },
  {
   "cell_type": "code",
   "execution_count": 41,
   "metadata": {
    "ExecuteTime": {
     "end_time": "2018-10-25T16:35:36.499331Z",
     "start_time": "2018-10-25T16:35:35.423323Z"
    }
   },
   "outputs": [
    {
     "data": {
      "text/plain": [
       "([<matplotlib.axis.XTick at 0x109cf7320>],\n",
       " <a list of 1 Text xticklabel objects>)"
      ]
     },
     "execution_count": 41,
     "metadata": {},
     "output_type": "execute_result"
    },
    {
     "data": {
      "image/png": "[encoded data removed]",
      "text/plain": [
       "<Figure size 432x288 with 1 Axes>"
      ]
     },
     "metadata": {
      "needs_background": "light"
     },
     "output_type": "display_data"
    }
   ],
   "source": [
    "# Visualize Charlson index value counts\n",
    "\n",
    "x = dfClaims[(dfClaims['CharlsonIndex'].notnull())]['CharlsonIndex'].unique()\n",
    "y = dfClaims[(dfClaims['CharlsonIndex'].notnull())]['CharlsonIndex'].value_counts(dropna = False)\n",
    "plt.bar(x,y)\n",
    "plt.title('Number of claims for each CharlsonIndex value',pad = 10)\n",
    "plt.xticks('')\n"
   ]
  },
  {
   "cell_type": "markdown",
   "metadata": {},
   "source": [
    ">The vast majority of claims were submitted for patients with a Charlson Index of 0,1 or 2. By comparison, there are only a handful of patients with a CharlsonIndex of 5+. This makes sense given that these higher level index values are reserved for the sickest patients, and most individuals are not extremly sick.\n",
    "\n",
    "> It's interesting that there is not a large difference between Charlson Index categories 0 and 1-2. This makes me wonder how many patients have a Charlson Index of 0 and how many have an index of 1-2."
   ]
  },
  {
   "cell_type": "code",
   "execution_count": 42,
   "metadata": {
    "ExecuteTime": {
     "end_time": "2018-10-25T16:36:47.655250Z",
     "start_time": "2018-10-25T16:36:47.073750Z"
    }
   },
   "outputs": [
    {
     "data": {
      "text/plain": [
       "([<matplotlib.axis.XTick at 0x109e08748>],\n",
       " <a list of 1 Text xticklabel objects>)"
      ]
     },
     "execution_count": 42,
     "metadata": {},
     "output_type": "execute_result"
    },
    {
     "data": {
      "image/png": "[encoded data removed]",
      "text/plain": [
       "<Figure size 432x288 with 1 Axes>"
      ]
     },
     "metadata": {
      "needs_background": "light"
     },
     "output_type": "display_data"
    }
   ],
   "source": [
    "# note: A patient's Charlson Index can change from year to year, so the dataframe below\n",
    "# has one record for each MemberID/CharlsonIndex combination.\n",
    "# If a patient's index doesn't change, the patient will have one row\n",
    "# On the other extreme, if a patient's index changes each year, the patient will have three record.\n",
    "\n",
    "claimMbrs = dfClaims[['MemberID','CharlsonIndex']].drop_duplicates()\n",
    "\n",
    "x = claimMbrs[(claimMbrs['CharlsonIndex'].notnull())]['CharlsonIndex'].unique()\n",
    "y = claimMbrs[(claimMbrs['CharlsonIndex'].notnull())]['CharlsonIndex'].value_counts(dropna = False)\n",
    "plt.bar(x,y)\n",
    "plt.title('Number of patients by CharlsonIndex value',pad = 10)\n",
    "plt.xticks('')"
   ]
  },
  {
   "cell_type": "markdown",
   "metadata": {},
   "source": [
    "> This shows that the majority of patients have an index of 0. Considering this chart with the 'Number of claims for each CharlsonIndex value' chart above where the claim count is comparable between index 0 and 1-2 patients, it can be reasonably inferred that patients with an index of 1-2 incur more claims than index 0 patients."
   ]
  },
  {
   "cell_type": "markdown",
   "metadata": {},
   "source": [
    "# Custom tools"
   ]
  },
  {
   "cell_type": "markdown",
   "metadata": {},
   "source": [
    "## Create claim processing tools"
   ]
  },
  {
   "cell_type": "markdown",
   "metadata": {},
   "source": [
    "__General__"
   ]
  },
  {
   "cell_type": "code",
   "execution_count": 43,
   "metadata": {
    "ExecuteTime": {
     "end_time": "2018-10-25T16:54:23.118939Z",
     "start_time": "2018-10-25T16:54:23.114761Z"
    }
   },
   "outputs": [],
   "source": [
    "# \n",
    "\n",
    "class DataFrameSelector(BaseEstimator, TransformerMixin):\n",
    "    \n",
    "    \n",
    "    def __init__(self, attribute_names):\n",
    "        self.attribute_names = attribute_names\n",
    "    \n",
    "    def fit(self, X, y = None):\n",
    "        return self\n",
    "    \n",
    "    def transform(self, X):\n",
    "        return X[self.attribute_names].values\n",
    "    "
   ]
  },
  {
   "cell_type": "markdown",
   "metadata": {},
   "source": [
    "__Claims__"
   ]
  },
  {
   "cell_type": "code",
   "execution_count": 44,
   "metadata": {
    "ExecuteTime": {
     "end_time": "2018-10-25T16:54:23.130124Z",
     "start_time": "2018-10-25T16:54:23.124896Z"
    }
   },
   "outputs": [],
   "source": [
    "# \n",
    "\n",
    "class ClaimNumAttributesAdder(BaseEstimator, TransformerMixin):\n",
    "    \n",
    "    \n",
    "    def fit(self, X, y = None):\n",
    "        return self\n",
    "    \n",
    "    def transform(self, X, y = None): \n",
    "        charlson_idx_dt = {'0': 0, '1-2': 2, '3-4': 4, '5+': 6}\n",
    "        X['CharlsonIndex'] = X['CharlsonIndex'].apply(lambda x: charlson_idx_dt[x])\n",
    "        \n",
    "        los_dt = {'1 day': 1, '2 days': 2, '3 days': 3, '4 days': 4, '5 days': 5, '6 days': 6,\n",
    "          '1- 2 weeks': 11, '2- 4 weeks': 21, '4- 8 weeks': 42, '26+ weeks': 180}\n",
    "        X['LengthOfStay'] = X['LengthOfStay'].apply(lambda x: None if pd.isnull(x) else los_dt[x])\n",
    "        \n",
    "        X['PayDelay'] = X['PayDelay'].apply(lambda x: int(x) if x != '162+' else 162)\n",
    "        X['DSFS'] = X['DSFS'].apply(lambda x: None if pd.isnull(x) else int(x[0]) + 1)\n",
    "        return X\n",
    "    "
   ]
  },
  {
   "cell_type": "code",
   "execution_count": 45,
   "metadata": {
    "ExecuteTime": {
     "end_time": "2018-10-25T16:54:23.136449Z",
     "start_time": "2018-10-25T16:54:23.132091Z"
    }
   },
   "outputs": [],
   "source": [
    "# \n",
    "\n",
    "class ClaimCatAttributesAdder(BaseEstimator, TransformerMixin):\n",
    "    \n",
    "    \n",
    "    def __init__(self, categorical_columns):\n",
    "        self.categorical_columns = categorical_columns\n",
    "    \n",
    "    def fit(self, X, y = None):\n",
    "        return self\n",
    "    \n",
    "    def transform(self, X):\n",
    "        X = pd.get_dummies(data = X, columns = self.categorical_columns, drop_first = True)\n",
    "        return X\n",
    "    "
   ]
  },
  {
   "cell_type": "code",
   "execution_count": 46,
   "metadata": {
    "ExecuteTime": {
     "end_time": "2018-10-25T16:54:23.147673Z",
     "start_time": "2018-10-25T16:54:23.138255Z"
    }
   },
   "outputs": [],
   "source": [
    "#\n",
    "\n",
    "class ClaimAggregater(BaseEstimator, TransformerMixin):\n",
    "    \n",
    "    \n",
    "    def fit(self, X, y = None):\n",
    "        return self\n",
    "    \n",
    "    def transform(self, X, y = None):\n",
    "        agg_op_dt_claim = {\n",
    "            'PayDelay': {\n",
    "                'max_PayDelay': 'max',\n",
    "                'min_PayDelay': 'min',\n",
    "                'avg_PayDelay': 'mean'\n",
    "            },\n",
    "            'LengthOfStay': {\n",
    "                'max_LOS': 'max',\n",
    "                'min_LOS': 'min',\n",
    "                'avg_LOS': 'mean'\n",
    "            },\n",
    "            'DSFS': {\n",
    "                'max_dsfs': 'max',\n",
    "                'min_dsfs': 'min',\n",
    "                'avg_dsfs': 'mean'\n",
    "            },\n",
    "            'CharlsonIndex': {\n",
    "                'max_CharlsonIndex': 'max',\n",
    "                'min_CharlsonIndex': 'min',\n",
    "                'avg_CharlsonIndex': 'mean'\n",
    "            }\n",
    "        }\n",
    "        \n",
    "        # add binary categorical columns to agg_op_dt_claim for groupby\n",
    "        for i in X.columns[np.array(X.dtypes == 'uint8')]:\n",
    "            agg_op_dt_claim['{0}'.format(i)] = {'Sum_{0}'.format(i) : 'sum'}\n",
    "        \n",
    "        result = X.groupby(['Year', 'MemberID']).agg(agg_op_dt_claim)\n",
    "        result.columns = result.columns.droplevel()\n",
    "        result = result.reset_index(level = ['Year', 'MemberID'])\n",
    "        result['range_dsfs'] = result['max_dsfs'] - result['min_dsfs']\n",
    "        result['range_CharlsonIndex'] = result['max_CharlsonIndex'] - result['min_CharlsonIndex']\n",
    "        return result"
   ]
  },
  {
   "cell_type": "markdown",
   "metadata": {},
   "source": [
    "__Pharmacy__"
   ]
  },
  {
   "cell_type": "code",
   "execution_count": 47,
   "metadata": {
    "ExecuteTime": {
     "end_time": "2018-10-25T16:54:23.156530Z",
     "start_time": "2018-10-25T16:54:23.149886Z"
    }
   },
   "outputs": [],
   "source": [
    "# preprocess via pipeline\n",
    "\n",
    "class DrugAttributesAdder(BaseEstimator, TransformerMixin):\n",
    "    \n",
    "    \n",
    "    def fit(self, X, y=None):\n",
    "        return self\n",
    "    \n",
    "    def transform(self, X, y=None):  \n",
    "        dsfs_dt = {'0- 1 month': 15, '1- 2 months': 45, '2- 3 months': 75, '3- 4 months': 105, \n",
    "                   '4- 5 months': 135, '5- 6 months': 165, '6- 7 months': 195, '7- 8 months': 225, \n",
    "                   '8- 9 months': 255, '9-10 months': 285, '10-11 months': 315, '11-12 months': 345}\n",
    "        X['DSFS'] = X['DSFS'].apply(lambda x: dsfs_dt[x])\n",
    "        X['DrugCount'] = X['DrugCount'].apply(lambda x: 7 if x == '7+' else int(x))\n",
    "        return X\n",
    "\n",
    "class DrugAggregater(BaseEstimator, TransformerMixin):\n",
    "    \n",
    "    \n",
    "    def fit(self, X, y = None):\n",
    "        return self\n",
    "    \n",
    "    def transform(self, X, y = None):\n",
    "        agg_op_dt_drug = {\n",
    "            'DrugCount': {\n",
    "                'max_DrugCount': 'max',\n",
    "                'min_DrugCount': 'min',\n",
    "                'avg_DrugCount': 'mean',\n",
    "                'months_DrugCount': 'count'\n",
    "            }\n",
    "        }\n",
    "        result = X.groupby(['Year', 'MemberID']).agg(agg_op_dt_drug)\n",
    "        result.columns = result.columns.droplevel()\n",
    "        result = result.reset_index(level=['Year', 'MemberID'])\n",
    "        return result\n",
    "    "
   ]
  },
  {
   "cell_type": "markdown",
   "metadata": {},
   "source": [
    "__Lab__"
   ]
  },
  {
   "cell_type": "code",
   "execution_count": 48,
   "metadata": {
    "ExecuteTime": {
     "end_time": "2018-10-25T16:54:23.165560Z",
     "start_time": "2018-10-25T16:54:23.158598Z"
    }
   },
   "outputs": [],
   "source": [
    "# preprocess via pipeline\n",
    "\n",
    "class LabAttributesAdder(BaseEstimator, TransformerMixin):\n",
    "    \n",
    "    \n",
    "    def fit(self, X, y = None):\n",
    "        return self\n",
    "    \n",
    "    def transform(self, X, y = None):\n",
    "        dsfs_dt = {'0- 1 month': 15, '1- 2 months': 45, '2- 3 months': 75, '3- 4 months': 105, \n",
    "           '4- 5 months': 135, '5- 6 months': 165, '6- 7 months': 195, '7- 8 months': 225, \n",
    "           '8- 9 months': 255, '9-10 months': 285, '10-11 months': 315, '11-12 months': 345}\n",
    "        X['DSFS'] = X['DSFS'].apply(lambda x: dsfs_dt[x])\n",
    "        X['LabCountI'] = X['LabCount'].apply(lambda x: 10 if x == '10+' else int(x))\n",
    "        return X\n",
    "\n",
    "class LabAggregater(BaseEstimator, TransformerMixin):\n",
    "    \n",
    "    \n",
    "    def fit(self, X, y = None):\n",
    "        return self\n",
    "    \n",
    "    def transform(self, X, y = None):\n",
    "        agg_op_dt_lab = {\n",
    "            'LabCountI': {\n",
    "                'max_LabCount': 'max',\n",
    "                'min_LabCount': 'min',\n",
    "                'avg_LabCount': 'mean',\n",
    "                'months_LabCount': 'count'\n",
    "            }\n",
    "        }\n",
    "        result = X.groupby(['Year', 'MemberID']).agg(agg_op_dt_lab)\n",
    "        result.columns = result.columns.droplevel()\n",
    "        result = result.reset_index(level=['Year', 'MemberID'])\n",
    "        return result\n",
    "    "
   ]
  },
  {
   "cell_type": "markdown",
   "metadata": {},
   "source": [
    "__Membership__"
   ]
  },
  {
   "cell_type": "code",
   "execution_count": 49,
   "metadata": {
    "ExecuteTime": {
     "end_time": "2018-10-25T16:54:23.174619Z",
     "start_time": "2018-10-25T16:54:23.167488Z"
    }
   },
   "outputs": [],
   "source": [
    "# convert 'AgeAtFirstClaim' to numerical approximation\n",
    "\n",
    "class MemberAttributesAdder(BaseEstimator, TransformerMixin):\n",
    "    \n",
    "    \n",
    "    def fit(self, X, y=None):\n",
    "        return self\n",
    "    \n",
    "    def transform(self, X, y=None): \n",
    "        age_dt = {'40-49': 45, '70-79': 75, '50-59': 55, '60-69': 65, '30-39': 35,\n",
    "          '10-19': 15, '0-9': 5, '20-29': 25, '80+': 85}\n",
    "        X['AgeAtFirstClaim'] = X['AgeAtFirstClaim'].apply(lambda x: None if pd.isnull(x) else age_dt[x])\n",
    "        return X\n",
    "    \n",
    "class MemberLabelEncoder(BaseEstimator, TransformerMixin):\n",
    "    \n",
    "    \n",
    "    def fit(self, X, y = None):\n",
    "        X['Sex'] = np.where(X['Sex'].isnull(),'NaN',X['Sex'])\n",
    "        self.le = LabelEncoder()\n",
    "        self.le.fit(X['Sex'])\n",
    "        self.classes = self.le.classes_\n",
    "        return self\n",
    "    \n",
    "    def transform(self, X, y = None): \n",
    "        X['Sex'] = np.where(X['Sex'].isnull(),'NaN',X['Sex'])\n",
    "        X['Sex'] = self.le.transform(X['Sex'])\n",
    "        return X\n",
    "\n",
    "class DropOneColumn(BaseEstimator, TransformerMixin):\n",
    "    \n",
    "    \n",
    "    def fit(self, X, y = None):\n",
    "        return self\n",
    "    \n",
    "    def transform(self, X, y = None):\n",
    "        classes = memberCatPipeline.named_steps.encoder.classes\n",
    "        X = pd.DataFrame(X[:,:2], columns=classes[:2])\n",
    "        return X\n",
    "    "
   ]
  },
  {
   "cell_type": "markdown",
   "metadata": {},
   "source": [
    "## Model evaluation tools"
   ]
  },
  {
   "cell_type": "markdown",
   "metadata": {},
   "source": [
    "__Tool for performing GridSearchCV with multiple models__"
   ]
  },
  {
   "cell_type": "code",
   "execution_count": 50,
   "metadata": {
    "ExecuteTime": {
     "end_time": "2018-10-25T16:54:23.190458Z",
     "start_time": "2018-10-25T16:54:23.176792Z"
    }
   },
   "outputs": [],
   "source": [
    "class EstimatorSelectionHelper:\n",
    "    \n",
    "    \n",
    "    def __init__(self, models, params):\n",
    "        if not set(models.keys()).issubset(set(params.keys())):\n",
    "            missing_params = list(set(models.keys()) - set(params.keys()))\n",
    "            raise ValueError('Some estimators are missing parameters: {0}'.format(missing_params))\n",
    "        self.models = models\n",
    "        self.params = params\n",
    "        self.keys = models.keys()\n",
    "        self.grid_searches = {}\n",
    "    \n",
    "    # Full GridSearchCV\n",
    "    def fitGs(self, X, y, cv = 5, n_jobs = 1, verbose = 0, scoring = None, refit = True):\n",
    "        for key in self.keys:\n",
    "            print('Running GridSearchCV for {0}'.format(key))\n",
    "            model = self.models[key]\n",
    "            params = self.params[key]\n",
    "            gs = GridSearchCV(model\n",
    "                              ,params\n",
    "                              ,cv = cv\n",
    "                              ,n_jobs = n_jobs\n",
    "                              ,verbose = verbose\n",
    "                              ,scoring = scoring\n",
    "                              ,refit = refit\n",
    "                              ,return_train_score = True)\n",
    "            gs.fit(X,y)\n",
    "            self.grid_searches[key] = gs    \n",
    "        return gs\n",
    "    \n",
    "    # RandomizedSearchCV\n",
    "    def fitRgs(self, X, y, cv = 5, n_jobs = 1, verbose = 0, scoring = None, refit = True, n_iter = 15):\n",
    "        for key in self.keys:\n",
    "            print('Running RandomizedSearchCV for {0}'.format(key))\n",
    "            model = self.models[key]\n",
    "            params = self.params[key]        \n",
    "            rgs = RandomizedSearchCV(model\n",
    "                                    ,params\n",
    "                                    ,cv = cv\n",
    "                                    ,n_jobs = n_jobs\n",
    "                                    ,verbose = verbose\n",
    "                                    ,scoring = scoring\n",
    "                                    ,refit = refit\n",
    "                                    ,return_train_score = True\n",
    "                                    ,n_iter = n_iter)\n",
    "            rgs.fit(X,y)\n",
    "            self.grid_searches[key] = rgs    \n",
    "        return rgs\n",
    "        \n",
    "    def scoreSummary(self, sort_by = 'mean_score'):\n",
    "        def row(key, scores, params):\n",
    "            d = {\n",
    "                 'estimator': key\n",
    "                 ,'min_score': min(scores)\n",
    "                 ,'max_score': max(scores)\n",
    "                 ,'mean_score': np.mean(scores)\n",
    "                 ,'std_score': np.std(scores)\n",
    "            }\n",
    "            return pd.Series({**params, **d})\n",
    "\n",
    "        rows = []\n",
    "        for k in self.grid_searches:\n",
    "            #print(k)\n",
    "            params = self.grid_searches[k].cv_results_['params']\n",
    "            scores = []\n",
    "            for i in range(self.grid_searches[k].cv):\n",
    "                key = 'split{}_test_score'.format(i)\n",
    "                r = self.grid_searches[k].cv_results_[key]        \n",
    "                scores.append(r.reshape(len(params), 1))\n",
    "\n",
    "            all_scores = np.hstack(scores)\n",
    "            for p, s in zip(params,all_scores):\n",
    "                rows.append((row(k, s, p)))\n",
    "\n",
    "        df = pd.concat(rows, axis = 1).T.sort_values([sort_by], ascending = False)\n",
    "\n",
    "        columns = ['estimator', 'min_score', 'mean_score', 'max_score', 'std_score']\n",
    "        columns = columns + [c for c in df.columns if c not in columns]\n",
    "\n",
    "        return df[columns]\n"
   ]
  },
  {
   "cell_type": "markdown",
   "metadata": {},
   "source": [
    "__Model comparison t-test__ "
   ]
  },
  {
   "cell_type": "code",
   "execution_count": 51,
   "metadata": {
    "ExecuteTime": {
     "end_time": "2018-10-25T16:54:23.208715Z",
     "start_time": "2018-10-25T16:54:23.192677Z"
    }
   },
   "outputs": [],
   "source": [
    "#\n",
    "\n",
    "def ttest(control, treatment):\n",
    "    #paired t-test; two-tailed p-value      A   ,    B\n",
    "    (t_score, p_value) = stats.ttest_rel(control, treatment)\n",
    "\n",
    "    if p_value > 0.05/2:  #Two sided \n",
    "        print('There is no significant difference between the two machine learning pipelines (Accept H0)')\n",
    "    else:\n",
    "        print('The two machine learning pipelines are different (reject H0) \\n(t_score, p_value) = (%.2f, %.5f)'%(t_score, p_value) )\n",
    "        if t_score > 0.0: #in the case of regression lower RMSE is better; A is lower \n",
    "            print('Machine learning pipeline A is better than B')\n",
    "        else:\n",
    "            print('Machine learning pipeline B is better than A')\n",
    "    return p_value"
   ]
  },
  {
   "cell_type": "markdown",
   "metadata": {},
   "source": [
    "# Data transformation and feature engineering"
   ]
  },
  {
   "cell_type": "markdown",
   "metadata": {},
   "source": [
    "__Claims data__"
   ]
  },
  {
   "cell_type": "code",
   "execution_count": 81,
   "metadata": {
    "ExecuteTime": {
     "end_time": "2018-10-25T20:13:58.385192Z",
     "start_time": "2018-10-25T20:13:44.533271Z"
    }
   },
   "outputs": [],
   "source": [
    "#\n",
    "\n",
    "categorical_columns = ['Specialty','PlaceSvc','PrimaryConditionGroup','ProcedureGroup']\n",
    "claimPipeline = Pipeline([\n",
    "    ('claimAdder', ClaimNumAttributesAdder())\n",
    "    ,('dummies', ClaimCatAttributesAdder(categorical_columns))\n",
    "    ,('claimAggregater', ClaimAggregater())\n",
    "    ])\n",
    "dfClaimsAggregated = claimPipeline.transform(dfClaims)\n"
   ]
  },
  {
   "cell_type": "markdown",
   "metadata": {},
   "source": [
    "__Drug data__"
   ]
  },
  {
   "cell_type": "code",
   "execution_count": 82,
   "metadata": {
    "ExecuteTime": {
     "end_time": "2018-10-25T20:13:59.479698Z",
     "start_time": "2018-10-25T20:13:58.387262Z"
    }
   },
   "outputs": [],
   "source": [
    "#\n",
    "\n",
    "drugPipeline = Pipeline([\n",
    "    ('drugAdder', DrugAttributesAdder()),\n",
    "    ('drugAggregater', DrugAggregater())\n",
    "    ])\n",
    "dfDrugCountAggregated = drugPipeline.transform(dfDrugCount)\n"
   ]
  },
  {
   "cell_type": "markdown",
   "metadata": {},
   "source": [
    "__Lab data__"
   ]
  },
  {
   "cell_type": "code",
   "execution_count": 83,
   "metadata": {
    "ExecuteTime": {
     "end_time": "2018-10-25T20:14:00.162642Z",
     "start_time": "2018-10-25T20:13:59.481961Z"
    }
   },
   "outputs": [],
   "source": [
    "#\n",
    "\n",
    "labPipeline = Pipeline([\n",
    "    ('labAdder', LabAttributesAdder()),\n",
    "    ('labAggregater', LabAggregater())\n",
    "    ])\n",
    "dfLabCountAggregated = labPipeline.transform(dfLabCount)\n"
   ]
  },
  {
   "cell_type": "markdown",
   "metadata": {},
   "source": [
    "__Member data__"
   ]
  },
  {
   "cell_type": "code",
   "execution_count": 84,
   "metadata": {
    "ExecuteTime": {
     "end_time": "2018-10-25T20:14:00.397681Z",
     "start_time": "2018-10-25T20:14:00.164781Z"
    }
   },
   "outputs": [],
   "source": [
    "#\n",
    "\n",
    "dfMembersAge = dfMembers.drop('Sex',axis = 1)\n",
    "dfMembersSex = pd.DataFrame(dfMembers['Sex'],columns = ['Sex'])\n",
    "\n",
    "adder = MemberAttributesAdder()\n",
    "dfMembers = adder.fit_transform(dfMembersAge)\n",
    "\n",
    "memberCatPipeline = Pipeline([('encoder', MemberLabelEncoder()),\n",
    "                                ('ohe', OneHotEncoder(sparse = False)),\n",
    "                                ('dropcol', DropOneColumn())\n",
    "                               ])\n",
    "dfMembersSex = memberCatPipeline.fit_transform(dfMembersSex)\n",
    "\n",
    "# rejoin Age and Sex columns\n",
    "dfMembers[['F','M']] = dfMembersSex\n"
   ]
  },
  {
   "cell_type": "markdown",
   "metadata": {},
   "source": [
    "__Merge data__"
   ]
  },
  {
   "cell_type": "code",
   "execution_count": 85,
   "metadata": {
    "ExecuteTime": {
     "end_time": "2018-10-25T20:15:02.317518Z",
     "start_time": "2018-10-25T20:15:01.734826Z"
    }
   },
   "outputs": [],
   "source": [
    "# \n",
    "\n",
    "dfMerged = pd.concat([dfTargetY2, dfTargetY3])\n",
    "dfMerged = dfMerged.merge(dfMembers\n",
    "                            ,how = 'left'\n",
    "                            ,on = 'MemberID')\n",
    "dfMerged = dfMerged.merge(dfClaimsAggregated\n",
    "                            ,how = 'left'\n",
    "                            ,on = ['MemberID', 'Year'])\n",
    "dfMerged = dfMerged.merge(dfDrugCountAggregated\n",
    "                            ,how = 'left'\n",
    "                            ,on = ['MemberID', 'Year'])\n",
    "dfFinal = dfMerged.merge(dfLabCountAggregated\n",
    "                            ,how = 'left'\n",
    "                            ,on = ['MemberID', 'Year'])\n",
    "\n",
    "dfFinalY1 = dfFinal[dfFinal['Year'] == 'Y1']\n",
    "dfFinalY1.set_index('MemberID', inplace = True)\n",
    "\n",
    "dfFinalY2 = dfFinal[dfFinal['Year'] == 'Y2']\n",
    "dfFinalY2.set_index('MemberID', inplace = True)\n"
   ]
  },
  {
   "cell_type": "markdown",
   "metadata": {},
   "source": [
    "__Train/test split, impute, feature scaling pipeline__"
   ]
  },
  {
   "cell_type": "code",
   "execution_count": 86,
   "metadata": {
    "ExecuteTime": {
     "end_time": "2018-10-25T20:16:56.601489Z",
     "start_time": "2018-10-25T20:16:56.595679Z"
    }
   },
   "outputs": [],
   "source": [
    "\n",
    "\n",
    "def splitPrep(dataset):\n",
    "    df_train, df_test = train_test_split(dataset, test_size = 0.3, random_state = 42)\n",
    "    \n",
    "    y_train = df_train['label']\n",
    "    y_test = df_test['label']\n",
    "    \n",
    "    X_train = df_train.drop(['label'], axis = 1)\n",
    "    X_test = df_test.drop(['label'], axis = 1)\n",
    "    \n",
    "    allCols = X_train.columns.values\n",
    "    categorical_columns = ['ClaimsTruncated','F','M']\n",
    "    index = [np.argwhere(allCols == i)[0][0] for i in categorical_columns]\n",
    "    numeric_columns = np.delete(allCols, index)\n",
    "\n",
    "    numPipeline = Pipeline([\n",
    "        ('selector', DataFrameSelector(numeric_columns)),\n",
    "        ('imputer', Imputer(strategy = 'median')),\n",
    "        ('std_scaler', StandardScaler()),\n",
    "    ])\n",
    "\n",
    "    catPipeline = Pipeline([\n",
    "        ('selector', DataFrameSelector(categorical_columns)),\n",
    "    ])\n",
    "\n",
    "    fullPipeline = FeatureUnion(transformer_list = [\n",
    "        ('numPipeline', numPipeline),\n",
    "        ('catPipeline', catPipeline),\n",
    "    ])    \n",
    "    \n",
    "    X_train = fullPipeline.fit_transform(X_train)\n",
    "    X_test = fullPipeline.transform(X_test)\n",
    "    \n",
    "    return X_train, X_test, y_train, y_test, numeric_columns, categorical_columns\n"
   ]
  },
  {
   "cell_type": "markdown",
   "metadata": {},
   "source": [
    "## Feature engineering - delta columns\n",
    "\n",
    "* Rationale - A year over year change of a certain feature may indicate a change in health status or a change in how a patient interacts with the health care system. For example, if cumulative LOS increases from one year to the next, this likely indicates a detrimental change in health status and portends a higher number of Days In Hospital in the future. Other deltas are more ambiguous, such as number of EM (office) visits. If a patient is seeing a provider on an outpatient basis more frequently, this indicates a change in how a person interacts with the health system. While it could be said that more touch points with the health care system are a bad thing, it could also indicate that a patient's condition is being managed more effectively on an outpatient basis, and therefore could lead to fewer inpatient admissions in the future.\n",
    "\n",
    "* Approach - To determine the deltas, I calculate the various changes from the Year 1 claims to the Year 2 claims. Using this approach, the claims for Year 2 are the key observations (rather than both Year 1 and Year 2), so the delta columns are features added to the Year 2 claims data. The goal is the predict the DaysInHospital in Year 3.\n",
    "        \n",
    "* Considerations:\n",
    "    * Year 1 to Year 2 deltas can be used to calculate Year 3 Days in Hospital, but Year 1 to Year 2 deltas cannot be used to calculate Year 2 Days in Hospital. Similarly, Year 2 to Year 3 deltas cannot be used to calculate Year 3 DaysInHospital. These erroneous approaches incorporate future data before we would know about it in practice. The question to keep in mind is \"what information can I use to determine the DaysInHospital for _next_ year?\"\n",
    "    * To implement these delta features, I am limited the observations and predictions in Year 2. I have Year 1 to Year 2 deltas, but not 'Year 0' to Year 1 deltas. The only alternative would be to make the values for the 'Year 0' to Year 1 deltas zeros throughout, which seem dubious. Therefore, making predictions for the number of Days In Hospital for the year one claimants is not feasible. However, there are still over 71,000 members submitting claims in Year 2, which provides a substantial sample size. This set up is also very similar to the original Kaggle competition, where Year 3 claims (potentially with Year 2 deltas) were used to predict Year 4 Days In Hospital.\n",
    "    * The point above addresses the macro issue of missing claims for an entire year, but not the micro issue of missing a years worth of claims for a single individual (or a group of individuals). In this dataset, this arises when a Year 2 claimant did not have any claims in Year 1. In this case, the deltas are equal to the Year 2 values because the Year 1 'values' for this patient do not exist and are therefore zero. This is less than ideal but is an accepted weakness of the approach because this is a realistic scenario. In practice, a member in this scenario either submitted zero claims (which a health plan would know and be able to incorporate) or the member joined the health plan recently and has zero claim history. \n"
   ]
  },
  {
   "cell_type": "markdown",
   "metadata": {},
   "source": [
    "__Pivot, separate and subtract Y1 from Y2__"
   ]
  },
  {
   "cell_type": "code",
   "execution_count": 88,
   "metadata": {
    "ExecuteTime": {
     "end_time": "2018-10-25T20:25:46.698380Z",
     "start_time": "2018-10-25T20:25:43.722950Z"
    }
   },
   "outputs": [],
   "source": [
    "deltaCols = dfFinal.columns.values[8:]\n",
    "dfDeltas = pd.pivot_table(data = dfFinal\n",
    "               ,index = ['MemberID']\n",
    "               ,columns = ['Year']\n",
    "               ,values = deltaCols)\n",
    "multiIndex = dfDeltas.columns\n",
    "singleIndex = pd.Index([i[0] + ' ' + i[1] for i in multiIndex.tolist()])\n",
    "dfDeltas.columns = singleIndex\n",
    "dfDeltas.reset_index(inplace = True)\n",
    "dfDeltas.fillna(0, inplace = True)\n"
   ]
  },
  {
   "cell_type": "code",
   "execution_count": 89,
   "metadata": {
    "ExecuteTime": {
     "end_time": "2018-10-25T20:25:46.750345Z",
     "start_time": "2018-10-25T20:25:46.700131Z"
    },
    "scrolled": true
   },
   "outputs": [],
   "source": [
    "y1Cols = [col for col in dfDeltas.columns if 'Y1' in col]\n",
    "y1Cols.append('MemberID')\n",
    "dfDeltasY1 = dfDeltas[y1Cols]\n",
    "dfDeltasY1.set_index('MemberID', inplace = True)\n",
    "simpleCols = [i.split()[0] for i in dfDeltasY1.columns]\n",
    "dfDeltasY1.columns = simpleCols\n"
   ]
  },
  {
   "cell_type": "code",
   "execution_count": 90,
   "metadata": {
    "ExecuteTime": {
     "end_time": "2018-10-25T20:25:46.813204Z",
     "start_time": "2018-10-25T20:25:46.752745Z"
    },
    "scrolled": true
   },
   "outputs": [],
   "source": [
    "y2Cols = [col for col in dfDeltas.columns if 'Y2' in col]\n",
    "y2Cols.append('MemberID')\n",
    "dfDeltasY2 = dfDeltas[y2Cols]\n",
    "dfDeltasY2.set_index('MemberID', inplace = True)\n",
    "simpleCols = [i.split()[0] for i in dfDeltasY2.columns]\n",
    "dfDeltasY2.columns = simpleCols\n"
   ]
  },
  {
   "cell_type": "code",
   "execution_count": 91,
   "metadata": {
    "ExecuteTime": {
     "end_time": "2018-10-25T20:25:46.879817Z",
     "start_time": "2018-10-25T20:25:46.815535Z"
    }
   },
   "outputs": [],
   "source": [
    "dfDeltas = dfDeltasY2.sub(dfDeltasY1)\n",
    "dfDeltas.columns = ['Delta_' + i for i in dfDeltas.columns]\n"
   ]
  },
  {
   "cell_type": "code",
   "execution_count": 92,
   "metadata": {
    "ExecuteTime": {
     "end_time": "2018-10-25T20:25:47.434838Z",
     "start_time": "2018-10-25T20:25:46.881611Z"
    }
   },
   "outputs": [
    {
     "name": "stdout",
     "output_type": "stream",
     "text": [
      "(71435, 205)\n"
     ]
    }
   ],
   "source": [
    "dfFinalY2Delta = pd.merge(dfFinalY2, dfDeltas, left_index = True, right_index = True)\n",
    "dfFinalY2Delta = dfFinalY2Delta.drop(['DaysInHospital','Year'], axis = 1)\n",
    "print(dfFinalY2Delta.shape)\n"
   ]
  },
  {
   "cell_type": "markdown",
   "metadata": {},
   "source": [
    "## Train/test split"
   ]
  },
  {
   "cell_type": "code",
   "execution_count": 93,
   "metadata": {
    "ExecuteTime": {
     "end_time": "2018-10-25T20:26:33.402221Z",
     "start_time": "2018-10-25T20:26:31.939687Z"
    }
   },
   "outputs": [
    {
     "name": "stdout",
     "output_type": "stream",
     "text": [
      "X_train shape: (50004, 204)\n",
      "y_train shape: (50004,)\n",
      "\n",
      "X_test shape: (21431, 204)\n",
      "y_test shape: (21431,)\n"
     ]
    }
   ],
   "source": [
    "X_train, X_test, y_train, y_test, numeric_columns, categorical_columns = splitPrep(dataset = dfFinalY2Delta)\n",
    "\n",
    "print('X_train shape: {0}'.format(X_train.shape))\n",
    "print('y_train shape: {0}\\n'.format(y_train.shape))\n",
    "print('X_test shape: {0}'.format(X_test.shape))\n",
    "print('y_test shape: {0}'.format(y_test.shape))\n"
   ]
  },
  {
   "cell_type": "markdown",
   "metadata": {},
   "source": [
    "# Additional EDA"
   ]
  },
  {
   "cell_type": "markdown",
   "metadata": {},
   "source": [
    "__Feature selection tools__"
   ]
  },
  {
   "cell_type": "code",
   "execution_count": 94,
   "metadata": {
    "ExecuteTime": {
     "end_time": "2018-10-25T20:28:06.234444Z",
     "start_time": "2018-10-25T20:28:06.228708Z"
    },
    "scrolled": true
   },
   "outputs": [],
   "source": [
    "\n",
    "\n",
    "def selectKBestRef(dataFrame, target, k = 5):\n",
    "    featSelector = SelectKBest(f_regression, k = k)\n",
    "    _ = featSelector.fit(dataFrame.drop(target, axis = 1), dataFrame[target])\n",
    "    \n",
    "    featScores = pd.DataFrame()\n",
    "    featScores['F score'] = featSelector.scores_\n",
    "    featScores['P value'] = featSelector.pvalues_\n",
    "    featScores['Support'] = featSelector.get_support()\n",
    "    featScores['Attribute'] = dataFrame.drop(target, axis = 1).columns\n",
    "    \n",
    "    return featScores\n",
    "\n",
    "def indicesOfTopK(arr, k):\n",
    "    return np.sort(np.argpartition(np.array(arr), -k)[-k:])\n",
    "\n",
    "class TopFeatureSelector(BaseEstimator, TransformerMixin):\n",
    "    \n",
    "    \n",
    "    def __init__(self, featureImportance, k):\n",
    "        self.featureImportance = featureImportance\n",
    "        self.k = k\n",
    "    \n",
    "    def fit(self, X, y = None):\n",
    "        self.featureIndices_ = indicesOfTopK(self.featureImportance, self.k)\n",
    "        return self\n",
    "    \n",
    "    def transform(self, X):\n",
    "        return X[:, self.featureIndices_]\n",
    "    "
   ]
  },
  {
   "cell_type": "code",
   "execution_count": 95,
   "metadata": {
    "ExecuteTime": {
     "end_time": "2018-10-25T20:28:28.812500Z",
     "start_time": "2018-10-25T20:28:28.264805Z"
    }
   },
   "outputs": [
    {
     "name": "stdout",
     "output_type": "stream",
     "text": [
      "Feature Score for a linear regression using correlation \n",
      "\n",
      "     F score  P value  Support                                Attribute\n",
      "192 5.433393 0.019759     True                      Delta_min_DrugCount\n",
      "194 5.247394 0.021984     True                       Delta_min_LabCount\n",
      "31  4.440450 0.035102     True        Sum_PrimaryConditionGroup_APPCHOL\n",
      "22  4.045447 0.044296     True             Sum_Specialty_Rehabilitation\n",
      "177 3.656103 0.055870     True       Delta_Sum_Specialty_Rehabilitation\n",
      "94  3.515306 0.060810     True                            min_DrugCount\n",
      "108 3.097268 0.078430     True  Delta_Sum_PrimaryConditionGroup_APPCHOL\n",
      "182 2.934376 0.086718     True                       Delta_avg_LabCount\n",
      "96  2.824003 0.092871     True                         months_DrugCount\n",
      "180 2.432830 0.118825     True                      Delta_avg_DrugCount\n"
     ]
    }
   ],
   "source": [
    "# \n",
    "\n",
    "df = pd.DataFrame(X_train, columns = np.append(numeric_columns,categorical_columns))\n",
    "df['label'] = y_train\n",
    "df['label'].fillna(0, inplace = True)\n",
    "\n",
    "featScores = selectKBestRef(df, 'label', k = 10)\n",
    "\n",
    "featScoresSorted = featScores.sort_values(['F score', 'P value'], ascending = [False, False])\n",
    "print('Feature Score for a linear regression using correlation \\n')\n",
    "print(featScoresSorted[featScoresSorted['Support'] == True][:10])\n",
    "\n",
    "featureFScores = featScores[['F score']].values.flatten()\n"
   ]
  },
  {
   "cell_type": "code",
   "execution_count": 96,
   "metadata": {
    "ExecuteTime": {
     "end_time": "2018-10-25T20:28:40.103829Z",
     "start_time": "2018-10-25T20:28:39.268535Z"
    }
   },
   "outputs": [
    {
     "data": {
      "image/png": "[encoded data removed]",
      "text/plain": [
       "<Figure size 864x576 with 1 Axes>"
      ]
     },
     "metadata": {},
     "output_type": "display_data"
    }
   ],
   "source": [
    "#\n",
    "\n",
    "sortedNames = np.array(featScoresSorted)[:10, 3]\n",
    "sortedImportances = np.array(featScoresSorted)[:10, 0]\n",
    "\n",
    "sns.set(style = 'whitegrid', font_scale = 2)\n",
    "f, ax = plt.subplots(figsize=(12, 8))\n",
    "\n",
    "sns.barplot(x = sortedImportances\n",
    "            ,y = sortedNames\n",
    "            ,orient = 'h'\n",
    "            ,color = '#34495e')\n",
    "\n",
    "#ax.legend(ncol=2, loc=\"lower right\", frameon=True)\n",
    "ax.set(xlim=(0, 6)\n",
    "       ,ylabel = ''\n",
    "       ,xlabel = 'Feature Importance (F-score)')\n",
    "sns.despine(left = True, bottom = True)\n"
   ]
  },
  {
   "cell_type": "markdown",
   "metadata": {},
   "source": [
    ">6 of the top 10 most important features based on F-score are delta column. Leading the group are Delta_min_DrugCount and Delta_min_LabCount, which suggest that changes in the minimum number of labs and drugs received from year to year are related to Days In Hospital. Directionality cannot be drawn directly from the F-score, but intuitively one would assume that patients with increasing minimums are spending more time in the hospital the following year, while patients with decreasing minimums are spending less time in the hospital the following year"
   ]
  },
  {
   "cell_type": "markdown",
   "metadata": {},
   "source": [
    "# Build models"
   ]
  },
  {
   "cell_type": "markdown",
   "metadata": {},
   "source": [
    "## Define models, parameter grid"
   ]
  },
  {
   "cell_type": "code",
   "execution_count": 97,
   "metadata": {
    "ExecuteTime": {
     "end_time": "2018-10-25T20:32:28.061827Z",
     "start_time": "2018-10-25T20:32:28.038614Z"
    }
   },
   "outputs": [],
   "source": [
    "models = {\n",
    "    'Lasso' : Lasso()\n",
    "    ,'Ridge' : Ridge()\n",
    "    ,'AdaBoostRegressor': AdaBoostRegressor()\n",
    "    ,'GradientBoostingRegressor': GradientBoostingRegressor()\n",
    "    ,'RandomForestRegressor': RandomForestRegressor()\n",
    "    ,'XGBoost' : XGBRegressor()\n",
    "}\n",
    "\n",
    "params = {\n",
    "        'Lasso': {\n",
    "                                'alpha': np.arange(1e-6, 1000, 0.05)\n",
    "                                }\n",
    "        ,'Ridge': {\n",
    "                                'alpha': np.arange(1e-6, 1000, 0.05)\n",
    "                                }\n",
    "        ,'AdaBoostRegressor':  {\n",
    "                                'n_estimators': np.arange(200, 2000, 100)\n",
    "                                }\n",
    "        ,'GradientBoostingRegressor': {\n",
    "                                'n_estimators': np.arange(200, 2000, 100)\n",
    "                                ,'max_features' : ['auto', 'sqrt']\n",
    "                                ,'max_depth': np.arange(2, 10, 2)\n",
    "                                ,'min_samples_split': np.arange(2, 40, 2)\n",
    "                                ,'min_samples_leaf': np.arange(2, 40, 2)\n",
    "                                }\n",
    "        ,'RandomForestRegressor' : {\n",
    "                                'n_estimators': np.arange(200, 2000, 100)\n",
    "                                ,'max_features' : ['auto', 'sqrt']\n",
    "                                ,'max_depth': np.arange(2, 10, 2)\n",
    "                                ,'min_samples_split': np.arange(2, 40, 2)\n",
    "                                ,'min_samples_leaf': np.arange(2, 40, 2)\n",
    "                                ,'bootstrap': [True, False]\n",
    "                                }\n",
    "        ,'XGBoost' : {\n",
    "                                'n_estimators': np.arange(200, 2000, 100)                    \n",
    "                                ,'max_depth' : range(2, 10, 2)\n",
    "                                ,'min_child_weight' : range(1, 6, 2)\n",
    "                                ,'gamma' : [i / 10.0 for i in range(0, 6)]\n",
    "                                ,'subsample' : [i /10.0 for i in range(6, 10)]\n",
    "                                ,'colsample_bytree' : [i / 10.0 for i in range(6, 10)]\n",
    "                                ,'reg_lambda' : [1e-5, 1e-2, 0.1, 1, 100]\n",
    "        }\n",
    "}\n"
   ]
  },
  {
   "cell_type": "markdown",
   "metadata": {},
   "source": [
    "## Model selection - RandomizedSearchCV"
   ]
  },
  {
   "cell_type": "code",
   "execution_count": null,
   "metadata": {
    "ExecuteTime": {
     "end_time": "2018-07-24T17:32:43.557415Z",
     "start_time": "2018-07-23T02:48:59.620078Z"
    },
    "scrolled": true
   },
   "outputs": [],
   "source": [
    "helper = EstimatorSelectionHelper(models, params)\n",
    "\n",
    "gridSearch = helper.fitRgs(X_train\n",
    "                ,y_train\n",
    "                ,n_iter = 10\n",
    "                ,verbose = 4\n",
    "                ,scoring = 'neg_mean_squared_error')\n"
   ]
  },
  {
   "cell_type": "markdown",
   "metadata": {},
   "source": [
    ">Final phase updates - Increased n_iter to 10. Increased KFold to 5 (in the code for the Class defined above)."
   ]
  },
  {
   "cell_type": "markdown",
   "metadata": {},
   "source": [
    "__CV results__"
   ]
  },
  {
   "cell_type": "code",
   "execution_count": 34,
   "metadata": {
    "ExecuteTime": {
     "end_time": "2018-07-24T17:56:28.296034Z",
     "start_time": "2018-07-24T17:56:28.175066Z"
    },
    "scrolled": true
   },
   "outputs": [
    {
     "data": {
      "text/html": [
       "<div>\n",
       "<style scoped>\n",
       "    .dataframe tbody tr th:only-of-type {\n",
       "        vertical-align: middle;\n",
       "    }\n",
       "\n",
       "    .dataframe tbody tr th {\n",
       "        vertical-align: top;\n",
       "    }\n",
       "\n",
       "    .dataframe thead th {\n",
       "        text-align: right;\n",
       "    }\n",
       "</style>\n",
       "<table border=\"1\" class=\"dataframe\">\n",
       "  <thead>\n",
       "    <tr style=\"text-align: right;\">\n",
       "      <th></th>\n",
       "      <th>estimator</th>\n",
       "      <th>min_score</th>\n",
       "      <th>mean_score</th>\n",
       "      <th>max_score</th>\n",
       "      <th>std_score</th>\n",
       "      <th>alpha</th>\n",
       "      <th>bootstrap</th>\n",
       "      <th>colsample_bytree</th>\n",
       "      <th>gamma</th>\n",
       "      <th>max_depth</th>\n",
       "      <th>max_features</th>\n",
       "      <th>min_child_weight</th>\n",
       "      <th>min_samples_leaf</th>\n",
       "      <th>min_samples_split</th>\n",
       "      <th>n_estimators</th>\n",
       "      <th>reg_lambda</th>\n",
       "      <th>subsample</th>\n",
       "    </tr>\n",
       "  </thead>\n",
       "  <tbody>\n",
       "    <tr>\n",
       "      <th>41</th>\n",
       "      <td>RandomForestRegressor</td>\n",
       "      <td>0.455356</td>\n",
       "      <td>0.450158</td>\n",
       "      <td>0.441305</td>\n",
       "      <td>0.004922</td>\n",
       "      <td></td>\n",
       "      <td>True</td>\n",
       "      <td></td>\n",
       "      <td></td>\n",
       "      <td>8</td>\n",
       "      <td>auto</td>\n",
       "      <td></td>\n",
       "      <td>26</td>\n",
       "      <td>18</td>\n",
       "      <td>800</td>\n",
       "      <td></td>\n",
       "      <td></td>\n",
       "    </tr>\n",
       "    <tr>\n",
       "      <th>31</th>\n",
       "      <td>GradientBoostingRegressor</td>\n",
       "      <td>0.457348</td>\n",
       "      <td>0.451600</td>\n",
       "      <td>0.442015</td>\n",
       "      <td>0.005345</td>\n",
       "      <td></td>\n",
       "      <td></td>\n",
       "      <td></td>\n",
       "      <td></td>\n",
       "      <td>4</td>\n",
       "      <td>sqrt</td>\n",
       "      <td></td>\n",
       "      <td>34</td>\n",
       "      <td>18</td>\n",
       "      <td>700</td>\n",
       "      <td></td>\n",
       "      <td></td>\n",
       "    </tr>\n",
       "    <tr>\n",
       "      <th>37</th>\n",
       "      <td>GradientBoostingRegressor</td>\n",
       "      <td>0.459362</td>\n",
       "      <td>0.452974</td>\n",
       "      <td>0.441853</td>\n",
       "      <td>0.005949</td>\n",
       "      <td></td>\n",
       "      <td></td>\n",
       "      <td></td>\n",
       "      <td></td>\n",
       "      <td>2</td>\n",
       "      <td>auto</td>\n",
       "      <td></td>\n",
       "      <td>12</td>\n",
       "      <td>38</td>\n",
       "      <td>1100</td>\n",
       "      <td></td>\n",
       "      <td></td>\n",
       "    </tr>\n",
       "    <tr>\n",
       "      <th>57</th>\n",
       "      <td>XGBoost</td>\n",
       "      <td>0.459447</td>\n",
       "      <td>0.454000</td>\n",
       "      <td>0.443594</td>\n",
       "      <td>0.005543</td>\n",
       "      <td></td>\n",
       "      <td></td>\n",
       "      <td>0.700000</td>\n",
       "      <td>0.400000</td>\n",
       "      <td>2</td>\n",
       "      <td></td>\n",
       "      <td>5</td>\n",
       "      <td></td>\n",
       "      <td></td>\n",
       "      <td>1100</td>\n",
       "      <td>1</td>\n",
       "      <td>0.800000</td>\n",
       "    </tr>\n",
       "    <tr>\n",
       "      <th>17</th>\n",
       "      <td>Ridge</td>\n",
       "      <td>0.461027</td>\n",
       "      <td>0.454524</td>\n",
       "      <td>0.444410</td>\n",
       "      <td>0.006032</td>\n",
       "      <td>340.150001</td>\n",
       "      <td></td>\n",
       "      <td></td>\n",
       "      <td></td>\n",
       "      <td></td>\n",
       "      <td></td>\n",
       "      <td></td>\n",
       "      <td></td>\n",
       "      <td></td>\n",
       "      <td></td>\n",
       "      <td></td>\n",
       "      <td></td>\n",
       "    </tr>\n",
       "    <tr>\n",
       "      <th>16</th>\n",
       "      <td>Ridge</td>\n",
       "      <td>0.461031</td>\n",
       "      <td>0.454524</td>\n",
       "      <td>0.444429</td>\n",
       "      <td>0.006025</td>\n",
       "      <td>436.350001</td>\n",
       "      <td></td>\n",
       "      <td></td>\n",
       "      <td></td>\n",
       "      <td></td>\n",
       "      <td></td>\n",
       "      <td></td>\n",
       "      <td></td>\n",
       "      <td></td>\n",
       "      <td></td>\n",
       "      <td></td>\n",
       "      <td></td>\n",
       "    </tr>\n",
       "    <tr>\n",
       "      <th>11</th>\n",
       "      <td>Ridge</td>\n",
       "      <td>0.461047</td>\n",
       "      <td>0.454535</td>\n",
       "      <td>0.444455</td>\n",
       "      <td>0.006019</td>\n",
       "      <td>556.600001</td>\n",
       "      <td></td>\n",
       "      <td></td>\n",
       "      <td></td>\n",
       "      <td></td>\n",
       "      <td></td>\n",
       "      <td></td>\n",
       "      <td></td>\n",
       "      <td></td>\n",
       "      <td></td>\n",
       "      <td></td>\n",
       "      <td></td>\n",
       "    </tr>\n",
       "    <tr>\n",
       "      <th>13</th>\n",
       "      <td>Ridge</td>\n",
       "      <td>0.461063</td>\n",
       "      <td>0.454546</td>\n",
       "      <td>0.444475</td>\n",
       "      <td>0.006015</td>\n",
       "      <td>635.700001</td>\n",
       "      <td></td>\n",
       "      <td></td>\n",
       "      <td></td>\n",
       "      <td></td>\n",
       "      <td></td>\n",
       "      <td></td>\n",
       "      <td></td>\n",
       "      <td></td>\n",
       "      <td></td>\n",
       "      <td></td>\n",
       "      <td></td>\n",
       "    </tr>\n",
       "    <tr>\n",
       "      <th>15</th>\n",
       "      <td>Ridge</td>\n",
       "      <td>0.461065</td>\n",
       "      <td>0.454548</td>\n",
       "      <td>0.444477</td>\n",
       "      <td>0.006015</td>\n",
       "      <td>645.000001</td>\n",
       "      <td></td>\n",
       "      <td></td>\n",
       "      <td></td>\n",
       "      <td></td>\n",
       "      <td></td>\n",
       "      <td></td>\n",
       "      <td></td>\n",
       "      <td></td>\n",
       "      <td></td>\n",
       "      <td></td>\n",
       "      <td></td>\n",
       "    </tr>\n",
       "    <tr>\n",
       "      <th>18</th>\n",
       "      <td>Ridge</td>\n",
       "      <td>0.461091</td>\n",
       "      <td>0.454568</td>\n",
       "      <td>0.444504</td>\n",
       "      <td>0.006011</td>\n",
       "      <td>750.000001</td>\n",
       "      <td></td>\n",
       "      <td></td>\n",
       "      <td></td>\n",
       "      <td></td>\n",
       "      <td></td>\n",
       "      <td></td>\n",
       "      <td></td>\n",
       "      <td></td>\n",
       "      <td></td>\n",
       "      <td></td>\n",
       "      <td></td>\n",
       "    </tr>\n",
       "    <tr>\n",
       "      <th>10</th>\n",
       "      <td>Ridge</td>\n",
       "      <td>0.461075</td>\n",
       "      <td>0.454574</td>\n",
       "      <td>0.444381</td>\n",
       "      <td>0.006052</td>\n",
       "      <td>108.600001</td>\n",
       "      <td></td>\n",
       "      <td></td>\n",
       "      <td></td>\n",
       "      <td></td>\n",
       "      <td></td>\n",
       "      <td></td>\n",
       "      <td></td>\n",
       "      <td></td>\n",
       "      <td></td>\n",
       "      <td></td>\n",
       "      <td></td>\n",
       "    </tr>\n",
       "    <tr>\n",
       "      <th>12</th>\n",
       "      <td>Ridge</td>\n",
       "      <td>0.461114</td>\n",
       "      <td>0.454585</td>\n",
       "      <td>0.444526</td>\n",
       "      <td>0.006008</td>\n",
       "      <td>830.400001</td>\n",
       "      <td></td>\n",
       "      <td></td>\n",
       "      <td></td>\n",
       "      <td></td>\n",
       "      <td></td>\n",
       "      <td></td>\n",
       "      <td></td>\n",
       "      <td></td>\n",
       "      <td></td>\n",
       "      <td></td>\n",
       "      <td></td>\n",
       "    </tr>\n",
       "    <tr>\n",
       "      <th>14</th>\n",
       "      <td>Ridge</td>\n",
       "      <td>0.461118</td>\n",
       "      <td>0.454588</td>\n",
       "      <td>0.444530</td>\n",
       "      <td>0.006007</td>\n",
       "      <td>843.700001</td>\n",
       "      <td></td>\n",
       "      <td></td>\n",
       "      <td></td>\n",
       "      <td></td>\n",
       "      <td></td>\n",
       "      <td></td>\n",
       "      <td></td>\n",
       "      <td></td>\n",
       "      <td></td>\n",
       "      <td></td>\n",
       "      <td></td>\n",
       "    </tr>\n",
       "    <tr>\n",
       "      <th>19</th>\n",
       "      <td>Ridge</td>\n",
       "      <td>0.461151</td>\n",
       "      <td>0.454615</td>\n",
       "      <td>0.444561</td>\n",
       "      <td>0.006004</td>\n",
       "      <td>952.800001</td>\n",
       "      <td></td>\n",
       "      <td></td>\n",
       "      <td></td>\n",
       "      <td></td>\n",
       "      <td></td>\n",
       "      <td></td>\n",
       "      <td></td>\n",
       "      <td></td>\n",
       "      <td></td>\n",
       "      <td></td>\n",
       "      <td></td>\n",
       "    </tr>\n",
       "    <tr>\n",
       "      <th>34</th>\n",
       "      <td>GradientBoostingRegressor</td>\n",
       "      <td>0.460466</td>\n",
       "      <td>0.454719</td>\n",
       "      <td>0.445231</td>\n",
       "      <td>0.005371</td>\n",
       "      <td></td>\n",
       "      <td></td>\n",
       "      <td></td>\n",
       "      <td></td>\n",
       "      <td>6</td>\n",
       "      <td>sqrt</td>\n",
       "      <td></td>\n",
       "      <td>36</td>\n",
       "      <td>28</td>\n",
       "      <td>700</td>\n",
       "      <td></td>\n",
       "      <td></td>\n",
       "    </tr>\n",
       "    <tr>\n",
       "      <th>40</th>\n",
       "      <td>RandomForestRegressor</td>\n",
       "      <td>0.461529</td>\n",
       "      <td>0.455049</td>\n",
       "      <td>0.445969</td>\n",
       "      <td>0.005232</td>\n",
       "      <td></td>\n",
       "      <td>False</td>\n",
       "      <td></td>\n",
       "      <td></td>\n",
       "      <td>8</td>\n",
       "      <td>sqrt</td>\n",
       "      <td></td>\n",
       "      <td>6</td>\n",
       "      <td>32</td>\n",
       "      <td>1600</td>\n",
       "      <td></td>\n",
       "      <td></td>\n",
       "    </tr>\n",
       "    <tr>\n",
       "      <th>39</th>\n",
       "      <td>GradientBoostingRegressor</td>\n",
       "      <td>0.461098</td>\n",
       "      <td>0.455132</td>\n",
       "      <td>0.445841</td>\n",
       "      <td>0.005869</td>\n",
       "      <td></td>\n",
       "      <td></td>\n",
       "      <td></td>\n",
       "      <td></td>\n",
       "      <td>8</td>\n",
       "      <td>auto</td>\n",
       "      <td></td>\n",
       "      <td>16</td>\n",
       "      <td>16</td>\n",
       "      <td>200</td>\n",
       "      <td></td>\n",
       "      <td></td>\n",
       "    </tr>\n",
       "    <tr>\n",
       "      <th>33</th>\n",
       "      <td>GradientBoostingRegressor</td>\n",
       "      <td>0.460955</td>\n",
       "      <td>0.455939</td>\n",
       "      <td>0.447049</td>\n",
       "      <td>0.005088</td>\n",
       "      <td></td>\n",
       "      <td></td>\n",
       "      <td></td>\n",
       "      <td></td>\n",
       "      <td>6</td>\n",
       "      <td>sqrt</td>\n",
       "      <td></td>\n",
       "      <td>4</td>\n",
       "      <td>14</td>\n",
       "      <td>600</td>\n",
       "      <td></td>\n",
       "      <td></td>\n",
       "    </tr>\n",
       "    <tr>\n",
       "      <th>30</th>\n",
       "      <td>GradientBoostingRegressor</td>\n",
       "      <td>0.463925</td>\n",
       "      <td>0.456713</td>\n",
       "      <td>0.448948</td>\n",
       "      <td>0.005319</td>\n",
       "      <td></td>\n",
       "      <td></td>\n",
       "      <td></td>\n",
       "      <td></td>\n",
       "      <td>8</td>\n",
       "      <td>sqrt</td>\n",
       "      <td></td>\n",
       "      <td>18</td>\n",
       "      <td>38</td>\n",
       "      <td>600</td>\n",
       "      <td></td>\n",
       "      <td></td>\n",
       "    </tr>\n",
       "    <tr>\n",
       "      <th>38</th>\n",
       "      <td>GradientBoostingRegressor</td>\n",
       "      <td>0.462826</td>\n",
       "      <td>0.456819</td>\n",
       "      <td>0.448158</td>\n",
       "      <td>0.005034</td>\n",
       "      <td></td>\n",
       "      <td></td>\n",
       "      <td></td>\n",
       "      <td></td>\n",
       "      <td>4</td>\n",
       "      <td>auto</td>\n",
       "      <td></td>\n",
       "      <td>30</td>\n",
       "      <td>24</td>\n",
       "      <td>1100</td>\n",
       "      <td></td>\n",
       "      <td></td>\n",
       "    </tr>\n",
       "    <tr>\n",
       "      <th>46</th>\n",
       "      <td>RandomForestRegressor</td>\n",
       "      <td>0.463540</td>\n",
       "      <td>0.457013</td>\n",
       "      <td>0.447776</td>\n",
       "      <td>0.005348</td>\n",
       "      <td></td>\n",
       "      <td>False</td>\n",
       "      <td></td>\n",
       "      <td></td>\n",
       "      <td>6</td>\n",
       "      <td>sqrt</td>\n",
       "      <td></td>\n",
       "      <td>38</td>\n",
       "      <td>20</td>\n",
       "      <td>1500</td>\n",
       "      <td></td>\n",
       "      <td></td>\n",
       "    </tr>\n",
       "    <tr>\n",
       "      <th>47</th>\n",
       "      <td>RandomForestRegressor</td>\n",
       "      <td>0.463753</td>\n",
       "      <td>0.457040</td>\n",
       "      <td>0.447843</td>\n",
       "      <td>0.005337</td>\n",
       "      <td></td>\n",
       "      <td>False</td>\n",
       "      <td></td>\n",
       "      <td></td>\n",
       "      <td>6</td>\n",
       "      <td>sqrt</td>\n",
       "      <td></td>\n",
       "      <td>32</td>\n",
       "      <td>14</td>\n",
       "      <td>700</td>\n",
       "      <td></td>\n",
       "      <td></td>\n",
       "    </tr>\n",
       "    <tr>\n",
       "      <th>42</th>\n",
       "      <td>RandomForestRegressor</td>\n",
       "      <td>0.463844</td>\n",
       "      <td>0.457046</td>\n",
       "      <td>0.447730</td>\n",
       "      <td>0.005428</td>\n",
       "      <td></td>\n",
       "      <td>False</td>\n",
       "      <td></td>\n",
       "      <td></td>\n",
       "      <td>6</td>\n",
       "      <td>sqrt</td>\n",
       "      <td></td>\n",
       "      <td>12</td>\n",
       "      <td>36</td>\n",
       "      <td>500</td>\n",
       "      <td></td>\n",
       "      <td></td>\n",
       "    </tr>\n",
       "    <tr>\n",
       "      <th>48</th>\n",
       "      <td>RandomForestRegressor</td>\n",
       "      <td>0.463706</td>\n",
       "      <td>0.457154</td>\n",
       "      <td>0.447964</td>\n",
       "      <td>0.005331</td>\n",
       "      <td></td>\n",
       "      <td>True</td>\n",
       "      <td></td>\n",
       "      <td></td>\n",
       "      <td>6</td>\n",
       "      <td>sqrt</td>\n",
       "      <td></td>\n",
       "      <td>28</td>\n",
       "      <td>10</td>\n",
       "      <td>600</td>\n",
       "      <td></td>\n",
       "      <td></td>\n",
       "    </tr>\n",
       "    <tr>\n",
       "      <th>55</th>\n",
       "      <td>XGBoost</td>\n",
       "      <td>0.462581</td>\n",
       "      <td>0.457218</td>\n",
       "      <td>0.447402</td>\n",
       "      <td>0.005272</td>\n",
       "      <td></td>\n",
       "      <td></td>\n",
       "      <td>0.900000</td>\n",
       "      <td>0.400000</td>\n",
       "      <td>2</td>\n",
       "      <td></td>\n",
       "      <td>5</td>\n",
       "      <td></td>\n",
       "      <td></td>\n",
       "      <td>1700</td>\n",
       "      <td>0.100000</td>\n",
       "      <td>0.700000</td>\n",
       "    </tr>\n",
       "    <tr>\n",
       "      <th>49</th>\n",
       "      <td>RandomForestRegressor</td>\n",
       "      <td>0.464097</td>\n",
       "      <td>0.457241</td>\n",
       "      <td>0.447979</td>\n",
       "      <td>0.005426</td>\n",
       "      <td></td>\n",
       "      <td>True</td>\n",
       "      <td></td>\n",
       "      <td></td>\n",
       "      <td>6</td>\n",
       "      <td>sqrt</td>\n",
       "      <td></td>\n",
       "      <td>20</td>\n",
       "      <td>22</td>\n",
       "      <td>600</td>\n",
       "      <td></td>\n",
       "      <td></td>\n",
       "    </tr>\n",
       "    <tr>\n",
       "      <th>36</th>\n",
       "      <td>GradientBoostingRegressor</td>\n",
       "      <td>0.463479</td>\n",
       "      <td>0.457381</td>\n",
       "      <td>0.445604</td>\n",
       "      <td>0.006067</td>\n",
       "      <td></td>\n",
       "      <td></td>\n",
       "      <td></td>\n",
       "      <td></td>\n",
       "      <td>8</td>\n",
       "      <td>sqrt</td>\n",
       "      <td></td>\n",
       "      <td>4</td>\n",
       "      <td>36</td>\n",
       "      <td>500</td>\n",
       "      <td></td>\n",
       "      <td></td>\n",
       "    </tr>\n",
       "    <tr>\n",
       "      <th>52</th>\n",
       "      <td>XGBoost</td>\n",
       "      <td>0.463611</td>\n",
       "      <td>0.457511</td>\n",
       "      <td>0.447388</td>\n",
       "      <td>0.005702</td>\n",
       "      <td></td>\n",
       "      <td></td>\n",
       "      <td>0.700000</td>\n",
       "      <td>0.500000</td>\n",
       "      <td>4</td>\n",
       "      <td></td>\n",
       "      <td>5</td>\n",
       "      <td></td>\n",
       "      <td></td>\n",
       "      <td>500</td>\n",
       "      <td>0.100000</td>\n",
       "      <td>0.600000</td>\n",
       "    </tr>\n",
       "    <tr>\n",
       "      <th>50</th>\n",
       "      <td>XGBoost</td>\n",
       "      <td>0.463605</td>\n",
       "      <td>0.457951</td>\n",
       "      <td>0.447760</td>\n",
       "      <td>0.005523</td>\n",
       "      <td></td>\n",
       "      <td></td>\n",
       "      <td>0.600000</td>\n",
       "      <td>0.100000</td>\n",
       "      <td>6</td>\n",
       "      <td></td>\n",
       "      <td>5</td>\n",
       "      <td></td>\n",
       "      <td></td>\n",
       "      <td>300</td>\n",
       "      <td>0.100000</td>\n",
       "      <td>0.600000</td>\n",
       "    </tr>\n",
       "    <tr>\n",
       "      <th>59</th>\n",
       "      <td>XGBoost</td>\n",
       "      <td>0.468646</td>\n",
       "      <td>0.461675</td>\n",
       "      <td>0.453215</td>\n",
       "      <td>0.005783</td>\n",
       "      <td></td>\n",
       "      <td></td>\n",
       "      <td>0.600000</td>\n",
       "      <td>0.300000</td>\n",
       "      <td>8</td>\n",
       "      <td></td>\n",
       "      <td>5</td>\n",
       "      <td></td>\n",
       "      <td></td>\n",
       "      <td>500</td>\n",
       "      <td>0.000010</td>\n",
       "      <td>0.900000</td>\n",
       "    </tr>\n",
       "    <tr>\n",
       "      <th>45</th>\n",
       "      <td>RandomForestRegressor</td>\n",
       "      <td>0.469366</td>\n",
       "      <td>0.462700</td>\n",
       "      <td>0.453366</td>\n",
       "      <td>0.005412</td>\n",
       "      <td></td>\n",
       "      <td>True</td>\n",
       "      <td></td>\n",
       "      <td></td>\n",
       "      <td>2</td>\n",
       "      <td>auto</td>\n",
       "      <td></td>\n",
       "      <td>38</td>\n",
       "      <td>30</td>\n",
       "      <td>700</td>\n",
       "      <td></td>\n",
       "      <td></td>\n",
       "    </tr>\n",
       "    <tr>\n",
       "      <th>32</th>\n",
       "      <td>GradientBoostingRegressor</td>\n",
       "      <td>0.469963</td>\n",
       "      <td>0.463866</td>\n",
       "      <td>0.455570</td>\n",
       "      <td>0.004867</td>\n",
       "      <td></td>\n",
       "      <td></td>\n",
       "      <td></td>\n",
       "      <td></td>\n",
       "      <td>6</td>\n",
       "      <td>auto</td>\n",
       "      <td></td>\n",
       "      <td>32</td>\n",
       "      <td>34</td>\n",
       "      <td>1400</td>\n",
       "      <td></td>\n",
       "      <td></td>\n",
       "    </tr>\n",
       "    <tr>\n",
       "      <th>44</th>\n",
       "      <td>RandomForestRegressor</td>\n",
       "      <td>0.472173</td>\n",
       "      <td>0.464133</td>\n",
       "      <td>0.454343</td>\n",
       "      <td>0.005839</td>\n",
       "      <td></td>\n",
       "      <td>True</td>\n",
       "      <td></td>\n",
       "      <td></td>\n",
       "      <td>2</td>\n",
       "      <td>sqrt</td>\n",
       "      <td></td>\n",
       "      <td>26</td>\n",
       "      <td>2</td>\n",
       "      <td>1400</td>\n",
       "      <td></td>\n",
       "      <td></td>\n",
       "    </tr>\n",
       "    <tr>\n",
       "      <th>51</th>\n",
       "      <td>XGBoost</td>\n",
       "      <td>0.471986</td>\n",
       "      <td>0.464139</td>\n",
       "      <td>0.453345</td>\n",
       "      <td>0.006160</td>\n",
       "      <td></td>\n",
       "      <td></td>\n",
       "      <td>0.700000</td>\n",
       "      <td>0.300000</td>\n",
       "      <td>4</td>\n",
       "      <td></td>\n",
       "      <td>3</td>\n",
       "      <td></td>\n",
       "      <td></td>\n",
       "      <td>1000</td>\n",
       "      <td>0.010000</td>\n",
       "      <td>0.600000</td>\n",
       "    </tr>\n",
       "    <tr>\n",
       "      <th>43</th>\n",
       "      <td>RandomForestRegressor</td>\n",
       "      <td>0.470959</td>\n",
       "      <td>0.464938</td>\n",
       "      <td>0.456803</td>\n",
       "      <td>0.004899</td>\n",
       "      <td></td>\n",
       "      <td>False</td>\n",
       "      <td></td>\n",
       "      <td></td>\n",
       "      <td>8</td>\n",
       "      <td>auto</td>\n",
       "      <td></td>\n",
       "      <td>18</td>\n",
       "      <td>24</td>\n",
       "      <td>700</td>\n",
       "      <td></td>\n",
       "      <td></td>\n",
       "    </tr>\n",
       "    <tr>\n",
       "      <th>58</th>\n",
       "      <td>XGBoost</td>\n",
       "      <td>0.471861</td>\n",
       "      <td>0.464978</td>\n",
       "      <td>0.455886</td>\n",
       "      <td>0.005501</td>\n",
       "      <td></td>\n",
       "      <td></td>\n",
       "      <td>0.900000</td>\n",
       "      <td>0.200000</td>\n",
       "      <td>8</td>\n",
       "      <td></td>\n",
       "      <td>5</td>\n",
       "      <td></td>\n",
       "      <td></td>\n",
       "      <td>600</td>\n",
       "      <td>0.000010</td>\n",
       "      <td>0.900000</td>\n",
       "    </tr>\n",
       "    <tr>\n",
       "      <th>53</th>\n",
       "      <td>XGBoost</td>\n",
       "      <td>0.476691</td>\n",
       "      <td>0.468702</td>\n",
       "      <td>0.460107</td>\n",
       "      <td>0.006091</td>\n",
       "      <td></td>\n",
       "      <td></td>\n",
       "      <td>0.600000</td>\n",
       "      <td>0.000000</td>\n",
       "      <td>6</td>\n",
       "      <td></td>\n",
       "      <td>3</td>\n",
       "      <td></td>\n",
       "      <td></td>\n",
       "      <td>1500</td>\n",
       "      <td>1</td>\n",
       "      <td>0.800000</td>\n",
       "    </tr>\n",
       "    <tr>\n",
       "      <th>56</th>\n",
       "      <td>XGBoost</td>\n",
       "      <td>0.474890</td>\n",
       "      <td>0.468786</td>\n",
       "      <td>0.460320</td>\n",
       "      <td>0.005573</td>\n",
       "      <td></td>\n",
       "      <td></td>\n",
       "      <td>0.800000</td>\n",
       "      <td>0.400000</td>\n",
       "      <td>6</td>\n",
       "      <td></td>\n",
       "      <td>5</td>\n",
       "      <td></td>\n",
       "      <td></td>\n",
       "      <td>1800</td>\n",
       "      <td>0.010000</td>\n",
       "      <td>0.800000</td>\n",
       "    </tr>\n",
       "    <tr>\n",
       "      <th>35</th>\n",
       "      <td>GradientBoostingRegressor</td>\n",
       "      <td>0.477463</td>\n",
       "      <td>0.470326</td>\n",
       "      <td>0.463315</td>\n",
       "      <td>0.004800</td>\n",
       "      <td></td>\n",
       "      <td></td>\n",
       "      <td></td>\n",
       "      <td></td>\n",
       "      <td>8</td>\n",
       "      <td>auto</td>\n",
       "      <td></td>\n",
       "      <td>12</td>\n",
       "      <td>36</td>\n",
       "      <td>1500</td>\n",
       "      <td></td>\n",
       "      <td></td>\n",
       "    </tr>\n",
       "    <tr>\n",
       "      <th>54</th>\n",
       "      <td>XGBoost</td>\n",
       "      <td>0.478448</td>\n",
       "      <td>0.473412</td>\n",
       "      <td>0.466477</td>\n",
       "      <td>0.004132</td>\n",
       "      <td></td>\n",
       "      <td></td>\n",
       "      <td>0.600000</td>\n",
       "      <td>0.000000</td>\n",
       "      <td>6</td>\n",
       "      <td></td>\n",
       "      <td>1</td>\n",
       "      <td></td>\n",
       "      <td></td>\n",
       "      <td>1200</td>\n",
       "      <td>0.100000</td>\n",
       "      <td>0.800000</td>\n",
       "    </tr>\n",
       "    <tr>\n",
       "      <th>4</th>\n",
       "      <td>Lasso</td>\n",
       "      <td>0.485088</td>\n",
       "      <td>0.475781</td>\n",
       "      <td>0.465446</td>\n",
       "      <td>0.006281</td>\n",
       "      <td>88.750001</td>\n",
       "      <td></td>\n",
       "      <td></td>\n",
       "      <td></td>\n",
       "      <td></td>\n",
       "      <td></td>\n",
       "      <td></td>\n",
       "      <td></td>\n",
       "      <td></td>\n",
       "      <td></td>\n",
       "      <td></td>\n",
       "      <td></td>\n",
       "    </tr>\n",
       "    <tr>\n",
       "      <th>8</th>\n",
       "      <td>Lasso</td>\n",
       "      <td>0.485088</td>\n",
       "      <td>0.475781</td>\n",
       "      <td>0.465446</td>\n",
       "      <td>0.006281</td>\n",
       "      <td>170.600001</td>\n",
       "      <td></td>\n",
       "      <td></td>\n",
       "      <td></td>\n",
       "      <td></td>\n",
       "      <td></td>\n",
       "      <td></td>\n",
       "      <td></td>\n",
       "      <td></td>\n",
       "      <td></td>\n",
       "      <td></td>\n",
       "      <td></td>\n",
       "    </tr>\n",
       "    <tr>\n",
       "      <th>5</th>\n",
       "      <td>Lasso</td>\n",
       "      <td>0.485088</td>\n",
       "      <td>0.475781</td>\n",
       "      <td>0.465446</td>\n",
       "      <td>0.006281</td>\n",
       "      <td>432.750001</td>\n",
       "      <td></td>\n",
       "      <td></td>\n",
       "      <td></td>\n",
       "      <td></td>\n",
       "      <td></td>\n",
       "      <td></td>\n",
       "      <td></td>\n",
       "      <td></td>\n",
       "      <td></td>\n",
       "      <td></td>\n",
       "      <td></td>\n",
       "    </tr>\n",
       "    <tr>\n",
       "      <th>3</th>\n",
       "      <td>Lasso</td>\n",
       "      <td>0.485088</td>\n",
       "      <td>0.475781</td>\n",
       "      <td>0.465446</td>\n",
       "      <td>0.006281</td>\n",
       "      <td>427.000001</td>\n",
       "      <td></td>\n",
       "      <td></td>\n",
       "      <td></td>\n",
       "      <td></td>\n",
       "      <td></td>\n",
       "      <td></td>\n",
       "      <td></td>\n",
       "      <td></td>\n",
       "      <td></td>\n",
       "      <td></td>\n",
       "      <td></td>\n",
       "    </tr>\n",
       "    <tr>\n",
       "      <th>2</th>\n",
       "      <td>Lasso</td>\n",
       "      <td>0.485088</td>\n",
       "      <td>0.475781</td>\n",
       "      <td>0.465446</td>\n",
       "      <td>0.006281</td>\n",
       "      <td>102.500001</td>\n",
       "      <td></td>\n",
       "      <td></td>\n",
       "      <td></td>\n",
       "      <td></td>\n",
       "      <td></td>\n",
       "      <td></td>\n",
       "      <td></td>\n",
       "      <td></td>\n",
       "      <td></td>\n",
       "      <td></td>\n",
       "      <td></td>\n",
       "    </tr>\n",
       "    <tr>\n",
       "      <th>6</th>\n",
       "      <td>Lasso</td>\n",
       "      <td>0.485088</td>\n",
       "      <td>0.475781</td>\n",
       "      <td>0.465446</td>\n",
       "      <td>0.006281</td>\n",
       "      <td>449.300001</td>\n",
       "      <td></td>\n",
       "      <td></td>\n",
       "      <td></td>\n",
       "      <td></td>\n",
       "      <td></td>\n",
       "      <td></td>\n",
       "      <td></td>\n",
       "      <td></td>\n",
       "      <td></td>\n",
       "      <td></td>\n",
       "      <td></td>\n",
       "    </tr>\n",
       "    <tr>\n",
       "      <th>7</th>\n",
       "      <td>Lasso</td>\n",
       "      <td>0.485088</td>\n",
       "      <td>0.475781</td>\n",
       "      <td>0.465446</td>\n",
       "      <td>0.006281</td>\n",
       "      <td>134.650001</td>\n",
       "      <td></td>\n",
       "      <td></td>\n",
       "      <td></td>\n",
       "      <td></td>\n",
       "      <td></td>\n",
       "      <td></td>\n",
       "      <td></td>\n",
       "      <td></td>\n",
       "      <td></td>\n",
       "      <td></td>\n",
       "      <td></td>\n",
       "    </tr>\n",
       "    <tr>\n",
       "      <th>1</th>\n",
       "      <td>Lasso</td>\n",
       "      <td>0.485088</td>\n",
       "      <td>0.475781</td>\n",
       "      <td>0.465446</td>\n",
       "      <td>0.006281</td>\n",
       "      <td>596.050001</td>\n",
       "      <td></td>\n",
       "      <td></td>\n",
       "      <td></td>\n",
       "      <td></td>\n",
       "      <td></td>\n",
       "      <td></td>\n",
       "      <td></td>\n",
       "      <td></td>\n",
       "      <td></td>\n",
       "      <td></td>\n",
       "      <td></td>\n",
       "    </tr>\n",
       "    <tr>\n",
       "      <th>9</th>\n",
       "      <td>Lasso</td>\n",
       "      <td>0.485088</td>\n",
       "      <td>0.475781</td>\n",
       "      <td>0.465446</td>\n",
       "      <td>0.006281</td>\n",
       "      <td>109.600001</td>\n",
       "      <td></td>\n",
       "      <td></td>\n",
       "      <td></td>\n",
       "      <td></td>\n",
       "      <td></td>\n",
       "      <td></td>\n",
       "      <td></td>\n",
       "      <td></td>\n",
       "      <td></td>\n",
       "      <td></td>\n",
       "      <td></td>\n",
       "    </tr>\n",
       "    <tr>\n",
       "      <th>0</th>\n",
       "      <td>Lasso</td>\n",
       "      <td>0.485088</td>\n",
       "      <td>0.475781</td>\n",
       "      <td>0.465446</td>\n",
       "      <td>0.006281</td>\n",
       "      <td>896.200001</td>\n",
       "      <td></td>\n",
       "      <td></td>\n",
       "      <td></td>\n",
       "      <td></td>\n",
       "      <td></td>\n",
       "      <td></td>\n",
       "      <td></td>\n",
       "      <td></td>\n",
       "      <td></td>\n",
       "      <td></td>\n",
       "      <td></td>\n",
       "    </tr>\n",
       "    <tr>\n",
       "      <th>24</th>\n",
       "      <td>AdaBoostRegressor</td>\n",
       "      <td>0.567030</td>\n",
       "      <td>0.516700</td>\n",
       "      <td>0.496430</td>\n",
       "      <td>0.027608</td>\n",
       "      <td></td>\n",
       "      <td></td>\n",
       "      <td></td>\n",
       "      <td></td>\n",
       "      <td></td>\n",
       "      <td></td>\n",
       "      <td></td>\n",
       "      <td></td>\n",
       "      <td></td>\n",
       "      <td>1100</td>\n",
       "      <td></td>\n",
       "      <td></td>\n",
       "    </tr>\n",
       "    <tr>\n",
       "      <th>22</th>\n",
       "      <td>AdaBoostRegressor</td>\n",
       "      <td>0.597357</td>\n",
       "      <td>0.522543</td>\n",
       "      <td>0.499896</td>\n",
       "      <td>0.041938</td>\n",
       "      <td></td>\n",
       "      <td></td>\n",
       "      <td></td>\n",
       "      <td></td>\n",
       "      <td></td>\n",
       "      <td></td>\n",
       "      <td></td>\n",
       "      <td></td>\n",
       "      <td></td>\n",
       "      <td>300</td>\n",
       "      <td></td>\n",
       "      <td></td>\n",
       "    </tr>\n",
       "    <tr>\n",
       "      <th>25</th>\n",
       "      <td>AdaBoostRegressor</td>\n",
       "      <td>0.566559</td>\n",
       "      <td>0.525457</td>\n",
       "      <td>0.496690</td>\n",
       "      <td>0.031242</td>\n",
       "      <td></td>\n",
       "      <td></td>\n",
       "      <td></td>\n",
       "      <td></td>\n",
       "      <td></td>\n",
       "      <td></td>\n",
       "      <td></td>\n",
       "      <td></td>\n",
       "      <td></td>\n",
       "      <td>1000</td>\n",
       "      <td></td>\n",
       "      <td></td>\n",
       "    </tr>\n",
       "    <tr>\n",
       "      <th>28</th>\n",
       "      <td>AdaBoostRegressor</td>\n",
       "      <td>0.563816</td>\n",
       "      <td>0.526879</td>\n",
       "      <td>0.499960</td>\n",
       "      <td>0.028650</td>\n",
       "      <td></td>\n",
       "      <td></td>\n",
       "      <td></td>\n",
       "      <td></td>\n",
       "      <td></td>\n",
       "      <td></td>\n",
       "      <td></td>\n",
       "      <td></td>\n",
       "      <td></td>\n",
       "      <td>1300</td>\n",
       "      <td></td>\n",
       "      <td></td>\n",
       "    </tr>\n",
       "    <tr>\n",
       "      <th>20</th>\n",
       "      <td>AdaBoostRegressor</td>\n",
       "      <td>0.566682</td>\n",
       "      <td>0.527569</td>\n",
       "      <td>0.500035</td>\n",
       "      <td>0.032228</td>\n",
       "      <td></td>\n",
       "      <td></td>\n",
       "      <td></td>\n",
       "      <td></td>\n",
       "      <td></td>\n",
       "      <td></td>\n",
       "      <td></td>\n",
       "      <td></td>\n",
       "      <td></td>\n",
       "      <td>1500</td>\n",
       "      <td></td>\n",
       "      <td></td>\n",
       "    </tr>\n",
       "    <tr>\n",
       "      <th>26</th>\n",
       "      <td>AdaBoostRegressor</td>\n",
       "      <td>0.585934</td>\n",
       "      <td>0.531563</td>\n",
       "      <td>0.496934</td>\n",
       "      <td>0.038588</td>\n",
       "      <td></td>\n",
       "      <td></td>\n",
       "      <td></td>\n",
       "      <td></td>\n",
       "      <td></td>\n",
       "      <td></td>\n",
       "      <td></td>\n",
       "      <td></td>\n",
       "      <td></td>\n",
       "      <td>1700</td>\n",
       "      <td></td>\n",
       "      <td></td>\n",
       "    </tr>\n",
       "    <tr>\n",
       "      <th>29</th>\n",
       "      <td>AdaBoostRegressor</td>\n",
       "      <td>0.567753</td>\n",
       "      <td>0.537006</td>\n",
       "      <td>0.495570</td>\n",
       "      <td>0.032837</td>\n",
       "      <td></td>\n",
       "      <td></td>\n",
       "      <td></td>\n",
       "      <td></td>\n",
       "      <td></td>\n",
       "      <td></td>\n",
       "      <td></td>\n",
       "      <td></td>\n",
       "      <td></td>\n",
       "      <td>1400</td>\n",
       "      <td></td>\n",
       "      <td></td>\n",
       "    </tr>\n",
       "    <tr>\n",
       "      <th>27</th>\n",
       "      <td>AdaBoostRegressor</td>\n",
       "      <td>0.578637</td>\n",
       "      <td>0.541487</td>\n",
       "      <td>0.495707</td>\n",
       "      <td>0.035387</td>\n",
       "      <td></td>\n",
       "      <td></td>\n",
       "      <td></td>\n",
       "      <td></td>\n",
       "      <td></td>\n",
       "      <td></td>\n",
       "      <td></td>\n",
       "      <td></td>\n",
       "      <td></td>\n",
       "      <td>500</td>\n",
       "      <td></td>\n",
       "      <td></td>\n",
       "    </tr>\n",
       "    <tr>\n",
       "      <th>21</th>\n",
       "      <td>AdaBoostRegressor</td>\n",
       "      <td>0.585703</td>\n",
       "      <td>0.545302</td>\n",
       "      <td>0.498827</td>\n",
       "      <td>0.040161</td>\n",
       "      <td></td>\n",
       "      <td></td>\n",
       "      <td></td>\n",
       "      <td></td>\n",
       "      <td></td>\n",
       "      <td></td>\n",
       "      <td></td>\n",
       "      <td></td>\n",
       "      <td></td>\n",
       "      <td>900</td>\n",
       "      <td></td>\n",
       "      <td></td>\n",
       "    </tr>\n",
       "    <tr>\n",
       "      <th>23</th>\n",
       "      <td>AdaBoostRegressor</td>\n",
       "      <td>0.586836</td>\n",
       "      <td>0.561407</td>\n",
       "      <td>0.506419</td>\n",
       "      <td>0.030959</td>\n",
       "      <td></td>\n",
       "      <td></td>\n",
       "      <td></td>\n",
       "      <td></td>\n",
       "      <td></td>\n",
       "      <td></td>\n",
       "      <td></td>\n",
       "      <td></td>\n",
       "      <td></td>\n",
       "      <td>400</td>\n",
       "      <td></td>\n",
       "      <td></td>\n",
       "    </tr>\n",
       "  </tbody>\n",
       "</table>\n",
       "</div>"
      ],
      "text/plain": [
       "                    estimator  min_score  mean_score  max_score  std_score  \\\n",
       "41      RandomForestRegressor   0.455356    0.450158   0.441305   0.004922   \n",
       "31  GradientBoostingRegressor   0.457348    0.451600   0.442015   0.005345   \n",
       "37  GradientBoostingRegressor   0.459362    0.452974   0.441853   0.005949   \n",
       "57                    XGBoost   0.459447    0.454000   0.443594   0.005543   \n",
       "17                      Ridge   0.461027    0.454524   0.444410   0.006032   \n",
       "16                      Ridge   0.461031    0.454524   0.444429   0.006025   \n",
       "11                      Ridge   0.461047    0.454535   0.444455   0.006019   \n",
       "13                      Ridge   0.461063    0.454546   0.444475   0.006015   \n",
       "15                      Ridge   0.461065    0.454548   0.444477   0.006015   \n",
       "18                      Ridge   0.461091    0.454568   0.444504   0.006011   \n",
       "10                      Ridge   0.461075    0.454574   0.444381   0.006052   \n",
       "12                      Ridge   0.461114    0.454585   0.444526   0.006008   \n",
       "14                      Ridge   0.461118    0.454588   0.444530   0.006007   \n",
       "19                      Ridge   0.461151    0.454615   0.444561   0.006004   \n",
       "34  GradientBoostingRegressor   0.460466    0.454719   0.445231   0.005371   \n",
       "40      RandomForestRegressor   0.461529    0.455049   0.445969   0.005232   \n",
       "39  GradientBoostingRegressor   0.461098    0.455132   0.445841   0.005869   \n",
       "33  GradientBoostingRegressor   0.460955    0.455939   0.447049   0.005088   \n",
       "30  GradientBoostingRegressor   0.463925    0.456713   0.448948   0.005319   \n",
       "38  GradientBoostingRegressor   0.462826    0.456819   0.448158   0.005034   \n",
       "46      RandomForestRegressor   0.463540    0.457013   0.447776   0.005348   \n",
       "47      RandomForestRegressor   0.463753    0.457040   0.447843   0.005337   \n",
       "42      RandomForestRegressor   0.463844    0.457046   0.447730   0.005428   \n",
       "48      RandomForestRegressor   0.463706    0.457154   0.447964   0.005331   \n",
       "55                    XGBoost   0.462581    0.457218   0.447402   0.005272   \n",
       "49      RandomForestRegressor   0.464097    0.457241   0.447979   0.005426   \n",
       "36  GradientBoostingRegressor   0.463479    0.457381   0.445604   0.006067   \n",
       "52                    XGBoost   0.463611    0.457511   0.447388   0.005702   \n",
       "50                    XGBoost   0.463605    0.457951   0.447760   0.005523   \n",
       "59                    XGBoost   0.468646    0.461675   0.453215   0.005783   \n",
       "45      RandomForestRegressor   0.469366    0.462700   0.453366   0.005412   \n",
       "32  GradientBoostingRegressor   0.469963    0.463866   0.455570   0.004867   \n",
       "44      RandomForestRegressor   0.472173    0.464133   0.454343   0.005839   \n",
       "51                    XGBoost   0.471986    0.464139   0.453345   0.006160   \n",
       "43      RandomForestRegressor   0.470959    0.464938   0.456803   0.004899   \n",
       "58                    XGBoost   0.471861    0.464978   0.455886   0.005501   \n",
       "53                    XGBoost   0.476691    0.468702   0.460107   0.006091   \n",
       "56                    XGBoost   0.474890    0.468786   0.460320   0.005573   \n",
       "35  GradientBoostingRegressor   0.477463    0.470326   0.463315   0.004800   \n",
       "54                    XGBoost   0.478448    0.473412   0.466477   0.004132   \n",
       "4                       Lasso   0.485088    0.475781   0.465446   0.006281   \n",
       "8                       Lasso   0.485088    0.475781   0.465446   0.006281   \n",
       "5                       Lasso   0.485088    0.475781   0.465446   0.006281   \n",
       "3                       Lasso   0.485088    0.475781   0.465446   0.006281   \n",
       "2                       Lasso   0.485088    0.475781   0.465446   0.006281   \n",
       "6                       Lasso   0.485088    0.475781   0.465446   0.006281   \n",
       "7                       Lasso   0.485088    0.475781   0.465446   0.006281   \n",
       "1                       Lasso   0.485088    0.475781   0.465446   0.006281   \n",
       "9                       Lasso   0.485088    0.475781   0.465446   0.006281   \n",
       "0                       Lasso   0.485088    0.475781   0.465446   0.006281   \n",
       "24          AdaBoostRegressor   0.567030    0.516700   0.496430   0.027608   \n",
       "22          AdaBoostRegressor   0.597357    0.522543   0.499896   0.041938   \n",
       "25          AdaBoostRegressor   0.566559    0.525457   0.496690   0.031242   \n",
       "28          AdaBoostRegressor   0.563816    0.526879   0.499960   0.028650   \n",
       "20          AdaBoostRegressor   0.566682    0.527569   0.500035   0.032228   \n",
       "26          AdaBoostRegressor   0.585934    0.531563   0.496934   0.038588   \n",
       "29          AdaBoostRegressor   0.567753    0.537006   0.495570   0.032837   \n",
       "27          AdaBoostRegressor   0.578637    0.541487   0.495707   0.035387   \n",
       "21          AdaBoostRegressor   0.585703    0.545302   0.498827   0.040161   \n",
       "23          AdaBoostRegressor   0.586836    0.561407   0.506419   0.030959   \n",
       "\n",
       "        alpha bootstrap colsample_bytree    gamma max_depth max_features  \\\n",
       "41                 True                                   8         auto   \n",
       "31                                                        4         sqrt   \n",
       "37                                                        2         auto   \n",
       "57                              0.700000 0.400000         2                \n",
       "17 340.150001                                                              \n",
       "16 436.350001                                                              \n",
       "11 556.600001                                                              \n",
       "13 635.700001                                                              \n",
       "15 645.000001                                                              \n",
       "18 750.000001                                                              \n",
       "10 108.600001                                                              \n",
       "12 830.400001                                                              \n",
       "14 843.700001                                                              \n",
       "19 952.800001                                                              \n",
       "34                                                        6         sqrt   \n",
       "40                False                                   8         sqrt   \n",
       "39                                                        8         auto   \n",
       "33                                                        6         sqrt   \n",
       "30                                                        8         sqrt   \n",
       "38                                                        4         auto   \n",
       "46                False                                   6         sqrt   \n",
       "47                False                                   6         sqrt   \n",
       "42                False                                   6         sqrt   \n",
       "48                 True                                   6         sqrt   \n",
       "55                              0.900000 0.400000         2                \n",
       "49                 True                                   6         sqrt   \n",
       "36                                                        8         sqrt   \n",
       "52                              0.700000 0.500000         4                \n",
       "50                              0.600000 0.100000         6                \n",
       "59                              0.600000 0.300000         8                \n",
       "45                 True                                   2         auto   \n",
       "32                                                        6         auto   \n",
       "44                 True                                   2         sqrt   \n",
       "51                              0.700000 0.300000         4                \n",
       "43                False                                   8         auto   \n",
       "58                              0.900000 0.200000         8                \n",
       "53                              0.600000 0.000000         6                \n",
       "56                              0.800000 0.400000         6                \n",
       "35                                                        8         auto   \n",
       "54                              0.600000 0.000000         6                \n",
       "4   88.750001                                                              \n",
       "8  170.600001                                                              \n",
       "5  432.750001                                                              \n",
       "3  427.000001                                                              \n",
       "2  102.500001                                                              \n",
       "6  449.300001                                                              \n",
       "7  134.650001                                                              \n",
       "1  596.050001                                                              \n",
       "9  109.600001                                                              \n",
       "0  896.200001                                                              \n",
       "24                                                                         \n",
       "22                                                                         \n",
       "25                                                                         \n",
       "28                                                                         \n",
       "20                                                                         \n",
       "26                                                                         \n",
       "29                                                                         \n",
       "27                                                                         \n",
       "21                                                                         \n",
       "23                                                                         \n",
       "\n",
       "   min_child_weight min_samples_leaf min_samples_split n_estimators  \\\n",
       "41                                26                18          800   \n",
       "31                                34                18          700   \n",
       "37                                12                38         1100   \n",
       "57                5                                            1100   \n",
       "17                                                                    \n",
       "16                                                                    \n",
       "11                                                                    \n",
       "13                                                                    \n",
       "15                                                                    \n",
       "18                                                                    \n",
       "10                                                                    \n",
       "12                                                                    \n",
       "14                                                                    \n",
       "19                                                                    \n",
       "34                                36                28          700   \n",
       "40                                 6                32         1600   \n",
       "39                                16                16          200   \n",
       "33                                 4                14          600   \n",
       "30                                18                38          600   \n",
       "38                                30                24         1100   \n",
       "46                                38                20         1500   \n",
       "47                                32                14          700   \n",
       "42                                12                36          500   \n",
       "48                                28                10          600   \n",
       "55                5                                            1700   \n",
       "49                                20                22          600   \n",
       "36                                 4                36          500   \n",
       "52                5                                             500   \n",
       "50                5                                             300   \n",
       "59                5                                             500   \n",
       "45                                38                30          700   \n",
       "32                                32                34         1400   \n",
       "44                                26                 2         1400   \n",
       "51                3                                            1000   \n",
       "43                                18                24          700   \n",
       "58                5                                             600   \n",
       "53                3                                            1500   \n",
       "56                5                                            1800   \n",
       "35                                12                36         1500   \n",
       "54                1                                            1200   \n",
       "4                                                                     \n",
       "8                                                                     \n",
       "5                                                                     \n",
       "3                                                                     \n",
       "2                                                                     \n",
       "6                                                                     \n",
       "7                                                                     \n",
       "1                                                                     \n",
       "9                                                                     \n",
       "0                                                                     \n",
       "24                                                             1100   \n",
       "22                                                              300   \n",
       "25                                                             1000   \n",
       "28                                                             1300   \n",
       "20                                                             1500   \n",
       "26                                                             1700   \n",
       "29                                                             1400   \n",
       "27                                                              500   \n",
       "21                                                              900   \n",
       "23                                                              400   \n",
       "\n",
       "   reg_lambda subsample  \n",
       "41                       \n",
       "31                       \n",
       "37                       \n",
       "57          1  0.800000  \n",
       "17                       \n",
       "16                       \n",
       "11                       \n",
       "13                       \n",
       "15                       \n",
       "18                       \n",
       "10                       \n",
       "12                       \n",
       "14                       \n",
       "19                       \n",
       "34                       \n",
       "40                       \n",
       "39                       \n",
       "33                       \n",
       "30                       \n",
       "38                       \n",
       "46                       \n",
       "47                       \n",
       "42                       \n",
       "48                       \n",
       "55   0.100000  0.700000  \n",
       "49                       \n",
       "36                       \n",
       "52   0.100000  0.600000  \n",
       "50   0.100000  0.600000  \n",
       "59   0.000010  0.900000  \n",
       "45                       \n",
       "32                       \n",
       "44                       \n",
       "51   0.010000  0.600000  \n",
       "43                       \n",
       "58   0.000010  0.900000  \n",
       "53          1  0.800000  \n",
       "56   0.010000  0.800000  \n",
       "35                       \n",
       "54   0.100000  0.800000  \n",
       "4                        \n",
       "8                        \n",
       "5                        \n",
       "3                        \n",
       "2                        \n",
       "6                        \n",
       "7                        \n",
       "1                        \n",
       "9                        \n",
       "0                        \n",
       "24                       \n",
       "22                       \n",
       "25                       \n",
       "28                       \n",
       "20                       \n",
       "26                       \n",
       "29                       \n",
       "27                       \n",
       "21                       \n",
       "23                       "
      ]
     },
     "execution_count": 34,
     "metadata": {},
     "output_type": "execute_result"
    }
   ],
   "source": [
    "scores = helper.scoreSummary()\n",
    "scores[['min_score', 'mean_score', 'max_score']] = scores[['min_score', 'mean_score', 'max_score']].applymap(lambda x: np.round(np.sqrt(-x), 6))\n",
    "scores.fillna('')\n"
   ]
  },
  {
   "cell_type": "markdown",
   "metadata": {},
   "source": [
    "## Visualize feature importance"
   ]
  },
  {
   "cell_type": "code",
   "execution_count": 98,
   "metadata": {
    "ExecuteTime": {
     "end_time": "2018-10-25T20:40:55.771551Z",
     "start_time": "2018-10-25T20:32:47.084549Z"
    }
   },
   "outputs": [
    {
     "data": {
      "text/plain": [
       "RandomForestRegressor(bootstrap=True, criterion='mse', max_depth=8,\n",
       "           max_features='auto', max_leaf_nodes=None,\n",
       "           min_impurity_decrease=0.0, min_impurity_split=None,\n",
       "           min_samples_leaf=26, min_samples_split=18,\n",
       "           min_weight_fraction_leaf=0.0, n_estimators=800, n_jobs=1,\n",
       "           oob_score=False, random_state=None, verbose=0, warm_start=False)"
      ]
     },
     "execution_count": 98,
     "metadata": {},
     "output_type": "execute_result"
    }
   ],
   "source": [
    "#\n",
    "\n",
    "rfrFinal = RandomForestRegressor(bootstrap = True\n",
    "                                ,max_depth = 8\n",
    "                                ,max_features = 'auto'\n",
    "                                ,min_samples_leaf = 26\n",
    "                                ,min_samples_split = 18\n",
    "                                ,n_estimators = 800)\n",
    "rfrFinal.fit(X_train, y_train)\n"
   ]
  },
  {
   "cell_type": "code",
   "execution_count": 99,
   "metadata": {
    "ExecuteTime": {
     "end_time": "2018-10-25T20:41:12.116194Z",
     "start_time": "2018-10-25T20:41:11.440275Z"
    }
   },
   "outputs": [
    {
     "data": {
      "image/png": "[encoded data removed]",
      "text/plain": [
       "<Figure size 1080x576 with 2 Axes>"
      ]
     },
     "metadata": {},
     "output_type": "display_data"
    }
   ],
   "source": [
    "#\n",
    "\n",
    "z = list(zip(rfrFinal.feature_importances_, np.append(numeric_columns,categorical_columns)))\n",
    "z = sorted(z, key = lambda tup: tup[0], reverse = True)[:20]\n",
    "\n",
    "# plot horizontal bar by feature importance\n",
    "z.sort(reverse = False)\n",
    "values, labels = zip(*z)\n",
    "plt.figure(figsize = (15,8))\n",
    "plt.subplot(121)\n",
    "plt.barh(labels, values)\n",
    "plt.xlabel('Percent Contribution to Random Forest Model')\n",
    "plt.ylabel('Feature Names')\n",
    "plt.title('Comparison of Features by Importance')\n",
    "\n",
    "# reverse sorting (for a more intuitive aesthetic) and plot the cumulative value of features\n",
    "plt.subplot(122)\n",
    "z.sort(reverse = True)\n",
    "values, labels = zip(*z)\n",
    "plt.plot(np.cumsum(values))\n",
    "plt.ylabel('Contribution to the Random Forest Model')\n",
    "plt.xlabel('Number of Features')\n",
    "plt.title('Cumulative Value of Features by Importance');\n",
    "\n",
    "plt.subplots_adjust(wspace = .75)\n"
   ]
  },
  {
   "cell_type": "code",
   "execution_count": 102,
   "metadata": {
    "ExecuteTime": {
     "end_time": "2018-10-25T20:42:12.182637Z",
     "start_time": "2018-10-25T20:42:12.178617Z"
    }
   },
   "outputs": [
    {
     "data": {
      "text/plain": [
       "(50004, 204)"
      ]
     },
     "execution_count": 102,
     "metadata": {},
     "output_type": "execute_result"
    }
   ],
   "source": [
    "X_train.shape"
   ]
  },
  {
   "cell_type": "markdown",
   "metadata": {},
   "source": [
    "## Discussion\n",
    "The best algorithm was the RandomForestRegressor. The best hyperparameters are:\n",
    "    Best parameter: {'n_estimators': 800, 'min_samples_split': 18, 'min_samples_leaf': 26, 'max_features': 'auto', 'max_depth': 8, 'bootstrap': True}\n",
    "\n",
    "By far the most informative feature is the Sum_ProcedureGroup_EM column, followed by three columns that describe gender and the AgeAtFirstClaim, and the fifth most important column is the sum of inpatient hospital visits. These five columns, accounting for only 2.5% of the total number of columns, account for nearly 42% of the predictive value. "
   ]
  },
  {
   "cell_type": "markdown",
   "metadata": {},
   "source": [
    "# Model evaluation"
   ]
  },
  {
   "cell_type": "markdown",
   "metadata": {},
   "source": [
    "__Prepare data__"
   ]
  },
  {
   "cell_type": "code",
   "execution_count": 104,
   "metadata": {
    "ExecuteTime": {
     "end_time": "2018-07-26T18:07:18.225688Z",
     "start_time": "2018-07-26T18:07:14.965125Z"
    }
   },
   "outputs": [
    {
     "name": "stdout",
     "output_type": "stream",
     "text": [
      "(71435, 205)\n"
     ]
    }
   ],
   "source": [
    "dfMerged = pd.concat([dfTargetY2, dfTargetY3])\n",
    "dfMerged = dfMerged.merge(dfMembers\n",
    "                            ,how = 'left'\n",
    "                            ,on = 'MemberID')\n",
    "dfMerged = dfMerged.merge(dfClaimsAggregated\n",
    "                            ,how = 'left'\n",
    "                            ,on = ['MemberID', 'Year'])\n",
    "dfMerged = dfMerged.merge(dfDrugCountAggregated\n",
    "                            ,how = 'left'\n",
    "                            ,on = ['MemberID', 'Year'])\n",
    "dfFinal = dfMerged.merge(dfLabCountAggregated\n",
    "                            ,how = 'left'\n",
    "                            ,on = ['MemberID', 'Year'])\n",
    "\n",
    "dfFinalY1 = dfFinal[dfFinal['Year'] == 'Y1']\n",
    "dfFinalY1.set_index('MemberID', inplace = True)\n",
    "\n",
    "dfFinalY2 = dfFinal[dfFinal['Year'] == 'Y2']\n",
    "dfFinalY2.set_index('MemberID', inplace = True)\n",
    "\n",
    "deltaCols = dfFinal.columns.values[8:]\n",
    "dfDeltas = pd.pivot_table(data = dfFinal\n",
    "               ,index = ['MemberID']\n",
    "               ,columns = ['Year']\n",
    "               ,values = deltaCols)\n",
    "multiIndex = dfDeltas.columns\n",
    "singleIndex = pd.Index([i[0] + ' ' + i[1] for i in multiIndex.tolist()])\n",
    "dfDeltas.columns = singleIndex\n",
    "dfDeltas.reset_index(inplace = True)\n",
    "dfDeltas.fillna(0, inplace = True)\n",
    "\n",
    "y1Cols = [col for col in dfDeltas.columns if 'Y1' in col]\n",
    "y1Cols.append('MemberID')\n",
    "dfDeltasY1 = dfDeltas[y1Cols]\n",
    "dfDeltasY1.set_index('MemberID', inplace = True)\n",
    "simpleCols = [i.split()[0] for i in dfDeltasY1.columns]\n",
    "dfDeltasY1.columns = simpleCols\n",
    "\n",
    "y2Cols = [col for col in dfDeltas.columns if 'Y2' in col]\n",
    "y2Cols.append('MemberID')\n",
    "dfDeltasY2 = dfDeltas[y2Cols]\n",
    "dfDeltasY2.set_index('MemberID', inplace = True)\n",
    "simpleCols = [i.split()[0] for i in dfDeltasY2.columns]\n",
    "dfDeltasY2.columns = simpleCols\n",
    "\n",
    "dfDeltas = dfDeltasY2.sub(dfDeltasY1)\n",
    "dfDeltas.columns = ['Delta_' + i for i in dfDeltas.columns]\n",
    "\n",
    "dfFinalY2Delta = pd.merge(dfFinalY2, dfDeltas, left_index = True, right_index = True)\n",
    "dfFinalY2Delta = dfFinalY2Delta.drop(['DaysInHospital','Year'], axis = 1)\n",
    "print(dfFinalY2Delta.shape)\n",
    "\n",
    "\n",
    "X_train, X_test, y_train, y_test, numeric_columns, categorical_columns = splitPrep(dataset = dfFinalY2Delta)\n",
    "\n",
    "print('X_train shape: {0}'.format(X_train.shape))\n",
    "print('y_train shape: {0}\\n'.format(y_train.shape))\n",
    "print('X_test shape: {0}'.format(X_test.shape))\n",
    "print('y_test shape: {0}'.format(y_test.shape))\n"
   ]
  },
  {
   "cell_type": "markdown",
   "metadata": {},
   "source": [
    "### Baseline model"
   ]
  },
  {
   "cell_type": "code",
   "execution_count": 109,
   "metadata": {
    "ExecuteTime": {
     "end_time": "2018-10-25T20:45:11.724546Z",
     "start_time": "2018-10-25T20:45:09.628012Z"
    }
   },
   "outputs": [
    {
     "data": {
      "text/html": [
       "<div>\n",
       "<style scoped>\n",
       "    .dataframe tbody tr th:only-of-type {\n",
       "        vertical-align: middle;\n",
       "    }\n",
       "\n",
       "    .dataframe tbody tr th {\n",
       "        vertical-align: top;\n",
       "    }\n",
       "\n",
       "    .dataframe thead th {\n",
       "        text-align: right;\n",
       "    }\n",
       "</style>\n",
       "<table border=\"1\" class=\"dataframe\">\n",
       "  <thead>\n",
       "    <tr style=\"text-align: right;\">\n",
       "      <th></th>\n",
       "      <th>ExpID</th>\n",
       "      <th>Train RMSE (Mean)</th>\n",
       "      <th>Test RMSE</th>\n",
       "      <th>p-value</th>\n",
       "    </tr>\n",
       "  </thead>\n",
       "  <tbody>\n",
       "    <tr>\n",
       "      <th>0</th>\n",
       "      <td>Baseline Model (Mean)</td>\n",
       "      <td>0.476000</td>\n",
       "      <td>0.470100</td>\n",
       "      <td>---</td>\n",
       "    </tr>\n",
       "  </tbody>\n",
       "</table>\n",
       "</div>"
      ],
      "text/plain": [
       "                   ExpID  Train RMSE (Mean)  Test RMSE p-value\n",
       "0  Baseline Model (Mean)           0.476000   0.470100     ---"
      ]
     },
     "execution_count": 109,
     "metadata": {},
     "output_type": "execute_result"
    }
   ],
   "source": [
    "model = DummyRegressor(strategy = 'mean')\n",
    "cv = ShuffleSplit(n_splits = 30, test_size = 0.3, random_state = 1)\n",
    "baseline_scores = cross_val_score(model, X_train, y_train, cv = cv, scoring = 'neg_mean_squared_error')\n",
    "baseline_train_score = np.sqrt(-baseline_scores.mean())\n",
    "\n",
    "model.fit(X_train, y_train)\n",
    "baseline_train_predict = model.fit(X_train, y_train)\n",
    "\n",
    "baseline_test_predict = model.predict(X_test)\n",
    "baseline_test_score = np.sqrt(mean_squared_error(y_test, baseline_test_predict))\n",
    "\n",
    "results = pd.DataFrame(columns = ['ExpID', 'Train RMSE (Mean)', 'Test RMSE', 'p-value'])\n",
    "results.loc[0] = ['Baseline Model (Mean)', round(baseline_train_score, 4), round(baseline_test_score, 4), \"---\"]\n",
    "\n",
    "results\n"
   ]
  },
  {
   "cell_type": "markdown",
   "metadata": {},
   "source": [
    "### Baseline vs. Phase 2 best model\n",
    "\n",
    "Best algorithm: RandomForestRegressor\n",
    "\n",
    "Best parameters: {'n_estimators': 50, 'min_samples_split': 18, 'min_samples_leaf': 6, 'max_features': 'sqrt', 'max_depth': 8, 'bootstrap': True}"
   ]
  },
  {
   "cell_type": "code",
   "execution_count": 107,
   "metadata": {
    "ExecuteTime": {
     "end_time": "2018-07-26T18:07:29.119443Z",
     "start_time": "2018-07-26T18:07:20.157232Z"
    }
   },
   "outputs": [
    {
     "name": "stdout",
     "output_type": "stream",
     "text": [
      "The two machine learning pipelines are different (reject H0) \n",
      "(t_score, p_value) = (-38.72, 0.00067)\n",
      "Machine learning pipeline B is better than A\n"
     ]
    }
   ],
   "source": [
    "rfrPhase2 = RandomForestRegressor(bootstrap = True\n",
    "                                ,max_depth = 8\n",
    "                                ,max_features = 'sqrt'\n",
    "                                ,min_samples_leaf = 6\n",
    "                                ,min_samples_split = 18\n",
    "                                ,n_estimators = 50)\n",
    "\n",
    "regressors = [('RandomForest, Phase 2 best, delta data set', rfrPhase2)]\n",
    "\n",
    "for idx, (name, regressor) in enumerate(regressors):\n",
    "    cv = ShuffleSplit(n_splits = 30, test_size = 0.3, random_state = 1)\n",
    "    rfrPhase2_cv_scores = cross_val_score(regressor, X_train, y_train, cv = cv, scoring = 'neg_mean_squared_error')\n",
    "    train_score = np.sqrt(-rfrPhase2_cv_scores.mean())\n",
    "    model = regressor\n",
    "    model.fit(X_train, y_train)\n",
    "    test_preds = model.predict(X_test)\n",
    "    test_score = np.sqrt(mean_squared_error(y_test, test_preds))\n",
    "    \n",
    "    p_value = ttest(baseline_scores, rfrPhase2_cv_scores)\n",
    "    results.loc[len(results)] = [name, round(train_score, 4), round(test_score, 4), round(p_value, 4)]\n",
    "    "
   ]
  },
  {
   "cell_type": "code",
   "execution_count": 108,
   "metadata": {
    "ExecuteTime": {
     "end_time": "2018-07-26T18:07:29.130367Z",
     "start_time": "2018-07-26T18:07:29.121424Z"
    }
   },
   "outputs": [
    {
     "data": {
      "text/html": [
       "<div>\n",
       "<style scoped>\n",
       "    .dataframe tbody tr th:only-of-type {\n",
       "        vertical-align: middle;\n",
       "    }\n",
       "\n",
       "    .dataframe tbody tr th {\n",
       "        vertical-align: top;\n",
       "    }\n",
       "\n",
       "    .dataframe thead th {\n",
       "        text-align: right;\n",
       "    }\n",
       "</style>\n",
       "<table border=\"1\" class=\"dataframe\">\n",
       "  <thead>\n",
       "    <tr style=\"text-align: right;\">\n",
       "      <th></th>\n",
       "      <th>ExpID</th>\n",
       "      <th>Train RMSE (Mean)</th>\n",
       "      <th>Test RMSE</th>\n",
       "      <th>p-value</th>\n",
       "    </tr>\n",
       "  </thead>\n",
       "  <tbody>\n",
       "    <tr>\n",
       "      <th>0</th>\n",
       "      <td>Baseline Model (Mean)</td>\n",
       "      <td>0.474700</td>\n",
       "      <td>0.470100</td>\n",
       "      <td>---</td>\n",
       "    </tr>\n",
       "    <tr>\n",
       "      <th>1</th>\n",
       "      <td>RandomForest, Phase 2 best, delta data set</td>\n",
       "      <td>0.454700</td>\n",
       "      <td>0.451200</td>\n",
       "      <td>0.000700</td>\n",
       "    </tr>\n",
       "  </tbody>\n",
       "</table>\n",
       "</div>"
      ],
      "text/plain": [
       "                                        ExpID  Train RMSE (Mean)  Test RMSE  \\\n",
       "0                       Baseline Model (Mean)           0.474700   0.470100   \n",
       "1  RandomForest, Phase 2 best, delta data set           0.454700   0.451200   \n",
       "\n",
       "   p-value  \n",
       "0      ---  \n",
       "1 0.000700  "
      ]
     },
     "execution_count": 108,
     "metadata": {},
     "output_type": "execute_result"
    }
   ],
   "source": [
    "results\n"
   ]
  },
  {
   "cell_type": "markdown",
   "metadata": {},
   "source": [
    "> Remarks - Phase 2 best model is significantly better than the baseline model, per the related-sample ttest"
   ]
  },
  {
   "cell_type": "markdown",
   "metadata": {},
   "source": [
    "### Final model vs. Phase 2 best model\n",
    "\n",
    "Best algorithm: RandomForestRegressor.\n",
    "\n",
    "Best parameters: {'n_estimators': 800, 'min_samples_split': 18, 'min_samples_leaf': 26, 'max_features': 'auto', 'max_depth': 8, 'bootstrap': True}\n",
    " "
   ]
  },
  {
   "cell_type": "code",
   "execution_count": 109,
   "metadata": {
    "ExecuteTime": {
     "end_time": "2018-07-26T18:37:31.064913Z",
     "start_time": "2018-07-26T18:07:29.132525Z"
    }
   },
   "outputs": [
    {
     "name": "stdout",
     "output_type": "stream",
     "text": [
      "The two machine learning pipelines are different (reject H0) \n",
      "(t_score, p_value) = (-13.73, 0.00526)\n",
      "Machine learning pipeline B is better than A\n",
      "Completed run 0\n"
     ]
    }
   ],
   "source": [
    "#\n",
    "\n",
    "rfrFinal = RandomForestRegressor(bootstrap = True\n",
    "                                ,max_depth = 8\n",
    "                                ,max_features = 'auto'\n",
    "                                ,min_samples_leaf = 26\n",
    "                                ,min_samples_split = 18\n",
    "                                ,n_estimators = 800)\n",
    "\n",
    "regressors = [('RandomForest, Final, delta data set', rfrFinal)]\n",
    "\n",
    "for idx, (name, regressor) in enumerate(regressors):\n",
    "    cv = ShuffleSplit(n_splits = 30, test_size = 0.3, random_state = 1)\n",
    "    final_cv_scores = cross_val_score(regressor, X_train, y_train, cv = cv, scoring = 'neg_mean_squared_error')\n",
    "    train_score = np.sqrt(-final_cv_scores.mean())\n",
    "    model = regressor\n",
    "    model.fit(X_train, y_train)\n",
    "    test_preds = model.predict(X_test)\n",
    "    test_score = np.sqrt(mean_squared_error(y_test, test_preds))\n",
    "    \n",
    "    p_value = ttest(rfrPhase2_cv_scores, final_cv_scores)\n",
    "    results.loc[len(results)] = [name, round(train_score, 4), round(test_score, 4), round(p_value, 4)]\n",
    "    print('Completed run {0}'.format(idx))\n",
    "    "
   ]
  },
  {
   "cell_type": "code",
   "execution_count": 110,
   "metadata": {
    "ExecuteTime": {
     "end_time": "2018-07-26T18:37:31.103382Z",
     "start_time": "2018-07-26T18:37:31.066937Z"
    }
   },
   "outputs": [
    {
     "data": {
      "text/html": [
       "<div>\n",
       "<style scoped>\n",
       "    .dataframe tbody tr th:only-of-type {\n",
       "        vertical-align: middle;\n",
       "    }\n",
       "\n",
       "    .dataframe tbody tr th {\n",
       "        vertical-align: top;\n",
       "    }\n",
       "\n",
       "    .dataframe thead th {\n",
       "        text-align: right;\n",
       "    }\n",
       "</style>\n",
       "<table border=\"1\" class=\"dataframe\">\n",
       "  <thead>\n",
       "    <tr style=\"text-align: right;\">\n",
       "      <th></th>\n",
       "      <th>ExpID</th>\n",
       "      <th>Train RMSE (Mean)</th>\n",
       "      <th>Test RMSE</th>\n",
       "      <th>p-value</th>\n",
       "    </tr>\n",
       "  </thead>\n",
       "  <tbody>\n",
       "    <tr>\n",
       "      <th>0</th>\n",
       "      <td>Baseline Model (Mean)</td>\n",
       "      <td>0.474700</td>\n",
       "      <td>0.470100</td>\n",
       "      <td>---</td>\n",
       "    </tr>\n",
       "    <tr>\n",
       "      <th>1</th>\n",
       "      <td>RandomForest, Phase 2 best, delta data set</td>\n",
       "      <td>0.454700</td>\n",
       "      <td>0.451200</td>\n",
       "      <td>0.000700</td>\n",
       "    </tr>\n",
       "    <tr>\n",
       "      <th>2</th>\n",
       "      <td>RandomForest, Final, delta data set</td>\n",
       "      <td>0.449900</td>\n",
       "      <td>0.446400</td>\n",
       "      <td>0.005300</td>\n",
       "    </tr>\n",
       "  </tbody>\n",
       "</table>\n",
       "</div>"
      ],
      "text/plain": [
       "                                        ExpID  Train RMSE (Mean)  Test RMSE  \\\n",
       "0                       Baseline Model (Mean)           0.474700   0.470100   \n",
       "1  RandomForest, Phase 2 best, delta data set           0.454700   0.451200   \n",
       "2         RandomForest, Final, delta data set           0.449900   0.446400   \n",
       "\n",
       "   p-value  \n",
       "0      ---  \n",
       "1 0.000700  \n",
       "2 0.005300  "
      ]
     },
     "execution_count": 110,
     "metadata": {},
     "output_type": "execute_result"
    }
   ],
   "source": [
    "#\n",
    "\n",
    "results\n"
   ]
  },
  {
   "cell_type": "markdown",
   "metadata": {},
   "source": [
    "> Remarks - The final model is significantly better than the best model from phase 2 model, per the related-sample ttest"
   ]
  }
 ],
 "metadata": {
  "kernelspec": {
   "display_name": "Python 3",
   "language": "python",
   "name": "python3"
  },
  "language_info": {
   "codemirror_mode": {
    "name": "ipython",
    "version": 3
   },
   "file_extension": ".py",
   "mimetype": "text/x-python",
   "name": "python",
   "nbconvert_exporter": "python",
   "pygments_lexer": "ipython3",
   "version": "3.7.4"
  },
  "toc": {
   "base_numbering": 1,
   "nav_menu": {},
   "number_sections": true,
   "sideBar": true,
   "skip_h1_title": false,
   "title_cell": "Table of Contents",
   "title_sidebar": "Contents",
   "toc_cell": false,
   "toc_position": {
    "height": "calc(100% - 180px)",
    "left": "10px",
    "top": "150px",
    "width": "289.9px"
   },
   "toc_section_display": "block",
   "toc_window_display": false
  },
  "varInspector": {
   "columns": {
    "lenName": 16,
    "lenType": 16,
    "lenVar": 40
   },
   "kernels_config": {
    "python": {
     "delete_cmd_postfix": "",
     "delete_cmd_prefix": "del ",
     "library": "var_list.py",
     "varRefreshCmd": "print(var_dic_list())"
    },
    "r": {
     "delete_cmd_postfix": ") ",
     "delete_cmd_prefix": "rm(",
     "library": "var_list.r",
     "varRefreshCmd": "cat(var_dic_list()) "
    }
   },
   "types_to_exclude": [
    "module",
    "function",
    "builtin_function_or_method",
    "instance",
    "_Feature"
   ],
   "window_display": false
  }
 },
 "nbformat": 4,
 "nbformat_minor": 2
}
