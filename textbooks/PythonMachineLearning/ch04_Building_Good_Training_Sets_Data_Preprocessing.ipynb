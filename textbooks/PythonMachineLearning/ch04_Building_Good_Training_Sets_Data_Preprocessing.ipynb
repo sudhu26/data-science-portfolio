{
 "cells": [
  {
   "cell_type": "markdown",
   "metadata": {},
   "source": [
    "__Chapter 4 Building Good Training Sets Data Preprocessing__\n",
    "\n",
    "1. [Import](#Import)\n",
    "1. [Dealing with missing data](#Dealing-with-missing-data)\n",
    "    1. [Identifying missing data](#Identifying-missing-data)\n",
    "    1. [Eliminating samples or features with missing values](#Eliminating-samples-or-features-with-missing-values)\n",
    "    1. [Imputing missing values](#Imputing-missing-values)\n",
    "1. [Handling categorical data](#Handling-categorical-data)\n",
    "    1. [Nominal and ordinal features](#Nominal-and-ordinal-features)\n",
    "        1. [Mapping ordinal variables](#Mapping-ordinal-variables)\n",
    "        1. [Encoding class labels](#Encoding-class-labels)\n",
    "        1. [One-hot encoding on nominal features](#One-hot-encoding-on-nominal-features)\n",
    "        1. [Pandas get_dummies](#Pandas-get_dummies)    \n",
    "1. [Partitioning a dataset into separate training and test sets](#Partitioning-a-dataset-into-separate-training-and-test-sets)\n",
    "1. [Bringing features onto the same scale](#Bringing-features-onto-the-same-scale)\n",
    "1. [Selecting meaningful features](#Selecting-meaningful-features)\n",
    "    1. [L1 and L2 regularization as penalties against model complexity](#L1-and-L2-regularization-as-penalties-against-model-complexity)\n",
    "    1. [Sequential feature selection](#Sequential-feature-selection)\n",
    "        1. [Homegrown implementation](#Homegrown-implementation-SBS)\n",
    "1. [Assessing feature importance with random forests](#Assessing-feature-importance-with-random-forests)\n",
    "    \n"
   ]
  },
  {
   "cell_type": "markdown",
   "metadata": {},
   "source": [
    "# Import"
   ]
  },
  {
   "cell_type": "markdown",
   "metadata": {},
   "source": [
    "<a id = 'Import'></a>"
   ]
  },
  {
   "cell_type": "code",
   "execution_count": 1,
   "metadata": {
    "ExecuteTime": {
     "end_time": "2019-09-07T03:34:50.948947Z",
     "start_time": "2019-09-07T03:34:49.497272Z"
    }
   },
   "outputs": [
    {
     "data": {
      "text/html": [
       "<style>.container { width:95% !important; }</style>"
      ],
      "text/plain": [
       "<IPython.core.display.HTML object>"
      ]
     },
     "metadata": {},
     "output_type": "display_data"
    },
    {
     "name": "stderr",
     "output_type": "stream",
     "text": [
      "/usr/local/lib/python3.7/site-packages/lightgbm/__init__.py:46: UserWarning: Starting from version 2.2.1, the library file in distribution wheels for macOS is built by the Apple Clang (Xcode_8.3.3) compiler.\n",
      "This means that in case of installing LightGBM from PyPI via the ``pip install lightgbm`` command, you don't need to install the gcc compiler anymore.\n",
      "Instead of that, you need to install the OpenMP library, which is required for running LightGBM on the system with the Apple Clang compiler.\n",
      "You can install the OpenMP library by the following command: ``brew install libomp``.\n",
      "  \"You can install the OpenMP library by the following command: ``brew install libomp``.\", UserWarning)\n"
     ]
    }
   ],
   "source": [
    "# standard libary and settings\n",
    "import os\n",
    "import sys\n",
    "import importlib\n",
    "import itertools\n",
    "from io import StringIO\n",
    "import warnings\n",
    "\n",
    "warnings.simplefilter(\"ignore\")\n",
    "from IPython.core.display import display, HTML\n",
    "\n",
    "display(HTML(\"<style>.container { width:95% !important; }</style>\"))\n",
    "\n",
    "# data extensions and settings\n",
    "import numpy as np\n",
    "\n",
    "np.set_printoptions(threshold=np.inf, suppress=True)\n",
    "import pandas as pd\n",
    "\n",
    "pd.set_option(\"display.max_rows\", 500)\n",
    "pd.options.display.float_format = \"{:,.6f}\".format\n",
    "\n",
    "# modeling extensions\n",
    "import sklearn.base as base\n",
    "import sklearn.cluster as cluster\n",
    "import sklearn.datasets as datasets\n",
    "import sklearn.decomposition as decomposition\n",
    "import sklearn.ensemble as ensemble\n",
    "import sklearn.feature_extraction as feature_extraction\n",
    "import sklearn.feature_selection as feature_selection\n",
    "import sklearn.linear_model as linear_model\n",
    "import sklearn.metrics as metrics\n",
    "import sklearn.model_selection as model_selection\n",
    "import sklearn.neighbors as neighbors\n",
    "import sklearn.pipeline as pipeline\n",
    "import sklearn.preprocessing as preprocessing\n",
    "import sklearn.svm as svm\n",
    "import sklearn.tree as tree\n",
    "\n",
    "# visualization extensions and settings\n",
    "import seaborn as sns\n",
    "import matplotlib.pyplot as plt\n",
    "\n",
    "# custom extensions and settings\n",
    "sys.path.append(\"/home/mlmachine\") if \"/home/mlmachine\" not in sys.path else None\n",
    "sys.path.append(\"/home/prettierplot\") if \"/home/prettierplot\" not in sys.path else None\n",
    "\n",
    "import mlmachine as mlm\n",
    "from prettierplot.plotter import PrettierPlot\n",
    "import prettierplot.style as style\n",
    "\n",
    "# magic functions\n",
    "%matplotlib inline"
   ]
  },
  {
   "cell_type": "markdown",
   "metadata": {},
   "source": [
    "# Dealing with missing data\n",
    "\n",
    "Missing data is a common occurrence in real-world data sets and can cause problems with machine learning algorithms. Simply ignoring the null values is not an option, so it is worthwhile to understand strategies for addressing missing data"
   ]
  },
  {
   "cell_type": "markdown",
   "metadata": {},
   "source": [
    "<a id = 'Dealing-with-missing-data'></a>"
   ]
  },
  {
   "cell_type": "markdown",
   "metadata": {},
   "source": [
    "## Identifying missing data"
   ]
  },
  {
   "cell_type": "markdown",
   "metadata": {},
   "source": [
    "<a id = 'Identifying-missing-data'></a>"
   ]
  },
  {
   "cell_type": "code",
   "execution_count": 2,
   "metadata": {
    "ExecuteTime": {
     "end_time": "2019-09-07T03:34:50.964240Z",
     "start_time": "2019-09-07T03:34:50.950846Z"
    }
   },
   "outputs": [
    {
     "data": {
      "text/html": [
       "<div>\n",
       "<style scoped>\n",
       "    .dataframe tbody tr th:only-of-type {\n",
       "        vertical-align: middle;\n",
       "    }\n",
       "\n",
       "    .dataframe tbody tr th {\n",
       "        vertical-align: top;\n",
       "    }\n",
       "\n",
       "    .dataframe thead th {\n",
       "        text-align: right;\n",
       "    }\n",
       "</style>\n",
       "<table border=\"1\" class=\"dataframe\">\n",
       "  <thead>\n",
       "    <tr style=\"text-align: right;\">\n",
       "      <th></th>\n",
       "      <th>A</th>\n",
       "      <th>B</th>\n",
       "      <th>C</th>\n",
       "      <th>D</th>\n",
       "    </tr>\n",
       "  </thead>\n",
       "  <tbody>\n",
       "    <tr>\n",
       "      <td>0</td>\n",
       "      <td>1.000000</td>\n",
       "      <td>2.000000</td>\n",
       "      <td>3.000000</td>\n",
       "      <td>4.000000</td>\n",
       "    </tr>\n",
       "    <tr>\n",
       "      <td>1</td>\n",
       "      <td>5.000000</td>\n",
       "      <td>6.000000</td>\n",
       "      <td>nan</td>\n",
       "      <td>8.000000</td>\n",
       "    </tr>\n",
       "    <tr>\n",
       "      <td>2</td>\n",
       "      <td>10.000000</td>\n",
       "      <td>11.000000</td>\n",
       "      <td>12.000000</td>\n",
       "      <td>nan</td>\n",
       "    </tr>\n",
       "  </tbody>\n",
       "</table>\n",
       "</div>"
      ],
      "text/plain": [
       "          A         B         C        D\n",
       "0  1.000000  2.000000  3.000000 4.000000\n",
       "1  5.000000  6.000000       nan 8.000000\n",
       "2 10.000000 11.000000 12.000000      nan"
      ]
     },
     "execution_count": 2,
     "metadata": {},
     "output_type": "execute_result"
    }
   ],
   "source": [
    "# create fake dataset with nulls\n",
    "csv_data = \"\"\"\n",
    "A,B,C,D\n",
    "1.0,2.0,3.0,4.0\n",
    "5.0,6.0,,8.0\n",
    "10.0,11.0,12.0,\n",
    "\"\"\"\n",
    "\n",
    "df = pd.read_csv(StringIO(csv_data))\n",
    "df"
   ]
  },
  {
   "cell_type": "code",
   "execution_count": 3,
   "metadata": {
    "ExecuteTime": {
     "end_time": "2019-09-07T03:34:50.971565Z",
     "start_time": "2019-09-07T03:34:50.966369Z"
    }
   },
   "outputs": [
    {
     "data": {
      "text/plain": [
       "A    0\n",
       "B    0\n",
       "C    1\n",
       "D    1\n",
       "dtype: int64"
      ]
     },
     "execution_count": 3,
     "metadata": {},
     "output_type": "execute_result"
    }
   ],
   "source": [
    "# count nulls in each column\n",
    "df.isnull().sum()"
   ]
  },
  {
   "cell_type": "markdown",
   "metadata": {},
   "source": [
    "## Eliminating samples or features with missing values\n",
    "\n",
    "One option for handling missing data is to remove the rows and/or columns that contain the missing values. This approach is far from ideal, as we are losing potentially valuable information."
   ]
  },
  {
   "cell_type": "markdown",
   "metadata": {},
   "source": [
    "<a id = 'Eliminating-samples-or-features-with-missing-values'></a>"
   ]
  },
  {
   "cell_type": "code",
   "execution_count": 4,
   "metadata": {
    "ExecuteTime": {
     "end_time": "2019-09-07T03:34:50.982775Z",
     "start_time": "2019-09-07T03:34:50.973697Z"
    }
   },
   "outputs": [
    {
     "data": {
      "text/html": [
       "<div>\n",
       "<style scoped>\n",
       "    .dataframe tbody tr th:only-of-type {\n",
       "        vertical-align: middle;\n",
       "    }\n",
       "\n",
       "    .dataframe tbody tr th {\n",
       "        vertical-align: top;\n",
       "    }\n",
       "\n",
       "    .dataframe thead th {\n",
       "        text-align: right;\n",
       "    }\n",
       "</style>\n",
       "<table border=\"1\" class=\"dataframe\">\n",
       "  <thead>\n",
       "    <tr style=\"text-align: right;\">\n",
       "      <th></th>\n",
       "      <th>A</th>\n",
       "      <th>B</th>\n",
       "      <th>C</th>\n",
       "      <th>D</th>\n",
       "    </tr>\n",
       "  </thead>\n",
       "  <tbody>\n",
       "    <tr>\n",
       "      <td>0</td>\n",
       "      <td>1.000000</td>\n",
       "      <td>2.000000</td>\n",
       "      <td>3.000000</td>\n",
       "      <td>4.000000</td>\n",
       "    </tr>\n",
       "  </tbody>\n",
       "</table>\n",
       "</div>"
      ],
      "text/plain": [
       "         A        B        C        D\n",
       "0 1.000000 2.000000 3.000000 4.000000"
      ]
     },
     "execution_count": 4,
     "metadata": {},
     "output_type": "execute_result"
    }
   ],
   "source": [
    "# drop rows with nulls\n",
    "df.dropna(axis=0)"
   ]
  },
  {
   "cell_type": "code",
   "execution_count": 5,
   "metadata": {
    "ExecuteTime": {
     "end_time": "2019-09-07T03:34:50.991943Z",
     "start_time": "2019-09-07T03:34:50.984546Z"
    }
   },
   "outputs": [
    {
     "data": {
      "text/html": [
       "<div>\n",
       "<style scoped>\n",
       "    .dataframe tbody tr th:only-of-type {\n",
       "        vertical-align: middle;\n",
       "    }\n",
       "\n",
       "    .dataframe tbody tr th {\n",
       "        vertical-align: top;\n",
       "    }\n",
       "\n",
       "    .dataframe thead th {\n",
       "        text-align: right;\n",
       "    }\n",
       "</style>\n",
       "<table border=\"1\" class=\"dataframe\">\n",
       "  <thead>\n",
       "    <tr style=\"text-align: right;\">\n",
       "      <th></th>\n",
       "      <th>A</th>\n",
       "      <th>B</th>\n",
       "    </tr>\n",
       "  </thead>\n",
       "  <tbody>\n",
       "    <tr>\n",
       "      <td>0</td>\n",
       "      <td>1.000000</td>\n",
       "      <td>2.000000</td>\n",
       "    </tr>\n",
       "    <tr>\n",
       "      <td>1</td>\n",
       "      <td>5.000000</td>\n",
       "      <td>6.000000</td>\n",
       "    </tr>\n",
       "    <tr>\n",
       "      <td>2</td>\n",
       "      <td>10.000000</td>\n",
       "      <td>11.000000</td>\n",
       "    </tr>\n",
       "  </tbody>\n",
       "</table>\n",
       "</div>"
      ],
      "text/plain": [
       "          A         B\n",
       "0  1.000000  2.000000\n",
       "1  5.000000  6.000000\n",
       "2 10.000000 11.000000"
      ]
     },
     "execution_count": 5,
     "metadata": {},
     "output_type": "execute_result"
    }
   ],
   "source": [
    "# drop columns with nulls\n",
    "df.dropna(axis=1)"
   ]
  },
  {
   "cell_type": "code",
   "execution_count": 6,
   "metadata": {
    "ExecuteTime": {
     "end_time": "2019-09-07T03:34:51.001420Z",
     "start_time": "2019-09-07T03:34:50.993520Z"
    }
   },
   "outputs": [
    {
     "data": {
      "text/html": [
       "<div>\n",
       "<style scoped>\n",
       "    .dataframe tbody tr th:only-of-type {\n",
       "        vertical-align: middle;\n",
       "    }\n",
       "\n",
       "    .dataframe tbody tr th {\n",
       "        vertical-align: top;\n",
       "    }\n",
       "\n",
       "    .dataframe thead th {\n",
       "        text-align: right;\n",
       "    }\n",
       "</style>\n",
       "<table border=\"1\" class=\"dataframe\">\n",
       "  <thead>\n",
       "    <tr style=\"text-align: right;\">\n",
       "      <th></th>\n",
       "      <th>A</th>\n",
       "      <th>B</th>\n",
       "      <th>C</th>\n",
       "      <th>D</th>\n",
       "    </tr>\n",
       "  </thead>\n",
       "  <tbody>\n",
       "    <tr>\n",
       "      <td>0</td>\n",
       "      <td>1.000000</td>\n",
       "      <td>2.000000</td>\n",
       "      <td>3.000000</td>\n",
       "      <td>4.000000</td>\n",
       "    </tr>\n",
       "    <tr>\n",
       "      <td>1</td>\n",
       "      <td>5.000000</td>\n",
       "      <td>6.000000</td>\n",
       "      <td>nan</td>\n",
       "      <td>8.000000</td>\n",
       "    </tr>\n",
       "    <tr>\n",
       "      <td>2</td>\n",
       "      <td>10.000000</td>\n",
       "      <td>11.000000</td>\n",
       "      <td>12.000000</td>\n",
       "      <td>nan</td>\n",
       "    </tr>\n",
       "  </tbody>\n",
       "</table>\n",
       "</div>"
      ],
      "text/plain": [
       "          A         B         C        D\n",
       "0  1.000000  2.000000  3.000000 4.000000\n",
       "1  5.000000  6.000000       nan 8.000000\n",
       "2 10.000000 11.000000 12.000000      nan"
      ]
     },
     "execution_count": 6,
     "metadata": {},
     "output_type": "execute_result"
    }
   ],
   "source": [
    "# drop rows that contain all null values\n",
    "df.dropna(axis=0, how=\"all\")"
   ]
  },
  {
   "cell_type": "code",
   "execution_count": 7,
   "metadata": {
    "ExecuteTime": {
     "end_time": "2019-09-07T03:34:51.012982Z",
     "start_time": "2019-09-07T03:34:51.003237Z"
    }
   },
   "outputs": [
    {
     "data": {
      "text/html": [
       "<div>\n",
       "<style scoped>\n",
       "    .dataframe tbody tr th:only-of-type {\n",
       "        vertical-align: middle;\n",
       "    }\n",
       "\n",
       "    .dataframe tbody tr th {\n",
       "        vertical-align: top;\n",
       "    }\n",
       "\n",
       "    .dataframe thead th {\n",
       "        text-align: right;\n",
       "    }\n",
       "</style>\n",
       "<table border=\"1\" class=\"dataframe\">\n",
       "  <thead>\n",
       "    <tr style=\"text-align: right;\">\n",
       "      <th></th>\n",
       "      <th>A</th>\n",
       "      <th>B</th>\n",
       "      <th>C</th>\n",
       "      <th>D</th>\n",
       "    </tr>\n",
       "  </thead>\n",
       "  <tbody>\n",
       "    <tr>\n",
       "      <td>0</td>\n",
       "      <td>1.000000</td>\n",
       "      <td>2.000000</td>\n",
       "      <td>3.000000</td>\n",
       "      <td>4.000000</td>\n",
       "    </tr>\n",
       "  </tbody>\n",
       "</table>\n",
       "</div>"
      ],
      "text/plain": [
       "         A        B        C        D\n",
       "0 1.000000 2.000000 3.000000 4.000000"
      ]
     },
     "execution_count": 7,
     "metadata": {},
     "output_type": "execute_result"
    }
   ],
   "source": [
    "# drop rows that contain < 4 values\n",
    "df.dropna(axis=0, thresh=4)"
   ]
  },
  {
   "cell_type": "code",
   "execution_count": 8,
   "metadata": {
    "ExecuteTime": {
     "end_time": "2019-09-07T03:34:51.027805Z",
     "start_time": "2019-09-07T03:34:51.016195Z"
    }
   },
   "outputs": [
    {
     "data": {
      "text/html": [
       "<div>\n",
       "<style scoped>\n",
       "    .dataframe tbody tr th:only-of-type {\n",
       "        vertical-align: middle;\n",
       "    }\n",
       "\n",
       "    .dataframe tbody tr th {\n",
       "        vertical-align: top;\n",
       "    }\n",
       "\n",
       "    .dataframe thead th {\n",
       "        text-align: right;\n",
       "    }\n",
       "</style>\n",
       "<table border=\"1\" class=\"dataframe\">\n",
       "  <thead>\n",
       "    <tr style=\"text-align: right;\">\n",
       "      <th></th>\n",
       "      <th>A</th>\n",
       "      <th>B</th>\n",
       "      <th>C</th>\n",
       "      <th>D</th>\n",
       "    </tr>\n",
       "  </thead>\n",
       "  <tbody>\n",
       "    <tr>\n",
       "      <td>0</td>\n",
       "      <td>1.000000</td>\n",
       "      <td>2.000000</td>\n",
       "      <td>3.000000</td>\n",
       "      <td>4.000000</td>\n",
       "    </tr>\n",
       "    <tr>\n",
       "      <td>2</td>\n",
       "      <td>10.000000</td>\n",
       "      <td>11.000000</td>\n",
       "      <td>12.000000</td>\n",
       "      <td>nan</td>\n",
       "    </tr>\n",
       "  </tbody>\n",
       "</table>\n",
       "</div>"
      ],
      "text/plain": [
       "          A         B         C        D\n",
       "0  1.000000  2.000000  3.000000 4.000000\n",
       "2 10.000000 11.000000 12.000000      nan"
      ]
     },
     "execution_count": 8,
     "metadata": {},
     "output_type": "execute_result"
    }
   ],
   "source": [
    "# drop rows where column C contains a null values\n",
    "df.dropna(axis=0, subset=[\"C\"])"
   ]
  },
  {
   "cell_type": "markdown",
   "metadata": {},
   "source": [
    "##  Imputing missing values\n",
    "\n",
    "Imputing involves the strategic estimation of the missing vluaes. There are several techniques, including mean imputation, median imputation, and mode (most_frequent_ imputation. The latter case is useful for categorical features."
   ]
  },
  {
   "cell_type": "markdown",
   "metadata": {},
   "source": [
    "<a id = 'Imputing-missing-values'></a>"
   ]
  },
  {
   "cell_type": "code",
   "execution_count": 9,
   "metadata": {
    "ExecuteTime": {
     "end_time": "2019-09-07T03:34:51.037420Z",
     "start_time": "2019-09-07T03:34:51.029875Z"
    }
   },
   "outputs": [
    {
     "name": "stderr",
     "output_type": "stream",
     "text": [
      "/usr/local/lib/python3.7/site-packages/sklearn/utils/deprecation.py:66: DeprecationWarning: Class Imputer is deprecated; Imputer was deprecated in version 0.20 and will be removed in 0.22. Import impute.SimpleImputer from sklearn instead.\n",
      "  warnings.warn(msg, category=DeprecationWarning)\n"
     ]
    },
    {
     "data": {
      "text/plain": [
       "array([[ 1. ,  2. ,  3. ,  4. ],\n",
       "       [ 5. ,  6. ,  7.5,  8. ],\n",
       "       [10. , 11. , 12. ,  6. ]])"
      ]
     },
     "execution_count": 9,
     "metadata": {},
     "output_type": "execute_result"
    }
   ],
   "source": [
    "# impute missing values with the column average\n",
    "imr = preprocessing.Imputer(missing_values=\"NaN\", strategy=\"mean\", axis=0)\n",
    "imr = imr.fit(df.values)\n",
    "dfImputed = imr.transform(df.values)\n",
    "dfImputed"
   ]
  },
  {
   "cell_type": "code",
   "execution_count": 10,
   "metadata": {
    "ExecuteTime": {
     "end_time": "2019-09-07T03:34:51.045986Z",
     "start_time": "2019-09-07T03:34:51.039055Z"
    }
   },
   "outputs": [
    {
     "name": "stderr",
     "output_type": "stream",
     "text": [
      "/usr/local/lib/python3.7/site-packages/sklearn/utils/deprecation.py:66: DeprecationWarning: Class Imputer is deprecated; Imputer was deprecated in version 0.20 and will be removed in 0.22. Import impute.SimpleImputer from sklearn instead.\n",
      "  warnings.warn(msg, category=DeprecationWarning)\n"
     ]
    },
    {
     "data": {
      "text/plain": [
       "array([[ 1.        ,  2.        ,  3.        ,  4.        ],\n",
       "       [ 5.        ,  6.        ,  6.33333333,  8.        ],\n",
       "       [10.        , 11.        , 12.        , 11.        ]])"
      ]
     },
     "execution_count": 10,
     "metadata": {},
     "output_type": "execute_result"
    }
   ],
   "source": [
    "# impute missing values with the row average\n",
    "imr = preprocessing.Imputer(missing_values=\"NaN\", strategy=\"mean\", axis=1)\n",
    "imr = imr.fit(df.values)\n",
    "dfImputed = imr.transform(df.values)\n",
    "dfImputed"
   ]
  },
  {
   "cell_type": "markdown",
   "metadata": {},
   "source": [
    "# Handling categorical data\n",
    "\n",
    "It is best practicate to convert categorical data that is represented as text to numerical representation. The proper way to perform this transformation depends on the scale of the categorical features."
   ]
  },
  {
   "cell_type": "markdown",
   "metadata": {},
   "source": [
    "<a id = 'Handling-categorical-data'></a>"
   ]
  },
  {
   "cell_type": "markdown",
   "metadata": {},
   "source": [
    "##  Nominal and ordinal features\n",
    "\n",
    "Nominal features are those where the order does not matter, such as  gender (male or female)\n",
    "\n",
    "Ordinal features are those where there is a defined order, though not necessarily a measureable distance between levels. An example would be shirt size of small, medium and large.\n"
   ]
  },
  {
   "cell_type": "markdown",
   "metadata": {},
   "source": [
    "<a id = 'Nominal-and-ordinal-features'></a>"
   ]
  },
  {
   "cell_type": "code",
   "execution_count": 11,
   "metadata": {
    "ExecuteTime": {
     "end_time": "2019-09-07T03:34:51.058075Z",
     "start_time": "2019-09-07T03:34:51.047567Z"
    }
   },
   "outputs": [
    {
     "data": {
      "text/html": [
       "<div>\n",
       "<style scoped>\n",
       "    .dataframe tbody tr th:only-of-type {\n",
       "        vertical-align: middle;\n",
       "    }\n",
       "\n",
       "    .dataframe tbody tr th {\n",
       "        vertical-align: top;\n",
       "    }\n",
       "\n",
       "    .dataframe thead th {\n",
       "        text-align: right;\n",
       "    }\n",
       "</style>\n",
       "<table border=\"1\" class=\"dataframe\">\n",
       "  <thead>\n",
       "    <tr style=\"text-align: right;\">\n",
       "      <th></th>\n",
       "      <th>color</th>\n",
       "      <th>size</th>\n",
       "      <th>price</th>\n",
       "      <th>classlabel</th>\n",
       "    </tr>\n",
       "  </thead>\n",
       "  <tbody>\n",
       "    <tr>\n",
       "      <td>0</td>\n",
       "      <td>green</td>\n",
       "      <td>M</td>\n",
       "      <td>10.100000</td>\n",
       "      <td>class1</td>\n",
       "    </tr>\n",
       "    <tr>\n",
       "      <td>1</td>\n",
       "      <td>red</td>\n",
       "      <td>L</td>\n",
       "      <td>13.500000</td>\n",
       "      <td>class2</td>\n",
       "    </tr>\n",
       "    <tr>\n",
       "      <td>2</td>\n",
       "      <td>blue</td>\n",
       "      <td>XL</td>\n",
       "      <td>15.300000</td>\n",
       "      <td>class1</td>\n",
       "    </tr>\n",
       "  </tbody>\n",
       "</table>\n",
       "</div>"
      ],
      "text/plain": [
       "   color size     price classlabel\n",
       "0  green    M 10.100000     class1\n",
       "1    red    L 13.500000     class2\n",
       "2   blue   XL 15.300000     class1"
      ]
     },
     "execution_count": 11,
     "metadata": {},
     "output_type": "execute_result"
    }
   ],
   "source": [
    "# create dataframe\n",
    "df = pd.DataFrame(\n",
    "    [\n",
    "        [\"green\", \"M\", 10.1, \"class1\"],\n",
    "        [\"red\", \"L\", 13.5, \"class2\"],\n",
    "        [\"blue\", \"XL\", 15.3, \"class1\"],\n",
    "    ]\n",
    ")\n",
    "df.columns = [\"color\", \"size\", \"price\", \"classlabel\"]\n",
    "df"
   ]
  },
  {
   "cell_type": "markdown",
   "metadata": {},
   "source": [
    "> Remarks - Color is a nominal feature, and size is an ordinal feature. Price is numerical. The class label is nominal (not ordinal, since the order doesn't matter) and needs to be converted to a numerical representation."
   ]
  },
  {
   "cell_type": "markdown",
   "metadata": {},
   "source": [
    "###  Mapping ordinal variables\n",
    "\n",
    "Ordinal features have an order to the values, and can be converted into numerical representations that preserve the order\n"
   ]
  },
  {
   "cell_type": "markdown",
   "metadata": {},
   "source": [
    "<a id = 'Mapping-ordinal-variables'></a>"
   ]
  },
  {
   "cell_type": "code",
   "execution_count": 12,
   "metadata": {
    "ExecuteTime": {
     "end_time": "2019-09-07T03:34:51.069167Z",
     "start_time": "2019-09-07T03:34:51.059882Z"
    }
   },
   "outputs": [
    {
     "data": {
      "text/html": [
       "<div>\n",
       "<style scoped>\n",
       "    .dataframe tbody tr th:only-of-type {\n",
       "        vertical-align: middle;\n",
       "    }\n",
       "\n",
       "    .dataframe tbody tr th {\n",
       "        vertical-align: top;\n",
       "    }\n",
       "\n",
       "    .dataframe thead th {\n",
       "        text-align: right;\n",
       "    }\n",
       "</style>\n",
       "<table border=\"1\" class=\"dataframe\">\n",
       "  <thead>\n",
       "    <tr style=\"text-align: right;\">\n",
       "      <th></th>\n",
       "      <th>color</th>\n",
       "      <th>size</th>\n",
       "      <th>price</th>\n",
       "      <th>classlabel</th>\n",
       "    </tr>\n",
       "  </thead>\n",
       "  <tbody>\n",
       "    <tr>\n",
       "      <td>0</td>\n",
       "      <td>green</td>\n",
       "      <td>1</td>\n",
       "      <td>10.100000</td>\n",
       "      <td>class1</td>\n",
       "    </tr>\n",
       "    <tr>\n",
       "      <td>1</td>\n",
       "      <td>red</td>\n",
       "      <td>2</td>\n",
       "      <td>13.500000</td>\n",
       "      <td>class2</td>\n",
       "    </tr>\n",
       "    <tr>\n",
       "      <td>2</td>\n",
       "      <td>blue</td>\n",
       "      <td>3</td>\n",
       "      <td>15.300000</td>\n",
       "      <td>class1</td>\n",
       "    </tr>\n",
       "  </tbody>\n",
       "</table>\n",
       "</div>"
      ],
      "text/plain": [
       "   color  size     price classlabel\n",
       "0  green     1 10.100000     class1\n",
       "1    red     2 13.500000     class2\n",
       "2   blue     3 15.300000     class1"
      ]
     },
     "execution_count": 12,
     "metadata": {},
     "output_type": "execute_result"
    }
   ],
   "source": [
    "# manually map size feature to numerical representation\n",
    "size_mapping = {\"XL\": 3, \"L\": 2, \"M\": 1}\n",
    "\n",
    "df[\"size\"] = df[\"size\"].map(size_mapping)\n",
    "df"
   ]
  },
  {
   "cell_type": "code",
   "execution_count": 13,
   "metadata": {
    "ExecuteTime": {
     "end_time": "2019-09-07T03:34:51.075683Z",
     "start_time": "2019-09-07T03:34:51.071101Z"
    }
   },
   "outputs": [
    {
     "data": {
      "text/plain": [
       "{3: 'XL', 2: 'L', 1: 'M'}"
      ]
     },
     "execution_count": 13,
     "metadata": {},
     "output_type": "execute_result"
    }
   ],
   "source": [
    "# revert size feature back to original values\n",
    "inv_size_mapping = {v: k for k, v in size_mapping.items()}\n",
    "inv_size_mapping"
   ]
  },
  {
   "cell_type": "markdown",
   "metadata": {},
   "source": [
    "###  Encoding class labels\n",
    "\n",
    "Class labels do not imply any order and are therefore nominal features. It does not matter if a numerical encodings of the labels are perceived as being higher or lower since we only need the class labels to be unique to each class."
   ]
  },
  {
   "cell_type": "markdown",
   "metadata": {},
   "source": [
    "<a id = 'Encoding-class-labels'></a>"
   ]
  },
  {
   "cell_type": "code",
   "execution_count": 14,
   "metadata": {
    "ExecuteTime": {
     "end_time": "2019-09-07T03:34:51.082626Z",
     "start_time": "2019-09-07T03:34:51.077528Z"
    }
   },
   "outputs": [
    {
     "data": {
      "text/plain": [
       "{'class1': 0, 'class2': 1}"
      ]
     },
     "execution_count": 14,
     "metadata": {},
     "output_type": "execute_result"
    }
   ],
   "source": [
    "# create class mapping dict\n",
    "# class labels are nominal, so we can count up from 0\n",
    "class_mapping = {label: ix for ix, label in enumerate(np.unique(df[\"classlabel\"]))}\n",
    "class_mapping"
   ]
  },
  {
   "cell_type": "code",
   "execution_count": 15,
   "metadata": {
    "ExecuteTime": {
     "end_time": "2019-09-07T03:34:51.092306Z",
     "start_time": "2019-09-07T03:34:51.084422Z"
    }
   },
   "outputs": [
    {
     "data": {
      "text/html": [
       "<div>\n",
       "<style scoped>\n",
       "    .dataframe tbody tr th:only-of-type {\n",
       "        vertical-align: middle;\n",
       "    }\n",
       "\n",
       "    .dataframe tbody tr th {\n",
       "        vertical-align: top;\n",
       "    }\n",
       "\n",
       "    .dataframe thead th {\n",
       "        text-align: right;\n",
       "    }\n",
       "</style>\n",
       "<table border=\"1\" class=\"dataframe\">\n",
       "  <thead>\n",
       "    <tr style=\"text-align: right;\">\n",
       "      <th></th>\n",
       "      <th>color</th>\n",
       "      <th>size</th>\n",
       "      <th>price</th>\n",
       "      <th>classlabel</th>\n",
       "    </tr>\n",
       "  </thead>\n",
       "  <tbody>\n",
       "    <tr>\n",
       "      <td>0</td>\n",
       "      <td>green</td>\n",
       "      <td>1</td>\n",
       "      <td>10.100000</td>\n",
       "      <td>0</td>\n",
       "    </tr>\n",
       "    <tr>\n",
       "      <td>1</td>\n",
       "      <td>red</td>\n",
       "      <td>2</td>\n",
       "      <td>13.500000</td>\n",
       "      <td>1</td>\n",
       "    </tr>\n",
       "    <tr>\n",
       "      <td>2</td>\n",
       "      <td>blue</td>\n",
       "      <td>3</td>\n",
       "      <td>15.300000</td>\n",
       "      <td>0</td>\n",
       "    </tr>\n",
       "  </tbody>\n",
       "</table>\n",
       "</div>"
      ],
      "text/plain": [
       "   color  size     price  classlabel\n",
       "0  green     1 10.100000           0\n",
       "1    red     2 13.500000           1\n",
       "2   blue     3 15.300000           0"
      ]
     },
     "execution_count": 15,
     "metadata": {},
     "output_type": "execute_result"
    }
   ],
   "source": [
    "# manually transform classlabel\n",
    "df[\"classlabel\"] = df[\"classlabel\"].map(class_mapping)\n",
    "df"
   ]
  },
  {
   "cell_type": "code",
   "execution_count": 16,
   "metadata": {
    "ExecuteTime": {
     "end_time": "2019-09-07T03:34:51.098543Z",
     "start_time": "2019-09-07T03:34:51.093781Z"
    }
   },
   "outputs": [
    {
     "data": {
      "text/plain": [
       "array([0, 1, 0])"
      ]
     },
     "execution_count": 16,
     "metadata": {},
     "output_type": "execute_result"
    }
   ],
   "source": [
    "# scikit-learn encoding implementation\n",
    "class_le = preprocessing.LabelEncoder()\n",
    "y = class_le.fit_transform(df[\"classlabel\"].values)\n",
    "y"
   ]
  },
  {
   "cell_type": "markdown",
   "metadata": {},
   "source": [
    "###  One-hot encoding on nominal features\n",
    "\n",
    "Nominal features need a different form of encoding than ordinal features. If we encoded nominal features with values 0, 1 2, and so on, then the values would convey that there some categorical values are higher/lower than others. For example, greem is neither higher nor lower than blue or red. \n",
    "\n",
    "To handle this type of feature, we can use a strategy called one-hot encoding."
   ]
  },
  {
   "cell_type": "markdown",
   "metadata": {},
   "source": [
    "<a id = 'One-hot-encoding-on-nominal-features'></a>"
   ]
  },
  {
   "cell_type": "code",
   "execution_count": 17,
   "metadata": {
    "ExecuteTime": {
     "end_time": "2019-09-07T03:34:51.112067Z",
     "start_time": "2019-09-07T03:34:51.100278Z"
    },
    "code_folding": []
   },
   "outputs": [
    {
     "name": "stderr",
     "output_type": "stream",
     "text": [
      "/usr/local/lib/python3.7/site-packages/sklearn/preprocessing/_encoders.py:451: DeprecationWarning: The 'categorical_features' keyword is deprecated in version 0.20 and will be removed in 0.22. You can use the ColumnTransformer instead.\n",
      "  \"use the ColumnTransformer instead.\", DeprecationWarning)\n"
     ]
    },
    {
     "data": {
      "text/plain": [
       "array([[ 0. ,  1. ,  0. ,  1. , 10.1],\n",
       "       [ 0. ,  0. ,  1. ,  2. , 13.5],\n",
       "       [ 1. ,  0. ,  0. ,  3. , 15.3]])"
      ]
     },
     "execution_count": 17,
     "metadata": {},
     "output_type": "execute_result"
    }
   ],
   "source": [
    "# OneHotEncoder example for color feature\n",
    "X = df[[\"color\", \"size\", \"price\"]].values\n",
    "color_le = preprocessing.LabelEncoder()\n",
    "X[:, 0] = color_le.fit_transform(X[:, 0])\n",
    "\n",
    "# define the column position of feature to encode\n",
    "ohe = preprocessing.OneHotEncoder(categorical_features=[0])\n",
    "ohe.fit_transform(X).toarray()"
   ]
  },
  {
   "cell_type": "markdown",
   "metadata": {},
   "source": [
    "* column 0 - is sample blue?\n",
    "* column 1 - is sample green?\n",
    "* column 2 - is sample red?\n"
   ]
  },
  {
   "cell_type": "markdown",
   "metadata": {},
   "source": [
    "###  Pandas get_dummies\n",
    "\n",
    "Pandas has a method called get_dummies, which is a very convenient way to convert nominal features to encoded binary features.\n",
    "\n",
    "Since encoding results in multicollinearity between features, get_dummies includes a parameter called drop_first, which drops the first column of each encoded feature, avoiding multicollinearity issues. These issues include matrices that are computationally difficult to invert, which leads to numerically unstable estimates."
   ]
  },
  {
   "cell_type": "markdown",
   "metadata": {},
   "source": [
    "<a id = 'Pandas-get_dummies'></a>"
   ]
  },
  {
   "cell_type": "code",
   "execution_count": 18,
   "metadata": {
    "ExecuteTime": {
     "end_time": "2019-09-07T03:34:51.129934Z",
     "start_time": "2019-09-07T03:34:51.113843Z"
    }
   },
   "outputs": [
    {
     "data": {
      "text/html": [
       "<div>\n",
       "<style scoped>\n",
       "    .dataframe tbody tr th:only-of-type {\n",
       "        vertical-align: middle;\n",
       "    }\n",
       "\n",
       "    .dataframe tbody tr th {\n",
       "        vertical-align: top;\n",
       "    }\n",
       "\n",
       "    .dataframe thead th {\n",
       "        text-align: right;\n",
       "    }\n",
       "</style>\n",
       "<table border=\"1\" class=\"dataframe\">\n",
       "  <thead>\n",
       "    <tr style=\"text-align: right;\">\n",
       "      <th></th>\n",
       "      <th>price</th>\n",
       "      <th>size</th>\n",
       "      <th>color_blue</th>\n",
       "      <th>color_green</th>\n",
       "      <th>color_red</th>\n",
       "    </tr>\n",
       "  </thead>\n",
       "  <tbody>\n",
       "    <tr>\n",
       "      <td>0</td>\n",
       "      <td>10.100000</td>\n",
       "      <td>1</td>\n",
       "      <td>0</td>\n",
       "      <td>1</td>\n",
       "      <td>0</td>\n",
       "    </tr>\n",
       "    <tr>\n",
       "      <td>1</td>\n",
       "      <td>13.500000</td>\n",
       "      <td>2</td>\n",
       "      <td>0</td>\n",
       "      <td>0</td>\n",
       "      <td>1</td>\n",
       "    </tr>\n",
       "    <tr>\n",
       "      <td>2</td>\n",
       "      <td>15.300000</td>\n",
       "      <td>3</td>\n",
       "      <td>1</td>\n",
       "      <td>0</td>\n",
       "      <td>0</td>\n",
       "    </tr>\n",
       "  </tbody>\n",
       "</table>\n",
       "</div>"
      ],
      "text/plain": [
       "      price  size  color_blue  color_green  color_red\n",
       "0 10.100000     1           0            1          0\n",
       "1 13.500000     2           0            0          1\n",
       "2 15.300000     3           1            0          0"
      ]
     },
     "execution_count": 18,
     "metadata": {},
     "output_type": "execute_result"
    }
   ],
   "source": [
    "# get all dummy columns\n",
    "pd.get_dummies(df[[\"price\", \"color\", \"size\"]])"
   ]
  },
  {
   "cell_type": "code",
   "execution_count": 19,
   "metadata": {
    "ExecuteTime": {
     "end_time": "2019-09-07T03:34:51.147492Z",
     "start_time": "2019-09-07T03:34:51.131962Z"
    }
   },
   "outputs": [
    {
     "data": {
      "text/html": [
       "<div>\n",
       "<style scoped>\n",
       "    .dataframe tbody tr th:only-of-type {\n",
       "        vertical-align: middle;\n",
       "    }\n",
       "\n",
       "    .dataframe tbody tr th {\n",
       "        vertical-align: top;\n",
       "    }\n",
       "\n",
       "    .dataframe thead th {\n",
       "        text-align: right;\n",
       "    }\n",
       "</style>\n",
       "<table border=\"1\" class=\"dataframe\">\n",
       "  <thead>\n",
       "    <tr style=\"text-align: right;\">\n",
       "      <th></th>\n",
       "      <th>price</th>\n",
       "      <th>size</th>\n",
       "      <th>color_green</th>\n",
       "      <th>color_red</th>\n",
       "    </tr>\n",
       "  </thead>\n",
       "  <tbody>\n",
       "    <tr>\n",
       "      <td>0</td>\n",
       "      <td>10.100000</td>\n",
       "      <td>1</td>\n",
       "      <td>1</td>\n",
       "      <td>0</td>\n",
       "    </tr>\n",
       "    <tr>\n",
       "      <td>1</td>\n",
       "      <td>13.500000</td>\n",
       "      <td>2</td>\n",
       "      <td>0</td>\n",
       "      <td>1</td>\n",
       "    </tr>\n",
       "    <tr>\n",
       "      <td>2</td>\n",
       "      <td>15.300000</td>\n",
       "      <td>3</td>\n",
       "      <td>0</td>\n",
       "      <td>0</td>\n",
       "    </tr>\n",
       "  </tbody>\n",
       "</table>\n",
       "</div>"
      ],
      "text/plain": [
       "      price  size  color_green  color_red\n",
       "0 10.100000     1            1          0\n",
       "1 13.500000     2            0          1\n",
       "2 15.300000     3            0          0"
      ]
     },
     "execution_count": 19,
     "metadata": {},
     "output_type": "execute_result"
    }
   ],
   "source": [
    "# drop first dummy column\n",
    "pd.get_dummies(df[[\"price\", \"color\", \"size\"]], drop_first=True)"
   ]
  },
  {
   "cell_type": "markdown",
   "metadata": {},
   "source": [
    "#  Partitioning a dataset into separate training and test sets"
   ]
  },
  {
   "cell_type": "markdown",
   "metadata": {},
   "source": [
    "<a id = 'Partitioning-a-dataset-into-separate-training-and-test-sets'></a>"
   ]
  },
  {
   "cell_type": "code",
   "execution_count": 20,
   "metadata": {
    "ExecuteTime": {
     "end_time": "2019-09-07T03:34:51.165315Z",
     "start_time": "2019-09-07T03:34:51.149217Z"
    },
    "code_folding": [],
    "scrolled": true
   },
   "outputs": [
    {
     "data": {
      "text/html": [
       "<div>\n",
       "<style scoped>\n",
       "    .dataframe tbody tr th:only-of-type {\n",
       "        vertical-align: middle;\n",
       "    }\n",
       "\n",
       "    .dataframe tbody tr th {\n",
       "        vertical-align: top;\n",
       "    }\n",
       "\n",
       "    .dataframe thead th {\n",
       "        text-align: right;\n",
       "    }\n",
       "</style>\n",
       "<table border=\"1\" class=\"dataframe\">\n",
       "  <thead>\n",
       "    <tr style=\"text-align: right;\">\n",
       "      <th></th>\n",
       "      <th>class labels</th>\n",
       "      <th>alcohol</th>\n",
       "      <th>malic_acid</th>\n",
       "      <th>ash</th>\n",
       "      <th>alcalinity_of_ash</th>\n",
       "      <th>magnesium</th>\n",
       "      <th>total_phenols</th>\n",
       "      <th>flavanoids</th>\n",
       "      <th>nonflavanoid_phenols</th>\n",
       "      <th>proanthocyanins</th>\n",
       "      <th>color_intensity</th>\n",
       "      <th>hue</th>\n",
       "      <th>od280/od315_of_diluted_wines</th>\n",
       "      <th>proline</th>\n",
       "    </tr>\n",
       "  </thead>\n",
       "  <tbody>\n",
       "    <tr>\n",
       "      <td>0</td>\n",
       "      <td>0.000000</td>\n",
       "      <td>14.230000</td>\n",
       "      <td>1.710000</td>\n",
       "      <td>2.430000</td>\n",
       "      <td>15.600000</td>\n",
       "      <td>127.000000</td>\n",
       "      <td>2.800000</td>\n",
       "      <td>3.060000</td>\n",
       "      <td>0.280000</td>\n",
       "      <td>2.290000</td>\n",
       "      <td>5.640000</td>\n",
       "      <td>1.040000</td>\n",
       "      <td>3.920000</td>\n",
       "      <td>1,065.000000</td>\n",
       "    </tr>\n",
       "    <tr>\n",
       "      <td>1</td>\n",
       "      <td>0.000000</td>\n",
       "      <td>13.200000</td>\n",
       "      <td>1.780000</td>\n",
       "      <td>2.140000</td>\n",
       "      <td>11.200000</td>\n",
       "      <td>100.000000</td>\n",
       "      <td>2.650000</td>\n",
       "      <td>2.760000</td>\n",
       "      <td>0.260000</td>\n",
       "      <td>1.280000</td>\n",
       "      <td>4.380000</td>\n",
       "      <td>1.050000</td>\n",
       "      <td>3.400000</td>\n",
       "      <td>1,050.000000</td>\n",
       "    </tr>\n",
       "    <tr>\n",
       "      <td>2</td>\n",
       "      <td>0.000000</td>\n",
       "      <td>13.160000</td>\n",
       "      <td>2.360000</td>\n",
       "      <td>2.670000</td>\n",
       "      <td>18.600000</td>\n",
       "      <td>101.000000</td>\n",
       "      <td>2.800000</td>\n",
       "      <td>3.240000</td>\n",
       "      <td>0.300000</td>\n",
       "      <td>2.810000</td>\n",
       "      <td>5.680000</td>\n",
       "      <td>1.030000</td>\n",
       "      <td>3.170000</td>\n",
       "      <td>1,185.000000</td>\n",
       "    </tr>\n",
       "    <tr>\n",
       "      <td>3</td>\n",
       "      <td>0.000000</td>\n",
       "      <td>14.370000</td>\n",
       "      <td>1.950000</td>\n",
       "      <td>2.500000</td>\n",
       "      <td>16.800000</td>\n",
       "      <td>113.000000</td>\n",
       "      <td>3.850000</td>\n",
       "      <td>3.490000</td>\n",
       "      <td>0.240000</td>\n",
       "      <td>2.180000</td>\n",
       "      <td>7.800000</td>\n",
       "      <td>0.860000</td>\n",
       "      <td>3.450000</td>\n",
       "      <td>1,480.000000</td>\n",
       "    </tr>\n",
       "    <tr>\n",
       "      <td>4</td>\n",
       "      <td>0.000000</td>\n",
       "      <td>13.240000</td>\n",
       "      <td>2.590000</td>\n",
       "      <td>2.870000</td>\n",
       "      <td>21.000000</td>\n",
       "      <td>118.000000</td>\n",
       "      <td>2.800000</td>\n",
       "      <td>2.690000</td>\n",
       "      <td>0.390000</td>\n",
       "      <td>1.820000</td>\n",
       "      <td>4.320000</td>\n",
       "      <td>1.040000</td>\n",
       "      <td>2.930000</td>\n",
       "      <td>735.000000</td>\n",
       "    </tr>\n",
       "  </tbody>\n",
       "</table>\n",
       "</div>"
      ],
      "text/plain": [
       "   class labels   alcohol  malic_acid      ash  alcalinity_of_ash  magnesium  \\\n",
       "0      0.000000 14.230000    1.710000 2.430000          15.600000 127.000000   \n",
       "1      0.000000 13.200000    1.780000 2.140000          11.200000 100.000000   \n",
       "2      0.000000 13.160000    2.360000 2.670000          18.600000 101.000000   \n",
       "3      0.000000 14.370000    1.950000 2.500000          16.800000 113.000000   \n",
       "4      0.000000 13.240000    2.590000 2.870000          21.000000 118.000000   \n",
       "\n",
       "   total_phenols  flavanoids  nonflavanoid_phenols  proanthocyanins  \\\n",
       "0       2.800000    3.060000              0.280000         2.290000   \n",
       "1       2.650000    2.760000              0.260000         1.280000   \n",
       "2       2.800000    3.240000              0.300000         2.810000   \n",
       "3       3.850000    3.490000              0.240000         2.180000   \n",
       "4       2.800000    2.690000              0.390000         1.820000   \n",
       "\n",
       "   color_intensity      hue  od280/od315_of_diluted_wines      proline  \n",
       "0         5.640000 1.040000                      3.920000 1,065.000000  \n",
       "1         4.380000 1.050000                      3.400000 1,050.000000  \n",
       "2         5.680000 1.030000                      3.170000 1,185.000000  \n",
       "3         7.800000 0.860000                      3.450000 1,480.000000  \n",
       "4         4.320000 1.040000                      2.930000   735.000000  "
      ]
     },
     "execution_count": 20,
     "metadata": {},
     "output_type": "execute_result"
    }
   ],
   "source": [
    "# load and inspect wine data\n",
    "wine_data = datasets.load_wine()\n",
    "df_wine = pd.DataFrame(\n",
    "    data=np.c_[wine_data.target, wine_data.data],\n",
    "    columns=[\"class labels\"] + wine_data.feature_names,\n",
    ")\n",
    "df_wine[:5]"
   ]
  },
  {
   "cell_type": "code",
   "execution_count": 21,
   "metadata": {
    "ExecuteTime": {
     "end_time": "2019-09-07T03:34:51.174763Z",
     "start_time": "2019-09-07T03:34:51.166935Z"
    }
   },
   "outputs": [],
   "source": [
    "# perform partitioned train/test split\n",
    "X, y = df_wine.iloc[:, 1:].values, df_wine.iloc[:, 0].values\n",
    "\n",
    "X_train, X_test, y_train, y_test = model_selection.train_test_split(\n",
    "    X, y, test_size=0.3, random_state=0, stratify=y\n",
    ")"
   ]
  },
  {
   "cell_type": "markdown",
   "metadata": {},
   "source": [
    "> Remarks - This create a holdout test set equal to 30 percent of the overal dataset. Stratify is used to ensure that the class types are represented proportionally in both the train and test sets."
   ]
  },
  {
   "cell_type": "markdown",
   "metadata": {},
   "source": [
    "#  Bringing features onto the same scale\n",
    "\n",
    "Decision trees and random forests are two of the few machine learning algorithms where feature scaling is not necessary. For the rest, feature scaling is essential. \n",
    "\n",
    "The reason is that algorithms tend to optimize weights according to the larger errors observed in features with larger values. If we have a dataset with two feature, where the first has values ranging from 1-10 and the second from 1-10,000, the errors associated with the second fefature will dominate the weight updating process in an algorithm like Adaline. Using this same dataset for k-nearest neighbors will have similar disastrous effects because the distance measures associated with the second feature will dwarf the first feature.\n",
    "\n",
    "There are two common features scaling techniques: normalization and standardization. \n",
    "\n",
    "__Normalization__\n",
    "\n",
    "Normalization involves rescaling each feature to a range of 0-1. This can be achieved with the following equation:\n",
    "\n",
    "$$\n",
    "x^{(i)}_{norm} = \\frac{x^{(i)} - x_{min}}{x_{max} - x_{min}}\n",
    "$$\n",
    "\n",
    "Where x_{min} is the smallest value in a feature column, x_{max} the largest, and x_{(i)} a particular sample's value for that feature."
   ]
  },
  {
   "cell_type": "markdown",
   "metadata": {},
   "source": [
    "<a id = 'Bringing-features-onto-the-same-scale'></a>"
   ]
  },
  {
   "cell_type": "code",
   "execution_count": 22,
   "metadata": {
    "ExecuteTime": {
     "end_time": "2019-09-07T03:34:51.181035Z",
     "start_time": "2019-09-07T03:34:51.176846Z"
    },
    "code_folding": []
   },
   "outputs": [],
   "source": [
    "# normalization example with MinMaxScaler\n",
    "mms = preprocessing.MinMaxScaler()\n",
    "X_train_norm = mms.fit_transform(X_train)\n",
    "X_test_norm = mms.transform(X_test)"
   ]
  },
  {
   "cell_type": "markdown",
   "metadata": {},
   "source": [
    "> Remarks - The test data must be transformed using the same 'fit' learned from the training data. This ensure that both data sets are scaled similarly despite being separate data sets."
   ]
  },
  {
   "cell_type": "markdown",
   "metadata": {},
   "source": [
    "__Standardization__\n",
    "\n",
    "Standardization is often more beneficial that normalization because algorithms such as logistic regression and SVM initialize weights to small random numbers close to 0. Standardization scales features such that each features has a mean $\\mu$ of 0 and a standard deviation $\\sigma$ of 1. Each feature takes on the form of a normal distribution. Additionally, standardization maintains information about outliers and makes algorithms less sensitive to their pull, contrasting with normalization which only has a limited range in which to scale a feature's values.\n",
    "\n",
    "The formula for standardization is:\n",
    "\n",
    "$$\n",
    "x_{std}^{(i)} = \\frac{x^{(i)} - \\mu_x}{\\sigma_x}\n",
    "$$"
   ]
  },
  {
   "cell_type": "code",
   "execution_count": 23,
   "metadata": {
    "ExecuteTime": {
     "end_time": "2019-09-07T03:34:51.190706Z",
     "start_time": "2019-09-07T03:34:51.185248Z"
    }
   },
   "outputs": [
    {
     "name": "stdout",
     "output_type": "stream",
     "text": [
      "standardized:  [-1.41421356 -0.70710678  0.          0.70710678  1.41421356]\n",
      "normalized:  [0.   0.25 0.5  0.75 1.  ]\n"
     ]
    }
   ],
   "source": [
    "# manual comparison of standardization vs. normalization\n",
    "ex = np.array([1, 2, 3, 4, 5])\n",
    "print(\"standardized: \", (ex - ex.mean()) / ex.std())\n",
    "print(\"normalized: \", (ex - ex.min()) / (ex.max() - ex.min()))"
   ]
  },
  {
   "cell_type": "code",
   "execution_count": 24,
   "metadata": {
    "ExecuteTime": {
     "end_time": "2019-09-07T03:34:51.197326Z",
     "start_time": "2019-09-07T03:34:51.193033Z"
    }
   },
   "outputs": [],
   "source": [
    "# standardization with scikit-learn\n",
    "sc = preprocessing.StandardScaler()\n",
    "X_train_sc = sc.fit_transform(X_train)\n",
    "X_test_sc = sc.transform(X_test)"
   ]
  },
  {
   "cell_type": "markdown",
   "metadata": {},
   "source": [
    "#  Selecting meaningful features\n",
    "\n",
    "Commong approaches to addressing overfitting include:\n",
    "\n",
    "1. Penalize model complexity with regularization\n",
    "2. Choose a simpler model with fewer parameters\n",
    "3. Reduce the dimensionality of the data\n"
   ]
  },
  {
   "cell_type": "markdown",
   "metadata": {},
   "source": [
    "<a id = 'Selecting-meaningful-features'></a>"
   ]
  },
  {
   "cell_type": "markdown",
   "metadata": {},
   "source": [
    "##  L1 and L2 regularization as penalties against model complexity\n",
    "\n",
    "Regularization adds a penalty term to the cost function that penalizes large weights. The intent is to add bias to the model and give preference to a simpler model with reduce variance compared to an unpenalized model. The L2 norm of the weight vector $\\textbf{w}$ sums the squared values of the individual weights. The forumla is:\n",
    "\n",
    "$$\n",
    "L2: \\lVert\\textbf{w}\\rVert_2^2 = \\sum_{j=1}^m w_j^2\n",
    "$$\n",
    "\n",
    "The L1 norm sums the absolute values of the individual weights. The forumula is:\n",
    "\n",
    "$$\n",
    "L1: \\lVert\\textbf{w}\\rVert_1 = \\sum_{j=1}^m \\lvert w_j\\rvert\n",
    "$$\n",
    "\n",
    "L1 regularization typically yields sparse feature vectors - most feature weights will be zero. This can be helpful if we have a high-dimensional dataset with many irrelevant features. It is effectively a feature selection technique.\n",
    "\n",
    "These penalty terms are controlled by a paramter $\\lambda$ which controls the strength of the penalty. Higher $\\lambda$ values lead to higher penalties, which reduces the models dependence on the training data."
   ]
  },
  {
   "cell_type": "markdown",
   "metadata": {},
   "source": [
    "<a id = 'L1-and-L2-regularization-as-penalties-against-model-complexity'></a>"
   ]
  },
  {
   "cell_type": "code",
   "execution_count": 25,
   "metadata": {
    "ExecuteTime": {
     "end_time": "2019-09-07T03:34:51.207527Z",
     "start_time": "2019-09-07T03:34:51.199393Z"
    },
    "code_folding": []
   },
   "outputs": [
    {
     "name": "stdout",
     "output_type": "stream",
     "text": [
      "Training accuracy: 1.0\n",
      "Test accuracy: 1.0\n"
     ]
    }
   ],
   "source": [
    "# feature selection example with L1 norm\n",
    "lr = linear_model.LogisticRegression(penalty=\"l1\", C=1.0)\n",
    "lr.fit(X_train_sc, y_train)\n",
    "print(\"Training accuracy: {}\".format(lr.score(X_train_sc, y_train)))\n",
    "print(\"Test accuracy: {}\".format(lr.score(X_test_sc, y_test)))"
   ]
  },
  {
   "cell_type": "code",
   "execution_count": 26,
   "metadata": {
    "ExecuteTime": {
     "end_time": "2019-09-07T03:34:51.213890Z",
     "start_time": "2019-09-07T03:34:51.209917Z"
    }
   },
   "outputs": [
    {
     "data": {
      "text/plain": [
       "array([-1.26365526, -1.2159905 , -2.37028304])"
      ]
     },
     "execution_count": 26,
     "metadata": {},
     "output_type": "execute_result"
    }
   ],
   "source": [
    "# print intercept\n",
    "lr.intercept_"
   ]
  },
  {
   "cell_type": "code",
   "execution_count": 27,
   "metadata": {
    "ExecuteTime": {
     "end_time": "2019-09-07T03:34:51.219616Z",
     "start_time": "2019-09-07T03:34:51.215582Z"
    }
   },
   "outputs": [
    {
     "data": {
      "text/plain": [
       "array([[ 1.24602831,  0.18060786,  0.74576558, -1.16373871,  0.        ,\n",
       "         0.        ,  1.16110212,  0.        ,  0.        ,  0.        ,\n",
       "         0.        ,  0.55672811,  2.50926851],\n",
       "       [-1.53686532, -0.38750703, -0.99534823,  0.36514741, -0.05955606,\n",
       "         0.        ,  0.66782725,  0.        ,  0.        , -1.93442136,\n",
       "         1.2336327 ,  0.        , -2.23074939],\n",
       "       [ 0.13573528,  0.16839197,  0.35724542,  0.        ,  0.        ,\n",
       "         0.        , -2.43844348,  0.        ,  0.        ,  1.56366033,\n",
       "        -0.81884499, -0.49234899,  0.        ]])"
      ]
     },
     "execution_count": 27,
     "metadata": {},
     "output_type": "execute_result"
    }
   ],
   "source": [
    "# print coefficients\n",
    "lr.coef_"
   ]
  },
  {
   "cell_type": "markdown",
   "metadata": {},
   "source": [
    "> Remarks - Since the wine dataset contains 3 classes, logistic regression implements a one-versus-rest approach to classification. With 3 classes, this means there are three different sets of weights. It's clear that the L1 norm penalty reduce several features weights to 0, effectively removing these features from the model."
   ]
  },
  {
   "cell_type": "markdown",
   "metadata": {},
   "source": [
    "##  Sequential feature selection\n",
    "\n",
    "Sequential feature selection is a process for strategically choosing a subset of the original features. The benefits include better computational efficiency and reduced generalization error through fewer irrelevant features. Sequential feature selection can even improve prediction accuracy if the model sufferes from overfitting when using the full dataset.\n",
    "\n",
    "Sequential feature selection is a greedy algorithm in that it makes the best choice at the immediate stage, rather than seeing if a sub-optimal decision in the present results in an overall better performance after subsequent steps. Exhaustive search algorithms are those that may seek near-term suboptimal solutions, but these approaches are often infeasible due to complexity.\n",
    "\n",
    "The algorithm for sequential feature selection removes features from the original set until a desired number of features is reached. A feature is removed based on a chosen criteria. Typically, the algorithm removes a feature, tests the model, and compares the outcome with the model's results based on the full feature set at that stage. This is attempted for each feature, and the feature whose absence resulted in the least performance loss relative to the baseline is removed."
   ]
  },
  {
   "cell_type": "markdown",
   "metadata": {},
   "source": [
    "<a id = 'Sequential-feature-selection'></a>"
   ]
  },
  {
   "cell_type": "markdown",
   "metadata": {},
   "source": [
    "###  Homegrown implementation"
   ]
  },
  {
   "cell_type": "markdown",
   "metadata": {},
   "source": [
    "<a id = 'Homegrown-implementation-SBS'></a>"
   ]
  },
  {
   "cell_type": "code",
   "execution_count": 28,
   "metadata": {
    "ExecuteTime": {
     "end_time": "2019-09-07T03:34:51.234070Z",
     "start_time": "2019-09-07T03:34:51.221599Z"
    },
    "code_folding": [
     12,
     50,
     62
    ]
   },
   "outputs": [],
   "source": [
    "# homegrown sequential feature selection algorithm\n",
    "class SBS:\n",
    "    def __init__(\n",
    "        self,\n",
    "        estimator,\n",
    "        k_features,\n",
    "        scoring=metrics.accuracy_score,\n",
    "        test_size=0.25,\n",
    "        random_state=1,\n",
    "    ):\n",
    "        self.scoring = scoring\n",
    "        self.estimator = base.clone(estimator)\n",
    "        self.k_features = k_features\n",
    "        self.test_size = test_size\n",
    "        self.random_state = random_state\n",
    "\n",
    "    def fit(self, X, y):\n",
    "        \"\"\"\n",
    "        Info:\n",
    "            Description:\n",
    "                \n",
    "            Paramaters:\n",
    "                X : \n",
    "                y : \n",
    "        \"\"\"\n",
    "        X_train, X_test, y_train, y_test = model_selection.train_test_split(\n",
    "            X, y, test_size=self.test_size, random_state=self.random_state\n",
    "        )\n",
    "        dim = X_train.shape[1]\n",
    "        self.indices_ = tuple(range(dim))\n",
    "        self.subsets_ = [self.indices_]\n",
    "        print(self.subsets_)\n",
    "        score = self._calc_score(X_train, y_train, X_test, y_test, self.indices_)\n",
    "        self.scores_ = [score]\n",
    "\n",
    "        while dim > self.k_features:\n",
    "            scores = []\n",
    "            subsets = []\n",
    "            for p in itertools.combinations(self.indices_, r=dim - 1):\n",
    "                score = self._calc_score(X_train, y_train, X_test, y_test, p)\n",
    "                scores.append(score)\n",
    "                subsets.append(p)\n",
    "\n",
    "            best = np.argmax(scores)\n",
    "            self.indices_ = subsets[best]\n",
    "            self.subsets_.append(self.indices_)\n",
    "            dim -= 1\n",
    "\n",
    "            self.scores_.append(scores[best])\n",
    "        self.k_score_ = self.scores_[-1]\n",
    "        return self\n",
    "\n",
    "    def transform(self, X):\n",
    "        \"\"\"\n",
    "        Info:\n",
    "            Description:\n",
    "                Transform dataset such that it only includes\n",
    "                features chosen by SBS\n",
    "            Paramaters:\n",
    "                X : Array\n",
    "                    Training data\n",
    "        \"\"\"\n",
    "        return X[:, self.indices_]\n",
    "\n",
    "    def _calc_score(self, X_train, y_train, X_test, y_test, indices):\n",
    "        \"\"\"\n",
    "        Info:\n",
    "            Description:\n",
    "                \n",
    "            Paramaters:\n",
    "                X_train : Array\n",
    "                    Training data\n",
    "                y_train : Array\n",
    "                    Labels for training data\n",
    "                X_test : Array\n",
    "                    Test data\n",
    "                y_test : Array\n",
    "                    Labels for test data\n",
    "                indices : tuple\n",
    "                    Indices used to select subset of features \n",
    "                    from original dataset\n",
    "        \"\"\"\n",
    "        self.estimator.fit(X_train[:, indices], y_train)\n",
    "        y_pred = self.estimator.predict(X_test[:, indices])\n",
    "        score = self.scoring(y_test, y_pred)\n",
    "        return score"
   ]
  },
  {
   "cell_type": "code",
   "execution_count": 29,
   "metadata": {
    "ExecuteTime": {
     "end_time": "2019-09-07T03:34:51.442358Z",
     "start_time": "2019-09-07T03:34:51.236131Z"
    },
    "code_folding": []
   },
   "outputs": [
    {
     "name": "stdout",
     "output_type": "stream",
     "text": [
      "[(0, 1, 2, 3, 4, 5, 6, 7, 8, 9, 10, 11, 12)]\n"
     ]
    },
    {
     "data": {
      "text/plain": [
       "<__main__.SBS at 0x131834890>"
      ]
     },
     "execution_count": 29,
     "metadata": {},
     "output_type": "execute_result"
    }
   ],
   "source": [
    "# Fit sequential backward selection with KNN\n",
    "knn = neighbors.KNeighborsClassifier(n_neighbors=5)\n",
    "sbs = SBS(estimator=knn, k_features=1)\n",
    "sbs.fit(X_train_sc, y_train)"
   ]
  },
  {
   "cell_type": "markdown",
   "metadata": {},
   "source": [
    "> Remarks - The SBS Class performs a train/test split inside of the fit method, and we also pass in our training dataset as opposed to the full data set. The reason for this is our 'outside' test is now heldout completely separate from the SBS process and can be used for validation testing."
   ]
  },
  {
   "cell_type": "code",
   "execution_count": 30,
   "metadata": {
    "ExecuteTime": {
     "end_time": "2019-09-07T03:34:51.821811Z",
     "start_time": "2019-09-07T03:34:51.444021Z"
    }
   },
   "outputs": [
    {
     "data": {
      "image/png": "[encoded data removed]",
      "text/plain": [
       "<Figure size 1080x540 with 1 Axes>"
      ]
     },
     "metadata": {},
     "output_type": "display_data"
    }
   ],
   "source": [
    "# plot score by feature subset size\n",
    "p = PrettierPlot()\n",
    "ax = p.make_canvas(\n",
    "    title=\"Scores based on feature subsets\",\n",
    "    xLabel=\"Feature size\",\n",
    "    yLabel=\"Score\",\n",
    "    y_shift=0.8,\n",
    ")\n",
    "\n",
    "k_feat = [len(k) for k in sbs.subsets_]\n",
    "\n",
    "p.prettyLine(\n",
    "    x=np.array(k_feat),\n",
    "    y=np.array(sbs.scores_),\n",
    "    xTicks=np.arange(1, 14, 1),\n",
    "    y_units=\"fff\",\n",
    "    label=\"score\",\n",
    "    markerOn=True,\n",
    "    ax=ax,\n",
    ")"
   ]
  },
  {
   "cell_type": "markdown",
   "metadata": {},
   "source": [
    "> Remarks - It's clear, based on the graphic above, that the accuracy of the model increased as the number of features was reduced fro  13 to 12. This is likely due to the curse of dimensionality effect being reduced. The model achieved 100% accuracy on $k = [3,7,8,9,10,11,12]$"
   ]
  },
  {
   "cell_type": "code",
   "execution_count": 31,
   "metadata": {
    "ExecuteTime": {
     "end_time": "2019-09-07T03:34:51.828153Z",
     "start_time": "2019-09-07T03:34:51.823724Z"
    }
   },
   "outputs": [
    {
     "name": "stdout",
     "output_type": "stream",
     "text": [
      "Index(['alcohol', 'malic_acid', 'od280/od315_of_diluted_wines'], dtype='object')\n"
     ]
    }
   ],
   "source": [
    "# details for the smallest feature subset\n",
    "k3 = list(sbs.subsets_[10])\n",
    "print(df_wine.columns[1:][k3])"
   ]
  },
  {
   "cell_type": "code",
   "execution_count": 32,
   "metadata": {
    "ExecuteTime": {
     "end_time": "2019-09-07T03:34:51.844553Z",
     "start_time": "2019-09-07T03:34:51.830257Z"
    }
   },
   "outputs": [
    {
     "name": "stdout",
     "output_type": "stream",
     "text": [
      "Training accuracy: 0.967741935483871\n",
      "Test accuracy: 0.9629629629629629\n"
     ]
    }
   ],
   "source": [
    "# evaluate KNN erformance on full data set\n",
    "knn.fit(X_train_sc, y_train)\n",
    "print(\"Training accuracy:\", knn.score(X_train_sc, y_train))\n",
    "print(\"Test accuracy:\", knn.score(X_test_sc, y_test))"
   ]
  },
  {
   "cell_type": "code",
   "execution_count": 33,
   "metadata": {
    "ExecuteTime": {
     "end_time": "2019-09-07T03:34:51.858857Z",
     "start_time": "2019-09-07T03:34:51.846453Z"
    }
   },
   "outputs": [
    {
     "name": "stdout",
     "output_type": "stream",
     "text": [
      "Training accuracy: 0.9516129032258065\n",
      "Test accuracy: 0.9259259259259259\n"
     ]
    }
   ],
   "source": [
    "# evaluate KNN erformance on full data set\n",
    "knn.fit(X_train_sc[:, k3], y_train)\n",
    "print(\"Training accuracy:\", knn.score(X_train_sc[:, k3], y_train))\n",
    "print(\"Test accuracy:\", knn.score(X_test_sc[:, k3], y_test))"
   ]
  },
  {
   "cell_type": "markdown",
   "metadata": {},
   "source": [
    "> Remarks - The model which uses less than one quarter of the original features peforms slightl worse. While the smaller feature set did not outperform the original, we significantly shrank the size of the data set. Simpler models are also easier to interpret. These advantages should be weighed against the decrease in performance."
   ]
  },
  {
   "cell_type": "markdown",
   "metadata": {},
   "source": [
    "#  Assessing feature importance with random forests\n",
    "\n",
    "The scikit-learn implementation of RandomForest captures the importance of features. This attribute includes the averaged impurity decrease computered from all decision tress in the forest."
   ]
  },
  {
   "cell_type": "markdown",
   "metadata": {},
   "source": [
    "<a id = 'Assessing-feature-importance-with-random-forests'></a>"
   ]
  },
  {
   "cell_type": "code",
   "execution_count": 34,
   "metadata": {
    "ExecuteTime": {
     "end_time": "2019-09-07T03:34:52.597381Z",
     "start_time": "2019-09-07T03:34:51.860789Z"
    },
    "code_folding": []
   },
   "outputs": [
    {
     "name": "stdout",
     "output_type": "stream",
     "text": [
      " 1) proline                        0.185453\n",
      " 2) flavanoids                     0.174751\n",
      " 3) color_intensity                0.143920\n",
      " 4) od280/od315_of_diluted_wines   0.136162\n",
      " 5) alcohol                        0.118529\n",
      " 6) hue                            0.058739\n",
      " 7) total_phenols                  0.050872\n",
      " 8) magnesium                      0.031357\n",
      " 9) malic_acid                     0.025648\n",
      "10) proanthocyanins                0.025570\n",
      "11) alcalinity_of_ash              0.022366\n",
      "12) nonflavanoid_phenols           0.013354\n",
      "13) ash                            0.013279\n"
     ]
    }
   ],
   "source": [
    "# display feature importances\n",
    "feat_labels = df_wine.columns[1:]\n",
    "forest = ensemble.RandomForestClassifier(n_estimators=500, random_state=1)\n",
    "forest.fit(X_train, y_train)\n",
    "importances = forest.feature_importances_\n",
    "indices = np.argsort(importances)[::-1]\n",
    "for f in range(X_train.shape[1]):\n",
    "    print(\n",
    "        \"%2d) %-*s %f\" % (f + 1, 30, feat_labels[indices[f]], importances[indices[f]])\n",
    "    )"
   ]
  },
  {
   "cell_type": "code",
   "execution_count": 35,
   "metadata": {
    "ExecuteTime": {
     "end_time": "2019-09-07T03:34:52.604537Z",
     "start_time": "2019-09-07T03:34:52.599145Z"
    }
   },
   "outputs": [
    {
     "data": {
      "text/plain": [
       "Index(['alcohol', 'malic_acid', 'ash', 'alcalinity_of_ash', 'magnesium',\n",
       "       'total_phenols', 'flavanoids', 'nonflavanoid_phenols',\n",
       "       'proanthocyanins', 'color_intensity', 'hue',\n",
       "       'od280/od315_of_diluted_wines', 'proline'],\n",
       "      dtype='object')"
      ]
     },
     "execution_count": 35,
     "metadata": {},
     "output_type": "execute_result"
    }
   ],
   "source": [
    "feat_labels"
   ]
  },
  {
   "cell_type": "code",
   "execution_count": 36,
   "metadata": {
    "ExecuteTime": {
     "end_time": "2019-09-07T03:34:53.064885Z",
     "start_time": "2019-09-07T03:34:52.609240Z"
    }
   },
   "outputs": [
    {
     "data": {
      "image/png": "[encoded data removed]",
      "text/plain": [
       "<Figure size 1080x540 with 1 Axes>"
      ]
     },
     "metadata": {},
     "output_type": "display_data"
    }
   ],
   "source": [
    "# plot feature importance value by feature\n",
    "p = PrettierPlot()\n",
    "ax = p.make_canvas(title=\"Feature importance\", yLabel=\"Accuracy\", y_shift=0.7)\n",
    "p.prettyBarV(\n",
    "    x=np.arange(1, len(indices) + 1),\n",
    "    counts=importances[indices],\n",
    "    xLabels=feat_labels[indices],\n",
    "    labelRotate=90,\n",
    "    y_units=\"fff\",\n",
    "    ax=ax,\n",
    ")"
   ]
  },
  {
   "cell_type": "markdown",
   "metadata": {},
   "source": [
    "> Remarks - Proline, flavanoids, color_intensity, OD280/OD315 diffraction and alchohol concentration are the most informative features in the dataset based on average impurity decrease across the 500 trees. Further, This set of features shares two features with the SBS feature subset selection. One important thing to note is that if two or more features are highly correlated, RandomForest will tend to rank one feature very highly while not fully capturing the other(s). This detracts from interpretability, but not from predictive performance."
   ]
  }
 ],
 "metadata": {
  "kernelspec": {
   "display_name": "Python 3",
   "language": "python",
   "name": "python3"
  },
  "language_info": {
   "codemirror_mode": {
    "name": "ipython",
    "version": 3
   },
   "file_extension": ".py",
   "mimetype": "text/x-python",
   "name": "python",
   "nbconvert_exporter": "python",
   "pygments_lexer": "ipython3",
   "version": "3.7.4"
  },
  "toc": {
   "base_numbering": 1,
   "nav_menu": {},
   "number_sections": true,
   "sideBar": true,
   "skip_h1_title": false,
   "title_cell": "Table of Contents",
   "title_sidebar": "Contents",
   "toc_cell": false,
   "toc_position": {},
   "toc_section_display": true,
   "toc_window_display": false
  }
 },
 "nbformat": 4,
 "nbformat_minor": 2
}
