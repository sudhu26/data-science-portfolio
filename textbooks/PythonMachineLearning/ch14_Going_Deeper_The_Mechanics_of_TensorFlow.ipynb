{
 "cells": [
  {
   "cell_type": "markdown",
   "metadata": {},
   "source": [
    "__Chapter 14 - Going Deeper – The Mechanics of TensorFlow__\n",
    "\n",
    "1. [Import](#Import)\n",
    "1. [TensorFlow ranks and tensors](#TensorFlow-ranks-and-tensors)\n",
    "    1. [How to get the rank and shape of a tensor](#How-to-get-the-rank-and-shape-of-a-tensor)\n",
    "1. [Understanding TensorFlow's computation graphs](#Understanding-TensorFlows-computation-graphs)\n",
    "1. [Placeholders in TensorFlow](#Placeholders-in-TensorFlow)\n",
    "    1. [Defining placeholders](#Defining-placeholders)\n",
    "    1. [Feeding placeholders with data](#Feeding-placeholders-with-data)\n",
    "    1. [Defining placeholders for data arrays with varying batchsizes](#Defining-placeholders-for-data-arrays-with-varying-batchsizes)\n",
    "1. [Variables in TensorFlow](#Variables-in-TensorFlow)\n",
    "    1. [Defining variables](#Defining-variables)\n",
    "    1. [Initializing variables](#Initializing-variables)\n",
    "    1. [Variable scope](#Variable-scope)\n",
    "    1. [Reusing variables](#Reusing-variables)\n",
    "1. [Building a regression model](#Building-a-regression-model)\n",
    "1. [Executing objects in a TensorFlow graph using their names](#Executing-objects-in-a-TensorFlow-graph-using-their-names)\n",
    "1. [Saving and restoring a model in TensorFlow](#Saving-and-restoring-a-model-in-TensorFlow)\n",
    "1. [Transforming Tensors as multidimensional data arrays](#Transforming-Tensors-as-multidimensional-data-arrays)\n",
    "1. [Utilizing control flow mechanics in building graphs](#Utilizing-control-flow-mechanics-in-building-graphs)\n",
    "1. [Visualizing the graph with TensorBoard](#Visualizing-the-graph-with-TensorBoard)\n"
   ]
  },
  {
   "cell_type": "markdown",
   "metadata": {},
   "source": [
    "# Import"
   ]
  },
  {
   "cell_type": "markdown",
   "metadata": {},
   "source": [
    "<a id = 'Import'></a>"
   ]
  },
  {
   "cell_type": "code",
   "execution_count": 1,
   "metadata": {
    "ExecuteTime": {
     "end_time": "2019-07-12T20:15:25.257483Z",
     "start_time": "2019-07-12T20:15:24.090882Z"
    }
   },
   "outputs": [
    {
     "data": {
      "text/html": [
       "<style>.container { width:95% !important; }</style>"
      ],
      "text/plain": [
       "<IPython.core.display.HTML object>"
      ]
     },
     "metadata": {},
     "output_type": "display_data"
    }
   ],
   "source": [
    "# standard libary and settings\n",
    "import os\n",
    "import sys\n",
    "import importlib\n",
    "import itertools\n",
    "from io import StringIO\n",
    "import warnings\n",
    "\n",
    "warnings.simplefilter(\"ignore\")\n",
    "from IPython.core.display import display, HTML\n",
    "\n",
    "display(HTML(\"<style>.container { width:95% !important; }</style>\"))\n",
    "\n",
    "# data extensions and settings\n",
    "import numpy as np\n",
    "\n",
    "np.set_printoptions(threshold=np.inf, suppress=True)\n",
    "import pandas as pd\n",
    "\n",
    "pd.set_option(\"display.max_rows\", 500)\n",
    "pd.options.display.float_format = \"{:,.6f}\".format\n",
    "\n",
    "# modeling extensions\n",
    "import sklearn.base as base\n",
    "import sklearn.cluster as cluster\n",
    "import sklearn.datasets as datasets\n",
    "import sklearn.decomposition as decomposition\n",
    "import sklearn.ensemble as ensemble\n",
    "import sklearn.feature_extraction as feature_extraction\n",
    "import sklearn.feature_selection as feature_selection\n",
    "import sklearn.linear_model as linear_model\n",
    "import sklearn.metrics as metrics\n",
    "import sklearn.model_selection as model_selection\n",
    "import sklearn.neighbors as neighbors\n",
    "import sklearn.pipeline as pipeline\n",
    "import sklearn.preprocessing as preprocessing\n",
    "import sklearn.svm as svm\n",
    "import sklearn.tree as tree\n",
    "import sklearn.discriminant_analysis as discriminant_analysis\n",
    "import sklearn.utils as utils\n",
    "\n",
    "# visualization extensions and settings\n",
    "import seaborn as sns\n",
    "import matplotlib.pyplot as plt\n",
    "\n",
    "# custom extensions and settings\n",
    "sys.path.append(\"/home/mlmachine\") if \"/home/mlmachine\" not in sys.path else None\n",
    "sys.path.append(\"/home/prettierplot\") if \"/home/prettierplot\" not in sys.path else None\n",
    "\n",
    "import mlmachine as mlm\n",
    "from prettierplot.plotter import PrettierPlot\n",
    "import prettierplot.style as style\n",
    "\n",
    "# magic functions\n",
    "%matplotlib inline"
   ]
  },
  {
   "cell_type": "markdown",
   "metadata": {},
   "source": [
    "# TensorFlow ranks and tensors\n",
    "\n",
    "The TensorFlow library allows users to define graphs which perform operations and functions over tensors. Tensors are a generalizable mathematical for multidimensional arrays holding data values. The dimensionality of a tensor is generally referred to as its rank. Up to this point, we have worked with tensors of rank zero to two. A scalar is a tensor of rank 0, a vector is a tensor of rank 1, and a matrix is a tensor of rank 2. Tensor notation can be generalized to higher dimensions."
   ]
  },
  {
   "cell_type": "markdown",
   "metadata": {},
   "source": [
    "<a id = 'TensorFlow-ranks-and-tensors'></a>"
   ]
  },
  {
   "cell_type": "markdown",
   "metadata": {},
   "source": [
    "## How to get the rank and shape of a tensor\n",
    "\n",
    "TensorFlow has several built in functions which easily facilitate retrieval of a Tensor's rank and shape."
   ]
  },
  {
   "cell_type": "markdown",
   "metadata": {},
   "source": [
    "<a id = 'How-to-get-the-rank-and-shape-of-a-tensor'></a>"
   ]
  },
  {
   "cell_type": "code",
   "execution_count": 2,
   "metadata": {
    "ExecuteTime": {
     "end_time": "2019-07-12T20:15:26.249806Z",
     "start_time": "2019-07-12T20:15:25.259669Z"
    }
   },
   "outputs": [
    {
     "name": "stdout",
     "output_type": "stream",
     "text": [
      "Shapes: (), (4,), (2, 2)\n",
      "Ranks: 0, 1, 2\n"
     ]
    }
   ],
   "source": [
    "# create sample graph\n",
    "import tensorflow as tf\n",
    "\n",
    "g = tf.Graph()\n",
    "\n",
    "# defint the computation graph\n",
    "with g.as_default():\n",
    "    # define tensors as t1, t2, t3\n",
    "    t1 = tf.constant(np.pi)\n",
    "    t2 = tf.constant([1, 2, 3, 4])\n",
    "    t3 = tf.constant([[1, 2], [3, 4]])\n",
    "\n",
    "    # get the ranks\n",
    "    r1 = tf.rank(t1)\n",
    "    r2 = tf.rank(t2)\n",
    "    r3 = tf.rank(t3)\n",
    "\n",
    "    # get the shapes\n",
    "    s1 = t1.get_shape()\n",
    "    s2 = t2.get_shape()\n",
    "    s3 = t3.get_shape()\n",
    "    print(\"Shapes: {0}, {1}, {2}\".format(s1, s2, s3))\n",
    "\n",
    "with tf.Session(graph=g) as sess:\n",
    "    print(\"Ranks: {0}, {1}, {2}\".format(r1.eval(), r2.eval(), r3.eval()))"
   ]
  },
  {
   "cell_type": "markdown",
   "metadata": {},
   "source": [
    "> Remarks - The rank of the t1 tensor is zero since it's just a scalar. The rank of the t2 vector is 1, and since it has four elements its shape is a one element tupe of (4,). The last shape t3 is a 2 by 2 matrix, and therfore has a rank of 2 and its shape is (2,2)."
   ]
  },
  {
   "cell_type": "markdown",
   "metadata": {},
   "source": [
    "## Understanding TensorFlow's computation graphs\n",
    "\n",
    "At its core, TensorFlow relies on building a computation graph. This graph is used to derive relationships between tensors from the input all the way through to the output. As an example, if we have rank 0 tensor (a scalar) and tensors a, b and c, and we want to evaluate $z = 2 \\times (a-b) + c$. The graph can be described as follows: Tensors a and b feed into $r_1$, which is equal to $a-b$. The resulting $r_1$ is referred to as an intermediate result tensor. $r_1 = a-b$ feeds into another intermediate graph $r_2$, which is equal to $2 \\times r_1$. The intermediate result tensor $r_2$, along with c, are fed into the final result tensor $z$, which is equal to $r_2 + c$. This series of operations can be reimagined as a network of nodes, where each node represents an operation where a function is applied to one or more input tensors, and yields zero or more output tensors.\n",
    "\n",
    "TensorFlow needs to be able to build this computational graph. The individual steps for building a typical graph are:\n",
    "\n",
    "1. Instantiate a new, empty computation graph\n",
    "2. Add nodes (tensors and operations) to the graph\n",
    "3. Execute the graph by:\n",
    "    1. Start a new session\n",
    "    2. Initialize the variables in the graph\n",
    "    3. Run the computation graph in this session"
   ]
  },
  {
   "cell_type": "markdown",
   "metadata": {},
   "source": [
    "<a id = 'Understanding-TensorFlows-computation-graphs'></a>"
   ]
  },
  {
   "cell_type": "code",
   "execution_count": 3,
   "metadata": {
    "ExecuteTime": {
     "end_time": "2019-07-12T20:15:26.265728Z",
     "start_time": "2019-07-12T20:15:26.254624Z"
    }
   },
   "outputs": [],
   "source": [
    "# computation graph for the equation above\n",
    "g = tf.Graph()\n",
    "\n",
    "with g.as_default():\n",
    "    a = tf.constant(1, name=\"a\")\n",
    "    b = tf.constant(2, name=\"b\")\n",
    "    c = tf.constant(3, name=\"c\")\n",
    "\n",
    "    z = 2 * (a - b) + c"
   ]
  },
  {
   "cell_type": "markdown",
   "metadata": {},
   "source": [
    "In the code above, 'with g.as_default()' adds nodes described within to the graph. By setting 'g' as the default graph, we are overriding the default graph that would otherwise takeover. Explicitly declaring which graph we want to use helps to avoid losing track of nodes.\n",
    "\n",
    "A TensorFlow session is an enviroment in which operations and tensors of a graph can be executed. A session gets created by calling 'tf.Session' that receives an existing graph as an argument. If 'tf.Session(graph = g)' is called, the session uses the graph 'g', otherwise it uses the default graph, which may be empty and not what we expect.\n",
    "\n",
    "Once a graph is launched in a TensorFlow session, we can execute its nodes containing tensors and/or its declared operations. Evaluating each individual tensor involves calling the 'eval' method inside the current session. When a specific tensor in the graph, TensorFlow executes all of the nodes that preceed that tensor until it reaches the tensor being specified.\n",
    "\n",
    "Operations can also be excuted by using a session's 'run' method. In the previous chappter, an example executed an operator called 'train_op'. This operator doesn't return any tensor, but can still be executed by running 'train_op.run(). Further, there is a universal way of running both tensors and operators - 'tf.Session().run()'. This approach can be used to place multiple tensors and operators in a list or a tuple. As a result 'tf.Session().run()' will return a list or tuple of the same size.\n",
    "\n",
    "Below, the previous graph is launched in a TensorFlow session and evaluates the tensor $z$ as follows:"
   ]
  },
  {
   "cell_type": "code",
   "execution_count": 4,
   "metadata": {
    "ExecuteTime": {
     "end_time": "2019-07-12T20:15:26.295021Z",
     "start_time": "2019-07-12T20:15:26.268430Z"
    }
   },
   "outputs": [
    {
     "name": "stdout",
     "output_type": "stream",
     "text": [
      "2 * (a - b) + c => 1\n"
     ]
    }
   ],
   "source": [
    "# print result\n",
    "with tf.Session(graph=g) as sess:\n",
    "    print(\"2 * (a - b) + c => {0}\".format(sess.run(z)))"
   ]
  },
  {
   "cell_type": "markdown",
   "metadata": {},
   "source": [
    "# Placeholders in TensorFlow\n",
    "\n",
    "Placeholders are a special mechanism for feeding data into TensorFlow. These are predefined tensors with specific data types and shapes."
   ]
  },
  {
   "cell_type": "markdown",
   "metadata": {},
   "source": [
    "<a id = 'Placeholders-in-TensorFlow'></a>"
   ]
  },
  {
   "cell_type": "markdown",
   "metadata": {},
   "source": [
    "## Defining placeholders\n",
    "\n",
    "Placeholders are defined using 'tf.placeholder'. The shape and data type are determined by the shape and the data type of the data that is fed into the placeholder at the time of execution. We can define the another graph that also evaluates $z = 2(a-b)+c$, but this time use placeholders for the scalars a, b and c. We also store the intermediate tensors $r_1$ and $r_2."
   ]
  },
  {
   "cell_type": "markdown",
   "metadata": {},
   "source": [
    "<a id = 'Defining placeholders'></a>"
   ]
  },
  {
   "cell_type": "code",
   "execution_count": 5,
   "metadata": {
    "ExecuteTime": {
     "end_time": "2019-07-12T20:15:26.311171Z",
     "start_time": "2019-07-12T20:15:26.297625Z"
    }
   },
   "outputs": [],
   "source": [
    "# simple placeholder examples\n",
    "g = tf.Graph()\n",
    "with g.as_default():\n",
    "    tf_a = tf.placeholder(tf.int32, shape=[], name=\"tf_a\")\n",
    "    tf_b = tf.placeholder(tf.int32, shape=[], name=\"tf_b\")\n",
    "    tf_c = tf.placeholder(tf.int32, shape=[], name=\"tf_c\")\n",
    "\n",
    "    r1 = tf_a - tf_b\n",
    "    r2 = 2 * r1\n",
    "    z = r2 + tf_c"
   ]
  },
  {
   "cell_type": "markdown",
   "metadata": {},
   "source": [
    "> Remarks - Three placeholders, tf_a, tf_b and tf_c are set with the data type tf.int32 and a shape equal to [], which is what we use for rank 0 tensors (aka scalars). If we were using tensors of higher dimensions, such as a rank 3 tensor with a shape of 3 x 4 x 5, the shape might be [2, 3, 4]"
   ]
  },
  {
   "cell_type": "markdown",
   "metadata": {},
   "source": [
    "## Feeding placeholders with data\n",
    "\n",
    "A python dictionary is used to feed the values of placeholders into the session's graph. We need to ensure the data we feed in is consistent with the data type and shape of the placeholders. In the graph declared above, we have three placeholders that are tf.int32 scalars. Now we can feed in arbitrary int32 integers:"
   ]
  },
  {
   "cell_type": "markdown",
   "metadata": {},
   "source": [
    "<a id = 'Feeding-placeholders-with-data'></a>"
   ]
  },
  {
   "cell_type": "code",
   "execution_count": 6,
   "metadata": {
    "ExecuteTime": {
     "end_time": "2019-07-12T20:15:26.326583Z",
     "start_time": "2019-07-12T20:15:26.312858Z"
    }
   },
   "outputs": [
    {
     "name": "stdout",
     "output_type": "stream",
     "text": [
      "z: 1\n"
     ]
    }
   ],
   "source": [
    "# feed data into placeholder\n",
    "with tf.Session(graph=g) as sess:\n",
    "    feed = {tf_a: 1, tf_b: 2, tf_c: 3}\n",
    "    print(\"z: {0}\".format(sess.run(z, feed_dict=feed)))"
   ]
  },
  {
   "cell_type": "markdown",
   "metadata": {},
   "source": [
    "## Defining placeholders for data arrays with varying batchsizes\n",
    "\n",
    "Neural network models often deal with min-batches of data that have different sizes. For example, training may occur with mini-batches of a user-defined size, but then prediction may be made on only a single sample.\n",
    "\n",
    "TensorFlow placeholders can accomodate this by specifying None for the dimension that will be varying in size."
   ]
  },
  {
   "cell_type": "markdown",
   "metadata": {},
   "source": [
    "<a id = 'Defining-placeholders-for-data-arrays-with-varying-batchsizes'></a>"
   ]
  },
  {
   "cell_type": "code",
   "execution_count": 7,
   "metadata": {
    "ExecuteTime": {
     "end_time": "2019-07-12T20:15:26.349412Z",
     "start_time": "2019-07-12T20:15:26.329204Z"
    }
   },
   "outputs": [
    {
     "name": "stdout",
     "output_type": "stream",
     "text": [
      "Feeding data with shape: (5, 2)\n",
      "Result: [0.6208972  0.46750155]\n",
      "Feeding data with shape: (10, 2)\n",
      "Result: [0.46306401 0.48766556]\n"
     ]
    }
   ],
   "source": [
    "# Create graph\n",
    "g = tf.Graph()\n",
    "\n",
    "with g.as_default():\n",
    "    tf_x = tf.placeholder(tf.float32, shape=[None, 2], name=\"tf_x\")\n",
    "    x_mean = tf.reduce_mean(tf_x, axis=0, name=\"mean\")\n",
    "\n",
    "# run graph in session\n",
    "np.random.seed(123)\n",
    "\n",
    "with tf.Session(graph=g) as sess:\n",
    "    x1 = np.random.uniform(low=0, high=1, size=(5, 2))\n",
    "    print(\"Feeding data with shape: {}\".format(x1.shape))\n",
    "    print(\"Result: {}\".format(sess.run(x_mean, feed_dict={tf_x: x1})))\n",
    "\n",
    "    x2 = np.random.uniform(low=0, high=1, size=(10, 2))\n",
    "    print(\"Feeding data with shape: {}\".format(x2.shape))\n",
    "    print(\"Result: {}\".format(sess.run(x_mean, feed_dict={tf_x: x2})))"
   ]
  },
  {
   "cell_type": "code",
   "execution_count": 8,
   "metadata": {
    "ExecuteTime": {
     "end_time": "2019-07-12T20:15:26.359967Z",
     "start_time": "2019-07-12T20:15:26.354986Z"
    }
   },
   "outputs": [
    {
     "name": "stdout",
     "output_type": "stream",
     "text": [
      "Tensor(\"tf_x:0\", shape=(?, 2), dtype=float32)\n"
     ]
    }
   ],
   "source": [
    "# review the shape of tf_x\n",
    "print(tf_x)"
   ]
  },
  {
   "cell_type": "markdown",
   "metadata": {},
   "source": [
    "# Variables in TensorFlow\n",
    "\n",
    "Variables are a special type of tensor object that allows us to store and update parameters of our models in a TensoFlow session during the training process"
   ]
  },
  {
   "cell_type": "markdown",
   "metadata": {},
   "source": [
    "<a id = 'Variables-in-TensorFlow'></a>"
   ]
  },
  {
   "cell_type": "markdown",
   "metadata": {},
   "source": [
    "## Defining variables\n",
    "\n",
    "TensorFlow variables store the parameters of a model that can be updated during training. The obvious example would the weights in the input, hidden and output layers of a neural network. When a variable is defined, we need to initialize it with a tensor of values. There are two ways to define variables\n",
    "\n",
    "- tf.Variable()\n",
    "\n",
    "This is a class that creates an object for a new variable and adds it to the graph. It does not have explicit shape and dtype parameters. These attributes are inferred from the initial values of the variable.\n",
    "\n",
    "- tf.get_variable(\n",
    "\n",
    "This approach enables us to reuse an existing variable with a certain name, or create a new variable if the name used does not exist in the graph yet. This approach also allows for declaration of dtype and shape, which are only necessary when declaring a new variable.\n",
    "\n",
    "In both initialization techniques, the initial values are not set until the graph is launched via tf.Session."
   ]
  },
  {
   "cell_type": "markdown",
   "metadata": {},
   "source": [
    "<a id = 'Defining-variables'></a>"
   ]
  },
  {
   "cell_type": "code",
   "execution_count": 9,
   "metadata": {
    "ExecuteTime": {
     "end_time": "2019-07-12T20:15:26.376052Z",
     "start_time": "2019-07-12T20:15:26.363409Z"
    }
   },
   "outputs": [
    {
     "name": "stdout",
     "output_type": "stream",
     "text": [
      "WARNING:tensorflow:From /usr/local/lib/python3.6/site-packages/tensorflow/python/framework/op_def_library.py:263: colocate_with (from tensorflow.python.framework.ops) is deprecated and will be removed in a future version.\n",
      "Instructions for updating:\n",
      "Colocations handled automatically by placer.\n",
      "<tf.Variable 'w:0' shape=(2, 4) dtype=int64_ref>\n"
     ]
    }
   ],
   "source": [
    "# variable example\n",
    "g1 = tf.Graph()\n",
    "\n",
    "with g1.as_default():\n",
    "    w = tf.Variable(np.array([[1, 2, 3, 4], [5, 6, 7, 8]]), name=\"w\")\n",
    "    print(w)"
   ]
  },
  {
   "cell_type": "markdown",
   "metadata": {},
   "source": [
    "## Initializing variables\n",
    "\n",
    "The computer memory that holds the variable is not allocated until the variables are initialized. Therefore, if we want to evaluate a tensor that includes a variable somewhere with its portion of the graph, we need to initialize the variables in that graph first. Initialization can occur using two methods. TensorFlow has a function named tf.global_variables_initializer, which, when executed, initializes the variables. We can also store this operator in an object, such as init_op = tf.global_variables_initializer(), which can then be executed later by sess.run(init_op) or init_op.run(). The key is that the operator is created after all variables that we need have been defined. A quick example illustrates this:"
   ]
  },
  {
   "cell_type": "markdown",
   "metadata": {},
   "source": [
    "<a id = 'Initializing-variables'></a>"
   ]
  },
  {
   "cell_type": "code",
   "execution_count": 10,
   "metadata": {
    "ExecuteTime": {
     "end_time": "2019-07-12T20:15:26.398952Z",
     "start_time": "2019-07-12T20:15:26.378585Z"
    }
   },
   "outputs": [],
   "source": [
    "# initialize variables in graph\n",
    "g2 = tf.Graph()\n",
    "\n",
    "with g2.as_default():\n",
    "    w1 = tf.Variable(1, name=\"w1\")\n",
    "    init_op = tf.global_variables_initializer()\n",
    "    w2 = tf.Variable(2, name=\"w2\")"
   ]
  },
  {
   "cell_type": "code",
   "execution_count": 11,
   "metadata": {
    "ExecuteTime": {
     "end_time": "2019-07-12T20:15:26.413010Z",
     "start_time": "2019-07-12T20:15:26.401013Z"
    }
   },
   "outputs": [
    {
     "name": "stdout",
     "output_type": "stream",
     "text": [
      "w1: 1\n"
     ]
    }
   ],
   "source": [
    "# print variable\n",
    "with tf.Session(graph=g2) as sess:\n",
    "    sess.run(init_op)\n",
    "    print(\"w1: {}\".format(sess.run(w1)))"
   ]
  },
  {
   "cell_type": "code",
   "execution_count": 12,
   "metadata": {
    "ExecuteTime": {
     "end_time": "2019-07-12T20:15:26.843086Z",
     "start_time": "2019-07-12T20:15:26.415498Z"
    },
    "scrolled": true
   },
   "outputs": [
    {
     "ename": "FailedPreconditionError",
     "evalue": "Attempting to use uninitialized value w2\n\t [[{{node _retval_w2_0_0}}]]",
     "output_type": "error",
     "traceback": [
      "\u001b[0;31m---------------------------------------------------------------------------\u001b[0m",
      "\u001b[0;31mFailedPreconditionError\u001b[0m                   Traceback (most recent call last)",
      "\u001b[0;32m/usr/local/lib/python3.6/site-packages/tensorflow/python/client/session.py\u001b[0m in \u001b[0;36m_do_call\u001b[0;34m(self, fn, *args)\u001b[0m\n\u001b[1;32m   1333\u001b[0m     \u001b[0;32mtry\u001b[0m\u001b[0;34m:\u001b[0m\u001b[0;34m\u001b[0m\u001b[0;34m\u001b[0m\u001b[0m\n\u001b[0;32m-> 1334\u001b[0;31m       \u001b[0;32mreturn\u001b[0m \u001b[0mfn\u001b[0m\u001b[0;34m(\u001b[0m\u001b[0;34m*\u001b[0m\u001b[0margs\u001b[0m\u001b[0;34m)\u001b[0m\u001b[0;34m\u001b[0m\u001b[0;34m\u001b[0m\u001b[0m\n\u001b[0m\u001b[1;32m   1335\u001b[0m     \u001b[0;32mexcept\u001b[0m \u001b[0merrors\u001b[0m\u001b[0;34m.\u001b[0m\u001b[0mOpError\u001b[0m \u001b[0;32mas\u001b[0m \u001b[0me\u001b[0m\u001b[0;34m:\u001b[0m\u001b[0;34m\u001b[0m\u001b[0;34m\u001b[0m\u001b[0m\n",
      "\u001b[0;32m/usr/local/lib/python3.6/site-packages/tensorflow/python/client/session.py\u001b[0m in \u001b[0;36m_run_fn\u001b[0;34m(feed_dict, fetch_list, target_list, options, run_metadata)\u001b[0m\n\u001b[1;32m   1318\u001b[0m       return self._call_tf_sessionrun(\n\u001b[0;32m-> 1319\u001b[0;31m           options, feed_dict, fetch_list, target_list, run_metadata)\n\u001b[0m\u001b[1;32m   1320\u001b[0m \u001b[0;34m\u001b[0m\u001b[0m\n",
      "\u001b[0;32m/usr/local/lib/python3.6/site-packages/tensorflow/python/client/session.py\u001b[0m in \u001b[0;36m_call_tf_sessionrun\u001b[0;34m(self, options, feed_dict, fetch_list, target_list, run_metadata)\u001b[0m\n\u001b[1;32m   1406\u001b[0m         \u001b[0mself\u001b[0m\u001b[0;34m.\u001b[0m\u001b[0m_session\u001b[0m\u001b[0;34m,\u001b[0m \u001b[0moptions\u001b[0m\u001b[0;34m,\u001b[0m \u001b[0mfeed_dict\u001b[0m\u001b[0;34m,\u001b[0m \u001b[0mfetch_list\u001b[0m\u001b[0;34m,\u001b[0m \u001b[0mtarget_list\u001b[0m\u001b[0;34m,\u001b[0m\u001b[0;34m\u001b[0m\u001b[0;34m\u001b[0m\u001b[0m\n\u001b[0;32m-> 1407\u001b[0;31m         run_metadata)\n\u001b[0m\u001b[1;32m   1408\u001b[0m \u001b[0;34m\u001b[0m\u001b[0m\n",
      "\u001b[0;31mFailedPreconditionError\u001b[0m: Attempting to use uninitialized value w2\n\t [[{{node _retval_w2_0_0}}]]",
      "\nDuring handling of the above exception, another exception occurred:\n",
      "\u001b[0;31mFailedPreconditionError\u001b[0m                   Traceback (most recent call last)",
      "\u001b[0;32m<ipython-input-12-38c15e586808>\u001b[0m in \u001b[0;36m<module>\u001b[0;34m\u001b[0m\n\u001b[1;32m      3\u001b[0m \u001b[0;32mwith\u001b[0m \u001b[0mtf\u001b[0m\u001b[0;34m.\u001b[0m\u001b[0mSession\u001b[0m\u001b[0;34m(\u001b[0m\u001b[0mgraph\u001b[0m \u001b[0;34m=\u001b[0m \u001b[0mg2\u001b[0m\u001b[0;34m)\u001b[0m \u001b[0;32mas\u001b[0m \u001b[0msess\u001b[0m\u001b[0;34m:\u001b[0m\u001b[0;34m\u001b[0m\u001b[0;34m\u001b[0m\u001b[0m\n\u001b[1;32m      4\u001b[0m     \u001b[0msess\u001b[0m\u001b[0;34m.\u001b[0m\u001b[0mrun\u001b[0m\u001b[0;34m(\u001b[0m\u001b[0minit_op\u001b[0m\u001b[0;34m)\u001b[0m\u001b[0;34m\u001b[0m\u001b[0;34m\u001b[0m\u001b[0m\n\u001b[0;32m----> 5\u001b[0;31m     \u001b[0mprint\u001b[0m\u001b[0;34m(\u001b[0m\u001b[0;34m'w2: {}'\u001b[0m\u001b[0;34m.\u001b[0m\u001b[0mformat\u001b[0m\u001b[0;34m(\u001b[0m\u001b[0msess\u001b[0m\u001b[0;34m.\u001b[0m\u001b[0mrun\u001b[0m\u001b[0;34m(\u001b[0m\u001b[0mw2\u001b[0m\u001b[0;34m)\u001b[0m\u001b[0;34m)\u001b[0m\u001b[0;34m)\u001b[0m\u001b[0;34m\u001b[0m\u001b[0;34m\u001b[0m\u001b[0m\n\u001b[0m\u001b[1;32m      6\u001b[0m \u001b[0;34m\u001b[0m\u001b[0m\n",
      "\u001b[0;32m/usr/local/lib/python3.6/site-packages/tensorflow/python/client/session.py\u001b[0m in \u001b[0;36mrun\u001b[0;34m(self, fetches, feed_dict, options, run_metadata)\u001b[0m\n\u001b[1;32m    927\u001b[0m     \u001b[0;32mtry\u001b[0m\u001b[0;34m:\u001b[0m\u001b[0;34m\u001b[0m\u001b[0;34m\u001b[0m\u001b[0m\n\u001b[1;32m    928\u001b[0m       result = self._run(None, fetches, feed_dict, options_ptr,\n\u001b[0;32m--> 929\u001b[0;31m                          run_metadata_ptr)\n\u001b[0m\u001b[1;32m    930\u001b[0m       \u001b[0;32mif\u001b[0m \u001b[0mrun_metadata\u001b[0m\u001b[0;34m:\u001b[0m\u001b[0;34m\u001b[0m\u001b[0;34m\u001b[0m\u001b[0m\n\u001b[1;32m    931\u001b[0m         \u001b[0mproto_data\u001b[0m \u001b[0;34m=\u001b[0m \u001b[0mtf_session\u001b[0m\u001b[0;34m.\u001b[0m\u001b[0mTF_GetBuffer\u001b[0m\u001b[0;34m(\u001b[0m\u001b[0mrun_metadata_ptr\u001b[0m\u001b[0;34m)\u001b[0m\u001b[0;34m\u001b[0m\u001b[0;34m\u001b[0m\u001b[0m\n",
      "\u001b[0;32m/usr/local/lib/python3.6/site-packages/tensorflow/python/client/session.py\u001b[0m in \u001b[0;36m_run\u001b[0;34m(self, handle, fetches, feed_dict, options, run_metadata)\u001b[0m\n\u001b[1;32m   1150\u001b[0m     \u001b[0;32mif\u001b[0m \u001b[0mfinal_fetches\u001b[0m \u001b[0;32mor\u001b[0m \u001b[0mfinal_targets\u001b[0m \u001b[0;32mor\u001b[0m \u001b[0;34m(\u001b[0m\u001b[0mhandle\u001b[0m \u001b[0;32mand\u001b[0m \u001b[0mfeed_dict_tensor\u001b[0m\u001b[0;34m)\u001b[0m\u001b[0;34m:\u001b[0m\u001b[0;34m\u001b[0m\u001b[0;34m\u001b[0m\u001b[0m\n\u001b[1;32m   1151\u001b[0m       results = self._do_run(handle, final_targets, final_fetches,\n\u001b[0;32m-> 1152\u001b[0;31m                              feed_dict_tensor, options, run_metadata)\n\u001b[0m\u001b[1;32m   1153\u001b[0m     \u001b[0;32melse\u001b[0m\u001b[0;34m:\u001b[0m\u001b[0;34m\u001b[0m\u001b[0;34m\u001b[0m\u001b[0m\n\u001b[1;32m   1154\u001b[0m       \u001b[0mresults\u001b[0m \u001b[0;34m=\u001b[0m \u001b[0;34m[\u001b[0m\u001b[0;34m]\u001b[0m\u001b[0;34m\u001b[0m\u001b[0;34m\u001b[0m\u001b[0m\n",
      "\u001b[0;32m/usr/local/lib/python3.6/site-packages/tensorflow/python/client/session.py\u001b[0m in \u001b[0;36m_do_run\u001b[0;34m(self, handle, target_list, fetch_list, feed_dict, options, run_metadata)\u001b[0m\n\u001b[1;32m   1326\u001b[0m     \u001b[0;32mif\u001b[0m \u001b[0mhandle\u001b[0m \u001b[0;32mis\u001b[0m \u001b[0;32mNone\u001b[0m\u001b[0;34m:\u001b[0m\u001b[0;34m\u001b[0m\u001b[0;34m\u001b[0m\u001b[0m\n\u001b[1;32m   1327\u001b[0m       return self._do_call(_run_fn, feeds, fetches, targets, options,\n\u001b[0;32m-> 1328\u001b[0;31m                            run_metadata)\n\u001b[0m\u001b[1;32m   1329\u001b[0m     \u001b[0;32melse\u001b[0m\u001b[0;34m:\u001b[0m\u001b[0;34m\u001b[0m\u001b[0;34m\u001b[0m\u001b[0m\n\u001b[1;32m   1330\u001b[0m       \u001b[0;32mreturn\u001b[0m \u001b[0mself\u001b[0m\u001b[0;34m.\u001b[0m\u001b[0m_do_call\u001b[0m\u001b[0;34m(\u001b[0m\u001b[0m_prun_fn\u001b[0m\u001b[0;34m,\u001b[0m \u001b[0mhandle\u001b[0m\u001b[0;34m,\u001b[0m \u001b[0mfeeds\u001b[0m\u001b[0;34m,\u001b[0m \u001b[0mfetches\u001b[0m\u001b[0;34m)\u001b[0m\u001b[0;34m\u001b[0m\u001b[0;34m\u001b[0m\u001b[0m\n",
      "\u001b[0;32m/usr/local/lib/python3.6/site-packages/tensorflow/python/client/session.py\u001b[0m in \u001b[0;36m_do_call\u001b[0;34m(self, fn, *args)\u001b[0m\n\u001b[1;32m   1346\u001b[0m           \u001b[0;32mpass\u001b[0m\u001b[0;34m\u001b[0m\u001b[0;34m\u001b[0m\u001b[0m\n\u001b[1;32m   1347\u001b[0m       \u001b[0mmessage\u001b[0m \u001b[0;34m=\u001b[0m \u001b[0merror_interpolation\u001b[0m\u001b[0;34m.\u001b[0m\u001b[0minterpolate\u001b[0m\u001b[0;34m(\u001b[0m\u001b[0mmessage\u001b[0m\u001b[0;34m,\u001b[0m \u001b[0mself\u001b[0m\u001b[0;34m.\u001b[0m\u001b[0m_graph\u001b[0m\u001b[0;34m)\u001b[0m\u001b[0;34m\u001b[0m\u001b[0;34m\u001b[0m\u001b[0m\n\u001b[0;32m-> 1348\u001b[0;31m       \u001b[0;32mraise\u001b[0m \u001b[0mtype\u001b[0m\u001b[0;34m(\u001b[0m\u001b[0me\u001b[0m\u001b[0;34m)\u001b[0m\u001b[0;34m(\u001b[0m\u001b[0mnode_def\u001b[0m\u001b[0;34m,\u001b[0m \u001b[0mop\u001b[0m\u001b[0;34m,\u001b[0m \u001b[0mmessage\u001b[0m\u001b[0;34m)\u001b[0m\u001b[0;34m\u001b[0m\u001b[0;34m\u001b[0m\u001b[0m\n\u001b[0m\u001b[1;32m   1349\u001b[0m \u001b[0;34m\u001b[0m\u001b[0m\n\u001b[1;32m   1350\u001b[0m   \u001b[0;32mdef\u001b[0m \u001b[0m_extend_graph\u001b[0m\u001b[0;34m(\u001b[0m\u001b[0mself\u001b[0m\u001b[0;34m)\u001b[0m\u001b[0;34m:\u001b[0m\u001b[0;34m\u001b[0m\u001b[0;34m\u001b[0m\u001b[0m\n",
      "\u001b[0;31mFailedPreconditionError\u001b[0m: Attempting to use uninitialized value w2\n\t [[{{node _retval_w2_0_0}}]]"
     ]
    }
   ],
   "source": [
    "# NOTE: This is an intentional error intended to highlight the importance of sequence as it relates to variable initialization\n",
    "# print variable\n",
    "with tf.Session(graph=g2) as sess:\n",
    "    sess.run(init_op)\n",
    "    print(\"w2: {}\".format(sess.run(w2)))"
   ]
  },
  {
   "cell_type": "markdown",
   "metadata": {},
   "source": [
    "> Remarks - In the example above, 'w2' is declared after the variables are initialized, so it couldn't be evaluated. Reordering the lines would fix this."
   ]
  },
  {
   "cell_type": "markdown",
   "metadata": {},
   "source": [
    "## Variable scope\n",
    "\n",
    "Variable scopes allow variables to be organized into separate subparts. As an example, if we have two subnetworks within one neural network, we can define to scopres named 'net_A' and 'net_B'. Then each layer will be defined one of these two scopes."
   ]
  },
  {
   "cell_type": "markdown",
   "metadata": {},
   "source": [
    "<a id = 'Variable-scope'></a>"
   ]
  },
  {
   "cell_type": "code",
   "execution_count": 13,
   "metadata": {
    "ExecuteTime": {
     "end_time": "2019-07-12T20:17:06.965288Z",
     "start_time": "2019-07-12T20:17:06.936624Z"
    }
   },
   "outputs": [
    {
     "name": "stdout",
     "output_type": "stream",
     "text": [
      "<tf.Variable 'net_A/layer-1/weights:0' shape=(10, 4) dtype=float32_ref>\n",
      "<tf.Variable 'net_A/layer-2/weights:0' shape=(20, 10) dtype=float32_ref>\n",
      "<tf.Variable 'net_B/layer-1/weights:0' shape=(10, 4) dtype=float32_ref>\n"
     ]
    }
   ],
   "source": [
    "# scope illustrating variable scope\n",
    "g = tf.Graph()\n",
    "\n",
    "with g.as_default():\n",
    "    with tf.variable_scope(\"net_A\"):\n",
    "        with tf.variable_scope(\"layer-1\"):\n",
    "            w1 = tf.Variable(tf.random_normal(shape=(10, 4)), name=\"weights\")\n",
    "        with tf.variable_scope(\"layer-2\"):\n",
    "            w2 = tf.Variable(tf.random_normal(shape=(20, 10)), name=\"weights\")\n",
    "    with tf.variable_scope(\"net_B\"):\n",
    "        with tf.variable_scope(\"layer-1\"):\n",
    "            w3 = tf.Variable(tf.random_normal(shape=(10, 4)), name=\"weights\")\n",
    "\n",
    "print(w1)\n",
    "print(w2)\n",
    "print(w3)"
   ]
  },
  {
   "cell_type": "markdown",
   "metadata": {},
   "source": [
    "> Remarks - Note that the variable names are displayed with their corresponding variable scope names"
   ]
  },
  {
   "cell_type": "markdown",
   "metadata": {},
   "source": [
    "## Reusing variables\n",
    "\n",
    "In the context of a neural network model that has a classifier whose input data comes from more than one data source, we need to be able to accomodate that complexity. For example, if we have data $(X_A,y_A)$ coming from source $A$ and data $(X_B,y_B)$ coming from source $B$. the graph needs to be designed in a way that is will use the data from only one source as input tensor to build the network. Then we can feed the data from the other source to the same classifier. Let's say source A is fed through a placholder, and source B is the output of a generator network."
   ]
  },
  {
   "cell_type": "markdown",
   "metadata": {},
   "source": [
    "<a id = 'Reusing-variables'></a>"
   ]
  },
  {
   "cell_type": "code",
   "execution_count": 14,
   "metadata": {
    "ExecuteTime": {
     "end_time": "2019-07-12T20:17:06.977307Z",
     "start_time": "2019-07-12T20:17:06.967494Z"
    }
   },
   "outputs": [],
   "source": [
    "# custom helper functions\n",
    "def build_classifier(data, labels, n_classes=2):\n",
    "    data_shape = data.get_shape().as_list()\n",
    "    weights = tf.get_variable(\n",
    "        name=\"weights\", shape=(data_shape[1], n_classes), dtype=tf.float32\n",
    "    )\n",
    "    bias = tf.get_variable(name=\"bias\", initializer=tf.zeros(shape=n_classes))\n",
    "    logits = tf.add(tf.matmul(data, weights), bias, name=\"logits\")\n",
    "    return logits, tf.nn.softmax(logits)\n",
    "\n",
    "\n",
    "def build_generator(data, n_hidden):\n",
    "    data_shape = data.get_shape().as_list()\n",
    "    w1 = tf.Variable(tf.random_normal(shape=(data_shape[1], n_hidden)), name=\"w1\")\n",
    "    b1 = tf.Variable(tf.zeros(shape=n_hidden), name=\"b1\")\n",
    "\n",
    "    hidden = tf.add(tf.matmul(data, w1), b1, name=\"hidden_pre-activation\")\n",
    "    hidden = tf.nn.relu(hidden, \"hidden_activation\")\n",
    "\n",
    "    w2 = tf.Variable(tf.random_normal(shape=(n_hidden, data_shape[1])), name=\"w2\")\n",
    "    b2 = tf.Variable(tf.zeros(shape=data_shape[1]), name=\"b2\")\n",
    "\n",
    "    output = tf.add(tf.matmul(hidden, w2), b2, name=\"output\")\n",
    "    return output, tf.nn.sigmoid(output)"
   ]
  },
  {
   "cell_type": "code",
   "execution_count": 15,
   "metadata": {
    "ExecuteTime": {
     "end_time": "2019-07-12T20:17:07.096823Z",
     "start_time": "2019-07-12T20:17:06.980157Z"
    }
   },
   "outputs": [],
   "source": [
    "# build the graph\n",
    "batch_size = 64\n",
    "g = tf.Graph()\n",
    "\n",
    "with g.as_default():\n",
    "    tf_X = tf.placeholder(shape=(batch_size, 100), dtype=tf.float32, name=\"tf_x\")\n",
    "\n",
    "    # build generator\n",
    "    with tf.variable_scope(\"generator\"):\n",
    "        gen_out1 = build_generator(data=tf_X, n_hidden=50)\n",
    "\n",
    "    # build classifier\n",
    "    with tf.variable_scope(\"classifier\") as scope:\n",
    "        # classifier for original data\n",
    "        cls_out1 = build_classifier(data=tf_X, labels=tf.ones(shape=batch_size))\n",
    "\n",
    "        # reuse the classifier for the generator data\n",
    "        scope.reuse_variables()\n",
    "        cls_out2 = build_classifier(data=gen_out1[1], labels=tf.zeros(shape=batch_size))"
   ]
  },
  {
   "cell_type": "markdown",
   "metadata": {},
   "source": [
    "> Remarks - build_classifier is called twice. The first call builds the network. Then scope.reuse_variables() is called before calling the function again. As a result, the second call does not create new variables and instead reuses the same variables."
   ]
  },
  {
   "cell_type": "markdown",
   "metadata": {},
   "source": [
    "# Building a regression model\n",
    "\n",
    "The goal is to implement a linear regression model: $\\hat{y} = wx+b$. The variables $w$ and $b$ need to be defined as TensorFlow variables, and $x$ is the input for the model so this must be a placeholder. We also need to formulate a cost function, which for this model will be Mean Squared Error (MSE).\n",
    "\n",
    "$$\n",
    "MSE = \\frac{1}{n}\\sum^n_{i=1}\\big(y^i-\\hat{y}^i\\big)\n",
    "$$\n",
    "\n",
    "$y$ is the true value, which is given as the input to this model for training, so that means we also need a placeholder for $y$. And $\\hat{y}$ is the prediciton, which will be computed using TensorFlow operations, namely tf.matmul and tf.add. Here is a summary of all the tensors in play:\n",
    "\n",
    "- Input $x$: tf_x defined as a placeholder\n",
    "- Input $y$: tf_y defined as a placeholder\n",
    "- Model parameter $w$: weight defined as variable\n",
    "- Model parameter $b$: bias defined as a variable\n",
    "- Model output $\\hat{y}$: returned by the Tensorflow operations to compute the prediction using the regression model."
   ]
  },
  {
   "cell_type": "markdown",
   "metadata": {},
   "source": [
    "<a id = 'Building-a-regression-model'></a>"
   ]
  },
  {
   "cell_type": "code",
   "execution_count": 16,
   "metadata": {
    "ExecuteTime": {
     "end_time": "2019-07-12T20:17:07.184990Z",
     "start_time": "2019-07-12T20:17:07.100593Z"
    }
   },
   "outputs": [
    {
     "name": "stdout",
     "output_type": "stream",
     "text": [
      "WARNING:tensorflow:From /usr/local/lib/python3.6/site-packages/tensorflow/python/ops/math_ops.py:3066: to_int32 (from tensorflow.python.ops.math_ops) is deprecated and will be removed in a future version.\n",
      "Instructions for updating:\n",
      "Use tf.cast instead.\n"
     ]
    }
   ],
   "source": [
    "# build the graph for linear regression\n",
    "g = tf.Graph()\n",
    "\n",
    "with g.as_default():\n",
    "    tf.set_random_seed(123)\n",
    "    tf_x = tf.placeholder(shape=(None), dtype=tf.float32, name=\"tf_x\")\n",
    "    tf_y = tf.placeholder(shape=(None), dtype=tf.float32, name=\"tf_y\")\n",
    "\n",
    "    weight = tf.Variable(tf.random_normal(shape=(1, 1), stddev=0.25), name=\"weight\")\n",
    "    bias = tf.Variable(0.0, name=\"bias\")\n",
    "\n",
    "    y_hat = tf.add(weight * tf_x, bias, name=\"y_hat\")\n",
    "\n",
    "    cost = tf.reduce_mean(tf.square(tf_y - y_hat), name=\"cost\")\n",
    "\n",
    "    optim = tf.train.GradientDescentOptimizer(learning_rate=0.001)\n",
    "    train_op = optim.minimize(cost, name=\"train_op\")"
   ]
  },
  {
   "cell_type": "code",
   "execution_count": 17,
   "metadata": {
    "ExecuteTime": {
     "end_time": "2019-07-12T20:17:07.195000Z",
     "start_time": "2019-07-12T20:17:07.187894Z"
    }
   },
   "outputs": [],
   "source": [
    "# create a session to launch the graph\n",
    "np.random.seed(0)\n",
    "\n",
    "\n",
    "def make_random_data():\n",
    "    x = np.random.uniform(low=-2, high=4, size=200)\n",
    "    y = []\n",
    "    for t in x:\n",
    "        r = np.random.normal(loc=0.0, scale=(0.5 + t * t / 3), size=None)\n",
    "        y.append(r)\n",
    "    return x, 1.726 * x - 0.84 + np.array(y)\n",
    "\n",
    "\n",
    "x, y = make_random_data()"
   ]
  },
  {
   "cell_type": "code",
   "execution_count": 18,
   "metadata": {
    "ExecuteTime": {
     "end_time": "2019-07-12T20:17:07.538339Z",
     "start_time": "2019-07-12T20:17:07.196872Z"
    }
   },
   "outputs": [
    {
     "data": {
      "image/png": "[encoded data removed]",
      "text/plain": [
       "<Figure size 1080x540 with 1 Axes>"
      ]
     },
     "metadata": {},
     "output_type": "display_data"
    }
   ],
   "source": [
    "# visualize sample data\n",
    "p = PrettierPlot()\n",
    "ax = p.make_canvas(title=\"Sample data\")\n",
    "p.pretty_2d_scatter(x=np.array(x), y=np.array(y), ax=ax)"
   ]
  },
  {
   "cell_type": "markdown",
   "metadata": {},
   "source": [
    "The process for training the model starts with creating a TensorFlow session. then we initialize the variables. After that we can use a for loop to execute the train operator and caculate the training cost simultaneously."
   ]
  },
  {
   "cell_type": "code",
   "execution_count": 19,
   "metadata": {
    "ExecuteTime": {
     "end_time": "2019-07-12T20:17:07.784296Z",
     "start_time": "2019-07-12T20:17:07.541423Z"
    }
   },
   "outputs": [
    {
     "name": "stdout",
     "output_type": "stream",
     "text": [
      "Epoch   0: 12.2230\n",
      "Epoch  50: 8.3876\n",
      "Epoch 100: 6.5721\n",
      "Epoch 150: 5.6844\n",
      "Epoch 200: 5.2269\n",
      "Epoch 250: 4.9725\n",
      "Epoch 300: 4.8169\n",
      "Epoch 350: 4.7119\n",
      "Epoch 400: 4.6347\n",
      "Epoch 450: 4.5742\n"
     ]
    }
   ],
   "source": [
    "# split into train/test sets\n",
    "X_train, y_train = x[:100], y[:100]\n",
    "X_test, y_test = x[100:], y[100:]\n",
    "\n",
    "n_epochs = 500\n",
    "training_costs = []\n",
    "\n",
    "# train model\n",
    "with tf.Session(graph=g) as sess:\n",
    "    sess.run(tf.global_variables_initializer())\n",
    "\n",
    "    # train for n_epochs\n",
    "    for e in range(n_epochs):\n",
    "        c, _ = sess.run([cost, train_op], feed_dict={tf_x: X_train, tf_y: y_train})\n",
    "        training_costs.append(c)\n",
    "        if not e % 50:\n",
    "            print(\"Epoch {:3d}: {:.4f}\".format(e, c))"
   ]
  },
  {
   "cell_type": "code",
   "execution_count": 20,
   "metadata": {
    "ExecuteTime": {
     "end_time": "2019-07-12T20:17:08.094860Z",
     "start_time": "2019-07-12T20:17:07.788430Z"
    }
   },
   "outputs": [
    {
     "data": {
      "image/png": "[encoded data removed]",
      "text/plain": [
       "<Figure size 1080x540 with 1 Axes>"
      ]
     },
     "metadata": {},
     "output_type": "display_data"
    }
   ],
   "source": [
    "# visualize loss by epoch\n",
    "p = PrettierPlot()\n",
    "ax = p.make_canvas(\n",
    "    title=\"Cost reduction over time\", x_label=\"Epoch\", y_label=\"Cost\", y_shift=0.8\n",
    ")\n",
    "p.pretty_line(\n",
    "    x=np.arange(1, n_epochs + 1),\n",
    "    y=np.array(training_costs),\n",
    "    label=\"cost\",\n",
    "    linecolor=style.style_hex_mid[0],\n",
    "    bbox=(1.2, 0.9),\n",
    "    marker_on=False,\n",
    "    ax=ax,\n",
    ")"
   ]
  },
  {
   "cell_type": "markdown",
   "metadata": {},
   "source": [
    "# Executing objects in a TensorFlow graph using their names\n",
    "\n",
    "Executing variables and operators by their names is a useful approach. For example, if we develop a model in a separate module, the variables are not available in a different Python scope. However, if we have a graph, we can execute the nodes of the graph using the declared names in the graph.\n",
    "\n",
    "This can be done by changing the sess.run method in the code above by using the variable name of __cost__ in the graph rather than the Python variable cost by changing ses.run([cost, train_op], ...) to sess.run(['cost:0', 'train_op],...)"
   ]
  },
  {
   "cell_type": "markdown",
   "metadata": {},
   "source": [
    "<a id = 'Executing-objects-in-a-TensorFlow-graph-using-their-names'></a>"
   ]
  },
  {
   "cell_type": "code",
   "execution_count": 21,
   "metadata": {
    "ExecuteTime": {
     "end_time": "2019-07-12T20:17:08.327089Z",
     "start_time": "2019-07-12T20:17:08.096768Z"
    }
   },
   "outputs": [
    {
     "name": "stdout",
     "output_type": "stream",
     "text": [
      "Epoch   0: 12.2230\n",
      "Epoch  50: 8.3876\n",
      "Epoch 100: 6.5721\n",
      "Epoch 150: 5.6844\n",
      "Epoch 200: 5.2269\n",
      "Epoch 250: 4.9725\n",
      "Epoch 300: 4.8169\n",
      "Epoch 350: 4.7119\n",
      "Epoch 400: 4.6347\n",
      "Epoch 450: 4.5742\n"
     ]
    }
   ],
   "source": [
    "# split into train/test sets\n",
    "X_train, y_train = x[:100], y[:100]\n",
    "X_test, y_test = x[100:], y[100:]\n",
    "\n",
    "n_epochs = 500\n",
    "training_costs = []\n",
    "\n",
    "# train model\n",
    "with tf.Session(graph=g) as sess:\n",
    "    sess.run(tf.global_variables_initializer())\n",
    "\n",
    "    # train for n_epochs\n",
    "    for e in range(n_epochs):\n",
    "        c, _ = sess.run(\n",
    "            [\"cost:0\", \"train_op\"], feed_dict={\"tf_x:0\": X_train, \"tf_y:0\": y_train}\n",
    "        )\n",
    "        training_costs.append(c)\n",
    "        if not e % 50:\n",
    "            print(\"Epoch {:3d}: {:.4f}\".format(e, c))"
   ]
  },
  {
   "cell_type": "markdown",
   "metadata": {},
   "source": [
    "> Remarks - the suffix ':0' is added because TensorFlow appends this string to the variable name so that 'tf_x' becomes 'tf_x:0'. And if we try to create another tensor with the same name in the same graph, it would become 'tf_x_1:0', and then 'tf_x_2:0' and so on. This assuming we are not trying to resuse a tensor that we already created."
   ]
  },
  {
   "cell_type": "markdown",
   "metadata": {},
   "source": [
    "# Saving and restoring a model in TensorFlow\n",
    "\n",
    "In the previous section, we built a graph and trainined it, but we didn't make predictions using the test set. We could feed the test set to the model as soon as it's trained, but this is a very inefficient approach. The better approach is to save the model for reuse with new data. To do so, we need to add a new node to the graph, which is an instance of the tf.train.Saver class"
   ]
  },
  {
   "cell_type": "markdown",
   "metadata": {},
   "source": [
    "<a id = 'Saving-and-restoring-a-model-in-TensorFlow'></a>"
   ]
  },
  {
   "cell_type": "code",
   "execution_count": 22,
   "metadata": {
    "ExecuteTime": {
     "end_time": "2019-07-12T20:17:08.596972Z",
     "start_time": "2019-07-12T20:17:08.329050Z"
    }
   },
   "outputs": [
    {
     "name": "stdout",
     "output_type": "stream",
     "text": [
      "Epoch    0: 12.2230\n",
      "Epoch   50: 8.3876\n",
      "Epoch  100: 6.5721\n",
      "Epoch  150: 5.6844\n",
      "Epoch  200: 5.2269\n",
      "Epoch  250: 4.9725\n",
      "Epoch  300: 4.8169\n",
      "Epoch  350: 4.7119\n",
      "Epoch  400: 4.6347\n",
      "Epoch  450: 4.5742\n"
     ]
    }
   ],
   "source": [
    "# add a new saver node to the existing graph\n",
    "with g.as_default():\n",
    "    saver = tf.train.Saver()\n",
    "\n",
    "# retrain model with an additional call to saver\n",
    "n_epochs = 500\n",
    "trainin_costs = []\n",
    "with tf.Session(graph=g) as sess:\n",
    "    sess.run(tf.global_variables_initializer())\n",
    "\n",
    "    for e in range(n_epochs):\n",
    "        c, _ = sess.run([cost, train_op], feed_dict={tf_x: X_train, tf_y: y_train})\n",
    "\n",
    "        training_costs.append(c)\n",
    "        if not e % 50:\n",
    "            print(\"Epoch {:4d}: {:.4f}\".format(e, c))\n",
    "    saver.save(sess, \"./ch14_files/trained-model\")"
   ]
  },
  {
   "cell_type": "markdown",
   "metadata": {},
   "source": [
    "This create thre files with the extensions '.data', '.index' and '.meta'. TensorFlow uses protocol buffers which is a language-agnostic way of serializing data. To restore a trained model:\n",
    "\n",
    "1. Rebuild the graph that has the same nodes and names as the saved model\n",
    "2. Restore the saved variables in a new tf.Session\n",
    "\n",
    "To accomplish step one, we could run the original statements again, but there is a more practical way to do this. All of the graph info is saved as metadata in the '.meta' file. And after recreating the graph, we can use this 'recreation' object to restore the parameters of that model."
   ]
  },
  {
   "cell_type": "code",
   "execution_count": 23,
   "metadata": {
    "ExecuteTime": {
     "end_time": "2019-07-12T20:17:08.653785Z",
     "start_time": "2019-07-12T20:17:08.599415Z"
    }
   },
   "outputs": [
    {
     "name": "stdout",
     "output_type": "stream",
     "text": [
      "WARNING:tensorflow:From /usr/local/lib/python3.6/site-packages/tensorflow/python/training/saver.py:1266: checkpoint_exists (from tensorflow.python.training.checkpoint_management) is deprecated and will be removed in a future version.\n",
      "Instructions for updating:\n",
      "Use standard file APIs to check for files with this prefix.\n",
      "INFO:tensorflow:Restoring parameters from ./ch14_files/trained-model\n"
     ]
    }
   ],
   "source": [
    "# rebuild graph\n",
    "g2 = tf.Graph()\n",
    "with tf.Session(graph=g2) as sess:\n",
    "    new_saver = tf.train.import_meta_graph(\"./ch14_files/trained-model.meta\")\n",
    "    new_saver.restore(sess, \"./ch14_files/trained-model\")\n",
    "    y_pred = sess.run(\"y_hat:0\", feed_dict={\"tf_x:0\": X_test})"
   ]
  },
  {
   "cell_type": "markdown",
   "metadata": {},
   "source": [
    "> Remarks - The tensor for $\\hat{y}$ was referenced by the name given previously, as was the tensor for the tf_x placeholder. As a side note, there is no need to feed in the values for the true y values (tf_y). The model is already trained, so we're only passing in the test values, and the node for determining $\\hat{y}$ does not depend on tf_y."
   ]
  },
  {
   "cell_type": "code",
   "execution_count": 24,
   "metadata": {
    "ExecuteTime": {
     "end_time": "2019-07-12T20:17:08.707409Z",
     "start_time": "2019-07-12T20:17:08.657135Z"
    }
   },
   "outputs": [
    {
     "name": "stdout",
     "output_type": "stream",
     "text": [
      "INFO:tensorflow:Restoring parameters from ./ch14_files/trained-model\n"
     ]
    }
   ],
   "source": [
    "# rebuild graph\n",
    "x_arr = np.arange(-2, 4, 0.1)\n",
    "g2 = tf.Graph()\n",
    "with tf.Session(graph=g2) as sess:\n",
    "    new_saver = tf.train.import_meta_graph(\"./ch14_files/trained-model.meta\")\n",
    "    new_saver.restore(sess, \"./ch14_files/trained-model\")\n",
    "    y_pred = sess.run(\"y_hat:0\", feed_dict={\"tf_x:0\": x_arr})"
   ]
  },
  {
   "cell_type": "code",
   "execution_count": 25,
   "metadata": {
    "ExecuteTime": {
     "end_time": "2019-07-12T20:17:09.082976Z",
     "start_time": "2019-07-12T20:17:08.709986Z"
    }
   },
   "outputs": [
    {
     "data": {
      "image/png": "[encoded data removed]",
      "text/plain": [
       "<Figure size 1080x540 with 1 Axes>"
      ]
     },
     "metadata": {},
     "output_type": "display_data"
    }
   ],
   "source": [
    "# visualize predicitons\n",
    "p = PrettierPlot()\n",
    "ax = p.make_canvas(title=\"Sample data\")\n",
    "p.pretty_2d_scatter(x=X_train, y=y_train, color=style.style_grey, ax=ax)\n",
    "p.pretty_2d_scatter(x=X_test, y=y_test, color=style.style_hex_mid[1], ax=ax)\n",
    "p.pretty_line(\n",
    "    x=np.array(x_arr),\n",
    "    y=np.array(y_pred).reshape(-1, 1),\n",
    "    label=\"line of best fit\",\n",
    "    linecolor=style.style_hex_mid[0],\n",
    "    bbox=(1.2, 0.9),\n",
    "    marker_on=False,\n",
    "    ax=ax,\n",
    ")"
   ]
  },
  {
   "cell_type": "markdown",
   "metadata": {},
   "source": [
    "> Remarks - Saving and restoring the model is often done during the actual training of the model as well because this enables breaking up the training phase into smaller tasks. For example, if a model will run for 100 epochs, this can be broke into 25 tasks, where each of the 25 tasks would run four epochs sequentially. "
   ]
  },
  {
   "cell_type": "markdown",
   "metadata": {},
   "source": [
    "# Transforming Tensors as multidimensional data arrays\n",
    "\n",
    "TensorFlow has several operators that can be used to transform tensors. These often work similarly to numpy, but things get trickty when dealing with tensors with ranks higher than 2."
   ]
  },
  {
   "cell_type": "markdown",
   "metadata": {},
   "source": [
    "<a id = 'Transforming-Tensors-as-multidimensional-data-arrays'></a>"
   ]
  },
  {
   "cell_type": "code",
   "execution_count": 26,
   "metadata": {
    "ExecuteTime": {
     "end_time": "2019-07-12T20:17:09.106483Z",
     "start_time": "2019-07-12T20:17:09.085221Z"
    }
   },
   "outputs": [
    {
     "name": "stdout",
     "output_type": "stream",
     "text": [
      "Tensor(\"T1:0\", shape=(3, 4), dtype=float64)\n",
      "Shape of T1 is: (3, 4)\n",
      "<tf.Variable 'Variable:0' shape=(3, 4) dtype=float32_ref>\n",
      "<tf.Variable 'Variable_1:0' shape=(3,) dtype=float32_ref>\n"
     ]
    }
   ],
   "source": [
    "# use the attribute tf.get_shape to get the shape of a tensor\n",
    "g = tf.Graph()\n",
    "with g.as_default():\n",
    "    arr = np.array([[1.0, 2.0, 3.0, 3.5], [4.0, 5.0, 6.0, 6.5], [7.0, 8.0, 9.0, 9.5]])\n",
    "    T1 = tf.constant(arr, name=\"T1\")\n",
    "    print(T1)\n",
    "    s = T1.get_shape()\n",
    "    print(\"Shape of T1 is: {}\".format(s))\n",
    "\n",
    "    T2 = tf.Variable(tf.random_normal(shape=s))\n",
    "    print(T2)\n",
    "\n",
    "    T3 = tf.Variable(tf.random_normal(shape=(s.as_list()[0],)))\n",
    "    print(T3)"
   ]
  },
  {
   "cell_type": "code",
   "execution_count": 27,
   "metadata": {
    "ExecuteTime": {
     "end_time": "2019-07-12T20:17:09.117399Z",
     "start_time": "2019-07-12T20:17:09.108696Z"
    }
   },
   "outputs": [
    {
     "name": "stdout",
     "output_type": "stream",
     "text": [
      "Tensor(\"T4:0\", shape=(1, 1, 12), dtype=float64)\n",
      "Tensor(\"T5:0\", shape=(1, 3, 4), dtype=float64)\n"
     ]
    }
   ],
   "source": [
    "# print sample arrays\n",
    "with g.as_default():\n",
    "    T4 = tf.reshape(T1, shape=[1, 1, -1], name=\"T4\")\n",
    "    print(T4)\n",
    "\n",
    "    T5 = tf.reshape(T1, shape=[1, 3, -1], name=\"T5\")\n",
    "    print(T5)"
   ]
  },
  {
   "cell_type": "code",
   "execution_count": 28,
   "metadata": {
    "ExecuteTime": {
     "end_time": "2019-07-12T20:17:09.137043Z",
     "start_time": "2019-07-12T20:17:09.121201Z"
    }
   },
   "outputs": [
    {
     "name": "stdout",
     "output_type": "stream",
     "text": [
      "[[[1.  2.  3.  3.5 4.  5.  6.  6.5 7.  8.  9.  9.5]]]\n",
      "\n",
      "[[[1.  2.  3.  3.5]\n",
      "  [4.  5.  6.  6.5]\n",
      "  [7.  8.  9.  9.5]]]\n"
     ]
    }
   ],
   "source": [
    "# print the elements of T4 and T5\n",
    "with tf.Session(graph=g) as sess:\n",
    "    print(sess.run(T4))\n",
    "    print()\n",
    "    print(sess.run(T5))"
   ]
  },
  {
   "cell_type": "code",
   "execution_count": 29,
   "metadata": {
    "ExecuteTime": {
     "end_time": "2019-07-12T20:17:09.172497Z",
     "start_time": "2019-07-12T20:17:09.139380Z"
    }
   },
   "outputs": [
    {
     "name": "stdout",
     "output_type": "stream",
     "text": [
      "Tensor(\"transpose:0\", shape=(4, 3, 1), dtype=float64)\n",
      "Tensor(\"T7:0\", shape=(1, 4, 3), dtype=float64)\n",
      "[[[1. ]\n",
      "  [4. ]\n",
      "  [7. ]]\n",
      "\n",
      " [[2. ]\n",
      "  [5. ]\n",
      "  [8. ]]\n",
      "\n",
      " [[3. ]\n",
      "  [6. ]\n",
      "  [9. ]]\n",
      "\n",
      " [[3.5]\n",
      "  [6.5]\n",
      "  [9.5]]]\n",
      "\n",
      "[[[1.  4.  7. ]\n",
      "  [2.  5.  8. ]\n",
      "  [3.  6.  9. ]\n",
      "  [3.5 6.5 9.5]]]\n"
     ]
    }
   ],
   "source": [
    "# transpose arrays\n",
    "with g.as_default():\n",
    "    T6 = tf.transpose(T5, perm=[2, 1, 0])\n",
    "    print(T6)\n",
    "\n",
    "    T7 = tf.transpose(T5, perm=[0, 2, 1], name=\"T7\")\n",
    "    print(T7)\n",
    "\n",
    "# print the elements of T6 and T7\n",
    "with tf.Session(graph=g) as sess:\n",
    "    print(sess.run(T6))\n",
    "    print()\n",
    "    print(sess.run(T7))"
   ]
  },
  {
   "cell_type": "code",
   "execution_count": 30,
   "metadata": {
    "ExecuteTime": {
     "end_time": "2019-07-12T20:17:09.187907Z",
     "start_time": "2019-07-12T20:17:09.175258Z"
    }
   },
   "outputs": [
    {
     "name": "stdout",
     "output_type": "stream",
     "text": [
      "[<tf.Tensor 'T8:0' shape=(1, 3, 2) dtype=float64>, <tf.Tensor 'T8:1' shape=(1, 3, 2) dtype=float64>]\n"
     ]
    }
   ],
   "source": [
    "# split tensors into subtensors with tf.split\n",
    "with g.as_default():\n",
    "    t5_split = tf.split(T5, num_or_size_splits=2, axis=2, name=\"T8\")\n",
    "    print(t5_split)"
   ]
  },
  {
   "cell_type": "markdown",
   "metadata": {},
   "source": [
    "> Remarks - Note that this is now a list of tensors, rather than a tensor object"
   ]
  },
  {
   "cell_type": "code",
   "execution_count": 31,
   "metadata": {
    "ExecuteTime": {
     "end_time": "2019-07-12T20:17:09.201926Z",
     "start_time": "2019-07-12T20:17:09.189798Z"
    }
   },
   "outputs": [
    {
     "name": "stdout",
     "output_type": "stream",
     "text": [
      "Tensor(\"t1:0\", shape=(5, 1), dtype=float32)\n",
      "Tensor(\"t2:0\", shape=(5, 1), dtype=float32)\n",
      "Tensor(\"t3:0\", shape=(10, 1), dtype=float32)\n",
      "Tensor(\"t4:0\", shape=(5, 2), dtype=float32)\n"
     ]
    }
   ],
   "source": [
    "# concatenate multiple tensors\n",
    "# a list of tensors with the same shape and dytpe can be combined with tf.concat\n",
    "g = tf.Graph()\n",
    "with g.as_default():\n",
    "    t1 = tf.ones(shape=(5, 1), dtype=tf.float32, name=\"t1\")\n",
    "    t2 = tf.zeros(shape=(5, 1), dtype=tf.float32, name=\"t2\")\n",
    "    print(t1)\n",
    "    print(t2)\n",
    "\n",
    "with g.as_default():\n",
    "    t3 = tf.concat([t1, t2], axis=0, name=\"t3\")\n",
    "    print(t3)\n",
    "    t4 = tf.concat([t1, t2], axis=1, name=\"t4\")\n",
    "    print(t4)"
   ]
  },
  {
   "cell_type": "code",
   "execution_count": 32,
   "metadata": {
    "ExecuteTime": {
     "end_time": "2019-07-12T20:17:09.223661Z",
     "start_time": "2019-07-12T20:17:09.206207Z"
    }
   },
   "outputs": [
    {
     "name": "stdout",
     "output_type": "stream",
     "text": [
      "[[1.]\n",
      " [1.]\n",
      " [1.]\n",
      " [1.]\n",
      " [1.]\n",
      " [0.]\n",
      " [0.]\n",
      " [0.]\n",
      " [0.]\n",
      " [0.]]\n",
      "\n",
      "[[1. 0.]\n",
      " [1. 0.]\n",
      " [1. 0.]\n",
      " [1. 0.]\n",
      " [1. 0.]]\n"
     ]
    }
   ],
   "source": [
    "# review values of the concatenated tensors\n",
    "with tf.Session(graph=g) as sess:\n",
    "    print(t3.eval())\n",
    "    print()\n",
    "    print(t4.eval())"
   ]
  },
  {
   "cell_type": "markdown",
   "metadata": {},
   "source": [
    "# Utilizing control flow mechanics in building graphs\n",
    "\n",
    "TensorFlow provides a mechanism for making decisions when building a graph. However, control flow statements in TensorFlow are different from Python. As an example, we will implement the following equation in TensorFlow:\n",
    "\n",
    "$$\n",
    "res =\n",
    "\\left\\{\n",
    "    \\begin{array}{ll}\n",
    "        x + y  & \\mbox{if } x < y \\\\\n",
    "        x - y  & \\mbox{otherwise}\n",
    "    \\end{array}\n",
    "\\right.\n",
    "$$"
   ]
  },
  {
   "cell_type": "markdown",
   "metadata": {},
   "source": [
    "<a id = 'Utilizing-control-flow-mechanics-in-building-graphs'></a>"
   ]
  },
  {
   "cell_type": "code",
   "execution_count": 33,
   "metadata": {
    "ExecuteTime": {
     "end_time": "2019-07-12T20:17:09.241250Z",
     "start_time": "2019-07-12T20:17:09.226502Z"
    }
   },
   "outputs": [
    {
     "name": "stdout",
     "output_type": "stream",
     "text": [
      "Object: Tensor(\"result_add:0\", dtype=float32)\n",
      "x < y: True -> Result:3.0\n",
      "x < y: False -> Result:3.0\n"
     ]
    }
   ],
   "source": [
    "# incorrect aproach\n",
    "x, y = 1.0, 2.0\n",
    "\n",
    "g = tf.Graph()\n",
    "with g.as_default():\n",
    "    tf_x = tf.placeholder(dtype=tf.float32, shape=None, name=\"tf_x\")\n",
    "    tf_y = tf.placeholder(dtype=tf.float32, shape=None, name=\"tf_y\")\n",
    "\n",
    "    if x < y:\n",
    "        res = tf.add(tf_x, tf_y, name=\"result_add\")\n",
    "    else:\n",
    "        res = tf.subtract(tf_x, tf_y, name=\"result_sub\")\n",
    "\n",
    "    print(\"Object: {}\".format(res))\n",
    "\n",
    "with tf.Session(graph=g) as sess:\n",
    "    print(\n",
    "        \"x < y: {} -> Result:{}\".format(\n",
    "            (x < y), res.eval(feed_dict={\"tf_x:0\": x, \"tf_y:0\": y})\n",
    "        )\n",
    "    )\n",
    "\n",
    "    x, y = 2.0, 1.0\n",
    "    print(\n",
    "        \"x < y: {} -> Result:{}\".format(\n",
    "            (x < y), res.eval(feed_dict={\"tf_x:0\": x, \"tf_y:0\": y})\n",
    "        )\n",
    "    )"
   ]
  },
  {
   "cell_type": "markdown",
   "metadata": {},
   "source": [
    "> Remarks - The res object is a tensor named 'result_add:0'. The key point is that the computation graph has only one branch associated with the addition operator at the top of the control lfow statement, and the subtract operator has not been called. Because the TensorFlow graph is static, this means that once the graph is build, it remains unchanged during the execution process. So even though we changed the values of x and y and feed these new values to the graph, these new tensors go through the same path in the graph. Therefore, in both cases we get the same output of 3.0"
   ]
  },
  {
   "cell_type": "code",
   "execution_count": 34,
   "metadata": {
    "ExecuteTime": {
     "end_time": "2019-07-12T20:17:09.269136Z",
     "start_time": "2019-07-12T20:17:09.243407Z"
    }
   },
   "outputs": [
    {
     "name": "stdout",
     "output_type": "stream",
     "text": [
      "Object: Tensor(\"cond/Merge:0\", dtype=float32)\n",
      "x < y: True -> Result:3.0\n",
      "x < y: False -> Result:1.0\n"
     ]
    }
   ],
   "source": [
    "# correct version\n",
    "x, y = 1.0, 2.0\n",
    "\n",
    "g = tf.Graph()\n",
    "with g.as_default():\n",
    "    tf_x = tf.placeholder(dtype=tf.float32, shape=None, name=\"tf_x\")\n",
    "    tf_y = tf.placeholder(dtype=tf.float32, shape=None, name=\"tf_y\")\n",
    "\n",
    "    res = tf.cond(\n",
    "        tf_x < tf_y,\n",
    "        lambda: tf.add(tf_x, tf_y, name=\"result_add\"),\n",
    "        lambda: tf.subtract(tf_x, tf_y, name=\"result_sub\"),\n",
    "    )\n",
    "    print(\"Object: {}\".format(res))\n",
    "\n",
    "with tf.Session(graph=g) as sess:\n",
    "    print(\n",
    "        \"x < y: {} -> Result:{}\".format(\n",
    "            (x < y), res.eval(feed_dict={\"tf_x:0\": x, \"tf_y:0\": y})\n",
    "        )\n",
    "    )\n",
    "\n",
    "    x, y = 2.0, 1.0\n",
    "    print(\n",
    "        \"x < y: {} -> Result:{}\".format(\n",
    "            (x < y), res.eval(feed_dict={\"tf_x:0\": x, \"tf_y:0\": y})\n",
    "        )\n",
    "    )"
   ]
  },
  {
   "cell_type": "markdown",
   "metadata": {},
   "source": [
    "> Remarks - Now this process creates res, which is instead an object named 'cond/Merg:0'. In this case, the computation graph has two branches with a mechanism to decidde which branch to follow during execution."
   ]
  },
  {
   "cell_type": "code",
   "execution_count": 35,
   "metadata": {
    "ExecuteTime": {
     "end_time": "2019-07-12T20:17:09.278066Z",
     "start_time": "2019-07-12T20:17:09.273632Z"
    }
   },
   "outputs": [
    {
     "data": {
      "text/plain": [
       "0"
      ]
     },
     "execution_count": 35,
     "metadata": {},
     "output_type": "execute_result"
    }
   ],
   "source": [
    "# TensorFow tf.case operator\n",
    "# this is similar to a Python if...ekse statement\n",
    "# incorrect example\n",
    "if x < y:\n",
    "    result = 1\n",
    "else:\n",
    "    result = 0\n",
    "result"
   ]
  },
  {
   "cell_type": "code",
   "execution_count": 36,
   "metadata": {
    "ExecuteTime": {
     "end_time": "2019-07-12T20:17:09.296093Z",
     "start_time": "2019-07-12T20:17:09.280693Z"
    }
   },
   "outputs": [
    {
     "data": {
      "text/plain": [
       "<tf.Tensor 'case/cond/Merge:0' shape=() dtype=int32>"
      ]
     },
     "execution_count": 36,
     "metadata": {},
     "output_type": "execute_result"
    }
   ],
   "source": [
    "# correct example\n",
    "f1 = lambda: tf.constant(1)\n",
    "f2 = lambda: tf.constant(0)\n",
    "result = tf.case([(tf.less(x, y), f1)], default=f2)\n",
    "result"
   ]
  },
  {
   "cell_type": "code",
   "execution_count": 37,
   "metadata": {
    "ExecuteTime": {
     "end_time": "2019-07-12T20:17:09.311689Z",
     "start_time": "2019-07-12T20:17:09.298179Z"
    }
   },
   "outputs": [],
   "source": [
    "# while loop\n",
    "# correct example\n",
    "i = tf.constant(0)\n",
    "threshold = 100\n",
    "c = lambda i: tf.less(i, 100)\n",
    "b = lambda i: tf.add(i, 1)\n",
    "r = tf.while_loop(cond=c, body=b, loop_vars=[i])"
   ]
  },
  {
   "cell_type": "markdown",
   "metadata": {},
   "source": [
    "# Visualizing the graph with TensorBoard\n",
    "\n",
    "TensorFlow has a feature called TensorBoard, which isa module for visualizing computation graphs, as well as visualizing the learning of a model. We will be able to observe the connection between nodes, explore dependencies and debug the model if needed. This example will be built upon the model above that used variable scope to divide the generator created data from the original stream of data."
   ]
  },
  {
   "cell_type": "markdown",
   "metadata": {},
   "source": [
    "<a id = 'Visualizing-the-graph-with-TensorBoard'></a>"
   ]
  },
  {
   "cell_type": "code",
   "execution_count": 38,
   "metadata": {
    "ExecuteTime": {
     "end_time": "2019-07-12T20:17:09.324426Z",
     "start_time": "2019-07-12T20:17:09.313752Z"
    }
   },
   "outputs": [],
   "source": [
    "# custom helper functions\n",
    "def build_classifier(data, labels, n_classes=2):\n",
    "    data_shape = data.get_shape().as_list()\n",
    "    weights = tf.get_variable(\n",
    "        name=\"weights\", shape=(data_shape[1], n_classes), dtype=tf.float32\n",
    "    )\n",
    "    bias = tf.get_variable(name=\"bias\", initializer=tf.zeros(shape=n_classes))\n",
    "    logits = tf.add(tf.matmul(data, weights), bias, name=\"logits\")\n",
    "    return logits, tf.nn.softmax(logits)\n",
    "\n",
    "\n",
    "def build_generator(data, n_hidden):\n",
    "    data_shape = data.get_shape().as_list()\n",
    "    w1 = tf.Variable(tf.random_normal(shape=(data_shape[1], n_hidden)), name=\"w1\")\n",
    "    b1 = tf.Variable(tf.zeros(shape=n_hidden), name=\"b1\")\n",
    "\n",
    "    hidden = tf.add(tf.matmul(data, w1), b1, name=\"hidden_pre-activation\")\n",
    "    hidden = tf.nn.relu(hidden, \"hidden_activation\")\n",
    "\n",
    "    w2 = tf.Variable(tf.random_normal(shape=(n_hidden, data_shape[1])), name=\"w2\")\n",
    "    b2 = tf.Variable(tf.zeros(shape=data_shape[1]), name=\"b2\")\n",
    "\n",
    "    output = tf.add(tf.matmul(hidden, w2), b2, name=\"output\")\n",
    "    return output, tf.nn.sigmoid(output)"
   ]
  },
  {
   "cell_type": "code",
   "execution_count": 39,
   "metadata": {
    "ExecuteTime": {
     "end_time": "2019-07-12T20:17:09.382923Z",
     "start_time": "2019-07-12T20:17:09.326695Z"
    }
   },
   "outputs": [],
   "source": [
    "# run classifier\n",
    "batch_size = 64\n",
    "g = tf.Graph()\n",
    "\n",
    "with g.as_default():\n",
    "    tf_X = tf.placeholder(shape=(batch_size, 100), dtype=tf.float32, name=\"tf_x\")\n",
    "\n",
    "    # build generator\n",
    "    with tf.variable_scope(\"generator\"):\n",
    "        gen_out1 = build_generator(data=tf_X, n_hidden=50)\n",
    "\n",
    "    # build classifier\n",
    "    with tf.variable_scope(\"classifier\") as scope:\n",
    "        # build classifier for original data\n",
    "        cls_out1 = build_classifier(data=tf_X, labels=tf.ones(shape=batch_size))\n",
    "\n",
    "        # reuse the classifier for generated data\n",
    "        scope.reuse_variables()\n",
    "        cls_out2 = build_classifier(data=gen_out1[1], labels=tf.zeros(shape=batch_size))"
   ]
  },
  {
   "cell_type": "code",
   "execution_count": 40,
   "metadata": {
    "ExecuteTime": {
     "end_time": "2019-07-12T20:17:09.409686Z",
     "start_time": "2019-07-12T20:17:09.385217Z"
    }
   },
   "outputs": [],
   "source": [
    "# sent results to file\n",
    "with tf.Session(graph=g) as sess:\n",
    "    sess.run(tf.global_variables_initializer())\n",
    "\n",
    "    file_writer = tf.summary.FileWriter(logdir=\"./ch14_files/\", graph=g)"
   ]
  }
 ],
 "metadata": {
  "kernelspec": {
   "display_name": "Python 3",
   "language": "python",
   "name": "python3"
  },
  "language_info": {
   "codemirror_mode": {
    "name": "ipython",
    "version": 3
   },
   "file_extension": ".py",
   "mimetype": "text/x-python",
   "name": "python",
   "nbconvert_exporter": "python",
   "pygments_lexer": "ipython3",
   "version": "3.6.8"
  },
  "toc": {
   "base_numbering": 1,
   "nav_menu": {},
   "number_sections": true,
   "sideBar": true,
   "skip_h1_title": false,
   "title_cell": "Table of Contents",
   "title_sidebar": "Contents",
   "toc_cell": false,
   "toc_position": {},
   "toc_section_display": true,
   "toc_window_display": false
  }
 },
 "nbformat": 4,
 "nbformat_minor": 2
}
