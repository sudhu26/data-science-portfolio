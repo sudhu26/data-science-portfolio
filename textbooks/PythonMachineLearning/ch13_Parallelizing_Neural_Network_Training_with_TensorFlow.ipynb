{
 "cells": [
  {
   "cell_type": "markdown",
   "metadata": {},
   "source": [
    "__Chapter 13 - Parallelizing Neural Network Training with TensorFlow__\n",
    "\n",
    "1. [Import](#Import)\n",
    "1. [First steps with TensoFlow](#First-steps-with-TensoFlow)\n",
    "    1. [Working with array structures](#Working-with-array-structures)\n",
    "    1. [Developing a simple model with the low-level TensorFlow API](#Developing-a-simple-model-with-the-low-level-TensorFlow-API)\n",
    "1. [Training neural networks efficiently with high-level TensorFlow APIs](#Training-neural-networks-efficiently-with-high-level-TensorFlow-APIs)\n",
    "    1. [Building multilayer neural networks using TensorFlow's Layers API](#Building-multilayer-neural-networks-using-TensorFlows-Layers-API)\n",
    "    1. [Developing a multilayer neural network with Keras](#Developing-a-multilayer-neural-network-with-Keras)\n",
    "1. [Choosing activation functions for multilayer networks](#Choosing-activation-functions-for-multilayer-networks)\n",
    "    1. [Logistic function recap](#Logistic-function-recap)\n",
    "    1. [Estimating class probabilities in multiclass classification via the softmax function](#Estimating-class-probabilities-in-multiclass-classification-via-the-softmax-function)\n",
    "    1. [Broadening the output spectrum using a hyperbolic tangent](#Broadening-the-output-spectrum-using-a-hyperbolic-tangent)\n",
    "    1. [Rectified linear unit activation](#Rectified-linear-unit-activation)\n",
    "\n",
    "\n"
   ]
  },
  {
   "cell_type": "markdown",
   "metadata": {},
   "source": [
    "# Import"
   ]
  },
  {
   "cell_type": "markdown",
   "metadata": {},
   "source": [
    "<a id = 'Import'></a>"
   ]
  },
  {
   "cell_type": "code",
   "execution_count": 1,
   "metadata": {
    "ExecuteTime": {
     "end_time": "2019-07-12T19:20:13.202507Z",
     "start_time": "2019-07-12T19:20:12.172431Z"
    }
   },
   "outputs": [
    {
     "data": {
      "text/html": [
       "<style>.container { width:95% !important; }</style>"
      ],
      "text/plain": [
       "<IPython.core.display.HTML object>"
      ]
     },
     "metadata": {},
     "output_type": "display_data"
    }
   ],
   "source": [
    "# standard libary and settings\n",
    "import os\n",
    "import sys\n",
    "import importlib\n",
    "import itertools\n",
    "from io import StringIO\n",
    "import warnings\n",
    "\n",
    "warnings.simplefilter(\"ignore\")\n",
    "from IPython.core.display import display, HTML\n",
    "\n",
    "display(HTML(\"<style>.container { width:95% !important; }</style>\"))\n",
    "\n",
    "# data extensions and settings\n",
    "import numpy as np\n",
    "\n",
    "np.set_printoptions(threshold=np.inf, suppress=True)\n",
    "import pandas as pd\n",
    "\n",
    "pd.set_option(\"display.max_rows\", 500)\n",
    "pd.options.display.float_format = \"{:,.6f}\".format\n",
    "\n",
    "# modeling extensions\n",
    "import sklearn.base as base\n",
    "import sklearn.cluster as cluster\n",
    "import sklearn.datasets as datasets\n",
    "import sklearn.decomposition as decomposition\n",
    "import sklearn.ensemble as ensemble\n",
    "import sklearn.feature_extraction as feature_extraction\n",
    "import sklearn.feature_selection as feature_selection\n",
    "import sklearn.linear_model as linear_model\n",
    "import sklearn.metrics as metrics\n",
    "import sklearn.model_selection as model_selection\n",
    "import sklearn.neighbors as neighbors\n",
    "import sklearn.pipeline as pipeline\n",
    "import sklearn.preprocessing as preprocessing\n",
    "import sklearn.svm as svm\n",
    "import sklearn.tree as tree\n",
    "import sklearn.discriminant_analysis as discriminant_analysis\n",
    "import sklearn.utils as utils\n",
    "\n",
    "# visualization extensions and settings\n",
    "import seaborn as sns\n",
    "import matplotlib.pyplot as plt\n",
    "\n",
    "# custom extensions and settings\n",
    "sys.path.append(\"/home/mlmachine\") if \"/home/mlmachine\" not in sys.path else None\n",
    "sys.path.append(\"/home/prettierplot\") if \"/home/prettierplot\" not in sys.path else None\n",
    "\n",
    "import mlmachine as mlm\n",
    "from prettierplot.plotter import PrettierPlot\n",
    "import prettierplot.style as style\n",
    "\n",
    "# magic functions\n",
    "%matplotlib inline"
   ]
  },
  {
   "cell_type": "markdown",
   "metadata": {},
   "source": [
    "# First steps with TensoFlow\n",
    "\n",
    "TensorFlow is built around a computation graphs composed of a node set. Each node represents and operation that may have zero or more input or output. The values that flow through the edges of the computation graph are referred to as tensors.\n",
    "\n",
    "Tensors can be scalars, vectors, matrices, and so on. A scalar is a rank-0 tensor, a vector is a rank-1 tensor, a matrix is a rank-2 tensor, and matrices stacked to form a three dimensional array are rank-3 tensors.\n",
    "\n",
    "We need to build the computation graph and launch it in a TensorFlow session. As a simple warm-up, we start with the use of scalars from TensorFlow to compute a net input $z$ of a sample point $x$ in a 1-dimensional dataset with weight $w$ and bias $b$.\n",
    "\n",
    "$$\n",
    "z = wx + b\n",
    "$$\n",
    "\n",
    "The following code shows how to implement this equation in the lower-level TensorFlow API. In general, the low-level API requires that we define placeholders for input data (x, y and sometimes other tunable parameters). Then we define the weight matrices, and if this is an optimization algorithm we need to define the loss or cost function to use. TensoFlow creates a graph that contains all the sybmols we define as nodes in this graph"
   ]
  },
  {
   "cell_type": "markdown",
   "metadata": {},
   "source": [
    "<a id = 'First-steps-with-TensoFlow'></a>"
   ]
  },
  {
   "cell_type": "code",
   "execution_count": 2,
   "metadata": {
    "ExecuteTime": {
     "end_time": "2019-07-12T19:20:15.447116Z",
     "start_time": "2019-07-12T19:20:13.204506Z"
    }
   },
   "outputs": [
    {
     "name": "stdout",
     "output_type": "stream",
     "text": [
      "1.13.1\n"
     ]
    }
   ],
   "source": [
    "# load TensorFlow and check version\n",
    "import tensorflow as tf\n",
    "\n",
    "print(tf.__version__)"
   ]
  },
  {
   "cell_type": "code",
   "execution_count": 3,
   "metadata": {
    "ExecuteTime": {
     "end_time": "2019-07-12T19:20:15.586199Z",
     "start_time": "2019-07-12T19:20:15.450176Z"
    }
   },
   "outputs": [
    {
     "name": "stdout",
     "output_type": "stream",
     "text": [
      "WARNING:tensorflow:From /usr/local/lib/python3.6/site-packages/tensorflow/python/framework/op_def_library.py:263: colocate_with (from tensorflow.python.framework.ops) is deprecated and will be removed in a future version.\n",
      "Instructions for updating:\n",
      "Colocations handled automatically by placer.\n",
      "x = 1.00 --> 2.70\n",
      "x = 0.60 --> 1.90\n",
      "x = -1.80 --> -2.90\n"
     ]
    }
   ],
   "source": [
    "# create a graph\n",
    "g = tf.Graph()\n",
    "with g.as_default():\n",
    "    x = tf.placeholder(dtype=tf.float32, shape=(None), name=\"x\")\n",
    "    w = tf.Variable(2.0, name=\"weight\")\n",
    "    b = tf.Variable(0.7, name=\"bias\")\n",
    "    z = w * x + b\n",
    "\n",
    "    init = tf.global_variables_initializer()\n",
    "\n",
    "# create a session and pass in graph g\n",
    "with tf.Session(graph=g) as sess:\n",
    "\n",
    "    # initialize w and b\n",
    "    sess.run(init)\n",
    "\n",
    "    # evaluate z:\n",
    "    for t in [1.0, 0.6, -1.8]:\n",
    "        print(\"x = {:.2f} --> {:.2f}\".format(t, sess.run(z, feed_dict={x: t})))"
   ]
  },
  {
   "cell_type": "markdown",
   "metadata": {},
   "source": [
    "the placeholder for the variable x with shape = (None) allows us to feed the values in an element-by-element form, as well as in batch form where we feed in all the input data at once. The latter implementation would be as follows:"
   ]
  },
  {
   "cell_type": "code",
   "execution_count": 4,
   "metadata": {
    "ExecuteTime": {
     "end_time": "2019-07-12T19:20:15.604351Z",
     "start_time": "2019-07-12T19:20:15.588691Z"
    }
   },
   "outputs": [
    {
     "name": "stdout",
     "output_type": "stream",
     "text": [
      "[2.7 4.7 6.7]\n"
     ]
    }
   ],
   "source": [
    "# batch form\n",
    "with tf.Session(graph=g) as sess:\n",
    "    sess.run(init)\n",
    "    print(sess.run(z, feed_dict={x: [1.0, 2.0, 3.0]}))"
   ]
  },
  {
   "cell_type": "markdown",
   "metadata": {},
   "source": [
    "## Working with array structures\n",
    "\n",
    "As an example of how to use array structures, we will create a simple rank-3 tensor of size _batchsize_ x 2 x 3, reshape it, and calculate the column sums using TensorFlow's optimized expression. We generally won't know the batch size beforehand, so we specify None for the batch size in the argument for the shape parameter of the placeholder x.\n",
    "\n"
   ]
  },
  {
   "cell_type": "markdown",
   "metadata": {},
   "source": [
    "<a id = 'Working-with-array-structures'></a>"
   ]
  },
  {
   "cell_type": "code",
   "execution_count": 5,
   "metadata": {
    "ExecuteTime": {
     "end_time": "2019-07-12T19:20:15.657535Z",
     "start_time": "2019-07-12T19:20:15.608502Z"
    }
   },
   "outputs": [
    {
     "name": "stdout",
     "output_type": "stream",
     "text": [
      "Original array:\n",
      " [[[ 0  1  2]\n",
      "  [ 3  4  5]]\n",
      "\n",
      " [[ 6  7  8]\n",
      "  [ 9 10 11]]\n",
      "\n",
      " [[12 13 14]\n",
      "  [15 16 17]]]\n",
      "input shape: (3, 2, 3)\n",
      "Reshaped: \n",
      " [[ 0.  1.  2.  3.  4.  5.]\n",
      " [ 6.  7.  8.  9. 10. 11.]\n",
      " [12. 13. 14. 15. 16. 17.]]\n",
      "Column sums: \n",
      " [18. 21. 24. 27. 30. 33.]\n",
      "Column means: \n",
      " [ 6.  7.  8.  9. 10. 11.]\n"
     ]
    }
   ],
   "source": [
    "#  create graph and session\n",
    "g = tf.Graph()\n",
    "with g.as_default():\n",
    "    x = tf.placeholder(dtype=tf.float32, shape=(None, 2, 3), name=\"input_x\")\n",
    "    x2 = tf.reshape(x, shape=(-1, 6), name=\"x2\")\n",
    "\n",
    "    # calculate the sum of each column\n",
    "    xsum = tf.reduce_sum(x2, axis=0, name=\"col_sum\")\n",
    "\n",
    "    # calculate the mean of each column\n",
    "    xmean = tf.reduce_mean(x2, axis=0, name=\"col_sum\")\n",
    "\n",
    "with tf.Session(graph=g) as sess:\n",
    "    x_array = np.arange(18).reshape(3, 2, 3)\n",
    "    print(\"Original array:\\n {}\".format(x_array))\n",
    "    print(\"input shape: {}\".format(x_array.shape))\n",
    "    print(\"Reshaped: \\n {0}\".format(sess.run(x2, feed_dict={x: x_array})))\n",
    "    print(\"Column sums: \\n {0}\".format(sess.run(xsum, feed_dict={x: x_array})))\n",
    "    print(\"Column means: \\n {0}\".format(sess.run(xmean, feed_dict={x: x_array})))"
   ]
  },
  {
   "cell_type": "markdown",
   "metadata": {},
   "source": [
    "We used three functions - tf.reshape, tf.reduce_mean, tf.reduce_sum. The value -1 is used when reshaping because we don't know the batch size. Using -1 in TensorFlow when reshaping means the size of that dimensions will be computed according to the total size of the tensor and the other dimensions. Something like tf.reshape(tensor, shape = (-1,) can be used to flatten a tensor."
   ]
  },
  {
   "cell_type": "markdown",
   "metadata": {},
   "source": [
    "# Developing a simple model with the low-level TensorFlow API\n",
    "\n",
    "Implement an ordinary least squares regressioin model. Let's create a small 1-dimensional dataset with 10 training samples. We want to train a linear regression model to predict the output $y$ from the input $x$, per usual. We will implement this model in a class that we will call TfLinreg. We need two placeholders, one for the input $x$ and one for the output $y$ in order to feed the data into ourmodel. We also need the trainable variables $w$ and $b$ for the weight and bias.\n",
    "\n",
    "With these, we can then define the linear regression model $z= w \\times x + b$, as well as the cost function. For this function we will use Mean Squared Error. To learn the weights, we will use gradient descent."
   ]
  },
  {
   "cell_type": "markdown",
   "metadata": {},
   "source": [
    "<a id = 'Developing-a-simple-model-with-the-low-level-TensorFlow-API'></a>"
   ]
  },
  {
   "cell_type": "code",
   "execution_count": 6,
   "metadata": {
    "ExecuteTime": {
     "end_time": "2019-07-12T19:20:15.675551Z",
     "start_time": "2019-07-12T19:20:15.662806Z"
    }
   },
   "outputs": [],
   "source": [
    "# create train and test sets\n",
    "X_train = np.arange(10).reshape((10, 1))\n",
    "y_train = np.array([1.0, 1.3, 3.1, 2.0, 5.0, 6.3, 6.6, 7.4, 8.0, 9.0])"
   ]
  },
  {
   "cell_type": "code",
   "execution_count": 7,
   "metadata": {
    "ExecuteTime": {
     "end_time": "2019-07-12T19:20:15.696196Z",
     "start_time": "2019-07-12T19:20:15.678035Z"
    }
   },
   "outputs": [],
   "source": [
    "# custom class implementing linear regression with TensorFlow\n",
    "class TfLinReg:\n",
    "    def __init__(self, x_dim, learning_rate=0.01, random_seed=None):\n",
    "\n",
    "        self.x_dim = x_dim\n",
    "        self.learning_rate = learning_rate\n",
    "        self.g = tf.Graph()\n",
    "\n",
    "        # build model\n",
    "        with self.g.as_default():\n",
    "\n",
    "            # set graph-level random-seed\n",
    "            tf.set_random_seed(random_seed)\n",
    "            self.build()\n",
    "\n",
    "            # create initializer\n",
    "            self.init_op = tf.global_variables_initializer()\n",
    "\n",
    "    def build(self):\n",
    "\n",
    "        # define placeholders for inputs\n",
    "        self.X = tf.placeholder(\n",
    "            dtype=tf.float32, shape=(None, self.x_dim), name=\"x_input\"\n",
    "        )\n",
    "        self.y = tf.placeholder(dtype=tf.float32, shape=(None), name=\"y_input\")\n",
    "        print(self.X)\n",
    "        print(self.y)\n",
    "\n",
    "        # define weight matrix and bias vector\n",
    "        w = tf.Variable(tf.zeros(shape=(1)), name=\"weight\")\n",
    "        b = tf.Variable(tf.zeros(shape=(1)), name=\"bias\")\n",
    "        print(w)\n",
    "        print(b)\n",
    "\n",
    "        self.z_net = tf.squeeze(w * self.X + b, name=\"z_net\")\n",
    "        print(self.z_net)\n",
    "\n",
    "        sqr_errors = tf.square(self.y - self.z_net, name=\"sqr_errors\")\n",
    "        print(sqr_errors)\n",
    "\n",
    "        self.mean_cost = tf.reduce_mean(sqr_errors, name=\"mean_cost\")\n",
    "\n",
    "        optimizer = tf.train.GradientDescentOptimizer(\n",
    "            learning_rate=self.learning_rate, name=\"GradientDescent\"\n",
    "        )\n",
    "        self.optimizer = optimizer.minimize(self.mean_cost)"
   ]
  },
  {
   "cell_type": "code",
   "execution_count": 8,
   "metadata": {
    "ExecuteTime": {
     "end_time": "2019-07-12T19:20:15.839200Z",
     "start_time": "2019-07-12T19:20:15.702217Z"
    }
   },
   "outputs": [
    {
     "name": "stdout",
     "output_type": "stream",
     "text": [
      "Tensor(\"x_input:0\", shape=(?, 1), dtype=float32)\n",
      "Tensor(\"y_input:0\", dtype=float32)\n",
      "<tf.Variable 'weight:0' shape=(1,) dtype=float32_ref>\n",
      "<tf.Variable 'bias:0' shape=(1,) dtype=float32_ref>\n",
      "Tensor(\"z_net:0\", dtype=float32)\n",
      "Tensor(\"sqr_errors:0\", dtype=float32)\n",
      "WARNING:tensorflow:From /usr/local/lib/python3.6/site-packages/tensorflow/python/ops/math_ops.py:3066: to_int32 (from tensorflow.python.ops.math_ops) is deprecated and will be removed in a future version.\n",
      "Instructions for updating:\n",
      "Use tf.cast instead.\n"
     ]
    }
   ],
   "source": [
    "# fit model\n",
    "lrmodel = TfLinReg(x_dim=X_train.shape[1], learning_rate=0.01)"
   ]
  },
  {
   "cell_type": "markdown",
   "metadata": {},
   "source": [
    "The print statements display information about the six nodes in the graph $X$, $y$, $w$, $b$, $z\\_net$, $sqr\\_errors$. Now we need to implement a training function to learn the weights of the linear regression model. To train the model, we implement a separate function that requires a TensorFlow session, model instance, training data and the number of epochs. In the following function, we initialize the variables in the TensorFlow session using the init_op operation defined in the mode. Then we iterate and call the optimizer operation of the model while feeding the training data. This functions returns a list of training costs."
   ]
  },
  {
   "cell_type": "code",
   "execution_count": 9,
   "metadata": {
    "ExecuteTime": {
     "end_time": "2019-07-12T19:20:15.849454Z",
     "start_time": "2019-07-12T19:20:15.842507Z"
    }
   },
   "outputs": [],
   "source": [
    "# custom function for capturing training costs\n",
    "def train_linreg(sess, model, X_train, y_train, num_epochs=10):\n",
    "\n",
    "    # initialize all variables: W and b\n",
    "    sess.run(model.init_op)\n",
    "\n",
    "    training_costs = []\n",
    "    for i in range(num_epochs):\n",
    "        _, cost = sess.run(\n",
    "            [model.optimizer, model.mean_cost],\n",
    "            feed_dict={model.X: X_train, model.y: y_train},\n",
    "        )\n",
    "        training_costs.append(cost)\n",
    "\n",
    "    return training_costs"
   ]
  },
  {
   "cell_type": "code",
   "execution_count": 10,
   "metadata": {
    "ExecuteTime": {
     "end_time": "2019-07-12T19:20:15.913552Z",
     "start_time": "2019-07-12T19:20:15.852887Z"
    }
   },
   "outputs": [],
   "source": [
    "# create a new TensorFlwo session to launch the lrmodel.g graph\n",
    "sess = tf.Session(graph=lrmodel.g)\n",
    "\n",
    "# pass all required arguments to the train_linreg function for training\n",
    "training_costs = train_linreg(sess, lrmodel, X_train, y_train)"
   ]
  },
  {
   "cell_type": "code",
   "execution_count": 11,
   "metadata": {
    "ExecuteTime": {
     "end_time": "2019-07-12T19:20:15.926641Z",
     "start_time": "2019-07-12T19:20:15.918224Z"
    }
   },
   "outputs": [
    {
     "data": {
      "text/plain": [
       "array([ 1,  2,  3,  4,  5,  6,  7,  8,  9, 10])"
      ]
     },
     "execution_count": 11,
     "metadata": {},
     "output_type": "execute_result"
    }
   ],
   "source": [
    "np.arange(1, len(training_costs) + 1)"
   ]
  },
  {
   "cell_type": "code",
   "execution_count": 12,
   "metadata": {
    "ExecuteTime": {
     "end_time": "2019-07-12T19:20:16.438064Z",
     "start_time": "2019-07-12T19:20:15.930735Z"
    }
   },
   "outputs": [
    {
     "data": {
      "image/png": "[encoded data removed]",
      "text/plain": [
       "<Figure size 1080x540 with 1 Axes>"
      ]
     },
     "metadata": {},
     "output_type": "display_data"
    }
   ],
   "source": [
    "# visualize training cost by epoch\n",
    "p = PrettierPlot()\n",
    "ax = p.make_canvas(\n",
    "    title=\"Cost reduction over time\",\n",
    "    xLabel=\"Epochs\",\n",
    "    yLabel=\"Training cost\",\n",
    "    y_shift=0.6,\n",
    ")\n",
    "p.prettyLine(\n",
    "    x=np.arange(1, len(training_costs) + 1),\n",
    "    y=np.array(training_costs),\n",
    "    label=\"training cost\",\n",
    "    linecolor=style.styleHexMid[0],\n",
    "    xTicks=np.arange(0, 11, 1),\n",
    "    bbox=(1.2, 0.9),\n",
    "    marker_on=True,\n",
    "    ax=ax,\n",
    ")"
   ]
  },
  {
   "cell_type": "markdown",
   "metadata": {},
   "source": [
    "We need to add a function to make predictions based on input features. This function will need the TensorFlow session, model and the test data."
   ]
  },
  {
   "cell_type": "code",
   "execution_count": 13,
   "metadata": {
    "ExecuteTime": {
     "end_time": "2019-07-12T19:20:16.444680Z",
     "start_time": "2019-07-12T19:20:16.439997Z"
    }
   },
   "outputs": [],
   "source": [
    "# function to make predictions. Simply run z_net in the previously defined graph\n",
    "def predict_linreg(sess, model, X_test):\n",
    "    yPred = sess.run(model.z_net, feed_dict={model.X: X_test})\n",
    "    return yPred"
   ]
  },
  {
   "cell_type": "code",
   "execution_count": 14,
   "metadata": {
    "ExecuteTime": {
     "end_time": "2019-07-12T19:20:16.895149Z",
     "start_time": "2019-07-12T19:20:16.447422Z"
    }
   },
   "outputs": [
    {
     "data": {
      "image/png": "[encoded data removed]",
      "text/plain": [
       "<Figure size 1080x540 with 1 Axes>"
      ]
     },
     "metadata": {},
     "output_type": "display_data"
    }
   ],
   "source": [
    "# visualize line of best fit\n",
    "p = PrettierPlot()\n",
    "ax = p.make_canvas(title=\"Basic linear regression\", xLabel=\"X\", yLabel=\"y\", y_shift=0.95)\n",
    "p.pretty_2d_scatter(x=X_train, y=y_train, x_units=\"f\", y_units=\"f\", ax=ax)\n",
    "\n",
    "p.prettyLine(\n",
    "    x=np.arange(X_train.shape[0]),\n",
    "    y=predict_linreg(sess, lrmodel, X_train),\n",
    "    label=\"Line of best fit\",\n",
    "    linecolor=style.styleHexMid[0],\n",
    "    bbox=(1.2, 0.9),\n",
    "    marker_on=False,\n",
    "    ax=ax,\n",
    ")"
   ]
  },
  {
   "cell_type": "markdown",
   "metadata": {},
   "source": [
    "# Training neural networks efficiently with high-level TensorFlow APIs\n",
    "\n",
    "We will review two high-level TensorFlow APIs, the Layers API and Keras API"
   ]
  },
  {
   "cell_type": "markdown",
   "metadata": {},
   "source": [
    "<a id = 'Training-neural-networks-efficiently-with-high-level-TensorFlow-APIs'></a>"
   ]
  },
  {
   "cell_type": "markdown",
   "metadata": {},
   "source": [
    "## Building multilayer neural networks using TensorFlow's Layers API"
   ]
  },
  {
   "cell_type": "markdown",
   "metadata": {},
   "source": [
    "<a id = 'Building-multilayer-neural-networks-using-TensorFlows-Layers-API'></a>"
   ]
  },
  {
   "cell_type": "code",
   "execution_count": 15,
   "metadata": {
    "ExecuteTime": {
     "end_time": "2019-07-12T19:20:23.378042Z",
     "start_time": "2019-07-12T19:20:16.899186Z"
    }
   },
   "outputs": [
    {
     "name": "stdout",
     "output_type": "stream",
     "text": [
      "Training data dimensions: (42000, 785)\n",
      "Test data dimensions: (28000, 784)\n"
     ]
    }
   ],
   "source": [
    "# Load data and print dimensions\n",
    "df_train = pd.read_csv(\"s3://tdp-ml-datasets/kaggle-mnist//train.csv\", sep=\",\")\n",
    "df_test = pd.read_csv(\"s3://tdp-ml-datasets/kaggle-mnist//test.csv\", sep=\",\")\n",
    "\n",
    "print(\"Training data dimensions: {}\".format(df_train.shape))\n",
    "print(\"Test data dimensions: {}\".format(df_test.shape))\n",
    "\n",
    "# separate\n",
    "df_train_label = df_train[\"label\"]\n",
    "df_train = df_train.drop(labels=\"label\", axis=1)\n",
    "\n",
    "# train/test split\n",
    "X_train, X_test, y_train, y_test = model_selection.train_test_split(\n",
    "    df_train, df_train_label, test_size=0.2\n",
    ")\n",
    "X_train = X_train.values\n",
    "X_test = X_test.values\n",
    "y_train = y_train.values\n",
    "y_test = y_test.values"
   ]
  },
  {
   "cell_type": "code",
   "execution_count": 16,
   "metadata": {
    "ExecuteTime": {
     "end_time": "2019-07-12T19:20:23.388791Z",
     "start_time": "2019-07-12T19:20:23.380314Z"
    }
   },
   "outputs": [
    {
     "name": "stdout",
     "output_type": "stream",
     "text": [
      "Training data dimensions: (33600, 784)\n",
      "Test data dimensions: (8400, 784)\n"
     ]
    }
   ],
   "source": [
    "# split into train/test data\n",
    "print(\"Training data dimensions: {}\".format(X_train.shape))\n",
    "print(\"Test data dimensions: {}\".format(X_test.shape))"
   ]
  },
  {
   "cell_type": "code",
   "execution_count": 17,
   "metadata": {
    "ExecuteTime": {
     "end_time": "2019-07-12T19:20:23.862271Z",
     "start_time": "2019-07-12T19:20:23.392846Z"
    }
   },
   "outputs": [
    {
     "name": "stdout",
     "output_type": "stream",
     "text": [
      "X_trainCentered  dimensions: (33600, 784), training label shape: (33600,)\n",
      "X_testCentered  dimensions: (8400, 784), training label shape: (8400,)\n"
     ]
    }
   ],
   "source": [
    "# standardize data\n",
    "mean_vals = np.mean(X_train, axis=0)\n",
    "std_val = np.std(X_train)\n",
    "X_trainCentered = (X_train - mean_vals) / std_val\n",
    "X_testCentered = (X_test - mean_vals) / std_val\n",
    "print(\n",
    "    \"X_trainCentered  dimensions: {}, training label shape: {}\".format(\n",
    "        X_trainCentered.shape, y_train.shape\n",
    "    )\n",
    ")\n",
    "print(\n",
    "    \"X_testCentered  dimensions: {}, training label shape: {}\".format(\n",
    "        X_testCentered.shape, y_test.shape\n",
    "    )\n",
    ")"
   ]
  },
  {
   "cell_type": "markdown",
   "metadata": {},
   "source": [
    "With this data in hand, we will start building the model by creating two placeholders, named tf_x and tf_y, and then build an MLP with three fully connected layers. For the activation functions, we will use hyperbolic tangent activation functions (tanh) in the hidden layer, and in the output layer we will use softmax. We will also add an additional hidden layer to get us to three fully connected layers."
   ]
  },
  {
   "cell_type": "code",
   "execution_count": 18,
   "metadata": {
    "ExecuteTime": {
     "end_time": "2019-07-12T19:20:24.098869Z",
     "start_time": "2019-07-12T19:20:23.866125Z"
    }
   },
   "outputs": [
    {
     "name": "stdout",
     "output_type": "stream",
     "text": [
      "WARNING:tensorflow:From <ipython-input-18-7149f2702d05>:15: dense (from tensorflow.python.layers.core) is deprecated and will be removed in a future version.\n",
      "Instructions for updating:\n",
      "Use keras.layers.dense instead.\n",
      "WARNING:tensorflow:From /usr/local/lib/python3.6/site-packages/tensorflow/python/ops/losses/losses_impl.py:209: to_float (from tensorflow.python.ops.math_ops) is deprecated and will be removed in a future version.\n",
      "Instructions for updating:\n",
      "Use tf.cast instead.\n"
     ]
    }
   ],
   "source": [
    "# create TensorFlow graph\n",
    "n_features = X_trainCentered.shape[1]\n",
    "n_classes = 10\n",
    "random_seed = 123\n",
    "\n",
    "np.random.seed(random_seed)\n",
    "\n",
    "g = tf.Graph()\n",
    "with g.as_default():\n",
    "    tf.set_random_seed(random_seed)\n",
    "    tf_x = tf.placeholder(dtype=tf.float32, shape=(None, n_features), name=\"tf_x\")\n",
    "    tf_y = tf.placeholder(dtype=tf.int32, shape=None, name=\"tf_y\")\n",
    "    y_onehot = tf.one_hot(indices=tf_y, depth=n_classes)\n",
    "\n",
    "    h1 = tf.layers.dense(inputs=tf_x, units=50, activation=tf.tanh, name=\"layer1\")\n",
    "    h2 = tf.layers.dense(inputs=h1, units=50, activation=tf.tanh, name=\"layer2\")\n",
    "    logits = tf.layers.dense(inputs=h2, units=10, activation=None, name=\"layer3\")\n",
    "\n",
    "    predictions = {\n",
    "        \"classes\": tf.argmax(logits, axis=1, name=\"predicted_classes\"),\n",
    "        \"probabilities\": tf.nn.softmax(logits, name=\"softmax_tensor\"),\n",
    "    }\n",
    "\n",
    "with g.as_default():\n",
    "    cost = tf.losses.softmax_cross_entropy(onehot_labels=y_onehot, logits=logits)\n",
    "    optimizer = tf.train.GradientDescentOptimizer(learning_rate=0.001)\n",
    "    train_op = optimizer.minimize(loss=cost)\n",
    "    init_op = tf.global_variables_initializer()"
   ]
  },
  {
   "cell_type": "markdown",
   "metadata": {},
   "source": [
    "In order to train the network, we need a way to generate batches of data. To do this, we implement a function that returns a generator."
   ]
  },
  {
   "cell_type": "code",
   "execution_count": 19,
   "metadata": {
    "ExecuteTime": {
     "end_time": "2019-07-12T19:20:24.110005Z",
     "start_time": "2019-07-12T19:20:24.101022Z"
    }
   },
   "outputs": [],
   "source": [
    "# custom function to generate samples for model\n",
    "def create_batch_generator(X, y, batch_size=128, shuffle=False):\n",
    "    X_copy = np.array(X)\n",
    "    y_copy = np.array(y)\n",
    "\n",
    "    if shuffle:\n",
    "        data = np.column_stack((X_copy, y_copy))\n",
    "        np.random.shuffle(data)\n",
    "        X_copy = data[:, :-1]\n",
    "        y_copy = data[:, -1].astype(int)\n",
    "\n",
    "    for i in range(0, X.shape[0], batch_size):\n",
    "        yield (X_copy[i : i + batch_size, :], y_copy[i : i + batch_size])"
   ]
  },
  {
   "cell_type": "code",
   "execution_count": 20,
   "metadata": {
    "ExecuteTime": {
     "end_time": "2019-07-12T19:21:05.808215Z",
     "start_time": "2019-07-12T19:20:24.112710Z"
    }
   },
   "outputs": [
    {
     "name": "stdout",
     "output_type": "stream",
     "text": [
      "Epoch 1 training loss: 1.47432541847229\n",
      "Epoch 2 training loss: 1.1588801145553589\n",
      "Epoch 3 training loss: 0.9878157377243042\n",
      "Epoch 4 training loss: 0.8709930181503296\n",
      "Epoch 5 training loss: 0.7837013006210327\n",
      "Epoch 6 training loss: 0.7151179313659668\n",
      "Epoch 7 training loss: 0.6594202518463135\n",
      "Epoch 8 training loss: 0.613131046295166\n",
      "Epoch 9 training loss: 0.5740007162094116\n",
      "Epoch 10 training loss: 0.5404797196388245\n",
      "Epoch 11 training loss: 0.5114487409591675\n",
      "Epoch 12 training loss: 0.48606857657432556\n",
      "Epoch 13 training loss: 0.46369391679763794\n",
      "Epoch 14 training loss: 0.44381874799728394\n",
      "Epoch 15 training loss: 0.42604145407676697\n",
      "Epoch 16 training loss: 0.41003894805908203\n",
      "Epoch 17 training loss: 0.39554959535598755\n",
      "Epoch 18 training loss: 0.38235965371131897\n",
      "Epoch 19 training loss: 0.3702933192253113\n",
      "Epoch 20 training loss: 0.35920533537864685\n",
      "Epoch 21 training loss: 0.3489748537540436\n",
      "Epoch 22 training loss: 0.33950066566467285\n",
      "Epoch 23 training loss: 0.3306977152824402\n",
      "Epoch 24 training loss: 0.32249414920806885\n",
      "Epoch 25 training loss: 0.31482887268066406\n",
      "Epoch 26 training loss: 0.30764928460121155\n",
      "Epoch 27 training loss: 0.3009103238582611\n",
      "Epoch 28 training loss: 0.29457271099090576\n",
      "Epoch 29 training loss: 0.28860244154930115\n",
      "Epoch 30 training loss: 0.2829693853855133\n",
      "Epoch 31 training loss: 0.2776470184326172\n",
      "Epoch 32 training loss: 0.2726118862628937\n",
      "Epoch 33 training loss: 0.2678428888320923\n",
      "Epoch 34 training loss: 0.26332104206085205\n",
      "Epoch 35 training loss: 0.2590295672416687\n",
      "Epoch 36 training loss: 0.254952996969223\n",
      "Epoch 37 training loss: 0.25107717514038086\n",
      "Epoch 38 training loss: 0.24738937616348267\n",
      "Epoch 39 training loss: 0.24387778341770172\n",
      "Epoch 40 training loss: 0.24053172767162323\n",
      "Epoch 41 training loss: 0.23734116554260254\n",
      "Epoch 42 training loss: 0.23429691791534424\n",
      "Epoch 43 training loss: 0.2313905507326126\n",
      "Epoch 44 training loss: 0.22861415147781372\n",
      "Epoch 45 training loss: 0.22596043348312378\n",
      "Epoch 46 training loss: 0.22342246770858765\n",
      "Epoch 47 training loss: 0.22099396586418152\n",
      "Epoch 48 training loss: 0.21866896748542786\n",
      "Epoch 49 training loss: 0.21644200384616852\n",
      "Epoch 50 training loss: 0.2143077850341797\n"
     ]
    }
   ],
   "source": [
    "# create a new TensorFlow session, initialize variables in our network and train\n",
    "# create a new session to launch the graph\n",
    "sess = tf.Session(graph=g)\n",
    "\n",
    "# run the variable initialization operator\n",
    "sess.run(init_op)\n",
    "\n",
    "# 50 epochs of training\n",
    "for epoch in range(50):\n",
    "    training_costs = []\n",
    "    batch_generator = create_batch_generator(X_trainCentered, y_train, batch_size=64)\n",
    "\n",
    "    for batch_X, batch_y in batch_generator:\n",
    "        # prepare a dict to feed data to the network\n",
    "        feed = {tf_x: batch_X, tf_y: batch_y}\n",
    "        _, batch_cost = sess.run([train_op, cost], feed_dict=feed)\n",
    "        training_costs.append(batch_cost)\n",
    "    print(\"Epoch {0} training loss: {1}\".format(epoch + 1, training_costs[-1]))"
   ]
  },
  {
   "cell_type": "code",
   "execution_count": 21,
   "metadata": {
    "ExecuteTime": {
     "end_time": "2019-07-12T19:21:05.882845Z",
     "start_time": "2019-07-12T19:21:05.811494Z"
    }
   },
   "outputs": [
    {
     "name": "stdout",
     "output_type": "stream",
     "text": [
      "Test accuracy: 92.2619%\n"
     ]
    }
   ],
   "source": [
    "# lastly, make predictions with the trained model\n",
    "feed = {tf_x: X_testCentered}\n",
    "yPred = sess.run(predictions[\"classes\"], feed_dict=feed)\n",
    "print(\"Test accuracy: {:.4f}%\".format(100 * np.sum(yPred == y_test) / y_test.shape[0]))"
   ]
  },
  {
   "cell_type": "markdown",
   "metadata": {},
   "source": [
    "# Developing a multilayer neural network with Keras"
   ]
  },
  {
   "cell_type": "markdown",
   "metadata": {},
   "source": [
    "<a id = 'Developing-a-multilayer-neural-network-with-Keras'></a>"
   ]
  },
  {
   "cell_type": "code",
   "execution_count": 22,
   "metadata": {
    "ExecuteTime": {
     "end_time": "2019-07-12T19:21:07.042218Z",
     "start_time": "2019-07-12T19:21:05.892551Z"
    }
   },
   "outputs": [],
   "source": [
    "# load keras\n",
    "import tensorflow.contrib.keras as keras\n",
    "\n",
    "np.random.seed(123)\n",
    "tf.set_random_seed(123)"
   ]
  },
  {
   "cell_type": "code",
   "execution_count": 23,
   "metadata": {
    "ExecuteTime": {
     "end_time": "2019-07-12T19:21:07.056294Z",
     "start_time": "2019-07-12T19:21:07.048210Z"
    }
   },
   "outputs": [
    {
     "name": "stdout",
     "output_type": "stream",
     "text": [
      "First 5 labels: [2 8 5 3 9]\n",
      "\n",
      "First 5 labels one-hot encoded\n",
      "\n"
     ]
    }
   ],
   "source": [
    "# one-hot encode traiing data\n",
    "y_train_onehot = keras.utils.to_categorical(y_train)\n",
    "print(\"First 5 labels: {}\".format(y_train[:5]))\n",
    "print(\"\\nFirst 5 labels one-hot encoded\\n\".format(y_train_onehot[:5]))"
   ]
  },
  {
   "cell_type": "markdown",
   "metadata": {},
   "source": [
    "Build a neural network with three layers, where the first two layers each ahve 50 hidden units with a tanh activation function, and the last layer has 10 layers for each of the 10 class labels and uses softmax to give the probability of each class.\n",
    "\n",
    "First we initialize a new model using the Sequential class to implement a feedforward neural network. Then we can add as many layers as we want to. The kernel_initializer 'glorot uniform' is a more robust way of initializing weights for deep neural networks.\n",
    "\n",
    "We also define an optimizer, which is gradient descent. Binary cross-entropy is merely a technical term for the cost function in logistc regression, and the categorical cross-entropy is its generalization for multiclass predictions via softmax.\n",
    "\n",
    "Once the model is compiled, we can train it by calling the fit method. In the implementation below we use a batch size of 64 and 50 epochs. The validation_split parameter automatically reserves 10 percent of the training data for validation in each epoch so that can monitor if the model is overfitting during training."
   ]
  },
  {
   "cell_type": "code",
   "execution_count": 24,
   "metadata": {
    "ExecuteTime": {
     "end_time": "2019-07-12T19:21:07.282321Z",
     "start_time": "2019-07-12T19:21:07.058361Z"
    }
   },
   "outputs": [],
   "source": [
    "# create keras model\n",
    "model = keras.models.Sequential()\n",
    "model.add(\n",
    "    keras.layers.Dense(\n",
    "        units=50,\n",
    "        input_dim=X_trainCentered.shape[1],\n",
    "        kernel_initializer=\"glorot_uniform\",\n",
    "        bias_initializer=\"zeros\",\n",
    "        activation=\"tanh\",\n",
    "    )\n",
    ")\n",
    "\n",
    "model.add(\n",
    "    keras.layers.Dense(\n",
    "        units=50,\n",
    "        input_dim=50,\n",
    "        kernel_initializer=\"glorot_uniform\",\n",
    "        bias_initializer=\"zeros\",\n",
    "        activation=\"tanh\",\n",
    "    )\n",
    ")\n",
    "\n",
    "model.add(\n",
    "    keras.layers.Dense(\n",
    "        units=y_train_onehot.shape[1],\n",
    "        input_dim=50,\n",
    "        kernel_initializer=\"glorot_uniform\",\n",
    "        bias_initializer=\"zeros\",\n",
    "        activation=\"softmax\",\n",
    "    )\n",
    ")\n",
    "\n",
    "sgd_optimizer = keras.optimizers.SGD(lr=0.001, decay=1e-7, momentum=0.9)\n",
    "model.compile(optimizer=sgd_optimizer, loss=\"categorical_crossentropy\")"
   ]
  },
  {
   "cell_type": "code",
   "execution_count": 25,
   "metadata": {
    "ExecuteTime": {
     "end_time": "2019-07-12T19:22:28.913435Z",
     "start_time": "2019-07-12T19:21:07.284521Z"
    }
   },
   "outputs": [
    {
     "name": "stdout",
     "output_type": "stream",
     "text": [
      "Train on 30240 samples, validate on 3360 samples\n",
      "Epoch 1/50\n",
      "30240/30240 [==============================] - 2s 60us/sample - loss: 0.9212 - val_loss: 0.5514\n",
      "Epoch 2/50\n",
      "30240/30240 [==============================] - 2s 50us/sample - loss: 0.4595 - val_loss: 0.4104\n",
      "Epoch 3/50\n",
      "30240/30240 [==============================] - 2s 50us/sample - loss: 0.3659 - val_loss: 0.3569\n",
      "Epoch 4/50\n",
      "30240/30240 [==============================] - 2s 58us/sample - loss: 0.3192 - val_loss: 0.3267\n",
      "Epoch 5/50\n",
      "30240/30240 [==============================] - 2s 64us/sample - loss: 0.2886 - val_loss: 0.3062\n",
      "Epoch 6/50\n",
      "30240/30240 [==============================] - 2s 53us/sample - loss: 0.2658 - val_loss: 0.2896\n",
      "Epoch 7/50\n",
      "30240/30240 [==============================] - 2s 52us/sample - loss: 0.2477 - val_loss: 0.2771\n",
      "Epoch 8/50\n",
      "30240/30240 [==============================] - 2s 53us/sample - loss: 0.2323 - val_loss: 0.2675\n",
      "Epoch 9/50\n",
      "30240/30240 [==============================] - 2s 53us/sample - loss: 0.2195 - val_loss: 0.2581\n",
      "Epoch 10/50\n",
      "30240/30240 [==============================] - 2s 54us/sample - loss: 0.2080 - val_loss: 0.2501\n",
      "Epoch 11/50\n",
      "30240/30240 [==============================] - 2s 54us/sample - loss: 0.1975 - val_loss: 0.2433\n",
      "Epoch 12/50\n",
      "30240/30240 [==============================] - 2s 50us/sample - loss: 0.1883 - val_loss: 0.2374\n",
      "Epoch 13/50\n",
      "30240/30240 [==============================] - 2s 50us/sample - loss: 0.1796 - val_loss: 0.2322\n",
      "Epoch 14/50\n",
      "30240/30240 [==============================] - 2s 51us/sample - loss: 0.1720 - val_loss: 0.2272\n",
      "Epoch 15/50\n",
      "30240/30240 [==============================] - 2s 52us/sample - loss: 0.1646 - val_loss: 0.2233\n",
      "Epoch 16/50\n",
      "30240/30240 [==============================] - 2s 51us/sample - loss: 0.1581 - val_loss: 0.2192\n",
      "Epoch 17/50\n",
      "30240/30240 [==============================] - 2s 52us/sample - loss: 0.1518 - val_loss: 0.2151\n",
      "Epoch 18/50\n",
      "30240/30240 [==============================] - 2s 51us/sample - loss: 0.1461 - val_loss: 0.2113\n",
      "Epoch 19/50\n",
      "30240/30240 [==============================] - 2s 54us/sample - loss: 0.1406 - val_loss: 0.2079\n",
      "Epoch 20/50\n",
      "30240/30240 [==============================] - 2s 65us/sample - loss: 0.1355 - val_loss: 0.2060\n",
      "Epoch 21/50\n",
      "30240/30240 [==============================] - 2s 53us/sample - loss: 0.1307 - val_loss: 0.2038\n",
      "Epoch 22/50\n",
      "30240/30240 [==============================] - 2s 51us/sample - loss: 0.1261 - val_loss: 0.2016\n",
      "Epoch 23/50\n",
      "30240/30240 [==============================] - 2s 52us/sample - loss: 0.1218 - val_loss: 0.1992\n",
      "Epoch 24/50\n",
      "30240/30240 [==============================] - 2s 52us/sample - loss: 0.1181 - val_loss: 0.1979\n",
      "Epoch 25/50\n",
      "30240/30240 [==============================] - 2s 51us/sample - loss: 0.1141 - val_loss: 0.1961\n",
      "Epoch 26/50\n",
      "30240/30240 [==============================] - 2s 50us/sample - loss: 0.1105 - val_loss: 0.1935\n",
      "Epoch 27/50\n",
      "30240/30240 [==============================] - 2s 51us/sample - loss: 0.1071 - val_loss: 0.1922\n",
      "Epoch 28/50\n",
      "30240/30240 [==============================] - 2s 51us/sample - loss: 0.1036 - val_loss: 0.1917\n",
      "Epoch 29/50\n",
      "30240/30240 [==============================] - 2s 51us/sample - loss: 0.1005 - val_loss: 0.1900\n",
      "Epoch 30/50\n",
      "30240/30240 [==============================] - 2s 51us/sample - loss: 0.0975 - val_loss: 0.1884\n",
      "Epoch 31/50\n",
      "30240/30240 [==============================] - 2s 58us/sample - loss: 0.0948 - val_loss: 0.1883\n",
      "Epoch 32/50\n",
      "30240/30240 [==============================] - 2s 57us/sample - loss: 0.0919 - val_loss: 0.1876\n",
      "Epoch 33/50\n",
      "30240/30240 [==============================] - 2s 59us/sample - loss: 0.0893 - val_loss: 0.1865\n",
      "Epoch 34/50\n",
      "30240/30240 [==============================] - 2s 52us/sample - loss: 0.0865 - val_loss: 0.1869\n",
      "Epoch 35/50\n",
      "30240/30240 [==============================] - 2s 53us/sample - loss: 0.0841 - val_loss: 0.1851\n",
      "Epoch 36/50\n",
      "30240/30240 [==============================] - 2s 52us/sample - loss: 0.0818 - val_loss: 0.1846\n",
      "Epoch 37/50\n",
      "30240/30240 [==============================] - 2s 51us/sample - loss: 0.0794 - val_loss: 0.1845\n",
      "Epoch 38/50\n",
      "30240/30240 [==============================] - 2s 57us/sample - loss: 0.0772 - val_loss: 0.1840\n",
      "Epoch 39/50\n",
      "30240/30240 [==============================] - 2s 61us/sample - loss: 0.0750 - val_loss: 0.1829\n",
      "Epoch 40/50\n",
      "30240/30240 [==============================] - 2s 60us/sample - loss: 0.0730 - val_loss: 0.1827\n",
      "Epoch 41/50\n",
      "30240/30240 [==============================] - 2s 62us/sample - loss: 0.0710 - val_loss: 0.1826\n",
      "Epoch 42/50\n",
      "30240/30240 [==============================] - 2s 61us/sample - loss: 0.0690 - val_loss: 0.1829\n",
      "Epoch 43/50\n",
      "30240/30240 [==============================] - 2s 53us/sample - loss: 0.0671 - val_loss: 0.1819\n",
      "Epoch 44/50\n",
      "30240/30240 [==============================] - 2s 51us/sample - loss: 0.0653 - val_loss: 0.1816\n",
      "Epoch 45/50\n",
      "30240/30240 [==============================] - 2s 52us/sample - loss: 0.0635 - val_loss: 0.1820\n",
      "Epoch 46/50\n",
      "30240/30240 [==============================] - 2s 51us/sample - loss: 0.0618 - val_loss: 0.1818\n",
      "Epoch 47/50\n",
      "30240/30240 [==============================] - 2s 51us/sample - loss: 0.0602 - val_loss: 0.1813\n",
      "Epoch 48/50\n",
      "30240/30240 [==============================] - 2s 51us/sample - loss: 0.0586 - val_loss: 0.1815\n",
      "Epoch 49/50\n",
      "30240/30240 [==============================] - 2s 51us/sample - loss: 0.0570 - val_loss: 0.1810\n",
      "Epoch 50/50\n",
      "30240/30240 [==============================] - 2s 54us/sample - loss: 0.0555 - val_loss: 0.1814\n"
     ]
    }
   ],
   "source": [
    "# fit model\n",
    "history = model.fit(\n",
    "    X_trainCentered,\n",
    "    y_train_onehot,\n",
    "    batch_size=64,\n",
    "    epochs=50,\n",
    "    verbose=1,\n",
    "    validation_split=0.1,\n",
    ")"
   ]
  },
  {
   "cell_type": "code",
   "execution_count": 26,
   "metadata": {
    "ExecuteTime": {
     "end_time": "2019-07-12T19:22:29.658910Z",
     "start_time": "2019-07-12T19:22:28.915606Z"
    }
   },
   "outputs": [
    {
     "name": "stdout",
     "output_type": "stream",
     "text": [
      "First 5 predictions: [2 8 5 3 9]\n"
     ]
    }
   ],
   "source": [
    "# predict class labels\n",
    "y_train_pred = model.predict_classes(X_trainCentered, verbose=0)\n",
    "print(\"First 5 predictions: {0}\".format(y_train_pred[:5]))"
   ]
  },
  {
   "cell_type": "code",
   "execution_count": 27,
   "metadata": {
    "ExecuteTime": {
     "end_time": "2019-07-12T19:22:30.506027Z",
     "start_time": "2019-07-12T19:22:29.665842Z"
    }
   },
   "outputs": [
    {
     "name": "stdout",
     "output_type": "stream",
     "text": [
      "First 5 predictions: [2 8 5 3 9]\n",
      "Training accuracy: 0.9863095238095239\n",
      "First 5 predictions: [7 4 7 7 5]\n",
      "Test accuracy: 0.950595238095238\n"
     ]
    }
   ],
   "source": [
    "# generate predictions and evaluate accuracy\n",
    "y_train_pred = model.predict_classes(X_trainCentered, verbose=0)\n",
    "correct_preds = np.sum(y_train == y_train_pred, axis=0)\n",
    "train_acc = correct_preds / y_train.shape[0]\n",
    "print(\"First 5 predictions: {0}\".format(y_train_pred[:5]))\n",
    "print(\"Training accuracy: {0}\".format(train_acc))\n",
    "\n",
    "y_test_pred = model.predict_classes(X_testCentered, verbose=0)\n",
    "correct_preds = np.sum(y_test == y_test_pred, axis=0)\n",
    "test_acc = correct_preds / y_test.shape[0]\n",
    "print(\"First 5 predictions: {0}\".format(y_test_pred[:5]))\n",
    "print(\"Test accuracy: {0}\".format(test_acc))"
   ]
  },
  {
   "cell_type": "markdown",
   "metadata": {},
   "source": [
    "# Choosing activation functions for multilayer networks\n",
    "\n",
    "To this point in the book, we have only discussed the sigmoid activation function in the context of MLPs. there are many alternative sigmoidal functions that are useful for implementin gin MLPs.\n",
    "\n",
    "We can technically use an function as an activation function as long as it is differentiable. We could even use a linear activation function such as Adaline. Linear function are not useful in practice within hidden and output layers however since we want to introduce nonlinearity in a typical neural network to be able to tackle complex problems.\n",
    "\n",
    "The logistic activation funciton covered previously can be problematic if we have highly negative input since the output of the sigmoid function would be close to zero in this case. If the sigmoid function returns outputs that are close to zero, then the neural network will learn very slowly and it becomes more likely that it will get trapped in the local minima during training."
   ]
  },
  {
   "cell_type": "markdown",
   "metadata": {},
   "source": [
    "<a id = 'Choosing-activation-functions-for-multilayer-networks'></a>"
   ]
  },
  {
   "cell_type": "markdown",
   "metadata": {},
   "source": [
    "## Logistic function recap\n",
    "\n",
    "In a binary classification problem, the logistic function is used to model the probability that sample $x$ belongs to the positive class (class 1). the net input $z$ is shown in the following equation:\n",
    "\n",
    "$$\n",
    "z = w_0x_0 + w_1x_1 + ... + w_mx_m = \\sum^m_{i=0}w_ix_i = w^Tx\n",
    "$$\n",
    "\n",
    "In this equation $w_0$ is the bias unit (the y-intercept, which means $x_0$ = 1. And this net input is put into the logistic function:\n",
    "\n",
    "$$\n",
    "\\phi{logistic}(z) = \\frac{1}{1+e^{-z}}\n",
    "$$"
   ]
  },
  {
   "cell_type": "markdown",
   "metadata": {},
   "source": [
    "<a id = 'Logistic-function-recap'></a>"
   ]
  },
  {
   "cell_type": "code",
   "execution_count": 28,
   "metadata": {
    "ExecuteTime": {
     "end_time": "2019-07-12T19:22:30.522335Z",
     "start_time": "2019-07-12T19:22:30.512338Z"
    }
   },
   "outputs": [
    {
     "name": "stdout",
     "output_type": "stream",
     "text": [
      "P(y = w| x) = 0.888\n"
     ]
    }
   ],
   "source": [
    "# basic logistic regression example\n",
    "X = np.array([1.0, 1.4, 2.5])  # first value must be 1\n",
    "w = np.array([0.4, 0.3, 0.5])\n",
    "\n",
    "\n",
    "def net_input(X, w):\n",
    "    return np.dot(X, w)\n",
    "\n",
    "\n",
    "def logistic(z):\n",
    "    return 1.0 / (1.0 + np.exp(-z))\n",
    "\n",
    "\n",
    "def logistic_activation(X, w):\n",
    "    z = net_input(X, w)\n",
    "    return logistic(z)\n",
    "\n",
    "\n",
    "print(\"P(y = w| x) = {:.3f}\".format(logistic_activation(X, w)))"
   ]
  },
  {
   "cell_type": "markdown",
   "metadata": {},
   "source": [
    "> Remarks - In the context of a neural network, we would calculate the net input and use it to activate a logistic neuron, we get a value of 0.888, meaning there is an 88.8 percent probability that this particular sample $x$ belongs to the positive class."
   ]
  },
  {
   "cell_type": "markdown",
   "metadata": {},
   "source": [
    "In chapter 12, one-hot encoding to compute the values in the output layer consisting of multiple logistic activation units. However, an output layer consisting of multiple logistic activation units does not produce meaningful, interpretable probability values."
   ]
  },
  {
   "cell_type": "code",
   "execution_count": 29,
   "metadata": {
    "ExecuteTime": {
     "end_time": "2019-07-12T19:22:30.533600Z",
     "start_time": "2019-07-12T19:22:30.524160Z"
    }
   },
   "outputs": [
    {
     "name": "stdout",
     "output_type": "stream",
     "text": [
      "Net input: [1.78 0.76 1.65]\n",
      "Output units: [0.85569687 0.68135373 0.83889105]\n"
     ]
    }
   ],
   "source": [
    "# W : array with shape = (n_output_units, n_hidden_units + 1)\n",
    "# the first column values are the bias units\n",
    "W = np.array([[1.1, 1.2, 0.8, 0.4], [0.2, 0.4, 1.0, 0.2], [0.6, 1.5, 1.2, 0.7]])\n",
    "\n",
    "# A : data array with shape = (n_hidden_units + 1, n_samples)\n",
    "# the first column of this array must be 1\n",
    "A = np.array([[1, 0.1, 0.4, 0.6]])\n",
    "\n",
    "Z = np.dot(W, A[0])\n",
    "y_probas = logistic(Z)\n",
    "\n",
    "print(\"Net input: {}\".format(Z))\n",
    "print(\"Output units: {}\".format(y_probas))"
   ]
  },
  {
   "cell_type": "markdown",
   "metadata": {},
   "source": [
    "> Remarks - The resulting values cannot be interpreted as probabilities of a three class problem because the values do not sum to 1. This is not a problem if our only goal is to predict the class labels and we do not care about the class membership probabilities. In this scenario, we just need to observe the index of the highest value."
   ]
  },
  {
   "cell_type": "code",
   "execution_count": 30,
   "metadata": {
    "ExecuteTime": {
     "end_time": "2019-07-12T19:22:30.548034Z",
     "start_time": "2019-07-12T19:22:30.536988Z"
    }
   },
   "outputs": [
    {
     "name": "stdout",
     "output_type": "stream",
     "text": [
      "Predicted class label: 0\n"
     ]
    }
   ],
   "source": [
    "# generate prediction\n",
    "y_class = np.argmax(Z, axis=0)\n",
    "print(\"Predicted class label: {:d}\".format(y_class))"
   ]
  },
  {
   "cell_type": "markdown",
   "metadata": {},
   "source": [
    "## Estimating class probabilities in multiclass classification via the softmax function\n",
    "\n",
    "If simplys obtaining the class label through the argmax function isn't enough, we can use the softmax function. It is a soft form of the argmax function that provides the probability of each class rather than a single class index. With this tool, we can compute meaningful class probabilities in a multiclass setting.\n",
    "\n",
    "The probability of a particular sample with net input $z$ belonging the the $i$th class can be computed with a normalization term in the denominator. This is the sum of all $M$ linear functions:\n",
    "\n",
    "$$\n",
    "p(y = i|z) = \\phi(z) = \\frac{e^{z_i}}{\\sum^M_{i=1}e^{z_j}}\n",
    "$$"
   ]
  },
  {
   "cell_type": "markdown",
   "metadata": {},
   "source": [
    "<a id = 'Estimating-class-probabilities-in-multiclass-classification-via-the-softmax-function'></a>"
   ]
  },
  {
   "cell_type": "code",
   "execution_count": 31,
   "metadata": {
    "ExecuteTime": {
     "end_time": "2019-07-12T19:22:30.557255Z",
     "start_time": "2019-07-12T19:22:30.550181Z"
    }
   },
   "outputs": [
    {
     "name": "stdout",
     "output_type": "stream",
     "text": [
      "Probabilities: [0.44668973 0.16107406 0.39223621]\n",
      "1.0\n"
     ]
    }
   ],
   "source": [
    "# example probabilities using softmax\n",
    "def softmax(z):\n",
    "    return np.exp(z) / np.sum(np.exp(z))\n",
    "\n",
    "\n",
    "y_probas = softmax(Z)\n",
    "print(\"Probabilities: {}\".format(y_probas))\n",
    "print(np.sum(y_probas))"
   ]
  },
  {
   "cell_type": "markdown",
   "metadata": {},
   "source": [
    "## Broadening the output spectrum using a hyperbolic tangent\n",
    "\n",
    "The hyperbolic tangent, commonly referred to as tanh, is another sigmoid function that is often used in the hidden layers of neural networks. It is a rescaled version of the logistic functions:\n",
    "\n",
    "$$\n",
    "\\phi_{tanh}(z) = 2 \\times \\phi_{logistic}(2z) - 1 = \\frac{e^z - e^{-z}}{e^z + e^{-z}}\n",
    "$$\n",
    "\n",
    "The advantage of the hyuperbolic tangent over the logistic function is that is has a broder output spectrum that ranges over the open interval (-1,1), which can improve the convergence of the back propagation algorithms. This contrasts with the logistic function which returns an output signal that ranges over the interval (0,1)"
   ]
  },
  {
   "cell_type": "markdown",
   "metadata": {},
   "source": [
    "<a id = 'Broadening-the-output-spectrum-using-a-hyperbolic-tangent'></a>"
   ]
  },
  {
   "cell_type": "markdown",
   "metadata": {},
   "source": [
    "## Rectified linear unit activation\n",
    "\n",
    "The rectified linear unit, or ReLU, is anohter activation function that is often used in deep neural networks. This activation may help to address the vanishing gradient problem of tanh and logistic activations. This problem occurs for very large values of $z$. As an example, the activaiton of $z_1$ = 20 and $z_2$ = 25 are both about equal to 1.0 on the logistic and tanh curves. This effectively shows no change in output in the eyes of these activation functions. This means that the derivative of the activations with respect to the net input diminishes as $z$ becomes large. As a result, learing weights during the training phase becomes very slow because the gradient terms may be very close to zero. ReLU addresses this issues. It is mathematically defined as:\n",
    "\n",
    "$$\n",
    "\\phi(z) = max(0,z)\n",
    "$$\n",
    "\n",
    "It is still a nonlinear function that is effective at learning complex functions within neural networks. Furhter, the derivative of ReLU, with respect to its input, is always 1 for positive input values. Therefore, it solves the problem of vanishing gradients, making it suitable for deep neural networks. "
   ]
  },
  {
   "cell_type": "markdown",
   "metadata": {},
   "source": [
    "<a id = 'Rectified-linear-unit-activation'></a>"
   ]
  }
 ],
 "metadata": {
  "kernelspec": {
   "display_name": "Python 3",
   "language": "python",
   "name": "python3"
  },
  "language_info": {
   "codemirror_mode": {
    "name": "ipython",
    "version": 3
   },
   "file_extension": ".py",
   "mimetype": "text/x-python",
   "name": "python",
   "nbconvert_exporter": "python",
   "pygments_lexer": "ipython3",
   "version": "3.6.8"
  },
  "toc": {
   "base_numbering": 1,
   "nav_menu": {},
   "number_sections": true,
   "sideBar": true,
   "skip_h1_title": false,
   "title_cell": "Table of Contents",
   "title_sidebar": "Contents",
   "toc_cell": false,
   "toc_position": {},
   "toc_section_display": true,
   "toc_window_display": false
  }
 },
 "nbformat": 4,
 "nbformat_minor": 2
}
