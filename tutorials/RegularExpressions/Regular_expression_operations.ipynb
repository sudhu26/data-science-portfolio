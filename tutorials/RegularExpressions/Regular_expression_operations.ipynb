{
 "cells": [
  {
   "cell_type": "markdown",
   "metadata": {},
   "source": [
    "<a id = 're'></a>"
   ]
  },
  {
   "cell_type": "markdown",
   "metadata": {},
   "source": [
    "# re - Regular expression operations\n",
    "\n",
    "Walkthrough of Python Standard Library documentation\n",
    "\n",
    "1. [re - Regular expression operations](#re)\n",
    "    1. [Metacharacters](#Metacharacters)\n",
    "    1. [Using regular expressions](#Using-regular-expressions)\n",
    "    1. [Module contents](#Module-contents)\n",
    "    1. [Regular expression objects](#Regular-expression-objects)\n",
    "    1. [Match objects](#Match)\n",
    "    1. [Examples](#Examples)\n",
    "        "
   ]
  },
  {
   "cell_type": "markdown",
   "metadata": {},
   "source": [
    "## Metacharacters\n",
    "\n",
    "The complete list of metacharacters:\n",
    "\n",
    ". ^ $ * + ? { } [ ] \\ | ( )\n",
    "\n",
    "[ ] - The square brackets specify a character class. Characters can be listed individually, or a range can be conveyed with a hyphen '-'. For example, both [abc] and [a-c] refer to the letter a,b and c.\n",
    "\n",
    "Also, metacharacters are not considered to be metacharacters when within square brackets. So [abc?] includes a, b, c and '?', even though '?' is a metacharacter.\n",
    "\n",
    "\\ - The backslash '\\' signals a special sequance of characters. It can also be used to escape metacharacters so that these can be found in patterns. For example, '\\w' means a special sequance is initiated where we are matching on any alphanumber value (and underscores), indicated by 'w'. This is equivalent to [a-zA-Z0-9_]. In addition to '\\w', here are several other special sequences:\n",
    "- \\d - Any decimal digit, equivalent to [0-9]\n",
    "- \\D - Any non-digit character, equivalent to [^0-9]\n",
    "- \\s - Matches any whitespace character, equivalent to [\\t\\n\\t\\f\\v]\n",
    "- \\W - Any non-alphanumber character, equivalent to [^a-zA-Z0-9_]\n",
    "\n",
    "These special sequences can be included inside character classes. For example, [\\s,,] will match any white-space character, comma or period.\n",
    "\n",
    ". - The dot '.' metacharacter matches anything except for a newline character\n",
    "\n",
    "\\* - The asterisk '*' specifies that the previous character can be matches zero or more times rather than exactly once. For example, 'ca*t' matches 'ct' (where 'a' appears 0 times), 'cat' ('a' appears 1 time), and 'caaaaat' ('a' appears f times).\n",
    "\n",
    "\\? - The question mark '?' is another repetition character. This matches either zero or once. In a sense this marks something as optional. For example, 'home-?brew' matches 'homebrew' and 'home-brew'\n",
    "\n",
    "\\+ - The plus sign '+' is another repetition character. This matches either one or more time, but not zero. \n",
    "\n",
    "{} - The pair of french brackes take the form {m,n}, where m and n are both decimal integers are refer to the minimum and maximum repetitions respectively. For example, 'a/{1,3}b' will match 'a/b', 'a//b' and 'a///b', but not 'ab' or 'a////b'. Replacing {1,3} with an asterisk would accomplish that. m or n can be omitted as well. In these circumstances, the remaining element acts as an upper or lower limit.\n",
    "\n",
    "Interestingly {0,} is equal to *, {0,1} is equal to '?', and {1,} is equal to +. \n",
    "\n",
    "| - The pipe character '|' is an 'or' operator in practice. For example, 'A|B' will match on 'A' or 'B'\n",
    "\n",
    "^ - The caret character '^' matches at the beginning of lines. Unless the MULTILINE flag has been set, this only matches at the beginning of the string. With MULTILINE enabled, this matches immediately after each newline\n",
    "\n",
    "\\\\$ - The dollar sign character '\\$' Matches at the end of a line. Either the end of the string or any location directly before a newline.\n",
    "\n",
    "( ) - The parenthesis characters '(' and ')' group together the expressions contained inside them. The contents of a group can be repeated with a repeater, such as '*', '+', '?' or '{m,n}'. For example, '(ab)* will match on zero or more repetitions of 'ab'."
   ]
  },
  {
   "cell_type": "markdown",
   "metadata": {},
   "source": [
    "<a id = 'Metacharacters'></a>"
   ]
  },
  {
   "cell_type": "markdown",
   "metadata": {},
   "source": [
    "## Using regular expressions"
   ]
  },
  {
   "cell_type": "markdown",
   "metadata": {},
   "source": [
    "<a id = 'Using-regular-expressions'></a>"
   ]
  },
  {
   "cell_type": "code",
   "execution_count": 108,
   "metadata": {},
   "outputs": [],
   "source": [
    "import collections\n",
    "import re"
   ]
  },
  {
   "cell_type": "markdown",
   "metadata": {},
   "source": [
    "__Compiling regular expressions__"
   ]
  },
  {
   "cell_type": "code",
   "execution_count": 135,
   "metadata": {},
   "outputs": [
    {
     "data": {
      "text/plain": [
       "re.compile(r'ab*', re.UNICODE)"
      ]
     },
     "execution_count": 135,
     "metadata": {},
     "output_type": "execute_result"
    }
   ],
   "source": [
    "# compiling regular expressions\n",
    "p = re.compile(r\"ab*\")\n",
    "p"
   ]
  },
  {
   "cell_type": "code",
   "execution_count": 137,
   "metadata": {},
   "outputs": [
    {
     "data": {
      "text/plain": [
       "re.compile(r'ab*', re.IGNORECASE|re.UNICODE)"
      ]
     },
     "execution_count": 137,
     "metadata": {},
     "output_type": "execute_result"
    }
   ],
   "source": [
    "# re.compile() also accepts a flags argument, which is used to enable\n",
    "# various special features and alternate syntaxes. For example,\n",
    "p = re.compile(r\"ab*\", flags=re.IGNORECASE)\n",
    "p"
   ]
  },
  {
   "cell_type": "markdown",
   "metadata": {},
   "source": [
    "__Performing matches__\n",
    "\n",
    "match() - Determine if RE matches at beginning of string\n",
    "\n",
    "search() - Determine if RE matches anywhere within the entire string\n",
    "\n",
    "finall() - Find all substrings where the RE matches and return matches as a list\n",
    "\n",
    "finiter() - Find all substrings where the RE matches and return as an iterator\n",
    "\n",
    "match() and search() return None if no match is found, but otherwise return a match object that has its own attributes, such as the beginning and end location, the string that matches, etc."
   ]
  },
  {
   "cell_type": "code",
   "execution_count": 157,
   "metadata": {},
   "outputs": [
    {
     "data": {
      "text/plain": [
       "re.compile(r'[a-z]+', re.UNICODE)"
      ]
     },
     "execution_count": 157,
     "metadata": {},
     "output_type": "execute_result"
    }
   ],
   "source": [
    "# compile regex rule\n",
    "p = re.compile(\"[a-z]+\")\n",
    "p"
   ]
  },
  {
   "cell_type": "code",
   "execution_count": 158,
   "metadata": {},
   "outputs": [
    {
     "name": "stdout",
     "output_type": "stream",
     "text": [
      "None\n"
     ]
    }
   ],
   "source": [
    "# an empty string won't match at all since the '+' means 1 or more repetition\n",
    "print(p.match(\"\"))"
   ]
  },
  {
   "cell_type": "markdown",
   "metadata": {},
   "source": [
    "__Match methods__\n",
    "\n",
    "group() - Return the string matched\n",
    "\n",
    "start() - Return the starting position of the match\n",
    "\n",
    "end() - Return the ending position of the match\n",
    "\n",
    "span() - Return a tuple containing the (start, end) positions of the match\n"
   ]
  },
  {
   "cell_type": "code",
   "execution_count": 159,
   "metadata": {},
   "outputs": [
    {
     "name": "stdout",
     "output_type": "stream",
     "text": [
      "<_sre.SRE_Match object; span=(0, 5), match='tempo'>\n"
     ]
    }
   ],
   "source": [
    "# sample matching operation\n",
    "m = p.match(\"tempo\")\n",
    "print(m)"
   ]
  },
  {
   "cell_type": "code",
   "execution_count": 160,
   "metadata": {},
   "outputs": [
    {
     "data": {
      "text/plain": [
       "'tempo'"
      ]
     },
     "execution_count": 160,
     "metadata": {},
     "output_type": "execute_result"
    }
   ],
   "source": [
    "# review word\n",
    "m.group()"
   ]
  },
  {
   "cell_type": "code",
   "execution_count": 161,
   "metadata": {},
   "outputs": [
    {
     "data": {
      "text/plain": [
       "0"
      ]
     },
     "execution_count": 161,
     "metadata": {},
     "output_type": "execute_result"
    }
   ],
   "source": [
    "# in the context of match(), this will also be 0 because match() only\n",
    "# looks at the beginning of the string\n",
    "m.start()"
   ]
  },
  {
   "cell_type": "code",
   "execution_count": 162,
   "metadata": {},
   "outputs": [
    {
     "data": {
      "text/plain": [
       "5"
      ]
     },
     "execution_count": 162,
     "metadata": {},
     "output_type": "execute_result"
    }
   ],
   "source": [
    "# ending position\n",
    "m.end()"
   ]
  },
  {
   "cell_type": "code",
   "execution_count": 163,
   "metadata": {},
   "outputs": [
    {
     "data": {
      "text/plain": [
       "(0, 5)"
      ]
     },
     "execution_count": 163,
     "metadata": {},
     "output_type": "execute_result"
    }
   ],
   "source": [
    "# span of matched word\n",
    "m.span()"
   ]
  },
  {
   "cell_type": "code",
   "execution_count": 166,
   "metadata": {},
   "outputs": [
    {
     "name": "stdout",
     "output_type": "stream",
     "text": [
      "<_sre.SRE_Match object; span=(4, 11), match='message'>\n",
      "message\n",
      "4\n",
      "11\n",
      "(4, 11)\n"
     ]
    }
   ],
   "source": [
    "# search()\n",
    "m = p.search(\"::: message\")\n",
    "print(m)\n",
    "print(m.group())\n",
    "print(m.start())\n",
    "print(m.end())\n",
    "print(m.span())"
   ]
  },
  {
   "cell_type": "code",
   "execution_count": 167,
   "metadata": {},
   "outputs": [
    {
     "data": {
      "text/plain": [
       "['12', '11', '10']"
      ]
     },
     "execution_count": 167,
     "metadata": {},
     "output_type": "execute_result"
    }
   ],
   "source": [
    "# findall()\n",
    "p = re.compile(r\"\\d+\")\n",
    "p.findall(\"12 drummers drumming, 11 pipers pipig, 10 lords whatever\")"
   ]
  },
  {
   "cell_type": "code",
   "execution_count": 168,
   "metadata": {},
   "outputs": [
    {
     "name": "stdout",
     "output_type": "stream",
     "text": [
      "12 (0, 2)\n",
      "11 (22, 24)\n",
      "10 (39, 41)\n"
     ]
    }
   ],
   "source": [
    "# finditer()\n",
    "# While findall() must determine the entire list before returing the result,\n",
    "# finditer() acts as an iterator\n",
    "iterator = p.finditer(\"12 drummers drumming, 11 pipers pipig, 10 lords whatever\")\n",
    "for match in iterator:\n",
    "    print(match.group(), match.span())"
   ]
  },
  {
   "cell_type": "markdown",
   "metadata": {},
   "source": [
    "__Module level functions__\n",
    "\n",
    "We don't need to create a pattern object before calling on its methods. there are also top level functions which accomplish the same thing and return the same results in one-off fashion"
   ]
  },
  {
   "cell_type": "code",
   "execution_count": 173,
   "metadata": {},
   "outputs": [
    {
     "name": "stdout",
     "output_type": "stream",
     "text": [
      "None\n",
      "<_sre.SRE_Match object; span=(0, 5), match='From '>\n"
     ]
    }
   ],
   "source": [
    "# a search for 'From' followed immediately by 1 or more whitespace character\n",
    "print(re.match(pattern=r\"From\\s+\", string=\"Fromage amk\"))\n",
    "\n",
    "print(re.match(pattern=r\"From\\s+\", string=\"From me to you\"))"
   ]
  },
  {
   "cell_type": "markdown",
   "metadata": {},
   "source": [
    "__Groupings__"
   ]
  },
  {
   "cell_type": "code",
   "execution_count": 175,
   "metadata": {},
   "outputs": [
    {
     "name": "stdout",
     "output_type": "stream",
     "text": [
      "(0, 10)\n"
     ]
    }
   ],
   "source": [
    "# this RE will match on any number of repetitions of 'ab'\n",
    "p = re.compile(r\"(ab)*\")\n",
    "print(p.match(\"ababababab\").span())"
   ]
  },
  {
   "cell_type": "code",
   "execution_count": 179,
   "metadata": {},
   "outputs": [
    {
     "name": "stdout",
     "output_type": "stream",
     "text": [
      "ab\n",
      "ab\n",
      "a\n"
     ]
    }
   ],
   "source": [
    "# groups also capture the start/end index of the matched text.\n",
    "# this is retrieved by passing an argument to group(), end(), etc.\n",
    "p = re.compile(r\"(a)b\")\n",
    "m = p.match(\"ab\")\n",
    "print(m.group())\n",
    "print(m.group(0))  # The same as passing no argument, the whole string\n",
    "print(m.group(1))"
   ]
  },
  {
   "cell_type": "code",
   "execution_count": 182,
   "metadata": {},
   "outputs": [
    {
     "name": "stdout",
     "output_type": "stream",
     "text": [
      "abcd\n",
      "abcd\n",
      "abc\n",
      "b\n",
      "('abc', 'b', 'b')\n"
     ]
    }
   ],
   "source": [
    "# compound matching rule\n",
    "p = re.compile(\"(a(b)c)d\")\n",
    "m = p.match(\"abcd\")\n",
    "print(m.group())\n",
    "print(m.group(0))\n",
    "print(m.group(1))\n",
    "print(m.group(2))\n",
    "print(m.group(1, 2, 2))"
   ]
  },
  {
   "cell_type": "markdown",
   "metadata": {},
   "source": [
    "## Module contents\n",
    "A small sample of functions available"
   ]
  },
  {
   "cell_type": "markdown",
   "metadata": {},
   "source": [
    "<a id = 'Module-contents'></a>"
   ]
  },
  {
   "cell_type": "markdown",
   "metadata": {},
   "source": [
    "\n",
    "re.__compile__(_pattern_, _flags = 0_)\n",
    "\n",
    "Compile a regular expression pattern into a regular expression object, which can be used for matching using its match(), search() and other methods.\n",
    "\n",
    "_The sequence..._\n",
    "```python\n",
    "prog = re.compile(pattern)\n",
    "result = prog.match(String)\n",
    "```\n",
    "\n",
    "_is equivalent to..._\n",
    "```python\n",
    "result = re.match(pattern, string)\n",
    "```\n",
    "\n",
    "Using re.compile() and saving the resulting RE object for resuse is more efficient when the expression will be used several times."
   ]
  },
  {
   "cell_type": "markdown",
   "metadata": {},
   "source": [
    "re.__split__(_pattern, string, maxsplit = 0, flags = 0_)\n",
    "\n",
    "Split a string by the occurrences of a pattner"
   ]
  },
  {
   "cell_type": "code",
   "execution_count": 19,
   "metadata": {},
   "outputs": [
    {
     "name": "stdout",
     "output_type": "stream",
     "text": [
      "['Words', 'words', 'words', '']\n",
      "['Words', ', ', 'words', ', ', 'words', '.', '']\n",
      "['Words', 'words', 'words.']\n",
      "['0', '3', '9']\n"
     ]
    }
   ],
   "source": [
    "# evaluate sample string with varying capitalization and punctuation\n",
    "string = \"Words, words, words.\"\n",
    "\n",
    "print(re.split(r\"\\W+\", string))\n",
    "\n",
    "# Parentheses in pattern capture the text of all groups in the pattern.\n",
    "# Includes the comma, space and period\n",
    "print(re.split(r\"(\\W+)\", string))\n",
    "\n",
    "# Nonzero value for maxsplit means that at most that value splits occur.\n",
    "# the remainder of the string is returned as the fina element of the list\n",
    "# in this case, value of 1 and 2 prevent the empty string from appearing\n",
    "print(re.split(r\"\\W+\", string, maxsplit=2))\n",
    "\n",
    "#\n",
    "print(re.split(\"[a-f]+\", \"0a3B9\", flags=re.IGNORECASE))"
   ]
  },
  {
   "cell_type": "markdown",
   "metadata": {},
   "source": [
    "## Regular expression objects\n",
    "\n",
    "Compiled regular expression objects support the several methods and attributes. Here is a sample."
   ]
  },
  {
   "cell_type": "markdown",
   "metadata": {},
   "source": [
    "<a id = 'Regular-expression-objects'></a>"
   ]
  },
  {
   "cell_type": "markdown",
   "metadata": {},
   "source": [
    "Pattern.__search__(_string[, pos [, endpos]]_)\n",
    "\n",
    "Scan through string looking for the first match  of this RE and return a corresponding match object\n",
    "\n",
    "pos is an optional parameter that gives an index in the string indicating where the search should start\n",
    "\n",
    "endpos is an index indicating how far the string will be searched."
   ]
  },
  {
   "cell_type": "code",
   "execution_count": 36,
   "metadata": {},
   "outputs": [
    {
     "data": {
      "text/plain": [
       "<_sre.SRE_Match object; span=(0, 1), match='d'>"
      ]
     },
     "execution_count": 36,
     "metadata": {},
     "output_type": "execute_result"
    }
   ],
   "source": [
    "# simple rule\n",
    "pattern = re.compile(\"d\")\n",
    "\n",
    "# match at index 0\n",
    "pattern.search(\"dog\")"
   ]
  },
  {
   "cell_type": "code",
   "execution_count": 37,
   "metadata": {},
   "outputs": [],
   "source": [
    "# no Match and returns None, as search start at index 1`\n",
    "pattern.search(\"dog\", 1)"
   ]
  },
  {
   "cell_type": "markdown",
   "metadata": {},
   "source": [
    "Pattern.__match__(_string[, pos [, endpos]]_)\n",
    "\n",
    "If 0+ characters at the beginning of the string match this RE, return a corresponding match object. Return None otherwise.\n",
    "\n",
    "pos and endpos have the same meaning as they do for the search() method"
   ]
  },
  {
   "cell_type": "code",
   "execution_count": 38,
   "metadata": {},
   "outputs": [],
   "source": [
    "# simple rule\n",
    "pattern = re.compile(\"o\")\n",
    "\n",
    "# no match because 'o' is not at the start of dog'\n",
    "pattern.match(\"dog\")"
   ]
  },
  {
   "cell_type": "code",
   "execution_count": 39,
   "metadata": {},
   "outputs": [
    {
     "data": {
      "text/plain": [
       "<_sre.SRE_Match object; span=(1, 2), match='o'>"
      ]
     },
     "execution_count": 39,
     "metadata": {},
     "output_type": "execute_result"
    }
   ],
   "source": [
    "# match because search starts at index 1\n",
    "pattern.match(\"dog\", 1)"
   ]
  },
  {
   "cell_type": "markdown",
   "metadata": {},
   "source": [
    "Pattern.__fullmatch__(_string[, pos [, endpos]]_)\n",
    "\n",
    "If the whole string matches this RE, return a match object\n",
    "\n",
    "pos and endpos have the same meaning as they do for the search() method"
   ]
  },
  {
   "cell_type": "code",
   "execution_count": 40,
   "metadata": {},
   "outputs": [],
   "source": [
    "# slightly less simple rul\n",
    "pattern = re.compile(\"o[gh]\")\n",
    "\n",
    "# No match becaues 'o' is not at the start of dog\n",
    "pattern.fullmatch(\"dog\")"
   ]
  },
  {
   "cell_type": "code",
   "execution_count": 41,
   "metadata": {},
   "outputs": [],
   "source": [
    "# no match even though 'o' starts the string.\n",
    "# the full string doesn't match\n",
    "\n",
    "pattern.fullmatch(\"ogre\")"
   ]
  },
  {
   "cell_type": "code",
   "execution_count": 42,
   "metadata": {},
   "outputs": [
    {
     "data": {
      "text/plain": [
       "<_sre.SRE_Match object; span=(1, 3), match='og'>"
      ]
     },
     "execution_count": 42,
     "metadata": {},
     "output_type": "execute_result"
    }
   ],
   "source": [
    "# matches within the given index limits\n",
    "pattern.fullmatch(\"doggie\", 1, 3)"
   ]
  },
  {
   "cell_type": "markdown",
   "metadata": {},
   "source": [
    "## Match objects\n",
    "\n",
    "Match objects support the several methods and attributes. Here is a sample."
   ]
  },
  {
   "cell_type": "markdown",
   "metadata": {},
   "source": [
    "<a id = 'Match'></a>"
   ]
  },
  {
   "cell_type": "markdown",
   "metadata": {},
   "source": [
    "Match.__group__(_[group1,...]_)\n",
    "\n",
    "Returns one or more subgroups of the match"
   ]
  },
  {
   "cell_type": "code",
   "execution_count": 107,
   "metadata": {},
   "outputs": [
    {
     "name": "stdout",
     "output_type": "stream",
     "text": [
      "Isaac Newton\n",
      "Isaac\n",
      "Newton\n",
      "('Isaac', 'Newton')\n"
     ]
    }
   ],
   "source": [
    "# 'r' keeps from having to escape the backslash '\\'\n",
    "#      '\\' signals a special sequence\n",
    "# (\\w+) roughly translates to 'any unicode character of length >= 1\n",
    "m = re.match(pattern=r\"(\\w+) (\\w+)\", string=\"Isaac Newton, physicist\")\n",
    "print(m.group(0))\n",
    "print(m.group(1))\n",
    "print(m.group(2))\n",
    "print(m.group(1, 2))"
   ]
  },
  {
   "cell_type": "code",
   "execution_count": 54,
   "metadata": {},
   "outputs": [
    {
     "name": "stdout",
     "output_type": "stream",
     "text": [
      "Malcolm\n",
      "Reynolds\n",
      "Malcolm Reynolds\n",
      "Malcolm\n",
      "Reynolds\n",
      "('Malcolm', 'Reynolds')\n"
     ]
    }
   ],
   "source": [
    "# using (?P<name>...) allows for identifying groups with more descriptive indexes\n",
    "m = re.match(pattern=r\"(?P<firstName>\\w+) (?P<lastName>\\w+)\", string=\"Malcolm Reynolds\")\n",
    "print(m.group(\"firstName\"))\n",
    "print(m.group(\"lastName\"))\n",
    "\n",
    "# can still refernce groups by their index\n",
    "print(m.group(0))\n",
    "print(m.group(1))\n",
    "print(m.group(2))\n",
    "print(m.group(1, 2))"
   ]
  },
  {
   "cell_type": "code",
   "execution_count": 66,
   "metadata": {},
   "outputs": [
    {
     "name": "stdout",
     "output_type": "stream",
     "text": [
      "a1b2c3\n",
      "c3\n"
     ]
    }
   ],
   "source": [
    "# if a group matches multiple times, only the last match is accessible\n",
    "# m.group(2) will throw an error\n",
    "m = re.match(pattern=r\"(..)+\", string=\"a1b2c3\")\n",
    "print(m.group(0))\n",
    "print(m.group(1))"
   ]
  },
  {
   "cell_type": "markdown",
   "metadata": {},
   "source": [
    "Match.__getitme__(*g*)\n",
    "\n",
    "same as m.group(g), just allows easier access to individual groups in match"
   ]
  },
  {
   "cell_type": "code",
   "execution_count": 74,
   "metadata": {},
   "outputs": [
    {
     "name": "stdout",
     "output_type": "stream",
     "text": [
      "Isaac Newton\n",
      "Isaac\n",
      "Newton\n"
     ]
    }
   ],
   "source": [
    "# access individual matches via object indexing\n",
    "m = re.match(pattern=r\"(\\w+) (\\w+)\", string=\"Isaac Newton, physicist\")\n",
    "print(m[0])\n",
    "print(m[1])\n",
    "print(m[2])"
   ]
  },
  {
   "cell_type": "markdown",
   "metadata": {},
   "source": [
    "Match.__groups__(_default = None_)\n",
    "\n",
    "Return a tuple that contains all subgroups in the match"
   ]
  },
  {
   "cell_type": "code",
   "execution_count": 75,
   "metadata": {},
   "outputs": [
    {
     "data": {
      "text/plain": [
       "('24', '1632')"
      ]
     },
     "execution_count": 75,
     "metadata": {},
     "output_type": "execute_result"
    }
   ],
   "source": [
    "# (\\d+) roughly translates to all digits of length >=1\n",
    "m = re.match(pattern=r\"(\\d+)\\.(\\d+)\", string=\"24.1632\")\n",
    "m.groups()"
   ]
  },
  {
   "cell_type": "markdown",
   "metadata": {},
   "source": [
    "Match.__groupdict__(_default = None_)\n",
    "\n",
    "Return dictionary containing all the named subgroups of the match."
   ]
  },
  {
   "cell_type": "code",
   "execution_count": 79,
   "metadata": {},
   "outputs": [
    {
     "data": {
      "text/plain": [
       "{'firstName': 'Tyler', 'lastName': 'Peterson'}"
      ]
     },
     "execution_count": 79,
     "metadata": {},
     "output_type": "execute_result"
    }
   ],
   "source": [
    "# tidy result of match\n",
    "m = re.match(pattern=r\"(?P<firstName>\\w+) (?P<lastName>\\w+)\", string=\"Tyler Peterson\")\n",
    "m.groupdict()"
   ]
  },
  {
   "cell_type": "markdown",
   "metadata": {},
   "source": [
    "Match.__start__(_[group]_)\n",
    "Match.__end__(_[group]_)\n",
    "\n",
    "Return the indices of the start/end of the substring match by group"
   ]
  },
  {
   "cell_type": "code",
   "execution_count": 82,
   "metadata": {},
   "outputs": [
    {
     "data": {
      "text/plain": [
       "'tony@tiger.net'"
      ]
     },
     "execution_count": 82,
     "metadata": {},
     "output_type": "execute_result"
    }
   ],
   "source": [
    "# remove part of string\n",
    "email = \"tony@tiremove_thisger.net\"\n",
    "m = re.search(\"remove_this\", email)\n",
    "email[: m.start()] + email[m.end() :]"
   ]
  },
  {
   "cell_type": "markdown",
   "metadata": {},
   "source": [
    "## Examples"
   ]
  },
  {
   "cell_type": "markdown",
   "metadata": {},
   "source": [
    "<a id = 'Examples'></a>"
   ]
  },
  {
   "cell_type": "markdown",
   "metadata": {},
   "source": [
    "__Check if a string matches a range of possibilities__\n",
    "\n",
    "Suppose you are writing a poker program where a player’s hand is represented as a 5-character string with each character representing a card, “a” for ace, “k” for king, “q” for queen, “j” for jack, “t” for 10, and “2” through “9” representing the card with that value.\n",
    "\n",
    "To see if a given string is a valid hand, one could do the following:"
   ]
  },
  {
   "cell_type": "code",
   "execution_count": 87,
   "metadata": {},
   "outputs": [
    {
     "data": {
      "text/plain": [
       "'<Match: akt5q, groups = ()>'"
      ]
     },
     "execution_count": 87,
     "metadata": {},
     "output_type": "execute_result"
    }
   ],
   "source": [
    "# matching function\n",
    "def displayMatch(match):\n",
    "    if match is None:\n",
    "        return None\n",
    "    return \"<Match: {0}, groups = {1}>\".format(match.group(), match.groups())\n",
    "\n",
    "\n",
    "valid = re.compile(r\"[a2-9tjqk]{5}$\")\n",
    "displayMatch(valid.match(\"akt5q\"))  # valid"
   ]
  },
  {
   "cell_type": "code",
   "execution_count": 88,
   "metadata": {},
   "outputs": [],
   "source": [
    "# demonstrate invalid match\n",
    "displayMatch(valid.match(\"akt5e\"))  # invalid"
   ]
  },
  {
   "cell_type": "markdown",
   "metadata": {},
   "source": [
    "That last hand, \"727ak\", contained a pair, or two of the same valued cards. To match this with a regular expression, one could use backreferences as such:"
   ]
  },
  {
   "cell_type": "code",
   "execution_count": 90,
   "metadata": {},
   "outputs": [
    {
     "data": {
      "text/plain": [
       "\"<Match: 717, groups = ('7',)>\""
      ]
     },
     "execution_count": 90,
     "metadata": {},
     "output_type": "execute_result"
    }
   ],
   "source": [
    "# '.' matches any character except line breaks \\n\n",
    "# '*' quantifier, match 0 or more of the preceding token\n",
    "# (.) capturing group #1 Groups multiple tokens together and creates cpature\n",
    "#     group for extracting a substring or using a backreference\n",
    "# '\\1' number reference. matches the results of capture group #1\n",
    "pair = re.compile(r\".*(.).*\\1\")\n",
    "displayMatch(pair.match(\"717ak\"))  # Pair of 7s"
   ]
  },
  {
   "cell_type": "code",
   "execution_count": 96,
   "metadata": {},
   "outputs": [
    {
     "name": "stdout",
     "output_type": "stream",
     "text": [
      "a\n"
     ]
    }
   ],
   "source": [
    "#  test match\n",
    "displayMatch(pair.match(\"aaakq\"))  # three of a kind\n",
    "\n",
    "# Three of a kind consists of this group\n",
    "print(pair.match(\"aaakq\").group(1))"
   ]
  },
  {
   "cell_type": "markdown",
   "metadata": {},
   "source": [
    "__search() vs. match()__"
   ]
  },
  {
   "cell_type": "code",
   "execution_count": 98,
   "metadata": {},
   "outputs": [
    {
     "data": {
      "text/plain": [
       "<_sre.SRE_Match object; span=(2, 3), match='c'>"
      ]
     },
     "execution_count": 98,
     "metadata": {},
     "output_type": "execute_result"
    }
   ],
   "source": [
    "# demonstrate search vs. match\n",
    "re.match(pattern=\"c\", string=\"abcdef\")  # no match because starts with 'a'\n",
    "re.search(pattern=\"c\", string=\"abcdef\")  # match because searches whole string"
   ]
  },
  {
   "cell_type": "code",
   "execution_count": 100,
   "metadata": {},
   "outputs": [
    {
     "data": {
      "text/plain": [
       "<_sre.SRE_Match object; span=(0, 1), match='a'>"
      ]
     },
     "execution_count": 100,
     "metadata": {},
     "output_type": "execute_result"
    }
   ],
   "source": [
    "# demonstrate successful search vs. invalid search\n",
    "re.search(pattern=\"^c\", string=\"abcdef\")  # no match due to ^ restriction\n",
    "re.search(pattern=\"^a\", string=\"abcdef\")  # match"
   ]
  },
  {
   "cell_type": "markdown",
   "metadata": {},
   "source": [
    "__Find all adverbs and their positions__"
   ]
  },
  {
   "cell_type": "code",
   "execution_count": 102,
   "metadata": {},
   "outputs": [
    {
     "data": {
      "text/plain": [
       "['carefully', 'quickly']"
      ]
     },
     "execution_count": 102,
     "metadata": {},
     "output_type": "execute_result"
    }
   ],
   "source": [
    "# \\w Word. Matches any word character (alphanumber & underscore)\n",
    "#     + Quantifier. Match 1 or more of the preceding toke\n",
    "# 'l' Character. Matches a 'l' character. case sensitive\n",
    "# 'y' Character. Matches a 'y' character. case sensitive\n",
    "# Translates to 'any word ending in 'ly\n",
    "text = \"he was carefully disguised by captured quickly by police.\"\n",
    "re.findall(pattern=r\"\\w+ly\", string=text)"
   ]
  },
  {
   "cell_type": "markdown",
   "metadata": {},
   "source": [
    "__Finding all adverbs and their positions__"
   ]
  },
  {
   "cell_type": "code",
   "execution_count": 106,
   "metadata": {},
   "outputs": [
    {
     "name": "stdout",
     "output_type": "stream",
     "text": [
      "7-16 carefully\n",
      "39-46 quickly\n"
     ]
    }
   ],
   "source": [
    "# find adverbs based on targeting of words that end in 'ly'\n",
    "text = \"he was carefully disguised by captured quickly by police.\"\n",
    "for m in re.finditer(pattern=r\"\\w+ly\", string=text):\n",
    "    print(\"{0}-{1} {2}\".format(m.start(), m.end(), m.group(0)))"
   ]
  },
  {
   "cell_type": "markdown",
   "metadata": {},
   "source": [
    "__Writing a tokenizer__\n",
    "\n",
    "A tokenizer analyzes strings and categorizes groups of characters\n",
    "\n",
    "Text categories are specified with regular expression. In this function, the strategy is to combine the RE's into a single master RE list and loop over it"
   ]
  },
  {
   "cell_type": "code",
   "execution_count": 132,
   "metadata": {},
   "outputs": [],
   "source": [
    "# custom tokenizer\n",
    "Token = collections.namedtuple(\"Token\", [\"typ\", \"value\", \"line\", \"column\"])\n",
    "\n",
    "\n",
    "def tokenize(code):\n",
    "    keywords = {\"IF\", \"THEN\", \"ENDIF\", \"FOR\", \"NEXT\", \"GOSUB\", \"RETURN\"}\n",
    "    token_specification = [\n",
    "        (\"NUMBER\", r\"\\d+(\\.\\d*)?\"),  # Integer or decimal number\n",
    "        (\"ASSIGN\", r\":=\"),  # Assignment operator\n",
    "        (\"END\", r\";\"),  # Statement terminator\n",
    "        (\"ID\", r\"[A-Za-z]+\"),  # Identifiers\n",
    "        (\"OP\", r\"[+\\-*/]\"),  # Arithmetic operators\n",
    "        (\"NEWLINE\", r\"\\n\"),  # Line endings\n",
    "        (\"SKIP\", r\"[ \\t]+\"),  # Skip over spaces and tabs\n",
    "        (\"MISMATCH\", r\".\"),  # Any other character\n",
    "    ]\n",
    "    tok_regex = \"|\".join(\"(?P<%s>%s)\" % pair for pair in token_specification)\n",
    "    line_num = 1\n",
    "    line_start = 0\n",
    "    for mo in re.finditer(tok_regex, code):\n",
    "        kind = mo.lastgroup\n",
    "        value = mo.group(kind)\n",
    "        if kind == \"NEWLINE\":\n",
    "            line_start = mo.end()\n",
    "            line_num += 1\n",
    "        elif kind == \"SKIP\":\n",
    "            pass\n",
    "        elif kind == \"MISMATCH\":\n",
    "            raise RuntimeError(f\"{value!r} unexpected on line {line_num}\")\n",
    "        else:\n",
    "            if kind == \"ID\" and value in keywords:\n",
    "                kind = value\n",
    "            column = mo.start() - line_start\n",
    "            yield Token(kind, value, line_num, column)\n",
    "\n",
    "\n",
    "statements = \"\"\"\n",
    "    IF quantity THEN\n",
    "        total := total + price * quantity;\n",
    "        tax := price * 0.05;\n",
    "    ENDIF;\n",
    "\"\"\""
   ]
  },
  {
   "cell_type": "code",
   "execution_count": 133,
   "metadata": {},
   "outputs": [
    {
     "name": "stdout",
     "output_type": "stream",
     "text": [
      "Token(typ='IF', value='IF', line=2, column=4)\n",
      "Token(typ='ID', value='quantity', line=2, column=7)\n",
      "Token(typ='THEN', value='THEN', line=2, column=16)\n",
      "Token(typ='ID', value='total', line=3, column=8)\n",
      "Token(typ='ASSIGN', value=':=', line=3, column=14)\n",
      "Token(typ='ID', value='total', line=3, column=17)\n",
      "Token(typ='OP', value='+', line=3, column=23)\n",
      "Token(typ='ID', value='price', line=3, column=25)\n",
      "Token(typ='OP', value='*', line=3, column=31)\n",
      "Token(typ='ID', value='quantity', line=3, column=33)\n",
      "Token(typ='END', value=';', line=3, column=41)\n",
      "Token(typ='ID', value='tax', line=4, column=8)\n",
      "Token(typ='ASSIGN', value=':=', line=4, column=12)\n",
      "Token(typ='ID', value='price', line=4, column=15)\n",
      "Token(typ='OP', value='*', line=4, column=21)\n",
      "Token(typ='NUMBER', value='0.05', line=4, column=23)\n",
      "Token(typ='END', value=';', line=4, column=27)\n",
      "Token(typ='ENDIF', value='ENDIF', line=5, column=4)\n",
      "Token(typ='END', value=';', line=5, column=9)\n"
     ]
    }
   ],
   "source": [
    "# demonstrate tokenizer\n",
    "for token in tokenize(statements):\n",
    "    print(token)"
   ]
  }
 ],
 "metadata": {
  "kernelspec": {
   "display_name": "Python 3",
   "language": "python",
   "name": "python3"
  },
  "language_info": {
   "codemirror_mode": {
    "name": "ipython",
    "version": 3
   },
   "file_extension": ".py",
   "mimetype": "text/x-python",
   "name": "python",
   "nbconvert_exporter": "python",
   "pygments_lexer": "ipython3",
   "version": "3.6.8"
  },
  "toc": {
   "base_numbering": 1,
   "nav_menu": {},
   "number_sections": true,
   "sideBar": true,
   "skip_h1_title": false,
   "title_cell": "Table of Contents",
   "title_sidebar": "Contents",
   "toc_cell": false,
   "toc_position": {},
   "toc_section_display": true,
   "toc_window_display": false
  }
 },
 "nbformat": 4,
 "nbformat_minor": 2
}
