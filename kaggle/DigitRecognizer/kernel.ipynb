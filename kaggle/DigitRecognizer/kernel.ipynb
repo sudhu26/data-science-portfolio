{
 "cells": [
  {
   "cell_type": "markdown",
   "metadata": {},
   "source": [
    "__Kaggle competition - digit recognizer__\n",
    "\n",
    "1. [Kaggle competition - digit recognizer](#Kaggle-competition-digit-recognizer)\n",
    "1. [Import](#Import)\n",
    "    1. [Tools](#Tools)\n",
    "    1. [Data](#Data)    \n",
    "1. [Initial EDA](#Initial-EDA)\n",
    "    1. [Target variable evaluation](#Target-variable-evaluation)    \n",
    "1. [Modeling](#Modeling)\n",
    "    1. [Model](#Model)\n",
    "    1. [Utilities](#Utilities)\n",
    "    1. [Training](#Training)\n",
    "    1. [Testing](#Testing)\n",
    "1. [Explanability](#Explanability)\n",
    "1. [Submission](#Submission)\n",
    "    "
   ]
  },
  {
   "cell_type": "markdown",
   "metadata": {},
   "source": [
    "# Import"
   ]
  },
  {
   "cell_type": "markdown",
   "metadata": {},
   "source": [
    "<a id = 'Import'></a>"
   ]
  },
  {
   "cell_type": "markdown",
   "metadata": {},
   "source": [
    "## Tools"
   ]
  },
  {
   "cell_type": "markdown",
   "metadata": {},
   "source": [
    "<a id = 'Tools'></a>"
   ]
  },
  {
   "cell_type": "code",
   "execution_count": 1,
   "metadata": {
    "ExecuteTime": {
     "end_time": "2019-07-20T14:07:01.183661Z",
     "start_time": "2019-07-20T14:06:51.128649Z"
    }
   },
   "outputs": [
    {
     "data": {
      "text/html": [
       "<style>.container { width:95% !important; }</style>"
      ],
      "text/plain": [
       "<IPython.core.display.HTML object>"
      ]
     },
     "metadata": {},
     "output_type": "display_data"
    }
   ],
   "source": [
    "# Standard libary and settings\n",
    "import os\n",
    "import sys\n",
    "import importlib\n",
    "import itertools\n",
    "import csv\n",
    "import copy\n",
    "from timeit import default_timer as timer\n",
    "import time\n",
    "\n",
    "rundate = time.strftime(\"%Y%m%d\")\n",
    "\n",
    "import warnings\n",
    "\n",
    "warnings.simplefilter(\"ignore\")\n",
    "from IPython.core.display import display, HTML\n",
    "\n",
    "display(HTML(\"<style>.container { width:95% !important; }</style>\"))\n",
    "\n",
    "# data extensions and settings\n",
    "import numpy as np\n",
    "\n",
    "np.set_printoptions(threshold=np.inf, suppress=True)\n",
    "import pandas as pd\n",
    "\n",
    "pd.set_option(\"display.max_rows\", 500)\n",
    "pd.set_option(\"display.max_columns\", 500)\n",
    "pd.options.display.float_format = \"{:,.6f}\".format\n",
    "\n",
    "# modeling extensions\n",
    "from sklearn.base import TransformerMixin, BaseEstimator\n",
    "from sklearn.decomposition import PCA, LatentDirichletAllocation\n",
    "from sklearn.discriminant_analysis import LinearDiscriminantAnalysis\n",
    "from sklearn.feature_extraction.text import CounterVectorizer, TfidfTransformer, TfidfVectorizer, HashingVectorizer\n",
    "from sklearn.feature_selection import f_classif, f_regression, VarianceThreshold, SelectFromModel, SelectKBest\n",
    "import sklearn.gaussian_process as gaussian_process\n",
    "from sklearn.model_selection import KFold, train_test_split, GridSearchCV, StratifiedKFold, cross_val_score, RandomizedSearchCV\n",
    "from sklearn.preprocessing import StandardScaler, RobustScaler, PolynomialFeatures, OrdinalEncoder, LabelEncoder, OneHotEncoder, KBinsDiscretizer, QuantileTransformer, PowerTransformer, MinMaxScaler\n",
    "\n",
    "import torch\n",
    "from torch.utils.data import Dataset, DataLoader, TensorDataset\n",
    "from torch.utils.tensorboard import SummaryWriter\n",
    "import torch.autograd as autograd\n",
    "import torch.nn as nn\n",
    "import torch.nn.functional as F\n",
    "import torch.optim as optim\n",
    "import torchvision\n",
    "import torchvision.transforms as transforms\n",
    "\n",
    "# visualization extensions and settings\n",
    "import seaborn as sns\n",
    "import matplotlib.pyplot as plt\n",
    "\n",
    "%matplotlib inline\n",
    "\n",
    "# custom extensions and settings\n",
    "sys.path.append(\"/home/mlmachine\") if \"/home/mlmachine\" not in sys.path else None\n",
    "sys.path.append(\"/home/prettierplot\") if \"/home/prettierplot\" not in sys.path else None\n",
    "\n",
    "import mlmachine as mlm\n",
    "from prettierplot.plotter import PrettierPlot\n",
    "import prettierplot.style as style"
   ]
  },
  {
   "cell_type": "markdown",
   "metadata": {},
   "source": [
    "## Data"
   ]
  },
  {
   "cell_type": "markdown",
   "metadata": {},
   "source": [
    "<a id = 'Data'></a>"
   ]
  },
  {
   "cell_type": "code",
   "execution_count": 4,
   "metadata": {
    "ExecuteTime": {
     "end_time": "2019-07-20T04:53:46.853113Z",
     "start_time": "2019-07-20T04:53:28.532437Z"
    }
   },
   "outputs": [
    {
     "name": "stdout",
     "output_type": "stream",
     "text": [
      "Training data dimensions: (42000, 785)\n",
      "Test data dimensions: (28000, 784)\n"
     ]
    }
   ],
   "source": [
    "# load data and print dimensions\n",
    "df_train = pd.read_csv(\"s3://tdp-ml-datasets/kaggle-mnist//train.csv\", sep=\",\")\n",
    "df_test = pd.read_csv(\"s3://tdp-ml-datasets/kaggle-mnist//test.csv\", sep=\",\")\n",
    "\n",
    "print(\"Training data dimensions: {}\".format(df_train.shape))\n",
    "print(\"Test data dimensions: {}\".format(df_test.shape))\n",
    "\n",
    "# separate label from image\n",
    "df_train_label = df_train[\"label\"]\n",
    "df_train = df_train.drop(labels=\"label\", axis=1)"
   ]
  },
  {
   "cell_type": "markdown",
   "metadata": {},
   "source": [
    "##### Training data"
   ]
  },
  {
   "cell_type": "code",
   "execution_count": 5,
   "metadata": {
    "ExecuteTime": {
     "end_time": "2019-07-20T04:55:21.918758Z",
     "start_time": "2019-07-20T04:55:21.399009Z"
    }
   },
   "outputs": [
    {
     "name": "stdout",
     "output_type": "stream",
     "text": [
      "X_train shape: (33600, 784)\n",
      "y_train shape: (33600,)\n",
      "\n",
      "X_valid shape: (8400, 784)\n",
      "y_valid shape: (8400,)\n"
     ]
    }
   ],
   "source": [
    "# train/test split\n",
    "X_train, X_valid, y_train, y_valid = train_test_split(\n",
    "    df_train, df_train_label, test_size=0.2\n",
    ")\n",
    "\n",
    "print('X_train shape: {}'.format(X_train.shape))\n",
    "print('y_train shape: {}'.format(y_train.shape))\n",
    "print('')\n",
    "print('X_valid shape: {}'.format(X_valid.shape))\n",
    "print('y_valid shape: {}'.format(y_valid.shape))"
   ]
  },
  {
   "cell_type": "code",
   "execution_count": 6,
   "metadata": {
    "ExecuteTime": {
     "end_time": "2019-07-20T04:58:10.459757Z",
     "start_time": "2019-07-20T04:58:10.447488Z"
    }
   },
   "outputs": [
    {
     "name": "stdout",
     "output_type": "stream",
     "text": [
      "training data shape: (33600, 784)\n"
     ]
    }
   ],
   "source": [
    "# batch depth height width\n",
    "class DatasetTrainMNIST(Dataset):\n",
    "    def __init__(self, images, labels, transform=None):\n",
    "        self.images = images\n",
    "        self.labels = labels\n",
    "        self.transform = transform\n",
    "\n",
    "    def __len__(self):\n",
    "        return len(self.images)\n",
    "\n",
    "    def __getitem__(self, index):\n",
    "        # load image as ndarray type (Height * Width * Channels)\n",
    "        # in this example, we use ToTensor(), so we define the numpy array like (H, W, C)\n",
    "        image = self.images.iloc[index].values.astype(np.uint8).reshape((28, 28))\n",
    "        label = self.labels.iloc[index]\n",
    "\n",
    "        if self.transform is not None:\n",
    "            image = self.transform(image)\n",
    "\n",
    "        return image, label\n",
    "\n",
    "# transformation instructions\n",
    "transform = transforms.Compose(\n",
    "    [\n",
    "        #     transforms.ToPILImage()\n",
    "        #     ,transforms.RandomHorizontalFlip(0.5)\n",
    "        transforms.ToTensor()\n",
    "    ]\n",
    ")\n",
    "\n",
    "# load training data\n",
    "train_data = DatasetTrainMNIST(images=X_train, labels=y_train, transform=transform)\n",
    "train_loader = DataLoader(train_data, batch_size=64, shuffle=True)\n",
    "\n",
    "print(\"training data shape: {}\".format(train_data.images.shape))"
   ]
  },
  {
   "cell_type": "code",
   "execution_count": 7,
   "metadata": {
    "ExecuteTime": {
     "end_time": "2019-07-20T04:58:13.111371Z",
     "start_time": "2019-07-20T04:58:12.031847Z"
    }
   },
   "outputs": [
    {
     "name": "stdout",
     "output_type": "stream",
     "text": [
      "images batch size: torch.Size([64, 1, 28, 28])\n",
      "labels batch size: torch.Size([64])\n"
     ]
    },
    {
     "data": {
      "text/plain": [
       "Text(0.5, 1.0, '[8 9 9 7 5 0 7 8 8 2 2 5 9 3 0 1 3 7 6 7 0 9 9 5 6 6 4 4 7 5 7 2 7 8 2 6 9\\n 3 6 4 8 5 3 0 5 1 7 4 6 6 8 0 2 0 4 0 1 2 7 4 5 9 9 1]')"
      ]
     },
     "execution_count": 7,
     "metadata": {},
     "output_type": "execute_result"
    },
    {
     "data": {
      "image/png": "[encoded data removed]",
      "text/plain": [
       "<Figure size 432x288 with 1 Axes>"
      ]
     },
     "metadata": {
      "needs_background": "light"
     },
     "output_type": "display_data"
    }
   ],
   "source": [
    "# verify that data was loaded correctly\n",
    "train_iter = iter(train_loader)\n",
    "images, labels = train_iter.next()\n",
    "\n",
    "print(\"images batch size: {}\".format(images.size()))\n",
    "print(\"labels batch size: {}\".format(labels.size()))\n",
    "\n",
    "grid = torchvision.utils.make_grid(images)\n",
    "plt.imshow(grid.numpy().transpose((1, 2, 0)))\n",
    "plt.title(labels.numpy())"
   ]
  },
  {
   "cell_type": "markdown",
   "metadata": {},
   "source": [
    "##### Validation data"
   ]
  },
  {
   "cell_type": "code",
   "execution_count": 8,
   "metadata": {
    "ExecuteTime": {
     "end_time": "2019-07-20T04:58:30.178964Z",
     "start_time": "2019-07-20T04:58:30.174279Z"
    }
   },
   "outputs": [
    {
     "name": "stdout",
     "output_type": "stream",
     "text": [
      "validation data shape: (8400, 784)\n"
     ]
    }
   ],
   "source": [
    "# validation data\n",
    "valid_data = DatasetTrainMNIST(images=X_valid, labels=y_valid, transform=transform)\n",
    "valid_loader = DataLoader(valid_data, batch_size=64, shuffle=True)\n",
    "\n",
    "print(\"validation data shape: {}\".format(valid_data.images.shape))"
   ]
  },
  {
   "cell_type": "code",
   "execution_count": 9,
   "metadata": {
    "ExecuteTime": {
     "end_time": "2019-07-20T04:58:32.116759Z",
     "start_time": "2019-07-20T04:58:31.840657Z"
    }
   },
   "outputs": [
    {
     "name": "stdout",
     "output_type": "stream",
     "text": [
      "images batch size: torch.Size([64, 1, 28, 28])\n",
      "labels batch size: torch.Size([64])\n"
     ]
    },
    {
     "data": {
      "text/plain": [
       "Text(0.5, 1.0, '[7 7 0 2 3 8 4 9 4 3 8 4 2 8 1 7 6 3 0 6 9 2 7 1 0 5 6 5 9 7 1 7 1 1 8 1 2\\n 7 2 8 5 2 2 7 9 1 9 3 4 6 0 8 7 1 4 8 0 8 6 3 0 4 0 5]')"
      ]
     },
     "execution_count": 9,
     "metadata": {},
     "output_type": "execute_result"
    },
    {
     "data": {
      "image/png": "[encoded data removed]",
      "text/plain": [
       "<Figure size 432x288 with 1 Axes>"
      ]
     },
     "metadata": {
      "needs_background": "light"
     },
     "output_type": "display_data"
    }
   ],
   "source": [
    "# verify that data was loaded correctly\n",
    "validIter = iter(valid_loader)\n",
    "images, labels = validIter.next()\n",
    "\n",
    "print(\"images batch size: {}\".format(images.size()))\n",
    "print(\"labels batch size: {}\".format(labels.size()))\n",
    "\n",
    "grid = torchvision.utils.make_grid(images)\n",
    "plt.imshow(grid.numpy().transpose((1, 2, 0)))\n",
    "plt.title(labels.numpy())"
   ]
  },
  {
   "cell_type": "markdown",
   "metadata": {},
   "source": [
    "##### Test data"
   ]
  },
  {
   "cell_type": "code",
   "execution_count": 8,
   "metadata": {
    "ExecuteTime": {
     "end_time": "2019-04-21T04:22:47.649554Z",
     "start_time": "2019-04-21T04:22:47.423277Z"
    }
   },
   "outputs": [
    {
     "name": "stdout",
     "output_type": "stream",
     "text": [
      "training data shape: (28000, 784)\n"
     ]
    }
   ],
   "source": [
    "# test data loader\n",
    "class DatasetTestMNIST(Dataset):\n",
    "    def __init__(self, images, transform=None):\n",
    "        self.images = images\n",
    "        self.transform = transform\n",
    "\n",
    "    def __len__(self):\n",
    "        return len(self.images)\n",
    "\n",
    "    def __getitem__(self, index):\n",
    "        # load image as ndarray type (Height * Width * Channels)\n",
    "        # in this example, we use ToTensor(), so we define the numpy array like (H, W, C)\n",
    "        image = self.images.iloc[index].values.astype(np.uint8).reshape((28, 28))\n",
    "\n",
    "        if self.transform is not None:\n",
    "            image = self.transform(image)\n",
    "\n",
    "        return image\n",
    "\n",
    "# transformation instructions\n",
    "transform = transforms.Compose([\n",
    "        #     transforms.ToPILImage()\n",
    "        #     ,transforms.RandomHorizontalFlip(0.5)\n",
    "        transforms.ToTensor()\n",
    "    ])\n",
    "\n",
    "# load test data\n",
    "test_data = DatasetTestMNIST(images=df_test, transform=transform)\n",
    "test_loader = DataLoader(test_data, batch_size=64, shuffle=False)\n",
    "\n",
    "print(\"training data shape: {}\".format(test_data.images.shape))"
   ]
  },
  {
   "cell_type": "markdown",
   "metadata": {},
   "source": [
    "# Initial EDA"
   ]
  },
  {
   "cell_type": "markdown",
   "metadata": {},
   "source": [
    "<a id = 'Initial-EDA'></a>"
   ]
  },
  {
   "cell_type": "markdown",
   "metadata": {},
   "source": [
    "## Target variable evaluation"
   ]
  },
  {
   "cell_type": "markdown",
   "metadata": {},
   "source": [
    "<a id = 'Target-variable-evaluation'></a>"
   ]
  },
  {
   "cell_type": "code",
   "execution_count": 15,
   "metadata": {
    "ExecuteTime": {
     "end_time": "2019-07-20T05:00:56.479397Z",
     "start_time": "2019-07-20T05:00:55.958565Z"
    }
   },
   "outputs": [
    {
     "data": {
      "image/png": "[encoded data removed]",
      "text/plain": [
       "<Figure size 1080x540 with 1 Axes>"
      ]
     },
     "metadata": {},
     "output_type": "display_data"
    }
   ],
   "source": [
    "# visualize distribution of class labels\n",
    "cats, counts = np.unique(df_train_label, return_counts=True)\n",
    "\n",
    "p = PrettierPlot()\n",
    "ax = p.make_canvas(\n",
    "    title=\"Category counts\", x_label=\"Class labels\", y_label=\"Class count\", y_shift=0.6\n",
    ")\n",
    "p.bar_v(\n",
    "    x=cats,\n",
    "    counts=counts,\n",
    "    label_rotate=0,\n",
    "    color=style.style_hex_mid[2],\n",
    "    y_units=\"f\",\n",
    "    ax=ax,\n",
    ")"
   ]
  },
  {
   "cell_type": "markdown",
   "metadata": {},
   "source": [
    "# Modeling"
   ]
  },
  {
   "cell_type": "markdown",
   "metadata": {},
   "source": [
    "<a id = 'Modeling'></a>"
   ]
  },
  {
   "cell_type": "markdown",
   "metadata": {},
   "source": [
    "## Model"
   ]
  },
  {
   "cell_type": "markdown",
   "metadata": {},
   "source": [
    "<a id = 'Model'></a>"
   ]
  },
  {
   "cell_type": "code",
   "execution_count": 10,
   "metadata": {},
   "outputs": [],
   "source": [
    "# set layer parameters\n",
    "channels = 1\n",
    "filter1, kernel1, padding1, max_pooling1 = 16, 3, 1, 2\n",
    "filter2, kernel2, padding2, max_pooling2 = 32, 3, 1, 2\n",
    "filter3, kernel3, padding3, max_pooling3 = 64, 3, 1, 2\n",
    "dense0, dense1, dense2, dense3 = 64 * 3 * 3, 120, 64, 10\n",
    "\n",
    "# build model architecture\n",
    "class MyCNN(nn.Module):\n",
    "    def __init__(self):\n",
    "        super(MyCNN, self).__init__()\n",
    "\n",
    "        # convolutional layers\n",
    "        self.conv1 = nn.Conv2d(\n",
    "            in_channels=channels,\n",
    "            out_channels=filter1,\n",
    "            kernel_size=kernel1,\n",
    "            padding=padding1,\n",
    "            stride=1,\n",
    "        )\n",
    "        self.conv2 = nn.Conv2d(\n",
    "            in_channels=filter1,\n",
    "            out_channels=filter2,\n",
    "            kernel_size=kernel2,\n",
    "            padding=padding2,\n",
    "            stride=1,\n",
    "        )\n",
    "        self.conv3 = nn.Conv2d(\n",
    "            in_channels=filter2,\n",
    "            out_channels=filter3,\n",
    "            kernel_size=kernel3,\n",
    "            padding=padding3,\n",
    "            stride=1,\n",
    "        )\n",
    "\n",
    "        # fully connected layers\n",
    "        self.fc1 = nn.Linear(dense0, dense1)\n",
    "        self.fc2 = nn.Linear(dense1, dense2)\n",
    "        self.fc3 = nn.Linear(dense2, dense3)\n",
    "\n",
    "    def forward(self, x):\n",
    "        x = F.relu(self.conv1(x))\n",
    "        x = F.max_pool2d(x, max_pooling1)\n",
    "        x = F.relu(self.conv2(x))\n",
    "        x = F.max_pool2d(x, max_pooling2)\n",
    "        x = F.relu(self.conv3(x))\n",
    "        x = F.max_pool2d(x, max_pooling3)\n",
    "\n",
    "        x = x.view(-1, dense0)\n",
    "        x = F.relu(self.fc1(x))\n",
    "        x = F.relu(self.fc2(x))\n",
    "        x = self.fc3(x)\n",
    "        return x"
   ]
  },
  {
   "cell_type": "markdown",
   "metadata": {},
   "source": [
    "## Utilities"
   ]
  },
  {
   "cell_type": "markdown",
   "metadata": {},
   "source": [
    "<a id = 'Utilities'></a>"
   ]
  },
  {
   "cell_type": "code",
   "execution_count": 11,
   "metadata": {},
   "outputs": [],
   "source": [
    "# runtime utility function\n",
    "def timer(start, end):\n",
    "    hours, rem = divmod(end - start, 3600)\n",
    "    minutes, seconds = divmod(rem, 60)\n",
    "    print(\n",
    "        \"\\tRuntime: {:0>2}:{:0>2}:{:05.2f}\\n\".format(int(hours), int(minutes), seconds)\n",
    "    )"
   ]
  },
  {
   "cell_type": "code",
   "execution_count": 12,
   "metadata": {},
   "outputs": [],
   "source": [
    "# training loop\n",
    "def train(model, device, train_loader, optimizer, criterion, start, epoch):\n",
    "    \"\"\"\n",
    "    \n",
    "    \"\"\"\n",
    "    print(\"-\" * 50 + \"\\n\\tEpoch {}\\n\".format(epoch) + \"-\" * 50)\n",
    "\n",
    "    model.train()\n",
    "\n",
    "    running_loss = 0.0\n",
    "    running_corrects = 0\n",
    "    for batch, (data, target) in enumerate(train_loader):\n",
    "        data, target = data.to(device), target.to(device)\n",
    "\n",
    "        optimizer.zero_grad()\n",
    "        output = model(data)\n",
    "        preds = torch.argmax(output, dim=1)\n",
    "        loss = criterion(output, target.squeeze_())\n",
    "        loss.backward()\n",
    "        optimizer.step()\n",
    "\n",
    "        # performance statistics\n",
    "        running_loss += loss.item() * data.size(0)\n",
    "        running_corrects += torch.sum(preds == target)\n",
    "\n",
    "        if (batch) % 75 == 0:\n",
    "            print(\n",
    "                \"Batch [{}/{}]\\n\\tLoss:\\t{:.4f}\".format(\n",
    "                    batch, len(train_loader), loss.item()\n",
    "                ))\n",
    "            timer(start, time.time())\n",
    "\n",
    "    training_loss = running_loss / len(X_train)\n",
    "    training_accuracy = running_corrects.double() / len(X_train)\n",
    "\n",
    "    print(\n",
    "        \"Training epoch {}\\n\\tLoss:\\t{:.5f} Accuracy:\\t{:.5f}\".format(\n",
    "            epoch, training_loss, training_accuracy\n",
    "        ))\n",
    "    timer(start, time.time())\n",
    "    return training_accuracy, training_loss"
   ]
  },
  {
   "cell_type": "code",
   "execution_count": 13,
   "metadata": {},
   "outputs": [],
   "source": [
    "# validation loop\n",
    "def valid(model, device, valid_loader, criterion):\n",
    "    \"\"\"\n",
    "    \n",
    "    \"\"\"\n",
    "    running_loss = 0.0\n",
    "    running_corrects = 0\n",
    "\n",
    "    with torch.no_grad():\n",
    "        for data, target in valid_loader:\n",
    "            data, target = data.to(device), target.to(device)\n",
    "\n",
    "            output = model(data)\n",
    "            preds = torch.argmax(output, 1)\n",
    "            loss = criterion(output, target.squeeze_())\n",
    "            running_loss += loss.item() + data.size(0)\n",
    "            running_corrects += torch.sum(preds == target)\n",
    "\n",
    "    validation_loss = running_loss / len(X_valid)\n",
    "    validation_accuracy = running_corrects.double() / len(X_valid)\n",
    "\n",
    "    print(\"-\" * 50)\n",
    "    print(\n",
    "        \"Validation epoch {}\\n\\tLoss:\\t{:.5f} Accuracy:\\t{:.5f}\".format(\n",
    "            epoch, validation_loss, validation_accuracy\n",
    "        ))\n",
    "    return validation_accuracy, validation_loss"
   ]
  },
  {
   "cell_type": "code",
   "execution_count": 14,
   "metadata": {},
   "outputs": [],
   "source": [
    "# test loop\n",
    "def test(model, device, test_loader, criterion):\n",
    "    model.eval()\n",
    "    ans = []\n",
    "    with torch.no_grad():\n",
    "        for data in test_loader:\n",
    "            data = data.to(device)\n",
    "            output = model(data)\n",
    "            preds = torch.argmax(output, 1)\n",
    "            ans.append(preds)\n",
    "    return ans"
   ]
  },
  {
   "cell_type": "code",
   "execution_count": null,
   "metadata": {},
   "outputs": [],
   "source": [
    "# use TSNE to visualize clustering of observations\n",
    "from matplotlib import cm\n",
    "from sklearn.manifold import TSNE\n",
    "\n",
    "\n",
    "def plot_with_labels(low_d_weights, labels):\n",
    "    fig = plt.figure(figsize=(15, 10))\n",
    "    X, Y = low_d_weights[:, 0], low_d_weights[:, 1]\n",
    "    for x, y, s in zip(X, Y, labels):\n",
    "        c = cm.rainbow(int(255 * s / 9))\n",
    "        plt.text(x, y, s, backgroundcolor=c, fontsize=9)\n",
    "    plt.xlim(X.min(), X.max())\n",
    "    plt.ylim(Y.min(), Y.max())\n",
    "    plt.title(\"Visualize last layer\")\n",
    "    plt.show()\n",
    "\n",
    "\n",
    "# execute CNN\n",
    "for epoch in range(epoch):\n",
    "    for step, (x, y) in enumerate(train_loader):\n",
    "        b_x = Variable(x)\n",
    "        b_y = Variable(y)\n",
    "\n",
    "        output = cnn(b_x)[0]  # cnn output\n",
    "        loss = loss_func(output, b_y)  # cross entropy loss\n",
    "        optimizer.zero_grad()  # clear gradients for this training step\n",
    "        loss.backward()  # backpropagation, computes gradients\n",
    "        optimizer.step()  # apply gradients\n",
    "\n",
    "        if step % 300 == 0:\n",
    "            test_output, last_layer = cnn(test_x)\n",
    "            pred_y = torch.max(test_output, 1)[1].data.squeeze()\n",
    "            accuracy = (pred_y == test_y).sum().item() / float(test_y.size(0))\n",
    "            print(\n",
    "                \"Step: {} | train loss : {} | test accuracy: {}\".format(\n",
    "                    step, loss.data.item(), accuracy\n",
    "                )\n",
    "            )\n",
    "\n",
    "            tsne = TSNE(perplexity=30, n_components=2, init=\"pca\", n_iter=5000)\n",
    "            plot_only = 500\n",
    "            low_dim_embs = tsne.fit_transform(last_layer.data.numpy()[:plot_only, :])\n",
    "            labels = test_y.numpy()[:plot_only]\n",
    "            plot_with_labels(low_dim_embs, labels)\n",
    "# plt.ioff()"
   ]
  },
  {
   "cell_type": "markdown",
   "metadata": {},
   "source": [
    "## Training"
   ]
  },
  {
   "cell_type": "markdown",
   "metadata": {},
   "source": [
    "<a id = 'Training'></a>"
   ]
  },
  {
   "cell_type": "code",
   "execution_count": 15,
   "metadata": {},
   "outputs": [],
   "source": [
    "# initialize model, criterion and optimizer\n",
    "net = MyCNN()\n",
    "criterion = nn.CrossEntropyLoss()\n",
    "optimizer = optim.Adam(net.parameters())\n",
    "\n",
    "# set device to cuda if a GPU is available\n",
    "device = torch.device(\"cuda\" if torch.cuda.is_available() else \"cpu\")\n",
    "model = net.to(device)\n",
    "bestWeights = copy.deepcopy(model.state_dict())"
   ]
  },
  {
   "cell_type": "code",
   "execution_count": null,
   "metadata": {},
   "outputs": [],
   "source": [
    "# execute train and validation loops\n",
    "bestAccuracy = 0.0\n",
    "epochs = 100\n",
    "start = time.time()\n",
    "\n",
    "writer = SummaryWriter()\n",
    "for epoch in range(epochs):\n",
    "    # train fit\n",
    "    training_accuracy, training_loss = train(\n",
    "        model=model,\n",
    "        device=device,\n",
    "        train_loader=train_loader,\n",
    "        optimizer=optimizer,\n",
    "        criterion=criterion,\n",
    "        start=start,\n",
    "        epoch=epoch,\n",
    "    )\n",
    "\n",
    "    # validation fit\n",
    "    validation_accuracy, validation_loss = valid(\n",
    "        model=model, device=device, valid_loader=valid_loader, criterion=criterion\n",
    "    )\n",
    "\n",
    "    #     writer.add_scalars('data/scalar_group', {'xsinx': n_iter * np.sin(n_iter),\n",
    "    #                                              'xcosx': n_iter * np.cos(n_iter),\n",
    "    #                                              'arctanx': np.arctan(n_iter)}, n_iter)\n",
    "\n",
    "    # collect loss scalars for TensorBoarder\n",
    "    writer.add_scalars(\n",
    "        \"data/loss\", {\"training\": training_loss, \"validation\": validation_loss}, epoch\n",
    "    )\n",
    "    # collect accuracy scalars for TensorBoarder\n",
    "    writer.add_scalars(\n",
    "        \"data/accuracy\",\n",
    "        {\"training\": training_accuracy, \"validation\": validation_accuracy},\n",
    "        epoch,\n",
    "    )\n",
    "\n",
    "    #     writer.add_scalar('data/training_loss', training_loss, epoch)\n",
    "    #     writer.add_scalar('data/training_accuracy', training_accuracy, epoch)\n",
    "\n",
    "    # evaluate and update best accuracy\n",
    "    if bestAccuracy < validation_accuracy:\n",
    "        bestAccuracy = validation_accuracy\n",
    "        bestWeights = copy.deepcopy(model.state_dict())\n",
    "        print(\"Accuracy improved\\n\\n\")\n",
    "    else:\n",
    "        print(\"No improvement\\n\\n\")\n",
    "print(\"Training complated:\")\n",
    "timer(start, time.time())\n",
    "print(\"Best validation accuracy: {:4f}\".format(bestAccuracy))\n",
    "\n",
    "# export TensorBoard data\n",
    "writer.export_scalars_to_json(\"all_scalars.json\")\n",
    "writer.close()\n",
    "\n",
    "# save entire model\n",
    "torch.save(model, \"saved_model.pth\")"
   ]
  },
  {
   "cell_type": "markdown",
   "metadata": {},
   "source": [
    "## Testing"
   ]
  },
  {
   "cell_type": "markdown",
   "metadata": {},
   "source": [
    "<a id = 'Testing'></a>"
   ]
  },
  {
   "cell_type": "code",
   "execution_count": null,
   "metadata": {},
   "outputs": [],
   "source": [
    "# evaluate model using test data\n",
    "ans = test(model=model, device=device, test_loader=test_loader, criterion=criterion)\n",
    "ans = torch.cat(ans).cpu().numpy()"
   ]
  },
  {
   "cell_type": "markdown",
   "metadata": {},
   "source": [
    "# Explanability"
   ]
  },
  {
   "cell_type": "markdown",
   "metadata": {},
   "source": [
    "<a id = 'Explanability'></a>"
   ]
  },
  {
   "cell_type": "code",
   "execution_count": null,
   "metadata": {},
   "outputs": [],
   "source": [
    "shap.DeepExplainer"
   ]
  },
  {
   "cell_type": "markdown",
   "metadata": {},
   "source": [
    "LIME\n",
    "\n",
    "image section: https://github.com/marcotcr/lime"
   ]
  },
  {
   "cell_type": "markdown",
   "metadata": {},
   "source": [
    "# TensorBoard"
   ]
  },
  {
   "cell_type": "markdown",
   "metadata": {},
   "source": [
    "<a id = 'TensorBoard'></a>"
   ]
  },
  {
   "cell_type": "code",
   "execution_count": 21,
   "metadata": {},
   "outputs": [],
   "source": [
    "#\n",
    "train_iter = iter(train_loader)\n",
    "images, labels = train_iter.next()\n",
    "\n",
    "grid = torchvision.utils.make_grid(images)"
   ]
  },
  {
   "cell_type": "code",
   "execution_count": 22,
   "metadata": {},
   "outputs": [],
   "source": [
    "#\n",
    "from torch.utils.tensorboard import SummaryWriter\n",
    "\n",
    "writer = SummaryWriter()"
   ]
  },
  {
   "cell_type": "code",
   "execution_count": 23,
   "metadata": {},
   "outputs": [],
   "source": [
    "#\n",
    "for n_iter in range(100):\n",
    "\n",
    "    dummy_s1 = torch.rand(1)\n",
    "    dummy_s2 = torch.rand(1)\n",
    "    # data grouping by `slash`\n",
    "    writer.add_scalar(\"data/scalar1\", dummy_s1[0], n_iter)\n",
    "    writer.add_scalar(\"data/scalar2\", dummy_s2[0], n_iter)\n",
    "\n",
    "    writer.add_scalars(\n",
    "        \"data/scalar_group\",\n",
    "        {\n",
    "            \"xsinx\": n_iter * np.sin(n_iter),\n",
    "            \"xcosx\": n_iter * np.cos(n_iter),\n",
    "            \"arctanx\": np.arctan(n_iter),\n",
    "        },\n",
    "        n_iter,\n",
    "    )"
   ]
  },
  {
   "cell_type": "code",
   "execution_count": 24,
   "metadata": {},
   "outputs": [],
   "source": [
    "#\n",
    "writer.export_scalars_to_json(\"all_scalars.json\")\n",
    "writer.add_image(\"images\", grid, 0)\n",
    "writer.add_graph(model, images)"
   ]
  },
  {
   "cell_type": "code",
   "execution_count": 18,
   "metadata": {},
   "outputs": [],
   "source": [
    "#\n",
    "writer.close()"
   ]
  },
  {
   "cell_type": "markdown",
   "metadata": {},
   "source": [
    "# Submission"
   ]
  },
  {
   "cell_type": "markdown",
   "metadata": {},
   "source": [
    "<a id = 'Submission'></a>"
   ]
  },
  {
   "cell_type": "code",
   "execution_count": null,
   "metadata": {},
   "outputs": [],
   "source": [
    "# .oad entire model\n",
    "model = torch.load(\"saved_model.pth\")"
   ]
  },
  {
   "cell_type": "code",
   "execution_count": null,
   "metadata": {},
   "outputs": [],
   "source": [
    "#\n",
    "results = pd.read_csv(\"data/sample_submission.csv\")\n",
    "results[\"Label\"] = ans\n",
    "\n",
    "results.to_csv(\"data/submission.csv\", index=False)"
   ]
  },
  {
   "cell_type": "markdown",
   "metadata": {},
   "source": [
    "# Misc"
   ]
  },
  {
   "cell_type": "code",
   "execution_count": null,
   "metadata": {},
   "outputs": [],
   "source": [
    "class MyCNN(nn.Module):\n",
    "    def __init__(self):\n",
    "        super(MyCNN, self).__init__()\n",
    "        self.features = nn.Sequential(\n",
    "            nn.Conv2d(1, 32, kernel_size=5, stride=1, padding=0),\n",
    "            nn.ReLU(True),\n",
    "            nn.Conv2d(32, 32, kernel_size=5, stride=1, padding=0),\n",
    "            nn.ReLU(True),\n",
    "            nn.MaxPool2d(2, stride=2),\n",
    "            nn.Dropout2d(p=0.25),\n",
    "            nn.Conv2d(32, 64, kernel_size=3, stride=1, padding=0),\n",
    "            nn.ReLU(True),\n",
    "            nn.Conv2d(64, 64, kernel_size=3, stride=1, padding=0),\n",
    "            nn.ReLU(True),\n",
    "            nn.MaxPool2d(2, stride=2),\n",
    "            nn.Dropout2d(p=0.25),\n",
    "        )\n",
    "\n",
    "        self.fc = nn.Sequential(\n",
    "            nn.Linear(64 * 3 * 3, 256),\n",
    "            nn.ReLU(True),\n",
    "            nn.Dropout(0.5),\n",
    "            nn.Linear(256, 10),\n",
    "        )\n",
    "\n",
    "    def forward(self, x):\n",
    "        x = self.features(x)\n",
    "        x = x.view(x.size(0), -1)\n",
    "        x = self.fc(x)\n",
    "        return x"
   ]
  },
  {
   "cell_type": "code",
   "execution_count": null,
   "metadata": {},
   "outputs": [],
   "source": [
    "#\n",
    "batch_size = 8\n",
    "n_classes = 10\n",
    "\n",
    "x = torch.randn(batch_size, n_classes, requires_grad=True)\n",
    "print(x)\n",
    "\n",
    "# predictions\n",
    "output = F.log_softmax(x, dim=a1)\n",
    "print(output)\n",
    "\n",
    "# actuals\n",
    "target = torch.LongTensor(batch_size).random_(n_classes)\n",
    "print(target)\n",
    "\n",
    "preds = []\n",
    "targets = []\n",
    "for i in range(batch_size):\n",
    "    output = F.log_softmax(torch.randn(batch_size, n_classes), dim=1)\n",
    "    target = torch.LongTensor(batch_size).random_(n_classes)\n",
    "\n",
    "    _, pred = torch.max(output, dim=1)\n",
    "    preds.append(pred.data)\n",
    "    targets.append(target.data)\n",
    "\n",
    "torch.cat(preds)\n",
    "torch.cat(targets)"
   ]
  }
 ],
 "metadata": {
  "kernelspec": {
   "display_name": "Python 3",
   "language": "python",
   "name": "python3"
  },
  "language_info": {
   "codemirror_mode": {
    "name": "ipython",
    "version": 3
   },
   "file_extension": ".py",
   "mimetype": "text/x-python",
   "name": "python",
   "nbconvert_exporter": "python",
   "pygments_lexer": "ipython3",
   "version": "3.7.0"
  },
  "toc": {
   "base_numbering": 1,
   "nav_menu": {},
   "number_sections": true,
   "sideBar": true,
   "skip_h1_title": false,
   "title_cell": "Table of Contents",
   "title_sidebar": "Contents",
   "toc_cell": false,
   "toc_position": {},
   "toc_section_display": true,
   "toc_window_display": false
  }
 },
 "nbformat": 4,
 "nbformat_minor": 2
}
