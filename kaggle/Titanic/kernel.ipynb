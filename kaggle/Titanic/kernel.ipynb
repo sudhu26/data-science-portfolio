{
 "cells": [
  {
   "cell_type": "markdown",
   "metadata": {
    "Collapsed": "false"
   },
   "source": [
    "__Kaggle competition - Titanic survivorship__\n",
    "\n",
    "1. [Import](#Import)\n",
    "    1. [Tools](#Tools)\n",
    "    1. [Data](#Data)    \n",
    "1. [EDA](#EDA)\n",
    "    1. [Category feature EDA](#category-feature-EDA)\n",
    "    1. [Count feature EDA](#Count-feature-EDA)\n",
    "    1. [Continuous feature EDA](#Continuous-feature-EDA)\n",
    "    1. [Faceting](#Faceting)\n",
    "    1. [Target variable evaluation](#Target-variable-evaluation)    \n",
    "1. [Data preparation](#Data-preparation)\n",
    "    1. [Missing data](#Missing-data)\n",
    "    1. [Feature engineering](#Feature-engineering)\n",
    "        1. [Handcrafted](#Handcrafted)\n",
    "        1. [Polynomial features](#Polynomial-features)\n",
    "        1. [Encoding](#Encoding)\n",
    "    1. [Feature transformation](#Feature-transformation)\n",
    "        1. [Skew correction](#Skew-correction)\n",
    "        1. [Scaling](#Scaling)     \n",
    "    1. [Outliers](#Outliers)\n",
    "    1. [Additional exploratory data analysis](#Additional-exploratory-data-analysis)\n",
    "1. [Feature selection](#Feature-selection)    \n",
    "1. [Modeling](#Modeling)\n",
    "    1. [Data preparation](#Data-preparation-1)\n",
    "    1. [Bayesian hyper-parameter optimization](#Bayesian-hyper-parameter-optimization)\n",
    "    1. [Model performance evaluation - standard models](#Model-performance-evaluation-standard-models)\n",
    "    1. [Model explanability](#Model-explanability)\n",
    "    1. [Submission - standard models](#Submission-standard-models)\n",
    "1. [Stacking](#Stacking)\n",
    "    1. [Primary models](#Primary-models)\n",
    "    1. [Meta model](#Meta-model)                \n",
    "    1. [Model performance evaluation - stacked models](#Model-performance-evaluation-stacked-models)\n",
    "    1. [Submission - stacked models](#Submission-stacked-models)    "
   ]
  },
  {
   "cell_type": "markdown",
   "metadata": {
    "Collapsed": "true"
   },
   "source": [
    "# Import"
   ]
  },
  {
   "cell_type": "markdown",
   "metadata": {
    "Collapsed": "false"
   },
   "source": [
    "<a id = 'Import'></a>"
   ]
  },
  {
   "cell_type": "markdown",
   "metadata": {
    "Collapsed": "false",
    "heading_collapsed": true
   },
   "source": [
    "## Tools"
   ]
  },
  {
   "cell_type": "markdown",
   "metadata": {
    "Collapsed": "false",
    "hidden": true
   },
   "source": [
    "<a id = 'Tools'></a>"
   ]
  },
  {
   "cell_type": "code",
   "execution_count": null,
   "metadata": {
    "Collapsed": "false",
    "ExecuteTime": {
     "end_time": "2020-01-29T05:30:47.538999Z",
     "start_time": "2020-01-29T05:30:45.645214Z"
    },
    "hidden": true
   },
   "outputs": [],
   "source": [
    "# standard libary and settings\n",
    "import copy\n",
    "import os\n",
    "import sys\n",
    "import importlib\n",
    "import itertools\n",
    "from functools import reduce\n",
    "import time; rundate = time.strftime(\"%Y%m%d\")\n",
    "\n",
    "import warnings\n",
    "warnings.simplefilter(\"ignore\")\n",
    "\n",
    "from IPython.core.display import display, HTML\n",
    "display(HTML(\"<style>.container { width:95% !important; }</style>\"))\n",
    "\n",
    "# data extensions and settings\n",
    "import numpy as np\n",
    "np.set_printoptions(threshold=np.inf, suppress=True)\n",
    "\n",
    "import pandas as pd\n",
    "pd.set_option(\"display.max_rows\", 500); pd.set_option(\"display.max_columns\", 500)\n",
    "pd.options.display.float_format = \"{:,.6f}\".format\n",
    "\n",
    "# modeling extensions\n",
    "import sklearn.base as base\n",
    "import sklearn.datasets as datasets\n",
    "import sklearn.ensemble as ensemble\n",
    "import sklearn.impute as impute\n",
    "import sklearn.linear_model as linear_model\n",
    "import sklearn.model_selection as model_selection\n",
    "import sklearn.neighbors as neighbors\n",
    "import sklearn.pipeline as pipeline\n",
    "import sklearn.preprocessing as preprocessing\n",
    "import sklearn.svm as svm\n",
    "import category_encoders as ce\n",
    "\n",
    "import lightgbm\n",
    "import xgboost\n",
    "\n",
    "from hyperopt import hp\n",
    "\n",
    "import eif\n",
    "import shap\n",
    "shap.initjs()\n",
    "\n",
    "# visualization extensions and settings\n",
    "import seaborn as sns\n",
    "import matplotlib.pyplot as plt\n",
    "import missingno as msno\n",
    "import squarify\n",
    "\n",
    "%matplotlib inline\n",
    "\n",
    "try:\n",
    "    #     import mlmachine as mlm\n",
    "    #     from prettierplot.plotter import PrettierPlot\n",
    "    #     import prettierplot.style as style\n",
    "    import asdfasd\n",
    "except ModuleNotFoundError:\n",
    "    sys.path.append(\n",
    "        \"../../../mlmachine\"\n",
    "    ) if \"../../../../mlmachine\" not in sys.path else None\n",
    "    sys.path.append(\n",
    "        \"../../../prettierplot\"\n",
    "    ) if \"../../../../prettierplot\" not in sys.path else None\n",
    "\n",
    "    import mlmachine as mlm\n",
    "    import mlmachine.data as data\n",
    "    from mlmachine.features.preprocessing import (\n",
    "        DataFrameSelector,\n",
    "        PandasPipeline,\n",
    "        KFoldSelectEncoder,\n",
    "        ContextImputer,\n",
    "        PandasFeatureUnion,\n",
    "        DualTransformer,\n",
    "    )\n",
    "    from prettierplot.plotter import PrettierPlot\n",
    "    import prettierplot.style as style\n",
    "else:\n",
    "    print(\n",
    "        \"This notebook relies on the libraries mlmachine and prettierplot. Please run:\"\n",
    "    )\n",
    "    print(\"\\tpip install mlmachine\")\n",
    "    print(\"\\tpip install prettierplot\")"
   ]
  },
  {
   "cell_type": "markdown",
   "metadata": {
    "Collapsed": "false"
   },
   "source": [
    "## Data"
   ]
  },
  {
   "cell_type": "markdown",
   "metadata": {
    "Collapsed": "false"
   },
   "source": [
    "<a id = 'Data'></a>"
   ]
  },
  {
   "cell_type": "code",
   "execution_count": null,
   "metadata": {
    "Collapsed": "false",
    "ExecuteTime": {
     "end_time": "2020-01-29T05:30:47.567765Z",
     "start_time": "2020-01-29T05:30:47.541867Z"
    }
   },
   "outputs": [],
   "source": [
    "# load data and print dimensions\n",
    "df_train, df_valid = data.titanic()\n",
    "\n",
    "print(\"Training data dimensions: {}\".format(df_train.shape))\n",
    "print(\"Validation data dimensions: {}\".format(df_valid.shape))"
   ]
  },
  {
   "cell_type": "code",
   "execution_count": null,
   "metadata": {
    "Collapsed": "false",
    "ExecuteTime": {
     "end_time": "2020-01-29T05:30:47.597236Z",
     "start_time": "2020-01-29T05:30:47.571473Z"
    }
   },
   "outputs": [],
   "source": [
    "# display info and first 5 rows\n",
    "df_train.info()\n",
    "display(df_train[:5])"
   ]
  },
  {
   "cell_type": "code",
   "execution_count": null,
   "metadata": {
    "Collapsed": "false",
    "ExecuteTime": {
     "end_time": "2020-01-29T05:30:47.607619Z",
     "start_time": "2020-01-29T05:30:47.599780Z"
    }
   },
   "outputs": [],
   "source": [
    "# review counts of different column types\n",
    "df_train.dtypes.value_counts()"
   ]
  },
  {
   "cell_type": "code",
   "execution_count": null,
   "metadata": {
    "Collapsed": "false",
    "ExecuteTime": {
     "end_time": "2020-01-29T05:30:47.640588Z",
     "start_time": "2020-01-29T05:30:47.615230Z"
    }
   },
   "outputs": [],
   "source": [
    "# Load training data into mlmachine\n",
    "ordinal_encodings = {\n",
    "        \"Pclass\": [1, 2, 3], # Pclass\n",
    "    }\n",
    "\n",
    "train = mlm.Machine(\n",
    "    data=df_train,\n",
    "    target=\"Survived\",\n",
    "    remove_features=[\"PassengerId\", \"Ticket\"],\n",
    "    identify_as_continuous=[\"Age\",\"Fare\"],\n",
    "    identify_as_count=[\"Parch\",\"SibSp\"],\n",
    "    identify_as_nominal=[\"Cabin\",\"Embarked\",\"Name\"],\n",
    "    identify_as_ordinal=[\"Pclass\"],\n",
    "    ordinal_encodings = ordinal_encodings,\n",
    "    target_type=\"category\",\n",
    ")"
   ]
  },
  {
   "cell_type": "code",
   "execution_count": null,
   "metadata": {
    "Collapsed": "false",
    "ExecuteTime": {
     "end_time": "2020-01-29T05:30:47.660253Z",
     "start_time": "2020-01-29T05:30:47.643133Z"
    }
   },
   "outputs": [],
   "source": [
    "# load training data into mlmachine\n",
    "valid = mlm.Machine(\n",
    "    data=df_valid,\n",
    "    remove_features=[\"PassengerId\", \"Ticket\"],\n",
    "    identify_as_continuous=[\"Age\",\"Fare\"],\n",
    "    identify_as_count=[\"Parch\",\"SibSp\"],\n",
    "    identify_as_nominal=[\"Cabin\",\"Embarked\",\"Name\"],\n",
    "    identify_as_ordinal=[\"Pclass\"],\n",
    "    ordinal_encodings = ordinal_encodings,    \n",
    ")"
   ]
  },
  {
   "cell_type": "markdown",
   "metadata": {
    "Collapsed": "false",
    "heading_collapsed": true
   },
   "source": [
    "# EDA"
   ]
  },
  {
   "cell_type": "markdown",
   "metadata": {
    "Collapsed": "false",
    "hidden": true
   },
   "source": [
    "<a id = 'EDA'></a>"
   ]
  },
  {
   "cell_type": "markdown",
   "metadata": {
    "Collapsed": "false",
    "heading_collapsed": true,
    "hidden": true
   },
   "source": [
    "## Category feature EDA"
   ]
  },
  {
   "cell_type": "markdown",
   "metadata": {
    "Collapsed": "false",
    "hidden": true
   },
   "source": [
    "<a id = 'category-feature-EDA'></a>"
   ]
  },
  {
   "cell_type": "code",
   "execution_count": null,
   "metadata": {
    "ExecuteTime": {
     "end_time": "2020-01-29T04:58:07.600764Z",
     "start_time": "2020-01-29T04:58:05.692512Z"
    },
    "hidden": true,
    "scrolled": false
   },
   "outputs": [],
   "source": [
    "# number features\n",
    "for feature in train.data.mlm_dtypes[\"category\"]:\n",
    "    train.eda_cat_target_cat_feat(\n",
    "        feature=feature,\n",
    "        level_count_cap=10,\n",
    "        legend_labels=[\"Died\",\"Survived\"],\n",
    "        chart_scale=15\n",
    "    )"
   ]
  },
  {
   "cell_type": "markdown",
   "metadata": {
    "Collapsed": "false",
    "heading_collapsed": true,
    "hidden": true
   },
   "source": [
    "## Count feature EDA"
   ]
  },
  {
   "cell_type": "markdown",
   "metadata": {
    "Collapsed": "false",
    "hidden": true
   },
   "source": [
    "<a id = 'Count-feature-EDA'></a>"
   ]
  },
  {
   "cell_type": "code",
   "execution_count": null,
   "metadata": {
    "ExecuteTime": {
     "end_time": "2020-01-29T04:58:09.044921Z",
     "start_time": "2020-01-29T04:58:07.606431Z"
    },
    "hidden": true,
    "scrolled": false
   },
   "outputs": [],
   "source": [
    "# number features\n",
    "for feature in train.data.mlm_dtypes[\"count\"]:\n",
    "    train.eda_cat_target_cat_feat(\n",
    "        feature=feature,\n",
    "        level_count_cap=10,\n",
    "        legend_labels=[\"Died\",\"Survived\"],\n",
    "        chart_scale=15\n",
    "    )"
   ]
  },
  {
   "cell_type": "markdown",
   "metadata": {
    "Collapsed": "false",
    "heading_collapsed": true,
    "hidden": true
   },
   "source": [
    "## Continuous feature EDA"
   ]
  },
  {
   "cell_type": "markdown",
   "metadata": {
    "Collapsed": "false",
    "hidden": true
   },
   "source": [
    "<a id = 'Continuous-feature-EDA'></a>"
   ]
  },
  {
   "cell_type": "code",
   "execution_count": null,
   "metadata": {
    "Collapsed": "false",
    "ExecuteTime": {
     "end_time": "2020-01-29T04:58:11.437722Z",
     "start_time": "2020-01-29T04:58:09.049738Z"
    },
    "hidden": true,
    "scrolled": true
   },
   "outputs": [],
   "source": [
    "# continuous features\n",
    "for feature in train.data.mlm_dtypes[\"continuous\"]:\n",
    "    train.eda_cat_target_num_feat(\n",
    "        feature=feature,\n",
    "        outliers_out_of_scope=5,\n",
    "        legend_labels=[\"Died\",\"Survived\"],\n",
    "        chart_scale=12\n",
    "    )"
   ]
  },
  {
   "cell_type": "markdown",
   "metadata": {
    "Collapsed": "false",
    "heading_collapsed": true,
    "hidden": true
   },
   "source": [
    "##### Correlation"
   ]
  },
  {
   "cell_type": "code",
   "execution_count": null,
   "metadata": {
    "Collapsed": "false",
    "ExecuteTime": {
     "end_time": "2020-01-29T04:58:11.790929Z",
     "start_time": "2020-01-29T04:58:11.440496Z"
    },
    "hidden": true
   },
   "outputs": [],
   "source": [
    "# correlation heat map\n",
    "p = PrettierPlot()\n",
    "ax = p.make_canvas()\n",
    "p.corr_heatmap(df=train.data, annot=True, ax=ax)"
   ]
  },
  {
   "cell_type": "code",
   "execution_count": null,
   "metadata": {
    "Collapsed": "false",
    "ExecuteTime": {
     "end_time": "2020-01-29T04:58:12.074928Z",
     "start_time": "2020-01-29T04:58:11.793293Z"
    },
    "hidden": true
   },
   "outputs": [],
   "source": [
    "# correlation heat map with most highly correlated features relative to the target\n",
    "p = PrettierPlot(plot_orientation='tall',chart_scale=10)\n",
    "ax = p.make_canvas()\n",
    "p.corr_heatmap_target(\n",
    "    df=train.data,\n",
    "    target=train.target,\n",
    "    thresh=0.01,\n",
    "    annot=True,\n",
    "    ax=ax,\n",
    ")"
   ]
  },
  {
   "cell_type": "code",
   "execution_count": null,
   "metadata": {
    "Collapsed": "false",
    "ExecuteTime": {
     "end_time": "2020-01-29T04:58:13.311724Z",
     "start_time": "2020-01-29T04:58:12.077194Z"
    },
    "hidden": true
   },
   "outputs": [],
   "source": [
    "# pair plot\n",
    "p = PrettierPlot(chart_scale=15)\n",
    "p.pair_plot(\n",
    "    df=train.data[[\"Age\",\"Fare\"]],\n",
    "    target=train.target,\n",
    "    diag_kind=\"auto\",\n",
    "    legend_labels=[\"Died\",\"Survived\"],\n",
    ")"
   ]
  },
  {
   "cell_type": "markdown",
   "metadata": {
    "Collapsed": "false",
    "heading_collapsed": true,
    "hidden": true
   },
   "source": [
    "## Faceting"
   ]
  },
  {
   "cell_type": "markdown",
   "metadata": {
    "Collapsed": "false",
    "hidden": true
   },
   "source": [
    "<a id = 'Faceting'></a>"
   ]
  },
  {
   "cell_type": "code",
   "execution_count": null,
   "metadata": {
    "Collapsed": "false",
    "ExecuteTime": {
     "end_time": "2020-01-29T04:58:13.810034Z",
     "start_time": "2020-01-29T04:58:13.314672Z"
    },
    "hidden": true
   },
   "outputs": [],
   "source": [
    "# facet Pclass vs Embarked\n",
    "p = PrettierPlot(chart_scale=12)\n",
    "ax = p.make_canvas(title=\"Survivorship, embark location by passenger class\", y_shift=0.7)\n",
    "p.facet_two_cat_bar(\n",
    "    df=train.recombine_data(train.data, train.target),\n",
    "    x=\"Embarked\",\n",
    "    y=train.target.name,\n",
    "    split=\"Pclass\",\n",
    "    y_units=\"ff\",\n",
    "    ax=ax,\n",
    ")"
   ]
  },
  {
   "cell_type": "code",
   "execution_count": null,
   "metadata": {
    "Collapsed": "false",
    "ExecuteTime": {
     "end_time": "2020-01-29T04:58:14.082564Z",
     "start_time": "2020-01-29T04:58:13.812419Z"
    },
    "hidden": true
   },
   "outputs": [],
   "source": [
    "# facet Pclass vs Embarked\n",
    "p = PrettierPlot(chart_scale=12)\n",
    "ax = p.make_canvas(title=\"Survivorship, passenger class by gender\", y_shift=0.7)\n",
    "p.facet_two_cat_bar(\n",
    "    df=train.recombine_data(train.data, train.target),\n",
    "    x=\"Pclass\",\n",
    "    y=train.target.name,\n",
    "    split=\"Sex\",\n",
    "    y_units=\"ff\",\n",
    "    ax=ax,\n",
    ")"
   ]
  },
  {
   "cell_type": "code",
   "execution_count": null,
   "metadata": {
    "Collapsed": "false",
    "ExecuteTime": {
     "end_time": "2020-01-29T04:58:14.349068Z",
     "start_time": "2020-01-29T04:58:14.084893Z"
    },
    "hidden": true
   },
   "outputs": [],
   "source": [
    "# facet Pclass vs Embarked\n",
    "p = PrettierPlot(chart_scale=12)\n",
    "ax = p.make_canvas(title=\"Survivorship,embark location by gender\", y_shift=0.7)\n",
    "p.facet_two_cat_bar(\n",
    "    df=train.recombine_data(train.data, train.target),\n",
    "    x=\"Embarked\",\n",
    "    y=train.target.name,\n",
    "    split=\"Sex\",\n",
    "    y_units=\"ff\",\n",
    "    ax=ax,\n",
    ")"
   ]
  },
  {
   "cell_type": "code",
   "execution_count": null,
   "metadata": {
    "Collapsed": "false",
    "ExecuteTime": {
     "end_time": "2020-01-29T04:58:14.944381Z",
     "start_time": "2020-01-29T04:58:14.351412Z"
    },
    "hidden": true
   },
   "outputs": [],
   "source": [
    "#\n",
    "p = PrettierPlot()\n",
    "p.facet_two_cat_point(\n",
    "    df=train.recombine_data(train.data, train.target),\n",
    "    x=\"Sex\",\n",
    "    y=train.target.name,\n",
    "    split=\"Pclass\",\n",
    "    cat_col=\"Embarked\",\n",
    "    aspect=1.0,\n",
    "    height=5,\n",
    "    bbox=(1.3, 1.2),\n",
    "    legend_labels=[\"1st class\", \"2nd class\", \"3rd class\"],\n",
    ")"
   ]
  },
  {
   "cell_type": "code",
   "execution_count": null,
   "metadata": {
    "Collapsed": "false",
    "ExecuteTime": {
     "end_time": "2020-01-29T04:58:15.378029Z",
     "start_time": "2020-01-29T04:58:14.947455Z"
    },
    "hidden": true
   },
   "outputs": [],
   "source": [
    "#\n",
    "p = PrettierPlot()\n",
    "p.facet_two_cat_point(\n",
    "    df=train.recombine_data(train.data, train.target).dropna(subset=[\"Embarked\"]),\n",
    "    x=\"Embarked\",\n",
    "    y=train.target.name,\n",
    "    split=\"Pclass\",\n",
    "    cat_col=\"Sex\",\n",
    "    aspect=1.0,\n",
    "    height=5,\n",
    "    bbox=(1.5, 0.8),\n",
    "    legend_labels=[\"1st class\", \"2nd class\", \"3rd class\"],\n",
    ")"
   ]
  },
  {
   "cell_type": "code",
   "execution_count": null,
   "metadata": {
    "Collapsed": "false",
    "ExecuteTime": {
     "end_time": "2020-01-29T04:58:17.179998Z",
     "start_time": "2020-01-29T04:58:15.380747Z"
    },
    "hidden": true
   },
   "outputs": [],
   "source": [
    "#\n",
    "p = PrettierPlot()\n",
    "p.facet_cat_num_hist(\n",
    "    df=train.recombine_data(train.data, train.target),\n",
    "    split=train.target.name,\n",
    "    legend_labels=[\"Died\", \"Lived\"],\n",
    "    cat_row=\"Sex\",\n",
    "    cat_col=\"Embarked\",\n",
    "    num_col=\"Age\",\n",
    "    bbox=(1.9, 1.0),\n",
    "    height=4,\n",
    "    aspect=1,\n",
    ")"
   ]
  },
  {
   "cell_type": "code",
   "execution_count": null,
   "metadata": {
    "Collapsed": "false",
    "ExecuteTime": {
     "end_time": "2020-01-29T04:58:18.683347Z",
     "start_time": "2020-01-29T04:58:17.182495Z"
    },
    "hidden": true
   },
   "outputs": [],
   "source": [
    "#\n",
    "p = PrettierPlot(chart_scale=15)\n",
    "p.facet_cat_num_scatter(\n",
    "    df=train.recombine_data(train.data, train.target),\n",
    "    split=train.target.name,\n",
    "    legend_labels=[\"Died\", \"Lived\"],\n",
    "    cat_row=\"Sex\",\n",
    "    cat_col=\"Embarked\",\n",
    "    x=\"Fare\",\n",
    "    y=\"Age\",\n",
    "    bbox=(1.9, 1.0),\n",
    "    height=4,\n",
    "    aspect=1,\n",
    ")"
   ]
  },
  {
   "cell_type": "markdown",
   "metadata": {
    "Collapsed": "false",
    "hidden": true
   },
   "source": [
    "## Target variable evaluation"
   ]
  },
  {
   "cell_type": "markdown",
   "metadata": {
    "Collapsed": "false",
    "hidden": true
   },
   "source": [
    "<a id = 'Target-variable-evaluation'></a>"
   ]
  },
  {
   "cell_type": "code",
   "execution_count": null,
   "metadata": {
    "Collapsed": "false",
    "ExecuteTime": {
     "end_time": "2020-01-29T04:58:18.693266Z",
     "start_time": "2020-01-29T04:58:18.685811Z"
    },
    "hidden": true
   },
   "outputs": [],
   "source": [
    "# null score\n",
    "pd.Series(train.target).value_counts(normalize=True)"
   ]
  },
  {
   "cell_type": "markdown",
   "metadata": {
    "Collapsed": "false",
    "heading_collapsed": true
   },
   "source": [
    "# Data preparation"
   ]
  },
  {
   "cell_type": "markdown",
   "metadata": {
    "Collapsed": "false",
    "hidden": true
   },
   "source": [
    "<a id = 'Data-preparation'></a>"
   ]
  },
  {
   "cell_type": "markdown",
   "metadata": {
    "Collapsed": "false",
    "heading_collapsed": true,
    "hidden": true
   },
   "source": [
    "## Missing data\n"
   ]
  },
  {
   "cell_type": "markdown",
   "metadata": {
    "Collapsed": "false",
    "hidden": true
   },
   "source": [
    "<a id = 'Missing-data'></a>"
   ]
  },
  {
   "cell_type": "markdown",
   "metadata": {
    "Collapsed": "false",
    "heading_collapsed": true,
    "hidden": true
   },
   "source": [
    "##### Training"
   ]
  },
  {
   "cell_type": "code",
   "execution_count": null,
   "metadata": {
    "Collapsed": "false",
    "ExecuteTime": {
     "end_time": "2020-01-29T04:58:19.153953Z",
     "start_time": "2020-01-29T04:58:18.695819Z"
    },
    "hidden": true
   },
   "outputs": [],
   "source": [
    "# evaluate missing data\n",
    "train.eda_missing_summary()"
   ]
  },
  {
   "cell_type": "code",
   "execution_count": null,
   "metadata": {
    "Collapsed": "false",
    "ExecuteTime": {
     "end_time": "2020-01-29T04:58:19.809690Z",
     "start_time": "2020-01-29T04:58:19.156301Z"
    },
    "hidden": true
   },
   "outputs": [],
   "source": [
    "# missingno matrix\n",
    "msno.matrix(train.data)"
   ]
  },
  {
   "cell_type": "code",
   "execution_count": null,
   "metadata": {
    "Collapsed": "false",
    "ExecuteTime": {
     "end_time": "2020-01-29T04:58:20.858028Z",
     "start_time": "2020-01-29T04:58:19.820987Z"
    },
    "hidden": true
   },
   "outputs": [],
   "source": [
    "# missingno bar\n",
    "msno.bar(train.data)"
   ]
  },
  {
   "cell_type": "code",
   "execution_count": null,
   "metadata": {
    "Collapsed": "false",
    "ExecuteTime": {
     "end_time": "2020-01-29T04:58:21.402378Z",
     "start_time": "2020-01-29T04:58:20.866199Z"
    },
    "hidden": true
   },
   "outputs": [],
   "source": [
    "# missingno heatmap\n",
    "msno.heatmap(train.data)"
   ]
  },
  {
   "cell_type": "code",
   "execution_count": null,
   "metadata": {
    "Collapsed": "false",
    "ExecuteTime": {
     "end_time": "2020-01-29T04:58:21.902671Z",
     "start_time": "2020-01-29T04:58:21.404645Z"
    },
    "hidden": true
   },
   "outputs": [],
   "source": [
    "# missingno dendrogram\n",
    "msno.dendrogram(train.data)"
   ]
  },
  {
   "cell_type": "markdown",
   "metadata": {
    "Collapsed": "false",
    "heading_collapsed": true,
    "hidden": true
   },
   "source": [
    "##### Validation"
   ]
  },
  {
   "cell_type": "code",
   "execution_count": null,
   "metadata": {
    "Collapsed": "false",
    "ExecuteTime": {
     "end_time": "2020-01-29T04:58:22.590687Z",
     "start_time": "2020-01-29T04:58:21.905028Z"
    },
    "hidden": true
   },
   "outputs": [],
   "source": [
    "# evaluate missing data\n",
    "valid.eda_missing_summary()"
   ]
  },
  {
   "cell_type": "code",
   "execution_count": null,
   "metadata": {
    "Collapsed": "false",
    "ExecuteTime": {
     "end_time": "2020-01-29T04:58:23.217487Z",
     "start_time": "2020-01-29T04:58:22.593119Z"
    },
    "hidden": true
   },
   "outputs": [],
   "source": [
    "# missingno matrix\n",
    "msno.matrix(valid.data)"
   ]
  },
  {
   "cell_type": "code",
   "execution_count": null,
   "metadata": {
    "Collapsed": "false",
    "ExecuteTime": {
     "end_time": "2020-01-29T04:58:24.060490Z",
     "start_time": "2020-01-29T04:58:23.220359Z"
    },
    "hidden": true
   },
   "outputs": [],
   "source": [
    "# missingno bar\n",
    "msno.bar(valid.data)"
   ]
  },
  {
   "cell_type": "code",
   "execution_count": null,
   "metadata": {
    "Collapsed": "false",
    "ExecuteTime": {
     "end_time": "2020-01-29T04:58:24.768544Z",
     "start_time": "2020-01-29T04:58:24.063463Z"
    },
    "hidden": true
   },
   "outputs": [],
   "source": [
    "# missingno heatmap\n",
    "msno.heatmap(valid.data)"
   ]
  },
  {
   "cell_type": "code",
   "execution_count": null,
   "metadata": {
    "Collapsed": "false",
    "ExecuteTime": {
     "end_time": "2020-01-29T04:58:25.289335Z",
     "start_time": "2020-01-29T04:58:24.770933Z"
    },
    "hidden": true
   },
   "outputs": [],
   "source": [
    "# missingno dendrogram\n",
    "msno.dendrogram(valid.data)"
   ]
  },
  {
   "cell_type": "markdown",
   "metadata": {
    "Collapsed": "false",
    "heading_collapsed": true,
    "hidden": true
   },
   "source": [
    "##### Training vs. validation\n"
   ]
  },
  {
   "cell_type": "code",
   "execution_count": null,
   "metadata": {
    "Collapsed": "false",
    "ExecuteTime": {
     "end_time": "2020-01-29T04:58:25.300921Z",
     "start_time": "2020-01-29T04:58:25.291940Z"
    },
    "hidden": true
   },
   "outputs": [],
   "source": [
    "# compare feature with missing data\n",
    "train.missing_col_compare(train=train.data, validation=valid.data)"
   ]
  },
  {
   "cell_type": "markdown",
   "metadata": {
    "Collapsed": "false",
    "heading_collapsed": true,
    "hidden": true
   },
   "source": [
    "##### Impute"
   ]
  },
  {
   "cell_type": "code",
   "execution_count": null,
   "metadata": {
    "ExecuteTime": {
     "end_time": "2020-01-29T04:58:25.313777Z",
     "start_time": "2020-01-29T04:58:25.303611Z"
    },
    "hidden": true
   },
   "outputs": [],
   "source": [
    "train.data.info()"
   ]
  },
  {
   "cell_type": "code",
   "execution_count": null,
   "metadata": {
    "Collapsed": "false",
    "ExecuteTime": {
     "end_time": "2020-01-29T04:58:25.369298Z",
     "start_time": "2020-01-29T04:58:25.316392Z"
    },
    "hidden": true
   },
   "outputs": [],
   "source": [
    "# impute pipeline\n",
    "impute_pipe = PandasFeatureUnion([\n",
    "    (\"age\", pipeline.make_pipeline(\n",
    "        DataFrameSelector(include_columns=[\"Age\",\"Pclass\"]),\n",
    "        ContextImputer(null_col=\"Age\", context_col=\"Pclass\", strategy=\"mean\")\n",
    "    )),\n",
    "    (\"fare\", pipeline.make_pipeline(\n",
    "        DataFrameSelector(include_columns=[\"Fare\",\"Pclass\"]),\n",
    "        ContextImputer(null_col=\"Fare\", context_col=\"Pclass\")\n",
    "    )),\n",
    "    (\"embarked\", pipeline.make_pipeline(\n",
    "        DataFrameSelector(include_columns=[\"Embarked\"]),\n",
    "        PandasPipeline(impute.SimpleImputer(strategy=\"most_frequent\"))\n",
    "    )),\n",
    "    (\"cabin\", pipeline.make_pipeline(\n",
    "        DataFrameSelector(include_columns=[\"Cabin\"]),\n",
    "        PandasPipeline(impute.SimpleImputer(strategy=\"constant\", fill_value=\"X\"))\n",
    "    )),\n",
    "    (\"diff\", pipeline.make_pipeline(\n",
    "        DataFrameSelector(exclude_columns=[\"Age\",\"Fare\",\"Embarked\",\"Cabin\"])\n",
    "    )),\n",
    "])\n",
    "\n",
    "train.data = impute_pipe.fit_transform(train.data)\n",
    "valid.data = impute_pipe.transform(valid.data)"
   ]
  },
  {
   "cell_type": "code",
   "execution_count": null,
   "metadata": {
    "Collapsed": "false",
    "ExecuteTime": {
     "end_time": "2020-01-29T04:58:25.379335Z",
     "start_time": "2020-01-29T04:58:25.371366Z"
    },
    "hidden": true
   },
   "outputs": [],
   "source": [
    "train.eda_missing_summary()"
   ]
  },
  {
   "cell_type": "code",
   "execution_count": null,
   "metadata": {
    "Collapsed": "false",
    "ExecuteTime": {
     "end_time": "2020-01-29T04:58:25.391245Z",
     "start_time": "2020-01-29T04:58:25.381596Z"
    },
    "hidden": true
   },
   "outputs": [],
   "source": [
    "valid.eda_missing_summary()"
   ]
  },
  {
   "cell_type": "markdown",
   "metadata": {
    "Collapsed": "false",
    "hidden": true
   },
   "source": [
    "## Feature engineering"
   ]
  },
  {
   "cell_type": "markdown",
   "metadata": {
    "Collapsed": "false",
    "hidden": true
   },
   "source": [
    "<a id = 'Feature-engineering'></a>"
   ]
  },
  {
   "cell_type": "markdown",
   "metadata": {
    "Collapsed": "false",
    "heading_collapsed": true,
    "hidden": true
   },
   "source": [
    "### Handcrafted"
   ]
  },
  {
   "cell_type": "markdown",
   "metadata": {
    "Collapsed": "false",
    "hidden": true
   },
   "source": [
    "<a id = 'Handcrafted'></a>"
   ]
  },
  {
   "cell_type": "code",
   "execution_count": null,
   "metadata": {
    "Collapsed": "false",
    "ExecuteTime": {
     "end_time": "2020-01-29T04:58:25.412440Z",
     "start_time": "2020-01-29T04:58:25.393769Z"
    },
    "hidden": true
   },
   "outputs": [],
   "source": [
    "### training data\n",
    "# parse titles to learn gender, and identify rare titles which may convey status\n",
    "title = [i.split(\",\")[1].split(\".\")[0].strip() for i in train.data[\"Name\"]]\n",
    "train.data[\"Title\"] = pd.Series(\n",
    "    title,\n",
    "    index=train.data.index,\n",
    "    dtype=\"object\",\n",
    ")\n",
    "train.data[\"Title\"] = train.data[\"Title\"].replace(\n",
    "    [\n",
    "        \"Lady\",\n",
    "        \"the Countess\",\n",
    "        \"Countess\",\n",
    "        \"Capt\",\n",
    "        \"Col\",\n",
    "        \"Don\",\n",
    "        \"Dr\",\n",
    "        \"Major\",\n",
    "        \"Rev\",\n",
    "        \"Sir\",\n",
    "        \"Jonkheer\",\n",
    "        \"Dona\",\n",
    "    ],\n",
    "    \"Rare\",\n",
    ")\n",
    "train.data[\"Title\"] = train.data[\"Title\"].map(\n",
    "    {\"Master\": 0, \"Miss\": 1, \"Ms\": 1, \"Mme\": 1, \"Mlle\": 1, \"Mrs\": 1, \"Mr\": 2, \"Rare\": 3}\n",
    ")\n",
    "train.data[\"Title\"] = train.data[\"Title\"].astype(\"category\")\n",
    "\n",
    "# distill cabin feature\n",
    "train.data[\"CabinQuarter\"] = pd.Series(\n",
    "    [i[0] if not pd.isnull(i) else \"X\" for i in train.data[\"Cabin\"]],\n",
    "    index=train.data.index,\n",
    "    dtype=\"category\",\n",
    ")\n",
    "\n",
    "# family size features and binning\n",
    "train.data[\"FamilySize\"] = train.data[\"SibSp\"] + train.data[\"Parch\"] + 1\n",
    "train.data[\"FamilySize\"] = train.data[\"FamilySize\"].astype(\"int64\")"
   ]
  },
  {
   "cell_type": "code",
   "execution_count": null,
   "metadata": {
    "Collapsed": "false",
    "ExecuteTime": {
     "end_time": "2020-01-29T04:58:25.432277Z",
     "start_time": "2020-01-29T04:58:25.414916Z"
    },
    "hidden": true
   },
   "outputs": [],
   "source": [
    "### validation data\n",
    "# parse titles to learn gender, and identify rare titles which may convey status\n",
    "title = [i.split(\",\")[1].split(\".\")[0].strip() for i in valid.data[\"Name\"]]\n",
    "valid.data[\"Title\"] = pd.Series(\n",
    "    title,\n",
    "    index=valid.data.index,\n",
    "    dtype=\"object\",\n",
    ")\n",
    "valid.data[\"Title\"] = valid.data[\"Title\"].replace(\n",
    "    [\n",
    "        \"Lady\",\n",
    "        \"the Countess\",\n",
    "        \"Countess\",\n",
    "        \"Capt\",\n",
    "        \"Col\",\n",
    "        \"Don\",\n",
    "        \"Dr\",\n",
    "        \"Major\",\n",
    "        \"Rev\",\n",
    "        \"Sir\",\n",
    "        \"Jonkheer\",\n",
    "        \"Dona\",\n",
    "    ],\n",
    "    \"Rare\",\n",
    ")\n",
    "valid.data[\"Title\"] = valid.data[\"Title\"].map(\n",
    "    {\"Master\": 0, \"Miss\": 1, \"Ms\": 1, \"Mme\": 1, \"Mlle\": 1, \"Mrs\": 1, \"Mr\": 2, \"Rare\": 3}\n",
    ")\n",
    "valid.data[\"Title\"] = valid.data[\"Title\"].astype(\"category\")\n",
    "\n",
    "# distill cabin feature\n",
    "valid.data[\"CabinQuarter\"] = pd.Series(\n",
    "    [i[0] if not pd.isnull(i) else \"X\" for i in valid.data[\"Cabin\"]],\n",
    "    index=valid.data.index,\n",
    "    dtype=\"category\",\n",
    ")\n",
    "\n",
    "# additional features\n",
    "valid.data[\"FamilySize\"] = valid.data[\"SibSp\"] + valid.data[\"Parch\"] + 1\n",
    "valid.data[\"FamilySize\"] = valid.data[\"FamilySize\"].astype(\"int64\")"
   ]
  },
  {
   "cell_type": "markdown",
   "metadata": {
    "Collapsed": "false",
    "heading_collapsed": true,
    "hidden": true
   },
   "source": [
    "### Polynomial features"
   ]
  },
  {
   "cell_type": "markdown",
   "metadata": {
    "Collapsed": "false",
    "hidden": true
   },
   "source": [
    "<a id = 'Polynomial-features'></a>"
   ]
  },
  {
   "cell_type": "code",
   "execution_count": null,
   "metadata": {
    "Collapsed": "false",
    "ExecuteTime": {
     "end_time": "2020-01-29T04:58:25.491229Z",
     "start_time": "2020-01-29T04:58:25.434634Z"
    },
    "hidden": true
   },
   "outputs": [],
   "source": [
    "# transform pipe\n",
    "polynomial_pipe = PandasFeatureUnion([\n",
    "    (\"polynomial\", pipeline.make_pipeline(\n",
    "        DataFrameSelector(include_mlm_dtypes=[\"continuous\"]),\n",
    "        PandasPipeline(preprocessing.PolynomialFeatures(degree=2, interaction_only=False, include_bias=False)),\n",
    "    )),\n",
    "    (\"diff\", pipeline.make_pipeline(\n",
    "        DataFrameSelector(exclude_mlm_dtypes=[\"continuous\"], exclude_columns=[\"Name\",\"Cabin\"]),\n",
    "    )),\n",
    "])\n",
    "\n",
    "train.data = polynomial_pipe.fit_transform(train.data)\n",
    "valid.data = polynomial_pipe.transform(valid.data)\n",
    "\n",
    "train.update_dtypes()\n",
    "valid.update_dtypes()"
   ]
  },
  {
   "cell_type": "markdown",
   "metadata": {
    "Collapsed": "false",
    "heading_collapsed": true,
    "hidden": true
   },
   "source": [
    "### Encoding"
   ]
  },
  {
   "cell_type": "markdown",
   "metadata": {
    "Collapsed": "false",
    "hidden": true
   },
   "source": [
    "<a id = 'Encoding'></a>"
   ]
  },
  {
   "cell_type": "markdown",
   "metadata": {
    "hidden": true
   },
   "source": [
    "##### Evaluate"
   ]
  },
  {
   "cell_type": "code",
   "execution_count": null,
   "metadata": {
    "Collapsed": "false",
    "ExecuteTime": {
     "end_time": "2020-01-29T04:58:25.505301Z",
     "start_time": "2020-01-29T04:58:25.493442Z"
    },
    "hidden": true
   },
   "outputs": [],
   "source": [
    "### training data\n",
    "# counts of unique values in training data string columns\n",
    "train.data[train.data.mlm_dtypes[\"category\"]].apply(pd.Series.nunique, axis=0)"
   ]
  },
  {
   "cell_type": "code",
   "execution_count": null,
   "metadata": {
    "Collapsed": "false",
    "ExecuteTime": {
     "end_time": "2020-01-29T04:58:25.517250Z",
     "start_time": "2020-01-29T04:58:25.507560Z"
    },
    "hidden": true
   },
   "outputs": [],
   "source": [
    "### training data\n",
    "# print unique values in each category columns\n",
    "for col in train.data.mlm_dtypes[\"category\"]:\n",
    "    print(col, np.unique(train.data[col]))"
   ]
  },
  {
   "cell_type": "code",
   "execution_count": null,
   "metadata": {
    "Collapsed": "false",
    "ExecuteTime": {
     "end_time": "2020-01-29T04:58:25.530454Z",
     "start_time": "2020-01-29T04:58:25.519625Z"
    },
    "hidden": true
   },
   "outputs": [],
   "source": [
    "### validation data\n",
    "# counts of unique values in validation data string columns\n",
    "valid.data[valid.data.mlm_dtypes[\"category\"]].apply(pd.Series.nunique, axis=0)"
   ]
  },
  {
   "cell_type": "code",
   "execution_count": null,
   "metadata": {
    "Collapsed": "false",
    "ExecuteTime": {
     "end_time": "2020-01-29T04:58:25.542270Z",
     "start_time": "2020-01-29T04:58:25.533078Z"
    },
    "hidden": true,
    "scrolled": true
   },
   "outputs": [],
   "source": [
    "### validation data\n",
    "# print unique values in each category columns\n",
    "for col in valid.data.mlm_dtypes[\"category\"]:\n",
    "    print(col, np.unique(valid.data[col]))"
   ]
  },
  {
   "cell_type": "code",
   "execution_count": null,
   "metadata": {
    "Collapsed": "false",
    "ExecuteTime": {
     "end_time": "2020-01-29T04:58:25.558054Z",
     "start_time": "2020-01-29T04:58:25.544643Z"
    },
    "hidden": true
   },
   "outputs": [],
   "source": [
    "# identify values that are present in the training data but not the validation data, and vice versa\n",
    "for col in train.data.mlm_dtypes[\"category\"]:\n",
    "    train_values = train.data[col].unique()\n",
    "    valid_values = valid.data[col].unique()\n",
    "\n",
    "    train_diff = set(train_values) - set(valid_values)\n",
    "    valid_diff = set(valid_values) - set(train_values)\n",
    "\n",
    "    if len(train_diff) > 0 or len(valid_diff) > 0:\n",
    "        print(\"\\n\\n*** \" + col)\n",
    "        print(\"Value present in training data, not in validation data\")\n",
    "        print(train_diff)\n",
    "        print(\"Value present in validation data, not in training data\")\n",
    "        print(valid_diff)"
   ]
  },
  {
   "cell_type": "markdown",
   "metadata": {
    "hidden": true
   },
   "source": [
    "##### Encode"
   ]
  },
  {
   "cell_type": "code",
   "execution_count": null,
   "metadata": {
    "Collapsed": "false",
    "ExecuteTime": {
     "end_time": "2020-01-29T04:58:25.771441Z",
     "start_time": "2020-01-29T04:58:25.560289Z"
    },
    "code_folding": [],
    "hidden": true
   },
   "outputs": [],
   "source": [
    "# column encoding instructions\n",
    "nominal_columns = [\"CabinQuarter\",\"Embarked\",\"Sex\",\"Title\"]\n",
    "\n",
    "# encode pipeline\n",
    "encode_pipe = PandasFeatureUnion([\n",
    "    (\"nominal\", pipeline.make_pipeline(\n",
    "        DataFrameSelector(include_columns=nominal_columns),\n",
    "        PandasPipeline(preprocessing.OneHotEncoder(drop=\"first\")),\n",
    "    )),\n",
    "    (\"ordinal\", pipeline.make_pipeline(\n",
    "        DataFrameSelector(include_columns=list(ordinal_encodings.keys())),\n",
    "        PandasPipeline(preprocessing.OrdinalEncoder(categories=list(ordinal_encodings.values()))),\n",
    "    )),\n",
    "    (\"bin\", pipeline.make_pipeline(\n",
    "        DataFrameSelector(include_columns=train.data.mlm_dtypes[\"continuous\"]),\n",
    "        PandasPipeline(preprocessing.KBinsDiscretizer(encode=\"ordinal\")),\n",
    "    )),\n",
    "    (\"diff\", pipeline.make_pipeline(\n",
    "        DataFrameSelector(exclude_columns=nominal_columns + list(ordinal_encodings.keys())),\n",
    "    )),\n",
    "])\n",
    "\n",
    "train.data = encode_pipe.fit_transform(train.data)\n",
    "valid.data = encode_pipe.transform(valid.data)\n",
    "\n",
    "train.update_dtypes()\n",
    "valid.update_dtypes()"
   ]
  },
  {
   "cell_type": "code",
   "execution_count": null,
   "metadata": {
    "Collapsed": "false",
    "ExecuteTime": {
     "end_time": "2020-01-29T04:58:36.208391Z",
     "start_time": "2020-01-29T04:58:25.773659Z"
    },
    "hidden": true
   },
   "outputs": [],
   "source": [
    "# target encoding pipe\n",
    "target_encode_pipe = PandasFeatureUnion([\n",
    "    (\"target\", pipeline.make_pipeline(\n",
    "        DataFrameSelector(include_mlm_dtypes=[\"category\"]),\n",
    "        KFoldSelectEncoder(\n",
    "            target=train.target,\n",
    "            cv=model_selection.KFold(n_splits=5, shuffle=False, random_state=0),\n",
    "            encoder=ce.TargetEncoder,\n",
    "        ),\n",
    "    )),\n",
    "    (\"woe\", pipeline.make_pipeline(\n",
    "        DataFrameSelector(include_mlm_dtypes=[\"category\"]),\n",
    "        KFoldSelectEncoder(\n",
    "            target=train.target,\n",
    "            cv=model_selection.KFold(n_splits=5, shuffle=False, random_state=0),\n",
    "            encoder=ce.WOEEncoder,\n",
    "        ),\n",
    "    )),\n",
    "    (\"catboost\", pipeline.make_pipeline(\n",
    "        DataFrameSelector(include_mlm_dtypes=[\"category\"]),\n",
    "        KFoldSelectEncoder(\n",
    "            target=train.target,\n",
    "            cv=model_selection.KFold(n_splits=5, shuffle=False, random_state=0),\n",
    "            encoder=ce.CatBoostEncoder,\n",
    "        ),\n",
    "    )),\n",
    "    (\"diff\", pipeline.make_pipeline(\n",
    "        DataFrameSelector(exclude_mlm_dtypes=[\"category\"]),\n",
    "    )),\n",
    "])\n",
    "\n",
    "train.data = target_encode_pipe.fit_transform(train.data)\n",
    "valid.data = target_encode_pipe.transform(valid.data)\n",
    "\n",
    "train.update_dtypes()\n",
    "valid.update_dtypes()"
   ]
  },
  {
   "cell_type": "markdown",
   "metadata": {
    "Collapsed": "false",
    "heading_collapsed": true,
    "hidden": true
   },
   "source": [
    "## Feature transformation"
   ]
  },
  {
   "cell_type": "markdown",
   "metadata": {
    "Collapsed": "false",
    "hidden": true
   },
   "source": [
    "<a id = 'Feature-transformation'></a>"
   ]
  },
  {
   "cell_type": "markdown",
   "metadata": {
    "Collapsed": "false",
    "heading_collapsed": true,
    "hidden": true
   },
   "source": [
    "### Skew correction"
   ]
  },
  {
   "cell_type": "markdown",
   "metadata": {
    "Collapsed": "false",
    "hidden": true
   },
   "source": [
    "<a id = 'Skew-correction'></a>"
   ]
  },
  {
   "cell_type": "code",
   "execution_count": null,
   "metadata": {
    "Collapsed": "false",
    "ExecuteTime": {
     "end_time": "2020-01-29T04:58:36.603960Z",
     "start_time": "2020-01-29T04:58:36.210333Z"
    },
    "hidden": true
   },
   "outputs": [],
   "source": [
    "### training data\n",
    "# evaluate skew of number features\n",
    "train.skew_summary()"
   ]
  },
  {
   "cell_type": "code",
   "execution_count": null,
   "metadata": {
    "Collapsed": "false",
    "ExecuteTime": {
     "end_time": "2020-01-29T04:58:36.837811Z",
     "start_time": "2020-01-29T04:58:36.606330Z"
    },
    "hidden": true
   },
   "outputs": [],
   "source": [
    "### validation data\n",
    "# evaluate skew of number features\n",
    "valid.skew_summary()"
   ]
  },
  {
   "cell_type": "code",
   "execution_count": null,
   "metadata": {
    "Collapsed": "false",
    "ExecuteTime": {
     "end_time": "2020-01-29T04:58:36.845172Z",
     "start_time": "2020-01-29T04:58:36.840350Z"
    },
    "hidden": true
   },
   "outputs": [],
   "source": [
    "# skew correction pipeline\n",
    "skew_pipe = PandasFeatureUnion([\n",
    "    (\"skew\", pipeline.make_pipeline(\n",
    "        DataFrameSelector(include_mlm_dtypes=[\"continuous\"]),\n",
    "        DualTransformer(),\n",
    "    )),    \n",
    "    (\"diff\", pipeline.make_pipeline(\n",
    "        DataFrameSelector(exclude_mlm_dtypes=[\"continuous\"]),\n",
    "    )),\n",
    "])\n",
    "\n",
    "# train.data = skew_pipe.fit_transform(train.data)\n",
    "# valid.data = skew_pipe.transform(valid.data)\n",
    "\n",
    "# train.update_dtypes()\n",
    "# valid.update_dtypes()"
   ]
  },
  {
   "cell_type": "markdown",
   "metadata": {
    "Collapsed": "false",
    "hidden": true
   },
   "source": [
    "### Scaling"
   ]
  },
  {
   "cell_type": "markdown",
   "metadata": {
    "Collapsed": "false",
    "hidden": true
   },
   "source": [
    "<a id = 'Scaling'></a>"
   ]
  },
  {
   "cell_type": "code",
   "execution_count": null,
   "metadata": {
    "Collapsed": "false",
    "ExecuteTime": {
     "end_time": "2020-01-29T04:58:36.941807Z",
     "start_time": "2020-01-29T04:58:36.847753Z"
    },
    "hidden": true
   },
   "outputs": [],
   "source": [
    "#\n",
    "scale_pipe = PandasFeatureUnion([\n",
    "    (\"scale\", pipeline.make_pipeline(\n",
    "        DataFrameSelector(),\n",
    "        PandasPipeline(preprocessing.RobustScaler())\n",
    "    )),\n",
    "])\n",
    "\n",
    "train.data = scale_pipe.fit_transform(train.data)\n",
    "valid.data = scale_pipe.transform(valid.data)\n",
    "\n",
    "train.update_dtypes()\n",
    "valid.update_dtypes()"
   ]
  },
  {
   "cell_type": "markdown",
   "metadata": {
    "Collapsed": "false",
    "heading_collapsed": true,
    "hidden": true
   },
   "source": [
    "## Outliers\n"
   ]
  },
  {
   "cell_type": "markdown",
   "metadata": {
    "Collapsed": "false",
    "hidden": true
   },
   "source": [
    "<a id = 'Outliers'></a>"
   ]
  },
  {
   "cell_type": "code",
   "execution_count": null,
   "metadata": {
    "Collapsed": "false",
    "ExecuteTime": {
     "end_time": "2020-01-29T04:58:37.032784Z",
     "start_time": "2020-01-29T04:58:36.943777Z"
    },
    "hidden": true
   },
   "outputs": [],
   "source": [
    "# identify outliers using IQR\n",
    "train_pipe = pipeline.Pipeline([\n",
    "    (\"outlier\",train.OutlierIQR(\n",
    "                outlier_count=10,\n",
    "                iqr_step=1.5,\n",
    "                features=train.data.mlm_dtypes[\"continuous\"],\n",
    "                drop_outliers=False,))\n",
    "    ])\n",
    "train.data = train_pipe.transform(train.data)\n",
    "\n",
    "# capture outliers\n",
    "iqr_outliers = np.array(sorted(train_pipe.named_steps[\"outlier\"].outliers))\n",
    "print(iqr_outliers)"
   ]
  },
  {
   "cell_type": "code",
   "execution_count": null,
   "metadata": {
    "Collapsed": "false",
    "ExecuteTime": {
     "end_time": "2020-01-29T04:58:37.579755Z",
     "start_time": "2020-01-29T04:58:37.035072Z"
    },
    "hidden": true
   },
   "outputs": [],
   "source": [
    "# identify outliers using Isolation Forest\n",
    "clf = ensemble.IsolationForest(\n",
    "    behaviour=\"new\",\n",
    "    max_samples=train.data.shape[0],\n",
    "    random_state=0,\n",
    "    contamination=0.01,\n",
    ")\n",
    "clf.fit(train.data[train.data.columns])\n",
    "preds = clf.predict(train.data[train.data.columns])\n",
    "\n",
    "# evaluate index values\n",
    "mask = np.isin(preds, -1)\n",
    "if_outliers = np.array(train.data[mask].index)\n",
    "print(if_outliers)"
   ]
  },
  {
   "cell_type": "code",
   "execution_count": null,
   "metadata": {
    "Collapsed": "false",
    "ExecuteTime": {
     "end_time": "2020-01-29T04:58:38.073591Z",
     "start_time": "2020-01-29T04:58:37.582088Z"
    },
    "hidden": true
   },
   "outputs": [],
   "source": [
    "# identify outliers using extended isolation forest\n",
    "train_pipe = pipeline.Pipeline([\n",
    "    (\"outlier\",train.ExtendedIsoForest(\n",
    "                columns=train.data.mlm_dtypes[\"continuous\"],\n",
    "                n_trees=100,\n",
    "                sample_size=256,\n",
    "                extension_level=1,\n",
    "                anomalies_ratio=0.03,\n",
    "                drop_outliers=False,))\n",
    "    ])\n",
    "train.data = train_pipe.transform(train.data)\n",
    "\n",
    "# capture outliers\n",
    "eif_outliers = np.array(sorted(train_pipe.named_steps[\"outlier\"].outliers))\n",
    "print(eif_outliers)"
   ]
  },
  {
   "cell_type": "code",
   "execution_count": null,
   "metadata": {
    "Collapsed": "false",
    "ExecuteTime": {
     "end_time": "2020-01-29T04:58:38.081434Z",
     "start_time": "2020-01-29T04:58:38.076477Z"
    },
    "hidden": true
   },
   "outputs": [],
   "source": [
    "# identify outliers that are identified in multiple algorithms\n",
    "outliers = reduce(np.intersect1d, (iqr_outliers, if_outliers, eif_outliers))\n",
    "# outliers = reduce(np.intersect1d, (if_outliers, eif_outliers))\n",
    "print(outliers)"
   ]
  },
  {
   "cell_type": "code",
   "execution_count": null,
   "metadata": {
    "Collapsed": "false",
    "ExecuteTime": {
     "end_time": "2020-01-29T04:58:38.103853Z",
     "start_time": "2020-01-29T04:58:38.083958Z"
    },
    "hidden": true,
    "scrolled": true
   },
   "outputs": [],
   "source": [
    "# review outlier identification summary\n",
    "outlier_summary = train.outlier_summary(iqr_outliers=iqr_outliers,\n",
    "                             if_outliers=if_outliers,\n",
    "                             eif_outliers=eif_outliers\n",
    "                            )\n",
    "outlier_summary[outlier_summary[\"count\"] >= 3]"
   ]
  },
  {
   "cell_type": "code",
   "execution_count": null,
   "metadata": {
    "Collapsed": "false",
    "ExecuteTime": {
     "end_time": "2020-01-29T04:58:38.119650Z",
     "start_time": "2020-01-29T04:58:38.111459Z"
    },
    "hidden": true
   },
   "outputs": [],
   "source": [
    "# remove outlers from predictors and response\n",
    "outliers = np.array([258, 305, 438, 679, 737, 745])\n",
    "train.data = train.data.drop(outliers)\n",
    "train.target = train.target.drop(index=outliers)"
   ]
  },
  {
   "cell_type": "markdown",
   "metadata": {
    "Collapsed": "false",
    "heading_collapsed": true,
    "hidden": true
   },
   "source": [
    "## Additional exploratory data analysis"
   ]
  },
  {
   "cell_type": "markdown",
   "metadata": {
    "Collapsed": "false",
    "hidden": true
   },
   "source": [
    "<a id = 'Additional-exploratory-data-analysis'></a>"
   ]
  },
  {
   "cell_type": "code",
   "execution_count": null,
   "metadata": {
    "ExecuteTime": {
     "end_time": "2020-01-29T04:58:39.065001Z",
     "start_time": "2020-01-29T04:58:38.124034Z"
    },
    "hidden": true,
    "scrolled": false
   },
   "outputs": [],
   "source": [
    "# correlation heat map with most highly correlated features relative to the target\n",
    "p = PrettierPlot(plot_orientation='tall',chart_scale=15)\n",
    "ax = p.make_canvas()\n",
    "p.corr_heatmap_target(\n",
    "    df=train.data,\n",
    "    target=train.target,\n",
    "    thresh=0.3,\n",
    "    annot=True,\n",
    "    ax=ax,\n",
    ")"
   ]
  },
  {
   "cell_type": "code",
   "execution_count": null,
   "metadata": {
    "ExecuteTime": {
     "end_time": "2020-01-29T04:58:44.038843Z",
     "start_time": "2020-01-29T04:58:39.067445Z"
    },
    "hidden": true
   },
   "outputs": [],
   "source": [
    "# correlation heat map\n",
    "p = PrettierPlot(chart_scale=25)\n",
    "ax = p.make_canvas()\n",
    "p.corr_heatmap(df=train.data, annot=False, ax=ax)"
   ]
  },
  {
   "cell_type": "code",
   "execution_count": null,
   "metadata": {
    "ExecuteTime": {
     "end_time": "2020-01-29T04:58:44.051510Z",
     "start_time": "2020-01-29T04:58:44.041075Z"
    },
    "hidden": true
   },
   "outputs": [],
   "source": [
    "train.data.mlm_dtypes"
   ]
  },
  {
   "cell_type": "code",
   "execution_count": null,
   "metadata": {
    "hidden": true
   },
   "outputs": [],
   "source": []
  },
  {
   "cell_type": "markdown",
   "metadata": {
    "Collapsed": "false"
   },
   "source": [
    "# Feature selection"
   ]
  },
  {
   "cell_type": "markdown",
   "metadata": {
    "Collapsed": "false"
   },
   "source": [
    "<a id = 'Feature-selection'></a>"
   ]
  },
  {
   "cell_type": "code",
   "execution_count": null,
   "metadata": {
    "Collapsed": "false",
    "ExecuteTime": {
     "end_time": "2020-01-29T05:30:52.611986Z",
     "start_time": "2020-01-29T05:30:52.608169Z"
    },
    "scrolled": true
   },
   "outputs": [],
   "source": [
    "# generate feature importance summary\n",
    "estimators = [\n",
    "    lightgbm.LGBMClassifier,\n",
    "    ensemble.RandomForestClassifier,\n",
    "    ensemble.GradientBoostingClassifier,\n",
    "    ensemble.ExtraTreesClassifier,\n",
    "    ensemble.AdaBoostClassifier,\n",
    "    xgboost.XGBClassifier,\n",
    "]\n",
    "\n",
    "fs = train.FeatureSelector(\n",
    "    data=train.data,\n",
    "    target=train.target,\n",
    "    estimators=estimators,\n",
    ")\n",
    "# feature_selector_summary = fs.feature_selector_suite(save_to_csv=True, n_jobs=16)"
   ]
  },
  {
   "cell_type": "code",
   "execution_count": null,
   "metadata": {
    "Collapsed": "false",
    "ExecuteTime": {
     "end_time": "2020-01-29T05:30:55.458937Z",
     "start_time": "2020-01-29T05:30:55.455327Z"
    }
   },
   "outputs": [],
   "source": [
    "# calculate cross-validation performance\n",
    "estimators = [\n",
    "    svm.SVC,\n",
    "    lightgbm.LGBMClassifier,\n",
    "    linear_model.LogisticRegression,\n",
    "    xgboost.XGBClassifier,\n",
    "    ensemble.RandomForestClassifier,\n",
    "    ensemble.GradientBoostingClassifier,\n",
    "    ensemble.AdaBoostClassifier,\n",
    "    ensemble.ExtraTreesClassifier,\n",
    "    neighbors.KNeighborsClassifier,\n",
    "]\n",
    "\n",
    "# cv_summary = fs.feature_selector_cross_val(\n",
    "#     feature_selector_summary=feature_selector_summary,\n",
    "# #     feature_selector_summary = pd.read_csv(\"feature_selection_summary_2001142236.csv\", index_col=0),\n",
    "#     estimators=estimators,\n",
    "#     scoring=[\"accuracy\"],\n",
    "#     n_folds=5,\n",
    "#     step=1,\n",
    "#     n_jobs=16,\n",
    "#     save_to_csv=True,\n",
    "# )"
   ]
  },
  {
   "cell_type": "markdown",
   "metadata": {
    "Collapsed": "false"
   },
   "source": [
    "###### Accuracy"
   ]
  },
  {
   "cell_type": "code",
   "execution_count": null,
   "metadata": {
    "Collapsed": "false",
    "ExecuteTime": {
     "end_time": "2020-01-29T04:58:47.824243Z",
     "start_time": "2020-01-29T04:58:44.070199Z"
    },
    "scrolled": true
   },
   "outputs": [],
   "source": [
    "# visualize CV performance for diminishing feature set\n",
    "fs.feature_selector_results_plot(\n",
    "    scoring=\"accuracy\",\n",
    "#     cv_summary=cv_summary,\n",
    "#     feature_selector_summary=feature_selector_summary,\n",
    "    cv_summary= pd.read_csv(\"cv_summary_2001290450.csv\", index_col=0),\n",
    "    feature_selector_summary=pd.read_csv(\"feature_selection_summary_2001290434.csv\", index_col=0),\n",
    "    title_scale=0.8,\n",
    ")"
   ]
  },
  {
   "cell_type": "code",
   "execution_count": null,
   "metadata": {
    "Collapsed": "false",
    "ExecuteTime": {
     "end_time": "2020-01-29T05:30:57.959866Z",
     "start_time": "2020-01-29T05:30:57.832948Z"
    },
    "scrolled": true
   },
   "outputs": [],
   "source": [
    "cross_val_features_df = fs.create_cross_val_features_df(\n",
    "    scoring=\"accuracy\",\n",
    "#     cv_summary=cv_summary,\n",
    "#     feature_selector_summary=feature_selector_summary,\n",
    "    cv_summary= pd.read_csv(\"cv_summary_2001290450.csv\", index_col=0),\n",
    "    feature_selector_summary=pd.read_csv(\"feature_selection_summary_2001290434.csv\", index_col=0),\n",
    ")\n",
    "cross_val_features_df#[:5]"
   ]
  },
  {
   "cell_type": "code",
   "execution_count": null,
   "metadata": {
    "Collapsed": "false",
    "ExecuteTime": {
     "end_time": "2020-01-29T05:31:00.460898Z",
     "start_time": "2020-01-29T05:31:00.447901Z"
    },
    "scrolled": true
   },
   "outputs": [],
   "source": [
    "cross_val_feature_dict = fs.create_cross_val_features_dict(\n",
    "    cross_val_features_df=cross_val_features_df\n",
    ")\n",
    "cross_val_feature_dict"
   ]
  },
  {
   "cell_type": "markdown",
   "metadata": {
    "Collapsed": "false"
   },
   "source": [
    "# Modeling"
   ]
  },
  {
   "cell_type": "markdown",
   "metadata": {
    "Collapsed": "false"
   },
   "source": [
    "<a id = 'Modeling'></a>"
   ]
  },
  {
   "cell_type": "markdown",
   "metadata": {
    "Collapsed": "false",
    "heading_collapsed": true
   },
   "source": [
    "## Data preparation"
   ]
  },
  {
   "cell_type": "markdown",
   "metadata": {
    "Collapsed": "false",
    "hidden": true
   },
   "source": [
    "<a id = 'Data-preparation-1'></a>"
   ]
  },
  {
   "cell_type": "code",
   "execution_count": null,
   "metadata": {
    "Collapsed": "false",
    "ExecuteTime": {
     "end_time": "2020-01-29T05:31:12.835654Z",
     "start_time": "2020-01-29T05:31:04.408958Z"
    },
    "code_folding": [
     9,
     22,
     34,
     70,
     112,
     150
    ],
    "hidden": true
   },
   "outputs": [],
   "source": [
    "#################################################################################\n",
    "# import training data\n",
    "df_train, df_valid = data.titanic()\n",
    "\n",
    "# Load training data into mlmachine\n",
    "ordinal_encodings = {\n",
    "        \"Pclass\": [1, 2, 3], # Pclass\n",
    "    }\n",
    "\n",
    "train = mlm.Machine(\n",
    "    data=df_train,\n",
    "    target=\"Survived\",\n",
    "    remove_features=[\"PassengerId\", \"Ticket\"],\n",
    "    identify_as_continuous=[\"Age\",\"Fare\"],\n",
    "    identify_as_count=[\"Parch\",\"SibSp\"],\n",
    "    identify_as_nominal=[\"Cabin\",\"Embarked\",\"Name\"],\n",
    "    identify_as_ordinal=[\"Pclass\"],\n",
    "    ordinal_encodings = ordinal_encodings,\n",
    "    target_type=\"category\",\n",
    ")\n",
    "\n",
    "# import validation data\n",
    "valid = mlm.Machine(\n",
    "    data=df_valid,\n",
    "    remove_features=[\"PassengerId\", \"Ticket\"],\n",
    "    identify_as_continuous=[\"Age\",\"Fare\"],\n",
    "    identify_as_count=[\"Parch\",\"SibSp\"],\n",
    "    identify_as_nominal=[\"Cabin\",\"Embarked\",\"Name\"],\n",
    "    identify_as_ordinal=[\"Pclass\"],\n",
    "    ordinal_encodings = ordinal_encodings,\n",
    ")\n",
    "\n",
    "#################################################################################\n",
    "# impute pipeline\n",
    "impute_pipe = PandasFeatureUnion([\n",
    "    (\"age\", pipeline.make_pipeline(\n",
    "        DataFrameSelector(include_columns=[\"Age\",\"Pclass\"]),\n",
    "        ContextImputer(null_col=\"Age\", context_col=\"Pclass\", strategy=\"mean\")\n",
    "    )),\n",
    "    (\"fare\", pipeline.make_pipeline(\n",
    "        DataFrameSelector(include_columns=[\"Fare\",\"Pclass\"]),\n",
    "        ContextImputer(null_col=\"Fare\", context_col=\"Pclass\")\n",
    "    )),\n",
    "    (\"embarked\", pipeline.make_pipeline(\n",
    "        DataFrameSelector(include_columns=[\"Embarked\"]),\n",
    "        PandasPipeline(impute.SimpleImputer(strategy=\"most_frequent\"))\n",
    "    )),\n",
    "    (\"cabin\", pipeline.make_pipeline(\n",
    "        DataFrameSelector(include_columns=[\"Cabin\"]),\n",
    "        PandasPipeline(impute.SimpleImputer(strategy=\"constant\", fill_value=\"X\"))\n",
    "    )),\n",
    "    (\"diff\", pipeline.make_pipeline(\n",
    "        DataFrameSelector(exclude_columns=[\"Age\",\"Fare\",\"Embarked\",\"Cabin\"])\n",
    "    )),\n",
    "])\n",
    "\n",
    "train.data = impute_pipe.fit_transform(train.data)\n",
    "valid.data = impute_pipe.transform(valid.data)\n",
    "\n",
    "#################################################################################\n",
    "# feature engineering - training\n",
    "\n",
    "# parse titles to learn gender, and identify rare titles which may convey status\n",
    "title = [i.split(\",\")[1].split(\".\")[0].strip() for i in train.data[\"Name\"]]\n",
    "train.data[\"Title\"] = pd.Series(\n",
    "    title,\n",
    "    index=train.data.index,\n",
    "    dtype=\"object\",\n",
    ")\n",
    "train.data[\"Title\"] = train.data[\"Title\"].replace(\n",
    "    [\n",
    "        \"Lady\",\n",
    "        \"the Countess\",\n",
    "        \"Countess\",\n",
    "        \"Capt\",\n",
    "        \"Col\",\n",
    "        \"Don\",\n",
    "        \"Dr\",\n",
    "        \"Major\",\n",
    "        \"Rev\",\n",
    "        \"Sir\",\n",
    "        \"Jonkheer\",\n",
    "        \"Dona\",\n",
    "    ],\n",
    "    \"Rare\",\n",
    ")\n",
    "train.data[\"Title\"] = train.data[\"Title\"].map(\n",
    "    {\"Master\": 0, \"Miss\": 1, \"Ms\": 1, \"Mme\": 1, \"Mlle\": 1, \"Mrs\": 1, \"Mr\": 2, \"Rare\": 3}\n",
    ")\n",
    "train.data[\"Title\"] = train.data[\"Title\"].astype(\"category\")\n",
    "\n",
    "# distill cabin feature\n",
    "train.data[\"CabinQuarter\"] = pd.Series(\n",
    "    [i[0] if not pd.isnull(i) else \"X\" for i in train.data[\"Cabin\"]],\n",
    "    index=train.data.index,\n",
    "    dtype=\"category\",\n",
    ")\n",
    "\n",
    "# family size features\n",
    "train.data[\"FamilySize\"] = pd.to_numeric(train.data[\"SibSp\"]) + pd.to_numeric(train.data[\"Parch\"]) + 1\n",
    "\n",
    "#################################################################################\n",
    "# feature engineering - validation\n",
    "\n",
    "# parse titles to learn gender, and identify rare titles which may convey status\n",
    "title = [i.split(\",\")[1].split(\".\")[0].strip() for i in valid.data[\"Name\"]]\n",
    "valid.data[\"Title\"] = pd.Series(\n",
    "    title,\n",
    "    index=valid.data.index,\n",
    "    dtype=\"object\"\n",
    ")\n",
    "valid.data[\"Title\"] = valid.data[\"Title\"].replace(\n",
    "    [\n",
    "        \"Lady\",\n",
    "        \"the Countess\",\n",
    "        \"Countess\",\n",
    "        \"Capt\",\n",
    "        \"Col\",\n",
    "        \"Don\",\n",
    "        \"Dr\",\n",
    "        \"Major\",\n",
    "        \"Rev\",\n",
    "        \"Sir\",\n",
    "        \"Jonkheer\",\n",
    "        \"Dona\",\n",
    "    ],\n",
    "    \"Rare\",\n",
    ")\n",
    "valid.data[\"Title\"] = valid.data[\"Title\"].map(\n",
    "    {\"Master\": 0, \"Miss\": 1, \"Ms\": 1, \"Mme\": 1, \"Mlle\": 1, \"Mrs\": 1, \"Mr\": 2, \"Rare\": 3}\n",
    ")\n",
    "valid.data[\"Title\"] = valid.data[\"Title\"].astype(\"category\")\n",
    "\n",
    "# distill cabin feature\n",
    "valid.data[\"CabinQuarter\"] = pd.Series(\n",
    "    [i[0] if not pd.isnull(i) else \"X\" for i in valid.data[\"Cabin\"]],\n",
    "    index=valid.data.index,\n",
    "    dtype=\"category\",\n",
    ")\n",
    "\n",
    "# additional features\n",
    "valid.data[\"FamilySize\"] = pd.to_numeric(valid.data[\"SibSp\"]) + pd.to_numeric(valid.data[\"Parch\"]) + 1\n",
    "\n",
    "train.update_dtypes()\n",
    "valid.update_dtypes()\n",
    "\n",
    "#################################################################################\n",
    "### feature transformation pipeline\n",
    "\n",
    "# polynomial features\n",
    "polynomial_pipe = PandasFeatureUnion([\n",
    "    (\"polynomial\", pipeline.make_pipeline(\n",
    "        DataFrameSelector(include_mlm_dtypes=[\"continuous\"]),\n",
    "        PandasPipeline(preprocessing.PolynomialFeatures(degree=2, interaction_only=False, include_bias=False)),\n",
    "    )),\n",
    "    (\"diff\", pipeline.make_pipeline(\n",
    "        DataFrameSelector(exclude_mlm_dtypes=[\"continuous\"], exclude_columns=[\"Name\",\"Cabin\"]),\n",
    "    )),\n",
    "])\n",
    "\n",
    "# encode & bin pipeline\n",
    "nominal_columns = [\"CabinQuarter\",\"Embarked\",\"Sex\",\"Title\"]\n",
    "\n",
    "encode_pipe = PandasFeatureUnion([\n",
    "    (\"nominal\", pipeline.make_pipeline(\n",
    "        DataFrameSelector(include_columns=nominal_columns),\n",
    "        PandasPipeline(preprocessing.OneHotEncoder(drop=\"first\")),\n",
    "    )),\n",
    "    (\"ordinal\", pipeline.make_pipeline(\n",
    "        DataFrameSelector(include_columns=list(ordinal_encodings.keys())),\n",
    "        PandasPipeline(preprocessing.OrdinalEncoder(categories=list(ordinal_encodings.values()))),\n",
    "    )),\n",
    "    (\"bin\", pipeline.make_pipeline(\n",
    "        DataFrameSelector(include_columns=train.data.mlm_dtypes[\"continuous\"]),\n",
    "        PandasPipeline(preprocessing.KBinsDiscretizer(encode=\"ordinal\")),\n",
    "    )),\n",
    "    (\"diff\", pipeline.make_pipeline(\n",
    "        DataFrameSelector(exclude_columns=nominal_columns + list(ordinal_encodings.keys())),\n",
    "    )),\n",
    "])\n",
    "\n",
    "# combine feature engineering pipelines\n",
    "feature_engineer_pipe = pipeline.Pipeline([\n",
    "    (\"poly\", polynomial_pipe),\n",
    "    (\"encode\", encode_pipe),\n",
    "])\n",
    "\n",
    "train.data = feature_engineer_pipe.fit_transform(train.data)\n",
    "valid.data = feature_engineer_pipe.transform(valid.data)\n",
    "\n",
    "train.update_dtypes()\n",
    "valid.update_dtypes()\n",
    "\n",
    "###\n",
    "# complex encoding\n",
    "target_encode_pipe = PandasFeatureUnion([\n",
    "    (\"target\", pipeline.make_pipeline(\n",
    "        DataFrameSelector(include_mlm_dtypes=[\"category\"]),\n",
    "        KFoldSelectEncoder(\n",
    "            target=train.target,\n",
    "            cv=model_selection.KFold(n_splits=5, shuffle=False, random_state=0),\n",
    "            encoder=ce.TargetEncoder,\n",
    "        ),\n",
    "    )),\n",
    "    (\"woe\", pipeline.make_pipeline(\n",
    "        DataFrameSelector(include_mlm_dtypes=[\"category\"]),\n",
    "        KFoldSelectEncoder(\n",
    "            target=train.target,\n",
    "            cv=model_selection.KFold(n_splits=5, shuffle=False, random_state=0),\n",
    "            encoder=ce.WOEEncoder,\n",
    "        ),\n",
    "    )),\n",
    "    (\"catboost\", pipeline.make_pipeline(\n",
    "        DataFrameSelector(include_mlm_dtypes=[\"category\"]),\n",
    "        KFoldSelectEncoder(\n",
    "            target=train.target,\n",
    "            cv=model_selection.KFold(n_splits=5, shuffle=False, random_state=0),\n",
    "            encoder=ce.CatBoostEncoder,\n",
    "        ),\n",
    "    )),\n",
    "    (\"diff\", pipeline.make_pipeline(\n",
    "        DataFrameSelector(exclude_mlm_dtypes=[\"category\"]),\n",
    "    )),\n",
    "])\n",
    "\n",
    "train.data = target_encode_pipe.fit_transform(train.data)\n",
    "valid.data = target_encode_pipe.transform(valid.data)\n",
    "\n",
    "train.update_dtypes()\n",
    "valid.update_dtypes()\n",
    "\n",
    "### scale features\n",
    "scale_pipe = PandasFeatureUnion([\n",
    "    (\"scale\", pipeline.make_pipeline(\n",
    "        DataFrameSelector(),\n",
    "        PandasPipeline(preprocessing.RobustScaler())\n",
    "    )),\n",
    "])\n",
    "\n",
    "train.data = scale_pipe.fit_transform(train.data)\n",
    "valid.data = scale_pipe.transform(valid.data)\n",
    "\n",
    "train.update_dtypes()\n",
    "valid.update_dtypes()\n",
    "\n",
    "#################################################################################\n",
    "# remove outliers\n",
    "outliers = np.array([258, 305, 438, 679, 737, 745])\n",
    "train.data = train.data.drop(outliers)\n",
    "train.target = train.target.drop(index=outliers)\n",
    "\n",
    "# # # # accuracy >= 7\n",
    "# # # best_columns = ['Age*Fare','Title_2','Fare*FamilySize','Sex_male','Fare','Pclass','CabinQuarter_X']\n",
    "# # # train.data = train.data[best_columns]\n",
    "# # # valid.data = valid.data[best_columns]\n",
    "\n",
    "print('completed')"
   ]
  },
  {
   "cell_type": "markdown",
   "metadata": {
    "Collapsed": "false"
   },
   "source": [
    "## Bayesian hyper-parameter optimization"
   ]
  },
  {
   "cell_type": "markdown",
   "metadata": {
    "Collapsed": "false"
   },
   "source": [
    "<a id = 'Bayesian-hyper-parameter-optimization'></a>"
   ]
  },
  {
   "cell_type": "code",
   "execution_count": null,
   "metadata": {
    "Collapsed": "false",
    "ExecuteTime": {
     "end_time": "2020-01-29T05:37:27.336544Z",
     "start_time": "2020-01-29T05:37:27.240990Z"
    },
    "code_folding": []
   },
   "outputs": [],
   "source": [
    "# parameter space\n",
    "all_space = {\n",
    "    \"lightgbm.LGBMClassifier\": {\n",
    "        \"class_weight\": hp.choice(\"class_weight\", [None]),\n",
    "        \"colsample_bytree\": hp.uniform(\"colsample_bytree\", 0.4, 0.7),\n",
    "        \"boosting_type\": hp.choice(\"boosting_type\", [\"dart\"]),\n",
    "        \"subsample\": hp.uniform(\"subsample\", 0.5, 1),\n",
    "        \"learning_rate\": hp.uniform(\"learning_rate\", 0.15, 0.25),\n",
    "        \"max_depth\": hp.choice(\"max_depth\", np.arange(4, 20, dtype=int)),\n",
    "        \"min_child_samples\": hp.quniform(\"min_child_samples\", 50, 150, 5),\n",
    "        \"n_estimators\": hp.choice(\"n_estimators\", np.arange(100, 4000, 10, dtype=int)),\n",
    "        \"num_leaves\": hp.quniform(\"num_leaves\", 30, 70, 1),\n",
    "        \"reg_alpha\": hp.uniform(\"reg_alpha\", 0.75, 1.25),\n",
    "        \"reg_lambda\": hp.uniform(\"reg_lambda\", 0.0, 1.0),\n",
    "        \"subsample_for_bin\": hp.quniform(\"subsample_for_bin\", 100000, 350000, 20000),\n",
    "    },\n",
    "#     \"linear_model.LogisticRegression\": {\n",
    "#         \"C\": hp.uniform(\"C\", 0.04, 0.1),\n",
    "#         \"penalty\": hp.choice(\"penalty\", [\"l1\"]),\n",
    "#     },\n",
    "    \"xgboost.XGBClassifier\": {\n",
    "        \"colsample_bytree\": hp.uniform(\"colsample_bytree\", 0.4, 0.7),\n",
    "        \"gamma\": hp.quniform(\"gamma\", 0.0, 10, 0.05),\n",
    "        \"learning_rate\": hp.quniform(\"learning_rate\", 0.01, 0.2, 0.01),\n",
    "        \"max_depth\": hp.choice(\"max_depth\", np.arange(2, 15, dtype=int)),\n",
    "        \"min_child_weight\": hp.quniform(\"min_child_weight\", 2.5, 7.5, 1),\n",
    "        \"n_estimators\": hp.choice(\"n_estimators\", np.arange(100, 4000, 10, dtype=int)),\n",
    "        \"subsample\": hp.uniform(\"subsample\", 0.4, 0.7),\n",
    "    },\n",
    "    \"ensemble.RandomForestClassifier\": {\n",
    "        \"bootstrap\": hp.choice(\"bootstrap\", [True, False]),\n",
    "        \"max_depth\": hp.choice(\"max_depth\", np.arange(2, 10, dtype=int)),\n",
    "        \"n_estimators\": hp.choice(\"n_estimators\", np.arange(100, 8000, 10, dtype=int)),\n",
    "        \"max_features\": hp.choice(\"max_features\", [\"sqrt\"]),\n",
    "        \"min_samples_split\": hp.choice(\n",
    "            \"min_samples_split\", np.arange(15, 25, dtype=int)\n",
    "        ),\n",
    "        \"min_samples_leaf\": hp.choice(\"min_samples_leaf\", np.arange(2, 20, dtype=int)),\n",
    "    },\n",
    "    \"ensemble.GradientBoostingClassifier\": {\n",
    "        \"n_estimators\": hp.choice(\"n_estimators\", np.arange(100, 4000, 10, dtype=int)),\n",
    "        \"max_depth\": hp.choice(\"max_depth\", np.arange(2, 11, dtype=int)),\n",
    "        \"max_features\": hp.choice(\"max_features\", [\"sqrt\"]),\n",
    "        \"learning_rate\": hp.quniform(\"learning_rate\", 0.01, 0.09, 0.01),\n",
    "        \"loss\": hp.choice(\"loss\", [\"deviance\", \"exponential\"]),\n",
    "        \"min_samples_split\": hp.choice(\n",
    "            \"min_samples_split\", np.arange(2, 40, dtype=int)\n",
    "        ),\n",
    "        \"min_samples_leaf\": hp.choice(\"min_samples_leaf\", np.arange(2, 40, dtype=int)),\n",
    "    },\n",
    "    \"ensemble.AdaBoostClassifier\": {\n",
    "        \"n_estimators\": hp.choice(\"n_estimators\", np.arange(100, 4000, 10, dtype=int)),\n",
    "        \"learning_rate\": hp.quniform(\"learning_rate\", 0.1, 0.25, 0.01),\n",
    "        \"algorithm\": hp.choice(\"algorithm\", [\"SAMME\"]),\n",
    "    },\n",
    "    \"ensemble.ExtraTreesClassifier\": {\n",
    "        \"n_estimators\": hp.choice(\"n_estimators\", np.arange(100, 4000, 10, dtype=int)),\n",
    "        \"max_depth\": hp.choice(\"max_depth\", np.arange(2, 15, dtype=int)),\n",
    "        \"min_samples_split\": hp.choice(\n",
    "            \"min_samples_split\", np.arange(4, 30, dtype=int)\n",
    "        ),\n",
    "        \"min_samples_leaf\": hp.choice(\"min_samples_leaf\", np.arange(2, 20, dtype=int)),\n",
    "        \"max_features\": hp.choice(\"max_features\", [\"auto\"]),\n",
    "        \"criterion\": hp.choice(\"criterion\", [\"entropy\"]),\n",
    "    },\n",
    "    \"svm.SVC\": {\n",
    "        \"C\": hp.uniform(\"C\", 4, 15),\n",
    "        \"decision_function_shape\": hp.choice(\"decision_function_shape\", [\"ovr\"]),\n",
    "        \"gamma\": hp.uniform(\"gamma\", 0.00000001, 1.5),\n",
    "    },\n",
    "    \"neighbors.KNeighborsClassifier\": {\n",
    "        \"algorithm\": hp.choice(\"algorithm\", [\"ball_tree\", \"brute\"]),\n",
    "        \"n_neighbors\": hp.choice(\"n_neighbors\", np.arange(1, 15, dtype=int)),\n",
    "        \"weights\": hp.choice(\"weights\", [\"uniform\"]),\n",
    "    },\n",
    "}"
   ]
  },
  {
   "cell_type": "code",
   "execution_count": null,
   "metadata": {
    "Collapsed": "false",
    "ExecuteTime": {
     "start_time": "2020-01-29T05:38:42.630Z"
    },
    "scrolled": true
   },
   "outputs": [],
   "source": [
    "# execute bayesian optimization grid search\n",
    "train.exec_bayes_optim_search(\n",
    "    all_space=all_space,\n",
    "    data=train.data,\n",
    "    target=train.target,\n",
    "    columns=cross_val_feature_dict,\n",
    "    scoring=\"accuracy\",\n",
    "    n_folds=5,\n",
    "    n_jobs=4,\n",
    "    iters=20,\n",
    "    verbose=0,\n",
    ")"
   ]
  },
  {
   "cell_type": "markdown",
   "metadata": {
    "Collapsed": "false"
   },
   "source": [
    "##### Model loss by iteration"
   ]
  },
  {
   "cell_type": "code",
   "execution_count": null,
   "metadata": {
    "Collapsed": "false",
    "ExecuteTime": {
     "start_time": "2020-01-29T05:38:48.168Z"
    },
    "scrolled": true
   },
   "outputs": [],
   "source": [
    "# read scores summary table\n",
    "bayes_optim_summary = pd.read_csv(\"bayes_optimization_summary_accuracy_2001290537.csv\", na_values=\"nan\")\n",
    "bayes_optim_summary[:50]"
   ]
  },
  {
   "cell_type": "code",
   "execution_count": null,
   "metadata": {
    "Collapsed": "false",
    "ExecuteTime": {
     "end_time": "2019-10-29T03:01:28.828751Z",
     "start_time": "2019-10-29T03:01:21.909180Z"
    }
   },
   "outputs": [],
   "source": [
    "# model loss plot\n",
    "for estimator in np.unique(bayes_optim_summary[\"estimator\"]):\n",
    "    train.model_loss_plot(bayes_optim_summary=bayes_optim_summary, estimator=estimator)"
   ]
  },
  {
   "cell_type": "markdown",
   "metadata": {
    "Collapsed": "false"
   },
   "source": [
    "##### Parameter selection by iteration"
   ]
  },
  {
   "cell_type": "code",
   "execution_count": null,
   "metadata": {
    "Collapsed": "false",
    "ExecuteTime": {
     "end_time": "2019-10-28T02:06:07.310087Z",
     "start_time": "2019-10-28T02:01:20.702423Z"
    }
   },
   "outputs": [],
   "source": [
    "# estimator parameter plots\n",
    "for estimator in np.unique(bayes_optim_summary[\"estimator\"]):\n",
    "    train.modelParamPlot(\n",
    "        bayes_optim_summary=bayes_optim_summary,\n",
    "        estimator=estimator,\n",
    "        all_space=all_space,\n",
    "        n_iter=100,\n",
    "#         chart_scale=15,\n",
    "        title_scale=0.8\n",
    "    )"
   ]
  },
  {
   "cell_type": "code",
   "execution_count": null,
   "metadata": {
    "Collapsed": "false"
   },
   "outputs": [],
   "source": [
    "sample_space = {\n",
    "                'param': hp.uniform('param', np.log(0.4), np.log(0.6))\n",
    "#     \"\": 0.000001 + hp.uniform(\"gamma\", 0.000001, 10)\n",
    "    #             'param2': hp.loguniform('param2', np.log(0.001), np.log(0.01))\n",
    "}\n",
    "\n",
    "train.sample_plot(sample_space, 1000)"
   ]
  },
  {
   "cell_type": "code",
   "execution_count": null,
   "metadata": {
    "Collapsed": "false",
    "ExecuteTime": {
     "end_time": "2019-10-28T02:10:14.649664Z",
     "start_time": "2019-10-28T02:10:09.392223Z"
    }
   },
   "outputs": [],
   "source": [
    "# pair-wise comparison\n",
    "p = PrettierPlot(chart_scale=12)\n",
    "p.pair_plot_custom(\n",
    "    df=train.unpack_bayes_optim_summary(bayes_optim_summary, \"lightgbm.LGBMClassifier\"),\n",
    "    columns=[\"colsample_bytree\", \"learning_rate\", \"iteration\",\"iterLoss\"],\n",
    "    gradient_col=\"iteration\",\n",
    "    color=style.style_grey\n",
    ")"
   ]
  },
  {
   "cell_type": "markdown",
   "metadata": {
    "Collapsed": "false",
    "heading_collapsed": true
   },
   "source": [
    "## Model performance evaluation - standard models"
   ]
  },
  {
   "cell_type": "markdown",
   "metadata": {
    "Collapsed": "false",
    "hidden": true
   },
   "source": [
    "<a id = 'Model-performance-evaluation-standard-models'></a>"
   ]
  },
  {
   "cell_type": "code",
   "execution_count": null,
   "metadata": {
    "Collapsed": "false",
    "ExecuteTime": {
     "end_time": "2019-10-29T03:01:59.426320Z",
     "start_time": "2019-10-29T03:01:59.348313Z"
    },
    "hidden": true
   },
   "outputs": [],
   "source": [
    "top_models = train.top_bayes_optim_models(bayes_optim_summary=bayes_optim_summary, num_models=1)\n",
    "top_models"
   ]
  },
  {
   "cell_type": "code",
   "execution_count": null,
   "metadata": {
    "Collapsed": "false",
    "ExecuteTime": {
     "end_time": "2019-10-28T02:18:07.237546Z",
     "start_time": "2019-10-28T02:18:01.653371Z"
    },
    "hidden": true,
    "scrolled": true
   },
   "outputs": [],
   "source": [
    "# classification panel, single model\n",
    "# estimator = \"svm.SVC\"; model_iter = 1224\n",
    "# estimator = 'ensemble.GradientBoostingClassifier'; model_iter = 590\n",
    "estimator = 'xgboost.XGBClassifier'; model_iter = 1256\n",
    "\n",
    "model = train.BayesOptimModelBuilder(\n",
    "    bayes_optim_summary=bayes_optim_summary, estimator=estimator, model_iter=model_iter\n",
    ")\n",
    "\n",
    "train.classification_panel(\n",
    "    model=model,\n",
    "    X_train=train.data,\n",
    "    y_train=train.target,\n",
    "    cm_labels=[\"Dies\", \"Survives\"],\n",
    "    n_folds=5,\n",
    "    title_scale=0.9\n",
    ")"
   ]
  },
  {
   "cell_type": "code",
   "execution_count": null,
   "metadata": {
    "Collapsed": "false",
    "ExecuteTime": {
     "end_time": "2019-10-28T02:20:39.749545Z",
     "start_time": "2019-10-28T02:19:28.468980Z"
    },
    "hidden": true
   },
   "outputs": [],
   "source": [
    "# create classification reports for training data\n",
    "for estimator, model_iters in top_models.items():\n",
    "    for model_iter in model_iters:\n",
    "        model = train.BayesOptimModelBuilder(\n",
    "            bayes_optim_summary=bayes_optim_summary,\n",
    "            estimator=estimator,\n",
    "            model_iter=model_iter,\n",
    "        )\n",
    "        train.classification_panel(\n",
    "            model=model, X_train=train.data, y_train=train.target, cm_labels=['Dies', 'Survives'], n_folds=4\n",
    "        )"
   ]
  },
  {
   "cell_type": "markdown",
   "metadata": {
    "Collapsed": "false",
    "heading_collapsed": true
   },
   "source": [
    "## Model explanability"
   ]
  },
  {
   "cell_type": "markdown",
   "metadata": {
    "Collapsed": "false",
    "hidden": true
   },
   "source": [
    "<a id = 'Feature-importance'></a>"
   ]
  },
  {
   "cell_type": "code",
   "execution_count": null,
   "metadata": {
    "Collapsed": "false",
    "ExecuteTime": {
     "end_time": "2019-10-28T02:27:11.930206Z",
     "start_time": "2019-10-28T02:27:10.646175Z"
    },
    "hidden": true
   },
   "outputs": [],
   "source": [
    "# \n",
    "# estimator = \"ensemble.ExtraTreesClassifier\"; model_iter = 145\n",
    "# estimator = \"svm.SVC\"; model_iter = 135\n",
    "estimator = \"ensemble.GradientBoostingClassifier\"; model_iter = 1385\n",
    "\n",
    "model = train.BayesOptimModelBuilder(\n",
    "    bayes_optim_summary=bayes_optim_summary, estimator=estimator, model_iter=model_iter\n",
    ")\n",
    "model.fit(train.data.values, train.target.values)"
   ]
  },
  {
   "cell_type": "markdown",
   "metadata": {
    "Collapsed": "false",
    "hidden": true
   },
   "source": [
    "##### Permutation importance"
   ]
  },
  {
   "cell_type": "code",
   "execution_count": null,
   "metadata": {
    "Collapsed": "false",
    "hidden": true
   },
   "outputs": [],
   "source": [
    "# permutation importance - how much does performance decrease when shuffling a certain feature?\n",
    "perm = PermutationImportance(model.model, random_state=1).fit(train.data, train.target)\n",
    "eli5.show_weights(perm, feature_names=train.data.columns.tolist())"
   ]
  },
  {
   "cell_type": "markdown",
   "metadata": {
    "Collapsed": "false",
    "hidden": true
   },
   "source": [
    "##### SHAP values - training data"
   ]
  },
  {
   "cell_type": "markdown",
   "metadata": {
    "Collapsed": "false",
    "hidden": true
   },
   "source": [
    "###### Force plots - single observations"
   ]
  },
  {
   "cell_type": "code",
   "execution_count": null,
   "metadata": {
    "Collapsed": "false",
    "ExecuteTime": {
     "end_time": "2019-10-28T02:30:16.624648Z",
     "start_time": "2019-10-28T02:30:14.057459Z"
    },
    "hidden": true,
    "scrolled": true
   },
   "outputs": [],
   "source": [
    "# SHAP force plots for individual observations\n",
    "for i in train.data.index[:5]:\n",
    "    train.single_shap_viz_tree(obsIx=i, model=model, data=train.data, target=train.target)"
   ]
  },
  {
   "cell_type": "markdown",
   "metadata": {
    "Collapsed": "false",
    "hidden": true
   },
   "source": [
    "###### Force plots - multiple observations"
   ]
  },
  {
   "cell_type": "code",
   "execution_count": null,
   "metadata": {
    "Collapsed": "false",
    "ExecuteTime": {
     "end_time": "2019-10-28T02:30:35.980162Z",
     "start_time": "2019-10-28T02:30:32.560906Z"
    },
    "hidden": true,
    "scrolled": true
   },
   "outputs": [],
   "source": [
    "# SHAP force plot a set of data\n",
    "visual = train.multi_shap_viz_tree(obs_ixs=train.data.index, model=model, data=train.data)\n",
    "visual"
   ]
  },
  {
   "cell_type": "markdown",
   "metadata": {
    "Collapsed": "false",
    "hidden": true
   },
   "source": [
    "###### Dependence plots"
   ]
  },
  {
   "cell_type": "code",
   "execution_count": null,
   "metadata": {
    "Collapsed": "false",
    "ExecuteTime": {
     "end_time": "2019-10-28T02:30:58.243782Z",
     "start_time": "2019-10-28T02:30:55.016538Z"
    },
    "hidden": true
   },
   "outputs": [],
   "source": [
    "# generate SHAP values for set of observations\n",
    "obs_data, _, obs_shap_values = train.multi_shap_value_tree(\n",
    "    obs_ixs=train.data.index, model=model, data=train.data\n",
    ")"
   ]
  },
  {
   "cell_type": "code",
   "execution_count": null,
   "metadata": {
    "Collapsed": "false",
    "ExecuteTime": {
     "end_time": "2019-10-28T02:38:19.278946Z",
     "start_time": "2019-10-28T02:36:51.988249Z"
    },
    "hidden": true
   },
   "outputs": [],
   "source": [
    "# SHAP dependence plot grid\n",
    "# grid_features = [\"Pclass\", \"Age\", \"Fare\", \"SibSp\",\"Parch\"]\n",
    "grid_features = ['Age*Fare','Title_2','Fare*FamilySize','Sex_male','Fare','Pclass','CabinQuarter_X']\n",
    "\n",
    "train.shap_dependence_grid(\n",
    "    obs_data=obs_data,\n",
    "    obs_shap_values=obs_shap_values,\n",
    "    grid_features=grid_features,\n",
    "    all_features=train.data.columns,\n",
    "    dot_size=35,\n",
    "    alpha=0.5,\n",
    ")"
   ]
  },
  {
   "cell_type": "code",
   "execution_count": null,
   "metadata": {
    "Collapsed": "false",
    "ExecuteTime": {
     "end_time": "2019-10-28T02:41:14.815016Z",
     "start_time": "2019-10-28T02:41:14.583998Z"
    },
    "hidden": true
   },
   "outputs": [],
   "source": [
    "# single SHAP dependence plot\n",
    "p = PrettierPlot()\n",
    "ax = p.make_canvas()\n",
    "\n",
    "train.shap_dependence_plot(\n",
    "    obs_data=obs_data,\n",
    "    obs_shap_values=obs_shap_values,\n",
    "    scatter_feature=\"Fare\",\n",
    "    color_feature=\"Sex_male\",\n",
    "    feature_names=train.data.columns,\n",
    "    dot_size=50,\n",
    "    alpha=0.5,\n",
    "    ax=ax\n",
    ")\n"
   ]
  },
  {
   "cell_type": "code",
   "execution_count": null,
   "metadata": {
    "Collapsed": "false",
    "ExecuteTime": {
     "end_time": "2019-10-28T02:42:25.004355Z",
     "start_time": "2019-10-28T02:42:22.854184Z"
    },
    "hidden": true
   },
   "outputs": [],
   "source": [
    "# SHAP dependence plots for all feature relative to an interaction feature\n",
    "feature_names = train.data.columns.tolist()\n",
    "top_shap = np.argsort(-np.sum(np.abs(obs_shap_values), 0))\n",
    "\n",
    "for top_ix in top_shap:\n",
    "    p = PrettierPlot()\n",
    "    ax = p.make_canvas()\n",
    "    \n",
    "    train.shap_dependence_plot(\n",
    "        obs_data=obs_data,\n",
    "        obs_shap_values=obs_shap_values,\n",
    "        scatter_feature=feature_names[top_ix],\n",
    "        color_feature=\"Fare\",\n",
    "        feature_names=feature_names,\n",
    "        dot_size=50,\n",
    "        alpha=0.5,\n",
    "        ax=ax,\n",
    "    )"
   ]
  },
  {
   "cell_type": "markdown",
   "metadata": {
    "Collapsed": "false",
    "hidden": true
   },
   "source": [
    "###### Summary plots"
   ]
  },
  {
   "cell_type": "code",
   "execution_count": null,
   "metadata": {
    "Collapsed": "false",
    "ExecuteTime": {
     "end_time": "2019-10-28T02:42:41.951132Z",
     "start_time": "2019-10-28T02:42:41.645104Z"
    },
    "hidden": true
   },
   "outputs": [],
   "source": [
    "# SHAP summary plot\n",
    "train.shap_summary_plot(\n",
    "        obs_data=obs_data,\n",
    "        obs_shap_values=obs_shap_values,\n",
    "        feature_names=train.data.columns,\n",
    "    )"
   ]
  },
  {
   "cell_type": "markdown",
   "metadata": {
    "Collapsed": "false",
    "hidden": true
   },
   "source": [
    "##### SHAP values - validation data"
   ]
  },
  {
   "cell_type": "markdown",
   "metadata": {
    "Collapsed": "false",
    "hidden": true
   },
   "source": [
    "###### Force plots - single observations"
   ]
  },
  {
   "cell_type": "code",
   "execution_count": null,
   "metadata": {
    "Collapsed": "false",
    "hidden": true,
    "scrolled": true
   },
   "outputs": [],
   "source": [
    "# SHAP force plots for individual observations\n",
    "for i in valid.data.index[:2]:\n",
    "    valid.single_shap_viz_tree(obsIx=i, model=model, data=valid.data)"
   ]
  },
  {
   "cell_type": "markdown",
   "metadata": {
    "Collapsed": "false",
    "hidden": true
   },
   "source": [
    "###### Force plots - multiple observations"
   ]
  },
  {
   "cell_type": "code",
   "execution_count": null,
   "metadata": {
    "Collapsed": "false",
    "hidden": true,
    "scrolled": true
   },
   "outputs": [],
   "source": [
    "# SHAP force plot a set of data\n",
    "visual = valid.multi_shap_viz_tree(obs_ixs=valid.data.index, model=model, data=valid.data)\n",
    "visual"
   ]
  },
  {
   "cell_type": "markdown",
   "metadata": {
    "Collapsed": "false",
    "hidden": true
   },
   "source": [
    "###### Dependence plots"
   ]
  },
  {
   "cell_type": "code",
   "execution_count": null,
   "metadata": {
    "Collapsed": "false",
    "hidden": true
   },
   "outputs": [],
   "source": [
    "# generate SHAP values for set of observations\n",
    "obs_data, _, obs_shap_values = valid.multi_shap_value_tree(\n",
    "    obs_ixs=valid.data.index, model=model, data=valid.data\n",
    ")"
   ]
  },
  {
   "cell_type": "code",
   "execution_count": null,
   "metadata": {
    "Collapsed": "false",
    "hidden": true
   },
   "outputs": [],
   "source": [
    "# SHAP dependence plot grid\n",
    "grid_features = [\"Pclass\", \"Age\", \"Fare\", \"SibSp\",\"Parch\"]\n",
    "\n",
    "valid.shap_dependence_grid(\n",
    "    obs_data=obs_data,\n",
    "    obs_shap_values=obs_shap_values,\n",
    "    grid_features=grid_features,\n",
    "    all_features=valid.data.columns,\n",
    "    dot_size=35,\n",
    "    alpha=0.5,\n",
    ")"
   ]
  },
  {
   "cell_type": "code",
   "execution_count": null,
   "metadata": {
    "Collapsed": "false",
    "hidden": true
   },
   "outputs": [],
   "source": [
    "# single SHAP dependence plot\n",
    "p = PrettierPlot()\n",
    "ax = p.make_canvas()\n",
    "\n",
    "valid.shap_dependence_plot(\n",
    "    obs_data=obs_data,\n",
    "    obs_shap_values=obs_shap_values,\n",
    "    scatter_feature=\"Age\",\n",
    "    color_feature=\"Parch\",\n",
    "    feature_names=valid.data.columns,\n",
    "    dot_size=50,\n",
    "    alpha=0.5,\n",
    "    ax=ax\n",
    ")\n"
   ]
  },
  {
   "cell_type": "code",
   "execution_count": null,
   "metadata": {
    "Collapsed": "false",
    "hidden": true
   },
   "outputs": [],
   "source": [
    "# SHAP dependence plots for all feature relative to an interaction feature\n",
    "feature_names = valid.data.columns.tolist()\n",
    "top_shap = np.argsort(-np.sum(np.abs(obs_shap_values), 0))\n",
    "\n",
    "for top_ix in top_shap:\n",
    "    p = PrettierPlot()\n",
    "    ax = p.make_canvas()\n",
    "    \n",
    "    valid.shap_dependence_plot(\n",
    "        obs_data=obs_data,\n",
    "        obs_shap_values=obs_shap_values,\n",
    "        scatter_feature=feature_names[top_ix],\n",
    "        color_feature=\"Age\",\n",
    "        feature_names=feature_names,\n",
    "        dot_size=50,\n",
    "        alpha=0.5,\n",
    "        ax=ax,\n",
    "    )"
   ]
  },
  {
   "cell_type": "markdown",
   "metadata": {
    "Collapsed": "false",
    "hidden": true
   },
   "source": [
    "###### Summary plots"
   ]
  },
  {
   "cell_type": "code",
   "execution_count": null,
   "metadata": {
    "Collapsed": "false",
    "hidden": true
   },
   "outputs": [],
   "source": [
    "# SHAP summary plot\n",
    "valid.shap_summary_plot(\n",
    "        obs_data=obs_data,\n",
    "        obs_shap_values=obs_shap_values,\n",
    "        feature_names=valid.data.columns,\n",
    "    )"
   ]
  },
  {
   "cell_type": "markdown",
   "metadata": {
    "Collapsed": "false",
    "heading_collapsed": true
   },
   "source": [
    "## Submission - standard models"
   ]
  },
  {
   "cell_type": "markdown",
   "metadata": {
    "Collapsed": "false",
    "hidden": true
   },
   "source": [
    "<a id = 'Submission-standard-models'></a>"
   ]
  },
  {
   "cell_type": "code",
   "execution_count": null,
   "metadata": {
    "Collapsed": "false",
    "hidden": true
   },
   "outputs": [],
   "source": [
    "{'lightgbm.LGBMClassifier': [778],\n",
    " 'linear_model.LogisticRegression': [730],\n",
    " 'xgboost.XGBClassifier': [371],\n",
    " 'ensemble.RandomForestClassifier': [712],\n",
    " 'ensemble.GradientBoostingClassifier': [965],\n",
    " 'ensemble.AdaBoostClassifier': [512],\n",
    " 'ensemble.ExtraTreesClassifier': [244],\n",
    " 'svm.SVC': [551],\n",
    " 'neighbors.KNeighborsClassifier': [576]}"
   ]
  },
  {
   "cell_type": "code",
   "execution_count": null,
   "metadata": {
    "Collapsed": "false",
    "ExecuteTime": {
     "end_time": "2019-10-29T03:05:31.560264Z",
     "start_time": "2019-10-29T03:05:31.373250Z"
    },
    "hidden": true
   },
   "outputs": [],
   "source": [
    "## standard model fit and predict\n",
    "# select estimator and iteration\n",
    "# estimator = \"lightgbm.LGBMClassifier\"; model_iter = 778  #147 survived, 0.775\n",
    "# estimator = \"xgboost.XGBClassifier\"; model_iter = 371  #142 survived, 0.765\n",
    "# estimator = \"ensemble.RandomForestClassifier\"; model_iter = 712  #144 survived, 0.7655\n",
    "# estimator = \"ensemble.GradientBoostingClassifier\"; model_iter = 965  #144 survived, 0.7561\n",
    "estimator = \"svm.SVC\"; model_iter = 551  # survived, \n",
    "\n",
    "# extract params and instantiate model\n",
    "model = train.BayesOptimModelBuilder(\n",
    "    bayes_optim_summary=bayes_optim_summary, estimator=estimator, model_iter=model_iter\n",
    ")\n",
    "model.fit(train.data.values, train.target.values)\n",
    "\n",
    "# fit model and make predictions\n",
    "y_pred = model.predict(valid.data.values)\n",
    "print(sum(y_pred))"
   ]
  },
  {
   "cell_type": "code",
   "execution_count": null,
   "metadata": {
    "Collapsed": "false",
    "ExecuteTime": {
     "end_time": "2019-10-29T03:05:33.123532Z",
     "start_time": "2019-10-29T03:05:33.112531Z"
    },
    "hidden": true
   },
   "outputs": [],
   "source": [
    "# generate prediction submission file\n",
    "submit = pd.DataFrame({\"PassengerId\": df_valid.PassengerId, \"Survived\": y_pred})\n",
    "submit.to_csv(\"submission.csv\", index=False)"
   ]
  },
  {
   "cell_type": "markdown",
   "metadata": {
    "Collapsed": "false",
    "heading_collapsed": true
   },
   "source": [
    "# Stacking"
   ]
  },
  {
   "cell_type": "markdown",
   "metadata": {
    "Collapsed": "false",
    "hidden": true
   },
   "source": [
    "<a id = 'Stacking'></a>"
   ]
  },
  {
   "cell_type": "markdown",
   "metadata": {
    "Collapsed": "false",
    "hidden": true
   },
   "source": [
    "## Primary models"
   ]
  },
  {
   "cell_type": "markdown",
   "metadata": {
    "Collapsed": "false",
    "hidden": true
   },
   "source": [
    "<a id = 'Primary-models'></a>"
   ]
  },
  {
   "cell_type": "code",
   "execution_count": null,
   "metadata": {
    "Collapsed": "false",
    "hidden": true
   },
   "outputs": [],
   "source": [
    "{'lightgbm.LGBMClassifier': [778],\n",
    " 'linear_model.LogisticRegression': [730],\n",
    " 'xgboost.XGBClassifier': [371],\n",
    " 'ensemble.RandomForestClassifier': [712],\n",
    " 'ensemble.GradientBoostingClassifier': [965],\n",
    " 'ensemble.AdaBoostClassifier': [512],\n",
    " 'ensemble.ExtraTreesClassifier': [244],\n",
    " 'svm.SVC': [551],\n",
    " 'neighbors.KNeighborsClassifier': [576]}"
   ]
  },
  {
   "cell_type": "code",
   "execution_count": null,
   "metadata": {
    "Collapsed": "false",
    "ExecuteTime": {
     "end_time": "2019-10-29T03:19:09.776612Z",
     "start_time": "2019-10-29T03:19:09.746614Z"
    },
    "hidden": true
   },
   "outputs": [],
   "source": [
    "lgb = train.BayesOptimModelBuilder(bayes_optim_summary=bayes_optim_summary, estimator=\"lightgbm.LGBMClassifier\", model_iter=778)\n",
    "lr = train.BayesOptimModelBuilder(bayes_optim_summary=bayes_optim_summary, estimator=\"linear_model.LogisticRegression\", model_iter=730)\n",
    "xgb = train.BayesOptimModelBuilder(bayes_optim_summary=bayes_optim_summary, estimator=\"xgboost.XGBClassifier\", model_iter=371)\n",
    "rf = train.BayesOptimModelBuilder(bayes_optim_summary=bayes_optim_summary, estimator=\"ensemble.RandomForestClassifier\", model_iter=712)\n",
    "gb = train.BayesOptimModelBuilder(bayes_optim_summary=bayes_optim_summary, estimator=\"ensemble.GradientBoostingClassifier\", model_iter=965)\n",
    "ada = train.BayesOptimModelBuilder(bayes_optim_summary=bayes_optim_summary, estimator=\"ensemble.AdaBoostClassifier\", model_iter=512)\n",
    "ext = train.BayesOptimModelBuilder(bayes_optim_summary=bayes_optim_summary, estimator=\"ensemble.ExtraTreesClassifier\", model_iter=244)\n",
    "svc = train.BayesOptimModelBuilder(bayes_optim_summary=bayes_optim_summary, estimator=\"svm.SVC\", model_iter=551)\n",
    "kn = train.BayesOptimModelBuilder(bayes_optim_summary=bayes_optim_summary, estimator=\"neighbors.KNeighborsClassifier\", model_iter=576)"
   ]
  },
  {
   "cell_type": "code",
   "execution_count": null,
   "metadata": {
    "Collapsed": "false",
    "ExecuteTime": {
     "end_time": "2019-10-29T03:21:24.472308Z",
     "start_time": "2019-10-29T03:20:42.741085Z"
    },
    "hidden": true,
    "scrolled": true
   },
   "outputs": [],
   "source": [
    "from vecstack import StackingTransformer\n",
    "import sklearn.metrics as metrics\n",
    "# Get your data\n",
    "\n",
    "# Initialize 1st level estimators\n",
    "estimators = [('lgb', lgb.model),\n",
    "              ('lr',lr.model),\n",
    "              ('xgb',xgb.model),\n",
    "              ('rf',rf.model),\n",
    "              ('gb',gb.model),\n",
    "              ('ada',ada.model),\n",
    "              ('ext',ext.model),\n",
    "              ('svc',svc.model),\n",
    "              ('kn',kn.model),\n",
    "             ]\n",
    "              \n",
    "# Initialize StackingTransformer\n",
    "stack = StackingTransformer(\n",
    "    estimators,\n",
    "    regression=False,\n",
    "    metric=metrics.accuracy_score,\n",
    "    verbose=2\n",
    ")\n",
    "\n",
    "# Fit\n",
    "stack = stack.fit(train.data, train.target)\n",
    "\n",
    "# Get your stacked features\n",
    "oof_train = stack.transform(train.data)\n",
    "oof_valid = stack.transform(valid.data)\n",
    "\n",
    "# Use 2nd level estimator with stacked features"
   ]
  },
  {
   "cell_type": "code",
   "execution_count": null,
   "metadata": {
    "Collapsed": "false",
    "ExecuteTime": {
     "end_time": "2019-10-28T03:12:15.305201Z",
     "start_time": "2019-10-28T03:05:52.429813Z"
    },
    "hidden": true
   },
   "outputs": [],
   "source": [
    "# get out-of-fold predictions\n",
    "oof_train, oof_valid, columns = train.model_stacker(\n",
    "    models=top_models,\n",
    "    bayes_optim_summary=bayes_optim_summary,\n",
    "    X_train=train.data.values,\n",
    "    y_train=train.target.values,\n",
    "    X_valid=valid.data.values,\n",
    "    n_folds=10,\n",
    "    n_jobs=10,\n",
    ")"
   ]
  },
  {
   "cell_type": "code",
   "execution_count": null,
   "metadata": {
    "Collapsed": "false",
    "ExecuteTime": {
     "end_time": "2019-10-28T03:28:58.433646Z",
     "start_time": "2019-10-28T03:28:51.398069Z"
    },
    "hidden": true,
    "scrolled": true
   },
   "outputs": [],
   "source": [
    "# view correlations of predictions\n",
    "p = PrettierPlot()\n",
    "ax = p.make_canvas()\n",
    "p.corr_heatmap(\n",
    "    df=pd.DataFrame(oof_train, columns=columns), annot=True, ax=ax, vmin=0\n",
    ")\n",
    "plt.show()"
   ]
  },
  {
   "cell_type": "markdown",
   "metadata": {
    "Collapsed": "false",
    "hidden": true
   },
   "source": [
    "## Meta model"
   ]
  },
  {
   "cell_type": "markdown",
   "metadata": {
    "Collapsed": "false",
    "hidden": true
   },
   "source": [
    "<a id = 'Meta-model'></a>"
   ]
  },
  {
   "cell_type": "code",
   "execution_count": null,
   "metadata": {
    "Collapsed": "false",
    "ExecuteTime": {
     "end_time": "2019-10-29T03:22:06.292547Z",
     "start_time": "2019-10-29T03:22:06.264544Z"
    },
    "code_folding": [
     1
    ],
    "hidden": true
   },
   "outputs": [],
   "source": [
    "# parameter space\n",
    "all_space = {\n",
    "    \"lightgbm.LGBMClassifier\": {\n",
    "        \"class_weight\": hp.choice(\"class_weight\", [None]),\n",
    "        \"colsample_bytree\": hp.uniform(\"colsample_bytree\", 0.4, 0.7),\n",
    "        \"boosting_type\": hp.choice(\"boosting_type\", [\"dart\"]),\n",
    "        \"subsample\": hp.uniform(\"subsample\", 0.5, 1),\n",
    "        \"learning_rate\": hp.uniform(\"learning_rate\", 0.15, 0.25),\n",
    "        \"max_depth\": hp.choice(\"max_depth\", np.arange(4, 20, dtype=int)),\n",
    "        \"min_child_samples\": hp.quniform(\"min_child_samples\", 50, 150, 5),\n",
    "        \"n_estimators\": hp.choice(\"n_estimators\", np.arange(100, 4000, 10, dtype=int)),\n",
    "        \"num_leaves\": hp.quniform(\"num_leaves\", 30, 70, 1),\n",
    "        \"reg_alpha\": hp.uniform(\"reg_alpha\", 0.75, 1.25),\n",
    "        \"reg_lambda\": hp.uniform(\"reg_lambda\", 0.0, 1.0),\n",
    "        \"subsample_for_bin\": hp.quniform(\"subsample_for_bin\", 100000, 350000, 20000),\n",
    "    },\n",
    "    \"xgboost.XGBClassifier\": {\n",
    "        \"colsample_bytree\": hp.uniform(\"colsample_bytree\", 0.4, 0.7),\n",
    "        \"gamma\": hp.quniform(\"gamma\", 0.0, 10, 0.05),\n",
    "        \"learning_rate\": hp.quniform(\"learning_rate\", 0.01, 0.2, 0.01),\n",
    "        \"max_depth\": hp.choice(\"max_depth\", np.arange(2, 15, dtype=int)),\n",
    "        \"min_child_weight\": hp.quniform(\"min_child_weight\", 2.5, 7.5, 1),\n",
    "        \"n_estimators\": hp.choice(\"n_estimators\", np.arange(100, 4000, 10, dtype=int)),\n",
    "        \"subsample\": hp.uniform(\"subsample\", 0.4, 0.7),\n",
    "    },\n",
    "    \"ensemble.RandomForestClassifier\": {\n",
    "        \"bootstrap\": hp.choice(\"bootstrap\", [True, False]),\n",
    "        \"max_depth\": hp.choice(\"max_depth\", np.arange(2, 10, dtype=int)),\n",
    "        \"n_estimators\": hp.choice(\"n_estimators\", np.arange(100, 8000, 10, dtype=int)),\n",
    "        \"max_features\": hp.choice(\"max_features\", [\"sqrt\"]),\n",
    "        \"min_samples_split\": hp.choice(\n",
    "            \"min_samples_split\", np.arange(15, 25, dtype=int)\n",
    "        ),\n",
    "        \"min_samples_leaf\": hp.choice(\"min_samples_leaf\", np.arange(2, 20, dtype=int)),\n",
    "    },\n",
    "    \"ensemble.GradientBoostingClassifier\": {\n",
    "        \"n_estimators\": hp.choice(\"n_estimators\", np.arange(100, 4000, 10, dtype=int)),\n",
    "        \"max_depth\": hp.choice(\"max_depth\", np.arange(2, 11, dtype=int)),\n",
    "        \"max_features\": hp.choice(\"max_features\", [\"sqrt\"]),\n",
    "        \"learning_rate\": hp.quniform(\"learning_rate\", 0.01, 0.09, 0.01),\n",
    "        \"loss\": hp.choice(\"loss\", [\"deviance\", \"exponential\"]),\n",
    "        \"min_samples_split\": hp.choice(\n",
    "            \"min_samples_split\", np.arange(2, 40, dtype=int)\n",
    "        ),\n",
    "        \"min_samples_leaf\": hp.choice(\"min_samples_leaf\", np.arange(2, 40, dtype=int)),\n",
    "    },\n",
    "    \"svm.SVC\": {\n",
    "        \"C\": hp.uniform(\"C\", 0.00000001, 15),\n",
    "        \"decision_function_shape\": hp.choice(\"decision_function_shape\", [\"ovr\", \"ovo\"]),\n",
    "        \"gamma\": hp.uniform(\"gamma\", 0.00000001, 1.5),\n",
    "    },\n",
    "}"
   ]
  },
  {
   "cell_type": "code",
   "execution_count": null,
   "metadata": {
    "Collapsed": "false",
    "ExecuteTime": {
     "end_time": "2019-10-29T03:22:27.745685Z",
     "start_time": "2019-10-29T03:22:27.730686Z"
    },
    "hidden": true
   },
   "outputs": [],
   "source": [
    "# execute bayesian optimization grid search\n",
    "train.exec_bayes_optim_search(\n",
    "    all_space=all_space,\n",
    "    data=oof_train,\n",
    "    target=train.target,\n",
    "    scoring=\"accuracy\",\n",
    "    n_folds=8,\n",
    "    n_jobs=8,\n",
    "    iters=1000,\n",
    "    verbose=0,\n",
    ")"
   ]
  },
  {
   "cell_type": "code",
   "execution_count": null,
   "metadata": {
    "Collapsed": "false",
    "ExecuteTime": {
     "end_time": "2019-10-29T23:19:42.211680Z",
     "start_time": "2019-10-29T23:19:42.208679Z"
    },
    "hidden": true
   },
   "outputs": [],
   "source": [
    "df = pd.DataFrame()"
   ]
  },
  {
   "cell_type": "code",
   "execution_count": null,
   "metadata": {
    "Collapsed": "false",
    "ExecuteTime": {
     "end_time": "2019-10-29T23:19:46.259605Z",
     "start_time": "2019-10-29T23:19:46.255606Z"
    },
    "hidden": true
   },
   "outputs": [],
   "source": [
    "type(df)"
   ]
  },
  {
   "cell_type": "code",
   "execution_count": null,
   "metadata": {
    "Collapsed": "false",
    "hidden": true
   },
   "outputs": [],
   "source": [
    "# read scores summary table\n",
    "bayes_optim_summary_meta = pd.read_csv(\"{}_hyperopt_meta_{}.csv\".format(rundate, analysis))\n",
    "bayes_optim_summary_meta[:5]"
   ]
  },
  {
   "cell_type": "code",
   "execution_count": null,
   "metadata": {
    "Collapsed": "false",
    "hidden": true
   },
   "outputs": [],
   "source": [
    "# model loss plot\n",
    "for estimator in np.unique(bayes_optim_summary_meta[\"estimator\"]):\n",
    "    train.model_loss_plot(bayes_optim_summary=bayes_optim_summary_meta, estimator=estimator)"
   ]
  },
  {
   "cell_type": "code",
   "execution_count": null,
   "metadata": {
    "Collapsed": "false",
    "hidden": true,
    "scrolled": true
   },
   "outputs": [],
   "source": [
    "# estimator parameter plots\n",
    "for estimator in np.unique(bayes_optim_summary_meta[\"estimator\"]):\n",
    "    train.modelParamPlot(\n",
    "        bayes_optim_summary=bayes_optim_summary_meta,\n",
    "        estimator=estimator,\n",
    "        all_space=all_space,\n",
    "        n_iter=100,\n",
    "        chart_scale=15,\n",
    "    )"
   ]
  },
  {
   "cell_type": "markdown",
   "metadata": {
    "Collapsed": "false",
    "hidden": true
   },
   "source": [
    "## Model performance evaluation - stacked models"
   ]
  },
  {
   "cell_type": "markdown",
   "metadata": {
    "Collapsed": "false",
    "hidden": true
   },
   "source": [
    "<a id = 'Model-performance-evaluation-stacked-models'></a>"
   ]
  },
  {
   "cell_type": "code",
   "execution_count": null,
   "metadata": {
    "Collapsed": "false",
    "hidden": true
   },
   "outputs": [],
   "source": [
    "top_models = train.top_bayes_optim_models(\n",
    "    bayes_optim_summary=bayes_optim_summary_meta, num_models=1\n",
    ")\n",
    "top_models"
   ]
  },
  {
   "cell_type": "code",
   "execution_count": null,
   "metadata": {
    "Collapsed": "false",
    "hidden": true
   },
   "outputs": [],
   "source": [
    "# classification panel, single model\n",
    "estimator = \"svm.SVC\"; model_iter = 135\n",
    "# estimator = 'ensemble.GradientBoostingClassifier'; model_iter = 590\n",
    "# estimator = 'xgboost.XGBClassifier'; model_iter = 380\n",
    "\n",
    "model = train.BayesOptimModelBuilder(\n",
    "    bayes_optim_summary=bayes_optim_summary_meta, estimator=estimator, model_iter=model_iter\n",
    ")\n",
    "\n",
    "train.classification_panel(\n",
    "    model=model, X_train=oof_train, y_train=train.target, labels=[0, 1], n_folds=4\n",
    ")"
   ]
  },
  {
   "cell_type": "code",
   "execution_count": null,
   "metadata": {
    "Collapsed": "false",
    "hidden": true
   },
   "outputs": [],
   "source": [
    "# create classification reports for training data\n",
    "for estimator, model_iters in top_models.items():\n",
    "    for model_iter in model_iters:\n",
    "        model = train.BayesOptimModelBuilder(\n",
    "            bayes_optim_summary=bayes_optim_summary_meta,\n",
    "            estimator=estimator,\n",
    "            model_iter=model_iter,\n",
    "        )\n",
    "        train.classification_panel(\n",
    "            model=model, X_train=oof_train, y_train=train.target, labels=[0, 1], n_folds=4\n",
    "        )"
   ]
  },
  {
   "cell_type": "markdown",
   "metadata": {
    "Collapsed": "false",
    "hidden": true
   },
   "source": [
    "## Submission - stacked models"
   ]
  },
  {
   "cell_type": "markdown",
   "metadata": {
    "Collapsed": "false",
    "hidden": true
   },
   "source": [
    "<a id = 'Submission-stacked-models'></a>"
   ]
  },
  {
   "cell_type": "code",
   "execution_count": null,
   "metadata": {
    "Collapsed": "false",
    "hidden": true
   },
   "outputs": [],
   "source": [
    "# best second level learning model\n",
    "# estimator = \"lightgbm.LGBMClassifier\"; model_iter = 876 #0.75119\n",
    "# estimator = \"xgboost.XGBClassifier\"; model_iter = 821, #0.779\n",
    "# estimator = \"ensemble.RandomForestClassifier\"; model_iter = 82 \n",
    "# estimator = \"ensemble.GradientBoostingClassifier\"; model_iter = 673 #0.77511\n",
    "estimator = \"svm.SVC\"; model_iter = 538 # 0.77511\n",
    "\n",
    "# extract params and instantiate model\n",
    "model = train.BayesOptimModelBuilder(\n",
    "    bayes_optim_summary=bayes_optim_summary_meta, estimator=estimator, model_iter=model_iter\n",
    ")\n",
    "\n",
    "model.fit(oof_train, train.target.values)\n",
    "y_pred = model.predict(oof_valid)\n",
    "print(sum(y_pred))"
   ]
  },
  {
   "cell_type": "code",
   "execution_count": null,
   "metadata": {
    "Collapsed": "false",
    "hidden": true
   },
   "outputs": [],
   "source": [
    "# generate prediction submission file\n",
    "submit = pd.DataFrame({\"PassengerId\": df_valid.PassengerId, \"Survived\": y_pred})\n",
    "submit.to_csv(\"submission.csv\", index=False)"
   ]
  }
 ],
 "metadata": {
  "kernelspec": {
   "display_name": "Python 3",
   "language": "python",
   "name": "python3"
  },
  "language_info": {
   "codemirror_mode": {
    "name": "ipython",
    "version": 3
   },
   "file_extension": ".py",
   "mimetype": "text/x-python",
   "name": "python",
   "nbconvert_exporter": "python",
   "pygments_lexer": "ipython3",
   "version": "3.7.5"
  },
  "toc": {
   "base_numbering": 1,
   "nav_menu": {},
   "number_sections": true,
   "sideBar": true,
   "skip_h1_title": false,
   "title_cell": "Table of Contents",
   "title_sidebar": "Contents",
   "toc_cell": false,
   "toc_position": {},
   "toc_section_display": true,
   "toc_window_display": false
  }
 },
 "nbformat": 4,
 "nbformat_minor": 4
}
